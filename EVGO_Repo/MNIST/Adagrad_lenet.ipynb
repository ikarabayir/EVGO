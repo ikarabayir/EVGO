{
 "cells": [
  {
   "cell_type": "code",
   "execution_count": 1,
   "metadata": {},
   "outputs": [
    {
     "name": "stderr",
     "output_type": "stream",
     "text": [
      "Using TensorFlow backend.\n"
     ]
    }
   ],
   "source": [
    "\n",
    "from __future__ import division\n",
    "from __future__ import print_function\n",
    "\n",
    "seed_value= 0\n",
    "\n",
    "import os\n",
    "os.environ['PYTHONHASHSEED']=str(seed_value)\n",
    "import random\n",
    "random.seed(seed_value)\n",
    "import numpy as np\n",
    "np.random.seed(seed_value)\n",
    "import tensorflow as tf\n",
    "tf.set_random_seed(seed_value)\n",
    "from keras import backend as K\n",
    "import os\n",
    "import keras\n",
    "import pickle\n",
    "import os.path\n",
    "import matplotlib.pyplot as plt\n",
    "\n",
    "import keras\n",
    "from keras.datasets import mnist\n",
    "from keras.models import Sequential, Model\n",
    "from keras.layers import Dense, Dropout, Flatten, Input\n",
    "from keras.layers import Conv2D, MaxPooling2D, BatchNormalization, AveragePooling2D\n",
    "from keras.optimizers import Adam\n",
    "from keras.callbacks import ModelCheckpoint\n",
    "from keras.callbacks import LambdaCallback\n",
    "from keras.callbacks import TensorBoard\n",
    "from sklearn.preprocessing import LabelBinarizer\n",
    "from keras import initializers\n",
    "import keras.backend as K\n",
    "from keras.preprocessing.image import ImageDataGenerator\n",
    "from sklearn.metrics import accuracy_score\n",
    "import time\n",
    "from tqdm import tqdm\n",
    "\n",
    "import six.moves.cPickle as pickle\n",
    "import gzip\n",
    "import os\n",
    "import sys\n",
    "import timeit"
   ]
  },
  {
   "cell_type": "code",
   "execution_count": 2,
   "metadata": {},
   "outputs": [],
   "source": [
    "dataset='mnist.pkl.gz'\n",
    "batch_size = 128\n",
    "num_classes = 10\n",
    "epochs = 100\n",
    "lr=0.001"
   ]
  },
  {
   "cell_type": "code",
   "execution_count": 3,
   "metadata": {},
   "outputs": [
    {
     "name": "stdout",
     "output_type": "stream",
     "text": [
      "... loading data\n"
     ]
    }
   ],
   "source": [
    "print('... loading data')\n",
    "\n",
    "# Load the dataset\n",
    "with gzip.open(dataset, 'rb') as f:\n",
    "    try:\n",
    "        train_set, valid_set, test_set = pickle.load(f, encoding='latin1')\n",
    "    except:\n",
    "        train_set, valid_set, test_set = pickle.load(f)"
   ]
  },
  {
   "cell_type": "code",
   "execution_count": 4,
   "metadata": {},
   "outputs": [
    {
     "name": "stdout",
     "output_type": "stream",
     "text": [
      "x_train shape: (50000, 28, 28, 1)\n",
      "50000 train samples\n",
      "10000 validation samples\n",
      "10000 test samples\n"
     ]
    }
   ],
   "source": [
    "(x_train, y_train) = train_set\n",
    "(x_test, y_test) = test_set\n",
    "(x_val, y_val) = valid_set\n",
    "img_rows, img_cols = 28, 28\n",
    "\n",
    "if K.image_data_format() == 'channels_first':\n",
    "    x_train = x_train.reshape(x_train.shape[0], 1, img_rows, img_cols)\n",
    "    x_test = x_test.reshape(x_test.shape[0], 1, img_rows, img_cols)\n",
    "    x_val = x_val.reshape(x_val.shape[0], 1, img_rows, img_cols)\n",
    "    input_shape = (1, img_rows, img_cols)\n",
    "else:\n",
    "    x_train = x_train.reshape(x_train.shape[0], img_rows, img_cols, 1)\n",
    "    x_test = x_test.reshape(x_test.shape[0], img_rows, img_cols, 1)\n",
    "    x_val = x_val.reshape(x_val.shape[0], img_rows, img_cols, 1)\n",
    "    input_shape = (img_rows, img_cols, 1)\n",
    "\n",
    "x_train = x_train.astype('float32')\n",
    "x_val = x_val.astype('float32')\n",
    "x_test = x_test.astype('float32')\n",
    "\n",
    "print('x_train shape:', x_train.shape)\n",
    "print(x_train.shape[0], 'train samples')\n",
    "print(x_val.shape[0], 'validation samples')\n",
    "print(x_test.shape[0], 'test samples')\n",
    "\n",
    "# convert class vectors to binary class matrices\n",
    "y_train = keras.utils.to_categorical(y_train, num_classes)\n",
    "y_val = keras.utils.to_categorical(y_val, num_classes)\n",
    "y_test = keras.utils.to_categorical(y_test, num_classes)"
   ]
  },
  {
   "cell_type": "code",
   "execution_count": 5,
   "metadata": {},
   "outputs": [
    {
     "data": {
      "text/plain": [
       "((50000, 28, 28, 1),\n",
       " (50000, 10),\n",
       " (10000, 28, 28, 1),\n",
       " (10000, 10),\n",
       " (10000, 28, 28, 1),\n",
       " (10000, 10))"
      ]
     },
     "execution_count": 5,
     "metadata": {},
     "output_type": "execute_result"
    }
   ],
   "source": [
    "x_train.shape, y_train.shape, x_test.shape, y_test.shape, x_val.shape, y_val.shape"
   ]
  },
  {
   "cell_type": "code",
   "execution_count": 6,
   "metadata": {},
   "outputs": [
    {
     "data": {
      "text/plain": [
       "((50000, 32, 32, 1),\n",
       " (50000, 10),\n",
       " (10000, 32, 32, 1),\n",
       " (10000, 10),\n",
       " (10000, 32, 32, 1),\n",
       " (10000, 10))"
      ]
     },
     "execution_count": 6,
     "metadata": {},
     "output_type": "execute_result"
    }
   ],
   "source": [
    "x_train = np.pad(x_train, ((0,0),(2,2),(2,2),(0,0)), 'constant')\n",
    "x_test = np.pad(x_test, ((0,0),(2,2),(2,2),(0,0)), 'constant')\n",
    "x_val = np.pad(x_val, ((0,0),(2,2),(2,2),(0,0)), 'constant')\n",
    "x_train.shape, y_train.shape, x_test.shape, y_test.shape, x_val.shape, y_val.shape"
   ]
  },
  {
   "cell_type": "code",
   "execution_count": 7,
   "metadata": {},
   "outputs": [],
   "source": [
    "input_shape = (32, 32, 1)"
   ]
  },
  {
   "cell_type": "code",
   "execution_count": 8,
   "metadata": {},
   "outputs": [],
   "source": [
    "def build_model(setseed):\n",
    "    \"\"\"\n",
    "    Builds test Keras model for LeNet MNIST\n",
    "    :param loss (str): Type of loss - must be one of Keras accepted keras losses\n",
    "    :return: Keras dense model of predefined structure\n",
    "    \"\"\"\n",
    "    input = Input(shape=input_shape)\n",
    "    conv1 = Conv2D(6, (3,3), activation='relu', kernel_initializer=initializers.lecun_uniform(seed = setseed))(input)\n",
    "    avg1 = AveragePooling2D()(conv1)\n",
    "    conv2 = Conv2D(16, (3,3), activation='relu', kernel_initializer=initializers.lecun_uniform(seed = setseed))(avg1)\n",
    "    avg2 = AveragePooling2D()(conv2)\n",
    "    flat= Flatten()(avg2)\n",
    "    dens1=Dense(units=120, activation='relu')(flat)\n",
    "    dens2=Dense(units=84, activation='relu')(dens1)\n",
    "    probs=Dense(num_classes, activation='softmax')(dens2)\n",
    "    \n",
    "    model = Model(input=input, output=probs)\n",
    "    model.compile(optimizer='sgd', loss='categorical_crossentropy', metrics = ['accuracy'])\n",
    "\n",
    "    return model\n",
    "\n"
   ]
  },
  {
   "cell_type": "code",
   "execution_count": 9,
   "metadata": {},
   "outputs": [
    {
     "name": "stderr",
     "output_type": "stream",
     "text": [
      "C:\\Users\\ikarabayir\\AppData\\Local\\Continuum\\anaconda2\\envs\\tf\\lib\\site-packages\\ipykernel_launcher.py:17: UserWarning: Update your `Model` call to the Keras 2 API: `Model(inputs=Tensor(\"in..., outputs=Tensor(\"de...)`\n"
     ]
    }
   ],
   "source": [
    "all_model = [None,None,None]\n",
    "losses = [None,None,None]\n",
    "\n",
    "prediction=[]\n",
    "\n",
    "all_score =[0,0,0]\n",
    "gr=[]\n",
    "wr=[]\n",
    "xwr=[]\n",
    "\n",
    "for i in range(3):\n",
    "    np.random.seed(25+i)\n",
    "    model = build_model(i+2)\n",
    "    all_model[i]=model\n",
    "    \n",
    "for i in range(3):    \n",
    "    weights = all_model[i].trainable_weights # weight tensors\n",
    "    weights = [weight for weight in weights] # filter down weights tensors to only ones which are trainable\n",
    "    gradients = all_model[i].optimizer.get_gradients(all_model[i].total_loss, weights) # gradient tensors\n",
    "    gr.append(gradients)\n",
    "    wr.append(weights)\n",
    "    xweights = all_model[i].non_trainable_weights # weight tensors\n",
    "    xweights = [weight for weight in xweights] # filter down weights tensors to only ones which are trainable\n",
    "    xwr.append(xweights)\n",
    "\n",
    "    losses[i]=all_model[i].total_loss\n",
    "    prediction.append(all_model[i].output)"
   ]
  },
  {
   "cell_type": "code",
   "execution_count": 10,
   "metadata": {},
   "outputs": [
    {
     "name": "stdout",
     "output_type": "stream",
     "text": [
      "_________________________________________________________________\n",
      "Layer (type)                 Output Shape              Param #   \n",
      "=================================================================\n",
      "input_3 (InputLayer)         (None, 32, 32, 1)         0         \n",
      "_________________________________________________________________\n",
      "conv2d_5 (Conv2D)            (None, 30, 30, 6)         60        \n",
      "_________________________________________________________________\n",
      "average_pooling2d_5 (Average (None, 15, 15, 6)         0         \n",
      "_________________________________________________________________\n",
      "conv2d_6 (Conv2D)            (None, 13, 13, 16)        880       \n",
      "_________________________________________________________________\n",
      "average_pooling2d_6 (Average (None, 6, 6, 16)          0         \n",
      "_________________________________________________________________\n",
      "flatten_3 (Flatten)          (None, 576)               0         \n",
      "_________________________________________________________________\n",
      "dense_7 (Dense)              (None, 120)               69240     \n",
      "_________________________________________________________________\n",
      "dense_8 (Dense)              (None, 84)                10164     \n",
      "_________________________________________________________________\n",
      "dense_9 (Dense)              (None, 10)                850       \n",
      "=================================================================\n",
      "Total params: 81,194\n",
      "Trainable params: 81,194\n",
      "Non-trainable params: 0\n",
      "_________________________________________________________________\n"
     ]
    }
   ],
   "source": [
    "model.summary()"
   ]
  },
  {
   "cell_type": "code",
   "execution_count": 12,
   "metadata": {
    "scrolled": true
   },
   "outputs": [
    {
     "name": "stderr",
     "output_type": "stream",
     "text": [
      "\r",
      "  0%|                                                                                          | 0/100 [00:00<?, ?it/s]"
     ]
    },
    {
     "name": "stdout",
     "output_type": "stream",
     "text": [
      "Epoch 0\n",
      "train\n",
      "Using real-time data augmentation.\n",
      "train loss score is :0.2894153698797688\n",
      "train acc score is :0.9085477941176471\n",
      "It has been 9.507044792175293 seconds since the loop started\n",
      "test\n",
      "validation\n",
      "val loss score is :0.11579444091413406\n",
      "val acc score is :0.9569818037974683\n",
      "test\n",
      "test loss score is :0.11207490822276737\n",
      "test acc score is :0.9562895569620253\n"
     ]
    },
    {
     "name": "stderr",
     "output_type": "stream",
     "text": [
      "\r",
      "  1%|▊                                                                                 | 1/100 [00:11<18:17, 11.08s/it]"
     ]
    },
    {
     "name": "stdout",
     "output_type": "stream",
     "text": [
      "Epoch 1\n",
      "train\n",
      "Using real-time data augmentation.\n",
      "train loss score is :0.10777357495997263\n",
      "train acc score is :0.9666719948849105\n",
      "It has been 6.432597637176514 seconds since the loop started\n",
      "test\n",
      "validation\n",
      "val loss score is :0.09201955739880287\n",
      "val acc score is :0.9631131329113924\n",
      "test\n",
      "test loss score is :0.08297060427102673\n",
      "test acc score is :0.963310917721519\n"
     ]
    },
    {
     "name": "stderr",
     "output_type": "stream",
     "text": [
      "\r",
      "  2%|█▋                                                                                | 2/100 [00:18<16:31, 10.12s/it]"
     ]
    },
    {
     "name": "stdout",
     "output_type": "stream",
     "text": [
      "Epoch 2\n",
      "train\n",
      "Using real-time data augmentation.\n",
      "train loss score is :0.0828945287955863\n",
      "train acc score is :0.9741847826086957\n",
      "It has been 6.288135528564453 seconds since the loop started\n",
      "test\n",
      "validation\n",
      "val loss score is :0.08646719047322256\n",
      "val acc score is :0.9632120253164557\n",
      "test\n",
      "test loss score is :0.07271455018486403\n",
      "test acc score is :0.9653876582278481\n"
     ]
    },
    {
     "name": "stderr",
     "output_type": "stream",
     "text": [
      "\r",
      "  3%|██▍                                                                               | 3/100 [00:26<15:11,  9.40s/it]"
     ]
    },
    {
     "name": "stdout",
     "output_type": "stream",
     "text": [
      "Epoch 3\n",
      "train\n",
      "Using real-time data augmentation.\n",
      "train loss score is :0.06953574833460152\n",
      "train acc score is :0.9787004475703325\n",
      "It has been 6.1189124584198 seconds since the loop started\n",
      "test\n",
      "validation\n",
      "val loss score is :0.0735347007248032\n",
      "val acc score is :0.9685522151898734\n",
      "test\n",
      "test loss score is :0.0607018823841516\n",
      "test acc score is :0.9712223101265823\n"
     ]
    },
    {
     "name": "stderr",
     "output_type": "stream",
     "text": [
      "\r",
      "  4%|███▎                                                                              | 4/100 [00:34<14:07,  8.83s/it]"
     ]
    },
    {
     "name": "stdout",
     "output_type": "stream",
     "text": [
      "Epoch 4\n",
      "train\n",
      "Using real-time data augmentation.\n",
      "train loss score is :0.06109927412684616\n",
      "train acc score is :0.9808184143222506\n",
      "It has been 6.315594911575317 seconds since the loop started\n",
      "test\n",
      "validation\n",
      "val loss score is :0.06749615840366276\n",
      "val acc score is :0.9697389240506329\n",
      "test\n",
      "test loss score is :0.053680700042190714\n",
      "test acc score is :0.9726068037974683\n"
     ]
    },
    {
     "name": "stderr",
     "output_type": "stream",
     "text": [
      "\r",
      "  5%|████                                                                              | 5/100 [00:41<13:26,  8.48s/it]"
     ]
    },
    {
     "name": "stdout",
     "output_type": "stream",
     "text": [
      "Epoch 5\n",
      "train\n",
      "Using real-time data augmentation.\n",
      "train loss score is :0.05446230395830444\n",
      "train acc score is :0.9827965153452686\n",
      "It has been 6.12143874168396 seconds since the loop started\n",
      "test\n",
      "validation\n",
      "val loss score is :0.06310024331589052\n",
      "val acc score is :0.9712223101265823\n",
      "test\n",
      "test loss score is :0.050747638863004464\n",
      "test acc score is :0.9739912974683544\n"
     ]
    },
    {
     "name": "stderr",
     "output_type": "stream",
     "text": [
      "\r",
      "  6%|████▉                                                                             | 6/100 [00:49<12:49,  8.19s/it]"
     ]
    },
    {
     "name": "stdout",
     "output_type": "stream",
     "text": [
      "Epoch 6\n",
      "train\n",
      "Using real-time data augmentation.\n",
      "train loss score is :0.050010597536964414\n",
      "train acc score is :0.9840752877237852\n",
      "It has been 5.9914326667785645 seconds since the loop started\n",
      "test\n",
      "validation\n",
      "val loss score is :0.06413868687220974\n",
      "val acc score is :0.9714200949367089\n",
      "test\n",
      "test loss score is :0.046497764202170784\n",
      "test acc score is :0.9742879746835443\n"
     ]
    },
    {
     "name": "stderr",
     "output_type": "stream",
     "text": [
      "\r",
      "  7%|█████▋                                                                            | 7/100 [00:56<12:19,  7.95s/it]"
     ]
    },
    {
     "name": "stdout",
     "output_type": "stream",
     "text": [
      "Epoch 7\n",
      "train\n",
      "Using real-time data augmentation.\n",
      "train loss score is :0.04608369072365677\n",
      "train acc score is :0.9852541560102301\n",
      "It has been 6.2905964851379395 seconds since the loop started\n",
      "test\n",
      "validation\n",
      "val loss score is :0.062022409001011636\n",
      "val acc score is :0.9722112341772152\n",
      "test\n",
      "test loss score is :0.04600679498354468\n",
      "test acc score is :0.9747824367088608\n"
     ]
    },
    {
     "name": "stderr",
     "output_type": "stream",
     "text": [
      "\r",
      "  8%|██████▌                                                                           | 8/100 [01:04<12:03,  7.87s/it]"
     ]
    },
    {
     "name": "stdout",
     "output_type": "stream",
     "text": [
      "Epoch 8\n",
      "train\n",
      "Using real-time data augmentation.\n",
      "train loss score is :0.04311642370274876\n",
      "train acc score is :0.9863730818414322\n",
      "It has been 6.316918849945068 seconds since the loop started\n",
      "test\n",
      "validation\n",
      "val loss score is :0.06123021429572608\n",
      "val acc score is :0.9710245253164557\n",
      "test\n",
      "test loss score is :0.047810319976150234\n",
      "test acc score is :0.9722112341772152\n"
     ]
    },
    {
     "name": "stderr",
     "output_type": "stream",
     "text": [
      "\r",
      "  9%|███████▍                                                                          | 9/100 [01:12<11:52,  7.83s/it]"
     ]
    },
    {
     "name": "stdout",
     "output_type": "stream",
     "text": [
      "Epoch 9\n",
      "train\n",
      "Using real-time data augmentation.\n",
      "train loss score is :0.04024784929116668\n",
      "train acc score is :0.986792679028133\n",
      "It has been 5.851092576980591 seconds since the loop started\n",
      "test\n",
      "validation\n",
      "val loss score is :0.05689555472440876\n",
      "val acc score is :0.9733979430379747\n",
      "test\n",
      "test loss score is :0.042080420835674565\n",
      "test acc score is :0.975870253164557\n"
     ]
    },
    {
     "name": "stderr",
     "output_type": "stream",
     "text": [
      "\r",
      " 10%|████████                                                                         | 10/100 [01:19<11:27,  7.64s/it]"
     ]
    },
    {
     "name": "stdout",
     "output_type": "stream",
     "text": [
      "Epoch 10\n",
      "train\n",
      "Using real-time data augmentation.\n",
      "train loss score is :0.038087526985379816\n",
      "train acc score is :0.9877317774936062\n",
      "It has been 5.743194341659546 seconds since the loop started\n",
      "test\n",
      "validation\n",
      "val loss score is :0.05824252560843796\n",
      "val acc score is :0.9716178797468354\n",
      "test\n",
      "test loss score is :0.04132515985571744\n",
      "test acc score is :0.9761669303797469\n"
     ]
    },
    {
     "name": "stderr",
     "output_type": "stream",
     "text": [
      "\r",
      " 11%|████████▉                                                                        | 11/100 [01:26<11:03,  7.46s/it]"
     ]
    },
    {
     "name": "stdout",
     "output_type": "stream",
     "text": [
      "Epoch 11\n",
      "train\n",
      "Using real-time data augmentation.\n",
      "train loss score is :0.035519687455299945\n",
      "train acc score is :0.9884710677749361\n",
      "It has been 5.549860715866089 seconds since the loop started\n",
      "test\n",
      "validation\n",
      "val loss score is :0.055534302995280845\n",
      "val acc score is :0.9732990506329114\n",
      "test\n",
      "test loss score is :0.04005075012675569\n",
      "test acc score is :0.9765625\n"
     ]
    },
    {
     "name": "stderr",
     "output_type": "stream",
     "text": [
      "\r",
      " 12%|█████████▋                                                                       | 12/100 [01:33<10:39,  7.26s/it]"
     ]
    },
    {
     "name": "stdout",
     "output_type": "stream",
     "text": [
      "Epoch 12\n",
      "train\n",
      "Using real-time data augmentation.\n",
      "train loss score is :0.033657326086726794\n",
      "train acc score is :0.9891903772378516\n",
      "It has been 5.531970739364624 seconds since the loop started\n",
      "test\n",
      "validation\n",
      "val loss score is :0.05549409876495034\n",
      "val acc score is :0.9736946202531646\n",
      "test\n",
      "test loss score is :0.040005449635931584\n",
      "test acc score is :0.9768591772151899\n"
     ]
    },
    {
     "name": "stderr",
     "output_type": "stream",
     "text": [
      "\r",
      " 13%|██████████▌                                                                      | 13/100 [01:39<10:15,  7.07s/it]"
     ]
    },
    {
     "name": "stdout",
     "output_type": "stream",
     "text": [
      "Epoch 13\n",
      "train\n",
      "Using real-time data augmentation.\n",
      "train loss score is :0.03217161016333598\n",
      "train acc score is :0.9895300511508951\n",
      "It has been 5.2591564655303955 seconds since the loop started\n",
      "test\n",
      "validation\n",
      "val loss score is :0.05426234888027811\n",
      "val acc score is :0.9732990506329114\n",
      "test\n",
      "test loss score is :0.04048106091758649\n",
      "test acc score is :0.9767602848101266\n"
     ]
    },
    {
     "name": "stderr",
     "output_type": "stream",
     "text": [
      "\r",
      " 14%|███████████▎                                                                     | 14/100 [01:46<09:47,  6.83s/it]"
     ]
    },
    {
     "name": "stdout",
     "output_type": "stream",
     "text": [
      "Epoch 14\n",
      "train\n",
      "Using real-time data augmentation.\n",
      "train loss score is :0.030972170033146774\n",
      "train acc score is :0.9902493606138107\n",
      "It has been 5.557893991470337 seconds since the loop started\n",
      "test\n",
      "validation\n",
      "val loss score is :0.0531738783038351\n",
      "val acc score is :0.974189082278481\n",
      "test\n",
      "test loss score is :0.037963046278226886\n",
      "test acc score is :0.9766613924050633\n"
     ]
    },
    {
     "name": "stderr",
     "output_type": "stream",
     "text": [
      "\r",
      " 15%|████████████▏                                                                    | 15/100 [01:53<09:44,  6.88s/it]"
     ]
    },
    {
     "name": "stdout",
     "output_type": "stream",
     "text": [
      "Epoch 15\n",
      "train\n",
      "Using real-time data augmentation.\n",
      "train loss score is :0.029225449798011775\n",
      "train acc score is :0.9905490728900256\n",
      "It has been 6.2777321338653564 seconds since the loop started\n",
      "test\n",
      "validation\n",
      "val loss score is :0.05195570947334194\n",
      "val acc score is :0.9740901898734177\n",
      "test\n",
      "test loss score is :0.037852789615015675\n",
      "test acc score is :0.9765625\n"
     ]
    },
    {
     "name": "stderr",
     "output_type": "stream",
     "text": [
      "\r",
      " 16%|████████████▉                                                                    | 16/100 [02:00<09:55,  7.09s/it]"
     ]
    },
    {
     "name": "stdout",
     "output_type": "stream",
     "text": [
      "Epoch 16\n",
      "train\n",
      "Using real-time data augmentation.\n",
      "train loss score is :0.027901928974291706\n",
      "train acc score is :0.9908487851662404\n",
      "It has been 6.135311603546143 seconds since the loop started\n",
      "test\n",
      "validation\n",
      "val loss score is :0.05442928330988632\n",
      "val acc score is :0.9719145569620253\n",
      "test\n",
      "test loss score is :0.039298858691030475\n",
      "test acc score is :0.9763647151898734\n"
     ]
    },
    {
     "name": "stderr",
     "output_type": "stream",
     "text": [
      "\r",
      " 17%|█████████████▊                                                                   | 17/100 [02:08<09:59,  7.23s/it]"
     ]
    },
    {
     "name": "stdout",
     "output_type": "stream",
     "text": [
      "Epoch 17\n",
      "train\n",
      "Using real-time data augmentation.\n",
      "train loss score is :0.02695466238705208\n",
      "train acc score is :0.9911484974424553\n",
      "It has been 6.1223835945129395 seconds since the loop started\n",
      "test\n",
      "validation\n",
      "val loss score is :0.05293572176530768\n",
      "val acc score is :0.974189082278481\n",
      "test\n",
      "test loss score is :0.03862688307321772\n",
      "test acc score is :0.9777492088607594\n"
     ]
    },
    {
     "name": "stderr",
     "output_type": "stream",
     "text": [
      "\r",
      " 18%|██████████████▌                                                                  | 18/100 [02:15<09:59,  7.31s/it]"
     ]
    },
    {
     "name": "stdout",
     "output_type": "stream",
     "text": [
      "Epoch 18\n",
      "train\n",
      "Using real-time data augmentation.\n",
      "train loss score is :0.025804172855351703\n",
      "train acc score is :0.9918278452685422\n",
      "It has been 6.378916025161743 seconds since the loop started\n",
      "test\n",
      "validation\n",
      "val loss score is :0.05311266688594618\n",
      "val acc score is :0.9735957278481012\n",
      "test\n",
      "test loss score is :0.03867910243276082\n",
      "test acc score is :0.9764636075949367\n"
     ]
    },
    {
     "name": "stderr",
     "output_type": "stream",
     "text": [
      "\r",
      " 19%|███████████████▍                                                                 | 19/100 [02:23<10:03,  7.46s/it]"
     ]
    },
    {
     "name": "stdout",
     "output_type": "stream",
     "text": [
      "Epoch 19\n",
      "train\n",
      "Using real-time data augmentation.\n",
      "train loss score is :0.024812998439190086\n",
      "train acc score is :0.9919077685421995\n",
      "It has been 5.577203750610352 seconds since the loop started\n",
      "test\n",
      "validation\n",
      "val loss score is :0.05076883616829601\n",
      "val acc score is :0.974189082278481\n",
      "test\n",
      "test loss score is :0.03708225860712826\n",
      "test acc score is :0.9771558544303798\n"
     ]
    },
    {
     "name": "stderr",
     "output_type": "stream",
     "text": [
      "\r",
      " 20%|████████████████▏                                                                | 20/100 [02:30<09:43,  7.29s/it]"
     ]
    },
    {
     "name": "stdout",
     "output_type": "stream",
     "text": [
      "Epoch 20\n",
      "train\n",
      "Using real-time data augmentation.\n",
      "train loss score is :0.023838762278475648\n",
      "train acc score is :0.9924072890025576\n",
      "It has been 5.503094434738159 seconds since the loop started\n",
      "test\n",
      "validation\n",
      "val loss score is :0.051376441503208886\n",
      "val acc score is :0.974881329113924\n",
      "test\n",
      "test loss score is :0.0399394138512895\n",
      "test acc score is :0.9761669303797469\n"
     ]
    },
    {
     "name": "stderr",
     "output_type": "stream",
     "text": [
      "\r",
      " 21%|█████████████████                                                                | 21/100 [02:37<09:27,  7.19s/it]"
     ]
    },
    {
     "name": "stdout",
     "output_type": "stream",
     "text": [
      "Epoch 21\n",
      "train\n",
      "Using real-time data augmentation.\n",
      "train loss score is :0.022681349034830833\n",
      "train acc score is :0.9928268861892583\n",
      "It has been 6.157255411148071 seconds since the loop started\n",
      "test\n",
      "validation\n",
      "val loss score is :0.04997555263446573\n",
      "val acc score is :0.974881329113924\n",
      "test\n",
      "test loss score is :0.036310252315943904\n",
      "test acc score is :0.977254746835443\n"
     ]
    },
    {
     "name": "stderr",
     "output_type": "stream",
     "text": [
      "\r",
      " 22%|█████████████████▊                                                               | 22/100 [02:44<09:25,  7.25s/it]"
     ]
    },
    {
     "name": "stdout",
     "output_type": "stream",
     "text": [
      "Epoch 22\n",
      "train\n",
      "Using real-time data augmentation.\n",
      "train loss score is :0.021987762886023297\n",
      "train acc score is :0.9929467710997443\n",
      "It has been 5.682318925857544 seconds since the loop started\n",
      "test\n",
      "validation\n",
      "val loss score is :0.05020961335482948\n",
      "val acc score is :0.9751780063291139\n",
      "test\n",
      "test loss score is :0.037311905761812286\n",
      "test acc score is :0.9768591772151899\n"
     ]
    },
    {
     "name": "stderr",
     "output_type": "stream",
     "text": [
      "\r",
      " 23%|██████████████████▋                                                              | 23/100 [02:51<09:14,  7.20s/it]"
     ]
    },
    {
     "name": "stdout",
     "output_type": "stream",
     "text": [
      "Epoch 23\n",
      "train\n",
      "Using real-time data augmentation.\n",
      "train loss score is :0.021158511856394578\n",
      "train acc score is :0.9930266943734015\n",
      "It has been 5.667703628540039 seconds since the loop started\n",
      "test\n",
      "validation\n",
      "val loss score is :0.05310695343636141\n",
      "val acc score is :0.974189082278481\n",
      "test\n",
      "test loss score is :0.03694099963854857\n",
      "test acc score is :0.9779469936708861\n"
     ]
    },
    {
     "name": "stderr",
     "output_type": "stream",
     "text": [
      "\r",
      " 24%|███████████████████▍                                                             | 24/100 [02:58<09:04,  7.16s/it]"
     ]
    },
    {
     "name": "stdout",
     "output_type": "stream",
     "text": [
      "Epoch 24\n",
      "train\n",
      "Using real-time data augmentation.\n",
      "train loss score is :0.020564078699316247\n",
      "train acc score is :0.9932265025575447\n",
      "It has been 6.111926555633545 seconds since the loop started\n",
      "test\n",
      "validation\n",
      "val loss score is :0.04895845550124215\n",
      "val acc score is :0.9755735759493671\n",
      "test\n",
      "test loss score is :0.03458614881987436\n",
      "test acc score is :0.9780458860759493\n"
     ]
    },
    {
     "name": "stderr",
     "output_type": "stream",
     "text": [
      "\r",
      " 25%|████████████████████▎                                                            | 25/100 [03:06<09:06,  7.28s/it]"
     ]
    },
    {
     "name": "stdout",
     "output_type": "stream",
     "text": [
      "Epoch 25\n",
      "train\n",
      "Using real-time data augmentation.\n",
      "train loss score is :0.019742769088543704\n",
      "train acc score is :0.9935262148337596\n",
      "It has been 5.7047600746154785 seconds since the loop started\n",
      "test\n",
      "validation\n",
      "val loss score is :0.048656516469846686\n",
      "val acc score is :0.9750791139240507\n",
      "test\n",
      "test loss score is :0.03505388794365911\n",
      "test acc score is :0.9773536392405063\n"
     ]
    },
    {
     "name": "stderr",
     "output_type": "stream",
     "text": [
      "\r",
      " 26%|█████████████████████                                                            | 26/100 [03:13<08:54,  7.22s/it]"
     ]
    },
    {
     "name": "stdout",
     "output_type": "stream",
     "text": [
      "Epoch 26\n",
      "train\n",
      "Using real-time data augmentation.\n",
      "train loss score is :0.019021167580033544\n",
      "train acc score is :0.9937859654731458\n",
      "It has been 6.0508646965026855 seconds since the loop started\n",
      "test\n",
      "validation\n",
      "val loss score is :0.051311526689206875\n",
      "val acc score is :0.973496835443038\n",
      "test\n",
      "test loss score is :0.0356111812428866\n",
      "test acc score is :0.9780458860759493\n"
     ]
    },
    {
     "name": "stderr",
     "output_type": "stream",
     "text": [
      "\r",
      " 27%|█████████████████████▊                                                           | 27/100 [03:20<08:51,  7.29s/it]"
     ]
    },
    {
     "name": "stdout",
     "output_type": "stream",
     "text": [
      "Epoch 27\n",
      "train\n",
      "Using real-time data augmentation.\n",
      "train loss score is :0.018668181563625135\n",
      "train acc score is :0.9939058503836317\n",
      "It has been 5.6763458251953125 seconds since the loop started\n",
      "test\n",
      "validation\n",
      "val loss score is :0.0487619589421459\n",
      "val acc score is :0.9755735759493671\n",
      "test\n",
      "test loss score is :0.0356075123093928\n",
      "test acc score is :0.9776503164556962\n"
     ]
    },
    {
     "name": "stderr",
     "output_type": "stream",
     "text": [
      "\r",
      " 28%|██████████████████████▋                                                          | 28/100 [03:28<08:38,  7.20s/it]"
     ]
    },
    {
     "name": "stdout",
     "output_type": "stream",
     "text": [
      "Epoch 28\n",
      "train\n",
      "Using real-time data augmentation.\n",
      "train loss score is :0.0177407774319777\n",
      "train acc score is :0.9942255434782609\n",
      "It has been 5.63349461555481 seconds since the loop started\n",
      "test\n",
      "validation\n",
      "val loss score is :0.04926121050139736\n",
      "val acc score is :0.9753757911392406\n",
      "test\n",
      "test loss score is :0.03448975719865176\n",
      "test acc score is :0.9783425632911392\n"
     ]
    },
    {
     "name": "stderr",
     "output_type": "stream",
     "text": [
      "\r",
      " 29%|███████████████████████▍                                                         | 29/100 [03:34<08:24,  7.10s/it]"
     ]
    },
    {
     "name": "stdout",
     "output_type": "stream",
     "text": [
      "Epoch 29\n",
      "train\n",
      "Using real-time data augmentation.\n",
      "train loss score is :0.017354970883347018\n",
      "train acc score is :0.9940856777493606\n",
      "It has been 5.844243764877319 seconds since the loop started\n",
      "test\n",
      "validation\n",
      "val loss score is :0.048556273447237674\n",
      "val acc score is :0.9753757911392406\n",
      "test\n",
      "test loss score is :0.033674035243442445\n",
      "test acc score is :0.9781447784810127\n"
     ]
    },
    {
     "name": "stderr",
     "output_type": "stream",
     "text": [
      "\r",
      " 30%|████████████████████████▎                                                        | 30/100 [03:42<08:19,  7.13s/it]"
     ]
    },
    {
     "name": "stdout",
     "output_type": "stream",
     "text": [
      "Epoch 30\n",
      "train\n",
      "Using real-time data augmentation.\n",
      "train loss score is :0.016598918163181875\n",
      "train acc score is :0.994605179028133\n",
      "It has been 6.1433424949646 seconds since the loop started\n",
      "test\n",
      "validation\n",
      "val loss score is :0.051077117657884245\n",
      "val acc score is :0.9742879746835443\n",
      "test\n",
      "test loss score is :0.03664800236473167\n",
      "test acc score is :0.9788370253164557\n"
     ]
    },
    {
     "name": "stderr",
     "output_type": "stream",
     "text": [
      "\r",
      " 31%|█████████████████████████                                                        | 31/100 [03:49<08:21,  7.27s/it]"
     ]
    },
    {
     "name": "stdout",
     "output_type": "stream",
     "text": [
      "Epoch 31\n",
      "train\n",
      "Using real-time data augmentation.\n",
      "train loss score is :0.01623368912788532\n",
      "train acc score is :0.9947250639386189\n",
      "It has been 6.404745101928711 seconds since the loop started\n",
      "test\n",
      "validation\n",
      "val loss score is :0.04997365261189333\n",
      "val acc score is :0.9755735759493671\n",
      "test\n",
      "test loss score is :0.036851437479446206\n",
      "test acc score is :0.9781447784810127\n"
     ]
    },
    {
     "name": "stderr",
     "output_type": "stream",
     "text": [
      "\r",
      " 32%|█████████████████████████▉                                                       | 32/100 [03:57<08:24,  7.42s/it]"
     ]
    },
    {
     "name": "stdout",
     "output_type": "stream",
     "text": [
      "Epoch 32\n",
      "train\n",
      "Using real-time data augmentation.\n",
      "train loss score is :0.015621255963113007\n",
      "train acc score is :0.9948449488491049\n",
      "It has been 6.201066732406616 seconds since the loop started\n",
      "test\n",
      "validation\n",
      "val loss score is :0.04938283335134576\n",
      "val acc score is :0.9753757911392406\n",
      "test\n",
      "test loss score is :0.034294907033665965\n",
      "test acc score is :0.978243670886076\n"
     ]
    },
    {
     "name": "stderr",
     "output_type": "stream",
     "text": [
      "\r",
      " 33%|██████████████████████████▋                                                      | 33/100 [04:05<08:20,  7.48s/it]"
     ]
    },
    {
     "name": "stdout",
     "output_type": "stream",
     "text": [
      "Epoch 33\n",
      "train\n",
      "Using real-time data augmentation.\n",
      "train loss score is :0.015270927805862035\n",
      "train acc score is :0.9951246803069054\n",
      "It has been 6.368348598480225 seconds since the loop started\n",
      "test\n",
      "validation\n",
      "val loss score is :0.04785878436077722\n",
      "val acc score is :0.9766613924050633\n",
      "test\n",
      "test loss score is :0.034273066040706124\n",
      "test acc score is :0.9783425632911392\n"
     ]
    },
    {
     "name": "stderr",
     "output_type": "stream",
     "text": [
      "\r",
      " 34%|███████████████████████████▌                                                     | 34/100 [04:12<08:20,  7.58s/it]"
     ]
    },
    {
     "name": "stdout",
     "output_type": "stream",
     "text": [
      "Epoch 34\n",
      "train\n",
      "Using real-time data augmentation.\n",
      "train loss score is :0.014674711229322512\n",
      "train acc score is :0.9953844309462916\n",
      "It has been 6.259398937225342 seconds since the loop started\n",
      "test\n",
      "validation\n",
      "val loss score is :0.04839516835599619\n",
      "val acc score is :0.9761669303797469\n",
      "test\n",
      "test loss score is :0.035270296740109876\n",
      "test acc score is :0.978243670886076\n"
     ]
    },
    {
     "name": "stderr",
     "output_type": "stream",
     "text": [
      "\r",
      " 35%|████████████████████████████▎                                                    | 35/100 [04:20<08:13,  7.60s/it]"
     ]
    },
    {
     "name": "stdout",
     "output_type": "stream",
     "text": [
      "Epoch 35\n",
      "train\n",
      "Using real-time data augmentation.\n",
      "train loss score is :0.014341527871820895\n",
      "train acc score is :0.9954443734015346\n",
      "It has been 6.137690305709839 seconds since the loop started\n",
      "test\n",
      "validation\n",
      "val loss score is :0.04951844644832979\n",
      "val acc score is :0.9762658227848101\n",
      "test\n",
      "test loss score is :0.03570719890954427\n",
      "test acc score is :0.9784414556962026\n"
     ]
    },
    {
     "name": "stderr",
     "output_type": "stream",
     "text": [
      "\r",
      " 36%|█████████████████████████████▏                                                   | 36/100 [04:28<08:05,  7.59s/it]"
     ]
    },
    {
     "name": "stdout",
     "output_type": "stream",
     "text": [
      "Epoch 36\n",
      "train\n",
      "Using real-time data augmentation.\n",
      "train loss score is :0.014044755148282155\n",
      "train acc score is :0.995224584398977\n",
      "It has been 6.213895797729492 seconds since the loop started\n",
      "test\n",
      "validation\n",
      "val loss score is :0.049900529090878026\n",
      "val acc score is :0.9751780063291139\n",
      "test\n",
      "test loss score is :0.035554940650180916\n",
      "test acc score is :0.9780458860759493\n"
     ]
    },
    {
     "name": "stderr",
     "output_type": "stream",
     "text": [
      "\r",
      " 37%|█████████████████████████████▉                                                   | 37/100 [04:35<07:58,  7.60s/it]"
     ]
    },
    {
     "name": "stdout",
     "output_type": "stream",
     "text": [
      "Epoch 37\n",
      "train\n",
      "Using real-time data augmentation.\n",
      "train loss score is :0.013403611190383658\n",
      "train acc score is :0.9955242966751918\n",
      "It has been 6.352419137954712 seconds since the loop started\n",
      "test\n",
      "validation\n",
      "val loss score is :0.048028871150747846\n",
      "val acc score is :0.9759691455696202\n",
      "test\n",
      "test loss score is :0.03456835816154747\n",
      "test acc score is :0.9777492088607594\n"
     ]
    },
    {
     "name": "stderr",
     "output_type": "stream",
     "text": [
      "\r",
      " 38%|██████████████████████████████▊                                                  | 38/100 [04:43<07:54,  7.65s/it]"
     ]
    },
    {
     "name": "stdout",
     "output_type": "stream",
     "text": [
      "Epoch 38\n",
      "train\n",
      "Using real-time data augmentation.\n",
      "train loss score is :0.013169611764811528\n",
      "train acc score is :0.9956841432225064\n",
      "It has been 6.384814023971558 seconds since the loop started\n",
      "test\n",
      "validation\n",
      "val loss score is :0.049515505100282124\n",
      "val acc score is :0.9752768987341772\n",
      "test\n",
      "test loss score is :0.03508020872032842\n",
      "test acc score is :0.9776503164556962\n"
     ]
    },
    {
     "name": "stderr",
     "output_type": "stream",
     "text": [
      "\r",
      " 39%|███████████████████████████████▌                                                 | 39/100 [04:51<07:50,  7.71s/it]"
     ]
    },
    {
     "name": "stdout",
     "output_type": "stream",
     "text": [
      "Epoch 39\n",
      "train\n",
      "Using real-time data augmentation.\n",
      "train loss score is :0.012873706487638642\n",
      "train acc score is :0.995724104859335\n",
      "It has been 6.150279521942139 seconds since the loop started\n",
      "test\n",
      "validation\n",
      "val loss score is :0.05021413612544914\n",
      "val acc score is :0.9755735759493671\n",
      "test\n",
      "test loss score is :0.03511684342756089\n",
      "test acc score is :0.9779469936708861\n"
     ]
    },
    {
     "name": "stderr",
     "output_type": "stream",
     "text": [
      "\r",
      " 40%|████████████████████████████████▍                                                | 40/100 [04:58<07:38,  7.65s/it]"
     ]
    },
    {
     "name": "stdout",
     "output_type": "stream",
     "text": [
      "Epoch 40\n",
      "train\n",
      "Using real-time data augmentation.\n",
      "train loss score is :0.012283354388761913\n",
      "train acc score is :0.9960637787723785\n",
      "It has been 6.08406925201416 seconds since the loop started\n",
      "test\n",
      "validation\n",
      "val loss score is :0.0474609411729932\n",
      "val acc score is :0.9759691455696202\n",
      "test\n",
      "test loss score is :0.035267526583003375\n",
      "test acc score is :0.978935917721519\n"
     ]
    },
    {
     "name": "stderr",
     "output_type": "stream",
     "text": [
      "\r",
      " 41%|█████████████████████████████████▏                                               | 41/100 [05:06<07:28,  7.60s/it]"
     ]
    },
    {
     "name": "stdout",
     "output_type": "stream",
     "text": [
      "Epoch 41\n",
      "train\n",
      "Using real-time data augmentation.\n",
      "train loss score is :0.012151304872997124\n",
      "train acc score is :0.9958639705882353\n",
      "It has been 6.369141578674316 seconds since the loop started\n",
      "test\n",
      "validation\n",
      "val loss score is :0.0488286870303328\n",
      "val acc score is :0.9760680379746836\n",
      "test\n",
      "test loss score is :0.03690663888745446\n",
      "test acc score is :0.9778481012658228\n"
     ]
    },
    {
     "name": "stderr",
     "output_type": "stream",
     "text": [
      "\r",
      " 42%|██████████████████████████████████                                               | 42/100 [05:14<07:24,  7.66s/it]"
     ]
    },
    {
     "name": "stdout",
     "output_type": "stream",
     "text": [
      "Epoch 42\n",
      "train\n",
      "Using real-time data augmentation.\n",
      "train loss score is :0.011958294758594612\n",
      "train acc score is :0.9958040281329923\n",
      "It has been 6.105580806732178 seconds since the loop started\n",
      "test\n",
      "validation\n",
      "val loss score is :0.049391824234854664\n",
      "val acc score is :0.9751780063291139\n",
      "test\n",
      "test loss score is :0.03566946521699075\n",
      "test acc score is :0.9779469936708861\n"
     ]
    },
    {
     "name": "stderr",
     "output_type": "stream",
     "text": [
      "\r",
      " 43%|██████████████████████████████████▊                                              | 43/100 [05:21<07:14,  7.62s/it]"
     ]
    },
    {
     "name": "stdout",
     "output_type": "stream",
     "text": [
      "Epoch 43\n",
      "train\n",
      "Using real-time data augmentation.\n",
      "train loss score is :0.01142256695371064\n",
      "train acc score is :0.9962635869565217\n",
      "It has been 6.118524789810181 seconds since the loop started\n",
      "test\n",
      "validation\n",
      "val loss score is :0.04865237649314795\n",
      "val acc score is :0.9766613924050633\n",
      "test\n",
      "test loss score is :0.034346260335237445\n",
      "test acc score is :0.9785403481012658\n"
     ]
    },
    {
     "name": "stderr",
     "output_type": "stream",
     "text": [
      "\r",
      " 44%|███████████████████████████████████▋                                             | 44/100 [05:29<07:06,  7.62s/it]"
     ]
    },
    {
     "name": "stdout",
     "output_type": "stream",
     "text": [
      "Epoch 44\n",
      "train\n",
      "Using real-time data augmentation.\n",
      "train loss score is :0.011200259766637292\n",
      "train acc score is :0.9963035485933504\n",
      "It has been 6.079642057418823 seconds since the loop started\n",
      "test\n",
      "validation\n",
      "val loss score is :0.04817277699317234\n",
      "val acc score is :0.9764636075949367\n",
      "test\n",
      "test loss score is :0.034556697785877916\n",
      "test acc score is :0.9785403481012658\n"
     ]
    },
    {
     "name": "stderr",
     "output_type": "stream",
     "text": [
      "\r",
      " 45%|████████████████████████████████████▍                                            | 45/100 [05:36<06:56,  7.57s/it]"
     ]
    },
    {
     "name": "stdout",
     "output_type": "stream",
     "text": [
      "Epoch 45\n",
      "train\n",
      "Using real-time data augmentation.\n",
      "train loss score is :0.010968580176872784\n",
      "train acc score is :0.9962236253196931\n",
      "It has been 6.217906951904297 seconds since the loop started\n",
      "test\n",
      "validation\n",
      "val loss score is :0.04875797224566311\n",
      "val acc score is :0.9761669303797469\n",
      "test\n",
      "test loss score is :0.034266234596670296\n",
      "test acc score is :0.978243670886076\n"
     ]
    },
    {
     "name": "stderr",
     "output_type": "stream",
     "text": [
      "\r",
      " 46%|█████████████████████████████████████▎                                           | 46/100 [05:44<06:50,  7.60s/it]"
     ]
    },
    {
     "name": "stdout",
     "output_type": "stream",
     "text": [
      "Epoch 46\n",
      "train\n",
      "Using real-time data augmentation.\n",
      "train loss score is :0.010601289197248008\n",
      "train acc score is :0.9962835677749361\n",
      "It has been 5.963660717010498 seconds since the loop started\n",
      "test\n",
      "validation\n",
      "val loss score is :0.04940646027194195\n",
      "val acc score is :0.975870253164557\n",
      "test\n",
      "test loss score is :0.03499827195029659\n",
      "test acc score is :0.9788370253164557\n"
     ]
    },
    {
     "name": "stderr",
     "output_type": "stream",
     "text": [
      "\r",
      " 47%|██████████████████████████████████████                                           | 47/100 [05:51<06:38,  7.52s/it]"
     ]
    },
    {
     "name": "stdout",
     "output_type": "stream",
     "text": [
      "Epoch 47\n",
      "train\n",
      "Using real-time data augmentation.\n",
      "train loss score is :0.010350785202026973\n",
      "train acc score is :0.9965033567774936\n",
      "It has been 6.162794828414917 seconds since the loop started\n",
      "test\n",
      "validation\n",
      "val loss score is :0.04893619448530099\n",
      "val acc score is :0.9760680379746836\n",
      "test\n",
      "test loss score is :0.03620390748661129\n",
      "test acc score is :0.9788370253164557\n"
     ]
    },
    {
     "name": "stderr",
     "output_type": "stream",
     "text": [
      "\r",
      " 48%|██████████████████████████████████████▉                                          | 48/100 [05:59<06:31,  7.54s/it]"
     ]
    },
    {
     "name": "stdout",
     "output_type": "stream",
     "text": [
      "Epoch 48\n",
      "train\n",
      "Using real-time data augmentation.\n",
      "train loss score is :0.010131560126304642\n",
      "train acc score is :0.9966432225063938\n",
      "It has been 6.474847316741943 seconds since the loop started\n",
      "test\n",
      "validation\n",
      "val loss score is :0.04864647006831858\n",
      "val acc score is :0.9760680379746836\n",
      "test\n",
      "test loss score is :0.03587249025910256\n",
      "test acc score is :0.9787381329113924\n"
     ]
    },
    {
     "name": "stderr",
     "output_type": "stream",
     "text": [
      "\r",
      " 49%|███████████████████████████████████████▋                                         | 49/100 [06:07<06:28,  7.62s/it]"
     ]
    },
    {
     "name": "stdout",
     "output_type": "stream",
     "text": [
      "Epoch 49\n",
      "train\n",
      "Using real-time data augmentation.\n",
      "train loss score is :0.00981006936356321\n",
      "train acc score is :0.9966831841432225\n",
      "It has been 6.282689094543457 seconds since the loop started\n",
      "test\n",
      "validation\n",
      "val loss score is :0.04928567825357542\n",
      "val acc score is :0.9762658227848101\n",
      "test\n",
      "test loss score is :0.036617766604707225\n",
      "test acc score is :0.9781447784810127\n"
     ]
    },
    {
     "name": "stderr",
     "output_type": "stream",
     "text": [
      "\r",
      " 50%|████████████████████████████████████████▌                                        | 50/100 [06:14<06:22,  7.65s/it]"
     ]
    },
    {
     "name": "stdout",
     "output_type": "stream",
     "text": [
      "Epoch 50\n",
      "train\n",
      "Using real-time data augmentation.\n",
      "train loss score is :0.00956272907868323\n",
      "train acc score is :0.9969429347826086\n",
      "It has been 6.308425426483154 seconds since the loop started\n",
      "test\n",
      "validation\n",
      "val loss score is :0.048268249685746396\n",
      "val acc score is :0.9765625\n",
      "test\n",
      "test loss score is :0.03425704710085322\n",
      "test acc score is :0.9788370253164557\n"
     ]
    },
    {
     "name": "stderr",
     "output_type": "stream",
     "text": [
      "\r",
      " 51%|█████████████████████████████████████████▎                                       | 51/100 [06:22<06:16,  7.69s/it]"
     ]
    },
    {
     "name": "stdout",
     "output_type": "stream",
     "text": [
      "Epoch 51\n",
      "train\n",
      "Using real-time data augmentation.\n",
      "train loss score is :0.009367792958380592\n",
      "train acc score is :0.9968630115089514\n",
      "It has been 6.256099700927734 seconds since the loop started\n",
      "test\n",
      "validation\n",
      "val loss score is :0.048795250743993004\n",
      "val acc score is :0.9763647151898734\n",
      "test\n",
      "test loss score is :0.03489457300931946\n",
      "test acc score is :0.9792325949367089\n"
     ]
    },
    {
     "name": "stderr",
     "output_type": "stream",
     "text": [
      "\r",
      " 52%|██████████████████████████████████████████                                       | 52/100 [06:30<06:09,  7.69s/it]"
     ]
    },
    {
     "name": "stdout",
     "output_type": "stream",
     "text": [
      "Epoch 52\n",
      "train\n",
      "Using real-time data augmentation.\n",
      "train loss score is :0.009163558986448847\n",
      "train acc score is :0.996843030690537\n",
      "It has been 6.085550546646118 seconds since the loop started\n",
      "test\n",
      "validation\n",
      "val loss score is :0.04937993618070231\n",
      "val acc score is :0.9763647151898734\n",
      "test\n",
      "test loss score is :0.03488719489062912\n",
      "test acc score is :0.978935917721519\n"
     ]
    },
    {
     "name": "stderr",
     "output_type": "stream",
     "text": [
      "\r",
      " 53%|██████████████████████████████████████████▉                                      | 53/100 [06:37<05:58,  7.63s/it]"
     ]
    },
    {
     "name": "stdout",
     "output_type": "stream",
     "text": [
      "Epoch 53\n",
      "train\n",
      "Using real-time data augmentation.\n",
      "train loss score is :0.008976315780122385\n",
      "train acc score is :0.9969828964194374\n",
      "It has been 5.922597885131836 seconds since the loop started\n",
      "test\n",
      "validation\n",
      "val loss score is :0.048826013447288014\n",
      "val acc score is :0.9767602848101266\n",
      "test\n",
      "test loss score is :0.034274321223153804\n",
      "test acc score is :0.9787381329113924\n"
     ]
    },
    {
     "name": "stderr",
     "output_type": "stream",
     "text": [
      "\r",
      " 54%|███████████████████████████████████████████▋                                     | 54/100 [06:44<05:44,  7.49s/it]"
     ]
    },
    {
     "name": "stdout",
     "output_type": "stream",
     "text": [
      "Epoch 54\n",
      "train\n",
      "Using real-time data augmentation.\n",
      "train loss score is :0.008722451136010858\n",
      "train acc score is :0.9970428388746803\n",
      "It has been 5.743382453918457 seconds since the loop started\n",
      "test\n",
      "validation\n",
      "val loss score is :0.05051439589181116\n",
      "val acc score is :0.9759691455696202\n",
      "test\n",
      "test loss score is :0.03491218066538531\n",
      "test acc score is :0.9785403481012658\n"
     ]
    },
    {
     "name": "stderr",
     "output_type": "stream",
     "text": [
      "\r",
      " 55%|████████████████████████████████████████████▌                                    | 55/100 [06:52<05:32,  7.39s/it]"
     ]
    },
    {
     "name": "stdout",
     "output_type": "stream",
     "text": [
      "Epoch 55\n",
      "train\n",
      "Using real-time data augmentation.\n",
      "train loss score is :0.008517540306361426\n",
      "train acc score is :0.9972626278772379\n",
      "It has been 6.215823173522949 seconds since the loop started\n",
      "test\n",
      "validation\n",
      "val loss score is :0.048451146958219005\n",
      "val acc score is :0.9765625\n",
      "test\n",
      "test loss score is :0.03446261123445777\n",
      "test acc score is :0.9787381329113924\n"
     ]
    },
    {
     "name": "stderr",
     "output_type": "stream",
     "text": [
      "\r",
      " 56%|█████████████████████████████████████████████▎                                   | 56/100 [06:59<05:27,  7.44s/it]"
     ]
    },
    {
     "name": "stdout",
     "output_type": "stream",
     "text": [
      "Epoch 56\n",
      "train\n",
      "Using real-time data augmentation.\n",
      "train loss score is :0.00835519915027127\n",
      "train acc score is :0.9972226662404092\n",
      "It has been 6.070439338684082 seconds since the loop started\n",
      "test\n",
      "validation\n",
      "val loss score is :0.049243923666456135\n",
      "val acc score is :0.9763647151898734\n",
      "test\n",
      "test loss score is :0.03530306559088463\n",
      "test acc score is :0.978935917721519\n"
     ]
    },
    {
     "name": "stderr",
     "output_type": "stream",
     "text": [
      "\r",
      " 57%|██████████████████████████████████████████████▏                                  | 57/100 [07:07<05:21,  7.47s/it]"
     ]
    },
    {
     "name": "stdout",
     "output_type": "stream",
     "text": [
      "Epoch 57\n",
      "train\n",
      "Using real-time data augmentation.\n",
      "train loss score is :0.008155608496046922\n",
      "train acc score is :0.9971027813299232\n",
      "It has been 6.337193012237549 seconds since the loop started\n",
      "test\n",
      "validation\n",
      "val loss score is :0.0492844617230408\n",
      "val acc score is :0.9764636075949367\n",
      "test\n",
      "test loss score is :0.03482870386782267\n",
      "test acc score is :0.9786392405063291\n"
     ]
    },
    {
     "name": "stderr",
     "output_type": "stream",
     "text": [
      "\r",
      " 58%|██████████████████████████████████████████████▉                                  | 58/100 [07:14<05:17,  7.55s/it]"
     ]
    },
    {
     "name": "stdout",
     "output_type": "stream",
     "text": [
      "Epoch 58\n",
      "train\n",
      "Using real-time data augmentation.\n",
      "train loss score is :0.007978321593443869\n",
      "train acc score is :0.9972626278772379\n",
      "It has been 6.259126424789429 seconds since the loop started\n",
      "test\n",
      "validation\n",
      "val loss score is :0.04847355322787815\n",
      "val acc score is :0.977254746835443\n",
      "test\n",
      "test loss score is :0.03625849882344114\n",
      "test acc score is :0.978935917721519\n"
     ]
    },
    {
     "name": "stderr",
     "output_type": "stream",
     "text": [
      "\r",
      " 59%|███████████████████████████████████████████████▊                                 | 59/100 [07:22<05:10,  7.57s/it]"
     ]
    },
    {
     "name": "stdout",
     "output_type": "stream",
     "text": [
      "Epoch 59\n",
      "train\n",
      "Using real-time data augmentation.\n",
      "train loss score is :0.007761295533796643\n",
      "train acc score is :0.9973425511508951\n",
      "It has been 5.8724753856658936 seconds since the loop started\n",
      "test\n",
      "validation\n",
      "val loss score is :0.04989281689650173\n",
      "val acc score is :0.9759691455696202\n",
      "test\n",
      "test loss score is :0.03516295369894279\n",
      "test acc score is :0.9793314873417721\n"
     ]
    },
    {
     "name": "stderr",
     "output_type": "stream",
     "text": [
      "\r",
      " 60%|████████████████████████████████████████████████▌                                | 60/100 [07:29<04:59,  7.49s/it]"
     ]
    },
    {
     "name": "stdout",
     "output_type": "stream",
     "text": [
      "Epoch 60\n",
      "train\n",
      "Using real-time data augmentation.\n",
      "train loss score is :0.007594401954257589\n",
      "train acc score is :0.9973025895140665\n",
      "It has been 6.069280624389648 seconds since the loop started\n",
      "test\n",
      "validation\n",
      "val loss score is :0.04999958287097095\n",
      "val acc score is :0.9760680379746836\n",
      "test\n",
      "test loss score is :0.0352394760365648\n",
      "test acc score is :0.9785403481012658\n"
     ]
    },
    {
     "name": "stderr",
     "output_type": "stream",
     "text": [
      "\r",
      " 61%|█████████████████████████████████████████████████▍                               | 61/100 [07:37<04:51,  7.46s/it]"
     ]
    },
    {
     "name": "stdout",
     "output_type": "stream",
     "text": [
      "Epoch 61\n",
      "train\n",
      "Using real-time data augmentation.\n",
      "train loss score is :0.007367482433109568\n",
      "train acc score is :0.9974024936061381\n",
      "It has been 5.972912311553955 seconds since the loop started\n",
      "test\n",
      "validation\n",
      "val loss score is :0.05021220660944293\n",
      "val acc score is :0.9765625\n",
      "test\n",
      "test loss score is :0.0363236898217421\n",
      "test acc score is :0.9786392405063291\n"
     ]
    },
    {
     "name": "stderr",
     "output_type": "stream",
     "text": [
      "\r",
      " 62%|██████████████████████████████████████████████████▏                              | 62/100 [07:44<04:41,  7.41s/it]"
     ]
    },
    {
     "name": "stdout",
     "output_type": "stream",
     "text": [
      "Epoch 62\n",
      "train\n",
      "Using real-time data augmentation.\n",
      "train loss score is :0.007248319734567198\n",
      "train acc score is :0.9973625319693095\n",
      "It has been 5.816691637039185 seconds since the loop started\n",
      "test\n",
      "validation\n",
      "val loss score is :0.04987132794923139\n",
      "val acc score is :0.9764636075949367\n",
      "test\n",
      "test loss score is :0.03575330257444875\n",
      "test acc score is :0.9783425632911392\n"
     ]
    },
    {
     "name": "stderr",
     "output_type": "stream",
     "text": [
      "\r",
      " 63%|███████████████████████████████████████████████████                              | 63/100 [07:51<04:30,  7.31s/it]"
     ]
    },
    {
     "name": "stdout",
     "output_type": "stream",
     "text": [
      "Epoch 63\n",
      "train\n",
      "Using real-time data augmentation.\n",
      "train loss score is :0.007147690654039154\n",
      "train acc score is :0.9974424552429667\n",
      "It has been 6.0520265102386475 seconds since the loop started\n",
      "test\n",
      "validation\n",
      "val loss score is :0.05085730750837269\n",
      "val acc score is :0.9761669303797469\n",
      "test\n",
      "test loss score is :0.03577911999677839\n",
      "test acc score is :0.9790348101265823\n"
     ]
    },
    {
     "name": "stderr",
     "output_type": "stream",
     "text": [
      "\r",
      " 64%|███████████████████████████████████████████████████▊                             | 64/100 [07:58<04:23,  7.31s/it]"
     ]
    },
    {
     "name": "stdout",
     "output_type": "stream",
     "text": [
      "Epoch 64\n",
      "train\n",
      "Using real-time data augmentation.\n",
      "train loss score is :0.006961400353345577\n",
      "train acc score is :0.997582320971867\n",
      "It has been 6.208791017532349 seconds since the loop started\n",
      "test\n",
      "validation\n",
      "val loss score is :0.04937613443943047\n",
      "val acc score is :0.9761669303797469\n",
      "test\n",
      "test loss score is :0.035289839496600285\n",
      "test acc score is :0.9788370253164557\n"
     ]
    },
    {
     "name": "stderr",
     "output_type": "stream",
     "text": [
      "\r",
      " 65%|████████████████████████████████████████████████████▋                            | 65/100 [08:06<04:18,  7.39s/it]"
     ]
    },
    {
     "name": "stdout",
     "output_type": "stream",
     "text": [
      "Epoch 65\n",
      "train\n",
      "Using real-time data augmentation.\n",
      "train loss score is :0.006708894393925169\n",
      "train acc score is :0.9977221867007673\n",
      "It has been 5.719445466995239 seconds since the loop started\n",
      "test\n",
      "validation\n",
      "val loss score is :0.05068004241966955\n",
      "val acc score is :0.9768591772151899\n",
      "test\n",
      "test loss score is :0.03551858123922367\n",
      "test acc score is :0.9792325949367089\n"
     ]
    },
    {
     "name": "stderr",
     "output_type": "stream",
     "text": [
      "\r",
      " 66%|█████████████████████████████████████████████████████▍                           | 66/100 [08:13<04:04,  7.19s/it]"
     ]
    },
    {
     "name": "stdout",
     "output_type": "stream",
     "text": [
      "Epoch 66\n",
      "train\n",
      "Using real-time data augmentation.\n",
      "train loss score is :0.006570591499111639\n",
      "train acc score is :0.9978220907928389\n",
      "It has been 5.782781600952148 seconds since the loop started\n",
      "test\n",
      "validation\n",
      "val loss score is :0.050013265784688385\n",
      "val acc score is :0.9760680379746836\n",
      "test\n",
      "test loss score is :0.034902693293369785\n",
      "test acc score is :0.978935917721519\n"
     ]
    },
    {
     "name": "stderr",
     "output_type": "stream",
     "text": [
      "\r",
      " 67%|██████████████████████████████████████████████████████▎                          | 67/100 [08:20<03:56,  7.18s/it]"
     ]
    },
    {
     "name": "stdout",
     "output_type": "stream",
     "text": [
      "Epoch 67\n",
      "train\n",
      "Using real-time data augmentation.\n",
      "train loss score is :0.00648313228261557\n",
      "train acc score is :0.9977621483375959\n",
      "It has been 5.743919849395752 seconds since the loop started\n",
      "test\n",
      "validation\n",
      "val loss score is :0.05025283539168724\n",
      "val acc score is :0.9766613924050633\n",
      "test\n",
      "test loss score is :0.035644872451887785\n",
      "test acc score is :0.978935917721519\n"
     ]
    },
    {
     "name": "stderr",
     "output_type": "stream",
     "text": [
      "\r",
      " 68%|███████████████████████████████████████████████████████                          | 68/100 [08:27<03:48,  7.15s/it]"
     ]
    },
    {
     "name": "stdout",
     "output_type": "stream",
     "text": [
      "Epoch 68\n",
      "train\n",
      "Using real-time data augmentation.\n",
      "train loss score is :0.0062787182896848785\n",
      "train acc score is :0.9978420716112532\n",
      "It has been 5.9242565631866455 seconds since the loop started\n",
      "test\n",
      "validation\n",
      "val loss score is :0.05079061209365631\n",
      "val acc score is :0.9765625\n",
      "test\n",
      "test loss score is :0.035378349126864425\n",
      "test acc score is :0.9795292721518988\n"
     ]
    },
    {
     "name": "stderr",
     "output_type": "stream",
     "text": [
      "\r",
      " 69%|███████████████████████████████████████████████████████▉                         | 69/100 [08:34<03:41,  7.15s/it]"
     ]
    },
    {
     "name": "stdout",
     "output_type": "stream",
     "text": [
      "Epoch 69\n",
      "train\n",
      "Using real-time data augmentation.\n",
      "train loss score is :0.006205907763714981\n",
      "train acc score is :0.9979020140664961\n",
      "It has been 5.571319580078125 seconds since the loop started\n",
      "test\n",
      "validation\n",
      "val loss score is :0.049856368355052194\n",
      "val acc score is :0.9765625\n",
      "test\n",
      "test loss score is :0.03714353567920625\n",
      "test acc score is :0.9788370253164557\n"
     ]
    },
    {
     "name": "stderr",
     "output_type": "stream",
     "text": [
      "\r",
      " 70%|████████████████████████████████████████████████████████▋                        | 70/100 [08:41<03:31,  7.06s/it]"
     ]
    },
    {
     "name": "stdout",
     "output_type": "stream",
     "text": [
      "Epoch 70\n",
      "train\n",
      "Using real-time data augmentation.\n",
      "train loss score is :0.006017509247789688\n",
      "train acc score is :0.9978220907928389\n",
      "It has been 6.244560241699219 seconds since the loop started\n",
      "test\n",
      "validation\n",
      "val loss score is :0.05049172060360065\n",
      "val acc score is :0.9764636075949367\n",
      "test\n",
      "test loss score is :0.035564716599581034\n",
      "test acc score is :0.9793314873417721\n"
     ]
    },
    {
     "name": "stderr",
     "output_type": "stream",
     "text": [
      "\r",
      " 71%|█████████████████████████████████████████████████████████▌                       | 71/100 [08:48<03:28,  7.19s/it]"
     ]
    },
    {
     "name": "stdout",
     "output_type": "stream",
     "text": [
      "Epoch 71\n",
      "train\n",
      "Using real-time data augmentation.\n",
      "train loss score is :0.005962645301040496\n",
      "train acc score is :0.9979219948849105\n",
      "It has been 6.042424440383911 seconds since the loop started\n",
      "test\n",
      "validation\n",
      "val loss score is :0.051409386652957884\n",
      "val acc score is :0.9765625\n",
      "test\n",
      "test loss score is :0.03632090179027866\n",
      "test acc score is :0.9792325949367089\n"
     ]
    },
    {
     "name": "stderr",
     "output_type": "stream",
     "text": [
      "\r",
      " 72%|██████████████████████████████████████████████████████████▎                      | 72/100 [08:56<03:22,  7.22s/it]"
     ]
    },
    {
     "name": "stdout",
     "output_type": "stream",
     "text": [
      "Epoch 72\n",
      "train\n",
      "Using real-time data augmentation.\n",
      "train loss score is :0.005896488237051803\n",
      "train acc score is :0.9979219948849105\n",
      "It has been 5.802369594573975 seconds since the loop started\n",
      "test\n",
      "validation\n",
      "val loss score is :0.051203823886013036\n",
      "val acc score is :0.9766613924050633\n",
      "test\n",
      "test loss score is :0.0359300403027341\n",
      "test acc score is :0.9794303797468354\n"
     ]
    },
    {
     "name": "stderr",
     "output_type": "stream",
     "text": [
      "\r",
      " 73%|███████████████████████████████████████████████████████████▏                     | 73/100 [09:03<03:14,  7.21s/it]"
     ]
    },
    {
     "name": "stdout",
     "output_type": "stream",
     "text": [
      "Epoch 73\n",
      "train\n",
      "Using real-time data augmentation.\n",
      "train loss score is :0.005588564358059439\n",
      "train acc score is :0.9979419757033248\n",
      "It has been 5.990633964538574 seconds since the loop started\n",
      "test\n",
      "validation\n",
      "val loss score is :0.05207660880243359\n",
      "val acc score is :0.9768591772151899\n",
      "test\n",
      "test loss score is :0.036515790965086704\n",
      "test acc score is :0.9790348101265823\n"
     ]
    },
    {
     "name": "stderr",
     "output_type": "stream",
     "text": [
      "\r",
      " 74%|███████████████████████████████████████████████████████████▉                     | 74/100 [09:10<03:08,  7.24s/it]"
     ]
    },
    {
     "name": "stdout",
     "output_type": "stream",
     "text": [
      "Epoch 74\n",
      "train\n",
      "Using real-time data augmentation.\n",
      "train loss score is :0.005600597967332362\n",
      "train acc score is :0.9979419757033248\n",
      "It has been 5.985650062561035 seconds since the loop started\n",
      "test\n",
      "validation\n",
      "val loss score is :0.051007238291662406\n",
      "val acc score is :0.9767602848101266\n",
      "test\n",
      "test loss score is :0.03656455588132395\n",
      "test acc score is :0.9790348101265823\n"
     ]
    },
    {
     "name": "stderr",
     "output_type": "stream",
     "text": [
      "\r",
      " 75%|████████████████████████████████████████████████████████████▊                    | 75/100 [09:18<03:02,  7.29s/it]"
     ]
    },
    {
     "name": "stdout",
     "output_type": "stream",
     "text": [
      "Epoch 75\n",
      "train\n",
      "Using real-time data augmentation.\n",
      "train loss score is :0.0055181815310937675\n",
      "train acc score is :0.9980218989769821\n",
      "It has been 5.991429328918457 seconds since the loop started\n",
      "test\n",
      "validation\n",
      "val loss score is :0.052579927720354955\n",
      "val acc score is :0.9761669303797469\n",
      "test\n",
      "test loss score is :0.03848485843356592\n",
      "test acc score is :0.9781447784810127\n"
     ]
    },
    {
     "name": "stderr",
     "output_type": "stream",
     "text": [
      "\r",
      " 76%|█████████████████████████████████████████████████████████████▌                   | 76/100 [09:25<02:55,  7.31s/it]"
     ]
    },
    {
     "name": "stdout",
     "output_type": "stream",
     "text": [
      "Epoch 76\n",
      "train\n",
      "Using real-time data augmentation.\n",
      "train loss score is :0.005344527186495383\n",
      "train acc score is :0.9981018222506394\n",
      "It has been 6.126552581787109 seconds since the loop started\n",
      "test\n",
      "validation\n",
      "val loss score is :0.0511764979831391\n",
      "val acc score is :0.9766613924050633\n",
      "test\n",
      "test loss score is :0.03589804540521832\n",
      "test acc score is :0.9793314873417721\n"
     ]
    },
    {
     "name": "stderr",
     "output_type": "stream",
     "text": [
      "\r",
      " 77%|██████████████████████████████████████████████████████████████▎                  | 77/100 [09:32<02:49,  7.36s/it]"
     ]
    },
    {
     "name": "stdout",
     "output_type": "stream",
     "text": [
      "Epoch 77\n",
      "train\n",
      "Using real-time data augmentation.\n",
      "train loss score is :0.005278432690513158\n",
      "train acc score is :0.9980818414322251\n",
      "It has been 6.036467552185059 seconds since the loop started\n",
      "test\n",
      "validation\n",
      "val loss score is :0.05108810433398791\n",
      "val acc score is :0.9764636075949367\n",
      "test\n",
      "test loss score is :0.03608266859577892\n",
      "test acc score is :0.9793314873417721\n"
     ]
    },
    {
     "name": "stderr",
     "output_type": "stream",
     "text": [
      "\r",
      " 78%|███████████████████████████████████████████████████████████████▏                 | 78/100 [09:40<02:42,  7.38s/it]"
     ]
    },
    {
     "name": "stdout",
     "output_type": "stream",
     "text": [
      "Epoch 78\n",
      "train\n",
      "Using real-time data augmentation.\n",
      "train loss score is :0.005153168304989328\n",
      "train acc score is :0.9981617647058824\n",
      "It has been 6.492827892303467 seconds since the loop started\n",
      "test\n",
      "validation\n",
      "val loss score is :0.05087200563958746\n",
      "val acc score is :0.9765625\n",
      "test\n",
      "test loss score is :0.03690941804823616\n",
      "test acc score is :0.9790348101265823\n"
     ]
    },
    {
     "name": "stderr",
     "output_type": "stream",
     "text": [
      "\r",
      " 79%|███████████████████████████████████████████████████████████████▉                 | 79/100 [09:48<02:38,  7.55s/it]"
     ]
    },
    {
     "name": "stdout",
     "output_type": "stream",
     "text": [
      "Epoch 79\n",
      "train\n",
      "Using real-time data augmentation.\n",
      "train loss score is :0.0050865319349667265\n",
      "train acc score is :0.9980218989769821\n",
      "It has been 6.306302785873413 seconds since the loop started\n",
      "test\n",
      "validation\n",
      "val loss score is :0.05121229629141361\n",
      "val acc score is :0.9766613924050633\n",
      "test\n",
      "test loss score is :0.036379295617521915\n",
      "test acc score is :0.9791337025316456\n"
     ]
    },
    {
     "name": "stderr",
     "output_type": "stream",
     "text": [
      "\r",
      " 80%|████████████████████████████████████████████████████████████████▊                | 80/100 [09:56<02:31,  7.58s/it]"
     ]
    },
    {
     "name": "stdout",
     "output_type": "stream",
     "text": [
      "Epoch 80\n",
      "train\n",
      "Using real-time data augmentation.\n",
      "train loss score is :0.004928567012369423\n",
      "train acc score is :0.9981817455242967\n",
      "It has been 5.940252065658569 seconds since the loop started\n",
      "test\n",
      "validation\n",
      "val loss score is :0.05172970560320382\n",
      "val acc score is :0.9769580696202531\n",
      "test\n",
      "test loss score is :0.037870672243334874\n",
      "test acc score is :0.9795292721518988\n"
     ]
    },
    {
     "name": "stderr",
     "output_type": "stream",
     "text": [
      "\r",
      " 81%|█████████████████████████████████████████████████████████████████▌               | 81/100 [10:03<02:22,  7.49s/it]"
     ]
    },
    {
     "name": "stdout",
     "output_type": "stream",
     "text": [
      "Epoch 81\n",
      "train\n",
      "Using real-time data augmentation.\n",
      "train loss score is :0.00482748658667989\n",
      "train acc score is :0.9981617647058824\n",
      "It has been 5.864965915679932 seconds since the loop started\n",
      "test\n",
      "validation\n",
      "val loss score is :0.052786001299001\n",
      "val acc score is :0.9767602848101266\n",
      "test\n",
      "test loss score is :0.036951797706357946\n",
      "test acc score is :0.978935917721519\n"
     ]
    },
    {
     "name": "stderr",
     "output_type": "stream",
     "text": [
      "\r",
      " 82%|██████████████████████████████████████████████████████████████████▍              | 82/100 [10:10<02:13,  7.41s/it]"
     ]
    },
    {
     "name": "stdout",
     "output_type": "stream",
     "text": [
      "Epoch 82\n",
      "train\n",
      "Using real-time data augmentation.\n",
      "train loss score is :0.004792312285593411\n",
      "train acc score is :0.9980818414322251\n",
      "It has been 5.991185188293457 seconds since the loop started\n",
      "test\n",
      "validation\n",
      "val loss score is :0.05244386932316024\n",
      "val acc score is :0.9765625\n",
      "test\n",
      "test loss score is :0.03817815847895285\n",
      "test acc score is :0.9788370253164557\n"
     ]
    },
    {
     "name": "stderr",
     "output_type": "stream",
     "text": [
      "\r",
      " 83%|███████████████████████████████████████████████████████████████████▏             | 83/100 [10:17<02:05,  7.41s/it]"
     ]
    },
    {
     "name": "stdout",
     "output_type": "stream",
     "text": [
      "Epoch 83\n",
      "train\n",
      "Using real-time data augmentation.\n",
      "train loss score is :0.004631371554297656\n",
      "train acc score is :0.9982416879795396\n",
      "It has been 6.324598789215088 seconds since the loop started\n",
      "test\n",
      "validation\n",
      "val loss score is :0.051388613839405274\n",
      "val acc score is :0.9764636075949367\n",
      "test\n",
      "test loss score is :0.036513817032041686\n",
      "test acc score is :0.9790348101265823\n"
     ]
    },
    {
     "name": "stderr",
     "output_type": "stream",
     "text": [
      "\r",
      " 84%|████████████████████████████████████████████████████████████████████             | 84/100 [10:25<02:00,  7.52s/it]"
     ]
    },
    {
     "name": "stdout",
     "output_type": "stream",
     "text": [
      "Epoch 84\n",
      "train\n",
      "Using real-time data augmentation.\n",
      "train loss score is :0.004584743481431909\n",
      "train acc score is :0.9982816496163683\n",
      "It has been 6.259443998336792 seconds since the loop started\n",
      "test\n",
      "validation\n",
      "val loss score is :0.05180736665048082\n",
      "val acc score is :0.9763647151898734\n",
      "test\n",
      "test loss score is :0.03698238669727012\n",
      "test acc score is :0.9797270569620253\n"
     ]
    },
    {
     "name": "stderr",
     "output_type": "stream",
     "text": [
      "\r",
      " 85%|████████████████████████████████████████████████████████████████████▊            | 85/100 [10:33<01:53,  7.58s/it]"
     ]
    },
    {
     "name": "stdout",
     "output_type": "stream",
     "text": [
      "Epoch 85\n",
      "train\n",
      "Using real-time data augmentation.\n",
      "train loss score is :0.004471079559478363\n",
      "train acc score is :0.998261668797954\n",
      "It has been 5.963263034820557 seconds since the loop started\n",
      "test\n",
      "validation\n",
      "val loss score is :0.05231176173410974\n",
      "val acc score is :0.9763647151898734\n",
      "test\n",
      "test loss score is :0.037644639140425276\n",
      "test acc score is :0.9792325949367089\n"
     ]
    },
    {
     "name": "stderr",
     "output_type": "stream",
     "text": [
      "\r",
      " 86%|█████████████████████████████████████████████████████████████████████▋           | 86/100 [10:40<01:44,  7.49s/it]"
     ]
    },
    {
     "name": "stdout",
     "output_type": "stream",
     "text": [
      "Epoch 86\n",
      "train\n",
      "Using real-time data augmentation.\n",
      "train loss score is :0.004413273751155397\n",
      "train acc score is :0.9982816496163683\n",
      "It has been 6.079479455947876 seconds since the loop started\n",
      "test\n",
      "validation\n",
      "val loss score is :0.05225295462436338\n",
      "val acc score is :0.9765625\n",
      "test\n",
      "test loss score is :0.03739032199049274\n",
      "test acc score is :0.9792325949367089\n"
     ]
    },
    {
     "name": "stderr",
     "output_type": "stream",
     "text": [
      "\r",
      " 87%|██████████████████████████████████████████████████████████████████████▍          | 87/100 [10:48<01:37,  7.49s/it]"
     ]
    },
    {
     "name": "stdout",
     "output_type": "stream",
     "text": [
      "Epoch 87\n",
      "train\n",
      "Using real-time data augmentation.\n",
      "train loss score is :0.004348224099015604\n",
      "train acc score is :0.998321611253197\n",
      "It has been 6.4552001953125 seconds since the loop started\n",
      "test\n",
      "validation\n",
      "val loss score is :0.05168333934189728\n",
      "val acc score is :0.9766613924050633\n",
      "test\n",
      "test loss score is :0.0373930408053109\n",
      "test acc score is :0.9794303797468354\n"
     ]
    },
    {
     "name": "stderr",
     "output_type": "stream",
     "text": [
      "\r",
      " 88%|███████████████████████████████████████████████████████████████████████▎         | 88/100 [10:56<01:30,  7.58s/it]"
     ]
    },
    {
     "name": "stdout",
     "output_type": "stream",
     "text": [
      "Epoch 88\n",
      "train\n",
      "Using real-time data augmentation.\n",
      "train loss score is :0.004264435515238229\n",
      "train acc score is :0.998261668797954\n",
      "It has been 6.354135751724243 seconds since the loop started\n",
      "test\n",
      "validation\n",
      "val loss score is :0.0523968624427054\n",
      "val acc score is :0.9768591772151899\n",
      "test\n",
      "test loss score is :0.03698062182395259\n",
      "test acc score is :0.9794303797468354\n"
     ]
    },
    {
     "name": "stderr",
     "output_type": "stream",
     "text": [
      "\r",
      " 89%|████████████████████████████████████████████████████████████████████████         | 89/100 [11:03<01:23,  7.62s/it]"
     ]
    },
    {
     "name": "stdout",
     "output_type": "stream",
     "text": [
      "Epoch 89\n",
      "train\n",
      "Using real-time data augmentation.\n",
      "train loss score is :0.0041639872353158944\n",
      "train acc score is :0.9983415920716112\n",
      "It has been 6.1957621574401855 seconds since the loop started\n",
      "test\n",
      "validation\n",
      "val loss score is :0.05238900796310973\n",
      "val acc score is :0.9766613924050633\n",
      "test\n",
      "test loss score is :0.038171866880164294\n",
      "test acc score is :0.978935917721519\n"
     ]
    },
    {
     "name": "stderr",
     "output_type": "stream",
     "text": [
      "\r",
      " 90%|████████████████████████████████████████████████████████████████████████▉        | 90/100 [11:11<01:16,  7.61s/it]"
     ]
    },
    {
     "name": "stdout",
     "output_type": "stream",
     "text": [
      "Epoch 90\n",
      "train\n",
      "Using real-time data augmentation.\n",
      "train loss score is :0.004077919177468205\n",
      "train acc score is :0.9983415920716112\n",
      "It has been 6.610677480697632 seconds since the loop started\n",
      "test\n",
      "validation\n",
      "val loss score is :0.052772693735381765\n",
      "val acc score is :0.9766613924050633\n",
      "test\n",
      "test loss score is :0.03823794038801599\n",
      "test acc score is :0.978935917721519\n"
     ]
    },
    {
     "name": "stderr",
     "output_type": "stream",
     "text": [
      "\r",
      " 91%|█████████████████████████████████████████████████████████████████████████▋       | 91/100 [11:19<01:09,  7.74s/it]"
     ]
    },
    {
     "name": "stdout",
     "output_type": "stream",
     "text": [
      "Epoch 91\n",
      "train\n",
      "Using real-time data augmentation.\n",
      "train loss score is :0.004006217066973449\n",
      "train acc score is :0.9982217071611253\n",
      "It has been 6.367123126983643 seconds since the loop started\n",
      "test\n",
      "validation\n",
      "val loss score is :0.0526676127351896\n",
      "val acc score is :0.9764636075949367\n",
      "test\n",
      "test loss score is :0.03860024053344055\n",
      "test acc score is :0.9787381329113924\n"
     ]
    },
    {
     "name": "stderr",
     "output_type": "stream",
     "text": [
      "\r",
      " 92%|██████████████████████████████████████████████████████████████████████████▌      | 92/100 [11:27<01:02,  7.76s/it]"
     ]
    },
    {
     "name": "stdout",
     "output_type": "stream",
     "text": [
      "Epoch 92\n",
      "train\n",
      "Using real-time data augmentation.\n",
      "train loss score is :0.003987881938701786\n",
      "train acc score is :0.9983016304347826\n",
      "It has been 6.360377788543701 seconds since the loop started\n",
      "test\n",
      "validation\n",
      "val loss score is :0.05272039666821991\n",
      "val acc score is :0.9766613924050633\n",
      "test\n",
      "test loss score is :0.037434418132393094\n",
      "test acc score is :0.9795292721518988\n"
     ]
    },
    {
     "name": "stderr",
     "output_type": "stream",
     "text": [
      "\r",
      " 93%|███████████████████████████████████████████████████████████████████████████▎     | 93/100 [11:34<00:54,  7.75s/it]"
     ]
    },
    {
     "name": "stdout",
     "output_type": "stream",
     "text": [
      "Epoch 93\n",
      "train\n",
      "Using real-time data augmentation.\n",
      "train loss score is :0.0038008838160107296\n",
      "train acc score is :0.9984215153452686\n",
      "It has been 6.280995845794678 seconds since the loop started\n",
      "test\n",
      "validation\n",
      "val loss score is :0.05262554483059574\n",
      "val acc score is :0.9764636075949367\n",
      "test\n",
      "test loss score is :0.03794473078090085\n",
      "test acc score is :0.979628164556962\n"
     ]
    },
    {
     "name": "stderr",
     "output_type": "stream",
     "text": [
      "\r",
      " 94%|████████████████████████████████████████████████████████████████████████████▏    | 94/100 [11:42<00:46,  7.72s/it]"
     ]
    },
    {
     "name": "stdout",
     "output_type": "stream",
     "text": [
      "Epoch 94\n",
      "train\n",
      "Using real-time data augmentation.\n",
      "train loss score is :0.003809832223772031\n",
      "train acc score is :0.9984215153452686\n",
      "It has been 6.349146604537964 seconds since the loop started\n",
      "test\n",
      "validation\n",
      "val loss score is :0.052088124256477006\n",
      "val acc score is :0.9769580696202531\n",
      "test\n",
      "test loss score is :0.03744374890931472\n",
      "test acc score is :0.979628164556962\n"
     ]
    },
    {
     "name": "stderr",
     "output_type": "stream",
     "text": [
      "\r",
      " 95%|████████████████████████████████████████████████████████████████████████████▉    | 95/100 [11:50<00:38,  7.74s/it]"
     ]
    },
    {
     "name": "stdout",
     "output_type": "stream",
     "text": [
      "Epoch 95\n",
      "train\n",
      "Using real-time data augmentation.\n",
      "train loss score is :0.0036840011171847425\n",
      "train acc score is :0.9984814578005116\n",
      "It has been 6.425821542739868 seconds since the loop started\n",
      "test\n",
      "validation\n",
      "val loss score is :0.05408492748540107\n",
      "val acc score is :0.9762658227848101\n",
      "test\n",
      "test loss score is :0.039385525037054135\n",
      "test acc score is :0.9788370253164557\n"
     ]
    },
    {
     "name": "stderr",
     "output_type": "stream",
     "text": [
      "\r",
      " 96%|█████████████████████████████████████████████████████████████████████████████▊   | 96/100 [11:58<00:31,  7.78s/it]"
     ]
    },
    {
     "name": "stdout",
     "output_type": "stream",
     "text": [
      "Epoch 96\n",
      "train\n",
      "Using real-time data augmentation.\n",
      "train loss score is :0.0036929488554649005\n",
      "train acc score is :0.9983615728900256\n",
      "It has been 6.4855780601501465 seconds since the loop started\n",
      "test\n",
      "validation\n",
      "val loss score is :0.05351436818542609\n",
      "val acc score is :0.9765625\n",
      "test\n",
      "test loss score is :0.0391689439509005\n",
      "test acc score is :0.9790348101265823\n"
     ]
    },
    {
     "name": "stderr",
     "output_type": "stream",
     "text": [
      "\r",
      " 97%|██████████████████████████████████████████████████████████████████████████████▌  | 97/100 [12:06<00:23,  7.81s/it]"
     ]
    },
    {
     "name": "stdout",
     "output_type": "stream",
     "text": [
      "Epoch 97\n",
      "train\n",
      "Using real-time data augmentation.\n",
      "train loss score is :0.0035464979487571323\n",
      "train acc score is :0.9985014386189258\n",
      "It has been 6.337183713912964 seconds since the loop started\n",
      "test\n",
      "validation\n",
      "val loss score is :0.05470313676087704\n",
      "val acc score is :0.9765625\n",
      "test\n",
      "test loss score is :0.039722573315447325\n",
      "test acc score is :0.978243670886076\n"
     ]
    },
    {
     "name": "stderr",
     "output_type": "stream",
     "text": [
      "\r",
      " 98%|███████████████████████████████████████████████████████████████████████████████▍ | 98/100 [12:13<00:15,  7.79s/it]"
     ]
    },
    {
     "name": "stdout",
     "output_type": "stream",
     "text": [
      "Epoch 98\n",
      "train\n",
      "Using real-time data augmentation.\n",
      "train loss score is :0.003540114502643135\n",
      "train acc score is :0.99838155370844\n",
      "It has been 6.288406610488892 seconds since the loop started\n",
      "test\n",
      "validation\n",
      "val loss score is :0.053123326187146686\n",
      "val acc score is :0.9764636075949367\n",
      "test\n",
      "test loss score is :0.03944807615080438\n",
      "test acc score is :0.978935917721519\n"
     ]
    },
    {
     "name": "stderr",
     "output_type": "stream",
     "text": [
      "\r",
      " 99%|████████████████████████████████████████████████████████████████████████████████▏| 99/100 [12:21<00:07,  7.76s/it]"
     ]
    },
    {
     "name": "stdout",
     "output_type": "stream",
     "text": [
      "Epoch 99\n",
      "train\n",
      "Using real-time data augmentation.\n",
      "train loss score is :0.0034909197924640196\n",
      "train acc score is :0.9984215153452686\n",
      "It has been 6.187417030334473 seconds since the loop started\n",
      "test\n",
      "validation\n",
      "val loss score is :0.053321933307496336\n",
      "val acc score is :0.9763647151898734\n",
      "test\n",
      "test loss score is :0.03825412956873563\n",
      "test acc score is :0.9793314873417721\n"
     ]
    },
    {
     "name": "stderr",
     "output_type": "stream",
     "text": [
      "100%|████████████████████████████████████████████████████████████████████████████████| 100/100 [12:29<00:00,  7.72s/it]\n"
     ]
    }
   ],
   "source": [
    "input_tensors = [all_model[0].inputs[0], # input data\n",
    "                 all_model[0].sample_weights[0], # how much to weight each sample by\n",
    "                 all_model[0].targets[0], # labels\n",
    "                 K.learning_phase(), # train or test mode\n",
    "                 all_model[1].inputs[0], # input data\n",
    "                 all_model[1].sample_weights[0], # how much to weight each sample by\n",
    "                 all_model[1].targets[0], # labels\n",
    "                 all_model[2].inputs[0], # input data\n",
    "                 all_model[2].sample_weights[0], # how much to weight each sample by\n",
    "                 all_model[2].targets[0], # labels\n",
    "                ]\n",
    "\n",
    "\n",
    "minlos = K.argmin(losses)\n",
    "\n",
    "grr=[]\n",
    "for x in gr:\n",
    "    for y in x:\n",
    "        grr.append(y)\n",
    "\n",
    "upd_test= K.function(inputs=input_tensors, outputs=[ losses[0], losses[1], losses[2], minlos, prediction[0], prediction[1], prediction[2] ])\n",
    "\n",
    "\n",
    "grad_best=[]\n",
    "grad_non0 = []\n",
    "grad_non1 = []\n",
    "\n",
    "\n",
    "weig_best=[]\n",
    "weig_non0 = []\n",
    "weig_non1 = []\n",
    "\n",
    "xweig_best=[]\n",
    "xweig_non0 = []\n",
    "xweig_non1 = []\n",
    "\n",
    "\n",
    "\n",
    "\n",
    "for i in range(len(gr[0])):\n",
    "    gr_ck=tf.concat([gr[0][i],gr[1][i], gr[2][i]],0)\n",
    "    newshape = (3, ) + (tuple(wr[0][i].shape))\n",
    "\n",
    "    \n",
    "    gr_ck2=tf.reshape(gr_ck, newshape)\n",
    "    \n",
    "    bb = gr_ck2[minlos]\n",
    "    grad_best.append(bb)\n",
    "    \n",
    "    nbb0 = gr_ck2[0:minlos]                       #[0,enk) U (enk,] aralıklarının birleşimi bize nonbesti verecek\n",
    "    nbb1 = gr_ck2[minlos+1:]                      #[0,enk) U (enk,] aralıklarının birleşimi bize nonbesti verecek\n",
    "    nbc = tf.concat([nbb0,nbb1], 0)    \n",
    "    nbc = tf.reshape(nbc, (-1,))\n",
    "    newshape2 = (2, ) + (tuple(wr[0][i].shape))\n",
    "    \n",
    "    nbc2 = tf.reshape(nbc, newshape2) \n",
    "    nb0 = nbc2[0]\n",
    "    nb1 = nbc2[1]\n",
    "    grad_non0.append(nb0)\n",
    "    grad_non1.append(nb1)\n",
    "    \n",
    "\n",
    "    wr_ck=tf.concat([wr[0][i],wr[1][i], wr[2][i]],0)\n",
    "    \n",
    "    newshape = (3, ) + (tuple(wr[0][i].shape))\n",
    "    wr_ck2=tf.reshape(wr_ck, newshape) \n",
    "    bb2 = wr_ck2[minlos]\n",
    "    weig_best.append(bb2)\n",
    "    \n",
    "    #wb = wr_ck[minlos]\n",
    "    wnbb0 = wr_ck2[0:minlos]                       #[0,enk) U (enk,] aralıklarının birleşimi bize nonbesti verecek\n",
    "    wnbb1 = wr_ck2[minlos+1:]                      #[0,enk) U (enk,] aralıklarının birleşimi bize nonbesti verecek\n",
    "    wnbc = tf.concat([wnbb0,wnbb1],0)    \n",
    "    wnbc = tf.reshape(wnbc, (-1,))\n",
    "    newshape2 = (2, ) + (tuple(wr[0][i].shape))\n",
    "    \n",
    "    wnbc2 =tf.reshape(wnbc, newshape2)\n",
    "    wnb0 = wnbc2[0]\n",
    "    wnb1 = wnbc2[1]\n",
    "    weig_non0.append(wnb0)\n",
    "    weig_non1.append(wnb1)\n",
    "    \n",
    "    if i<len(xwr[0]):\n",
    "        print (i)\n",
    "        xwr_ck=tf.concat([xwr[0][i],xwr[1][i], xwr[2][i]], 0)\n",
    "\n",
    "        newshape = (3, ) + (tuple(xwr[0][i].shape))\n",
    "        \n",
    "        xwr_ck2=tf.reshape(xwr_ck, newshape)  \n",
    "        xbb2 = xwr_ck2[minlos]\n",
    "        xweig_best.append(xbb2)\n",
    "\n",
    "        #wb = wr_ck[minlos]\n",
    "        xwnbb0 = xwr_ck2[0:minlos]                       #[0,enk) U (enk,] aralıklarının birleşimi bize nonbesti verecek\n",
    "        xwnbb1 = xwr_ck2[minlos+1:]                      #[0,enk) U (enk,] aralıklarının birleşimi bize nonbesti verecek\n",
    "        xwnbc = tf.concat([xwnbb0,xwnbb1], 0)    \n",
    "        \n",
    "        xwnbc = tf.reshape(xwnbc, (-1,))\n",
    "        newshape2 = (2, ) + (tuple(xwr[0][i].shape))\n",
    "         \n",
    "        xwnbc2 = tf.reshape(xwnbc, newshape2) \n",
    "        xwnb0 = xwnbc2[0]\n",
    "        xwnb1 = xwnbc2[1]\n",
    "        xweig_non0.append(xwnb0)\n",
    "        xweig_non1.append(xwnb1)\n",
    "    else:\n",
    "        pass\n",
    "\n",
    "    \n",
    "los=tf.stack([losses[0], losses[1], losses[2]])\n",
    "\n",
    "newshape = (3, )\n",
    "los2=tf.reshape(los, newshape) \n",
    "losbest = los2[minlos]\n",
    "\n",
    "#wb = wr_ck[minlos]\n",
    "los_0 = los2[0:minlos]                       #[0,enk) U (enk,] aralıklarının birleşimi bize nonbesti verecek\n",
    "los_1 = los2[minlos+1:]                      #[0,enk) U (enk,] aralıklarının birleşimi bize nonbesti verecek\n",
    "loswnbc = tf.concat([los_0,los_1],0)    \n",
    "loswnbc = tf.reshape(loswnbc,(-1,))\n",
    "newshape2 = (2, )\n",
    "\n",
    "loswnbc2 = tf.reshape(loswnbc, newshape2)\n",
    "losss0 = loswnbc2[0]\n",
    "losss1 = loswnbc2[1]\n",
    "\n",
    "agradb = [tf.Variable(tf.zeros(t.shape, dtype=tf.float32, name='m_best')) for t in weig_best]\n",
    "agradn0 = [tf.Variable(tf.zeros(t.shape, dtype=tf.float32, name='m_0')) for t in weig_non0]\n",
    "agradn1 = [tf.Variable(tf.zeros(t.shape, dtype=tf.float32, name='m_1')) for t in weig_non1]\n",
    "\n",
    "step_size = 0.01\n",
    "eps = 0.000001\n",
    "\n",
    "upd2=[]\n",
    "\n",
    "for agrad, best, gbest,  param_i, in zip(agradb, weig_best, grad_best, wr[2]):\n",
    "    accgrad = agrad + gbest * gbest\n",
    "    dx = - (step_size / tf.sqrt(accgrad + eps)) * gbest\n",
    "    # accgrad = tf.cast(accgrad, tf.float32)\n",
    "    # dx = tf.cast(dx, tf.float32)    \n",
    "    upd2.extend([tf.assign(agrad, accgrad)])\n",
    "    upd2.extend([tf.assign(param_i, best + dx)])\n",
    "\n",
    "\n",
    "upd2.extend([tf.assign(param_i, v)\n",
    "        for param_i, v in zip(xwr[2], xweig_best)]\n",
    "    )    \n",
    "    \n",
    "    \n",
    "upd_bb2= K.function(inputs=input_tensors, outputs=[ losses[0], losses[1], losses[2], minlos, prediction[0], prediction[1], prediction[2] ], updates=upd2)\n",
    "\n",
    "\n",
    "\n",
    "\n",
    "\n",
    "\n",
    "lossepoch=[]\n",
    "lossepoch_test=[]\n",
    "lossx=[]\n",
    "acctra=[]\n",
    "loss_test=[]\n",
    "acc_test=[]\n",
    "skip=[]\n",
    "\n",
    "\n",
    "loss_val=[]\n",
    "acc_val=[]\n",
    "lossepoch_val=[]\n",
    "\n",
    "   \n",
    "for f in tqdm(range(epochs)):\n",
    "    program_starts = time.time()\n",
    "    tr1=[]\n",
    "    tr2=[]\n",
    "    res1=[]\n",
    "    res2=[]\n",
    "    res3=[]\n",
    "    res4=[]\n",
    "    print('Epoch', f)\n",
    "    print ('train')\n",
    "    \n",
    "    print('Using real-time data augmentation.')\n",
    "    # This will do preprocessing and realtime data augmentation:\n",
    "\n",
    "    batches = 0\n",
    "    for x_batch, y_batch in ImageDataGenerator().flow(x_train, y_train, batch_size=batch_size):\n",
    "        K.set_learning_phase(1)\n",
    "        inputs = [x_batch, # X\n",
    "                  np.ones(y_batch.shape[0]), # sample weights\n",
    "                  y_batch, # y\n",
    "                  1, # learning phase in Train mode\n",
    "                  x_batch, # X\n",
    "                  np.ones(y_batch.shape[0]), # sample weights\n",
    "                  y_batch, # y\n",
    "                  x_batch, # X\n",
    "                  np.ones(y_batch.shape[0]), # sample weights\n",
    "                  y_batch, # y\n",
    "                 ]\n",
    "        ll = upd_bb2(inputs)\n",
    "        yhat=ll[6]\n",
    "        #print (accuracy_score(np.argmax(y_batch,axis=1), np.argmax(yhat,axis=1)))\n",
    "        #print (ll[:4])\n",
    "        lossepoch.append(ll[2])\n",
    "        tr1.append(ll[2])\n",
    "        tr2.append(accuracy_score(np.argmax(y_batch,axis=1), np.argmax(yhat,axis=1)))\n",
    "        skip.append(ll[3])\n",
    "        batches += 1\n",
    "        if batches > len(x_train) / batch_size:\n",
    "            # we need to break the loop by hand because\n",
    "            # the generator loops indefinitely\n",
    "            break\n",
    "    m=(len(x_train) / batch_size)-int((len(x_train) / batch_size))\n",
    "    tr1[-1]*=m\n",
    "    tr2[-1]*=m\n",
    "    lossx.append(np.mean(tr1))\n",
    "    acctra.append(np.mean(tr2))\n",
    "    print ('train loss score is :'+str(np.mean(tr1)))\n",
    "    print ('train acc score is :'+str(np.mean(tr2)))\n",
    "    now = time.time()\n",
    "    print(\"It has been {0} seconds since the loop started\".format(now - program_starts))\n",
    "    print ('test')\n",
    "    batchesx = 0\n",
    "    \n",
    "    \n",
    "    \n",
    "    \n",
    "    print ('validation')\n",
    "    batchesx = 0\n",
    "    for x_batch, y_batch in ImageDataGenerator().flow(x_val, y_val, batch_size=batch_size):\n",
    "        K.set_learning_phase(0)\n",
    "        inputs = [x_batch, # X\n",
    "                  np.ones(y_batch.shape[0]), # sample weights\n",
    "                  y_batch, # y\n",
    "                  1, # learning phase in VAl mode\n",
    "                  x_batch, # X\n",
    "                  np.ones(y_batch.shape[0]), # sample weights\n",
    "                  y_batch, # y\n",
    "                  x_batch, # X\n",
    "                  np.ones(y_batch.shape[0]), # sample weights\n",
    "                  y_batch, # y\n",
    "                 ]\n",
    "        ll = upd_test(inputs)\n",
    "        yhat=ll[6]\n",
    "        #print (accuracy_score(np.argmax(y_batch,axis=1), np.argmax(yhat,axis=1)))\n",
    "        #print (ll[:3])\n",
    "        lossepoch_val.append(ll[2])\n",
    "        res3.append(ll[2])\n",
    "        res4.append(accuracy_score(np.argmax(y_batch,axis=1), np.argmax(yhat,axis=1)))\n",
    "        batchesx += 1\n",
    "        if batchesx >= len(x_val) / batch_size:\n",
    "            break\n",
    "    m=(len(x_val) / batch_size)-int((len(x_val) / batch_size))\n",
    "    res3[-1]*=m\n",
    "    res4[-1]*=m\n",
    "    loss_val.append(np.mean(res3))\n",
    "    acc_val.append(np.mean(res4))\n",
    "    print ('val loss score is :'+str(np.mean(res3)))\n",
    "    print ('val acc score is :'+str(np.mean(res4)))\n",
    "    print ('test')\n",
    "    batchesx = 0\n",
    "    for x_batch, y_batch in ImageDataGenerator().flow(x_test, y_test, batch_size=batch_size):\n",
    "        K.set_learning_phase(0)\n",
    "        inputs = [x_batch, # X\n",
    "                  np.ones(y_batch.shape[0]), # sample weights\n",
    "                  y_batch, # y\n",
    "                  1, # learning phase in TEST mode\n",
    "                  x_batch, # X\n",
    "                  np.ones(y_batch.shape[0]), # sample weights\n",
    "                  y_batch, # y\n",
    "                  x_batch, # X\n",
    "                  np.ones(y_batch.shape[0]), # sample weights\n",
    "                  y_batch, # y\n",
    "                 ]\n",
    "        ll = upd_test(inputs)\n",
    "        yhat=ll[6]\n",
    "        #print (accuracy_score(np.argmax(y_batch,axis=1), np.argmax(yhat,axis=1)))\n",
    "        #print (ll[:3])\n",
    "        lossepoch_test.append(ll[2])\n",
    "        res1.append(ll[2])\n",
    "        res2.append(accuracy_score(np.argmax(y_batch,axis=1), np.argmax(yhat,axis=1)))\n",
    "        batchesx += 1\n",
    "        if batchesx >= len(x_test) / batch_size:\n",
    "            break\n",
    "    m=(len(x_test) / batch_size)-int((len(x_test) / batch_size))\n",
    "    res1[-1]*=m\n",
    "    res2[-1]*=m\n",
    "    loss_test.append(np.mean(res1))\n",
    "    acc_test.append(np.mean(res2))\n",
    "    print ('test loss score is :'+str(np.mean(res1)))\n",
    "    print ('test acc score is :'+str(np.mean(res2)))\n",
    "\n"
   ]
  },
  {
   "cell_type": "code",
   "execution_count": 13,
   "metadata": {},
   "outputs": [],
   "source": [
    "#\\K.clear_session()"
   ]
  },
  {
   "cell_type": "code",
   "execution_count": 14,
   "metadata": {},
   "outputs": [
    {
     "name": "stdout",
     "output_type": "stream",
     "text": [
      "0.9797270569620253 84\n",
      "0.977254746835443 58\n",
      "0.033674035243442445 29\n",
      "0.0474609411729932 40\n"
     ]
    }
   ],
   "source": [
    "print (np.max(acc_test), np.argmax(acc_test))\n",
    "print (np.max(acc_val), np.argmax(acc_val))\n",
    "print (np.min(loss_test), np.argmin(loss_test))\n",
    "print (np.min(loss_val), np.argmin(loss_val))\n"
   ]
  },
  {
   "cell_type": "code",
   "execution_count": 15,
   "metadata": {},
   "outputs": [],
   "source": [
    "np.savetxt(\"Adagrad_Mnist_lossepoch.csv\", lossepoch, delimiter=\",\", fmt='%s')\n",
    "np.savetxt(\"Adagrad_Mnist_lossepoch_test.csv\", lossepoch_test, delimiter=\",\", fmt='%s')\n",
    "np.savetxt(\"Adagrad_Mnist_loss_tra.csv\", lossx, delimiter=\",\", fmt='%s')\n",
    "np.savetxt(\"Adagrad_Mnist_skip.csv\", skip, delimiter=\",\", fmt='%s')\n",
    "np.savetxt(\"Adagrad_Mnist_acc_tra.csv\", acctra, delimiter=\",\", fmt='%s')\n",
    "np.savetxt(\"Adagrad_Mnist_loss_test.csv\", loss_test, delimiter=\",\", fmt='%s')\n",
    "np.savetxt(\"Adagrad_Mnist_acc_test.csv\", acc_test, delimiter=\",\", fmt='%s')"
   ]
  },
  {
   "cell_type": "code",
   "execution_count": null,
   "metadata": {},
   "outputs": [],
   "source": []
  }
 ],
 "metadata": {
  "kernelspec": {
   "display_name": "Python 2",
   "language": "python",
   "name": "python2"
  },
  "language_info": {
   "codemirror_mode": {
    "name": "ipython",
    "version": 2
   },
   "file_extension": ".py",
   "mimetype": "text/x-python",
   "name": "python",
   "nbconvert_exporter": "python",
   "pygments_lexer": "ipython2",
   "version": "2.7.16"
  }
 },
 "nbformat": 4,
 "nbformat_minor": 2
}
