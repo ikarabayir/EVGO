{
 "cells": [
  {
   "cell_type": "code",
   "execution_count": 1,
   "metadata": {},
   "outputs": [
    {
     "name": "stderr",
     "output_type": "stream",
     "text": [
      "Using TensorFlow backend.\n"
     ]
    },
    {
     "name": "stdout",
     "output_type": "stream",
     "text": [
      "x_train shape: (50000, 32, 32, 3)\n",
      "50000 train samples\n",
      "10000 test samples\n",
      "y_train shape: (50000, 1)\n",
      "__________________________________________________________________________________________________\n",
      "Layer (type)                    Output Shape         Param #     Connected to                     \n",
      "==================================================================================================\n",
      "input_3 (InputLayer)            (None, 32, 32, 3)    0                                            \n",
      "__________________________________________________________________________________________________\n",
      "conv2d_43 (Conv2D)              (None, 32, 32, 16)   448         input_3[0][0]                    \n",
      "__________________________________________________________________________________________________\n",
      "activation_39 (Activation)      (None, 32, 32, 16)   0           conv2d_43[0][0]                  \n",
      "__________________________________________________________________________________________________\n",
      "conv2d_44 (Conv2D)              (None, 32, 32, 16)   2320        activation_39[0][0]              \n",
      "__________________________________________________________________________________________________\n",
      "activation_40 (Activation)      (None, 32, 32, 16)   0           conv2d_44[0][0]                  \n",
      "__________________________________________________________________________________________________\n",
      "conv2d_45 (Conv2D)              (None, 32, 32, 16)   2320        activation_40[0][0]              \n",
      "__________________________________________________________________________________________________\n",
      "add_19 (Add)                    (None, 32, 32, 16)   0           activation_39[0][0]              \n",
      "                                                                 conv2d_45[0][0]                  \n",
      "__________________________________________________________________________________________________\n",
      "activation_41 (Activation)      (None, 32, 32, 16)   0           add_19[0][0]                     \n",
      "__________________________________________________________________________________________________\n",
      "conv2d_46 (Conv2D)              (None, 32, 32, 16)   2320        activation_41[0][0]              \n",
      "__________________________________________________________________________________________________\n",
      "activation_42 (Activation)      (None, 32, 32, 16)   0           conv2d_46[0][0]                  \n",
      "__________________________________________________________________________________________________\n",
      "conv2d_47 (Conv2D)              (None, 32, 32, 16)   2320        activation_42[0][0]              \n",
      "__________________________________________________________________________________________________\n",
      "add_20 (Add)                    (None, 32, 32, 16)   0           activation_41[0][0]              \n",
      "                                                                 conv2d_47[0][0]                  \n",
      "__________________________________________________________________________________________________\n",
      "activation_43 (Activation)      (None, 32, 32, 16)   0           add_20[0][0]                     \n",
      "__________________________________________________________________________________________________\n",
      "conv2d_48 (Conv2D)              (None, 32, 32, 16)   2320        activation_43[0][0]              \n",
      "__________________________________________________________________________________________________\n",
      "activation_44 (Activation)      (None, 32, 32, 16)   0           conv2d_48[0][0]                  \n",
      "__________________________________________________________________________________________________\n",
      "conv2d_49 (Conv2D)              (None, 32, 32, 16)   2320        activation_44[0][0]              \n",
      "__________________________________________________________________________________________________\n",
      "add_21 (Add)                    (None, 32, 32, 16)   0           activation_43[0][0]              \n",
      "                                                                 conv2d_49[0][0]                  \n",
      "__________________________________________________________________________________________________\n",
      "activation_45 (Activation)      (None, 32, 32, 16)   0           add_21[0][0]                     \n",
      "__________________________________________________________________________________________________\n",
      "conv2d_50 (Conv2D)              (None, 16, 16, 32)   4640        activation_45[0][0]              \n",
      "__________________________________________________________________________________________________\n",
      "activation_46 (Activation)      (None, 16, 16, 32)   0           conv2d_50[0][0]                  \n",
      "__________________________________________________________________________________________________\n",
      "conv2d_52 (Conv2D)              (None, 16, 16, 32)   544         activation_45[0][0]              \n",
      "__________________________________________________________________________________________________\n",
      "conv2d_51 (Conv2D)              (None, 16, 16, 32)   9248        activation_46[0][0]              \n",
      "__________________________________________________________________________________________________\n",
      "add_22 (Add)                    (None, 16, 16, 32)   0           conv2d_52[0][0]                  \n",
      "                                                                 conv2d_51[0][0]                  \n",
      "__________________________________________________________________________________________________\n",
      "activation_47 (Activation)      (None, 16, 16, 32)   0           add_22[0][0]                     \n",
      "__________________________________________________________________________________________________\n",
      "conv2d_53 (Conv2D)              (None, 16, 16, 32)   9248        activation_47[0][0]              \n",
      "__________________________________________________________________________________________________\n",
      "activation_48 (Activation)      (None, 16, 16, 32)   0           conv2d_53[0][0]                  \n",
      "__________________________________________________________________________________________________\n",
      "conv2d_54 (Conv2D)              (None, 16, 16, 32)   9248        activation_48[0][0]              \n",
      "__________________________________________________________________________________________________\n",
      "add_23 (Add)                    (None, 16, 16, 32)   0           activation_47[0][0]              \n",
      "                                                                 conv2d_54[0][0]                  \n",
      "__________________________________________________________________________________________________\n",
      "activation_49 (Activation)      (None, 16, 16, 32)   0           add_23[0][0]                     \n",
      "__________________________________________________________________________________________________\n",
      "conv2d_55 (Conv2D)              (None, 16, 16, 32)   9248        activation_49[0][0]              \n",
      "__________________________________________________________________________________________________\n",
      "activation_50 (Activation)      (None, 16, 16, 32)   0           conv2d_55[0][0]                  \n",
      "__________________________________________________________________________________________________\n",
      "conv2d_56 (Conv2D)              (None, 16, 16, 32)   9248        activation_50[0][0]              \n",
      "__________________________________________________________________________________________________\n",
      "add_24 (Add)                    (None, 16, 16, 32)   0           activation_49[0][0]              \n",
      "                                                                 conv2d_56[0][0]                  \n",
      "__________________________________________________________________________________________________\n",
      "activation_51 (Activation)      (None, 16, 16, 32)   0           add_24[0][0]                     \n",
      "__________________________________________________________________________________________________\n",
      "conv2d_57 (Conv2D)              (None, 8, 8, 64)     18496       activation_51[0][0]              \n",
      "__________________________________________________________________________________________________\n",
      "activation_52 (Activation)      (None, 8, 8, 64)     0           conv2d_57[0][0]                  \n",
      "__________________________________________________________________________________________________\n"
     ]
    },
    {
     "name": "stdout",
     "output_type": "stream",
     "text": [
      "conv2d_59 (Conv2D)              (None, 8, 8, 64)     2112        activation_51[0][0]              \n",
      "__________________________________________________________________________________________________\n",
      "conv2d_58 (Conv2D)              (None, 8, 8, 64)     36928       activation_52[0][0]              \n",
      "__________________________________________________________________________________________________\n",
      "add_25 (Add)                    (None, 8, 8, 64)     0           conv2d_59[0][0]                  \n",
      "                                                                 conv2d_58[0][0]                  \n",
      "__________________________________________________________________________________________________\n",
      "activation_53 (Activation)      (None, 8, 8, 64)     0           add_25[0][0]                     \n",
      "__________________________________________________________________________________________________\n",
      "conv2d_60 (Conv2D)              (None, 8, 8, 64)     36928       activation_53[0][0]              \n",
      "__________________________________________________________________________________________________\n",
      "activation_54 (Activation)      (None, 8, 8, 64)     0           conv2d_60[0][0]                  \n",
      "__________________________________________________________________________________________________\n",
      "conv2d_61 (Conv2D)              (None, 8, 8, 64)     36928       activation_54[0][0]              \n",
      "__________________________________________________________________________________________________\n",
      "add_26 (Add)                    (None, 8, 8, 64)     0           activation_53[0][0]              \n",
      "                                                                 conv2d_61[0][0]                  \n",
      "__________________________________________________________________________________________________\n",
      "activation_55 (Activation)      (None, 8, 8, 64)     0           add_26[0][0]                     \n",
      "__________________________________________________________________________________________________\n",
      "conv2d_62 (Conv2D)              (None, 8, 8, 64)     36928       activation_55[0][0]              \n",
      "__________________________________________________________________________________________________\n",
      "activation_56 (Activation)      (None, 8, 8, 64)     0           conv2d_62[0][0]                  \n",
      "__________________________________________________________________________________________________\n",
      "conv2d_63 (Conv2D)              (None, 8, 8, 64)     36928       activation_56[0][0]              \n",
      "__________________________________________________________________________________________________\n",
      "add_27 (Add)                    (None, 8, 8, 64)     0           activation_55[0][0]              \n",
      "                                                                 conv2d_63[0][0]                  \n",
      "__________________________________________________________________________________________________\n",
      "activation_57 (Activation)      (None, 8, 8, 64)     0           add_27[0][0]                     \n",
      "__________________________________________________________________________________________________\n",
      "average_pooling2d_3 (AveragePoo (None, 1, 1, 64)     0           activation_57[0][0]              \n",
      "__________________________________________________________________________________________________\n",
      "flatten_3 (Flatten)             (None, 64)           0           average_pooling2d_3[0][0]        \n",
      "__________________________________________________________________________________________________\n",
      "dense_3 (Dense)                 (None, 10)           650         flatten_3[0][0]                  \n",
      "==================================================================================================\n",
      "Total params: 271,690\n",
      "Trainable params: 271,690\n",
      "Non-trainable params: 0\n",
      "__________________________________________________________________________________________________\n"
     ]
    },
    {
     "name": "stderr",
     "output_type": "stream",
     "text": [
      "\r",
      "  0%|                                                                                          | 0/200 [00:00<?, ?it/s]"
     ]
    },
    {
     "name": "stdout",
     "output_type": "stream",
     "text": [
      "Epoch 0\n",
      "train\n",
      "Using real-time data augmentation.\n",
      "train loss score is :1.8427337557554093\n",
      "train acc score is :0.34920825335892514\n",
      "It has been 117.89496541023254 seconds since the loop started\n",
      "test\n",
      "test loss score is :1.517323998216623\n",
      "test acc score is :0.4851238019169329\n"
     ]
    },
    {
     "name": "stderr",
     "output_type": "stream",
     "text": [
      "\r",
      "  0%|▍                                                                              | 1/200 [02:02<6:47:23, 122.83s/it]"
     ]
    },
    {
     "name": "stdout",
     "output_type": "stream",
     "text": [
      "Epoch 1\n",
      "train\n",
      "Using real-time data augmentation.\n",
      "train loss score is :1.4489033168047114\n",
      "train acc score is :0.5131158029430583\n",
      "It has been 111.16513752937317 seconds since the loop started\n",
      "test\n",
      "test loss score is :1.3242791476912392\n",
      "test acc score is :0.5691892971246006\n"
     ]
    },
    {
     "name": "stderr",
     "output_type": "stream",
     "text": [
      "\r",
      "  1%|▊                                                                              | 2/200 [03:58<6:38:06, 120.64s/it]"
     ]
    },
    {
     "name": "stdout",
     "output_type": "stream",
     "text": [
      "Epoch 2\n",
      "train\n",
      "Using real-time data augmentation.\n",
      "train loss score is :1.2246051732729584\n",
      "train acc score is :0.5999880038387716\n",
      "It has been 111.18454694747925 seconds since the loop started\n",
      "test\n",
      "test loss score is :1.2012837195929629\n",
      "test acc score is :0.6244009584664537\n"
     ]
    },
    {
     "name": "stderr",
     "output_type": "stream",
     "text": [
      "\r",
      "  2%|█▏                                                                             | 3/200 [05:53<6:31:05, 119.11s/it]"
     ]
    },
    {
     "name": "stdout",
     "output_type": "stream",
     "text": [
      "Epoch 3\n",
      "train\n",
      "Using real-time data augmentation.\n",
      "train loss score is :1.0722946404686207\n",
      "train acc score is :0.6646673064619322\n",
      "It has been 110.6250102519989 seconds since the loop started\n",
      "test\n",
      "test loss score is :1.0973284677766002\n",
      "test acc score is :0.6680311501597445\n"
     ]
    },
    {
     "name": "stderr",
     "output_type": "stream",
     "text": [
      "\r",
      "  2%|█▌                                                                             | 4/200 [07:48<6:25:07, 117.90s/it]"
     ]
    },
    {
     "name": "stdout",
     "output_type": "stream",
     "text": [
      "Epoch 4\n",
      "train\n",
      "Using real-time data augmentation.\n",
      "train loss score is :0.975916696525276\n",
      "train acc score is :0.705594209852847\n",
      "It has been 108.83339619636536 seconds since the loop started\n",
      "test\n",
      "test loss score is :0.9255041308677234\n",
      "test acc score is :0.7272364217252396\n"
     ]
    },
    {
     "name": "stderr",
     "output_type": "stream",
     "text": [
      "\r",
      "  2%|█▉                                                                             | 5/200 [09:41<6:18:20, 116.41s/it]"
     ]
    },
    {
     "name": "stdout",
     "output_type": "stream",
     "text": [
      "Epoch 5\n",
      "train\n",
      "Using real-time data augmentation.\n",
      "train loss score is :0.9087070414864399\n",
      "train acc score is :0.7317858285348688\n",
      "It has been 108.91454148292542 seconds since the loop started\n",
      "test\n",
      "test loss score is :0.9987012877251012\n",
      "test acc score is :0.7065694888178914\n"
     ]
    },
    {
     "name": "stderr",
     "output_type": "stream",
     "text": [
      "\r",
      "  3%|██▎                                                                            | 6/200 [11:35<6:13:16, 115.44s/it]"
     ]
    },
    {
     "name": "stdout",
     "output_type": "stream",
     "text": [
      "Epoch 6\n",
      "train\n",
      "Using real-time data augmentation.\n",
      "train loss score is :0.8649789769719674\n",
      "train acc score is :0.7486004478566859\n",
      "It has been 108.68405318260193 seconds since the loop started\n",
      "test\n",
      "test loss score is :0.824997741955157\n",
      "test acc score is :0.7696685303514377\n"
     ]
    },
    {
     "name": "stderr",
     "output_type": "stream",
     "text": [
      "\r",
      "  4%|██▊                                                                            | 7/200 [13:28<6:08:53, 114.68s/it]"
     ]
    },
    {
     "name": "stdout",
     "output_type": "stream",
     "text": [
      "Epoch 7\n",
      "train\n",
      "Using real-time data augmentation.\n",
      "train loss score is :0.8332071642004674\n",
      "train acc score is :0.7614563339731286\n",
      "It has been 105.66135096549988 seconds since the loop started\n",
      "test\n",
      "test loss score is :0.8257407199460477\n",
      "test acc score is :0.7753594249201278\n"
     ]
    },
    {
     "name": "stderr",
     "output_type": "stream",
     "text": [
      "\r",
      "  4%|███▏                                                                           | 8/200 [15:18<6:02:37, 113.32s/it]"
     ]
    },
    {
     "name": "stdout",
     "output_type": "stream",
     "text": [
      "Epoch 8\n",
      "train\n",
      "Using real-time data augmentation.\n",
      "train loss score is :0.8051422533703705\n",
      "train acc score is :0.7733725207933462\n",
      "It has been 110.53390169143677 seconds since the loop started\n",
      "test\n",
      "test loss score is :0.788527526699316\n",
      "test acc score is :0.784944089456869\n"
     ]
    },
    {
     "name": "stderr",
     "output_type": "stream",
     "text": [
      "\r",
      "  4%|███▌                                                                           | 9/200 [17:13<6:02:20, 113.82s/it]"
     ]
    },
    {
     "name": "stdout",
     "output_type": "stream",
     "text": [
      "Epoch 9\n",
      "train\n",
      "Using real-time data augmentation.\n",
      "train loss score is :0.7830032742488712\n",
      "train acc score is :0.7832293666026872\n",
      "It has been 111.38017511367798 seconds since the loop started\n",
      "test\n",
      "test loss score is :0.80153047857574\n",
      "test acc score is :0.7809504792332268\n"
     ]
    },
    {
     "name": "stderr",
     "output_type": "stream",
     "text": [
      "\r",
      "  5%|███▉                                                                          | 10/200 [19:09<6:02:23, 114.44s/it]"
     ]
    },
    {
     "name": "stdout",
     "output_type": "stream",
     "text": [
      "Epoch 10\n",
      "train\n",
      "Using real-time data augmentation.\n",
      "train loss score is :0.7619119326388004\n",
      "train acc score is :0.7912268074216251\n",
      "It has been 111.768963098526 seconds since the loop started\n",
      "test\n",
      "test loss score is :0.7700233410912961\n",
      "test acc score is :0.7927316293929713\n"
     ]
    },
    {
     "name": "stderr",
     "output_type": "stream",
     "text": [
      "\r",
      "  6%|████▎                                                                         | 11/200 [21:05<6:02:11, 114.98s/it]"
     ]
    },
    {
     "name": "stdout",
     "output_type": "stream",
     "text": [
      "Epoch 11\n",
      "train\n",
      "Using real-time data augmentation.\n",
      "train loss score is :0.7479075088534535\n",
      "train acc score is :0.7976447536788228\n",
      "It has been 111.09493041038513 seconds since the loop started\n",
      "test\n",
      "test loss score is :0.7661035718818823\n",
      "test acc score is :0.7973242811501597\n"
     ]
    },
    {
     "name": "stderr",
     "output_type": "stream",
     "text": [
      "\r",
      "  6%|████▋                                                                         | 12/200 [23:00<6:00:49, 115.16s/it]"
     ]
    },
    {
     "name": "stdout",
     "output_type": "stream",
     "text": [
      "Epoch 12\n",
      "train\n",
      "Using real-time data augmentation.\n",
      "train loss score is :0.733295732404815\n",
      "train acc score is :0.8035028790786948\n",
      "It has been 111.20195960998535 seconds since the loop started\n",
      "test\n",
      "test loss score is :0.791431133072978\n",
      "test acc score is :0.7844448881789138\n"
     ]
    },
    {
     "name": "stderr",
     "output_type": "stream",
     "text": [
      "\r",
      "  6%|█████                                                                         | 13/200 [24:56<5:59:09, 115.24s/it]"
     ]
    },
    {
     "name": "stdout",
     "output_type": "stream",
     "text": [
      "Epoch 13\n",
      "train\n",
      "Using real-time data augmentation.\n",
      "train loss score is :0.7208349239688917\n",
      "train acc score is :0.8077615163147792\n",
      "It has been 110.9485776424408 seconds since the loop started\n",
      "test\n",
      "test loss score is :0.7818174087011014\n",
      "test acc score is :0.794229233226837\n"
     ]
    },
    {
     "name": "stderr",
     "output_type": "stream",
     "text": [
      "\r",
      "  7%|█████▍                                                                        | 14/200 [26:51<5:57:22, 115.28s/it]"
     ]
    },
    {
     "name": "stdout",
     "output_type": "stream",
     "text": [
      "Epoch 14\n",
      "train\n",
      "Using real-time data augmentation.\n",
      "train loss score is :0.709787492064124\n",
      "train acc score is :0.8110204734484965\n",
      "It has been 111.67337656021118 seconds since the loop started\n",
      "test\n",
      "test loss score is :0.7507316801494683\n",
      "test acc score is :0.8019169329073482\n"
     ]
    },
    {
     "name": "stderr",
     "output_type": "stream",
     "text": [
      "\r",
      "  8%|█████▊                                                                        | 15/200 [28:47<5:56:09, 115.51s/it]"
     ]
    },
    {
     "name": "stdout",
     "output_type": "stream",
     "text": [
      "Epoch 15\n",
      "train\n",
      "Using real-time data augmentation.\n",
      "train loss score is :0.6939169316625869\n",
      "train acc score is :0.8175783749200256\n",
      "It has been 111.67088270187378 seconds since the loop started\n",
      "test\n",
      "test loss score is :0.7326889731251774\n",
      "test acc score is :0.8047124600638977\n"
     ]
    },
    {
     "name": "stderr",
     "output_type": "stream",
     "text": [
      "\r",
      "  8%|██████▏                                                                       | 16/200 [30:43<5:54:46, 115.69s/it]"
     ]
    },
    {
     "name": "stdout",
     "output_type": "stream",
     "text": [
      "Epoch 16\n",
      "train\n",
      "Using real-time data augmentation.\n",
      "train loss score is :0.6911349207525137\n",
      "train acc score is :0.8197976647472809\n",
      "It has been 111.24823951721191 seconds since the loop started\n",
      "test\n",
      "test loss score is :0.8149407065143219\n",
      "test acc score is :0.7844448881789138\n"
     ]
    },
    {
     "name": "stderr",
     "output_type": "stream",
     "text": [
      "\r",
      "  8%|██████▋                                                                       | 17/200 [32:39<5:52:43, 115.65s/it]"
     ]
    },
    {
     "name": "stdout",
     "output_type": "stream",
     "text": [
      "Epoch 17\n",
      "train\n",
      "Using real-time data augmentation.\n",
      "train loss score is :0.6868231322852297\n",
      "train acc score is :0.8232365642994242\n",
      "It has been 111.83466386795044 seconds since the loop started\n",
      "test\n",
      "test loss score is :0.7227865488003618\n",
      "test acc score is :0.8083067092651757\n"
     ]
    },
    {
     "name": "stderr",
     "output_type": "stream",
     "text": [
      "\r",
      "  9%|███████                                                                       | 18/200 [34:35<5:51:20, 115.83s/it]"
     ]
    },
    {
     "name": "stdout",
     "output_type": "stream",
     "text": [
      "Epoch 18\n",
      "train\n",
      "Using real-time data augmentation.\n",
      "train loss score is :0.6742862314176499\n",
      "train acc score is :0.8263955534229047\n",
      "It has been 109.77672147750854 seconds since the loop started\n",
      "test\n",
      "test loss score is :0.7647272594058856\n",
      "test acc score is :0.8044129392971247\n"
     ]
    },
    {
     "name": "stderr",
     "output_type": "stream",
     "text": [
      "\r",
      " 10%|███████▍                                                                      | 19/200 [36:29<5:47:56, 115.34s/it]"
     ]
    },
    {
     "name": "stdout",
     "output_type": "stream",
     "text": [
      "Epoch 19\n",
      "train\n",
      "Using real-time data augmentation.\n",
      "train loss score is :0.6671304735745365\n",
      "train acc score is :0.8288147792706334\n",
      "It has been 110.33177947998047 seconds since the loop started\n",
      "test\n",
      "test loss score is :0.7397492289924013\n",
      "test acc score is :0.8113019169329073\n"
     ]
    },
    {
     "name": "stderr",
     "output_type": "stream",
     "text": [
      "\r",
      " 10%|███████▊                                                                      | 20/200 [38:24<5:45:31, 115.17s/it]"
     ]
    },
    {
     "name": "stdout",
     "output_type": "stream",
     "text": [
      "Epoch 20\n",
      "train\n",
      "Using real-time data augmentation.\n",
      "train loss score is :0.6647554695301153\n",
      "train acc score is :0.831693857965451\n",
      "It has been 110.99585676193237 seconds since the loop started\n",
      "test\n",
      "test loss score is :0.7314611424367649\n",
      "test acc score is :0.8131988817891374\n"
     ]
    },
    {
     "name": "stderr",
     "output_type": "stream",
     "text": [
      "\r",
      " 10%|████████▏                                                                     | 21/200 [40:19<5:43:48, 115.25s/it]"
     ]
    },
    {
     "name": "stdout",
     "output_type": "stream",
     "text": [
      "Epoch 21\n",
      "train\n",
      "Using real-time data augmentation.\n",
      "train loss score is :0.6554813014911828\n",
      "train acc score is :0.8348328534868842\n",
      "It has been 110.46768045425415 seconds since the loop started\n",
      "test\n",
      "test loss score is :0.7489692845854896\n",
      "test acc score is :0.8098043130990416\n"
     ]
    },
    {
     "name": "stderr",
     "output_type": "stream",
     "text": [
      "\r",
      " 11%|████████▌                                                                     | 22/200 [42:14<5:41:30, 115.11s/it]"
     ]
    },
    {
     "name": "stdout",
     "output_type": "stream",
     "text": [
      "Epoch 22\n",
      "train\n",
      "Using real-time data augmentation.\n",
      "train loss score is :0.653455633300661\n",
      "train acc score is :0.8349328214971209\n",
      "It has been 110.58073139190674 seconds since the loop started\n",
      "test\n",
      "test loss score is :0.7272066717235425\n",
      "test acc score is :0.8172923322683706\n"
     ]
    },
    {
     "name": "stderr",
     "output_type": "stream",
     "text": [
      "\r",
      " 12%|████████▉                                                                     | 23/200 [44:09<5:39:28, 115.08s/it]"
     ]
    },
    {
     "name": "stdout",
     "output_type": "stream",
     "text": [
      "Epoch 23\n",
      "train\n",
      "Using real-time data augmentation.\n",
      "train loss score is :0.6468295695037317\n",
      "train acc score is :0.8396513115802943\n",
      "It has been 111.24325394630432 seconds since the loop started\n",
      "test\n",
      "test loss score is :0.6805630500038592\n",
      "test acc score is :0.8263777955271565\n"
     ]
    },
    {
     "name": "stderr",
     "output_type": "stream",
     "text": [
      "\r",
      " 12%|█████████▎                                                                    | 24/200 [46:05<5:38:05, 115.26s/it]"
     ]
    },
    {
     "name": "stdout",
     "output_type": "stream",
     "text": [
      "Epoch 24\n",
      "train\n",
      "Using real-time data augmentation.\n",
      "train loss score is :0.6480503616734186\n",
      "train acc score is :0.8388515674984005\n",
      "It has been 111.16708993911743 seconds since the loop started\n",
      "test\n",
      "test loss score is :0.6810912403245323\n",
      "test acc score is :0.8336661341853036\n"
     ]
    },
    {
     "name": "stderr",
     "output_type": "stream",
     "text": [
      "\r",
      " 12%|█████████▊                                                                    | 25/200 [48:00<5:36:24, 115.34s/it]"
     ]
    },
    {
     "name": "stdout",
     "output_type": "stream",
     "text": [
      "Epoch 25\n",
      "train\n",
      "Using real-time data augmentation.\n",
      "train loss score is :0.6412667898760342\n",
      "train acc score is :0.8413507677543186\n",
      "It has been 108.25690031051636 seconds since the loop started\n",
      "test\n",
      "test loss score is :0.6786680753809956\n",
      "test acc score is :0.8296725239616614\n"
     ]
    },
    {
     "name": "stderr",
     "output_type": "stream",
     "text": [
      "\r",
      " 13%|██████████▏                                                                   | 26/200 [49:53<5:31:52, 114.44s/it]"
     ]
    },
    {
     "name": "stdout",
     "output_type": "stream",
     "text": [
      "Epoch 26\n",
      "train\n",
      "Using real-time data augmentation.\n",
      "train loss score is :0.6366218337818971\n",
      "train acc score is :0.842010556621881\n",
      "It has been 108.42815089225769 seconds since the loop started\n",
      "test\n",
      "test loss score is :0.7235383123825914\n",
      "test acc score is :0.8170926517571885\n"
     ]
    },
    {
     "name": "stderr",
     "output_type": "stream",
     "text": [
      "\r",
      " 14%|██████████▌                                                                   | 27/200 [51:46<5:28:33, 113.95s/it]"
     ]
    },
    {
     "name": "stdout",
     "output_type": "stream",
     "text": [
      "Epoch 27\n",
      "train\n",
      "Using real-time data augmentation.\n",
      "train loss score is :0.6371348940327011\n",
      "train acc score is :0.840331094049904\n",
      "It has been 112.09849071502686 seconds since the loop started\n",
      "test\n",
      "test loss score is :0.7135007547113461\n",
      "test acc score is :0.8194888178913738\n"
     ]
    },
    {
     "name": "stderr",
     "output_type": "stream",
     "text": [
      "\r",
      " 14%|██████████▉                                                                   | 28/200 [53:42<5:28:52, 114.72s/it]"
     ]
    },
    {
     "name": "stdout",
     "output_type": "stream",
     "text": [
      "Epoch 28\n",
      "train\n",
      "Using real-time data augmentation.\n",
      "train loss score is :0.6312962592563336\n",
      "train acc score is :0.8441298784388995\n",
      "It has been 111.60715317726135 seconds since the loop started\n",
      "test\n",
      "test loss score is :0.7107911926869768\n",
      "test acc score is :0.8236821086261981\n"
     ]
    },
    {
     "name": "stderr",
     "output_type": "stream",
     "text": [
      "\r",
      " 14%|███████████▎                                                                  | 29/200 [55:38<5:28:04, 115.11s/it]"
     ]
    },
    {
     "name": "stdout",
     "output_type": "stream",
     "text": [
      "Epoch 29\n",
      "train\n",
      "Using real-time data augmentation.\n",
      "train loss score is :0.6246790107975995\n",
      "train acc score is :0.8473488483685221\n",
      "It has been 112.50221180915833 seconds since the loop started\n",
      "test\n",
      "test loss score is :0.6736948376836868\n",
      "test acc score is :0.8361621405750799\n"
     ]
    },
    {
     "name": "stderr",
     "output_type": "stream",
     "text": [
      "\r",
      " 15%|███████████▋                                                                  | 30/200 [57:35<5:27:45, 115.68s/it]"
     ]
    },
    {
     "name": "stdout",
     "output_type": "stream",
     "text": [
      "Epoch 30\n",
      "train\n",
      "Using real-time data augmentation.\n",
      "train loss score is :0.6191085249147428\n",
      "train acc score is :0.8488083813179782\n",
      "It has been 111.80527114868164 seconds since the loop started\n",
      "test\n",
      "test loss score is :0.7254563285329472\n",
      "test acc score is :0.8214856230031949\n"
     ]
    },
    {
     "name": "stderr",
     "output_type": "stream",
     "text": [
      "\r",
      " 16%|████████████                                                                  | 31/200 [59:31<5:26:15, 115.83s/it]"
     ]
    },
    {
     "name": "stdout",
     "output_type": "stream",
     "text": [
      "Epoch 31\n",
      "train\n",
      "Using real-time data augmentation.\n",
      "train loss score is :0.6146424151408848\n",
      "train acc score is :0.8495881317978247\n",
      "It has been 111.25668406486511 seconds since the loop started\n",
      "test\n",
      "test loss score is :0.7563291342494587\n",
      "test acc score is :0.8210862619808307\n"
     ]
    },
    {
     "name": "stderr",
     "output_type": "stream",
     "text": [
      "\r",
      " 16%|████████████▏                                                               | 32/200 [1:01:27<5:24:10, 115.78s/it]"
     ]
    },
    {
     "name": "stdout",
     "output_type": "stream",
     "text": [
      "Epoch 32\n",
      "train\n",
      "Using real-time data augmentation.\n",
      "train loss score is :0.6184941615840218\n",
      "train acc score is :0.8486884197056942\n",
      "It has been 112.1602635383606 seconds since the loop started\n",
      "test\n",
      "test loss score is :0.7004693499959695\n",
      "test acc score is :0.8295726837060703\n"
     ]
    },
    {
     "name": "stderr",
     "output_type": "stream",
     "text": [
      "\r",
      " 16%|████████████▌                                                               | 33/200 [1:03:24<5:22:55, 116.02s/it]"
     ]
    },
    {
     "name": "stdout",
     "output_type": "stream",
     "text": [
      "Epoch 33\n",
      "train\n",
      "Using real-time data augmentation.\n",
      "train loss score is :0.6132113678536961\n",
      "train acc score is :0.8512675943698017\n",
      "It has been 112.20102858543396 seconds since the loop started\n",
      "test\n",
      "test loss score is :0.722867358321199\n",
      "test acc score is :0.823382587859425\n"
     ]
    },
    {
     "name": "stderr",
     "output_type": "stream",
     "text": [
      "\r",
      " 17%|████████████▉                                                               | 34/200 [1:05:20<5:21:27, 116.19s/it]"
     ]
    },
    {
     "name": "stdout",
     "output_type": "stream",
     "text": [
      "Epoch 34\n",
      "train\n",
      "Using real-time data augmentation.\n",
      "train loss score is :0.6111609929468261\n",
      "train acc score is :0.8521073256557902\n",
      "It has been 111.1153609752655 seconds since the loop started\n",
      "test\n",
      "test loss score is :0.6976790462439053\n",
      "test acc score is :0.8330670926517572\n"
     ]
    },
    {
     "name": "stderr",
     "output_type": "stream",
     "text": [
      "\r",
      " 18%|█████████████▎                                                              | 35/200 [1:07:16<5:18:54, 115.97s/it]"
     ]
    },
    {
     "name": "stdout",
     "output_type": "stream",
     "text": [
      "Epoch 35\n",
      "train\n",
      "Using real-time data augmentation.\n",
      "train loss score is :0.6089131487193812\n",
      "train acc score is :0.8533669225847729\n",
      "It has been 104.8254964351654 seconds since the loop started\n",
      "test\n",
      "test loss score is :0.6824608494679387\n",
      "test acc score is :0.8353634185303515\n"
     ]
    },
    {
     "name": "stderr",
     "output_type": "stream",
     "text": [
      "\r",
      " 18%|█████████████▋                                                              | 36/200 [1:09:05<5:11:19, 113.90s/it]"
     ]
    },
    {
     "name": "stdout",
     "output_type": "stream",
     "text": [
      "Epoch 36\n",
      "train\n",
      "Using real-time data augmentation.\n",
      "train loss score is :0.6103439800684374\n",
      "train acc score is :0.8525471849008317\n",
      "It has been 105.32778692245483 seconds since the loop started\n",
      "test\n",
      "test loss score is :0.6964080360369941\n",
      "test acc score is :0.8273761980830671\n"
     ]
    },
    {
     "name": "stderr",
     "output_type": "stream",
     "text": [
      "\r",
      " 18%|██████████████                                                              | 37/200 [1:10:54<5:05:58, 112.63s/it]"
     ]
    },
    {
     "name": "stdout",
     "output_type": "stream",
     "text": [
      "Epoch 37\n",
      "train\n",
      "Using real-time data augmentation.\n",
      "train loss score is :0.6028462653825928\n",
      "train acc score is :0.8548464491362764\n",
      "It has been 105.44576692581177 seconds since the loop started\n",
      "test\n",
      "test loss score is :0.6953593025001855\n",
      "test acc score is :0.8288738019169329\n"
     ]
    },
    {
     "name": "stderr",
     "output_type": "stream",
     "text": [
      "\r",
      " 19%|██████████████▍                                                             | 38/200 [1:12:44<5:01:52, 111.81s/it]"
     ]
    },
    {
     "name": "stdout",
     "output_type": "stream",
     "text": [
      "Epoch 38\n",
      "train\n",
      "Using real-time data augmentation.\n",
      "train loss score is :0.6042205321620995\n",
      "train acc score is :0.8553662827895073\n",
      "It has been 110.24363398551941 seconds since the loop started\n",
      "test\n",
      "test loss score is :0.7030807194618371\n",
      "test acc score is :0.8231829073482428\n"
     ]
    },
    {
     "name": "stderr",
     "output_type": "stream",
     "text": [
      "\r",
      " 20%|██████████████▊                                                             | 39/200 [1:14:39<5:02:20, 112.67s/it]"
     ]
    },
    {
     "name": "stdout",
     "output_type": "stream",
     "text": [
      "Epoch 39\n",
      "train\n",
      "Using real-time data augmentation.\n",
      "train loss score is :0.5990990835718062\n",
      "train acc score is :0.8573856365962892\n",
      "It has been 110.46665048599243 seconds since the loop started\n",
      "test\n",
      "test loss score is :0.6700214053304813\n",
      "test acc score is :0.8358626198083067\n"
     ]
    },
    {
     "name": "stderr",
     "output_type": "stream",
     "text": [
      "\r",
      " 20%|███████████████▏                                                            | 40/200 [1:16:34<5:02:11, 113.32s/it]"
     ]
    },
    {
     "name": "stdout",
     "output_type": "stream",
     "text": [
      "Epoch 40\n",
      "train\n",
      "Using real-time data augmentation.\n",
      "train loss score is :0.5997657917740249\n",
      "train acc score is :0.8566658669225847\n",
      "It has been 103.76814365386963 seconds since the loop started\n",
      "test\n",
      "test loss score is :0.6703865135820529\n",
      "test acc score is :0.8383586261980831\n"
     ]
    },
    {
     "name": "stderr",
     "output_type": "stream",
     "text": [
      "\r",
      " 20%|███████████████▌                                                            | 41/200 [1:18:22<4:56:08, 111.75s/it]"
     ]
    },
    {
     "name": "stdout",
     "output_type": "stream",
     "text": [
      "Epoch 41\n",
      "train\n",
      "Using real-time data augmentation.\n",
      "train loss score is :0.5982445623160781\n",
      "train acc score is :0.8561260396673065\n",
      "It has been 108.7531943321228 seconds since the loop started\n",
      "test\n",
      "test loss score is :0.6829068836883996\n",
      "test acc score is :0.8359624600638977\n"
     ]
    },
    {
     "name": "stderr",
     "output_type": "stream",
     "text": [
      "\r",
      " 21%|███████████████▉                                                            | 42/200 [1:20:15<4:55:16, 112.13s/it]"
     ]
    },
    {
     "name": "stdout",
     "output_type": "stream",
     "text": [
      "Epoch 42\n",
      "train\n",
      "Using real-time data augmentation.\n",
      "train loss score is :0.5932555162155392\n",
      "train acc score is :0.8596049264235445\n",
      "It has been 109.10912823677063 seconds since the loop started\n",
      "test\n",
      "test loss score is :0.6704750427613243\n",
      "test acc score is :0.8361621405750799\n"
     ]
    },
    {
     "name": "stderr",
     "output_type": "stream",
     "text": [
      "\r",
      " 22%|████████████████▎                                                           | 43/200 [1:22:08<4:54:26, 112.53s/it]"
     ]
    },
    {
     "name": "stdout",
     "output_type": "stream",
     "text": [
      "Epoch 43\n",
      "train\n",
      "Using real-time data augmentation.\n",
      "train loss score is :0.5914410358617799\n",
      "train acc score is :0.8595649392194498\n",
      "It has been 108.73377919197083 seconds since the loop started\n",
      "test\n",
      "test loss score is :0.7803268559729329\n",
      "test acc score is :0.8071086261980831\n"
     ]
    },
    {
     "name": "stderr",
     "output_type": "stream",
     "text": [
      "\r",
      " 22%|████████████████▋                                                           | 44/200 [1:24:01<4:52:52, 112.64s/it]"
     ]
    },
    {
     "name": "stdout",
     "output_type": "stream",
     "text": [
      "Epoch 44\n",
      "train\n",
      "Using real-time data augmentation.\n",
      "train loss score is :0.5871775576073774\n",
      "train acc score is :0.8616442738323736\n",
      "It has been 106.99244523048401 seconds since the loop started\n",
      "test\n",
      "test loss score is :0.6624410877974269\n",
      "test acc score is :0.8403554313099042\n"
     ]
    },
    {
     "name": "stderr",
     "output_type": "stream",
     "text": [
      "\r",
      " 22%|█████████████████                                                           | 45/200 [1:25:53<4:49:58, 112.25s/it]"
     ]
    },
    {
     "name": "stdout",
     "output_type": "stream",
     "text": [
      "Epoch 45\n",
      "train\n",
      "Using real-time data augmentation.\n",
      "train loss score is :0.5899200171556369\n",
      "train acc score is :0.8611844209852847\n",
      "It has been 106.18151807785034 seconds since the loop started\n",
      "test\n",
      "test loss score is :0.7049650881237115\n",
      "test acc score is :0.8247803514376997\n"
     ]
    },
    {
     "name": "stderr",
     "output_type": "stream",
     "text": [
      "\r",
      " 23%|█████████████████▍                                                          | 46/200 [1:27:43<4:46:40, 111.69s/it]"
     ]
    },
    {
     "name": "stdout",
     "output_type": "stream",
     "text": [
      "Epoch 46\n",
      "train\n",
      "Using real-time data augmentation.\n",
      "train loss score is :0.5878279858572087\n",
      "train acc score is :0.8611644273832374\n",
      "It has been 110.57766079902649 seconds since the loop started\n",
      "test\n",
      "test loss score is :0.6954032941557728\n",
      "test acc score is :0.832867412140575\n"
     ]
    },
    {
     "name": "stderr",
     "output_type": "stream",
     "text": [
      "\r",
      " 24%|█████████████████▊                                                          | 47/200 [1:29:38<4:47:19, 112.67s/it]"
     ]
    },
    {
     "name": "stdout",
     "output_type": "stream",
     "text": [
      "Epoch 47\n",
      "train\n",
      "Using real-time data augmentation.\n",
      "train loss score is :0.5897182542890291\n",
      "train acc score is :0.860044785668586\n",
      "It has been 110.69315385818481 seconds since the loop started\n",
      "test\n",
      "test loss score is :0.7217393039514463\n",
      "test acc score is :0.8249800319488818\n"
     ]
    },
    {
     "name": "stderr",
     "output_type": "stream",
     "text": [
      "\r",
      " 24%|██████████████████▏                                                         | 48/200 [1:31:33<4:47:16, 113.40s/it]"
     ]
    },
    {
     "name": "stdout",
     "output_type": "stream",
     "text": [
      "Epoch 48\n",
      "train\n",
      "Using real-time data augmentation.\n",
      "train loss score is :0.583148911023323\n",
      "train acc score is :0.8631637875879719\n",
      "It has been 112.0586416721344 seconds since the loop started\n",
      "test\n",
      "test loss score is :0.7866113109710499\n",
      "test acc score is :0.8066094249201278\n"
     ]
    },
    {
     "name": "stderr",
     "output_type": "stream",
     "text": [
      "\r",
      " 24%|██████████████████▌                                                         | 49/200 [1:33:30<4:47:45, 114.34s/it]"
     ]
    },
    {
     "name": "stdout",
     "output_type": "stream",
     "text": [
      "Epoch 49\n",
      "train\n",
      "Using real-time data augmentation.\n",
      "train loss score is :0.5860889066661388\n",
      "train acc score is :0.861084452975048\n",
      "It has been 110.34069585800171 seconds since the loop started\n",
      "test\n",
      "test loss score is :0.6719697180171363\n",
      "test acc score is :0.8367611821086262\n"
     ]
    },
    {
     "name": "stderr",
     "output_type": "stream",
     "text": [
      "\r",
      " 25%|███████████████████                                                         | 50/200 [1:35:24<4:46:07, 114.45s/it]"
     ]
    },
    {
     "name": "stdout",
     "output_type": "stream",
     "text": [
      "Epoch 50\n",
      "train\n",
      "Using real-time data augmentation.\n",
      "train loss score is :0.5820114138850171\n",
      "train acc score is :0.8631637875879719\n",
      "It has been 107.396657705307 seconds since the loop started\n",
      "test\n",
      "test loss score is :0.672538613930297\n",
      "test acc score is :0.8401557507987221\n"
     ]
    },
    {
     "name": "stderr",
     "output_type": "stream",
     "text": [
      "\r",
      " 26%|███████████████████▍                                                        | 51/200 [1:37:16<4:42:07, 113.61s/it]"
     ]
    },
    {
     "name": "stdout",
     "output_type": "stream",
     "text": [
      "Epoch 51\n",
      "train\n",
      "Using real-time data augmentation.\n",
      "train loss score is :0.5826584548616135\n",
      "train acc score is :0.8652231285988484\n",
      "It has been 108.35095596313477 seconds since the loop started\n",
      "test\n",
      "test loss score is :0.6421815704899474\n",
      "test acc score is :0.8508386581469649\n"
     ]
    },
    {
     "name": "stderr",
     "output_type": "stream",
     "text": [
      "\r",
      " 26%|███████████████████▊                                                        | 52/200 [1:39:09<4:39:32, 113.33s/it]"
     ]
    },
    {
     "name": "stdout",
     "output_type": "stream",
     "text": [
      "Epoch 52\n",
      "train\n",
      "Using real-time data augmentation.\n",
      "train loss score is :0.5750159969123143\n",
      "train acc score is :0.8682021753039028\n",
      "It has been 109.26791858673096 seconds since the loop started\n",
      "test\n",
      "test loss score is :0.6901338944039025\n",
      "test acc score is :0.8333666134185304\n"
     ]
    },
    {
     "name": "stderr",
     "output_type": "stream",
     "text": [
      "\r",
      " 26%|████████████████████▏                                                       | 53/200 [1:41:02<4:37:47, 113.38s/it]"
     ]
    },
    {
     "name": "stdout",
     "output_type": "stream",
     "text": [
      "Epoch 53\n",
      "train\n",
      "Using real-time data augmentation.\n",
      "train loss score is :0.5765860796413281\n",
      "train acc score is :0.8664027511196417\n",
      "It has been 108.66208529472351 seconds since the loop started\n",
      "test\n",
      "test loss score is :0.7803733976313862\n",
      "test acc score is :0.8098043130990416\n"
     ]
    },
    {
     "name": "stderr",
     "output_type": "stream",
     "text": [
      "\r",
      " 27%|████████████████████▌                                                       | 54/200 [1:42:55<4:35:36, 113.26s/it]"
     ]
    },
    {
     "name": "stdout",
     "output_type": "stream",
     "text": [
      "Epoch 54\n",
      "train\n",
      "Using real-time data augmentation.\n",
      "train loss score is :0.5793108307659359\n",
      "train acc score is :0.865603007037748\n",
      "It has been 108.85423922538757 seconds since the loop started\n",
      "test\n",
      "test loss score is :0.694496787870273\n",
      "test acc score is :0.8259784345047924\n"
     ]
    },
    {
     "name": "stderr",
     "output_type": "stream",
     "text": [
      "\r",
      " 28%|████████████████████▉                                                       | 55/200 [1:44:48<4:33:38, 113.23s/it]"
     ]
    },
    {
     "name": "stdout",
     "output_type": "stream",
     "text": [
      "Epoch 55\n",
      "train\n",
      "Using real-time data augmentation.\n",
      "train loss score is :0.5791817777006579\n",
      "train acc score is :0.8640235124760077\n",
      "It has been 106.82417607307434 seconds since the loop started\n",
      "test\n",
      "test loss score is :0.6438848242020836\n",
      "test acc score is :0.8472444089456869\n"
     ]
    },
    {
     "name": "stderr",
     "output_type": "stream",
     "text": [
      "\r",
      " 28%|█████████████████████▎                                                      | 56/200 [1:46:39<4:30:03, 112.52s/it]"
     ]
    },
    {
     "name": "stdout",
     "output_type": "stream",
     "text": [
      "Epoch 56\n",
      "train\n",
      "Using real-time data augmentation.\n",
      "train loss score is :0.5743811541616497\n",
      "train acc score is :0.8659628918746002\n",
      "It has been 108.84627676010132 seconds since the loop started\n",
      "test\n",
      "test loss score is :0.7106827637924554\n",
      "test acc score is :0.8319688498402555\n"
     ]
    },
    {
     "name": "stderr",
     "output_type": "stream",
     "text": [
      "\r",
      " 28%|█████████████████████▋                                                      | 57/200 [1:48:32<4:28:40, 112.73s/it]"
     ]
    },
    {
     "name": "stdout",
     "output_type": "stream",
     "text": [
      "Epoch 57\n",
      "train\n",
      "Using real-time data augmentation.\n",
      "train loss score is :0.5787389784555593\n",
      "train acc score is :0.8671025271912988\n",
      "It has been 110.21873164176941 seconds since the loop started\n",
      "test\n",
      "test loss score is :0.6704266853987599\n",
      "test acc score is :0.8358626198083067\n"
     ]
    },
    {
     "name": "stderr",
     "output_type": "stream",
     "text": [
      "\r",
      " 29%|██████████████████████                                                      | 58/200 [1:50:27<4:28:10, 113.31s/it]"
     ]
    },
    {
     "name": "stdout",
     "output_type": "stream",
     "text": [
      "Epoch 58\n",
      "train\n",
      "Using real-time data augmentation.\n",
      "train loss score is :0.5708866098410642\n",
      "train acc score is :0.8667226487523992\n",
      "It has been 110.70067691802979 seconds since the loop started\n",
      "test\n",
      "test loss score is :0.8201696866046125\n",
      "test acc score is :0.8063099041533547\n"
     ]
    },
    {
     "name": "stderr",
     "output_type": "stream",
     "text": [
      "\r",
      " 30%|██████████████████████▍                                                     | 59/200 [1:52:22<4:27:32, 113.85s/it]"
     ]
    },
    {
     "name": "stdout",
     "output_type": "stream",
     "text": [
      "Epoch 59\n",
      "train\n",
      "Using real-time data augmentation.\n",
      "train loss score is :0.5668395779984011\n",
      "train acc score is :0.8689019513755598\n",
      "It has been 110.75636601448059 seconds since the loop started\n",
      "test\n",
      "test loss score is :0.6537816331218987\n",
      "test acc score is :0.8425519169329073\n"
     ]
    },
    {
     "name": "stderr",
     "output_type": "stream",
     "text": [
      "\r",
      " 30%|██████████████████████▊                                                     | 60/200 [1:54:17<4:26:33, 114.24s/it]"
     ]
    },
    {
     "name": "stdout",
     "output_type": "stream",
     "text": [
      "Epoch 60\n",
      "train\n",
      "Using real-time data augmentation.\n",
      "train loss score is :0.5715194382083317\n",
      "train acc score is :0.8685820537428023\n",
      "It has been 111.21036624908447 seconds since the loop started\n",
      "test\n",
      "test loss score is :0.6583934639589474\n",
      "test acc score is :0.8397563897763578\n"
     ]
    },
    {
     "name": "stderr",
     "output_type": "stream",
     "text": [
      "\r",
      " 30%|███████████████████████▏                                                    | 61/200 [1:56:13<4:25:36, 114.65s/it]"
     ]
    },
    {
     "name": "stdout",
     "output_type": "stream",
     "text": [
      "Epoch 61\n",
      "train\n",
      "Using real-time data augmentation.\n",
      "train loss score is :0.5696488904480131\n",
      "train acc score is :0.8683421305182342\n",
      "It has been 110.86389064788818 seconds since the loop started\n",
      "test\n",
      "test loss score is :0.6818096867194191\n",
      "test acc score is :0.8372603833865815\n"
     ]
    },
    {
     "name": "stderr",
     "output_type": "stream",
     "text": [
      "\r",
      " 31%|███████████████████████▌                                                    | 62/200 [1:58:08<4:24:09, 114.85s/it]"
     ]
    },
    {
     "name": "stdout",
     "output_type": "stream",
     "text": [
      "Epoch 62\n",
      "train\n",
      "Using real-time data augmentation.\n",
      "train loss score is :0.573158632198817\n",
      "train acc score is :0.8669425783749201\n",
      "It has been 108.61926364898682 seconds since the loop started\n",
      "test\n",
      "test loss score is :0.6500590249848442\n",
      "test acc score is :0.849341054313099\n"
     ]
    },
    {
     "name": "stderr",
     "output_type": "stream",
     "text": [
      "\r",
      " 32%|███████████████████████▉                                                    | 63/200 [2:00:01<4:20:55, 114.27s/it]"
     ]
    },
    {
     "name": "stdout",
     "output_type": "stream",
     "text": [
      "Epoch 63\n",
      "train\n",
      "Using real-time data augmentation.\n",
      "train loss score is :0.5619142980851657\n",
      "train acc score is :0.8704814459373\n",
      "It has been 108.62722992897034 seconds since the loop started\n",
      "test\n",
      "test loss score is :0.6581043831456583\n",
      "test acc score is :0.8464456869009584\n"
     ]
    },
    {
     "name": "stderr",
     "output_type": "stream",
     "text": [
      "\r",
      " 32%|████████████████████████▎                                                   | 64/200 [2:01:54<4:18:06, 113.87s/it]"
     ]
    },
    {
     "name": "stdout",
     "output_type": "stream",
     "text": [
      "Epoch 64\n",
      "train\n",
      "Using real-time data augmentation.\n",
      "train loss score is :0.5640808138912943\n",
      "train acc score is :0.8710212731925784\n",
      "It has been 108.23595333099365 seconds since the loop started\n",
      "test\n",
      "test loss score is :0.6476172923851318\n",
      "test acc score is :0.8496405750798722\n"
     ]
    },
    {
     "name": "stderr",
     "output_type": "stream",
     "text": [
      "\r",
      " 32%|████████████████████████▋                                                   | 65/200 [2:03:47<4:15:17, 113.46s/it]"
     ]
    },
    {
     "name": "stdout",
     "output_type": "stream",
     "text": [
      "Epoch 65\n",
      "train\n",
      "Using real-time data augmentation.\n",
      "train loss score is :0.558606534214334\n",
      "train acc score is :0.8720209532949457\n",
      "It has been 108.68049502372742 seconds since the loop started\n",
      "test\n",
      "test loss score is :0.6484531928746464\n",
      "test acc score is :0.8467452076677316\n"
     ]
    },
    {
     "name": "stderr",
     "output_type": "stream",
     "text": [
      "\r",
      " 33%|█████████████████████████                                                   | 66/200 [2:05:39<4:13:00, 113.28s/it]"
     ]
    },
    {
     "name": "stdout",
     "output_type": "stream",
     "text": [
      "Epoch 66\n",
      "train\n",
      "Using real-time data augmentation.\n",
      "train loss score is :0.5671263843565054\n",
      "train acc score is :0.8695617402431222\n",
      "It has been 106.64495491981506 seconds since the loop started\n",
      "test\n",
      "test loss score is :0.7450466491162967\n",
      "test acc score is :0.817991214057508\n"
     ]
    },
    {
     "name": "stderr",
     "output_type": "stream",
     "text": [
      "\r",
      " 34%|█████████████████████████▍                                                  | 67/200 [2:07:30<4:09:29, 112.55s/it]"
     ]
    },
    {
     "name": "stdout",
     "output_type": "stream",
     "text": [
      "Epoch 67\n",
      "train\n",
      "Using real-time data augmentation.\n",
      "train loss score is :0.5628885146390149\n",
      "train acc score is :0.8703214971209213\n",
      "It has been 106.5936827659607 seconds since the loop started\n",
      "test\n",
      "test loss score is :0.6633141574006491\n",
      "test acc score is :0.8453474440894568\n"
     ]
    },
    {
     "name": "stderr",
     "output_type": "stream",
     "text": [
      "\r",
      " 34%|█████████████████████████▊                                                  | 68/200 [2:09:21<4:06:25, 112.01s/it]"
     ]
    },
    {
     "name": "stdout",
     "output_type": "stream",
     "text": [
      "Epoch 68\n",
      "train\n",
      "Using real-time data augmentation.\n",
      "train loss score is :0.5563813101879237\n",
      "train acc score is :0.8736204414587332\n",
      "It has been 106.59666800498962 seconds since the loop started\n",
      "test\n",
      "test loss score is :0.6973341872897773\n",
      "test acc score is :0.8351637380191693\n"
     ]
    },
    {
     "name": "stderr",
     "output_type": "stream",
     "text": [
      "\r",
      " 34%|██████████████████████████▏                                                 | 69/200 [2:11:12<4:03:45, 111.65s/it]"
     ]
    },
    {
     "name": "stdout",
     "output_type": "stream",
     "text": [
      "Epoch 69\n",
      "train\n",
      "Using real-time data augmentation.\n",
      "train loss score is :0.5616983929583451\n",
      "train acc score is :0.8719609724888036\n",
      "It has been 108.55952596664429 seconds since the loop started\n",
      "test\n",
      "test loss score is :0.6641019069063016\n",
      "test acc score is :0.8433506389776357\n"
     ]
    },
    {
     "name": "stderr",
     "output_type": "stream",
     "text": [
      "\r",
      " 35%|██████████████████████████▌                                                 | 70/200 [2:13:05<4:02:40, 112.00s/it]"
     ]
    },
    {
     "name": "stdout",
     "output_type": "stream",
     "text": [
      "Epoch 70\n",
      "train\n",
      "Using real-time data augmentation.\n",
      "train loss score is :0.5610861279647166\n",
      "train acc score is :0.8733005438259757\n",
      "It has been 108.65411043167114 seconds since the loop started\n",
      "test\n",
      "test loss score is :0.6866106834179296\n",
      "test acc score is :0.840055910543131\n"
     ]
    },
    {
     "name": "stderr",
     "output_type": "stream",
     "text": [
      "\r",
      " 36%|██████████████████████████▉                                                 | 71/200 [2:14:58<4:01:22, 112.27s/it]"
     ]
    },
    {
     "name": "stdout",
     "output_type": "stream",
     "text": [
      "Epoch 71\n",
      "train\n",
      "Using real-time data augmentation.\n",
      "train loss score is :0.5607873924310133\n",
      "train acc score is :0.8712811900191939\n",
      "It has been 108.49979138374329 seconds since the loop started\n",
      "test\n",
      "test loss score is :0.6500986701192947\n",
      "test acc score is :0.8500399361022364\n"
     ]
    },
    {
     "name": "stderr",
     "output_type": "stream",
     "text": [
      "\r",
      " 36%|███████████████████████████▎                                                | 72/200 [2:16:50<3:59:52, 112.44s/it]"
     ]
    },
    {
     "name": "stdout",
     "output_type": "stream",
     "text": [
      "Epoch 72\n",
      "train\n",
      "Using real-time data augmentation.\n",
      "train loss score is :0.5581292267114172\n",
      "train acc score is :0.8744001919385797\n",
      "It has been 108.13141107559204 seconds since the loop started\n",
      "test\n",
      "test loss score is :0.6818150149557156\n",
      "test acc score is :0.8446485623003195\n"
     ]
    },
    {
     "name": "stderr",
     "output_type": "stream",
     "text": [
      "\r",
      " 36%|███████████████████████████▋                                                | 73/200 [2:18:43<3:57:57, 112.42s/it]"
     ]
    },
    {
     "name": "stdout",
     "output_type": "stream",
     "text": [
      "Epoch 73\n",
      "train\n",
      "Using real-time data augmentation.\n",
      "train loss score is :0.5589051830105041\n",
      "train acc score is :0.8723808381317978\n",
      "It has been 109.037921667099 seconds since the loop started\n",
      "test\n",
      "test loss score is :0.7124967454150081\n",
      "test acc score is :0.8354632587859425\n"
     ]
    },
    {
     "name": "stderr",
     "output_type": "stream",
     "text": [
      "\r",
      " 37%|████████████████████████████                                                | 74/200 [2:20:36<3:56:39, 112.70s/it]"
     ]
    },
    {
     "name": "stdout",
     "output_type": "stream",
     "text": [
      "Epoch 74\n",
      "train\n",
      "Using real-time data augmentation.\n",
      "train loss score is :0.555802900651595\n",
      "train acc score is :0.8725807741522713\n",
      "It has been 108.79200410842896 seconds since the loop started\n",
      "test\n",
      "test loss score is :0.6733515829609605\n",
      "test acc score is :0.8463458466453674\n"
     ]
    },
    {
     "name": "stderr",
     "output_type": "stream",
     "text": [
      "\r",
      " 38%|████████████████████████████▌                                               | 75/200 [2:22:29<3:54:58, 112.78s/it]"
     ]
    },
    {
     "name": "stdout",
     "output_type": "stream",
     "text": [
      "Epoch 75\n",
      "train\n",
      "Using real-time data augmentation.\n",
      "train loss score is :0.5493232934751804\n",
      "train acc score is :0.8765595009596929\n",
      "It has been 108.06669807434082 seconds since the loop started\n",
      "test\n",
      "test loss score is :0.6367797266941863\n",
      "test acc score is :0.8522364217252396\n"
     ]
    },
    {
     "name": "stderr",
     "output_type": "stream",
     "text": [
      "\r",
      " 38%|████████████████████████████▉                                               | 76/200 [2:24:21<3:52:45, 112.62s/it]"
     ]
    },
    {
     "name": "stdout",
     "output_type": "stream",
     "text": [
      "Epoch 76\n",
      "train\n",
      "Using real-time data augmentation.\n",
      "train loss score is :0.5565169255510783\n",
      "train acc score is :0.873200575815739\n",
      "It has been 104.63679933547974 seconds since the loop started\n",
      "test\n",
      "test loss score is :0.6462859621348853\n",
      "test acc score is :0.8465455271565495\n"
     ]
    },
    {
     "name": "stderr",
     "output_type": "stream",
     "text": [
      "\r",
      " 38%|█████████████████████████████▎                                              | 77/200 [2:26:10<3:48:29, 111.46s/it]"
     ]
    },
    {
     "name": "stdout",
     "output_type": "stream",
     "text": [
      "Epoch 77\n",
      "train\n",
      "Using real-time data augmentation.\n",
      "train loss score is :0.5525593939818256\n",
      "train acc score is :0.8744401791426744\n",
      "It has been 106.11877226829529 seconds since the loop started\n",
      "test\n",
      "test loss score is :0.6335966344744253\n",
      "test acc score is :0.856529552715655\n"
     ]
    },
    {
     "name": "stderr",
     "output_type": "stream",
     "text": [
      "\r",
      " 39%|█████████████████████████████▋                                              | 78/200 [2:28:01<3:46:00, 111.15s/it]"
     ]
    },
    {
     "name": "stdout",
     "output_type": "stream",
     "text": [
      "Epoch 78\n",
      "train\n",
      "Using real-time data augmentation.\n",
      "train loss score is :0.55550140749737\n",
      "train acc score is :0.8735404670505438\n",
      "It has been 106.73803544044495 seconds since the loop started\n",
      "test\n",
      "test loss score is :0.6589945872275593\n",
      "test acc score is :0.8429512779552716\n"
     ]
    },
    {
     "name": "stderr",
     "output_type": "stream",
     "text": [
      "\r",
      " 40%|██████████████████████████████                                              | 79/200 [2:29:52<3:44:04, 111.11s/it]"
     ]
    },
    {
     "name": "stdout",
     "output_type": "stream",
     "text": [
      "Epoch 79\n",
      "train\n",
      "Using real-time data augmentation.\n",
      "train loss score is :0.5534390241422489\n",
      "train acc score is :0.8747200895713372\n",
      "It has been 106.93964838981628 seconds since the loop started\n",
      "test\n",
      "test loss score is :0.6687475807560138\n",
      "test acc score is :0.8425519169329073\n"
     ]
    },
    {
     "name": "stderr",
     "output_type": "stream",
     "text": [
      "\r",
      " 40%|██████████████████████████████▍                                             | 80/200 [2:31:43<3:42:14, 111.12s/it]"
     ]
    },
    {
     "name": "stdout",
     "output_type": "stream",
     "text": [
      "Epoch 80\n",
      "train\n",
      "Using real-time data augmentation.\n",
      "train loss score is :0.5524503205517356\n",
      "train acc score is :0.8756597888675623\n",
      "It has been 107.78691554069519 seconds since the loop started\n",
      "test\n",
      "test loss score is :0.7060227276989446\n",
      "test acc score is :0.8313698083067093\n"
     ]
    },
    {
     "name": "stderr",
     "output_type": "stream",
     "text": [
      "\r",
      " 40%|██████████████████████████████▊                                             | 81/200 [2:33:35<3:40:56, 111.40s/it]"
     ]
    },
    {
     "name": "stdout",
     "output_type": "stream",
     "text": [
      "Epoch 81\n",
      "train\n",
      "Using real-time data augmentation.\n",
      "train loss score is :0.5503755457322718\n",
      "train acc score is :0.8742802303262955\n",
      "It has been 104.63776850700378 seconds since the loop started\n",
      "test\n",
      "test loss score is :0.7044098173467496\n",
      "test acc score is :0.8364616613418531\n"
     ]
    },
    {
     "name": "stderr",
     "output_type": "stream",
     "text": [
      "\r",
      " 41%|███████████████████████████████▏                                            | 82/200 [2:35:23<3:37:31, 110.61s/it]"
     ]
    },
    {
     "name": "stdout",
     "output_type": "stream",
     "text": [
      "Epoch 82\n",
      "train\n",
      "Using real-time data augmentation.\n",
      "train loss score is :0.5515189265697642\n",
      "train acc score is :0.8745401471529111\n",
      "It has been 107.21991395950317 seconds since the loop started\n",
      "test\n",
      "test loss score is :0.7376625536920164\n",
      "test acc score is :0.825279552715655\n"
     ]
    },
    {
     "name": "stderr",
     "output_type": "stream",
     "text": [
      "\r",
      " 42%|███████████████████████████████▌                                            | 83/200 [2:37:15<3:36:06, 110.83s/it]"
     ]
    },
    {
     "name": "stdout",
     "output_type": "stream",
     "text": [
      "Epoch 83\n",
      "train\n",
      "Using real-time data augmentation.\n",
      "train loss score is :0.5462737974453948\n",
      "train acc score is :0.8763795585412668\n",
      "It has been 104.45210099220276 seconds since the loop started\n",
      "test\n",
      "test loss score is :0.7348339514800916\n",
      "test acc score is :0.830770766773163\n"
     ]
    },
    {
     "name": "stderr",
     "output_type": "stream",
     "text": [
      "\r",
      " 42%|███████████████████████████████▉                                            | 84/200 [2:39:04<3:33:04, 110.21s/it]"
     ]
    },
    {
     "name": "stdout",
     "output_type": "stream",
     "text": [
      "Epoch 84\n",
      "train\n",
      "Using real-time data augmentation.\n",
      "train loss score is :0.5547144911034475\n",
      "train acc score is :0.8734804862444018\n",
      "It has been 107.0207908153534 seconds since the loop started\n",
      "test\n",
      "test loss score is :0.6516307945639942\n",
      "test acc score is :0.8465455271565495\n"
     ]
    },
    {
     "name": "stderr",
     "output_type": "stream",
     "text": [
      "\r",
      " 42%|████████████████████████████████▎                                           | 85/200 [2:40:55<3:31:51, 110.53s/it]"
     ]
    },
    {
     "name": "stdout",
     "output_type": "stream",
     "text": [
      "Epoch 85\n",
      "train\n",
      "Using real-time data augmentation.\n",
      "train loss score is :0.5503139074365069\n",
      "train acc score is :0.8752999040307101\n",
      "It has been 107.6759078502655 seconds since the loop started\n",
      "test\n",
      "test loss score is :0.6881441367796054\n",
      "test acc score is :0.8383586261980831\n"
     ]
    },
    {
     "name": "stderr",
     "output_type": "stream",
     "text": [
      "\r",
      " 43%|████████████████████████████████▋                                           | 86/200 [2:42:47<3:30:47, 110.94s/it]"
     ]
    },
    {
     "name": "stdout",
     "output_type": "stream",
     "text": [
      "Epoch 86\n",
      "train\n",
      "Using real-time data augmentation.\n",
      "train loss score is :0.548281702040787\n",
      "train acc score is :0.8786188419705694\n",
      "It has been 106.62503242492676 seconds since the loop started\n",
      "test\n",
      "test loss score is :0.6708248520430665\n",
      "test acc score is :0.8459464856230032\n"
     ]
    },
    {
     "name": "stderr",
     "output_type": "stream",
     "text": [
      "\r",
      " 44%|█████████████████████████████████                                           | 87/200 [2:44:38<3:28:54, 110.92s/it]"
     ]
    },
    {
     "name": "stdout",
     "output_type": "stream",
     "text": [
      "Epoch 87\n",
      "train\n",
      "Using real-time data augmentation.\n",
      "train loss score is :0.5450140783898128\n",
      "train acc score is :0.8767594369801663\n",
      "It has been 106.90878033638 seconds since the loop started\n",
      "test\n",
      "test loss score is :0.6507555930949629\n",
      "test acc score is :0.8525359424920128\n"
     ]
    },
    {
     "name": "stderr",
     "output_type": "stream",
     "text": [
      "\r",
      " 44%|█████████████████████████████████▍                                          | 88/200 [2:46:29<3:27:10, 110.98s/it]"
     ]
    },
    {
     "name": "stdout",
     "output_type": "stream",
     "text": [
      "Epoch 88\n",
      "train\n",
      "Using real-time data augmentation.\n",
      "train loss score is :0.5462694198217288\n",
      "train acc score is :0.8771593090211133\n",
      "It has been 105.77079248428345 seconds since the loop started\n",
      "test\n",
      "test loss score is :0.7090693755081287\n",
      "test acc score is :0.8386581469648562\n"
     ]
    },
    {
     "name": "stderr",
     "output_type": "stream",
     "text": [
      "\r",
      " 44%|█████████████████████████████████▊                                          | 89/200 [2:48:19<3:24:46, 110.69s/it]"
     ]
    },
    {
     "name": "stdout",
     "output_type": "stream",
     "text": [
      "Epoch 89\n",
      "train\n",
      "Using real-time data augmentation.\n",
      "train loss score is :0.548171071444119\n",
      "train acc score is :0.8765395073576455\n",
      "It has been 105.01760745048523 seconds since the loop started\n",
      "test\n",
      "test loss score is :0.7658659124526733\n",
      "test acc score is :0.8224840255591054\n"
     ]
    },
    {
     "name": "stderr",
     "output_type": "stream",
     "text": [
      "\r",
      " 45%|██████████████████████████████████▏                                         | 90/200 [2:50:08<3:22:05, 110.23s/it]"
     ]
    },
    {
     "name": "stdout",
     "output_type": "stream",
     "text": [
      "Epoch 90\n",
      "train\n",
      "Using real-time data augmentation.\n",
      "train loss score is :0.5429753370092072\n",
      "train acc score is :0.8789187460012796\n",
      "It has been 102.73515963554382 seconds since the loop started\n",
      "test\n",
      "test loss score is :0.6722762793207321\n",
      "test acc score is :0.8478434504792333\n"
     ]
    },
    {
     "name": "stderr",
     "output_type": "stream",
     "text": [
      "\r",
      " 46%|██████████████████████████████████▌                                         | 91/200 [2:51:55<3:18:26, 109.23s/it]"
     ]
    },
    {
     "name": "stdout",
     "output_type": "stream",
     "text": [
      "Epoch 91\n",
      "train\n",
      "Using real-time data augmentation.\n",
      "train loss score is :0.546160813590234\n",
      "train acc score is :0.8769593730006398\n",
      "It has been 101.84059858322144 seconds since the loop started\n",
      "test\n",
      "test loss score is :0.7286744856843933\n",
      "test acc score is :0.8359624600638977\n"
     ]
    },
    {
     "name": "stderr",
     "output_type": "stream",
     "text": [
      "\r",
      " 46%|██████████████████████████████████▉                                         | 92/200 [2:53:41<3:14:52, 108.26s/it]"
     ]
    },
    {
     "name": "stdout",
     "output_type": "stream",
     "text": [
      "Epoch 92\n",
      "train\n",
      "Using real-time data augmentation.\n",
      "train loss score is :0.543793183723399\n",
      "train acc score is :0.8769793666026872\n",
      "It has been 104.6781075000763 seconds since the loop started\n",
      "test\n",
      "test loss score is :0.6922333996516828\n",
      "test acc score is :0.8396565495207667\n"
     ]
    },
    {
     "name": "stderr",
     "output_type": "stream",
     "text": [
      "\r",
      " 46%|███████████████████████████████████▎                                        | 93/200 [2:55:30<3:13:25, 108.46s/it]"
     ]
    },
    {
     "name": "stdout",
     "output_type": "stream",
     "text": [
      "Epoch 93\n",
      "train\n",
      "Using real-time data augmentation.\n",
      "train loss score is :0.5452312060792097\n",
      "train acc score is :0.8768793985924505\n",
      "It has been 105.87383937835693 seconds since the loop started\n",
      "test\n",
      "test loss score is :0.6857414287500108\n",
      "test acc score is :0.84185303514377\n"
     ]
    },
    {
     "name": "stderr",
     "output_type": "stream",
     "text": [
      "\r",
      " 47%|███████████████████████████████████▋                                        | 94/200 [2:57:20<3:12:28, 108.95s/it]"
     ]
    },
    {
     "name": "stdout",
     "output_type": "stream",
     "text": [
      "Epoch 94\n",
      "train\n",
      "Using real-time data augmentation.\n",
      "train loss score is :0.5446239265584061\n",
      "train acc score is :0.8769793666026872\n",
      "It has been 107.49221634864807 seconds since the loop started\n",
      "test\n",
      "test loss score is :0.7087783392625876\n",
      "test acc score is :0.8429512779552716\n"
     ]
    },
    {
     "name": "stderr",
     "output_type": "stream",
     "text": [
      "\r",
      " 48%|████████████████████████████████████                                        | 95/200 [2:59:12<3:12:08, 109.79s/it]"
     ]
    },
    {
     "name": "stdout",
     "output_type": "stream",
     "text": [
      "Epoch 95\n",
      "train\n",
      "Using real-time data augmentation.\n",
      "train loss score is :0.5427649697278145\n",
      "train acc score is :0.8780390275111964\n",
      "It has been 107.53801226615906 seconds since the loop started\n",
      "test\n",
      "test loss score is :0.6383003761021855\n",
      "test acc score is :0.8594249201277955\n"
     ]
    },
    {
     "name": "stderr",
     "output_type": "stream",
     "text": [
      "\r",
      " 48%|████████████████████████████████████▍                                       | 96/200 [3:01:03<3:11:21, 110.40s/it]"
     ]
    },
    {
     "name": "stdout",
     "output_type": "stream",
     "text": [
      "Epoch 96\n",
      "train\n",
      "Using real-time data augmentation.\n",
      "train loss score is :0.5417749297901063\n",
      "train acc score is :0.8778390914907229\n",
      "It has been 107.193110704422 seconds since the loop started\n",
      "test\n",
      "test loss score is :0.6832891826431591\n",
      "test acc score is :0.8397563897763578\n"
     ]
    },
    {
     "name": "stderr",
     "output_type": "stream",
     "text": [
      "\r",
      " 48%|████████████████████████████████████▊                                       | 97/200 [3:02:55<3:09:57, 110.66s/it]"
     ]
    },
    {
     "name": "stdout",
     "output_type": "stream",
     "text": [
      "Epoch 97\n",
      "train\n",
      "Using real-time data augmentation.\n",
      "train loss score is :0.5437371629842641\n",
      "train acc score is :0.8770193538067819\n",
      "It has been 103.99511408805847 seconds since the loop started\n",
      "test\n",
      "test loss score is :0.6584970022733219\n",
      "test acc score is :0.8442492012779552\n"
     ]
    },
    {
     "name": "stderr",
     "output_type": "stream",
     "text": [
      "\r",
      " 49%|█████████████████████████████████████▏                                      | 98/200 [3:04:43<3:06:50, 109.91s/it]"
     ]
    },
    {
     "name": "stdout",
     "output_type": "stream",
     "text": [
      "Epoch 98\n",
      "train\n",
      "Using real-time data augmentation.\n",
      "train loss score is :0.5426810272538501\n",
      "train acc score is :0.8786588291746641\n",
      "It has been 103.8407928943634 seconds since the loop started\n",
      "test\n",
      "test loss score is :0.7326344868626458\n",
      "test acc score is :0.8251797124600639\n"
     ]
    },
    {
     "name": "stderr",
     "output_type": "stream",
     "text": [
      "\r",
      " 50%|█████████████████████████████████████▌                                      | 99/200 [3:06:31<3:04:07, 109.38s/it]"
     ]
    },
    {
     "name": "stdout",
     "output_type": "stream",
     "text": [
      "Epoch 99\n",
      "train\n",
      "Using real-time data augmentation.\n",
      "train loss score is :0.5365263382288713\n",
      "train acc score is :0.8796185220729367\n",
      "It has been 106.31539225578308 seconds since the loop started\n",
      "test\n",
      "test loss score is :0.6381764099620783\n",
      "test acc score is :0.8555311501597445\n"
     ]
    },
    {
     "name": "stderr",
     "output_type": "stream",
     "text": [
      "\r",
      " 50%|█████████████████████████████████████▌                                     | 100/200 [3:08:22<3:02:53, 109.73s/it]"
     ]
    },
    {
     "name": "stdout",
     "output_type": "stream",
     "text": [
      "Epoch 100\n",
      "train\n",
      "Using real-time data augmentation.\n",
      "train loss score is :0.542553408227513\n",
      "train acc score is :0.8786988163787588\n",
      "It has been 108.50773406028748 seconds since the loop started\n",
      "test\n",
      "test loss score is :0.6199699158485705\n",
      "test acc score is :0.8596246006389776\n"
     ]
    },
    {
     "name": "stderr",
     "output_type": "stream",
     "text": [
      "\r",
      " 50%|█████████████████████████████████████▉                                     | 101/200 [3:10:14<3:02:35, 110.66s/it]"
     ]
    },
    {
     "name": "stdout",
     "output_type": "stream",
     "text": [
      "Epoch 101\n",
      "train\n",
      "Using real-time data augmentation.\n",
      "train loss score is :0.5363679086159073\n",
      "train acc score is :0.878998720409469\n",
      "It has been 109.0846905708313 seconds since the loop started\n",
      "test\n",
      "test loss score is :0.6683261157415165\n",
      "test acc score is :0.8410543130990416\n"
     ]
    },
    {
     "name": "stderr",
     "output_type": "stream",
     "text": [
      "\r",
      " 51%|██████████████████████████████████████▎                                    | 102/200 [3:12:08<3:01:58, 111.41s/it]"
     ]
    },
    {
     "name": "stdout",
     "output_type": "stream",
     "text": [
      "Epoch 102\n",
      "train\n",
      "Using real-time data augmentation.\n",
      "train loss score is :0.5418989567976309\n",
      "train acc score is :0.8777391234804862\n",
      "It has been 105.68018341064453 seconds since the loop started\n",
      "test\n",
      "test loss score is :0.6426627860187342\n",
      "test acc score is :0.8489416932907349\n"
     ]
    },
    {
     "name": "stderr",
     "output_type": "stream",
     "text": [
      "\r",
      " 52%|██████████████████████████████████████▋                                    | 103/200 [3:13:57<2:59:23, 110.97s/it]"
     ]
    },
    {
     "name": "stdout",
     "output_type": "stream",
     "text": [
      "Epoch 103\n",
      "train\n",
      "Using real-time data augmentation.\n",
      "train loss score is :0.5393358480545167\n",
      "train acc score is :0.8800583813179782\n",
      "It has been 106.93515586853027 seconds since the loop started\n",
      "test\n",
      "test loss score is :0.6462462485883944\n",
      "test acc score is :0.8531349840255591\n"
     ]
    },
    {
     "name": "stderr",
     "output_type": "stream",
     "text": [
      "\r",
      " 52%|███████████████████████████████████████                                    | 104/200 [3:15:49<2:57:40, 111.04s/it]"
     ]
    },
    {
     "name": "stdout",
     "output_type": "stream",
     "text": [
      "Epoch 104\n",
      "train\n",
      "Using real-time data augmentation.\n",
      "train loss score is :0.5346030167525042\n",
      "train acc score is :0.8805782149712092\n",
      "It has been 108.20506691932678 seconds since the loop started\n",
      "test\n",
      "test loss score is :0.6153786115753003\n",
      "test acc score is :0.8589257188498403\n"
     ]
    },
    {
     "name": "stderr",
     "output_type": "stream",
     "text": [
      "\r",
      " 52%|███████████████████████████████████████▍                                   | 105/200 [3:17:41<2:56:32, 111.50s/it]"
     ]
    },
    {
     "name": "stdout",
     "output_type": "stream",
     "text": [
      "Epoch 105\n",
      "train\n",
      "Using real-time data augmentation.\n",
      "train loss score is :0.5351209240659871\n",
      "train acc score is :0.8810580614203455\n",
      "It has been 105.57713508605957 seconds since the loop started\n",
      "test\n",
      "test loss score is :0.7257820423513937\n",
      "test acc score is :0.8332667731629393\n"
     ]
    },
    {
     "name": "stderr",
     "output_type": "stream",
     "text": [
      "\r",
      " 53%|███████████████████████████████████████▊                                   | 106/200 [3:19:31<2:53:53, 111.00s/it]"
     ]
    },
    {
     "name": "stdout",
     "output_type": "stream",
     "text": [
      "Epoch 106\n",
      "train\n",
      "Using real-time data augmentation.\n",
      "train loss score is :0.5422040471760645\n",
      "train acc score is :0.8776791426743442\n",
      "It has been 105.75435543060303 seconds since the loop started\n",
      "test\n",
      "test loss score is :0.7191689411005654\n",
      "test acc score is :0.836361821086262\n"
     ]
    },
    {
     "name": "stderr",
     "output_type": "stream",
     "text": [
      "\r",
      " 54%|████████████████████████████████████████▏                                  | 107/200 [3:21:21<2:51:35, 110.70s/it]"
     ]
    },
    {
     "name": "stdout",
     "output_type": "stream",
     "text": [
      "Epoch 107\n",
      "train\n",
      "Using real-time data augmentation.\n",
      "train loss score is :0.5367087605132251\n",
      "train acc score is :0.8792186500319897\n",
      "It has been 105.73344945907593 seconds since the loop started\n",
      "test\n",
      "test loss score is :0.6638811376338569\n",
      "test acc score is :0.8485423322683706\n"
     ]
    },
    {
     "name": "stderr",
     "output_type": "stream",
     "text": [
      "\r",
      " 54%|████████████████████████████████████████▌                                  | 108/200 [3:23:11<2:49:24, 110.49s/it]"
     ]
    },
    {
     "name": "stdout",
     "output_type": "stream",
     "text": [
      "Epoch 108\n",
      "train\n",
      "Using real-time data augmentation.\n",
      "train loss score is :0.5395565351098299\n",
      "train acc score is :0.8783989123480487\n",
      "It has been 108.63716292381287 seconds since the loop started\n",
      "test\n",
      "test loss score is :0.7119699540420081\n",
      "test acc score is :0.8385583067092651\n"
     ]
    },
    {
     "name": "stderr",
     "output_type": "stream",
     "text": [
      "\r",
      " 55%|████████████████████████████████████████▉                                  | 109/200 [3:25:04<2:48:43, 111.25s/it]"
     ]
    },
    {
     "name": "stdout",
     "output_type": "stream",
     "text": [
      "Epoch 109\n",
      "train\n",
      "Using real-time data augmentation.\n",
      "train loss score is :0.5354698715363263\n",
      "train acc score is :0.8797784708893154\n",
      "It has been 108.72427988052368 seconds since the loop started\n",
      "test\n",
      "test loss score is :0.673500656034238\n",
      "test acc score is :0.8432507987220448\n"
     ]
    },
    {
     "name": "stderr",
     "output_type": "stream",
     "text": [
      "\r",
      " 55%|█████████████████████████████████████████▎                                 | 110/200 [3:26:57<2:47:40, 111.78s/it]"
     ]
    },
    {
     "name": "stdout",
     "output_type": "stream",
     "text": [
      "Epoch 110\n",
      "train\n",
      "Using real-time data augmentation.\n",
      "train loss score is :0.5368957352882308\n",
      "train acc score is :0.881437939859245\n",
      "It has been 101.83013486862183 seconds since the loop started\n",
      "test\n",
      "test loss score is :0.6040386826085588\n",
      "test acc score is :0.8665135782747604\n"
     ]
    },
    {
     "name": "stderr",
     "output_type": "stream",
     "text": [
      "\r",
      " 56%|█████████████████████████████████████████▋                                 | 111/200 [3:28:43<2:43:09, 110.00s/it]"
     ]
    },
    {
     "name": "stdout",
     "output_type": "stream",
     "text": [
      "Epoch 111\n",
      "train\n",
      "Using real-time data augmentation.\n",
      "train loss score is :0.5376132875966935\n",
      "train acc score is :0.8785188739603327\n",
      "It has been 106.74200797080994 seconds since the loop started\n",
      "test\n",
      "test loss score is :0.628947814623007\n",
      "test acc score is :0.8564297124600639\n"
     ]
    },
    {
     "name": "stderr",
     "output_type": "stream",
     "text": [
      "\r",
      " 56%|██████████████████████████████████████████                                 | 112/200 [3:30:34<2:41:45, 110.29s/it]"
     ]
    },
    {
     "name": "stdout",
     "output_type": "stream",
     "text": [
      "Epoch 112\n",
      "train\n",
      "Using real-time data augmentation.\n",
      "train loss score is :0.5315683934067734\n",
      "train acc score is :0.8807781509916827\n",
      "It has been 107.7883996963501 seconds since the loop started\n",
      "test\n",
      "test loss score is :0.6358454481671794\n",
      "test acc score is :0.8506389776357828\n"
     ]
    },
    {
     "name": "stderr",
     "output_type": "stream",
     "text": [
      "\r",
      " 56%|██████████████████████████████████████████▎                                | 113/200 [3:32:26<2:40:41, 110.83s/it]"
     ]
    },
    {
     "name": "stdout",
     "output_type": "stream",
     "text": [
      "Epoch 113\n",
      "train\n",
      "Using real-time data augmentation.\n",
      "train loss score is :0.5313542730539027\n",
      "train acc score is :0.8821777031349968\n",
      "It has been 108.15628004074097 seconds since the loop started\n",
      "test\n",
      "test loss score is :0.7523046618642898\n",
      "test acc score is :0.8312699680511182\n"
     ]
    },
    {
     "name": "stderr",
     "output_type": "stream",
     "text": [
      "\r",
      " 57%|██████████████████████████████████████████▋                                | 114/200 [3:34:18<2:39:31, 111.30s/it]"
     ]
    },
    {
     "name": "stdout",
     "output_type": "stream",
     "text": [
      "Epoch 114\n",
      "train\n",
      "Using real-time data augmentation.\n",
      "train loss score is :0.533891976070343\n",
      "train acc score is :0.8817978246960972\n",
      "It has been 108.42957782745361 seconds since the loop started\n",
      "test\n",
      "test loss score is :0.6631748094535864\n",
      "test acc score is :0.8457468051118211\n"
     ]
    },
    {
     "name": "stderr",
     "output_type": "stream",
     "text": [
      "\r",
      " 57%|███████████████████████████████████████████▏                               | 115/200 [3:36:11<2:38:15, 111.72s/it]"
     ]
    },
    {
     "name": "stdout",
     "output_type": "stream",
     "text": [
      "Epoch 115\n",
      "train\n",
      "Using real-time data augmentation.\n",
      "train loss score is :0.5349175564882775\n",
      "train acc score is :0.8817178502879078\n",
      "It has been 107.87053847312927 seconds since the loop started\n",
      "test\n",
      "test loss score is :0.6286621484607934\n",
      "test acc score is :0.8590255591054313\n"
     ]
    },
    {
     "name": "stderr",
     "output_type": "stream",
     "text": [
      "\r",
      " 58%|███████████████████████████████████████████▌                               | 116/200 [3:38:03<2:36:34, 111.84s/it]"
     ]
    },
    {
     "name": "stdout",
     "output_type": "stream",
     "text": [
      "Epoch 116\n",
      "train\n",
      "Using real-time data augmentation.\n",
      "train loss score is :0.5330068249391274\n",
      "train acc score is :0.8819777671145234\n",
      "It has been 107.70924854278564 seconds since the loop started\n",
      "test\n",
      "test loss score is :0.6579362856694304\n",
      "test acc score is :0.8497404153354633\n"
     ]
    },
    {
     "name": "stderr",
     "output_type": "stream",
     "text": [
      "\r",
      " 58%|███████████████████████████████████████████▉                               | 117/200 [3:39:55<2:34:51, 111.94s/it]"
     ]
    },
    {
     "name": "stdout",
     "output_type": "stream",
     "text": [
      "Epoch 117\n",
      "train\n",
      "Using real-time data augmentation.\n",
      "train loss score is :0.5301538023499441\n",
      "train acc score is :0.8818578055022392\n",
      "It has been 112.15218234062195 seconds since the loop started\n",
      "test\n",
      "test loss score is :0.6579047177260676\n",
      "test acc score is :0.8528354632587859\n"
     ]
    },
    {
     "name": "stderr",
     "output_type": "stream",
     "text": [
      "\r",
      " 59%|████████████████████████████████████████████▎                              | 118/200 [3:41:52<2:34:54, 113.35s/it]"
     ]
    },
    {
     "name": "stdout",
     "output_type": "stream",
     "text": [
      "Epoch 118\n",
      "train\n",
      "Using real-time data augmentation.\n",
      "train loss score is :0.5299177710264826\n",
      "train acc score is :0.8823376519513756\n",
      "It has been 112.92329144477844 seconds since the loop started\n",
      "test\n",
      "test loss score is :0.6537110383232562\n",
      "test acc score is :0.8486421725239617\n"
     ]
    },
    {
     "name": "stderr",
     "output_type": "stream",
     "text": [
      "\r",
      " 60%|████████████████████████████████████████████▋                              | 119/200 [3:43:49<2:34:40, 114.57s/it]"
     ]
    },
    {
     "name": "stdout",
     "output_type": "stream",
     "text": [
      "Epoch 119\n",
      "train\n",
      "Using real-time data augmentation.\n",
      "train loss score is :0.5329404792683443\n",
      "train acc score is :0.8811980166346769\n",
      "It has been 112.72068333625793 seconds since the loop started\n",
      "test\n",
      "test loss score is :0.6314436607657911\n",
      "test acc score is :0.856629392971246\n"
     ]
    },
    {
     "name": "stderr",
     "output_type": "stream",
     "text": [
      "\r",
      " 60%|█████████████████████████████████████████████                              | 120/200 [3:45:47<2:33:49, 115.37s/it]"
     ]
    },
    {
     "name": "stdout",
     "output_type": "stream",
     "text": [
      "Epoch 120\n",
      "train\n",
      "Using real-time data augmentation.\n",
      "train loss score is :0.527083396167993\n",
      "train acc score is :0.8843769993602048\n",
      "It has been 112.39909791946411 seconds since the loop started\n",
      "test\n",
      "test loss score is :0.6371639004340187\n",
      "test acc score is :0.8534345047923323\n"
     ]
    },
    {
     "name": "stderr",
     "output_type": "stream",
     "text": [
      "\r",
      " 60%|█████████████████████████████████████████████▍                             | 121/200 [3:47:44<2:32:30, 115.83s/it]"
     ]
    },
    {
     "name": "stdout",
     "output_type": "stream",
     "text": [
      "Epoch 121\n",
      "train\n",
      "Using real-time data augmentation.\n",
      "train loss score is :0.5321948688837175\n",
      "train acc score is :0.8826175623800384\n",
      "It has been 112.54196858406067 seconds since the loop started\n",
      "test\n",
      "test loss score is :0.6252883921225612\n",
      "test acc score is :0.8553314696485623\n"
     ]
    },
    {
     "name": "stderr",
     "output_type": "stream",
     "text": [
      "\r",
      " 61%|█████████████████████████████████████████████▊                             | 122/200 [3:49:41<2:31:02, 116.18s/it]"
     ]
    },
    {
     "name": "stdout",
     "output_type": "stream",
     "text": [
      "Epoch 122\n",
      "train\n",
      "Using real-time data augmentation.\n",
      "train loss score is :0.5333511872277836\n",
      "train acc score is :0.8808581253998721\n",
      "It has been 112.23332571983337 seconds since the loop started\n",
      "test\n",
      "test loss score is :0.6791764844339877\n",
      "test acc score is :0.8404552715654952\n"
     ]
    },
    {
     "name": "stderr",
     "output_type": "stream",
     "text": [
      "\r",
      " 62%|██████████████████████████████████████████████▏                            | 123/200 [3:51:37<2:29:15, 116.31s/it]"
     ]
    },
    {
     "name": "stdout",
     "output_type": "stream",
     "text": [
      "Epoch 123\n",
      "train\n",
      "Using real-time data augmentation.\n",
      "train loss score is :0.5288667569290882\n",
      "train acc score is :0.8830774152271273\n",
      "It has been 112.3443386554718 seconds since the loop started\n",
      "test\n",
      "test loss score is :0.6297193595681327\n",
      "test acc score is :0.8596246006389776\n"
     ]
    },
    {
     "name": "stderr",
     "output_type": "stream",
     "text": [
      "\r",
      " 62%|██████████████████████████████████████████████▌                            | 124/200 [3:53:34<2:27:31, 116.47s/it]"
     ]
    },
    {
     "name": "stdout",
     "output_type": "stream",
     "text": [
      "Epoch 124\n",
      "train\n",
      "Using real-time data augmentation.\n",
      "train loss score is :0.524594804051589\n",
      "train acc score is :0.8852567178502879\n",
      "It has been 110.72596645355225 seconds since the loop started\n",
      "test\n",
      "test loss score is :0.735158869252799\n",
      "test acc score is :0.8372603833865815\n"
     ]
    },
    {
     "name": "stderr",
     "output_type": "stream",
     "text": [
      "\r",
      " 62%|██████████████████████████████████████████████▉                            | 125/200 [3:55:29<2:25:07, 116.10s/it]"
     ]
    },
    {
     "name": "stdout",
     "output_type": "stream",
     "text": [
      "Epoch 125\n",
      "train\n",
      "Using real-time data augmentation.\n",
      "train loss score is :0.5296037878676706\n",
      "train acc score is :0.8809181062060141\n",
      "It has been 112.2198874950409 seconds since the loop started\n",
      "test\n",
      "test loss score is :0.6724877151818321\n",
      "test acc score is :0.8476437699680511\n"
     ]
    },
    {
     "name": "stderr",
     "output_type": "stream",
     "text": [
      "\r",
      " 63%|███████████████████████████████████████████████▎                           | 126/200 [3:57:26<2:23:25, 116.29s/it]"
     ]
    },
    {
     "name": "stdout",
     "output_type": "stream",
     "text": [
      "Epoch 126\n",
      "train\n",
      "Using real-time data augmentation.\n",
      "train loss score is :0.5299662630945463\n",
      "train acc score is :0.8828774792066538\n",
      "It has been 112.93027877807617 seconds since the loop started\n",
      "test\n",
      "test loss score is :0.65601472789868\n",
      "test acc score is :0.8485423322683706\n"
     ]
    },
    {
     "name": "stderr",
     "output_type": "stream",
     "text": [
      "\r",
      " 64%|███████████████████████████████████████████████▋                           | 127/200 [3:59:23<2:21:54, 116.63s/it]"
     ]
    },
    {
     "name": "stdout",
     "output_type": "stream",
     "text": [
      "Epoch 127\n",
      "train\n",
      "Using real-time data augmentation.\n",
      "train loss score is :0.531283626543812\n",
      "train acc score is :0.8827575175943698\n",
      "It has been 111.01968264579773 seconds since the loop started\n",
      "test\n",
      "test loss score is :0.7232364445639113\n",
      "test acc score is :0.8333666134185304\n"
     ]
    },
    {
     "name": "stderr",
     "output_type": "stream",
     "text": [
      "\r",
      " 64%|████████████████████████████████████████████████                           | 128/200 [4:01:19<2:19:32, 116.29s/it]"
     ]
    },
    {
     "name": "stdout",
     "output_type": "stream",
     "text": [
      "Epoch 128\n",
      "train\n",
      "Using real-time data augmentation.\n",
      "train loss score is :0.5288778759315086\n",
      "train acc score is :0.8836172424824056\n",
      "It has been 111.14612674713135 seconds since the loop started\n",
      "test\n",
      "test loss score is :0.6510510423693794\n",
      "test acc score is :0.8527356230031949\n"
     ]
    },
    {
     "name": "stderr",
     "output_type": "stream",
     "text": [
      "\r",
      " 64%|████████████████████████████████████████████████▍                          | 129/200 [4:03:15<2:17:21, 116.07s/it]"
     ]
    },
    {
     "name": "stdout",
     "output_type": "stream",
     "text": [
      "Epoch 129\n",
      "train\n",
      "Using real-time data augmentation.\n",
      "train loss score is :0.5280625248901064\n",
      "train acc score is :0.8830574216250799\n",
      "It has been 111.2501699924469 seconds since the loop started\n",
      "test\n",
      "test loss score is :0.6236820270459111\n",
      "test acc score is :0.862120607028754\n"
     ]
    },
    {
     "name": "stderr",
     "output_type": "stream",
     "text": [
      "\r",
      " 65%|████████████████████████████████████████████████▊                          | 130/200 [4:05:10<2:15:17, 115.97s/it]"
     ]
    },
    {
     "name": "stdout",
     "output_type": "stream",
     "text": [
      "Epoch 130\n",
      "train\n",
      "Using real-time data augmentation.\n",
      "train loss score is :0.5200129124935972\n",
      "train acc score is :0.8840770953294945\n",
      "It has been 110.9524781703949 seconds since the loop started\n",
      "test\n",
      "test loss score is :0.6624902708652302\n",
      "test acc score is :0.8488418530351438\n"
     ]
    },
    {
     "name": "stderr",
     "output_type": "stream",
     "text": [
      "\r",
      " 66%|█████████████████████████████████████████████████▏                         | 131/200 [4:07:06<2:13:09, 115.79s/it]"
     ]
    },
    {
     "name": "stdout",
     "output_type": "stream",
     "text": [
      "Epoch 131\n",
      "train\n",
      "Using real-time data augmentation.\n",
      "train loss score is :0.5260378404050322\n",
      "train acc score is :0.8834972808701216\n",
      "It has been 109.62980103492737 seconds since the loop started\n",
      "test\n",
      "test loss score is :0.6647378025344386\n",
      "test acc score is :0.8432507987220448\n"
     ]
    },
    {
     "name": "stderr",
     "output_type": "stream",
     "text": [
      "\r",
      " 66%|█████████████████████████████████████████████████▌                         | 132/200 [4:09:00<2:10:38, 115.27s/it]"
     ]
    },
    {
     "name": "stdout",
     "output_type": "stream",
     "text": [
      "Epoch 132\n",
      "train\n",
      "Using real-time data augmentation.\n",
      "train loss score is :0.5229495427048672\n",
      "train acc score is :0.8833173384516955\n",
      "It has been 111.37816834449768 seconds since the loop started\n",
      "test\n",
      "test loss score is :0.6318806287960503\n",
      "test acc score is :0.8550319488817891\n"
     ]
    },
    {
     "name": "stderr",
     "output_type": "stream",
     "text": [
      "\r",
      " 66%|█████████████████████████████████████████████████▉                         | 133/200 [4:10:56<2:08:55, 115.45s/it]"
     ]
    },
    {
     "name": "stdout",
     "output_type": "stream",
     "text": [
      "Epoch 133\n",
      "train\n",
      "Using real-time data augmentation.\n",
      "train loss score is :0.5237475442852031\n",
      "train acc score is :0.8837971849008317\n",
      "It has been 110.43923830986023 seconds since the loop started\n",
      "test\n",
      "test loss score is :0.6527699437766029\n",
      "test acc score is :0.8477436102236422\n"
     ]
    },
    {
     "name": "stderr",
     "output_type": "stream",
     "text": [
      "\r",
      " 67%|██████████████████████████████████████████████████▎                        | 134/200 [4:12:50<2:06:48, 115.28s/it]"
     ]
    },
    {
     "name": "stdout",
     "output_type": "stream",
     "text": [
      "Epoch 134\n",
      "train\n",
      "Using real-time data augmentation.\n",
      "train loss score is :0.5269406848108623\n",
      "train acc score is :0.8838171785028791\n",
      "It has been 110.09451079368591 seconds since the loop started\n",
      "test\n",
      "test loss score is :0.702643936529708\n",
      "test acc score is :0.8387579872204473\n"
     ]
    },
    {
     "name": "stderr",
     "output_type": "stream",
     "text": [
      "\r",
      " 68%|██████████████████████████████████████████████████▋                        | 135/200 [4:14:45<2:04:37, 115.04s/it]"
     ]
    },
    {
     "name": "stdout",
     "output_type": "stream",
     "text": [
      "Epoch 135\n",
      "train\n",
      "Using real-time data augmentation.\n",
      "train loss score is :0.5206578051384183\n",
      "train acc score is :0.8857765515035189\n",
      "It has been 110.66949272155762 seconds since the loop started\n",
      "test\n",
      "test loss score is :0.6663909704921345\n",
      "test acc score is :0.8467452076677316\n"
     ]
    },
    {
     "name": "stderr",
     "output_type": "stream",
     "text": [
      "\r",
      " 68%|███████████████████████████████████████████████████                        | 136/200 [4:16:40<2:02:43, 115.06s/it]"
     ]
    },
    {
     "name": "stdout",
     "output_type": "stream",
     "text": [
      "Epoch 136\n",
      "train\n",
      "Using real-time data augmentation.\n",
      "train loss score is :0.5192709967484477\n",
      "train acc score is :0.8855166346769033\n",
      "It has been 109.83365726470947 seconds since the loop started\n",
      "test\n",
      "test loss score is :0.6190222372262242\n",
      "test acc score is :0.8595247603833865\n"
     ]
    },
    {
     "name": "stderr",
     "output_type": "stream",
     "text": [
      "\r",
      " 68%|███████████████████████████████████████████████████▍                       | 137/200 [4:18:34<2:00:33, 114.81s/it]"
     ]
    },
    {
     "name": "stdout",
     "output_type": "stream",
     "text": [
      "Epoch 137\n",
      "train\n",
      "Using real-time data augmentation.\n",
      "train loss score is :0.5263780854923635\n",
      "train acc score is :0.8843170185540628\n",
      "It has been 109.95307469367981 seconds since the loop started\n",
      "test\n",
      "test loss score is :0.6328398758610978\n",
      "test acc score is :0.8537340255591054\n"
     ]
    },
    {
     "name": "stderr",
     "output_type": "stream",
     "text": [
      "\r",
      " 69%|███████████████████████████████████████████████████▋                       | 138/200 [4:20:29<1:58:30, 114.69s/it]"
     ]
    },
    {
     "name": "stdout",
     "output_type": "stream",
     "text": [
      "Epoch 138\n",
      "train\n",
      "Using real-time data augmentation.\n",
      "train loss score is :0.525228755430617\n",
      "train acc score is :0.8844969609724888\n",
      "It has been 109.14609050750732 seconds since the loop started\n",
      "test\n",
      "test loss score is :0.6054349191748677\n",
      "test acc score is :0.8608226837060703\n"
     ]
    },
    {
     "name": "stderr",
     "output_type": "stream",
     "text": [
      "\r",
      " 70%|████████████████████████████████████████████████████                       | 139/200 [4:22:22<1:56:16, 114.37s/it]"
     ]
    },
    {
     "name": "stdout",
     "output_type": "stream",
     "text": [
      "Epoch 139\n",
      "train\n",
      "Using real-time data augmentation.\n",
      "train loss score is :0.5212816948873144\n",
      "train acc score is :0.8874360204734485\n",
      "It has been 110.4578366279602 seconds since the loop started\n",
      "test\n",
      "test loss score is :0.6586382072478437\n",
      "test acc score is :0.8522364217252396\n"
     ]
    },
    {
     "name": "stderr",
     "output_type": "stream",
     "text": [
      "\r",
      " 70%|████████████████████████████████████████████████████▌                      | 140/200 [4:24:17<1:54:30, 114.50s/it]"
     ]
    },
    {
     "name": "stdout",
     "output_type": "stream",
     "text": [
      "Epoch 140\n",
      "train\n",
      "Using real-time data augmentation.\n",
      "train loss score is :0.5254981007262521\n",
      "train acc score is :0.882597568777991\n",
      "It has been 110.23474168777466 seconds since the loop started\n",
      "test\n",
      "test loss score is :0.6731621763005424\n",
      "test acc score is :0.8443490415335463\n"
     ]
    },
    {
     "name": "stderr",
     "output_type": "stream",
     "text": [
      "\r",
      " 70%|████████████████████████████████████████████████████▉                      | 141/200 [4:26:12<1:52:37, 114.54s/it]"
     ]
    },
    {
     "name": "stdout",
     "output_type": "stream",
     "text": [
      "Epoch 141\n",
      "train\n",
      "Using real-time data augmentation.\n",
      "train loss score is :0.5218092175301877\n",
      "train acc score is :0.8858765195137556\n",
      "It has been 107.99157643318176 seconds since the loop started\n",
      "test\n",
      "test loss score is :0.6124462512925791\n",
      "test acc score is :0.8655151757188498\n"
     ]
    },
    {
     "name": "stderr",
     "output_type": "stream",
     "text": [
      "\r",
      " 71%|█████████████████████████████████████████████████████▎                     | 142/200 [4:28:04<1:50:05, 113.88s/it]"
     ]
    },
    {
     "name": "stdout",
     "output_type": "stream",
     "text": [
      "Epoch 142\n",
      "train\n",
      "Using real-time data augmentation.\n",
      "train loss score is :0.5201728115441017\n",
      "train acc score is :0.8871361164427384\n",
      "It has been 110.10825800895691 seconds since the loop started\n",
      "test\n",
      "test loss score is :0.6632602210052478\n",
      "test acc score is :0.8484424920127795\n"
     ]
    },
    {
     "name": "stderr",
     "output_type": "stream",
     "text": [
      "\r",
      " 72%|█████████████████████████████████████████████████████▋                     | 143/200 [4:29:59<1:48:22, 114.08s/it]"
     ]
    },
    {
     "name": "stdout",
     "output_type": "stream",
     "text": [
      "Epoch 143\n",
      "train\n",
      "Using real-time data augmentation.\n",
      "train loss score is :0.5219496764571562\n",
      "train acc score is :0.884736884197057\n",
      "It has been 109.25246047973633 seconds since the loop started\n",
      "test\n",
      "test loss score is :0.6374399333287732\n",
      "test acc score is :0.8534345047923323\n"
     ]
    },
    {
     "name": "stderr",
     "output_type": "stream",
     "text": [
      "\r",
      " 72%|██████████████████████████████████████████████████████                     | 144/200 [4:31:52<1:46:20, 113.94s/it]"
     ]
    },
    {
     "name": "stdout",
     "output_type": "stream",
     "text": [
      "Epoch 144\n",
      "train\n",
      "Using real-time data augmentation.\n",
      "train loss score is :0.5183933214811812\n",
      "train acc score is :0.8849768074216251\n",
      "It has been 109.88767623901367 seconds since the loop started\n",
      "test\n",
      "test loss score is :0.6372795648182543\n",
      "test acc score is :0.8536341853035144\n"
     ]
    },
    {
     "name": "stderr",
     "output_type": "stream",
     "text": [
      "\r",
      " 72%|██████████████████████████████████████████████████████▍                    | 145/200 [4:33:46<1:44:31, 114.03s/it]"
     ]
    },
    {
     "name": "stdout",
     "output_type": "stream",
     "text": [
      "Epoch 145\n",
      "train\n",
      "Using real-time data augmentation.\n",
      "train loss score is :0.519979606196046\n",
      "train acc score is :0.8870961292386437\n",
      "It has been 109.62278246879578 seconds since the loop started\n",
      "test\n",
      "test loss score is :0.6412273313576421\n",
      "test acc score is :0.8569289137380192\n"
     ]
    },
    {
     "name": "stderr",
     "output_type": "stream",
     "text": [
      "\r",
      " 73%|██████████████████████████████████████████████████████▊                    | 146/200 [4:35:40<1:42:36, 114.01s/it]"
     ]
    },
    {
     "name": "stdout",
     "output_type": "stream",
     "text": [
      "Epoch 146\n",
      "train\n",
      "Using real-time data augmentation.\n",
      "train loss score is :0.5235363127459949\n",
      "train acc score is :0.8838171785028791\n",
      "It has been 108.23734664916992 seconds since the loop started\n",
      "test\n",
      "test loss score is :0.6838762234575071\n",
      "test acc score is :0.8420527156549521\n"
     ]
    },
    {
     "name": "stderr",
     "output_type": "stream",
     "text": [
      "\r",
      " 74%|███████████████████████████████████████████████████████▏                   | 147/200 [4:37:33<1:40:16, 113.52s/it]"
     ]
    },
    {
     "name": "stdout",
     "output_type": "stream",
     "text": [
      "Epoch 147\n",
      "train\n",
      "Using real-time data augmentation.\n",
      "train loss score is :0.52192172232684\n",
      "train acc score is :0.8843769993602048\n",
      "It has been 107.30641841888428 seconds since the loop started\n",
      "test\n",
      "test loss score is :0.7275081758681958\n",
      "test acc score is :0.8322683706070287\n"
     ]
    },
    {
     "name": "stderr",
     "output_type": "stream",
     "text": [
      "\r",
      " 74%|███████████████████████████████████████████████████████▌                   | 148/200 [4:39:24<1:37:52, 112.94s/it]"
     ]
    },
    {
     "name": "stdout",
     "output_type": "stream",
     "text": [
      "Epoch 148\n",
      "train\n",
      "Using real-time data augmentation.\n",
      "train loss score is :0.5255856050448927\n",
      "train acc score is :0.883577255278311\n",
      "It has been 108.32886838912964 seconds since the loop started\n",
      "test\n",
      "test loss score is :0.6586983992268864\n",
      "test acc score is :0.8483426517571885\n"
     ]
    },
    {
     "name": "stderr",
     "output_type": "stream",
     "text": [
      "\r",
      " 74%|███████████████████████████████████████████████████████▉                   | 149/200 [4:41:17<1:35:55, 112.86s/it]"
     ]
    },
    {
     "name": "stdout",
     "output_type": "stream",
     "text": [
      "Epoch 149\n",
      "train\n",
      "Using real-time data augmentation.\n",
      "train loss score is :0.5191835744767638\n",
      "train acc score is :0.8861764235444658\n",
      "It has been 110.5934362411499 seconds since the loop started\n",
      "test\n",
      "test loss score is :0.742764275104474\n",
      "test acc score is :0.8263777955271565\n"
     ]
    },
    {
     "name": "stderr",
     "output_type": "stream",
     "text": [
      "\r",
      " 75%|████████████████████████████████████████████████████████▎                  | 150/200 [4:43:12<1:34:35, 113.50s/it]"
     ]
    },
    {
     "name": "stdout",
     "output_type": "stream",
     "text": [
      "Epoch 150\n",
      "train\n",
      "Using real-time data augmentation.\n",
      "train loss score is :0.5196794750346485\n",
      "train acc score is :0.886996161228407\n",
      "It has been 111.86631655693054 seconds since the loop started\n",
      "test\n",
      "test loss score is :0.6694170771696316\n",
      "test acc score is :0.8409544728434505\n"
     ]
    },
    {
     "name": "stderr",
     "output_type": "stream",
     "text": [
      "\r",
      " 76%|████████████████████████████████████████████████████████▋                  | 151/200 [4:45:08<1:33:23, 114.36s/it]"
     ]
    },
    {
     "name": "stdout",
     "output_type": "stream",
     "text": [
      "Epoch 151\n",
      "train\n",
      "Using real-time data augmentation.\n",
      "train loss score is :0.5225299487816395\n",
      "train acc score is :0.8853366922584773\n",
      "It has been 110.84178042411804 seconds since the loop started\n",
      "test\n",
      "test loss score is :0.7031588020225683\n",
      "test acc score is :0.8397563897763578\n"
     ]
    },
    {
     "name": "stderr",
     "output_type": "stream",
     "text": [
      "\r",
      " 76%|█████████████████████████████████████████████████████████                  | 152/200 [4:47:04<1:31:42, 114.63s/it]"
     ]
    },
    {
     "name": "stdout",
     "output_type": "stream",
     "text": [
      "Epoch 152\n",
      "train\n",
      "Using real-time data augmentation.\n",
      "train loss score is :0.5203824208492814\n",
      "train acc score is :0.8867762316058861\n",
      "It has been 111.8299469947815 seconds since the loop started\n",
      "test\n",
      "test loss score is :0.684039858297799\n",
      "test acc score is :0.8439496805111821\n"
     ]
    },
    {
     "name": "stderr",
     "output_type": "stream",
     "text": [
      "\r",
      " 76%|█████████████████████████████████████████████████████████▍                 | 153/200 [4:49:00<1:30:11, 115.14s/it]"
     ]
    },
    {
     "name": "stdout",
     "output_type": "stream",
     "text": [
      "Epoch 153\n",
      "train\n",
      "Using real-time data augmentation.\n",
      "train loss score is :0.5169070073506501\n",
      "train acc score is :0.8852367242482405\n",
      "It has been 111.82291173934937 seconds since the loop started\n",
      "test\n",
      "test loss score is :0.7241023478987879\n",
      "test acc score is :0.8323682108626198\n"
     ]
    },
    {
     "name": "stderr",
     "output_type": "stream",
     "text": [
      "\r",
      " 77%|█████████████████████████████████████████████████████████▊                 | 154/200 [4:50:56<1:28:26, 115.36s/it]"
     ]
    },
    {
     "name": "stdout",
     "output_type": "stream",
     "text": [
      "Epoch 154\n",
      "train\n",
      "Using real-time data augmentation.\n",
      "train loss score is :0.5249923272386089\n",
      "train acc score is :0.8846569097888676\n",
      "It has been 110.89548182487488 seconds since the loop started\n",
      "test\n",
      "test loss score is :0.6838695884893496\n",
      "test acc score is :0.8356629392971247\n"
     ]
    },
    {
     "name": "stderr",
     "output_type": "stream",
     "text": [
      "\r",
      " 78%|██████████████████████████████████████████████████████████▏                | 155/200 [4:52:51<1:26:30, 115.34s/it]"
     ]
    },
    {
     "name": "stdout",
     "output_type": "stream",
     "text": [
      "Epoch 155\n",
      "train\n",
      "Using real-time data augmentation.\n",
      "train loss score is :0.5183390354259763\n",
      "train acc score is :0.8854566538707613\n",
      "It has been 109.9904248714447 seconds since the loop started\n",
      "test\n",
      "test loss score is :0.6756417727984559\n",
      "test acc score is :0.8518370607028753\n"
     ]
    },
    {
     "name": "stderr",
     "output_type": "stream",
     "text": [
      "\r",
      " 78%|██████████████████████████████████████████████████████████▌                | 156/200 [4:54:45<1:24:20, 115.02s/it]"
     ]
    },
    {
     "name": "stdout",
     "output_type": "stream",
     "text": [
      "Epoch 156\n",
      "train\n",
      "Using real-time data augmentation.\n",
      "train loss score is :0.5189598491766937\n",
      "train acc score is :0.8861564299424184\n",
      "It has been 111.31258273124695 seconds since the loop started\n",
      "test\n",
      "test loss score is :0.7027230713123711\n",
      "test acc score is :0.8413538338658147\n"
     ]
    },
    {
     "name": "stderr",
     "output_type": "stream",
     "text": [
      "\r",
      " 78%|██████████████████████████████████████████████████████████▉                | 157/200 [4:56:41<1:22:35, 115.25s/it]"
     ]
    },
    {
     "name": "stdout",
     "output_type": "stream",
     "text": [
      "Epoch 157\n",
      "train\n",
      "Using real-time data augmentation.\n",
      "train loss score is :0.5214877824751292\n",
      "train acc score is :0.8851367562380038\n",
      "It has been 112.00454664230347 seconds since the loop started\n",
      "test\n",
      "test loss score is :0.6571224633687601\n",
      "test acc score is :0.8481429712460063\n"
     ]
    },
    {
     "name": "stderr",
     "output_type": "stream",
     "text": [
      "\r",
      " 79%|███████████████████████████████████████████████████████████▎               | 158/200 [4:58:38<1:20:56, 115.62s/it]"
     ]
    },
    {
     "name": "stdout",
     "output_type": "stream",
     "text": [
      "Epoch 158\n",
      "train\n",
      "Using real-time data augmentation.\n",
      "train loss score is :0.5199577168192684\n",
      "train acc score is :0.8869161868202176\n",
      "It has been 111.65403127670288 seconds since the loop started\n",
      "test\n",
      "test loss score is :0.643224820685082\n",
      "test acc score is :0.8527356230031949\n"
     ]
    },
    {
     "name": "stderr",
     "output_type": "stream",
     "text": [
      "\r",
      " 80%|███████████████████████████████████████████████████████████▋               | 159/200 [5:00:34<1:19:07, 115.78s/it]"
     ]
    },
    {
     "name": "stdout",
     "output_type": "stream",
     "text": [
      "Epoch 159\n",
      "train\n",
      "Using real-time data augmentation.\n",
      "train loss score is :0.5160860712243743\n",
      "train acc score is :0.8879558541266794\n",
      "It has been 110.6792962551117 seconds since the loop started\n",
      "test\n",
      "test loss score is :0.706103833862387\n",
      "test acc score is :0.8346645367412141\n"
     ]
    },
    {
     "name": "stderr",
     "output_type": "stream",
     "text": [
      "\r",
      " 80%|████████████████████████████████████████████████████████████               | 160/200 [5:02:29<1:17:03, 115.60s/it]"
     ]
    },
    {
     "name": "stdout",
     "output_type": "stream",
     "text": [
      "Epoch 160\n",
      "train\n",
      "Using real-time data augmentation.\n",
      "train loss score is :0.5151151858475143\n",
      "train acc score is :0.8897152911068458\n",
      "It has been 111.7286810874939 seconds since the loop started\n",
      "test\n",
      "test loss score is :0.6185805396245311\n",
      "test acc score is :0.8660143769968051\n"
     ]
    },
    {
     "name": "stderr",
     "output_type": "stream",
     "text": [
      "\r",
      " 80%|████████████████████████████████████████████████████████████▍              | 161/200 [5:04:25<1:15:14, 115.76s/it]"
     ]
    },
    {
     "name": "stdout",
     "output_type": "stream",
     "text": [
      "Epoch 161\n",
      "train\n",
      "Using real-time data augmentation.\n",
      "train loss score is :0.5167519192873326\n",
      "train acc score is :0.8868362124120281\n",
      "It has been 110.83953428268433 seconds since the loop started\n",
      "test\n",
      "test loss score is :0.6825020285650564\n",
      "test acc score is :0.8510383386581469\n"
     ]
    },
    {
     "name": "stderr",
     "output_type": "stream",
     "text": [
      "\r",
      " 81%|████████████████████████████████████████████████████████████▊              | 162/200 [5:06:21<1:13:13, 115.63s/it]"
     ]
    },
    {
     "name": "stdout",
     "output_type": "stream",
     "text": [
      "Epoch 162\n",
      "train\n",
      "Using real-time data augmentation.\n",
      "train loss score is :0.5253766283860057\n",
      "train acc score is :0.8840770953294945\n",
      "It has been 111.68183827400208 seconds since the loop started\n",
      "test\n",
      "test loss score is :0.6486040470889582\n",
      "test acc score is :0.8475439297124601\n"
     ]
    },
    {
     "name": "stderr",
     "output_type": "stream",
     "text": [
      "\r",
      " 82%|█████████████████████████████████████████████████████████████              | 163/200 [5:08:17<1:11:22, 115.73s/it]"
     ]
    },
    {
     "name": "stdout",
     "output_type": "stream",
     "text": [
      "Epoch 163\n",
      "train\n",
      "Using real-time data augmentation.\n",
      "train loss score is :0.516624848333903\n",
      "train acc score is :0.887695937300064\n",
      "It has been 112.1264078617096 seconds since the loop started\n",
      "test\n",
      "test loss score is :0.7211966429845974\n",
      "test acc score is :0.8282747603833865\n"
     ]
    },
    {
     "name": "stderr",
     "output_type": "stream",
     "text": [
      "\r",
      " 82%|█████████████████████████████████████████████████████████████▍             | 164/200 [5:10:13<1:09:35, 115.99s/it]"
     ]
    },
    {
     "name": "stdout",
     "output_type": "stream",
     "text": [
      "Epoch 164\n",
      "train\n",
      "Using real-time data augmentation.\n",
      "train loss score is :0.5150254115185826\n",
      "train acc score is :0.8877959053103007\n",
      "It has been 111.23225831985474 seconds since the loop started\n",
      "test\n",
      "test loss score is :0.6821733625552144\n",
      "test acc score is :0.8406549520766773\n"
     ]
    },
    {
     "name": "stderr",
     "output_type": "stream",
     "text": [
      "\r",
      " 82%|█████████████████████████████████████████████████████████████▉             | 165/200 [5:12:09<1:07:35, 115.86s/it]"
     ]
    },
    {
     "name": "stdout",
     "output_type": "stream",
     "text": [
      "Epoch 165\n",
      "train\n",
      "Using real-time data augmentation.\n",
      "train loss score is :0.5175594355975369\n",
      "train acc score is :0.8853166986564299\n",
      "It has been 107.83765625953674 seconds since the loop started\n",
      "test\n",
      "test loss score is :0.7076035175270166\n",
      "test acc score is :0.8306709265175719\n"
     ]
    },
    {
     "name": "stderr",
     "output_type": "stream",
     "text": [
      "\r",
      " 83%|██████████████████████████████████████████████████████████████▎            | 166/200 [5:14:01<1:04:59, 114.69s/it]"
     ]
    },
    {
     "name": "stdout",
     "output_type": "stream",
     "text": [
      "Epoch 166\n",
      "train\n",
      "Using real-time data augmentation.\n",
      "train loss score is :0.5196478279904532\n",
      "train acc score is :0.8851767434420985\n",
      "It has been 104.56496977806091 seconds since the loop started\n",
      "test\n",
      "test loss score is :0.6582506528487221\n",
      "test acc score is :0.8469448881789138\n"
     ]
    },
    {
     "name": "stderr",
     "output_type": "stream",
     "text": [
      "\r",
      " 84%|██████████████████████████████████████████████████████████████▋            | 167/200 [5:15:49<1:02:06, 112.91s/it]"
     ]
    },
    {
     "name": "stdout",
     "output_type": "stream",
     "text": [
      "Epoch 167\n",
      "train\n",
      "Using real-time data augmentation.\n",
      "train loss score is :0.5115438127224062\n",
      "train acc score is :0.8873160588611644\n",
      "It has been 107.10581469535828 seconds since the loop started\n",
      "test\n",
      "test loss score is :0.6257012398383869\n",
      "test acc score is :0.8617212460063898\n"
     ]
    },
    {
     "name": "stderr",
     "output_type": "stream",
     "text": [
      "\r",
      " 84%|████████████████████████████████████████████████████████████████▋            | 168/200 [5:17:41<59:58, 112.46s/it]"
     ]
    },
    {
     "name": "stdout",
     "output_type": "stream",
     "text": [
      "Epoch 168\n",
      "train\n",
      "Using real-time data augmentation.\n",
      "train loss score is :0.5160145533157325\n",
      "train acc score is :0.887755918106206\n",
      "It has been 107.07891845703125 seconds since the loop started\n",
      "test\n",
      "test loss score is :0.6139232313004546\n",
      "test acc score is :0.8623202875399361\n"
     ]
    },
    {
     "name": "stderr",
     "output_type": "stream",
     "text": [
      "\r",
      " 84%|█████████████████████████████████████████████████████████████████            | 169/200 [5:19:32<57:56, 112.13s/it]"
     ]
    },
    {
     "name": "stdout",
     "output_type": "stream",
     "text": [
      "Epoch 169\n",
      "train\n",
      "Using real-time data augmentation.\n",
      "train loss score is :0.5156727723028899\n",
      "train acc score is :0.8876759436980166\n",
      "It has been 107.3944923877716 seconds since the loop started\n",
      "test\n",
      "test loss score is :0.6365437309105937\n",
      "test acc score is :0.8531349840255591\n"
     ]
    },
    {
     "name": "stderr",
     "output_type": "stream",
     "text": [
      "\r",
      " 85%|█████████████████████████████████████████████████████████████████▍           | 170/200 [5:21:24<55:59, 111.97s/it]"
     ]
    },
    {
     "name": "stdout",
     "output_type": "stream",
     "text": [
      "Epoch 170\n",
      "train\n",
      "Using real-time data augmentation.\n",
      "train loss score is :0.5146864784675307\n",
      "train acc score is :0.8852967050543826\n",
      "It has been 105.22651362419128 seconds since the loop started\n",
      "test\n",
      "test loss score is :0.6538588844549161\n",
      "test acc score is :0.8485423322683706\n"
     ]
    },
    {
     "name": "stderr",
     "output_type": "stream",
     "text": [
      "\r",
      " 86%|█████████████████████████████████████████████████████████████████▊           | 171/200 [5:23:13<53:46, 111.24s/it]"
     ]
    },
    {
     "name": "stdout",
     "output_type": "stream",
     "text": [
      "Epoch 171\n",
      "train\n",
      "Using real-time data augmentation.\n",
      "train loss score is :0.5154655364199624\n",
      "train acc score is :0.8877959053103007\n",
      "It has been 109.95671391487122 seconds since the loop started\n",
      "test\n",
      "test loss score is :0.662094104785127\n",
      "test acc score is :0.8502396166134185\n"
     ]
    },
    {
     "name": "stderr",
     "output_type": "stream",
     "text": [
      "\r",
      " 86%|██████████████████████████████████████████████████████████████████▏          | 172/200 [5:25:08<52:20, 112.15s/it]"
     ]
    },
    {
     "name": "stdout",
     "output_type": "stream",
     "text": [
      "Epoch 172\n",
      "train\n",
      "Using real-time data augmentation.\n",
      "train loss score is :0.512170768459104\n",
      "train acc score is :0.8890555022392834\n",
      "It has been 106.53720593452454 seconds since the loop started\n",
      "test\n",
      "test loss score is :0.6298814834878087\n",
      "test acc score is :0.856629392971246\n"
     ]
    },
    {
     "name": "stderr",
     "output_type": "stream",
     "text": [
      "\r",
      " 86%|██████████████████████████████████████████████████████████████████▌          | 173/200 [5:26:58<50:16, 111.74s/it]"
     ]
    },
    {
     "name": "stdout",
     "output_type": "stream",
     "text": [
      "Epoch 173\n",
      "train\n",
      "Using real-time data augmentation.\n",
      "train loss score is :0.5166856714894356\n",
      "train acc score is :0.8860964491362764\n",
      "It has been 106.9454116821289 seconds since the loop started\n",
      "test\n",
      "test loss score is :0.6203565017674297\n",
      "test acc score is :0.8562300319488818\n"
     ]
    },
    {
     "name": "stderr",
     "output_type": "stream",
     "text": [
      "\r",
      " 87%|██████████████████████████████████████████████████████████████████▉          | 174/200 [5:28:50<48:21, 111.59s/it]"
     ]
    },
    {
     "name": "stdout",
     "output_type": "stream",
     "text": [
      "Epoch 174\n",
      "train\n",
      "Using real-time data augmentation.\n",
      "train loss score is :0.5145197158544703\n",
      "train acc score is :0.8886556301983365\n",
      "It has been 102.87724137306213 seconds since the loop started\n",
      "test\n",
      "test loss score is :0.6617922185899351\n",
      "test acc score is :0.853035143769968\n"
     ]
    },
    {
     "name": "stderr",
     "output_type": "stream",
     "text": [
      "\r",
      " 88%|███████████████████████████████████████████████████████████████████▍         | 175/200 [5:30:37<45:55, 110.23s/it]"
     ]
    },
    {
     "name": "stdout",
     "output_type": "stream",
     "text": [
      "Epoch 175\n",
      "train\n",
      "Using real-time data augmentation.\n",
      "train loss score is :0.5118000585817024\n",
      "train acc score is :0.8879358605246321\n",
      "It has been 104.34130311012268 seconds since the loop started\n",
      "test\n",
      "test loss score is :0.6607576145912512\n",
      "test acc score is :0.8527356230031949\n"
     ]
    },
    {
     "name": "stderr",
     "output_type": "stream",
     "text": [
      "\r",
      " 88%|███████████████████████████████████████████████████████████████████▊         | 176/200 [5:32:25<43:54, 109.76s/it]"
     ]
    },
    {
     "name": "stdout",
     "output_type": "stream",
     "text": [
      "Epoch 176\n",
      "train\n",
      "Using real-time data augmentation.\n",
      "train loss score is :0.5151802367475349\n",
      "train acc score is :0.887755918106206\n",
      "It has been 107.8065836429596 seconds since the loop started\n",
      "test\n",
      "test loss score is :0.6453851853696683\n",
      "test acc score is :0.8504392971246006\n"
     ]
    },
    {
     "name": "stderr",
     "output_type": "stream",
     "text": [
      "\r",
      " 88%|████████████████████████████████████████████████████████████████████▏        | 177/200 [5:34:17<42:20, 110.45s/it]"
     ]
    },
    {
     "name": "stdout",
     "output_type": "stream",
     "text": [
      "Epoch 177\n",
      "train\n",
      "Using real-time data augmentation.\n",
      "train loss score is :0.5149968125007126\n",
      "train acc score is :0.887815898912348\n",
      "It has been 107.2927896976471 seconds since the loop started\n",
      "test\n",
      "test loss score is :0.6566521577751294\n",
      "test acc score is :0.8500399361022364\n"
     ]
    },
    {
     "name": "stderr",
     "output_type": "stream",
     "text": [
      "\r",
      " 89%|████████████████████████████████████████████████████████████████████▌        | 178/200 [5:36:09<40:37, 110.80s/it]"
     ]
    },
    {
     "name": "stdout",
     "output_type": "stream",
     "text": [
      "Epoch 178\n",
      "train\n",
      "Using real-time data augmentation.\n",
      "train loss score is :0.5107735453587042\n",
      "train acc score is :0.8875159948816379\n",
      "It has been 105.71322393417358 seconds since the loop started\n",
      "test\n",
      "test loss score is :0.7073448542207955\n",
      "test acc score is :0.8379592651757188\n"
     ]
    },
    {
     "name": "stderr",
     "output_type": "stream",
     "text": [
      "\r",
      " 90%|████████████████████████████████████████████████████████████████████▉        | 179/200 [5:37:59<38:41, 110.52s/it]"
     ]
    },
    {
     "name": "stdout",
     "output_type": "stream",
     "text": [
      "Epoch 179\n",
      "train\n",
      "Using real-time data augmentation.\n",
      "train loss score is :0.5103189888304803\n",
      "train acc score is :0.8900551823416507\n",
      "It has been 105.22485637664795 seconds since the loop started\n",
      "test\n",
      "test loss score is :0.6491959973360403\n",
      "test acc score is :0.8581269968051118\n"
     ]
    },
    {
     "name": "stderr",
     "output_type": "stream",
     "text": [
      "\r",
      " 90%|█████████████████████████████████████████████████████████████████████▎       | 180/200 [5:39:48<36:44, 110.21s/it]"
     ]
    },
    {
     "name": "stdout",
     "output_type": "stream",
     "text": [
      "Epoch 180\n",
      "train\n",
      "Using real-time data augmentation.\n",
      "train loss score is :0.5119917489211679\n",
      "train acc score is :0.8884956813819578\n",
      "It has been 107.44905972480774 seconds since the loop started\n",
      "test\n",
      "test loss score is :0.6593035726120677\n",
      "test acc score is :0.8574281150159745\n"
     ]
    },
    {
     "name": "stderr",
     "output_type": "stream",
     "text": [
      "\r",
      " 90%|█████████████████████████████████████████████████████████████████████▋       | 181/200 [5:41:40<35:02, 110.65s/it]"
     ]
    },
    {
     "name": "stdout",
     "output_type": "stream",
     "text": [
      "Epoch 181\n",
      "train\n",
      "Using real-time data augmentation.\n",
      "train loss score is :0.514112358444483\n",
      "train acc score is :0.8864163467690339\n",
      "It has been 105.7778992652893 seconds since the loop started\n",
      "test\n",
      "test loss score is :0.6436798826764567\n",
      "test acc score is :0.8539337060702875\n"
     ]
    },
    {
     "name": "stderr",
     "output_type": "stream",
     "text": [
      "\r",
      " 91%|██████████████████████████████████████████████████████████████████████       | 182/200 [5:43:30<33:08, 110.47s/it]"
     ]
    },
    {
     "name": "stdout",
     "output_type": "stream",
     "text": [
      "Epoch 182\n",
      "train\n",
      "Using real-time data augmentation.\n",
      "train loss score is :0.5107442046863028\n",
      "train acc score is :0.8888755598208573\n",
      "It has been 104.1594786643982 seconds since the loop started\n",
      "test\n",
      "test loss score is :0.6313896601002056\n",
      "test acc score is :0.8574281150159745\n"
     ]
    },
    {
     "name": "stderr",
     "output_type": "stream",
     "text": [
      "\r",
      " 92%|██████████████████████████████████████████████████████████████████████▍      | 183/200 [5:45:19<31:07, 109.86s/it]"
     ]
    },
    {
     "name": "stdout",
     "output_type": "stream",
     "text": [
      "Epoch 183\n",
      "train\n",
      "Using real-time data augmentation.\n",
      "train loss score is :0.5107136516714431\n",
      "train acc score is :0.888215770953295\n",
      "It has been 107.00447058677673 seconds since the loop started\n",
      "test\n",
      "test loss score is :0.631431753928669\n",
      "test acc score is :0.8577276357827476\n"
     ]
    },
    {
     "name": "stderr",
     "output_type": "stream",
     "text": [
      "\r",
      " 92%|██████████████████████████████████████████████████████████████████████▊      | 184/200 [5:47:10<29:24, 110.30s/it]"
     ]
    },
    {
     "name": "stdout",
     "output_type": "stream",
     "text": [
      "Epoch 184\n",
      "train\n",
      "Using real-time data augmentation.\n",
      "train loss score is :0.5129650360925488\n",
      "train acc score is :0.8881158029430583\n",
      "It has been 106.2139413356781 seconds since the loop started\n",
      "test\n",
      "test loss score is :0.6481588695186395\n",
      "test acc score is :0.8553314696485623\n"
     ]
    },
    {
     "name": "stderr",
     "output_type": "stream",
     "text": [
      "\r",
      " 92%|███████████████████████████████████████████████████████████████████████▏     | 185/200 [5:49:00<27:35, 110.37s/it]"
     ]
    },
    {
     "name": "stdout",
     "output_type": "stream",
     "text": [
      "Epoch 185\n",
      "train\n",
      "Using real-time data augmentation.\n",
      "train loss score is :0.5119420573525297\n",
      "train acc score is :0.8886756238003839\n",
      "It has been 108.15935444831848 seconds since the loop started\n",
      "test\n",
      "test loss score is :0.632146439279992\n",
      "test acc score is :0.8563298722044729\n"
     ]
    },
    {
     "name": "stderr",
     "output_type": "stream",
     "text": [
      "\r",
      " 93%|███████████████████████████████████████████████████████████████████████▌     | 186/200 [5:50:53<25:53, 110.97s/it]"
     ]
    },
    {
     "name": "stdout",
     "output_type": "stream",
     "text": [
      "Epoch 186\n",
      "train\n",
      "Using real-time data augmentation.\n",
      "train loss score is :0.5125996371396291\n",
      "train acc score is :0.8873760396673065\n",
      "It has been 105.40943551063538 seconds since the loop started\n",
      "test\n",
      "test loss score is :0.6434898093676034\n",
      "test acc score is :0.8538338658146964\n"
     ]
    },
    {
     "name": "stderr",
     "output_type": "stream",
     "text": [
      "\r",
      " 94%|███████████████████████████████████████████████████████████████████████▉     | 187/200 [5:52:42<23:57, 110.58s/it]"
     ]
    },
    {
     "name": "stdout",
     "output_type": "stream",
     "text": [
      "Epoch 187\n",
      "train\n",
      "Using real-time data augmentation.\n",
      "train loss score is :0.5146149011830526\n",
      "train acc score is :0.8873960332693538\n",
      "It has been 104.02550554275513 seconds since the loop started\n",
      "test\n",
      "test loss score is :0.6791779675041906\n",
      "test acc score is :0.8506389776357828\n"
     ]
    },
    {
     "name": "stderr",
     "output_type": "stream",
     "text": [
      "\r",
      " 94%|████████████████████████████████████████████████████████████████████████▍    | 188/200 [5:54:31<21:58, 109.89s/it]"
     ]
    },
    {
     "name": "stdout",
     "output_type": "stream",
     "text": [
      "Epoch 188\n",
      "train\n",
      "Using real-time data augmentation.\n",
      "train loss score is :0.5150067731595085\n",
      "train acc score is :0.888155790147153\n",
      "It has been 106.57277989387512 seconds since the loop started\n",
      "test\n",
      "test loss score is :0.6319635233844811\n",
      "test acc score is :0.860423322683706\n"
     ]
    },
    {
     "name": "stderr",
     "output_type": "stream",
     "text": [
      "\r",
      " 94%|████████████████████████████████████████████████████████████████████████▊    | 189/200 [5:56:21<20:11, 110.15s/it]"
     ]
    },
    {
     "name": "stdout",
     "output_type": "stream",
     "text": [
      "Epoch 189\n",
      "train\n",
      "Using real-time data augmentation.\n",
      "train loss score is :0.5066574114259816\n",
      "train acc score is :0.8897152911068458\n",
      "It has been 106.702707529068 seconds since the loop started\n",
      "test\n",
      "test loss score is :0.6898145855139619\n",
      "test acc score is :0.8407547923322684\n"
     ]
    },
    {
     "name": "stderr",
     "output_type": "stream",
     "text": [
      "\r",
      " 95%|█████████████████████████████████████████████████████████████████████████▏   | 190/200 [5:58:12<18:23, 110.37s/it]"
     ]
    },
    {
     "name": "stdout",
     "output_type": "stream",
     "text": [
      "Epoch 190\n",
      "train\n",
      "Using real-time data augmentation.\n",
      "train loss score is :0.5112986453950062\n",
      "train acc score is :0.8877959053103007\n",
      "It has been 107.09994912147522 seconds since the loop started\n",
      "test\n",
      "test loss score is :0.6344668142521344\n",
      "test acc score is :0.8554313099041534\n"
     ]
    },
    {
     "name": "stderr",
     "output_type": "stream",
     "text": [
      "\r",
      " 96%|█████████████████████████████████████████████████████████████████████████▌   | 191/200 [6:00:04<16:36, 110.69s/it]"
     ]
    },
    {
     "name": "stdout",
     "output_type": "stream",
     "text": [
      "Epoch 191\n",
      "train\n",
      "Using real-time data augmentation.\n",
      "train loss score is :0.5109100633241851\n",
      "train acc score is :0.8869361804222649\n",
      "It has been 107.83320736885071 seconds since the loop started\n",
      "test\n",
      "test loss score is :0.6531623758066195\n",
      "test acc score is :0.8533346645367412\n"
     ]
    },
    {
     "name": "stderr",
     "output_type": "stream",
     "text": [
      "\r",
      " 96%|█████████████████████████████████████████████████████████████████████████▉   | 192/200 [6:01:56<14:49, 111.14s/it]"
     ]
    },
    {
     "name": "stdout",
     "output_type": "stream",
     "text": [
      "Epoch 192\n",
      "train\n",
      "Using real-time data augmentation.\n",
      "train loss score is :0.5086474416638062\n",
      "train acc score is :0.8895153550863724\n",
      "It has been 106.76640009880066 seconds since the loop started\n",
      "test\n",
      "test loss score is :0.6216252776094899\n",
      "test acc score is :0.8599241214057508\n"
     ]
    },
    {
     "name": "stderr",
     "output_type": "stream",
     "text": [
      "\r",
      " 96%|██████████████████████████████████████████████████████████████████████████▎  | 193/200 [6:03:47<12:57, 111.13s/it]"
     ]
    },
    {
     "name": "stdout",
     "output_type": "stream",
     "text": [
      "Epoch 193\n",
      "train\n",
      "Using real-time data augmentation.\n",
      "train loss score is :0.5090037795857444\n",
      "train acc score is :0.8886756238003839\n",
      "It has been 106.53189086914062 seconds since the loop started\n",
      "test\n",
      "test loss score is :0.6293959072032295\n",
      "test acc score is :0.8527356230031949\n"
     ]
    },
    {
     "name": "stderr",
     "output_type": "stream",
     "text": [
      "\r",
      " 97%|██████████████████████████████████████████████████████████████████████████▋  | 194/200 [6:05:38<11:06, 111.03s/it]"
     ]
    },
    {
     "name": "stdout",
     "output_type": "stream",
     "text": [
      "Epoch 194\n",
      "train\n",
      "Using real-time data augmentation.\n",
      "train loss score is :0.5131465989622029\n",
      "train acc score is :0.887176103646833\n",
      "It has been 105.4675612449646 seconds since the loop started\n",
      "test\n",
      "test loss score is :0.6427998218102197\n",
      "test acc score is :0.8596246006389776\n"
     ]
    },
    {
     "name": "stderr",
     "output_type": "stream",
     "text": [
      "\r",
      " 98%|███████████████████████████████████████████████████████████████████████████  | 195/200 [6:07:28<09:13, 110.66s/it]"
     ]
    },
    {
     "name": "stdout",
     "output_type": "stream",
     "text": [
      "Epoch 195\n",
      "train\n",
      "Using real-time data augmentation.\n",
      "train loss score is :0.5124414242179594\n",
      "train acc score is :0.8888355726167626\n",
      "It has been 107.80329465866089 seconds since the loop started\n",
      "test\n",
      "test loss score is :0.6386723653577007\n",
      "test acc score is :0.8552316293929713\n"
     ]
    },
    {
     "name": "stderr",
     "output_type": "stream",
     "text": [
      "\r",
      " 98%|███████████████████████████████████████████████████████████████████████████▍ | 196/200 [6:09:20<07:24, 111.09s/it]"
     ]
    },
    {
     "name": "stdout",
     "output_type": "stream",
     "text": [
      "Epoch 196\n",
      "train\n",
      "Using real-time data augmentation.\n",
      "train loss score is :0.5096583847273487\n",
      "train acc score is :0.889955214331414\n",
      "It has been 106.63390469551086 seconds since the loop started\n",
      "test\n",
      "test loss score is :0.7040310850063451\n",
      "test acc score is :0.8402555910543131\n"
     ]
    },
    {
     "name": "stderr",
     "output_type": "stream",
     "text": [
      "\r",
      " 98%|███████████████████████████████████████████████████████████████████████████▊ | 197/200 [6:11:11<05:33, 111.03s/it]"
     ]
    },
    {
     "name": "stdout",
     "output_type": "stream",
     "text": [
      "Epoch 197\n",
      "train\n",
      "Using real-time data augmentation.\n",
      "train loss score is :0.5074341934190983\n",
      "train acc score is :0.8885956493921945\n",
      "It has been 109.2817714214325 seconds since the loop started\n",
      "test\n",
      "test loss score is :0.6194260138006636\n",
      "test acc score is :0.8669129392971247\n"
     ]
    },
    {
     "name": "stderr",
     "output_type": "stream",
     "text": [
      "\r",
      " 99%|████████████████████████████████████████████████████████████████████████████▏| 198/200 [6:13:04<03:43, 111.80s/it]"
     ]
    },
    {
     "name": "stdout",
     "output_type": "stream",
     "text": [
      "Epoch 198\n",
      "train\n",
      "Using real-time data augmentation.\n",
      "train loss score is :0.5135305724461263\n",
      "train acc score is :0.888215770953295\n",
      "It has been 108.83571362495422 seconds since the loop started\n",
      "test\n",
      "test loss score is :0.640515610575676\n",
      "test acc score is :0.8481429712460063\n"
     ]
    },
    {
     "name": "stderr",
     "output_type": "stream",
     "text": [
      "\r",
      "100%|████████████████████████████████████████████████████████████████████████████▌| 199/200 [6:14:57<01:52, 112.21s/it]"
     ]
    },
    {
     "name": "stdout",
     "output_type": "stream",
     "text": [
      "Epoch 199\n",
      "train\n",
      "Using real-time data augmentation.\n",
      "train loss score is :0.5064404768796587\n",
      "train acc score is :0.8895353486884197\n",
      "It has been 106.41384029388428 seconds since the loop started\n",
      "test\n",
      "test loss score is :0.6750519704133177\n",
      "test acc score is :0.8490415335463258\n"
     ]
    },
    {
     "name": "stderr",
     "output_type": "stream",
     "text": [
      "100%|█████████████████████████████████████████████████████████████████████████████| 200/200 [6:16:48<00:00, 111.75s/it]\n"
     ]
    },
    {
     "name": "stdout",
     "output_type": "stream",
     "text": [
      "0.8669129392971247 197\n",
      "0.6040386826085588 110\n",
      "0.5064404768796587 199\n"
     ]
    }
   ],
   "source": [
    "from __future__ import division\n",
    "\n",
    "from numpy.random import seed\n",
    "seed(1)\n",
    "from tensorflow import set_random_seed\n",
    "set_random_seed(2)\n",
    "from keras import backend as K\n",
    "import os\n",
    "import keras\n",
    "import pickle\n",
    "import os.path\n",
    "import numpy as np\n",
    "from keras.datasets import cifar10\n",
    "from keras.models import Sequential\n",
    "from keras.layers import Dense, Dropout, Flatten\n",
    "from keras.layers import Conv2D, MaxPooling2D, BatchNormalization\n",
    "from keras.optimizers import Adam\n",
    "from keras.callbacks import ModelCheckpoint\n",
    "from keras.callbacks import LambdaCallback\n",
    "from keras.callbacks import TensorBoard\n",
    "from sklearn.preprocessing import LabelBinarizer\n",
    "from keras import initializers\n",
    "import time\n",
    "from tqdm import tqdm\n",
    "from keras.layers import Dense, Conv2D, BatchNormalization, Activation\n",
    "from keras.layers import AveragePooling2D, Input, Flatten\n",
    "from keras.optimizers import Adam\n",
    "from keras.callbacks import ModelCheckpoint, LearningRateScheduler\n",
    "from keras.callbacks import ReduceLROnPlateau\n",
    "from keras.preprocessing.image import ImageDataGenerator\n",
    "from keras.regularizers import l2\n",
    "from keras.models import Model\n",
    "from keras.datasets import cifar10\n",
    "from keras.optimizers import SGD\n",
    "\n",
    "# Training parameters\n",
    "batch_size = 32  # orig paper trained all networks with batch_size=128\n",
    "epochs = 200\n",
    "data_augmentation = True\n",
    "num_classes = 10\n",
    "\n",
    "# Subtracting pixel mean improves accuracy\n",
    "subtract_pixel_mean = True\n",
    "\n",
    "\n",
    "# In[3]:\n",
    "\n",
    "\n",
    "n = 3\n",
    "\n",
    "# Model version\n",
    "# Orig paper: version = 1 (ResNet v1), Improved ResNet: version = 2 (ResNet v2)\n",
    "version = 1\n",
    "\n",
    "# Computed depth from supplied model parameter n\n",
    "if version == 1:\n",
    "    depth = n * 6 + 2\n",
    "elif version == 2:\n",
    "    depth = n * 9 + 2\n",
    "\n",
    "# Model name, depth and version\n",
    "model_type = 'ResNet%dv%d' % (depth, version)\n",
    "\n",
    "# Load the CIFAR10 data.\n",
    "(x_train, y_train), (x_test, y_test) = cifar10.load_data()\n",
    "\n",
    "# Input image dimensions.\n",
    "input_shape = x_train.shape[1:]\n",
    "\n",
    "# Normalize data.\n",
    "x_train = x_train.astype('float32') / 255\n",
    "x_test = x_test.astype('float32') / 255\n",
    "\n",
    "# If subtract pixel mean is enabled\n",
    "if subtract_pixel_mean:\n",
    "    x_train_mean = np.mean(x_train, axis=0)\n",
    "    x_train -= x_train_mean\n",
    "    x_test -= x_train_mean\n",
    "\n",
    "print('x_train shape:', x_train.shape)\n",
    "print(x_train.shape[0], 'train samples')\n",
    "print(x_test.shape[0], 'test samples')\n",
    "print('y_train shape:', y_train.shape)\n",
    "\n",
    "# Convert class vectors to binary class matrices.\n",
    "y_train = keras.utils.to_categorical(y_train, num_classes)\n",
    "y_test = keras.utils.to_categorical(y_test, num_classes)\n",
    "\n",
    "\n",
    "# In[4]:\n",
    "\n",
    "\n",
    "def lr_schedule(epoch):\n",
    "    \"\"\"Learning Rate Schedule\n",
    "\n",
    "    Learning rate is scheduled to be reduced after 80, 120, 160, 180 epochs.\n",
    "    Called automatically every epoch as part of callbacks during training.\n",
    "\n",
    "    # Arguments\n",
    "        epoch (int): The number of epochs\n",
    "\n",
    "    # Returns\n",
    "        lr (float32): learning rate\n",
    "    \"\"\"\n",
    "    lr = 1e-3\n",
    "    return lr\n",
    "\n",
    "\n",
    "def resnet_layer(inputs,\n",
    "                 num_filters=16,\n",
    "                 kernel_size=3,\n",
    "                 strides=1,\n",
    "                 activation='relu',\n",
    "                 batch_normalization=False,\n",
    "                 conv_first=True):\n",
    "    \"\"\"2D Convolution-Batch Normalization-Activation stack builder\n",
    "\n",
    "    # Arguments\n",
    "        inputs (tensor): input tensor from input image or previous layer\n",
    "        num_filters (int): Conv2D number of filters\n",
    "        kernel_size (int): Conv2D square kernel dimensions\n",
    "        strides (int): Conv2D square stride dimensions\n",
    "        activation (string): activation name\n",
    "        batch_normalization (bool): whether to include batch normalization\n",
    "        conv_first (bool): conv-bn-activation (True) or\n",
    "            bn-activation-conv (False)\n",
    "\n",
    "    # Returns\n",
    "        x (tensor): tensor as input to the next layer\n",
    "    \"\"\"\n",
    "    conv = Conv2D(num_filters,\n",
    "                  kernel_size=kernel_size,\n",
    "                  strides=strides,\n",
    "                  padding='same',\n",
    "                  kernel_initializer='he_normal',\n",
    "                  kernel_regularizer=l2(1e-4))\n",
    "\n",
    "    x = inputs\n",
    "    if conv_first:\n",
    "        x = conv(x)\n",
    "        if batch_normalization:\n",
    "            x = BatchNormalization()(x)\n",
    "        if activation is not None:\n",
    "            x = Activation(activation)(x)\n",
    "    else:\n",
    "        if batch_normalization:\n",
    "            x = BatchNormalization()(x)\n",
    "        if activation is not None:\n",
    "            x = Activation(activation)(x)\n",
    "        x = conv(x)\n",
    "    return x\n",
    "\n",
    "\n",
    "def resnet_v1(input_shape, depth, num_classes=10):\n",
    "    \"\"\"ResNet Version 1 Model builder [a]\n",
    "\n",
    "    Stacks of 2 x (3 x 3) Conv2D-BN-ReLU\n",
    "    Last ReLU is after the shortcut connection.\n",
    "    At the beginning of each stage, the feature map size is halved (downsampled)\n",
    "    by a convolutional layer with strides=2, while the number of filters is\n",
    "    doubled. Within each stage, the layers have the same number filters and the\n",
    "    same number of filters.\n",
    "    Features maps sizes:\n",
    "    stage 0: 32x32, 16\n",
    "    stage 1: 16x16, 32\n",
    "    stage 2:  8x8,  64\n",
    "    The Number of parameters is approx the same as Table 6 of [a]:\n",
    "    ResNet20 0.27M\n",
    "    ResNet32 0.46M\n",
    "    ResNet44 0.66M\n",
    "    ResNet56 0.85M\n",
    "    ResNet110 1.7M\n",
    "\n",
    "    # Arguments\n",
    "        input_shape (tensor): shape of input image tensor\n",
    "        depth (int): number of core convolutional layers\n",
    "        num_classes (int): number of classes (CIFAR10 has 10)\n",
    "\n",
    "    # Returns\n",
    "        model (Model): Keras model instance\n",
    "    \"\"\"\n",
    "    if (depth - 2) % 6 != 0:\n",
    "        raise ValueError('depth should be 6n+2 (eg 20, 32, 44 in [a])')\n",
    "    # Start model definition.\n",
    "    num_filters = 16\n",
    "    num_res_blocks = int((depth - 2) / 6)\n",
    "\n",
    "    inputs = Input(shape=input_shape)\n",
    "    x = resnet_layer(inputs=inputs)\n",
    "    # Instantiate the stack of residual units\n",
    "    for stack in range(3):\n",
    "        for res_block in range(num_res_blocks):\n",
    "            strides = 1\n",
    "            if stack > 0 and res_block == 0:  # first layer but not first stack\n",
    "                strides = 2  # downsample\n",
    "            y = resnet_layer(inputs=x,\n",
    "                             num_filters=num_filters,\n",
    "                             strides=strides)\n",
    "            y = resnet_layer(inputs=y,\n",
    "                             num_filters=num_filters,\n",
    "                             activation=None)\n",
    "            if stack > 0 and res_block == 0:  # first layer but not first stack\n",
    "                # linear projection residual shortcut connection to match\n",
    "                # changed dims\n",
    "                x = resnet_layer(inputs=x,\n",
    "                                 num_filters=num_filters,\n",
    "                                 kernel_size=1,\n",
    "                                 strides=strides,\n",
    "                                 activation=None,\n",
    "                                 batch_normalization=False)\n",
    "            x = keras.layers.add([x, y])\n",
    "            x = Activation('relu')(x)\n",
    "        num_filters *= 2\n",
    "\n",
    "    # Add classifier on top.\n",
    "    # v1 does not use BN after last shortcut connection-ReLU\n",
    "    x = AveragePooling2D(pool_size=8)(x)\n",
    "    y = Flatten()(x)\n",
    "    outputs = Dense(num_classes,\n",
    "                    activation='softmax',\n",
    "                    kernel_initializer='he_normal')(y)\n",
    "\n",
    "    # Instantiate model.\n",
    "    model = Model(inputs=inputs, outputs=outputs)\n",
    "    model.compile(optimizer=SGD(lr=0.1), loss='categorical_crossentropy', metrics = ['accuracy'])\n",
    "    return model\n",
    "\n",
    "\n",
    "# In[5]:\n",
    "\n",
    "\n",
    "depth\n",
    "\n",
    "\n",
    "# In[6]:\n",
    "\n",
    "\n",
    "from keras.layers import Input\n",
    "import keras.backend as K\n",
    "from keras.models import Model\n",
    "\n",
    "all_model = [None,None,None]\n",
    "losses = [None,None,None]\n",
    "\n",
    "prediction=[]\n",
    "\n",
    "all_score =[0,0,0]\n",
    "gr=[]\n",
    "wr=[]\n",
    "xwr=[]\n",
    "\n",
    "for i in range(3):\n",
    "    np.random.seed(25+i)\n",
    "    set_random_seed(25+i)\n",
    "    model = resnet_v1(input_shape=input_shape, depth=depth)\n",
    "    all_model[i]=model\n",
    "    \n",
    "for i in range(3):    \n",
    "    weights = all_model[i].trainable_weights # weight tensors\n",
    "    weights = [weight for weight in weights] # filter down weights tensors to only ones which are trainable\n",
    "    gradients = all_model[i].optimizer.get_gradients(all_model[i].total_loss, weights) # gradient tensors\n",
    "    gr.append(gradients)\n",
    "    wr.append(weights)\n",
    "    xweights = all_model[i].non_trainable_weights # weight tensors\n",
    "    xweights = [weight for weight in xweights] # filter down weights tensors to only ones which are trainable\n",
    "    xwr.append(xweights)\n",
    "\n",
    "    losses[i]=all_model[i].total_loss\n",
    "    prediction.append(all_model[i].output)\n",
    "\n",
    "\n",
    "# In[7]:\n",
    "\n",
    "\n",
    "model.summary()\n",
    "\n",
    "\n",
    "# In[8]:\n",
    "\n",
    "\n",
    "input_tensors = [all_model[0].inputs[0], # input data\n",
    "                 all_model[0].sample_weights[0], # how much to weight each sample by\n",
    "                 all_model[0].targets[0], # labels\n",
    "                 K.learning_phase(), # train or test mode\n",
    "                 all_model[1].inputs[0], # input data\n",
    "                 all_model[1].sample_weights[0], # how much to weight each sample by\n",
    "                 all_model[1].targets[0], # labels\n",
    "                 all_model[2].inputs[0], # input data\n",
    "                 all_model[2].sample_weights[0], # how much to weight each sample by\n",
    "                 all_model[2].targets[0], # labels\n",
    "                ]\n",
    "\n",
    "\n",
    "# In[9]:\n",
    "\n",
    "\n",
    "minlos = K.argmin(losses)\n",
    "\n",
    "grr=[]\n",
    "for x in gr:\n",
    "    for y in x:\n",
    "        grr.append(y)\n",
    "\n",
    "\n",
    "# In[10]:\n",
    "\n",
    "\n",
    "upd_test= K.function(inputs=input_tensors, outputs=[ losses[0], losses[1], losses[2], minlos, prediction[0], prediction[1], prediction[2] ])\n",
    "\n",
    "\n",
    "# In[11]:\n",
    "\n",
    "\n",
    "len(xwr[0])\n",
    "\n",
    "\n",
    "# In[ ]:\n",
    "\n",
    "\n",
    "\n",
    "\n",
    "\n",
    "# In[ ]:\n",
    "\n",
    "\n",
    "\n",
    "\n",
    "\n",
    "# In[12]:\n",
    "\n",
    "\n",
    "import tensorflow as tf\n",
    "\n",
    "\n",
    "grad_best=[]\n",
    "grad_non0 = []\n",
    "grad_non1 = []\n",
    "\n",
    "\n",
    "weig_best=[]\n",
    "weig_non0 = []\n",
    "weig_non1 = []\n",
    "\n",
    "xweig_best=[]\n",
    "xweig_non0 = []\n",
    "xweig_non1 = []\n",
    "\n",
    "\n",
    "\n",
    "\n",
    "for i in range(len(gr[0])):\n",
    "    gr_ck=tf.concat([gr[0][i],gr[1][i], gr[2][i]],0)\n",
    "    newshape = (3, ) + (tuple(wr[0][i].shape))\n",
    "\n",
    "    \n",
    "    gr_ck2=tf.reshape(gr_ck, newshape)\n",
    "    \n",
    "    bb = gr_ck2[minlos]\n",
    "    grad_best.append(bb)\n",
    "    \n",
    "    nbb0 = gr_ck2[0:minlos]                       #[0,enk) U (enk,] aralıklarının birleşimi bize nonbesti verecek\n",
    "    nbb1 = gr_ck2[minlos+1:]                      #[0,enk) U (enk,] aralıklarının birleşimi bize nonbesti verecek\n",
    "    nbc = tf.concat([nbb0,nbb1], 0)    \n",
    "    nbc = tf.reshape(nbc, (-1,))\n",
    "    newshape2 = (2, ) + (tuple(wr[0][i].shape))\n",
    "    \n",
    "    nbc2 = tf.reshape(nbc, newshape2) \n",
    "    nb0 = nbc2[0]\n",
    "    nb1 = nbc2[1]\n",
    "    grad_non0.append(nb0)\n",
    "    grad_non1.append(nb1)\n",
    "    \n",
    "\n",
    "    wr_ck=tf.concat([wr[0][i],wr[1][i], wr[2][i]],0)\n",
    "    \n",
    "    newshape = (3, ) + (tuple(wr[0][i].shape))\n",
    "    wr_ck2=tf.reshape(wr_ck, newshape) \n",
    "    bb2 = wr_ck2[minlos]\n",
    "    weig_best.append(bb2)\n",
    "    \n",
    "    #wb = wr_ck[minlos]\n",
    "    wnbb0 = wr_ck2[0:minlos]                       #[0,enk) U (enk,] aralıklarının birleşimi bize nonbesti verecek\n",
    "    wnbb1 = wr_ck2[minlos+1:]                      #[0,enk) U (enk,] aralıklarının birleşimi bize nonbesti verecek\n",
    "    wnbc = tf.concat([wnbb0,wnbb1],0)    \n",
    "    wnbc = tf.reshape(wnbc, (-1,))\n",
    "    newshape2 = (2, ) + (tuple(wr[0][i].shape))\n",
    "    \n",
    "    wnbc2 =tf.reshape(wnbc, newshape2)\n",
    "    wnb0 = wnbc2[0]\n",
    "    wnb1 = wnbc2[1]\n",
    "    weig_non0.append(wnb0)\n",
    "    weig_non1.append(wnb1)\n",
    "    \n",
    "    if i<len(xwr[0]):\n",
    "        print (i)\n",
    "        xwr_ck=tf.concat([xwr[0][i],xwr[1][i], xwr[2][i]], 0)\n",
    "\n",
    "        newshape = (3, ) + (tuple(xwr[0][i].shape))\n",
    "        \n",
    "        xwr_ck2=tf.reshape(xwr_ck, newshape)  \n",
    "        xbb2 = xwr_ck2[minlos]\n",
    "        xweig_best.append(xbb2)\n",
    "\n",
    "        #wb = wr_ck[minlos]\n",
    "        xwnbb0 = xwr_ck2[0:minlos]                       #[0,enk) U (enk,] aralıklarının birleşimi bize nonbesti verecek\n",
    "        xwnbb1 = xwr_ck2[minlos+1:]                      #[0,enk) U (enk,] aralıklarının birleşimi bize nonbesti verecek\n",
    "        xwnbc = tf.concat([xwnbb0,xwnbb1], 0)    \n",
    "        \n",
    "        xwnbc = tf.reshape(xwnbc, (-1,))\n",
    "        newshape2 = (2, ) + (tuple(xwr[0][i].shape))\n",
    "         \n",
    "        xwnbc2 = tf.reshape(xwnbc, newshape2) \n",
    "        xwnb0 = xwnbc2[0]\n",
    "        xwnb1 = xwnbc2[1]\n",
    "        xweig_non0.append(xwnb0)\n",
    "        xweig_non1.append(xwnb1)\n",
    "    else:\n",
    "        pass\n",
    "\n",
    "\n",
    "# In[13]:\n",
    "\n",
    "\n",
    "los=tf.stack([losses[0], losses[1], losses[2]])\n",
    "\n",
    "newshape = (3, )\n",
    "los2=tf.reshape(los, newshape) \n",
    "losbest = los2[minlos]\n",
    "\n",
    "#wb = wr_ck[minlos]\n",
    "los_0 = los2[0:minlos]                       #[0,enk) U (enk,] aralıklarının birleşimi bize nonbesti verecek\n",
    "los_1 = los2[minlos+1:]                      #[0,enk) U (enk,] aralıklarının birleşimi bize nonbesti verecek\n",
    "loswnbc = tf.concat([los_0,los_1],0)    \n",
    "loswnbc = tf.reshape(loswnbc,(-1,))\n",
    "newshape2 = (2, )\n",
    "\n",
    "loswnbc2 = tf.reshape(loswnbc, newshape2)\n",
    "losss0 = loswnbc2[0]\n",
    "losss1 = loswnbc2[1]\n",
    "\n",
    "\n",
    "adamb_m = [tf.Variable(tf.zeros(t.shape, dtype=tf.float32, name='m_best')) for t in weig_best]\n",
    "adamb_v = [tf.Variable(tf.zeros(t.shape, dtype=tf.float32, name='v_best')) for t in weig_best]\n",
    "adam0_m = [tf.Variable(tf.zeros(t.shape, dtype=tf.float32, name='m_0')) for t in weig_non0]\n",
    "adam0_v = [tf.Variable(tf.zeros(t.shape, dtype=tf.float32, name='v_0')) for t in weig_non0]\n",
    "adam1_m = [tf.Variable(tf.zeros(t.shape, dtype=tf.float32, name='m_1')) for t in weig_non1]\n",
    "adam1_v = [tf.Variable(tf.zeros(t.shape, dtype=tf.float32, name='v_2')) for t in weig_non1]\n",
    "\n",
    "beta_1 = 0.9\n",
    "beta_2 = 0.999\n",
    "#step_size = 0.001\n",
    "eps = 1e-8\n",
    "t = tf.Variable(1.0, name='iteration')\n",
    "\n",
    "upd2=[]\n",
    "\n",
    "for m, v, best, gbest,  param_i, in zip(adamb_m, adamb_v, weig_best, grad_best, wr[2]):\n",
    "    _m = beta_1 * m + (1 - beta_1) * gbest\n",
    "    _v = beta_2 * v + (1 - beta_2) * tf.pow(gbest, 2)\n",
    "    m_hat = _m / (1 - tf.pow(beta_1, t))\n",
    "    v_hat = _v / (1 - tf.pow(beta_2, t))\n",
    "    #m_hat = tf.cast(m_hat, tf.float32)\n",
    "    #v_hat = tf.cast(v_hat, tf.float32)\n",
    "    #upd2.extend([(m, _m)])\n",
    "    #upd2.extend([(v, _v)])\n",
    "    upd2.extend([tf.assign(m, _m)])\n",
    "    upd2.extend([tf.assign(v, _v)])\n",
    "    xbest = best - model.optimizer.lr * m_hat / (tf.sqrt(v_hat) + eps)\n",
    "    #upd2.extend([(param_i, xbest)])\n",
    "    upd2.extend([tf.assign(param_i, xbest)])\n",
    "\n",
    "\n",
    "upd2.extend([t.assign_add(1.0)])\n",
    "\n",
    "upd2.extend([tf.assign(param_i, v)\n",
    "        for param_i, v in zip(xwr[2], xweig_best)]\n",
    "    )    \n",
    "\n",
    "\n",
    "upd_bb2= K.function(inputs=input_tensors, outputs=[ losses[0], losses[1], losses[2], minlos, prediction[0], prediction[1], prediction[2] ], updates=upd2)\n",
    "\n",
    "\n",
    "from sklearn.metrics import accuracy_score\n",
    "\n",
    "lossepoch=[]\n",
    "lossepoch_test=[]\n",
    "lossx=[]\n",
    "acctra=[]\n",
    "loss_test=[]\n",
    "acc_test=[]\n",
    "skip=[]\n",
    "\n",
    "datagen = ImageDataGenerator(\n",
    "    # set input mean to 0 over the dataset\n",
    "    featurewise_center=False,\n",
    "    # set each sample mean to 0\n",
    "    samplewise_center=False,\n",
    "    # divide inputs by std of dataset\n",
    "    featurewise_std_normalization=False,\n",
    "    # divide each input by its std\n",
    "    samplewise_std_normalization=False,\n",
    "    # apply ZCA whitening\n",
    "    zca_whitening=False,\n",
    "    # epsilon for ZCA whitening\n",
    "    zca_epsilon=1e-06,\n",
    "    # randomly rotate images in the range (deg 0 to 180)\n",
    "    rotation_range=0,\n",
    "    # randomly shift images horizontally\n",
    "    width_shift_range=0.1,\n",
    "    # randomly shift images vertically\n",
    "    height_shift_range=0.1,\n",
    "    # set range for random shear\n",
    "    shear_range=0.,\n",
    "    # set range for random zoom\n",
    "    zoom_range=0.,\n",
    "    # set range for random channel shifts\n",
    "    channel_shift_range=0.,\n",
    "    # set mode for filling points outside the input boundaries\n",
    "    fill_mode='nearest',\n",
    "    # value used for fill_mode = \"constant\"\n",
    "    cval=0.,\n",
    "    # randomly flip images\n",
    "    horizontal_flip=True,\n",
    "    # randomly flip images\n",
    "    vertical_flip=False,\n",
    "    # set rescaling factor (applied before any other transformation)\n",
    "    rescale=None,\n",
    "    # set function that will be applied on each input\n",
    "    preprocessing_function=None,\n",
    "    # image data format, either \"channels_first\" or \"channels_last\"\n",
    "    data_format=None,\n",
    "    # fraction of images reserved for validation (strictly between 0 and 1)\n",
    "    validation_split=0.0)\n",
    "\n",
    "datagentest = ImageDataGenerator()\n",
    "\n",
    "for f in tqdm(range(200)):\n",
    "    program_starts = time.time()\n",
    "    K.set_value(all_model[0].optimizer.lr, lr_schedule(f))\n",
    "    K.set_value(all_model[1].optimizer.lr, lr_schedule(f))\n",
    "    K.set_value(all_model[2].optimizer.lr, lr_schedule(f))\n",
    "    tr1=[]\n",
    "    tr2=[]\n",
    "    res1=[]\n",
    "    res2=[]\n",
    "    print('Epoch', f)\n",
    "    print ('train')\n",
    "    \n",
    "    print('Using real-time data augmentation.')\n",
    "    # This will do preprocessing and realtime data augmentation:\n",
    "\n",
    "    datagen.fit(x_train)\n",
    "    batches = 0\n",
    "    for x_batch, y_batch in datagen.flow(x_train, y_train, batch_size=batch_size):\n",
    "        K.set_learning_phase(1)\n",
    "        \n",
    "        inputs = [x_batch, # X\n",
    "                  np.ones(y_batch.shape[0]), # sample weights\n",
    "                  y_batch, # y\n",
    "                  1, # learning phase in TEST mode\n",
    "                  x_batch, # X\n",
    "                  np.ones(y_batch.shape[0]), # sample weights\n",
    "                  y_batch, # y\n",
    "                  x_batch, # X\n",
    "                  np.ones(y_batch.shape[0]), # sample weights\n",
    "                  y_batch, # y\n",
    "                 ]\n",
    "        ll = upd_bb2(inputs)\n",
    "        yhat=ll[6]\n",
    "        lossepoch.append(ll[2])\n",
    "        tr1.append(ll[2])\n",
    "        tr2.append(accuracy_score(np.argmax(y_batch,axis=1), np.argmax(yhat,axis=1)))\n",
    "        skip.append(ll[3])\n",
    "        batches += 1\n",
    "        if batches > len(x_train) / batch_size:\n",
    "            # we need to break the loop by hand because\n",
    "            # the generator loops indefinitely\n",
    "            break\n",
    "    m=(len(x_train) / batch_size)-int((len(x_train) / batch_size))\n",
    "    tr1[-1]*=m\n",
    "    tr2[-1]*=m\n",
    "    lossx.append(np.mean(tr1))\n",
    "    acctra.append(np.mean(tr2))\n",
    "    print ('train loss score is :'+str(np.mean(tr1)))\n",
    "    print ('train acc score is :'+str(np.mean(tr2)))\n",
    "    now = time.time()\n",
    "    print(\"It has been {0} seconds since the loop started\".format(now - program_starts))\n",
    "    print ('test')\n",
    "    batchesx = 0\n",
    "    \n",
    "    datagentest.fit(x_test)\n",
    "    for x_batch, y_batch in datagentest.flow(x_test, y_test, batch_size=batch_size):\n",
    "        K.set_learning_phase(0)\n",
    "        inputs = [x_batch, # X\n",
    "                  np.ones(y_batch.shape[0]), # sample weights\n",
    "                  y_batch, # y\n",
    "                  0, # learning phase in TEST mode\n",
    "                  x_batch, # X\n",
    "                  np.ones(y_batch.shape[0]), # sample weights\n",
    "                  y_batch, # y\n",
    "                  x_batch, # X\n",
    "                  np.ones(y_batch.shape[0]), # sample weights\n",
    "                  y_batch, # y\n",
    "                 ]\n",
    "        ll = upd_test(inputs)\n",
    "        yhat=ll[6]\n",
    "        lossepoch_test.append(ll[2])\n",
    "        res1.append(ll[2])\n",
    "        res2.append(accuracy_score(np.argmax(y_batch,axis=1), np.argmax(yhat,axis=1)))\n",
    "        batchesx += 1\n",
    "        if batchesx >= len(x_test) / batch_size:\n",
    "            break\n",
    "    m=(len(x_test) / batch_size)-int((len(x_test) / batch_size))\n",
    "    res1[-1]*=m\n",
    "    res2[-1]*=m\n",
    "    loss_test.append(np.mean(res1))\n",
    "    acc_test.append(np.mean(res2))\n",
    "    print ('test loss score is :'+str(np.mean(res1)))\n",
    "    print ('test acc score is :'+str(np.mean(res2)))\n",
    "\n",
    "print (np.max(acc_test), np.argmax(acc_test))\n",
    "print (np.min(loss_test), np.argmin(loss_test))\n",
    "print (np.min(lossx), np.argmin(lossx))\n",
    "\n"
   ]
  },
  {
   "cell_type": "code",
   "execution_count": 2,
   "metadata": {},
   "outputs": [],
   "source": [
    "np.savetxt(\"no_bn_thor2_Adam_lossepoch_r20.csv\", lossepoch, delimiter=\",\", fmt='%s')\n",
    "np.savetxt(\"no_bn_thor2_Adam_lossepoch_test_r20.csv\", lossepoch_test, delimiter=\",\", fmt='%s')       \n",
    "np.savetxt(\"no_bn_thor2_Adam_loss_tra_r20.csv\", lossx, delimiter=\",\", fmt='%s')\n",
    "np.savetxt(\"no_bn_thor2_Adam_skip_r20.csv\", skip, delimiter=\",\", fmt='%s')\n",
    "np.savetxt(\"no_bn_thor2_Adam_acc_tra_r20.csv\", acctra, delimiter=\",\", fmt='%s')\n",
    "np.savetxt(\"no_bn_thor2_Adam_loss_test_r20.csv\", loss_test, delimiter=\",\", fmt='%s')\n",
    "np.savetxt(\"no_bn_thor2_Adam_acc_test_r20.csv\", acc_test, delimiter=\",\", fmt='%s')"
   ]
  },
  {
   "cell_type": "code",
   "execution_count": null,
   "metadata": {},
   "outputs": [],
   "source": []
  }
 ],
 "metadata": {
  "kernelspec": {
   "display_name": "Python 3",
   "language": "python",
   "name": "python3"
  },
  "language_info": {
   "codemirror_mode": {
    "name": "ipython",
    "version": 3
   },
   "file_extension": ".py",
   "mimetype": "text/x-python",
   "name": "python",
   "nbconvert_exporter": "python",
   "pygments_lexer": "ipython3",
   "version": "3.6.8"
  }
 },
 "nbformat": 4,
 "nbformat_minor": 2
}
