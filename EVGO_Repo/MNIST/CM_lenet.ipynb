{
 "cells": [
  {
   "cell_type": "code",
   "execution_count": 1,
   "metadata": {},
   "outputs": [
    {
     "name": "stderr",
     "output_type": "stream",
     "text": [
      "Using TensorFlow backend.\n"
     ]
    }
   ],
   "source": [
    "\n",
    "from __future__ import division\n",
    "from __future__ import print_function\n",
    "\n",
    "seed_value= 0\n",
    "\n",
    "import os\n",
    "os.environ['PYTHONHASHSEED']=str(seed_value)\n",
    "import random\n",
    "random.seed(seed_value)\n",
    "import numpy as np\n",
    "np.random.seed(seed_value)\n",
    "import tensorflow as tf\n",
    "tf.set_random_seed(seed_value)\n",
    "from keras import backend as K\n",
    "import os\n",
    "import keras\n",
    "import pickle\n",
    "import os.path\n",
    "import matplotlib.pyplot as plt\n",
    "\n",
    "import keras\n",
    "from keras.datasets import mnist\n",
    "from keras.models import Sequential, Model\n",
    "from keras.layers import Dense, Dropout, Flatten, Input\n",
    "from keras.layers import Conv2D, MaxPooling2D, BatchNormalization, AveragePooling2D\n",
    "from keras.optimizers import Adam\n",
    "from keras.callbacks import ModelCheckpoint\n",
    "from keras.callbacks import LambdaCallback\n",
    "from keras.callbacks import TensorBoard\n",
    "from sklearn.preprocessing import LabelBinarizer\n",
    "from keras import initializers\n",
    "import keras.backend as K\n",
    "from keras.preprocessing.image import ImageDataGenerator\n",
    "from sklearn.metrics import accuracy_score\n",
    "import time\n",
    "from tqdm import tqdm\n",
    "\n",
    "import six.moves.cPickle as pickle\n",
    "import gzip\n",
    "import os\n",
    "import sys\n",
    "import timeit"
   ]
  },
  {
   "cell_type": "code",
   "execution_count": 2,
   "metadata": {},
   "outputs": [],
   "source": [
    "dataset='mnist.pkl.gz'\n",
    "batch_size = 128\n",
    "num_classes = 10\n",
    "epochs = 100\n",
    "K.clear_session()"
   ]
  },
  {
   "cell_type": "code",
   "execution_count": 3,
   "metadata": {},
   "outputs": [
    {
     "name": "stdout",
     "output_type": "stream",
     "text": [
      "... loading data\n"
     ]
    }
   ],
   "source": [
    "print('... loading data')\n",
    "\n",
    "# Load the dataset\n",
    "with gzip.open(dataset, 'rb') as f:\n",
    "    try:\n",
    "        train_set, valid_set, test_set = pickle.load(f, encoding='latin1')\n",
    "    except:\n",
    "        train_set, valid_set, test_set = pickle.load(f)"
   ]
  },
  {
   "cell_type": "code",
   "execution_count": 4,
   "metadata": {},
   "outputs": [
    {
     "name": "stdout",
     "output_type": "stream",
     "text": [
      "x_train shape: (50000, 28, 28, 1)\n",
      "50000 train samples\n",
      "10000 validation samples\n",
      "10000 test samples\n"
     ]
    }
   ],
   "source": [
    "(x_train, y_train) = train_set\n",
    "(x_test, y_test) = test_set\n",
    "(x_val, y_val) = valid_set\n",
    "img_rows, img_cols = 28, 28\n",
    "\n",
    "if K.image_data_format() == 'channels_first':\n",
    "    x_train = x_train.reshape(x_train.shape[0], 1, img_rows, img_cols)\n",
    "    x_test = x_test.reshape(x_test.shape[0], 1, img_rows, img_cols)\n",
    "    x_val = x_val.reshape(x_val.shape[0], 1, img_rows, img_cols)\n",
    "    input_shape = (1, img_rows, img_cols)\n",
    "else:\n",
    "    x_train = x_train.reshape(x_train.shape[0], img_rows, img_cols, 1)\n",
    "    x_test = x_test.reshape(x_test.shape[0], img_rows, img_cols, 1)\n",
    "    x_val = x_val.reshape(x_val.shape[0], img_rows, img_cols, 1)\n",
    "    input_shape = (img_rows, img_cols, 1)\n",
    "\n",
    "x_train = x_train.astype('float32')\n",
    "x_val = x_val.astype('float32')\n",
    "x_test = x_test.astype('float32')\n",
    "\n",
    "print('x_train shape:', x_train.shape)\n",
    "print(x_train.shape[0], 'train samples')\n",
    "print(x_val.shape[0], 'validation samples')\n",
    "print(x_test.shape[0], 'test samples')\n",
    "\n",
    "# convert class vectors to binary class matrices\n",
    "y_train = keras.utils.to_categorical(y_train, num_classes)\n",
    "y_val = keras.utils.to_categorical(y_val, num_classes)\n",
    "y_test = keras.utils.to_categorical(y_test, num_classes)"
   ]
  },
  {
   "cell_type": "code",
   "execution_count": 5,
   "metadata": {},
   "outputs": [
    {
     "data": {
      "text/plain": [
       "((50000, 28, 28, 1),\n",
       " (50000, 10),\n",
       " (10000, 28, 28, 1),\n",
       " (10000, 10),\n",
       " (10000, 28, 28, 1),\n",
       " (10000, 10))"
      ]
     },
     "execution_count": 5,
     "metadata": {},
     "output_type": "execute_result"
    }
   ],
   "source": [
    "x_train.shape, y_train.shape, x_test.shape, y_test.shape, x_val.shape, y_val.shape"
   ]
  },
  {
   "cell_type": "code",
   "execution_count": 6,
   "metadata": {},
   "outputs": [
    {
     "data": {
      "text/plain": [
       "((50000, 32, 32, 1),\n",
       " (50000, 10),\n",
       " (10000, 32, 32, 1),\n",
       " (10000, 10),\n",
       " (10000, 32, 32, 1),\n",
       " (10000, 10))"
      ]
     },
     "execution_count": 6,
     "metadata": {},
     "output_type": "execute_result"
    }
   ],
   "source": [
    "x_train = np.pad(x_train, ((0,0),(2,2),(2,2),(0,0)), 'constant')\n",
    "x_test = np.pad(x_test, ((0,0),(2,2),(2,2),(0,0)), 'constant')\n",
    "x_val = np.pad(x_val, ((0,0),(2,2),(2,2),(0,0)), 'constant')\n",
    "x_train.shape, y_train.shape, x_test.shape, y_test.shape, x_val.shape, y_val.shape"
   ]
  },
  {
   "cell_type": "code",
   "execution_count": 7,
   "metadata": {},
   "outputs": [],
   "source": [
    "input_shape = (32, 32, 1)"
   ]
  },
  {
   "cell_type": "code",
   "execution_count": 8,
   "metadata": {},
   "outputs": [],
   "source": [
    "def build_model(setseed):\n",
    "    \"\"\"\n",
    "    Builds test Keras model for LeNet MNIST\n",
    "    :param loss (str): Type of loss - must be one of Keras accepted keras losses\n",
    "    :return: Keras dense model of predefined structure\n",
    "    \"\"\"\n",
    "    input = Input(shape=input_shape)\n",
    "    conv1 = Conv2D(6, (3,3), activation='relu', kernel_initializer=initializers.lecun_uniform(seed = setseed))(input)\n",
    "    avg1 = AveragePooling2D()(conv1)\n",
    "    conv2 = Conv2D(16, (3,3), activation='relu', kernel_initializer=initializers.lecun_uniform(seed = setseed))(avg1)\n",
    "    avg2 = AveragePooling2D()(conv2)\n",
    "    flat= Flatten()(avg2)\n",
    "    dens1=Dense(units=120, activation='relu')(flat)\n",
    "    dens2=Dense(units=84, activation='relu')(dens1)\n",
    "    probs=Dense(num_classes, activation='softmax')(dens2)\n",
    "    \n",
    "    model = Model(input=input, output=probs)\n",
    "    model.compile(optimizer='sgd', loss='categorical_crossentropy', metrics = ['accuracy'])\n",
    "\n",
    "    return model\n",
    "\n"
   ]
  },
  {
   "cell_type": "code",
   "execution_count": 9,
   "metadata": {},
   "outputs": [
    {
     "name": "stderr",
     "output_type": "stream",
     "text": [
      "C:\\Users\\ikarabayir\\AppData\\Local\\Continuum\\anaconda2\\envs\\tf\\lib\\site-packages\\ipykernel_launcher.py:17: UserWarning: Update your `Model` call to the Keras 2 API: `Model(inputs=Tensor(\"in..., outputs=Tensor(\"de...)`\n"
     ]
    }
   ],
   "source": [
    "all_model = [None,None,None]\n",
    "losses = [None,None,None]\n",
    "\n",
    "prediction=[]\n",
    "\n",
    "all_score =[0,0,0]\n",
    "gr=[]\n",
    "wr=[]\n",
    "xwr=[]\n",
    "\n",
    "for i in range(3):\n",
    "    np.random.seed(25+i)\n",
    "    model = build_model(i+2)\n",
    "    all_model[i]=model\n",
    "    \n",
    "for i in range(3):    \n",
    "    weights = all_model[i].trainable_weights # weight tensors\n",
    "    weights = [weight for weight in weights] # filter down weights tensors to only ones which are trainable\n",
    "    gradients = all_model[i].optimizer.get_gradients(all_model[i].total_loss, weights) # gradient tensors\n",
    "    gr.append(gradients)\n",
    "    wr.append(weights)\n",
    "    xweights = all_model[i].non_trainable_weights # weight tensors\n",
    "    xweights = [weight for weight in xweights] # filter down weights tensors to only ones which are trainable\n",
    "    xwr.append(xweights)\n",
    "\n",
    "    losses[i]=all_model[i].total_loss\n",
    "    prediction.append(all_model[i].output)"
   ]
  },
  {
   "cell_type": "code",
   "execution_count": 10,
   "metadata": {},
   "outputs": [
    {
     "name": "stdout",
     "output_type": "stream",
     "text": [
      "_________________________________________________________________\n",
      "Layer (type)                 Output Shape              Param #   \n",
      "=================================================================\n",
      "input_3 (InputLayer)         (None, 32, 32, 1)         0         \n",
      "_________________________________________________________________\n",
      "conv2d_5 (Conv2D)            (None, 30, 30, 6)         60        \n",
      "_________________________________________________________________\n",
      "average_pooling2d_5 (Average (None, 15, 15, 6)         0         \n",
      "_________________________________________________________________\n",
      "conv2d_6 (Conv2D)            (None, 13, 13, 16)        880       \n",
      "_________________________________________________________________\n",
      "average_pooling2d_6 (Average (None, 6, 6, 16)          0         \n",
      "_________________________________________________________________\n",
      "flatten_3 (Flatten)          (None, 576)               0         \n",
      "_________________________________________________________________\n",
      "dense_7 (Dense)              (None, 120)               69240     \n",
      "_________________________________________________________________\n",
      "dense_8 (Dense)              (None, 84)                10164     \n",
      "_________________________________________________________________\n",
      "dense_9 (Dense)              (None, 10)                850       \n",
      "=================================================================\n",
      "Total params: 81,194\n",
      "Trainable params: 81,194\n",
      "Non-trainable params: 0\n",
      "_________________________________________________________________\n"
     ]
    }
   ],
   "source": [
    "model.summary()"
   ]
  },
  {
   "cell_type": "code",
   "execution_count": 11,
   "metadata": {
    "scrolled": true
   },
   "outputs": [
    {
     "name": "stderr",
     "output_type": "stream",
     "text": [
      "\r",
      "  0%|                                                                                          | 0/100 [00:00<?, ?it/s]"
     ]
    },
    {
     "name": "stdout",
     "output_type": "stream",
     "text": [
      "Epoch 0\n",
      "train\n",
      "Using real-time data augmentation.\n",
      "train loss score is :0.30339390515347425\n",
      "train acc score is :0.9034526854219949\n",
      "It has been 9.622489929199219 seconds since the loop started\n",
      "test\n",
      "validation\n",
      "val loss score is :0.08241487332528363\n",
      "val acc score is :0.9645965189873418\n",
      "test\n",
      "test loss score is :0.07476690310183205\n",
      "test acc score is :0.9664754746835443\n"
     ]
    },
    {
     "name": "stderr",
     "output_type": "stream",
     "text": [
      "\r",
      "  1%|▊                                                                                 | 1/100 [00:11<18:22, 11.14s/it]"
     ]
    },
    {
     "name": "stdout",
     "output_type": "stream",
     "text": [
      "Epoch 1\n",
      "train\n",
      "Using real-time data augmentation.\n",
      "train loss score is :0.0670338575978337\n",
      "train acc score is :0.9782608695652174\n",
      "It has been 6.331532001495361 seconds since the loop started\n",
      "test\n",
      "validation\n",
      "val loss score is :0.07029159903294949\n",
      "val acc score is :0.9674643987341772\n",
      "test\n",
      "test loss score is :0.06902011619848376\n",
      "test acc score is :0.9686511075949367\n"
     ]
    },
    {
     "name": "stderr",
     "output_type": "stream",
     "text": [
      "\r",
      "  2%|█▋                                                                                | 2/100 [00:18<16:29, 10.10s/it]"
     ]
    },
    {
     "name": "stdout",
     "output_type": "stream",
     "text": [
      "Epoch 2\n",
      "train\n",
      "Using real-time data augmentation.\n",
      "train loss score is :0.04529077397978595\n",
      "train acc score is :0.9845348465473146\n",
      "It has been 6.256925106048584 seconds since the loop started\n",
      "test\n",
      "validation\n",
      "val loss score is :0.05142935243151718\n",
      "val acc score is :0.9745846518987342\n",
      "test\n",
      "test loss score is :0.03833508815121236\n",
      "test acc score is :0.9760680379746836\n"
     ]
    },
    {
     "name": "stderr",
     "output_type": "stream",
     "text": [
      "\r",
      "  3%|██▍                                                                               | 3/100 [00:26<15:07,  9.36s/it]"
     ]
    },
    {
     "name": "stdout",
     "output_type": "stream",
     "text": [
      "Epoch 3\n",
      "train\n",
      "Using real-time data augmentation.\n",
      "train loss score is :0.035466664198600235\n",
      "train acc score is :0.9883511828644501\n",
      "It has been 6.414467811584473 seconds since the loop started\n",
      "test\n",
      "validation\n",
      "val loss score is :0.05192608617234546\n",
      "val acc score is :0.9746835443037974\n",
      "test\n",
      "test loss score is :0.04466399532754587\n",
      "test acc score is :0.9766613924050633\n"
     ]
    },
    {
     "name": "stderr",
     "output_type": "stream",
     "text": [
      "\r",
      "  4%|███▎                                                                              | 4/100 [00:34<14:15,  8.91s/it]"
     ]
    },
    {
     "name": "stdout",
     "output_type": "stream",
     "text": [
      "Epoch 4\n",
      "train\n",
      "Using real-time data augmentation.\n",
      "train loss score is :0.03112506988914469\n",
      "train acc score is :0.9888906649616368\n",
      "It has been 6.737726211547852 seconds since the loop started\n",
      "test\n",
      "validation\n",
      "val loss score is :0.05297052186451074\n",
      "val acc score is :0.9725079113924051\n",
      "test\n",
      "test loss score is :0.045097947268764475\n",
      "test acc score is :0.9746835443037974\n"
     ]
    },
    {
     "name": "stderr",
     "output_type": "stream",
     "text": [
      "\r",
      "  5%|████                                                                              | 5/100 [00:42<13:46,  8.70s/it]"
     ]
    },
    {
     "name": "stdout",
     "output_type": "stream",
     "text": [
      "Epoch 5\n",
      "train\n",
      "Using real-time data augmentation.\n",
      "train loss score is :0.024204288782832352\n",
      "train acc score is :0.9912683823529411\n",
      "It has been 6.783601760864258 seconds since the loop started\n",
      "test\n",
      "validation\n",
      "val loss score is :0.060723977235641\n",
      "val acc score is :0.9702333860759493\n",
      "test\n",
      "test loss score is :0.052152433462110875\n",
      "test acc score is :0.9727056962025317\n"
     ]
    },
    {
     "name": "stderr",
     "output_type": "stream",
     "text": [
      "\r",
      "  6%|████▉                                                                             | 6/100 [00:50<13:22,  8.54s/it]"
     ]
    },
    {
     "name": "stdout",
     "output_type": "stream",
     "text": [
      "Epoch 6\n",
      "train\n",
      "Using real-time data augmentation.\n",
      "train loss score is :0.023701457667079352\n",
      "train acc score is :0.9918877877237852\n",
      "It has been 6.762657165527344 seconds since the loop started\n",
      "test\n",
      "validation\n",
      "val loss score is :0.058192004037376635\n",
      "val acc score is :0.9720134493670886\n",
      "test\n",
      "test loss score is :0.050151764673547074\n",
      "test acc score is :0.9733979430379747\n"
     ]
    },
    {
     "name": "stderr",
     "output_type": "stream",
     "text": [
      "\r",
      "  7%|█████▋                                                                            | 7/100 [00:58<13:04,  8.43s/it]"
     ]
    },
    {
     "name": "stdout",
     "output_type": "stream",
     "text": [
      "Epoch 7\n",
      "train\n",
      "Using real-time data augmentation.\n",
      "train loss score is :0.018505203051065615\n",
      "train acc score is :0.9926870204603581\n",
      "It has been 6.695950031280518 seconds since the loop started\n",
      "test\n",
      "validation\n",
      "val loss score is :0.04800887546749621\n",
      "val acc score is :0.9751780063291139\n",
      "test\n",
      "test loss score is :0.04213488428879977\n",
      "test acc score is :0.9770569620253164\n"
     ]
    },
    {
     "name": "stderr",
     "output_type": "stream",
     "text": [
      "\r",
      "  8%|██████▌                                                                           | 8/100 [01:07<12:48,  8.36s/it]"
     ]
    },
    {
     "name": "stdout",
     "output_type": "stream",
     "text": [
      "Epoch 8\n",
      "train\n",
      "Using real-time data augmentation.\n",
      "train loss score is :0.016384109654506998\n",
      "train acc score is :0.993925831202046\n",
      "It has been 6.66567325592041 seconds since the loop started\n",
      "test\n",
      "validation\n",
      "val loss score is :0.05386245415930613\n",
      "val acc score is :0.9752768987341772\n",
      "test\n",
      "test loss score is :0.04734462454231291\n",
      "test acc score is :0.9759691455696202\n"
     ]
    },
    {
     "name": "stderr",
     "output_type": "stream",
     "text": [
      "\r",
      "  9%|███████▍                                                                          | 9/100 [01:15<12:34,  8.30s/it]"
     ]
    },
    {
     "name": "stdout",
     "output_type": "stream",
     "text": [
      "Epoch 9\n",
      "train\n",
      "Using real-time data augmentation.\n",
      "train loss score is :0.015057374356368728\n",
      "train acc score is :0.99380594629156\n",
      "It has been 6.7420878410339355 seconds since the loop started\n",
      "test\n",
      "validation\n",
      "val loss score is :0.05576520215205924\n",
      "val acc score is :0.9749802215189873\n",
      "test\n",
      "test loss score is :0.04348662136936018\n",
      "test acc score is :0.9764636075949367\n"
     ]
    },
    {
     "name": "stderr",
     "output_type": "stream",
     "text": [
      "\r",
      " 10%|████████                                                                         | 10/100 [01:23<12:24,  8.27s/it]"
     ]
    },
    {
     "name": "stdout",
     "output_type": "stream",
     "text": [
      "Epoch 10\n",
      "train\n",
      "Using real-time data augmentation.\n",
      "train loss score is :0.012918514670547568\n",
      "train acc score is :0.9949248721227621\n",
      "It has been 6.41869044303894 seconds since the loop started\n",
      "test\n",
      "validation\n",
      "val loss score is :0.049742914262136353\n",
      "val acc score is :0.9768591772151899\n",
      "test\n",
      "test loss score is :0.044095486167654734\n",
      "test acc score is :0.9771558544303798\n"
     ]
    },
    {
     "name": "stderr",
     "output_type": "stream",
     "text": [
      "\r",
      " 11%|████████▉                                                                        | 11/100 [01:31<12:04,  8.14s/it]"
     ]
    },
    {
     "name": "stdout",
     "output_type": "stream",
     "text": [
      "Epoch 11\n",
      "train\n",
      "Using real-time data augmentation.\n",
      "train loss score is :0.01194058019789229\n",
      "train acc score is :0.9949648337595908\n",
      "It has been 6.530203819274902 seconds since the loop started\n",
      "test\n",
      "validation\n",
      "val loss score is :0.055138549754356295\n",
      "val acc score is :0.9753757911392406\n",
      "test\n",
      "test loss score is :0.04543373805644211\n",
      "test acc score is :0.9778481012658228\n"
     ]
    },
    {
     "name": "stderr",
     "output_type": "stream",
     "text": [
      "\r",
      " 12%|█████████▋                                                                       | 12/100 [01:39<11:50,  8.08s/it]"
     ]
    },
    {
     "name": "stdout",
     "output_type": "stream",
     "text": [
      "Epoch 12\n",
      "train\n",
      "Using real-time data augmentation.\n",
      "train loss score is :0.009918274408316283\n",
      "train acc score is :0.995724104859335\n",
      "It has been 6.5766143798828125 seconds since the loop started\n",
      "test\n",
      "validation\n",
      "val loss score is :0.05222462276861169\n",
      "val acc score is :0.9769580696202531\n",
      "test\n",
      "test loss score is :0.04668315470527953\n",
      "test acc score is :0.9768591772151899\n"
     ]
    },
    {
     "name": "stderr",
     "output_type": "stream",
     "text": [
      "\r",
      " 13%|██████████▌                                                                      | 13/100 [01:47<11:41,  8.06s/it]"
     ]
    },
    {
     "name": "stdout",
     "output_type": "stream",
     "text": [
      "Epoch 13\n",
      "train\n",
      "Using real-time data augmentation.\n",
      "train loss score is :0.00837144488848614\n",
      "train acc score is :0.9961237212276215\n",
      "It has been 6.502787351608276 seconds since the loop started\n",
      "test\n",
      "validation\n",
      "val loss score is :0.05761121113451586\n",
      "val acc score is :0.974881329113924\n",
      "test\n",
      "test loss score is :0.05186073909283815\n",
      "test acc score is :0.9768591772151899\n"
     ]
    },
    {
     "name": "stderr",
     "output_type": "stream",
     "text": [
      "\r",
      " 14%|███████████▎                                                                     | 14/100 [01:55<11:30,  8.03s/it]"
     ]
    },
    {
     "name": "stdout",
     "output_type": "stream",
     "text": [
      "Epoch 14\n",
      "train\n",
      "Using real-time data augmentation.\n",
      "train loss score is :0.0098017061652016\n",
      "train acc score is :0.9957440856777494\n",
      "It has been 6.8027238845825195 seconds since the loop started\n",
      "test\n",
      "validation\n",
      "val loss score is :0.06356509959053405\n",
      "val acc score is :0.9756724683544303\n",
      "test\n",
      "test loss score is :0.06627810471436993\n",
      "test acc score is :0.9742879746835443\n"
     ]
    },
    {
     "name": "stderr",
     "output_type": "stream",
     "text": [
      "\r",
      " 15%|████████████▏                                                                    | 15/100 [02:03<11:28,  8.10s/it]"
     ]
    },
    {
     "name": "stdout",
     "output_type": "stream",
     "text": [
      "Epoch 15\n",
      "train\n",
      "Using real-time data augmentation.\n",
      "train loss score is :0.008632004199775984\n",
      "train acc score is :0.9960238171355499\n",
      "It has been 6.803638935089111 seconds since the loop started\n",
      "test\n",
      "validation\n",
      "val loss score is :0.05575449789486697\n",
      "val acc score is :0.9773536392405063\n",
      "test\n",
      "test loss score is :0.054308966890270705\n",
      "test acc score is :0.9771558544303798\n"
     ]
    },
    {
     "name": "stderr",
     "output_type": "stream",
     "text": [
      "\r",
      " 16%|████████████▉                                                                    | 16/100 [02:11<11:18,  8.08s/it]"
     ]
    },
    {
     "name": "stdout",
     "output_type": "stream",
     "text": [
      "Epoch 16\n",
      "train\n",
      "Using real-time data augmentation.\n",
      "train loss score is :0.005147335843061289\n",
      "train acc score is :0.9974024936061381\n",
      "It has been 6.7172698974609375 seconds since the loop started\n",
      "test\n",
      "validation\n",
      "val loss score is :0.05550587234075262\n",
      "val acc score is :0.9779469936708861\n",
      "test\n",
      "test loss score is :0.050060461216254466\n",
      "test acc score is :0.9781447784810127\n"
     ]
    },
    {
     "name": "stderr",
     "output_type": "stream",
     "text": [
      "\r",
      " 17%|█████████████▊                                                                   | 17/100 [02:19<11:10,  8.07s/it]"
     ]
    },
    {
     "name": "stdout",
     "output_type": "stream",
     "text": [
      "Epoch 17\n",
      "train\n",
      "Using real-time data augmentation.\n",
      "train loss score is :0.008598802964741461\n",
      "train acc score is :0.9962036445012787\n",
      "It has been 6.558156728744507 seconds since the loop started\n",
      "test\n",
      "validation\n",
      "val loss score is :0.053903459180426445\n",
      "val acc score is :0.9777492088607594\n",
      "test\n",
      "test loss score is :0.05561741053277576\n",
      "test acc score is :0.9761669303797469\n"
     ]
    },
    {
     "name": "stderr",
     "output_type": "stream",
     "text": [
      "\r",
      " 18%|██████████████▌                                                                  | 18/100 [02:27<11:00,  8.05s/it]"
     ]
    },
    {
     "name": "stdout",
     "output_type": "stream",
     "text": [
      "Epoch 18\n",
      "train\n",
      "Using real-time data augmentation.\n",
      "train loss score is :0.00647644504091254\n",
      "train acc score is :0.9967431265984654\n",
      "It has been 6.544573068618774 seconds since the loop started\n",
      "test\n",
      "validation\n",
      "val loss score is :0.05404097457869019\n",
      "val acc score is :0.9774525316455697\n",
      "test\n",
      "test loss score is :0.0471036439892809\n",
      "test acc score is :0.978243670886076\n"
     ]
    },
    {
     "name": "stderr",
     "output_type": "stream",
     "text": [
      "\r",
      " 19%|███████████████▍                                                                 | 19/100 [02:35<10:50,  8.04s/it]"
     ]
    },
    {
     "name": "stdout",
     "output_type": "stream",
     "text": [
      "Epoch 19\n",
      "train\n",
      "Using real-time data augmentation.\n",
      "train loss score is :0.010104487308949838\n",
      "train acc score is :0.995784047314578\n",
      "It has been 6.557183504104614 seconds since the loop started\n",
      "test\n",
      "validation\n",
      "val loss score is :0.07762094062705545\n",
      "val acc score is :0.9705300632911392\n",
      "test\n",
      "test loss score is :0.07310221224522334\n",
      "test acc score is :0.9732990506329114\n"
     ]
    },
    {
     "name": "stderr",
     "output_type": "stream",
     "text": [
      "\r",
      " 20%|████████████████▏                                                                | 20/100 [02:43<10:40,  8.00s/it]"
     ]
    },
    {
     "name": "stdout",
     "output_type": "stream",
     "text": [
      "Epoch 20\n",
      "train\n",
      "Using real-time data augmentation.\n",
      "train loss score is :0.007796502035807629\n",
      "train acc score is :0.996403452685422\n",
      "It has been 6.1933510303497314 seconds since the loop started\n",
      "test\n",
      "validation\n",
      "val loss score is :0.06700960615825916\n",
      "val acc score is :0.9745846518987342\n",
      "test\n",
      "test loss score is :0.06404728144135122\n",
      "test acc score is :0.9747824367088608\n"
     ]
    },
    {
     "name": "stderr",
     "output_type": "stream",
     "text": [
      "\r",
      " 21%|█████████████████                                                                | 21/100 [02:51<10:23,  7.89s/it]"
     ]
    },
    {
     "name": "stdout",
     "output_type": "stream",
     "text": [
      "Epoch 21\n",
      "train\n",
      "Using real-time data augmentation.\n",
      "train loss score is :0.0077399579240195835\n",
      "train acc score is :0.9963834718670077\n",
      "It has been 6.511900186538696 seconds since the loop started\n",
      "test\n",
      "validation\n",
      "val loss score is :0.05338545705179265\n",
      "val acc score is :0.9773536392405063\n",
      "test\n",
      "test loss score is :0.04786110440155034\n",
      "test acc score is :0.9787381329113924\n"
     ]
    },
    {
     "name": "stderr",
     "output_type": "stream",
     "text": [
      "\r",
      " 22%|█████████████████▊                                                               | 22/100 [02:59<10:16,  7.91s/it]"
     ]
    },
    {
     "name": "stdout",
     "output_type": "stream",
     "text": [
      "Epoch 22\n",
      "train\n",
      "Using real-time data augmentation.\n",
      "train loss score is :0.006177719708846691\n",
      "train acc score is :0.997022858056266\n",
      "It has been 6.066359281539917 seconds since the loop started\n",
      "test\n",
      "validation\n",
      "val loss score is :0.0661768974649574\n",
      "val acc score is :0.9768591772151899\n",
      "test\n",
      "test loss score is :0.06822677828911972\n",
      "test acc score is :0.9768591772151899\n"
     ]
    },
    {
     "name": "stderr",
     "output_type": "stream",
     "text": [
      "\r",
      " 23%|██████████████████▋                                                              | 23/100 [03:06<09:59,  7.78s/it]"
     ]
    },
    {
     "name": "stdout",
     "output_type": "stream",
     "text": [
      "Epoch 23\n",
      "train\n",
      "Using real-time data augmentation.\n",
      "train loss score is :0.007503420703316173\n",
      "train acc score is :0.9966432225063938\n",
      "It has been 6.25264835357666 seconds since the loop started\n",
      "test\n",
      "validation\n",
      "val loss score is :0.05298699512193799\n",
      "val acc score is :0.978935917721519\n",
      "test\n",
      "test loss score is :0.04678395412039105\n",
      "test acc score is :0.9792325949367089\n"
     ]
    },
    {
     "name": "stderr",
     "output_type": "stream",
     "text": [
      "\r",
      " 24%|███████████████████▍                                                             | 24/100 [03:14<09:49,  7.76s/it]"
     ]
    },
    {
     "name": "stdout",
     "output_type": "stream",
     "text": [
      "Epoch 24\n",
      "train\n",
      "Using real-time data augmentation.\n",
      "train loss score is :0.0021256309817820175\n",
      "train acc score is :0.9983016304347826\n",
      "It has been 6.404400587081909 seconds since the loop started\n",
      "test\n",
      "validation\n",
      "val loss score is :0.05477756131825382\n",
      "val acc score is :0.9785403481012658\n",
      "test\n",
      "test loss score is :0.052746233734622\n",
      "test acc score is :0.9780458860759493\n"
     ]
    },
    {
     "name": "stderr",
     "output_type": "stream",
     "text": [
      "\r",
      " 25%|████████████████████▎                                                            | 25/100 [03:21<09:42,  7.76s/it]"
     ]
    },
    {
     "name": "stdout",
     "output_type": "stream",
     "text": [
      "Epoch 25\n",
      "train\n",
      "Using real-time data augmentation.\n",
      "train loss score is :0.0035546219099257923\n",
      "train acc score is :0.9979219948849105\n",
      "It has been 6.618662357330322 seconds since the loop started\n",
      "test\n",
      "validation\n",
      "val loss score is :0.06769324895618944\n",
      "val acc score is :0.9775514240506329\n",
      "test\n",
      "test loss score is :0.05763638855908118\n",
      "test acc score is :0.9780458860759493\n"
     ]
    },
    {
     "name": "stderr",
     "output_type": "stream",
     "text": [
      "\r",
      " 26%|█████████████████████                                                            | 26/100 [03:29<09:38,  7.81s/it]"
     ]
    },
    {
     "name": "stdout",
     "output_type": "stream",
     "text": [
      "Epoch 26\n",
      "train\n",
      "Using real-time data augmentation.\n",
      "train loss score is :0.0030409016506196818\n",
      "train acc score is :0.9980019181585678\n",
      "It has been 6.591822862625122 seconds since the loop started\n",
      "test\n",
      "validation\n",
      "val loss score is :0.08381483324509519\n",
      "val acc score is :0.9757713607594937\n",
      "test\n",
      "test loss score is :0.07209516322133443\n",
      "test acc score is :0.9762658227848101\n"
     ]
    },
    {
     "name": "stderr",
     "output_type": "stream",
     "text": [
      "\r",
      " 27%|█████████████████████▊                                                           | 27/100 [03:37<09:33,  7.86s/it]"
     ]
    },
    {
     "name": "stdout",
     "output_type": "stream",
     "text": [
      "Epoch 27\n",
      "train\n",
      "Using real-time data augmentation.\n",
      "train loss score is :0.007010423852370599\n",
      "train acc score is :0.9966831841432225\n",
      "It has been 5.407831430435181 seconds since the loop started\n",
      "test\n",
      "validation\n",
      "val loss score is :0.07975189591714217\n",
      "val acc score is :0.9755735759493671\n",
      "test\n",
      "test loss score is :0.06953292767250609\n",
      "test acc score is :0.9768591772151899\n"
     ]
    },
    {
     "name": "stderr",
     "output_type": "stream",
     "text": [
      "\r",
      " 28%|██████████████████████▋                                                          | 28/100 [03:44<09:02,  7.53s/it]"
     ]
    },
    {
     "name": "stdout",
     "output_type": "stream",
     "text": [
      "Epoch 28\n",
      "train\n",
      "Using real-time data augmentation.\n",
      "train loss score is :0.009553725717642405\n",
      "train acc score is :0.9962635869565217\n",
      "It has been 5.648490905761719 seconds since the loop started\n",
      "test\n",
      "validation\n",
      "val loss score is :0.059435410179691714\n",
      "val acc score is :0.9769580696202531\n",
      "test\n",
      "test loss score is :0.05654351226193388\n",
      "test acc score is :0.9770569620253164\n"
     ]
    },
    {
     "name": "stderr",
     "output_type": "stream",
     "text": [
      "\r",
      " 29%|███████████████████████▍                                                         | 29/100 [03:51<08:43,  7.38s/it]"
     ]
    },
    {
     "name": "stdout",
     "output_type": "stream",
     "text": [
      "Epoch 29\n",
      "train\n",
      "Using real-time data augmentation.\n",
      "train loss score is :0.0050682039992644\n",
      "train acc score is :0.9972826086956522\n",
      "It has been 5.79401159286499 seconds since the loop started\n",
      "test\n",
      "validation\n",
      "val loss score is :0.06744516434449245\n",
      "val acc score is :0.9775514240506329\n",
      "test\n",
      "test loss score is :0.05961301029706595\n",
      "test acc score is :0.977254746835443\n"
     ]
    },
    {
     "name": "stderr",
     "output_type": "stream",
     "text": [
      "\r",
      " 30%|████████████████████████▎                                                        | 30/100 [03:58<08:30,  7.29s/it]"
     ]
    },
    {
     "name": "stdout",
     "output_type": "stream",
     "text": [
      "Epoch 30\n",
      "train\n",
      "Using real-time data augmentation.\n",
      "train loss score is :0.003008400024023941\n",
      "train acc score is :0.9980418797953964\n",
      "It has been 5.375529527664185 seconds since the loop started\n",
      "test\n",
      "validation\n",
      "val loss score is :0.06497416527265039\n",
      "val acc score is :0.9776503164556962\n",
      "test\n",
      "test loss score is :0.05907448482538643\n",
      "test acc score is :0.9791337025316456\n"
     ]
    },
    {
     "name": "stderr",
     "output_type": "stream",
     "text": [
      "\r",
      " 31%|█████████████████████████                                                        | 31/100 [04:05<08:08,  7.08s/it]"
     ]
    },
    {
     "name": "stdout",
     "output_type": "stream",
     "text": [
      "Epoch 31\n",
      "train\n",
      "Using real-time data augmentation.\n",
      "train loss score is :0.002305054575631309\n",
      "train acc score is :0.9984614769820972\n",
      "It has been 6.0909647941589355 seconds since the loop started\n",
      "test\n",
      "validation\n",
      "val loss score is :0.06432272714038581\n",
      "val acc score is :0.9779469936708861\n",
      "test\n",
      "test loss score is :0.05932531790386183\n",
      "test acc score is :0.9776503164556962\n"
     ]
    },
    {
     "name": "stderr",
     "output_type": "stream",
     "text": [
      "\r",
      " 32%|█████████████████████████▉                                                       | 32/100 [04:12<08:07,  7.18s/it]"
     ]
    },
    {
     "name": "stdout",
     "output_type": "stream",
     "text": [
      "Epoch 32\n",
      "train\n",
      "Using real-time data augmentation.\n",
      "train loss score is :0.004850814777840345\n",
      "train acc score is :0.9975423593350383\n",
      "It has been 6.148322343826294 seconds since the loop started\n",
      "test\n",
      "validation\n",
      "val loss score is :0.06337249883892893\n",
      "val acc score is :0.9770569620253164\n",
      "test\n",
      "test loss score is :0.05613421684835395\n",
      "test acc score is :0.9779469936708861\n"
     ]
    },
    {
     "name": "stderr",
     "output_type": "stream",
     "text": [
      "\r",
      " 33%|██████████████████████████▋                                                      | 33/100 [04:20<08:08,  7.29s/it]"
     ]
    },
    {
     "name": "stdout",
     "output_type": "stream",
     "text": [
      "Epoch 33\n",
      "train\n",
      "Using real-time data augmentation.\n",
      "train loss score is :0.002519695218696586\n",
      "train acc score is :0.998141783887468\n",
      "It has been 6.110225677490234 seconds since the loop started\n",
      "test\n",
      "validation\n",
      "val loss score is :0.06746467664611107\n",
      "val acc score is :0.9766613924050633\n",
      "test\n",
      "test loss score is :0.056663754966162064\n",
      "test acc score is :0.9779469936708861\n"
     ]
    },
    {
     "name": "stderr",
     "output_type": "stream",
     "text": [
      "\r",
      " 34%|███████████████████████████▌                                                     | 34/100 [04:27<08:04,  7.33s/it]"
     ]
    },
    {
     "name": "stdout",
     "output_type": "stream",
     "text": [
      "Epoch 34\n",
      "train\n",
      "Using real-time data augmentation.\n",
      "train loss score is :0.0031557867306290215\n",
      "train acc score is :0.9981617647058824\n",
      "It has been 6.1940295696258545 seconds since the loop started\n",
      "test\n",
      "validation\n",
      "val loss score is :0.06316985547471608\n",
      "val acc score is :0.9777492088607594\n",
      "test\n",
      "test loss score is :0.0688486356634856\n",
      "test acc score is :0.9778481012658228\n"
     ]
    },
    {
     "name": "stderr",
     "output_type": "stream",
     "text": [
      "\r",
      " 35%|████████████████████████████▎                                                    | 35/100 [04:35<08:01,  7.41s/it]"
     ]
    },
    {
     "name": "stdout",
     "output_type": "stream",
     "text": [
      "Epoch 35\n",
      "train\n",
      "Using real-time data augmentation.\n",
      "train loss score is :0.003308146411830943\n",
      "train acc score is :0.9980418797953964\n",
      "It has been 6.525986194610596 seconds since the loop started\n",
      "test\n",
      "validation\n",
      "val loss score is :0.07114201327063104\n",
      "val acc score is :0.9765625\n",
      "test\n",
      "test loss score is :0.06848498185356784\n",
      "test acc score is :0.9769580696202531\n"
     ]
    },
    {
     "name": "stderr",
     "output_type": "stream",
     "text": [
      "\r",
      " 36%|█████████████████████████████▏                                                   | 36/100 [04:43<08:01,  7.53s/it]"
     ]
    },
    {
     "name": "stdout",
     "output_type": "stream",
     "text": [
      "Epoch 36\n",
      "train\n",
      "Using real-time data augmentation.\n",
      "train loss score is :0.003533046288369922\n",
      "train acc score is :0.9979419757033248\n",
      "It has been 5.682154178619385 seconds since the loop started\n",
      "test\n",
      "validation\n",
      "val loss score is :0.0801626808459596\n",
      "val acc score is :0.9762658227848101\n",
      "test\n",
      "test loss score is :0.06692444519878257\n",
      "test acc score is :0.9762658227848101\n"
     ]
    },
    {
     "name": "stderr",
     "output_type": "stream",
     "text": [
      "\r",
      " 37%|█████████████████████████████▉                                                   | 37/100 [04:50<07:44,  7.37s/it]"
     ]
    },
    {
     "name": "stdout",
     "output_type": "stream",
     "text": [
      "Epoch 37\n",
      "train\n",
      "Using real-time data augmentation.\n",
      "train loss score is :0.002959803767484888\n",
      "train acc score is :0.9981018222506394\n",
      "It has been 6.053532600402832 seconds since the loop started\n",
      "test\n",
      "validation\n",
      "val loss score is :0.10511285324546164\n",
      "val acc score is :0.9727056962025317\n",
      "test\n",
      "test loss score is :0.08759171922279568\n",
      "test acc score is :0.9736946202531646\n"
     ]
    },
    {
     "name": "stderr",
     "output_type": "stream",
     "text": [
      "\r",
      " 38%|██████████████████████████████▊                                                  | 38/100 [04:57<07:38,  7.40s/it]"
     ]
    },
    {
     "name": "stdout",
     "output_type": "stream",
     "text": [
      "Epoch 38\n",
      "train\n",
      "Using real-time data augmentation.\n",
      "train loss score is :0.003105839293032745\n",
      "train acc score is :0.9980818414322251\n",
      "It has been 6.738500356674194 seconds since the loop started\n",
      "test\n",
      "validation\n",
      "val loss score is :0.05689151560235172\n",
      "val acc score is :0.9793314873417721\n",
      "test\n",
      "test loss score is :0.057645348510303396\n",
      "test acc score is :0.9794303797468354\n"
     ]
    },
    {
     "name": "stderr",
     "output_type": "stream",
     "text": [
      "\r",
      " 39%|███████████████████████████████▌                                                 | 39/100 [05:05<07:44,  7.61s/it]"
     ]
    },
    {
     "name": "stdout",
     "output_type": "stream",
     "text": [
      "Epoch 39\n",
      "train\n",
      "Using real-time data augmentation.\n",
      "train loss score is :0.0031029780249622017\n",
      "train acc score is :0.998261668797954\n",
      "It has been 6.353954553604126 seconds since the loop started\n",
      "test\n",
      "validation\n",
      "val loss score is :0.07129055886159649\n",
      "val acc score is :0.9770569620253164\n",
      "test\n",
      "test loss score is :0.053571820994622175\n",
      "test acc score is :0.978243670886076\n"
     ]
    },
    {
     "name": "stderr",
     "output_type": "stream",
     "text": [
      "\r",
      " 40%|████████████████████████████████▍                                                | 40/100 [05:13<07:39,  7.66s/it]"
     ]
    },
    {
     "name": "stdout",
     "output_type": "stream",
     "text": [
      "Epoch 40\n",
      "train\n",
      "Using real-time data augmentation.\n",
      "train loss score is :0.0012018193026169278\n",
      "train acc score is :0.998701246803069\n",
      "It has been 5.81560206413269 seconds since the loop started\n",
      "test\n",
      "validation\n",
      "val loss score is :0.06489605332129054\n",
      "val acc score is :0.9775514240506329\n",
      "test\n",
      "test loss score is :0.05478889225373908\n",
      "test acc score is :0.978935917721519\n"
     ]
    },
    {
     "name": "stderr",
     "output_type": "stream",
     "text": [
      "\r",
      " 41%|█████████████████████████████████▏                                               | 41/100 [05:20<07:24,  7.53s/it]"
     ]
    },
    {
     "name": "stdout",
     "output_type": "stream",
     "text": [
      "Epoch 41\n",
      "train\n",
      "Using real-time data augmentation.\n",
      "train loss score is :0.00010892220058029257\n",
      "train acc score is :0.9990409207161125\n",
      "It has been 6.232746124267578 seconds since the loop started\n",
      "test\n",
      "validation\n",
      "val loss score is :0.06452104148367563\n",
      "val acc score is :0.9787381329113924\n",
      "test\n",
      "test loss score is :0.05502386853897664\n",
      "test acc score is :0.9798259493670886\n"
     ]
    },
    {
     "name": "stderr",
     "output_type": "stream",
     "text": [
      "\r",
      " 42%|██████████████████████████████████                                               | 42/100 [05:28<07:19,  7.57s/it]"
     ]
    },
    {
     "name": "stdout",
     "output_type": "stream",
     "text": [
      "Epoch 42\n",
      "train\n",
      "Using real-time data augmentation.\n",
      "train loss score is :4.0742654181868924e-05\n",
      "train acc score is :0.9990409207161125\n",
      "It has been 6.318373918533325 seconds since the loop started\n",
      "test\n",
      "validation\n",
      "val loss score is :0.06415862352326185\n",
      "val acc score is :0.9788370253164557\n",
      "test\n",
      "test loss score is :0.05543847124691005\n",
      "test acc score is :0.9798259493670886\n"
     ]
    },
    {
     "name": "stderr",
     "output_type": "stream",
     "text": [
      "\r",
      " 43%|██████████████████████████████████▊                                              | 43/100 [05:36<07:13,  7.60s/it]"
     ]
    },
    {
     "name": "stdout",
     "output_type": "stream",
     "text": [
      "Epoch 43\n",
      "train\n",
      "Using real-time data augmentation.\n",
      "train loss score is :2.9210130457319602e-05\n",
      "train acc score is :0.9990409207161125\n",
      "It has been 6.277557373046875 seconds since the loop started\n",
      "test\n",
      "validation\n",
      "val loss score is :0.06432627496451966\n",
      "val acc score is :0.9788370253164557\n",
      "test\n",
      "test loss score is :0.056027392690864444\n",
      "test acc score is :0.979628164556962\n"
     ]
    },
    {
     "name": "stderr",
     "output_type": "stream",
     "text": [
      "\r",
      " 44%|███████████████████████████████████▋                                             | 44/100 [05:43<07:06,  7.62s/it]"
     ]
    },
    {
     "name": "stdout",
     "output_type": "stream",
     "text": [
      "Epoch 44\n",
      "train\n",
      "Using real-time data augmentation.\n",
      "train loss score is :2.321321166057417e-05\n",
      "train acc score is :0.9990409207161125\n",
      "It has been 6.1540915966033936 seconds since the loop started\n",
      "test\n",
      "validation\n",
      "val loss score is :0.06479835638070078\n",
      "val acc score is :0.9788370253164557\n",
      "test\n",
      "test loss score is :0.05654640531306246\n",
      "test acc score is :0.9797270569620253\n"
     ]
    },
    {
     "name": "stderr",
     "output_type": "stream",
     "text": [
      "\r",
      " 45%|████████████████████████████████████▍                                            | 45/100 [05:51<06:58,  7.62s/it]"
     ]
    },
    {
     "name": "stdout",
     "output_type": "stream",
     "text": [
      "Epoch 45\n",
      "train\n",
      "Using real-time data augmentation.\n",
      "train loss score is :1.9253728045923756e-05\n",
      "train acc score is :0.9990409207161125\n",
      "It has been 6.012955904006958 seconds since the loop started\n",
      "test\n",
      "validation\n",
      "val loss score is :0.06511880048800311\n",
      "val acc score is :0.9788370253164557\n",
      "test\n",
      "test loss score is :0.05697780039473112\n",
      "test acc score is :0.9797270569620253\n"
     ]
    },
    {
     "name": "stderr",
     "output_type": "stream",
     "text": [
      "\r",
      " 46%|█████████████████████████████████████▎                                           | 46/100 [05:58<06:47,  7.55s/it]"
     ]
    },
    {
     "name": "stdout",
     "output_type": "stream",
     "text": [
      "Epoch 46\n",
      "train\n",
      "Using real-time data augmentation.\n",
      "train loss score is :1.6637170658974244e-05\n",
      "train acc score is :0.9990409207161125\n",
      "It has been 6.417978286743164 seconds since the loop started\n",
      "test\n",
      "validation\n",
      "val loss score is :0.06545027400914731\n",
      "val acc score is :0.9790348101265823\n",
      "test\n",
      "test loss score is :0.05740524569173372\n",
      "test acc score is :0.979628164556962\n"
     ]
    },
    {
     "name": "stderr",
     "output_type": "stream",
     "text": [
      "\r",
      " 47%|██████████████████████████████████████                                           | 47/100 [06:06<06:43,  7.62s/it]"
     ]
    },
    {
     "name": "stdout",
     "output_type": "stream",
     "text": [
      "Epoch 47\n",
      "train\n",
      "Using real-time data augmentation.\n",
      "train loss score is :1.4584931999097174e-05\n",
      "train acc score is :0.9990409207161125\n",
      "It has been 6.298459053039551 seconds since the loop started\n",
      "test\n",
      "validation\n",
      "val loss score is :0.0657826401253016\n",
      "val acc score is :0.9788370253164557\n",
      "test\n",
      "test loss score is :0.057732785162651304\n",
      "test acc score is :0.979628164556962\n"
     ]
    },
    {
     "name": "stderr",
     "output_type": "stream",
     "text": [
      "\r",
      " 48%|██████████████████████████████████████▉                                          | 48/100 [06:14<06:37,  7.65s/it]"
     ]
    },
    {
     "name": "stdout",
     "output_type": "stream",
     "text": [
      "Epoch 48\n",
      "train\n",
      "Using real-time data augmentation.\n",
      "train loss score is :1.3092449150282182e-05\n",
      "train acc score is :0.9990409207161125\n",
      "It has been 6.160315036773682 seconds since the loop started\n",
      "test\n",
      "validation\n",
      "val loss score is :0.06598277588999209\n",
      "val acc score is :0.9790348101265823\n",
      "test\n",
      "test loss score is :0.05806562754501437\n",
      "test acc score is :0.9797270569620253\n"
     ]
    },
    {
     "name": "stderr",
     "output_type": "stream",
     "text": [
      "\r",
      " 49%|███████████████████████████████████████▋                                         | 49/100 [06:21<06:27,  7.60s/it]"
     ]
    },
    {
     "name": "stdout",
     "output_type": "stream",
     "text": [
      "Epoch 49\n",
      "train\n",
      "Using real-time data augmentation.\n",
      "train loss score is :1.1744993787635252e-05\n",
      "train acc score is :0.9990409207161125\n",
      "It has been 5.568748950958252 seconds since the loop started\n",
      "test\n",
      "validation\n",
      "val loss score is :0.06627712520058124\n",
      "val acc score is :0.978935917721519\n",
      "test\n",
      "test loss score is :0.0583420613480561\n",
      "test acc score is :0.9797270569620253\n"
     ]
    },
    {
     "name": "stderr",
     "output_type": "stream",
     "text": [
      "\r",
      " 50%|████████████████████████████████████████▌                                        | 50/100 [06:28<06:09,  7.39s/it]"
     ]
    },
    {
     "name": "stdout",
     "output_type": "stream",
     "text": [
      "Epoch 50\n",
      "train\n",
      "Using real-time data augmentation.\n",
      "train loss score is :1.0882675859990376e-05\n",
      "train acc score is :0.9990409207161125\n",
      "It has been 5.492953300476074 seconds since the loop started\n",
      "test\n",
      "validation\n",
      "val loss score is :0.0664276263830056\n",
      "val acc score is :0.978935917721519\n",
      "test\n",
      "test loss score is :0.05859639236349041\n",
      "test acc score is :0.9797270569620253\n"
     ]
    },
    {
     "name": "stderr",
     "output_type": "stream",
     "text": [
      "\r",
      " 51%|█████████████████████████████████████████▎                                       | 51/100 [06:35<05:54,  7.23s/it]"
     ]
    },
    {
     "name": "stdout",
     "output_type": "stream",
     "text": [
      "Epoch 51\n",
      "train\n",
      "Using real-time data augmentation.\n",
      "train loss score is :9.994407547139072e-06\n",
      "train acc score is :0.9990409207161125\n",
      "It has been 5.72452974319458 seconds since the loop started\n",
      "test\n",
      "validation\n",
      "val loss score is :0.06663586838185104\n",
      "val acc score is :0.9790348101265823\n",
      "test\n",
      "test loss score is :0.05883720568050853\n",
      "test acc score is :0.9797270569620253\n"
     ]
    },
    {
     "name": "stderr",
     "output_type": "stream",
     "text": [
      "\r",
      " 52%|██████████████████████████████████████████                                       | 52/100 [06:42<05:46,  7.22s/it]"
     ]
    },
    {
     "name": "stdout",
     "output_type": "stream",
     "text": [
      "Epoch 52\n",
      "train\n",
      "Using real-time data augmentation.\n",
      "train loss score is :9.255790180131756e-06\n",
      "train acc score is :0.9990409207161125\n",
      "It has been 6.267054557800293 seconds since the loop started\n",
      "test\n",
      "validation\n",
      "val loss score is :0.0668025967391869\n",
      "val acc score is :0.978935917721519\n",
      "test\n",
      "test loss score is :0.05905369425847457\n",
      "test acc score is :0.9797270569620253\n"
     ]
    },
    {
     "name": "stderr",
     "output_type": "stream",
     "text": [
      "\r",
      " 53%|██████████████████████████████████████████▉                                      | 53/100 [06:50<05:45,  7.36s/it]"
     ]
    },
    {
     "name": "stdout",
     "output_type": "stream",
     "text": [
      "Epoch 53\n",
      "train\n",
      "Using real-time data augmentation.\n",
      "train loss score is :8.66897439254928e-06\n",
      "train acc score is :0.9990409207161125\n",
      "It has been 6.095743417739868 seconds since the loop started\n",
      "test\n",
      "validation\n",
      "val loss score is :0.06697246954075595\n",
      "val acc score is :0.9790348101265823\n",
      "test\n",
      "test loss score is :0.05927524881206012\n",
      "test acc score is :0.9797270569620253\n"
     ]
    },
    {
     "name": "stderr",
     "output_type": "stream",
     "text": [
      "\r",
      " 54%|███████████████████████████████████████████▋                                     | 54/100 [06:57<05:40,  7.41s/it]"
     ]
    },
    {
     "name": "stdout",
     "output_type": "stream",
     "text": [
      "Epoch 54\n",
      "train\n",
      "Using real-time data augmentation.\n",
      "train loss score is :8.094185590946256e-06\n",
      "train acc score is :0.9990409207161125\n",
      "It has been 5.907207012176514 seconds since the loop started\n",
      "test\n",
      "validation\n",
      "val loss score is :0.0671563066893273\n",
      "val acc score is :0.9790348101265823\n",
      "test\n",
      "test loss score is :0.0594968142180928\n",
      "test acc score is :0.9797270569620253\n"
     ]
    },
    {
     "name": "stderr",
     "output_type": "stream",
     "text": [
      "\r",
      " 55%|████████████████████████████████████████████▌                                    | 55/100 [07:05<05:30,  7.35s/it]"
     ]
    },
    {
     "name": "stdout",
     "output_type": "stream",
     "text": [
      "Epoch 55\n",
      "train\n",
      "Using real-time data augmentation.\n",
      "train loss score is :7.629901697923535e-06\n",
      "train acc score is :0.9990409207161125\n",
      "It has been 6.019397735595703 seconds since the loop started\n",
      "test\n",
      "validation\n",
      "val loss score is :0.06728365913893607\n",
      "val acc score is :0.9790348101265823\n",
      "test\n",
      "test loss score is :0.059701415363340164\n",
      "test acc score is :0.9797270569620253\n"
     ]
    },
    {
     "name": "stderr",
     "output_type": "stream",
     "text": [
      "\r",
      " 56%|█████████████████████████████████████████████▎                                   | 56/100 [07:12<05:24,  7.38s/it]"
     ]
    },
    {
     "name": "stdout",
     "output_type": "stream",
     "text": [
      "Epoch 56\n",
      "train\n",
      "Using real-time data augmentation.\n",
      "train loss score is :7.218982715259067e-06\n",
      "train acc score is :0.9990409207161125\n",
      "It has been 6.383018970489502 seconds since the loop started\n",
      "test\n",
      "validation\n",
      "val loss score is :0.06740709568406074\n",
      "val acc score is :0.9790348101265823\n",
      "test\n",
      "test loss score is :0.05987970151298993\n",
      "test acc score is :0.9797270569620253\n"
     ]
    },
    {
     "name": "stderr",
     "output_type": "stream",
     "text": [
      "\r",
      " 57%|██████████████████████████████████████████████▏                                  | 57/100 [07:20<05:22,  7.51s/it]"
     ]
    },
    {
     "name": "stdout",
     "output_type": "stream",
     "text": [
      "Epoch 57\n",
      "train\n",
      "Using real-time data augmentation.\n",
      "train loss score is :6.818893086467463e-06\n",
      "train acc score is :0.9990409207161125\n",
      "It has been 6.465683937072754 seconds since the loop started\n",
      "test\n",
      "validation\n",
      "val loss score is :0.06760314348654607\n",
      "val acc score is :0.9790348101265823\n",
      "test\n",
      "test loss score is :0.060060563115682065\n",
      "test acc score is :0.9797270569620253\n"
     ]
    },
    {
     "name": "stderr",
     "output_type": "stream",
     "text": [
      "\r",
      " 58%|██████████████████████████████████████████████▉                                  | 58/100 [07:28<05:21,  7.65s/it]"
     ]
    },
    {
     "name": "stdout",
     "output_type": "stream",
     "text": [
      "Epoch 58\n",
      "train\n",
      "Using real-time data augmentation.\n",
      "train loss score is :6.46789336136888e-06\n",
      "train acc score is :0.9990409207161125\n",
      "It has been 5.870730400085449 seconds since the loop started\n",
      "test\n",
      "validation\n",
      "val loss score is :0.06773171020784141\n",
      "val acc score is :0.9790348101265823\n",
      "test\n",
      "test loss score is :0.0602225531343288\n",
      "test acc score is :0.9797270569620253\n"
     ]
    },
    {
     "name": "stderr",
     "output_type": "stream",
     "text": [
      "\r",
      " 59%|███████████████████████████████████████████████▊                                 | 59/100 [07:35<05:05,  7.45s/it]"
     ]
    },
    {
     "name": "stdout",
     "output_type": "stream",
     "text": [
      "Epoch 59\n",
      "train\n",
      "Using real-time data augmentation.\n",
      "train loss score is :6.178205985173269e-06\n",
      "train acc score is :0.9990409207161125\n",
      "It has been 5.2605881690979 seconds since the loop started\n",
      "test\n",
      "validation\n",
      "val loss score is :0.06786961797156703\n",
      "val acc score is :0.9791337025316456\n",
      "test\n",
      "test loss score is :0.06038794400417891\n",
      "test acc score is :0.9798259493670886\n"
     ]
    },
    {
     "name": "stderr",
     "output_type": "stream",
     "text": [
      "\r",
      " 60%|████████████████████████████████████████████████▌                                | 60/100 [07:41<04:46,  7.17s/it]"
     ]
    },
    {
     "name": "stdout",
     "output_type": "stream",
     "text": [
      "Epoch 60\n",
      "train\n",
      "Using real-time data augmentation.\n",
      "train loss score is :5.89982722110452e-06\n",
      "train acc score is :0.9990409207161125\n",
      "It has been 5.716736316680908 seconds since the loop started\n",
      "test\n",
      "validation\n",
      "val loss score is :0.06796945808128076\n",
      "val acc score is :0.9790348101265823\n",
      "test\n",
      "test loss score is :0.060523302854931044\n",
      "test acc score is :0.9799248417721519\n"
     ]
    },
    {
     "name": "stderr",
     "output_type": "stream",
     "text": [
      "\r",
      " 61%|█████████████████████████████████████████████████▍                               | 61/100 [07:48<04:38,  7.13s/it]"
     ]
    },
    {
     "name": "stdout",
     "output_type": "stream",
     "text": [
      "Epoch 61\n",
      "train\n",
      "Using real-time data augmentation.\n",
      "train loss score is :5.648553205680794e-06\n",
      "train acc score is :0.9990409207161125\n",
      "It has been 6.003566741943359 seconds since the loop started\n",
      "test\n",
      "validation\n",
      "val loss score is :0.06808322207144159\n",
      "val acc score is :0.9790348101265823\n",
      "test\n",
      "test loss score is :0.06066393573603927\n",
      "test acc score is :0.9799248417721519\n"
     ]
    },
    {
     "name": "stderr",
     "output_type": "stream",
     "text": [
      "\r",
      " 62%|██████████████████████████████████████████████████▏                              | 62/100 [07:56<04:33,  7.19s/it]"
     ]
    },
    {
     "name": "stdout",
     "output_type": "stream",
     "text": [
      "Epoch 62\n",
      "train\n",
      "Using real-time data augmentation.\n",
      "train loss score is :5.4128722995376955e-06\n",
      "train acc score is :0.9990409207161125\n",
      "It has been 5.403398752212524 seconds since the loop started\n",
      "test\n",
      "validation\n",
      "val loss score is :0.06821952783217702\n",
      "val acc score is :0.9790348101265823\n",
      "test\n",
      "test loss score is :0.060800439705819796\n",
      "test acc score is :0.9799248417721519\n"
     ]
    },
    {
     "name": "stderr",
     "output_type": "stream",
     "text": [
      "\r",
      " 63%|███████████████████████████████████████████████████                              | 63/100 [08:02<04:20,  7.05s/it]"
     ]
    },
    {
     "name": "stdout",
     "output_type": "stream",
     "text": [
      "Epoch 63\n",
      "train\n",
      "Using real-time data augmentation.\n",
      "train loss score is :5.206454767454439e-06\n",
      "train acc score is :0.9990409207161125\n",
      "It has been 5.4682958126068115 seconds since the loop started\n",
      "test\n",
      "validation\n",
      "val loss score is :0.06832698617057999\n",
      "val acc score is :0.9790348101265823\n",
      "test\n",
      "test loss score is :0.0609352229062935\n",
      "test acc score is :0.9799248417721519\n"
     ]
    },
    {
     "name": "stderr",
     "output_type": "stream",
     "text": [
      "\r",
      " 64%|███████████████████████████████████████████████████▊                             | 64/100 [08:09<04:11,  6.97s/it]"
     ]
    },
    {
     "name": "stdout",
     "output_type": "stream",
     "text": [
      "Epoch 64\n",
      "train\n",
      "Using real-time data augmentation.\n",
      "train loss score is :5.008130724012613e-06\n",
      "train acc score is :0.9990409207161125\n",
      "It has been 6.346172094345093 seconds since the loop started\n",
      "test\n",
      "validation\n",
      "val loss score is :0.0684367116552731\n",
      "val acc score is :0.9790348101265823\n",
      "test\n",
      "test loss score is :0.06105788182061017\n",
      "test acc score is :0.9799248417721519\n"
     ]
    },
    {
     "name": "stderr",
     "output_type": "stream",
     "text": [
      "\r",
      " 65%|████████████████████████████████████████████████████▋                            | 65/100 [08:17<04:12,  7.22s/it]"
     ]
    },
    {
     "name": "stdout",
     "output_type": "stream",
     "text": [
      "Epoch 65\n",
      "train\n",
      "Using real-time data augmentation.\n",
      "train loss score is :4.843054655810467e-06\n",
      "train acc score is :0.9990409207161125\n",
      "It has been 6.194560527801514 seconds since the loop started\n",
      "test\n",
      "validation\n",
      "val loss score is :0.06857767642956511\n",
      "val acc score is :0.9790348101265823\n",
      "test\n",
      "test loss score is :0.06117695970079432\n",
      "test acc score is :0.9798259493670886\n"
     ]
    },
    {
     "name": "stderr",
     "output_type": "stream",
     "text": [
      "\r",
      " 66%|█████████████████████████████████████████████████████▍                           | 66/100 [08:24<04:08,  7.30s/it]"
     ]
    },
    {
     "name": "stdout",
     "output_type": "stream",
     "text": [
      "Epoch 66\n",
      "train\n",
      "Using real-time data augmentation.\n",
      "train loss score is :4.656132071378285e-06\n",
      "train acc score is :0.9990409207161125\n",
      "It has been 5.313377618789673 seconds since the loop started\n",
      "test\n",
      "validation\n",
      "val loss score is :0.06865496480956365\n",
      "val acc score is :0.9790348101265823\n",
      "test\n",
      "test loss score is :0.06130173344695718\n",
      "test acc score is :0.9798259493670886\n"
     ]
    },
    {
     "name": "stderr",
     "output_type": "stream",
     "text": [
      "\r",
      " 67%|██████████████████████████████████████████████████████▎                          | 67/100 [08:31<03:52,  7.05s/it]"
     ]
    },
    {
     "name": "stdout",
     "output_type": "stream",
     "text": [
      "Epoch 67\n",
      "train\n",
      "Using real-time data augmentation.\n",
      "train loss score is :4.50142552002235e-06\n",
      "train acc score is :0.9990409207161125\n",
      "It has been 5.383148431777954 seconds since the loop started\n",
      "test\n",
      "validation\n",
      "val loss score is :0.06871705488388909\n",
      "val acc score is :0.9790348101265823\n",
      "test\n",
      "test loss score is :0.0614201671564821\n",
      "test acc score is :0.9799248417721519\n"
     ]
    },
    {
     "name": "stderr",
     "output_type": "stream",
     "text": [
      "\r",
      " 68%|███████████████████████████████████████████████████████                          | 68/100 [08:38<03:43,  6.97s/it]"
     ]
    },
    {
     "name": "stdout",
     "output_type": "stream",
     "text": [
      "Epoch 68\n",
      "train\n",
      "Using real-time data augmentation.\n",
      "train loss score is :4.365024041306805e-06\n",
      "train acc score is :0.9990409207161125\n",
      "It has been 6.057349681854248 seconds since the loop started\n",
      "test\n",
      "validation\n",
      "val loss score is :0.06881888268350671\n",
      "val acc score is :0.9790348101265823\n",
      "test\n",
      "test loss score is :0.061536408814504666\n",
      "test acc score is :0.9800237341772152\n"
     ]
    },
    {
     "name": "stderr",
     "output_type": "stream",
     "text": [
      "\r",
      " 69%|███████████████████████████████████████████████████████▉                         | 69/100 [08:45<03:40,  7.11s/it]"
     ]
    },
    {
     "name": "stdout",
     "output_type": "stream",
     "text": [
      "Epoch 69\n",
      "train\n",
      "Using real-time data augmentation.\n",
      "train loss score is :4.219801706093632e-06\n",
      "train acc score is :0.9990409207161125\n",
      "It has been 5.922193288803101 seconds since the loop started\n",
      "test\n",
      "validation\n",
      "val loss score is :0.06890057818426594\n",
      "val acc score is :0.9790348101265823\n",
      "test\n",
      "test loss score is :0.06162852418452218\n",
      "test acc score is :0.9800237341772152\n"
     ]
    },
    {
     "name": "stderr",
     "output_type": "stream",
     "text": [
      "\r",
      " 70%|████████████████████████████████████████████████████████▋                        | 70/100 [08:52<03:33,  7.12s/it]"
     ]
    },
    {
     "name": "stdout",
     "output_type": "stream",
     "text": [
      "Epoch 70\n",
      "train\n",
      "Using real-time data augmentation.\n",
      "train loss score is :4.096377229670953e-06\n",
      "train acc score is :0.9990409207161125\n",
      "It has been 6.104156017303467 seconds since the loop started\n",
      "test\n",
      "validation\n",
      "val loss score is :0.06902239945535002\n",
      "val acc score is :0.9790348101265823\n",
      "test\n",
      "test loss score is :0.06173618541588263\n",
      "test acc score is :0.9799248417721519\n"
     ]
    },
    {
     "name": "stderr",
     "output_type": "stream",
     "text": [
      "\r",
      " 71%|█████████████████████████████████████████████████████████▌                       | 71/100 [09:00<03:29,  7.23s/it]"
     ]
    },
    {
     "name": "stdout",
     "output_type": "stream",
     "text": [
      "Epoch 71\n",
      "train\n",
      "Using real-time data augmentation.\n",
      "train loss score is :3.971619728595408e-06\n",
      "train acc score is :0.9990409207161125\n",
      "It has been 6.0896501541137695 seconds since the loop started\n",
      "test\n",
      "validation\n",
      "val loss score is :0.0690905461187353\n",
      "val acc score is :0.9792325949367089\n",
      "test\n",
      "test loss score is :0.06183259195288114\n",
      "test acc score is :0.9799248417721519\n"
     ]
    },
    {
     "name": "stderr",
     "output_type": "stream",
     "text": [
      "\r",
      " 72%|██████████████████████████████████████████████████████████▎                      | 72/100 [09:07<03:22,  7.25s/it]"
     ]
    },
    {
     "name": "stdout",
     "output_type": "stream",
     "text": [
      "Epoch 72\n",
      "train\n",
      "Using real-time data augmentation.\n",
      "train loss score is :3.8636958073605215e-06\n",
      "train acc score is :0.9990409207161125\n",
      "It has been 6.0190589427948 seconds since the loop started\n",
      "test\n",
      "validation\n",
      "val loss score is :0.06917992619800085\n",
      "val acc score is :0.9792325949367089\n",
      "test\n",
      "test loss score is :0.06192058809558024\n",
      "test acc score is :0.9800237341772152\n"
     ]
    },
    {
     "name": "stderr",
     "output_type": "stream",
     "text": [
      "\r",
      " 73%|███████████████████████████████████████████████████████████▏                     | 73/100 [09:14<03:17,  7.31s/it]"
     ]
    },
    {
     "name": "stdout",
     "output_type": "stream",
     "text": [
      "Epoch 73\n",
      "train\n",
      "Using real-time data augmentation.\n",
      "train loss score is :3.758944628630841e-06\n",
      "train acc score is :0.9990409207161125\n",
      "It has been 6.182899713516235 seconds since the loop started\n",
      "test\n",
      "validation\n",
      "val loss score is :0.0692635285087769\n",
      "val acc score is :0.9792325949367089\n",
      "test\n",
      "test loss score is :0.06200353319807857\n",
      "test acc score is :0.9800237341772152\n"
     ]
    },
    {
     "name": "stderr",
     "output_type": "stream",
     "text": [
      "\r",
      " 74%|███████████████████████████████████████████████████████████▉                     | 74/100 [09:22<03:11,  7.38s/it]"
     ]
    },
    {
     "name": "stdout",
     "output_type": "stream",
     "text": [
      "Epoch 74\n",
      "train\n",
      "Using real-time data augmentation.\n",
      "train loss score is :3.6614734059810124e-06\n",
      "train acc score is :0.9990409207161125\n",
      "It has been 5.989621639251709 seconds since the loop started\n",
      "test\n",
      "validation\n",
      "val loss score is :0.06935814894235344\n",
      "val acc score is :0.9792325949367089\n",
      "test\n",
      "test loss score is :0.06209064562247869\n",
      "test acc score is :0.9800237341772152\n"
     ]
    },
    {
     "name": "stderr",
     "output_type": "stream",
     "text": [
      "\r",
      " 75%|████████████████████████████████████████████████████████████▊                    | 75/100 [09:29<03:04,  7.38s/it]"
     ]
    },
    {
     "name": "stdout",
     "output_type": "stream",
     "text": [
      "Epoch 75\n",
      "train\n",
      "Using real-time data augmentation.\n",
      "train loss score is :3.5645324868435684e-06\n",
      "train acc score is :0.9990409207161125\n",
      "It has been 5.788440942764282 seconds since the loop started\n",
      "test\n",
      "validation\n",
      "val loss score is :0.06943618005109861\n",
      "val acc score is :0.9792325949367089\n",
      "test\n",
      "test loss score is :0.06217287925020561\n",
      "test acc score is :0.9800237341772152\n"
     ]
    },
    {
     "name": "stderr",
     "output_type": "stream",
     "text": [
      "\r",
      " 76%|█████████████████████████████████████████████████████████████▌                   | 76/100 [09:36<02:54,  7.29s/it]"
     ]
    },
    {
     "name": "stdout",
     "output_type": "stream",
     "text": [
      "Epoch 76\n",
      "train\n",
      "Using real-time data augmentation.\n",
      "train loss score is :3.4720992055451307e-06\n",
      "train acc score is :0.9990409207161125\n",
      "It has been 6.105195760726929 seconds since the loop started\n",
      "test\n",
      "validation\n",
      "val loss score is :0.069518331253466\n",
      "val acc score is :0.9792325949367089\n",
      "test\n",
      "test loss score is :0.06225822138581665\n",
      "test acc score is :0.9800237341772152\n"
     ]
    },
    {
     "name": "stderr",
     "output_type": "stream",
     "text": [
      "\r",
      " 77%|██████████████████████████████████████████████████████████████▎                  | 77/100 [09:44<02:49,  7.36s/it]"
     ]
    },
    {
     "name": "stdout",
     "output_type": "stream",
     "text": [
      "Epoch 77\n",
      "train\n",
      "Using real-time data augmentation.\n",
      "train loss score is :3.3875273263244577e-06\n",
      "train acc score is :0.9990409207161125\n",
      "It has been 6.44576358795166 seconds since the loop started\n",
      "test\n",
      "validation\n",
      "val loss score is :0.06961020903787477\n",
      "val acc score is :0.9792325949367089\n",
      "test\n",
      "test loss score is :0.062345397900936884\n",
      "test acc score is :0.9799248417721519\n"
     ]
    },
    {
     "name": "stderr",
     "output_type": "stream",
     "text": [
      "\r",
      " 78%|███████████████████████████████████████████████████████████████▏                 | 78/100 [09:52<02:45,  7.51s/it]"
     ]
    },
    {
     "name": "stdout",
     "output_type": "stream",
     "text": [
      "Epoch 78\n",
      "train\n",
      "Using real-time data augmentation.\n",
      "train loss score is :3.30743846937092e-06\n",
      "train acc score is :0.9990409207161125\n",
      "It has been 6.384017467498779 seconds since the loop started\n",
      "test\n",
      "validation\n",
      "val loss score is :0.06969770225649535\n",
      "val acc score is :0.9791337025316456\n",
      "test\n",
      "test loss score is :0.06242140858132732\n",
      "test acc score is :0.9799248417721519\n"
     ]
    },
    {
     "name": "stderr",
     "output_type": "stream",
     "text": [
      "\r",
      " 79%|███████████████████████████████████████████████████████████████▉                 | 79/100 [10:00<02:38,  7.55s/it]"
     ]
    },
    {
     "name": "stdout",
     "output_type": "stream",
     "text": [
      "Epoch 79\n",
      "train\n",
      "Using real-time data augmentation.\n",
      "train loss score is :3.226646643649219e-06\n",
      "train acc score is :0.9990409207161125\n",
      "It has been 6.110446453094482 seconds since the loop started\n",
      "test\n",
      "validation\n",
      "val loss score is :0.06976768275906768\n",
      "val acc score is :0.9794303797468354\n",
      "test\n",
      "test loss score is :0.06250089279835921\n",
      "test acc score is :0.9799248417721519\n"
     ]
    },
    {
     "name": "stderr",
     "output_type": "stream",
     "text": [
      "\r",
      " 80%|████████████████████████████████████████████████████████████████▊                | 80/100 [10:07<02:30,  7.53s/it]"
     ]
    },
    {
     "name": "stdout",
     "output_type": "stream",
     "text": [
      "Epoch 80\n",
      "train\n",
      "Using real-time data augmentation.\n",
      "train loss score is :3.1534662493762616e-06\n",
      "train acc score is :0.9990409207161125\n",
      "It has been 6.216697692871094 seconds since the loop started\n",
      "test\n",
      "validation\n",
      "val loss score is :0.06983668275364967\n",
      "val acc score is :0.9794303797468354\n",
      "test\n",
      "test loss score is :0.06257732024797646\n",
      "test acc score is :0.9799248417721519\n"
     ]
    },
    {
     "name": "stderr",
     "output_type": "stream",
     "text": [
      "\r",
      " 81%|█████████████████████████████████████████████████████████████████▌               | 81/100 [10:15<02:23,  7.54s/it]"
     ]
    },
    {
     "name": "stdout",
     "output_type": "stream",
     "text": [
      "Epoch 81\n",
      "train\n",
      "Using real-time data augmentation.\n",
      "train loss score is :3.084038187358959e-06\n",
      "train acc score is :0.9990409207161125\n",
      "It has been 5.922898054122925 seconds since the loop started\n",
      "test\n",
      "validation\n",
      "val loss score is :0.06991410885157158\n",
      "val acc score is :0.9793314873417721\n",
      "test\n",
      "test loss score is :0.06264488138888348\n",
      "test acc score is :0.9799248417721519\n"
     ]
    },
    {
     "name": "stderr",
     "output_type": "stream",
     "text": [
      "\r",
      " 82%|██████████████████████████████████████████████████████████████████▍              | 82/100 [10:22<02:13,  7.44s/it]"
     ]
    },
    {
     "name": "stdout",
     "output_type": "stream",
     "text": [
      "Epoch 82\n",
      "train\n",
      "Using real-time data augmentation.\n",
      "train loss score is :3.0115992762825266e-06\n",
      "train acc score is :0.9990409207161125\n",
      "It has been 6.08124566078186 seconds since the loop started\n",
      "test\n",
      "validation\n",
      "val loss score is :0.06997047898792486\n",
      "val acc score is :0.9794303797468354\n",
      "test\n",
      "test loss score is :0.06272309975615582\n",
      "test acc score is :0.9799248417721519\n"
     ]
    },
    {
     "name": "stderr",
     "output_type": "stream",
     "text": [
      "\r",
      " 83%|███████████████████████████████████████████████████████████████████▏             | 83/100 [10:29<02:06,  7.46s/it]"
     ]
    },
    {
     "name": "stdout",
     "output_type": "stream",
     "text": [
      "Epoch 83\n",
      "train\n",
      "Using real-time data augmentation.\n",
      "train loss score is :2.953671815407281e-06\n",
      "train acc score is :0.9990409207161125\n",
      "It has been 6.095191240310669 seconds since the loop started\n",
      "test\n",
      "validation\n",
      "val loss score is :0.070052073754576\n",
      "val acc score is :0.9794303797468354\n",
      "test\n",
      "test loss score is :0.06279625374383506\n",
      "test acc score is :0.9800237341772152\n"
     ]
    },
    {
     "name": "stderr",
     "output_type": "stream",
     "text": [
      "\r",
      " 84%|████████████████████████████████████████████████████████████████████             | 84/100 [10:37<01:59,  7.49s/it]"
     ]
    },
    {
     "name": "stdout",
     "output_type": "stream",
     "text": [
      "Epoch 84\n",
      "train\n",
      "Using real-time data augmentation.\n",
      "train loss score is :2.8905869578626e-06\n",
      "train acc score is :0.9990409207161125\n",
      "It has been 6.056262493133545 seconds since the loop started\n",
      "test\n",
      "validation\n",
      "val loss score is :0.0701428361672928\n",
      "val acc score is :0.9794303797468354\n",
      "test\n",
      "test loss score is :0.06286518738516138\n",
      "test acc score is :0.9800237341772152\n"
     ]
    },
    {
     "name": "stderr",
     "output_type": "stream",
     "text": [
      "\r",
      " 85%|████████████████████████████████████████████████████████████████████▊            | 85/100 [10:44<01:50,  7.38s/it]"
     ]
    },
    {
     "name": "stdout",
     "output_type": "stream",
     "text": [
      "Epoch 85\n",
      "train\n",
      "Using real-time data augmentation.\n",
      "train loss score is :2.8286830233260645e-06\n",
      "train acc score is :0.9990409207161125\n",
      "It has been 6.494750499725342 seconds since the loop started\n",
      "test\n",
      "validation\n",
      "val loss score is :0.07018879372136509\n",
      "val acc score is :0.9793314873417721\n",
      "test\n",
      "test loss score is :0.06292757931794672\n",
      "test acc score is :0.9800237341772152\n"
     ]
    },
    {
     "name": "stderr",
     "output_type": "stream",
     "text": [
      "\r",
      " 86%|█████████████████████████████████████████████████████████████████████▋           | 86/100 [10:52<01:44,  7.50s/it]"
     ]
    },
    {
     "name": "stdout",
     "output_type": "stream",
     "text": [
      "Epoch 86\n",
      "train\n",
      "Using real-time data augmentation.\n",
      "train loss score is :2.769991839480191e-06\n",
      "train acc score is :0.9990409207161125\n",
      "It has been 5.922239303588867 seconds since the loop started\n",
      "test\n",
      "validation\n",
      "val loss score is :0.07025108004899812\n",
      "val acc score is :0.9794303797468354\n",
      "test\n",
      "test loss score is :0.06299594997739555\n",
      "test acc score is :0.9800237341772152\n"
     ]
    },
    {
     "name": "stderr",
     "output_type": "stream",
     "text": [
      "\r",
      " 87%|██████████████████████████████████████████████████████████████████████▍          | 87/100 [10:59<01:36,  7.45s/it]"
     ]
    },
    {
     "name": "stdout",
     "output_type": "stream",
     "text": [
      "Epoch 87\n",
      "train\n",
      "Using real-time data augmentation.\n",
      "train loss score is :2.7141674329448837e-06\n",
      "train acc score is :0.9990409207161125\n",
      "It has been 6.528388977050781 seconds since the loop started\n",
      "test\n",
      "validation\n",
      "val loss score is :0.07033578847578026\n",
      "val acc score is :0.9794303797468354\n",
      "test\n",
      "test loss score is :0.06306756366723526\n",
      "test acc score is :0.9800237341772152\n"
     ]
    },
    {
     "name": "stderr",
     "output_type": "stream",
     "text": [
      "\r",
      " 88%|███████████████████████████████████████████████████████████████████████▎         | 88/100 [11:07<01:31,  7.60s/it]"
     ]
    },
    {
     "name": "stdout",
     "output_type": "stream",
     "text": [
      "Epoch 88\n",
      "train\n",
      "Using real-time data augmentation.\n",
      "train loss score is :2.6635669209200617e-06\n",
      "train acc score is :0.9990409207161125\n",
      "It has been 6.267492055892944 seconds since the loop started\n",
      "test\n",
      "validation\n",
      "val loss score is :0.0704100598581622\n",
      "val acc score is :0.9792325949367089\n",
      "test\n",
      "test loss score is :0.06312690809145988\n",
      "test acc score is :0.9800237341772152\n"
     ]
    },
    {
     "name": "stderr",
     "output_type": "stream",
     "text": [
      "\r",
      " 89%|████████████████████████████████████████████████████████████████████████         | 89/100 [11:15<01:23,  7.62s/it]"
     ]
    },
    {
     "name": "stdout",
     "output_type": "stream",
     "text": [
      "Epoch 89\n",
      "train\n",
      "Using real-time data augmentation.\n",
      "train loss score is :2.611378591754044e-06\n",
      "train acc score is :0.9990409207161125\n",
      "It has been 6.138687372207642 seconds since the loop started\n",
      "test\n",
      "validation\n",
      "val loss score is :0.07046290421738644\n",
      "val acc score is :0.9792325949367089\n",
      "test\n",
      "test loss score is :0.06319027028665844\n",
      "test acc score is :0.9800237341772152\n"
     ]
    },
    {
     "name": "stderr",
     "output_type": "stream",
     "text": [
      "\r",
      " 90%|████████████████████████████████████████████████████████████████████████▉        | 90/100 [11:22<01:15,  7.59s/it]"
     ]
    },
    {
     "name": "stdout",
     "output_type": "stream",
     "text": [
      "Epoch 90\n",
      "train\n",
      "Using real-time data augmentation.\n",
      "train loss score is :2.5630317838669976e-06\n",
      "train acc score is :0.9990409207161125\n",
      "It has been 6.324063301086426 seconds since the loop started\n",
      "test\n",
      "validation\n",
      "val loss score is :0.07052231772117286\n",
      "val acc score is :0.9792325949367089\n",
      "test\n",
      "test loss score is :0.06325646229849906\n",
      "test acc score is :0.9800237341772152\n"
     ]
    },
    {
     "name": "stderr",
     "output_type": "stream",
     "text": [
      "\r",
      " 91%|█████████████████████████████████████████████████████████████████████████▋       | 91/100 [11:30<01:08,  7.60s/it]"
     ]
    },
    {
     "name": "stdout",
     "output_type": "stream",
     "text": [
      "Epoch 91\n",
      "train\n",
      "Using real-time data augmentation.\n",
      "train loss score is :2.513651212660049e-06\n",
      "train acc score is :0.9990409207161125\n",
      "It has been 5.896870851516724 seconds since the loop started\n",
      "test\n",
      "validation\n",
      "val loss score is :0.07060712896611285\n",
      "val acc score is :0.9792325949367089\n",
      "test\n",
      "test loss score is :0.06332236541095103\n",
      "test acc score is :0.9800237341772152\n"
     ]
    },
    {
     "name": "stderr",
     "output_type": "stream",
     "text": [
      "\r",
      " 92%|██████████████████████████████████████████████████████████████████████████▌      | 92/100 [11:37<00:59,  7.45s/it]"
     ]
    },
    {
     "name": "stdout",
     "output_type": "stream",
     "text": [
      "Epoch 92\n",
      "train\n",
      "Using real-time data augmentation.\n",
      "train loss score is :2.468064135004213e-06\n",
      "train acc score is :0.9990409207161125\n",
      "It has been 6.130873441696167 seconds since the loop started\n",
      "test\n",
      "validation\n",
      "val loss score is :0.07065550792569875\n",
      "val acc score is :0.9793314873417721\n",
      "test\n",
      "test loss score is :0.06337883180893841\n",
      "test acc score is :0.9800237341772152\n"
     ]
    },
    {
     "name": "stderr",
     "output_type": "stream",
     "text": [
      "\r",
      " 93%|███████████████████████████████████████████████████████████████████████████▎     | 93/100 [11:44<00:52,  7.43s/it]"
     ]
    },
    {
     "name": "stdout",
     "output_type": "stream",
     "text": [
      "Epoch 93\n",
      "train\n",
      "Using real-time data augmentation.\n",
      "train loss score is :2.426200991764112e-06\n",
      "train acc score is :0.9990409207161125\n",
      "It has been 5.598181247711182 seconds since the loop started\n",
      "test\n",
      "validation\n",
      "val loss score is :0.07071718022370702\n",
      "val acc score is :0.9793314873417721\n",
      "test\n",
      "test loss score is :0.06344293255609315\n",
      "test acc score is :0.9800237341772152\n"
     ]
    },
    {
     "name": "stderr",
     "output_type": "stream",
     "text": [
      "\r",
      " 94%|████████████████████████████████████████████████████████████████████████████▏    | 94/100 [11:51<00:43,  7.24s/it]"
     ]
    },
    {
     "name": "stdout",
     "output_type": "stream",
     "text": [
      "Epoch 94\n",
      "train\n",
      "Using real-time data augmentation.\n",
      "train loss score is :2.387490704205573e-06\n",
      "train acc score is :0.9990409207161125\n",
      "It has been 5.466223478317261 seconds since the loop started\n",
      "test\n",
      "validation\n",
      "val loss score is :0.07077651602445707\n",
      "val acc score is :0.9793314873417721\n",
      "test\n",
      "test loss score is :0.0635033085507176\n",
      "test acc score is :0.9800237341772152\n"
     ]
    },
    {
     "name": "stderr",
     "output_type": "stream",
     "text": [
      "\r",
      " 95%|████████████████████████████████████████████████████████████████████████████▉    | 95/100 [11:58<00:35,  7.11s/it]"
     ]
    },
    {
     "name": "stdout",
     "output_type": "stream",
     "text": [
      "Epoch 95\n",
      "train\n",
      "Using real-time data augmentation.\n",
      "train loss score is :2.3421563210970357e-06\n",
      "train acc score is :0.9990409207161125\n",
      "It has been 5.729804754257202 seconds since the loop started\n",
      "test\n",
      "validation\n",
      "val loss score is :0.0708410206001072\n",
      "val acc score is :0.9793314873417721\n",
      "test\n",
      "test loss score is :0.06355623826778568\n",
      "test acc score is :0.9800237341772152\n"
     ]
    },
    {
     "name": "stderr",
     "output_type": "stream",
     "text": [
      "\r",
      " 96%|█████████████████████████████████████████████████████████████████████████████▊   | 96/100 [12:05<00:28,  7.09s/it]"
     ]
    },
    {
     "name": "stdout",
     "output_type": "stream",
     "text": [
      "Epoch 96\n",
      "train\n",
      "Using real-time data augmentation.\n",
      "train loss score is :2.301922925751402e-06\n",
      "train acc score is :0.9990409207161125\n",
      "It has been 6.2712414264678955 seconds since the loop started\n",
      "test\n",
      "validation\n",
      "val loss score is :0.07089373227572912\n",
      "val acc score is :0.9793314873417721\n",
      "test\n",
      "test loss score is :0.06360937197677567\n",
      "test acc score is :0.9800237341772152\n"
     ]
    },
    {
     "name": "stderr",
     "output_type": "stream",
     "text": [
      "\r",
      " 97%|██████████████████████████████████████████████████████████████████████████████▌  | 97/100 [12:13<00:21,  7.28s/it]"
     ]
    },
    {
     "name": "stdout",
     "output_type": "stream",
     "text": [
      "Epoch 97\n",
      "train\n",
      "Using real-time data augmentation.\n",
      "train loss score is :2.2657956795701303e-06\n",
      "train acc score is :0.9990409207161125\n",
      "It has been 6.147311449050903 seconds since the loop started\n",
      "test\n",
      "validation\n",
      "val loss score is :0.07095315205305726\n",
      "val acc score is :0.9792325949367089\n",
      "test\n",
      "test loss score is :0.06367127327616529\n",
      "test acc score is :0.9800237341772152\n"
     ]
    },
    {
     "name": "stderr",
     "output_type": "stream",
     "text": [
      "\r",
      " 98%|███████████████████████████████████████████████████████████████████████████████▍ | 98/100 [12:20<00:14,  7.33s/it]"
     ]
    },
    {
     "name": "stdout",
     "output_type": "stream",
     "text": [
      "Epoch 98\n",
      "train\n",
      "Using real-time data augmentation.\n",
      "train loss score is :2.228564225889907e-06\n",
      "train acc score is :0.9990409207161125\n",
      "It has been 6.2463788986206055 seconds since the loop started\n",
      "test\n",
      "validation\n",
      "val loss score is :0.0710086842501992\n",
      "val acc score is :0.9792325949367089\n",
      "test\n",
      "test loss score is :0.06372460138943928\n",
      "test acc score is :0.9800237341772152\n"
     ]
    },
    {
     "name": "stderr",
     "output_type": "stream",
     "text": [
      "\r",
      " 99%|████████████████████████████████████████████████████████████████████████████████▏| 99/100 [12:28<00:07,  7.40s/it]"
     ]
    },
    {
     "name": "stdout",
     "output_type": "stream",
     "text": [
      "Epoch 99\n",
      "train\n",
      "Using real-time data augmentation.\n",
      "train loss score is :2.192532563562056e-06\n",
      "train acc score is :0.9990409207161125\n",
      "It has been 6.063628911972046 seconds since the loop started\n",
      "test\n",
      "validation\n",
      "val loss score is :0.07106334708737953\n",
      "val acc score is :0.9792325949367089\n",
      "test\n",
      "test loss score is :0.06377962814477038\n",
      "test acc score is :0.9800237341772152\n"
     ]
    },
    {
     "name": "stderr",
     "output_type": "stream",
     "text": [
      "100%|████████████████████████████████████████████████████████████████████████████████| 100/100 [12:35<00:00,  7.42s/it]\n"
     ]
    }
   ],
   "source": [
    "input_tensors = [all_model[0].inputs[0], # input data\n",
    "                 all_model[0].sample_weights[0], # how much to weight each sample by\n",
    "                 all_model[0].targets[0], # labels\n",
    "                 K.learning_phase(), # train or test mode\n",
    "                 all_model[1].inputs[0], # input data\n",
    "                 all_model[1].sample_weights[0], # how much to weight each sample by\n",
    "                 all_model[1].targets[0], # labels\n",
    "                 all_model[2].inputs[0], # input data\n",
    "                 all_model[2].sample_weights[0], # how much to weight each sample by\n",
    "                 all_model[2].targets[0], # labels\n",
    "                ]\n",
    "\n",
    "\n",
    "minlos = K.argmin(losses)\n",
    "\n",
    "grr=[]\n",
    "for x in gr:\n",
    "    for y in x:\n",
    "        grr.append(y)\n",
    "\n",
    "upd_test= K.function(inputs=input_tensors, outputs=[ losses[0], losses[1], losses[2], minlos, prediction[0], prediction[1], prediction[2] ])\n",
    "\n",
    "\n",
    "grad_best=[]\n",
    "grad_non0 = []\n",
    "grad_non1 = []\n",
    "\n",
    "\n",
    "weig_best=[]\n",
    "weig_non0 = []\n",
    "weig_non1 = []\n",
    "\n",
    "xweig_best=[]\n",
    "xweig_non0 = []\n",
    "xweig_non1 = []\n",
    "\n",
    "\n",
    "\n",
    "\n",
    "for i in range(len(gr[0])):\n",
    "    gr_ck=tf.concat([gr[0][i],gr[1][i], gr[2][i]],0)\n",
    "    newshape = (3, ) + (tuple(wr[0][i].shape))\n",
    "\n",
    "    \n",
    "    gr_ck2=tf.reshape(gr_ck, newshape)\n",
    "    \n",
    "    bb = gr_ck2[minlos]\n",
    "    grad_best.append(bb)\n",
    "    \n",
    "    nbb0 = gr_ck2[0:minlos]                       #[0,enk) U (enk,] aralıklarının birleşimi bize nonbesti verecek\n",
    "    nbb1 = gr_ck2[minlos+1:]                      #[0,enk) U (enk,] aralıklarının birleşimi bize nonbesti verecek\n",
    "    nbc = tf.concat([nbb0,nbb1], 0)    \n",
    "    nbc = tf.reshape(nbc, (-1,))\n",
    "    newshape2 = (2, ) + (tuple(wr[0][i].shape))\n",
    "    \n",
    "    nbc2 = tf.reshape(nbc, newshape2) \n",
    "    nb0 = nbc2[0]\n",
    "    nb1 = nbc2[1]\n",
    "    grad_non0.append(nb0)\n",
    "    grad_non1.append(nb1)\n",
    "    \n",
    "\n",
    "    wr_ck=tf.concat([wr[0][i],wr[1][i], wr[2][i]],0)\n",
    "    \n",
    "    newshape = (3, ) + (tuple(wr[0][i].shape))\n",
    "    wr_ck2=tf.reshape(wr_ck, newshape) \n",
    "    bb2 = wr_ck2[minlos]\n",
    "    weig_best.append(bb2)\n",
    "    \n",
    "    #wb = wr_ck[minlos]\n",
    "    wnbb0 = wr_ck2[0:minlos]                       #[0,enk) U (enk,] aralıklarının birleşimi bize nonbesti verecek\n",
    "    wnbb1 = wr_ck2[minlos+1:]                      #[0,enk) U (enk,] aralıklarının birleşimi bize nonbesti verecek\n",
    "    wnbc = tf.concat([wnbb0,wnbb1],0)    \n",
    "    wnbc = tf.reshape(wnbc, (-1,))\n",
    "    newshape2 = (2, ) + (tuple(wr[0][i].shape))\n",
    "    \n",
    "    wnbc2 =tf.reshape(wnbc, newshape2)\n",
    "    wnb0 = wnbc2[0]\n",
    "    wnb1 = wnbc2[1]\n",
    "    weig_non0.append(wnb0)\n",
    "    weig_non1.append(wnb1)\n",
    "    \n",
    "    if i<len(xwr[0]):\n",
    "        print (i)\n",
    "        xwr_ck=tf.concat([xwr[0][i],xwr[1][i], xwr[2][i]], 0)\n",
    "\n",
    "        newshape = (3, ) + (tuple(xwr[0][i].shape))\n",
    "        \n",
    "        xwr_ck2=tf.reshape(xwr_ck, newshape)  \n",
    "        xbb2 = xwr_ck2[minlos]\n",
    "        xweig_best.append(xbb2)\n",
    "\n",
    "        #wb = wr_ck[minlos]\n",
    "        xwnbb0 = xwr_ck2[0:minlos]                       #[0,enk) U (enk,] aralıklarının birleşimi bize nonbesti verecek\n",
    "        xwnbb1 = xwr_ck2[minlos+1:]                      #[0,enk) U (enk,] aralıklarının birleşimi bize nonbesti verecek\n",
    "        xwnbc = tf.concat([xwnbb0,xwnbb1], 0)    \n",
    "        \n",
    "        xwnbc = tf.reshape(xwnbc, (-1,))\n",
    "        newshape2 = (2, ) + (tuple(xwr[0][i].shape))\n",
    "         \n",
    "        xwnbc2 = tf.reshape(xwnbc, newshape2) \n",
    "        xwnb0 = xwnbc2[0]\n",
    "        xwnb1 = xwnbc2[1]\n",
    "        xweig_non0.append(xwnb0)\n",
    "        xweig_non1.append(xwnb1)\n",
    "    else:\n",
    "        pass\n",
    "\n",
    "    \n",
    "los=tf.stack([losses[0], losses[1], losses[2]])\n",
    "\n",
    "newshape = (3, )\n",
    "los2=tf.reshape(los, newshape) \n",
    "losbest = los2[minlos]\n",
    "\n",
    "#wb = wr_ck[minlos]\n",
    "los_0 = los2[0:minlos]                       #[0,enk) U (enk,] aralıklarının birleşimi bize nonbesti verecek\n",
    "los_1 = los2[minlos+1:]                      #[0,enk) U (enk,] aralıklarının birleşimi bize nonbesti verecek\n",
    "loswnbc = tf.concat([los_0,los_1],0)    \n",
    "loswnbc = tf.reshape(loswnbc,(-1,))\n",
    "newshape2 = (2, )\n",
    "\n",
    "loswnbc2 = tf.reshape(loswnbc, newshape2)\n",
    "losss0 = loswnbc2[0]\n",
    "losss1 = loswnbc2[1]\n",
    "\n",
    "vb = [tf.Variable(tf.zeros(t.shape, dtype=tf.float32, name='m_best')) for t in weig_best]\n",
    "vn0 = [tf.Variable(tf.zeros(t.shape, dtype=tf.float32, name='m_0')) for t in weig_non0]\n",
    "vn1 = [tf.Variable(tf.zeros(t.shape, dtype=tf.float32, name='m_1')) for t in weig_non1]\n",
    "\n",
    "step_size = 0.1\n",
    "bet = 0.9\n",
    "\n",
    "upd2=[]\n",
    "\n",
    "for vx, best, gbest,  param_i, in zip(vb, weig_best, grad_best, wr[2]):\n",
    "    _v = vx * bet\n",
    "    _v = _v - step_size * gbest\n",
    "    #_v = tf.cast(_v, tf.float32)\n",
    "    upd2.extend([tf.assign(vx, _v)])\n",
    "    upd2.extend([tf.assign(param_i, param_i + _v)])\n",
    "\n",
    "\n",
    "upd2.extend([tf.assign(param_i, v)\n",
    "        for param_i, v in zip(xwr[2], xweig_best)]\n",
    "    )    \n",
    "    \n",
    "    \n",
    "upd_bb2= K.function(inputs=input_tensors, outputs=[ losses[0], losses[1], losses[2], minlos, prediction[0], prediction[1], prediction[2] ], updates=upd2)\n",
    "\n",
    "\n",
    "\n",
    "\n",
    "lossepoch=[]\n",
    "lossepoch_test=[]\n",
    "lossx=[]\n",
    "acctra=[]\n",
    "loss_test=[]\n",
    "acc_test=[]\n",
    "skip=[]\n",
    "\n",
    "\n",
    "loss_val=[]\n",
    "acc_val=[]\n",
    "lossepoch_val=[]\n",
    "\n",
    "   \n",
    "for f in tqdm(range(epochs)):\n",
    "    program_starts = time.time()\n",
    "    tr1=[]\n",
    "    tr2=[]\n",
    "    res1=[]\n",
    "    res2=[]\n",
    "    res3=[]\n",
    "    res4=[]\n",
    "    print('Epoch', f)\n",
    "    print ('train')\n",
    "    \n",
    "    print('Using real-time data augmentation.')\n",
    "    # This will do preprocessing and realtime data augmentation:\n",
    "\n",
    "    batches = 0\n",
    "    for x_batch, y_batch in ImageDataGenerator().flow(x_train, y_train, batch_size=batch_size):\n",
    "        K.set_learning_phase(1)\n",
    "        inputs = [x_batch, # X\n",
    "                  np.ones(y_batch.shape[0]), # sample weights\n",
    "                  y_batch, # y\n",
    "                  1, # learning phase in Train mode\n",
    "                  x_batch, # X\n",
    "                  np.ones(y_batch.shape[0]), # sample weights\n",
    "                  y_batch, # y\n",
    "                  x_batch, # X\n",
    "                  np.ones(y_batch.shape[0]), # sample weights\n",
    "                  y_batch, # y\n",
    "                 ]\n",
    "        ll = upd_bb2(inputs)\n",
    "        yhat=ll[6]\n",
    "        #print (accuracy_score(np.argmax(y_batch,axis=1), np.argmax(yhat,axis=1)))\n",
    "        #print (ll[:4])\n",
    "        lossepoch.append(ll[2])\n",
    "        tr1.append(ll[2])\n",
    "        tr2.append(accuracy_score(np.argmax(y_batch,axis=1), np.argmax(yhat,axis=1)))\n",
    "        skip.append(ll[3])\n",
    "        batches += 1\n",
    "        if batches > len(x_train) / batch_size:\n",
    "            # we need to break the loop by hand because\n",
    "            # the generator loops indefinitely\n",
    "            break\n",
    "    m=(len(x_train) / batch_size)-int((len(x_train) / batch_size))\n",
    "    tr1[-1]*=m\n",
    "    tr2[-1]*=m\n",
    "    lossx.append(np.mean(tr1))\n",
    "    acctra.append(np.mean(tr2))\n",
    "    print ('train loss score is :'+str(np.mean(tr1)))\n",
    "    print ('train acc score is :'+str(np.mean(tr2)))\n",
    "    now = time.time()\n",
    "    print(\"It has been {0} seconds since the loop started\".format(now - program_starts))\n",
    "    print ('test')\n",
    "    batchesx = 0\n",
    "    \n",
    "    \n",
    "    \n",
    "    \n",
    "    print ('validation')\n",
    "    batchesx = 0\n",
    "    for x_batch, y_batch in ImageDataGenerator().flow(x_val, y_val, batch_size=batch_size):\n",
    "        K.set_learning_phase(0)\n",
    "        inputs = [x_batch, # X\n",
    "                  np.ones(y_batch.shape[0]), # sample weights\n",
    "                  y_batch, # y\n",
    "                  1, # learning phase in VAl mode\n",
    "                  x_batch, # X\n",
    "                  np.ones(y_batch.shape[0]), # sample weights\n",
    "                  y_batch, # y\n",
    "                  x_batch, # X\n",
    "                  np.ones(y_batch.shape[0]), # sample weights\n",
    "                  y_batch, # y\n",
    "                 ]\n",
    "        ll = upd_test(inputs)\n",
    "        yhat=ll[6]\n",
    "        #print (accuracy_score(np.argmax(y_batch,axis=1), np.argmax(yhat,axis=1)))\n",
    "        #print (ll[:3])\n",
    "        lossepoch_val.append(ll[2])\n",
    "        res3.append(ll[2])\n",
    "        res4.append(accuracy_score(np.argmax(y_batch,axis=1), np.argmax(yhat,axis=1)))\n",
    "        batchesx += 1\n",
    "        if batchesx >= len(x_val) / batch_size:\n",
    "            break\n",
    "    m=(len(x_val) / batch_size)-int((len(x_val) / batch_size))\n",
    "    res3[-1]*=m\n",
    "    res4[-1]*=m\n",
    "    loss_val.append(np.mean(res3))\n",
    "    acc_val.append(np.mean(res4))\n",
    "    print ('val loss score is :'+str(np.mean(res3)))\n",
    "    print ('val acc score is :'+str(np.mean(res4)))\n",
    "    print ('test')\n",
    "    batchesx = 0\n",
    "    for x_batch, y_batch in ImageDataGenerator().flow(x_test, y_test, batch_size=batch_size):\n",
    "        K.set_learning_phase(0)\n",
    "        inputs = [x_batch, # X\n",
    "                  np.ones(y_batch.shape[0]), # sample weights\n",
    "                  y_batch, # y\n",
    "                  1, # learning phase in TEST mode\n",
    "                  x_batch, # X\n",
    "                  np.ones(y_batch.shape[0]), # sample weights\n",
    "                  y_batch, # y\n",
    "                  x_batch, # X\n",
    "                  np.ones(y_batch.shape[0]), # sample weights\n",
    "                  y_batch, # y\n",
    "                 ]\n",
    "        ll = upd_test(inputs)\n",
    "        yhat=ll[6]\n",
    "        #print (accuracy_score(np.argmax(y_batch,axis=1), np.argmax(yhat,axis=1)))\n",
    "        #print (ll[:3])\n",
    "        lossepoch_test.append(ll[2])\n",
    "        res1.append(ll[2])\n",
    "        res2.append(accuracy_score(np.argmax(y_batch,axis=1), np.argmax(yhat,axis=1)))\n",
    "        batchesx += 1\n",
    "        if batchesx >= len(x_test) / batch_size:\n",
    "            break\n",
    "    m=(len(x_test) / batch_size)-int((len(x_test) / batch_size))\n",
    "    res1[-1]*=m\n",
    "    res2[-1]*=m\n",
    "    loss_test.append(np.mean(res1))\n",
    "    acc_test.append(np.mean(res2))\n",
    "    print ('test loss score is :'+str(np.mean(res1)))\n",
    "    print ('test acc score is :'+str(np.mean(res2)))\n",
    "\n"
   ]
  },
  {
   "cell_type": "code",
   "execution_count": 12,
   "metadata": {},
   "outputs": [],
   "source": [
    "#K.clear_session()"
   ]
  },
  {
   "cell_type": "code",
   "execution_count": 13,
   "metadata": {},
   "outputs": [
    {
     "name": "stdout",
     "output_type": "stream",
     "text": [
      "0.9800237341772152 68\n",
      "0.9794303797468354 79\n",
      "0.03833508815121236 2\n",
      "0.04800887546749621 7\n"
     ]
    }
   ],
   "source": [
    "print (np.max(acc_test), np.argmax(acc_test))\n",
    "print (np.max(acc_val), np.argmax(acc_val))\n",
    "print (np.min(loss_test), np.argmin(loss_test))\n",
    "print (np.min(loss_val), np.argmin(loss_val))\n"
   ]
  },
  {
   "cell_type": "code",
   "execution_count": 14,
   "metadata": {},
   "outputs": [],
   "source": [
    "np.savetxt(\"CM_Mnist_lossepoch.csv\", lossepoch, delimiter=\",\", fmt='%s')\n",
    "np.savetxt(\"CM_Mnist_lossepoch_test.csv\", lossepoch_test, delimiter=\",\", fmt='%s')\n",
    "np.savetxt(\"CM_Mnist_loss_tra.csv\", lossx, delimiter=\",\", fmt='%s')\n",
    "np.savetxt(\"CM_Mnist_skip.csv\", skip, delimiter=\",\", fmt='%s')\n",
    "np.savetxt(\"CM_Mnist_acc_tra.csv\", acctra, delimiter=\",\", fmt='%s')\n",
    "np.savetxt(\"CM_Mnist_loss_test.csv\", loss_test, delimiter=\",\", fmt='%s')\n",
    "np.savetxt(\"CM_Mnist_acc_test.csv\", acc_test, delimiter=\",\", fmt='%s')"
   ]
  },
  {
   "cell_type": "code",
   "execution_count": null,
   "metadata": {},
   "outputs": [],
   "source": []
  }
 ],
 "metadata": {
  "kernelspec": {
   "display_name": "Python 2",
   "language": "python",
   "name": "python2"
  },
  "language_info": {
   "codemirror_mode": {
    "name": "ipython",
    "version": 2
   },
   "file_extension": ".py",
   "mimetype": "text/x-python",
   "name": "python",
   "nbconvert_exporter": "python",
   "pygments_lexer": "ipython2",
   "version": "2.7.16"
  }
 },
 "nbformat": 4,
 "nbformat_minor": 2
}
