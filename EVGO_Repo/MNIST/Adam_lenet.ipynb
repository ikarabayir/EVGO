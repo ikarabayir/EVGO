{
 "cells": [
  {
   "cell_type": "code",
   "execution_count": 1,
   "metadata": {},
   "outputs": [
    {
     "name": "stderr",
     "output_type": "stream",
     "text": [
      "Using TensorFlow backend.\n"
     ]
    }
   ],
   "source": [
    "\n",
    "from __future__ import division\n",
    "from __future__ import print_function\n",
    "\n",
    "seed_value= 0\n",
    "\n",
    "import os\n",
    "os.environ['PYTHONHASHSEED']=str(seed_value)\n",
    "import random\n",
    "random.seed(seed_value)\n",
    "import numpy as np\n",
    "np.random.seed(seed_value)\n",
    "import tensorflow as tf\n",
    "tf.set_random_seed(seed_value)\n",
    "from keras import backend as K\n",
    "import os\n",
    "import keras\n",
    "import pickle\n",
    "import os.path\n",
    "import matplotlib.pyplot as plt\n",
    "\n",
    "import keras\n",
    "from keras.datasets import mnist\n",
    "from keras.models import Sequential, Model\n",
    "from keras.layers import Dense, Dropout, Flatten, Input\n",
    "from keras.layers import Conv2D, MaxPooling2D, BatchNormalization, AveragePooling2D\n",
    "from keras.optimizers import Adam\n",
    "from keras.callbacks import ModelCheckpoint\n",
    "from keras.callbacks import LambdaCallback\n",
    "from keras.callbacks import TensorBoard\n",
    "from sklearn.preprocessing import LabelBinarizer\n",
    "from keras import initializers\n",
    "import keras.backend as K\n",
    "from keras.preprocessing.image import ImageDataGenerator\n",
    "from sklearn.metrics import accuracy_score\n",
    "import time\n",
    "from tqdm import tqdm\n",
    "\n",
    "import six.moves.cPickle as pickle\n",
    "import gzip\n",
    "import os\n",
    "import sys\n",
    "import timeit"
   ]
  },
  {
   "cell_type": "code",
   "execution_count": 2,
   "metadata": {},
   "outputs": [],
   "source": [
    "dataset='mnist.pkl.gz'\n",
    "batch_size = 128\n",
    "num_classes = 10\n",
    "epochs = 100\n",
    "lr=0.001"
   ]
  },
  {
   "cell_type": "code",
   "execution_count": 3,
   "metadata": {},
   "outputs": [
    {
     "name": "stdout",
     "output_type": "stream",
     "text": [
      "... loading data\n"
     ]
    }
   ],
   "source": [
    "print('... loading data')\n",
    "\n",
    "# Load the dataset\n",
    "with gzip.open(dataset, 'rb') as f:\n",
    "    try:\n",
    "        train_set, valid_set, test_set = pickle.load(f, encoding='latin1')\n",
    "    except:\n",
    "        train_set, valid_set, test_set = pickle.load(f)"
   ]
  },
  {
   "cell_type": "code",
   "execution_count": 4,
   "metadata": {},
   "outputs": [
    {
     "name": "stdout",
     "output_type": "stream",
     "text": [
      "x_train shape: (50000, 28, 28, 1)\n",
      "50000 train samples\n",
      "10000 validation samples\n",
      "10000 test samples\n"
     ]
    }
   ],
   "source": [
    "(x_train, y_train) = train_set\n",
    "(x_test, y_test) = test_set\n",
    "(x_val, y_val) = valid_set\n",
    "img_rows, img_cols = 28, 28\n",
    "\n",
    "if K.image_data_format() == 'channels_first':\n",
    "    x_train = x_train.reshape(x_train.shape[0], 1, img_rows, img_cols)\n",
    "    x_test = x_test.reshape(x_test.shape[0], 1, img_rows, img_cols)\n",
    "    x_val = x_val.reshape(x_val.shape[0], 1, img_rows, img_cols)\n",
    "    input_shape = (1, img_rows, img_cols)\n",
    "else:\n",
    "    x_train = x_train.reshape(x_train.shape[0], img_rows, img_cols, 1)\n",
    "    x_test = x_test.reshape(x_test.shape[0], img_rows, img_cols, 1)\n",
    "    x_val = x_val.reshape(x_val.shape[0], img_rows, img_cols, 1)\n",
    "    input_shape = (img_rows, img_cols, 1)\n",
    "\n",
    "x_train = x_train.astype('float32')\n",
    "x_val = x_val.astype('float32')\n",
    "x_test = x_test.astype('float32')\n",
    "\n",
    "print('x_train shape:', x_train.shape)\n",
    "print(x_train.shape[0], 'train samples')\n",
    "print(x_val.shape[0], 'validation samples')\n",
    "print(x_test.shape[0], 'test samples')\n",
    "\n",
    "# convert class vectors to binary class matrices\n",
    "y_train = keras.utils.to_categorical(y_train, num_classes)\n",
    "y_val = keras.utils.to_categorical(y_val, num_classes)\n",
    "y_test = keras.utils.to_categorical(y_test, num_classes)"
   ]
  },
  {
   "cell_type": "code",
   "execution_count": 5,
   "metadata": {},
   "outputs": [
    {
     "data": {
      "text/plain": [
       "((50000, 28, 28, 1),\n",
       " (50000, 10),\n",
       " (10000, 28, 28, 1),\n",
       " (10000, 10),\n",
       " (10000, 28, 28, 1),\n",
       " (10000, 10))"
      ]
     },
     "execution_count": 5,
     "metadata": {},
     "output_type": "execute_result"
    }
   ],
   "source": [
    "x_train.shape, y_train.shape, x_test.shape, y_test.shape, x_val.shape, y_val.shape"
   ]
  },
  {
   "cell_type": "code",
   "execution_count": 6,
   "metadata": {},
   "outputs": [
    {
     "data": {
      "text/plain": [
       "((50000, 32, 32, 1),\n",
       " (50000, 10),\n",
       " (10000, 32, 32, 1),\n",
       " (10000, 10),\n",
       " (10000, 32, 32, 1),\n",
       " (10000, 10))"
      ]
     },
     "execution_count": 6,
     "metadata": {},
     "output_type": "execute_result"
    }
   ],
   "source": [
    "x_train = np.pad(x_train, ((0,0),(2,2),(2,2),(0,0)), 'constant')\n",
    "x_test = np.pad(x_test, ((0,0),(2,2),(2,2),(0,0)), 'constant')\n",
    "x_val = np.pad(x_val, ((0,0),(2,2),(2,2),(0,0)), 'constant')\n",
    "x_train.shape, y_train.shape, x_test.shape, y_test.shape, x_val.shape, y_val.shape"
   ]
  },
  {
   "cell_type": "code",
   "execution_count": 7,
   "metadata": {},
   "outputs": [],
   "source": [
    "input_shape = (32, 32, 1)"
   ]
  },
  {
   "cell_type": "code",
   "execution_count": 8,
   "metadata": {},
   "outputs": [],
   "source": [
    "def build_model(setseed):\n",
    "    \"\"\"\n",
    "    Builds test Keras model for LeNet MNIST\n",
    "    :param loss (str): Type of loss - must be one of Keras accepted keras losses\n",
    "    :return: Keras dense model of predefined structure\n",
    "    \"\"\"\n",
    "    input = Input(shape=input_shape)\n",
    "    conv1 = Conv2D(6, (3,3), activation='relu', kernel_initializer=initializers.lecun_uniform(seed = setseed))(input)\n",
    "    avg1 = AveragePooling2D()(conv1)\n",
    "    conv2 = Conv2D(16, (3,3), activation='relu', kernel_initializer=initializers.lecun_uniform(seed = setseed))(avg1)\n",
    "    avg2 = AveragePooling2D()(conv2)\n",
    "    flat= Flatten()(avg2)\n",
    "    dens1=Dense(units=120, activation='relu')(flat)\n",
    "    dens2=Dense(units=84, activation='relu')(dens1)\n",
    "    probs=Dense(num_classes, activation='softmax')(dens2)\n",
    "    \n",
    "    model = Model(input=input, output=probs)\n",
    "    model.compile(optimizer='sgd', loss='categorical_crossentropy', metrics = ['accuracy'])\n",
    "\n",
    "    return model\n",
    "\n"
   ]
  },
  {
   "cell_type": "code",
   "execution_count": 9,
   "metadata": {},
   "outputs": [
    {
     "name": "stderr",
     "output_type": "stream",
     "text": [
      "C:\\Users\\ikarabayir\\AppData\\Local\\Continuum\\anaconda2\\envs\\tf\\lib\\site-packages\\ipykernel_launcher.py:17: UserWarning: Update your `Model` call to the Keras 2 API: `Model(inputs=Tensor(\"in..., outputs=Tensor(\"de...)`\n"
     ]
    }
   ],
   "source": [
    "all_model = [None,None,None]\n",
    "losses = [None,None,None]\n",
    "\n",
    "prediction=[]\n",
    "\n",
    "all_score =[0,0,0]\n",
    "gr=[]\n",
    "wr=[]\n",
    "xwr=[]\n",
    "\n",
    "for i in range(3):\n",
    "    np.random.seed(25+i)\n",
    "    model = build_model(i+2)\n",
    "    all_model[i]=model\n",
    "    \n",
    "for i in range(3):    \n",
    "    weights = all_model[i].trainable_weights # weight tensors\n",
    "    weights = [weight for weight in weights] # filter down weights tensors to only ones which are trainable\n",
    "    gradients = all_model[i].optimizer.get_gradients(all_model[i].total_loss, weights) # gradient tensors\n",
    "    gr.append(gradients)\n",
    "    wr.append(weights)\n",
    "    xweights = all_model[i].non_trainable_weights # weight tensors\n",
    "    xweights = [weight for weight in xweights] # filter down weights tensors to only ones which are trainable\n",
    "    xwr.append(xweights)\n",
    "\n",
    "    losses[i]=all_model[i].total_loss\n",
    "    prediction.append(all_model[i].output)"
   ]
  },
  {
   "cell_type": "code",
   "execution_count": 10,
   "metadata": {},
   "outputs": [
    {
     "name": "stdout",
     "output_type": "stream",
     "text": [
      "_________________________________________________________________\n",
      "Layer (type)                 Output Shape              Param #   \n",
      "=================================================================\n",
      "input_3 (InputLayer)         (None, 32, 32, 1)         0         \n",
      "_________________________________________________________________\n",
      "conv2d_5 (Conv2D)            (None, 30, 30, 6)         60        \n",
      "_________________________________________________________________\n",
      "average_pooling2d_5 (Average (None, 15, 15, 6)         0         \n",
      "_________________________________________________________________\n",
      "conv2d_6 (Conv2D)            (None, 13, 13, 16)        880       \n",
      "_________________________________________________________________\n",
      "average_pooling2d_6 (Average (None, 6, 6, 16)          0         \n",
      "_________________________________________________________________\n",
      "flatten_3 (Flatten)          (None, 576)               0         \n",
      "_________________________________________________________________\n",
      "dense_7 (Dense)              (None, 120)               69240     \n",
      "_________________________________________________________________\n",
      "dense_8 (Dense)              (None, 84)                10164     \n",
      "_________________________________________________________________\n",
      "dense_9 (Dense)              (None, 10)                850       \n",
      "=================================================================\n",
      "Total params: 81,194\n",
      "Trainable params: 81,194\n",
      "Non-trainable params: 0\n",
      "_________________________________________________________________\n"
     ]
    }
   ],
   "source": [
    "model.summary()"
   ]
  },
  {
   "cell_type": "code",
   "execution_count": 11,
   "metadata": {
    "scrolled": true
   },
   "outputs": [
    {
     "name": "stderr",
     "output_type": "stream",
     "text": [
      "\r",
      "  0%|                                                                                          | 0/100 [00:00<?, ?it/s]"
     ]
    },
    {
     "name": "stdout",
     "output_type": "stream",
     "text": [
      "Epoch 0\n",
      "train\n",
      "Using real-time data augmentation.\n",
      "train loss score is :0.4119890721090843\n",
      "train acc score is :0.8803348785166241\n",
      "It has been 10.404222011566162 seconds since the loop started\n",
      "test\n",
      "validation\n",
      "val loss score is :0.14151050792889128\n",
      "val acc score is :0.9492681962025317\n",
      "test\n",
      "test loss score is :0.1403874000888082\n",
      "test acc score is :0.9471914556962026\n"
     ]
    },
    {
     "name": "stderr",
     "output_type": "stream",
     "text": [
      "\r",
      "  1%|▊                                                                                 | 1/100 [00:11<19:26, 11.79s/it]"
     ]
    },
    {
     "name": "stdout",
     "output_type": "stream",
     "text": [
      "Epoch 1\n",
      "train\n",
      "Using real-time data augmentation.\n",
      "train loss score is :0.11734235889809516\n",
      "train acc score is :0.9642543158567775\n",
      "It has been 6.482558965682983 seconds since the loop started\n",
      "test\n",
      "validation\n",
      "val loss score is :0.0867842290479737\n",
      "val acc score is :0.9641020569620253\n",
      "test\n",
      "test loss score is :0.0793728747263645\n",
      "test acc score is :0.9649920886075949\n"
     ]
    },
    {
     "name": "stderr",
     "output_type": "stream",
     "text": [
      "\r",
      "  2%|█▋                                                                                | 2/100 [00:19<17:14, 10.56s/it]"
     ]
    },
    {
     "name": "stdout",
     "output_type": "stream",
     "text": [
      "Epoch 2\n",
      "train\n",
      "Using real-time data augmentation.\n",
      "train loss score is :0.0812507299015589\n",
      "train acc score is :0.9745444373401535\n",
      "It has been 6.520399570465088 seconds since the loop started\n",
      "test\n",
      "validation\n",
      "val loss score is :0.08544315810940123\n",
      "val acc score is :0.9642009493670886\n",
      "test\n",
      "test loss score is :0.07253378327888778\n",
      "test acc score is :0.966376582278481\n"
     ]
    },
    {
     "name": "stderr",
     "output_type": "stream",
     "text": [
      "\r",
      "  3%|██▍                                                                               | 3/100 [00:27<15:44,  9.74s/it]"
     ]
    },
    {
     "name": "stdout",
     "output_type": "stream",
     "text": [
      "Epoch 3\n",
      "train\n",
      "Using real-time data augmentation.\n",
      "train loss score is :0.06655138211153314\n",
      "train acc score is :0.978240888746803\n",
      "It has been 6.201747179031372 seconds since the loop started\n",
      "test\n",
      "validation\n",
      "val loss score is :0.0815233034199646\n",
      "val acc score is :0.9642998417721519\n",
      "test\n",
      "test loss score is :0.07064746880220084\n",
      "test acc score is :0.9664754746835443\n"
     ]
    },
    {
     "name": "stderr",
     "output_type": "stream",
     "text": [
      "\r",
      "  4%|███▎                                                                              | 4/100 [00:34<14:26,  9.03s/it]"
     ]
    },
    {
     "name": "stdout",
     "output_type": "stream",
     "text": [
      "Epoch 4\n",
      "train\n",
      "Using real-time data augmentation.\n",
      "train loss score is :0.054146374546020004\n",
      "train acc score is :0.9820572250639387\n",
      "It has been 6.076278924942017 seconds since the loop started\n",
      "test\n",
      "validation\n",
      "val loss score is :0.05666660434931894\n",
      "val acc score is :0.9743868670886076\n",
      "test\n",
      "test loss score is :0.047569219476861664\n",
      "test acc score is :0.974189082278481\n"
     ]
    },
    {
     "name": "stderr",
     "output_type": "stream",
     "text": [
      "\r",
      "  5%|████                                                                              | 5/100 [00:41<13:23,  8.46s/it]"
     ]
    },
    {
     "name": "stdout",
     "output_type": "stream",
     "text": [
      "Epoch 5\n",
      "train\n",
      "Using real-time data augmentation.\n",
      "train loss score is :0.04631761883553999\n",
      "train acc score is :0.984375\n",
      "It has been 5.3393988609313965 seconds since the loop started\n",
      "test\n",
      "validation\n",
      "val loss score is :0.05482887269492862\n",
      "val acc score is :0.9736946202531646\n",
      "test\n",
      "test loss score is :0.045425730371329034\n",
      "test acc score is :0.9737935126582279\n"
     ]
    },
    {
     "name": "stderr",
     "output_type": "stream",
     "text": [
      "\r",
      "  6%|████▉                                                                             | 6/100 [00:48<12:21,  7.89s/it]"
     ]
    },
    {
     "name": "stdout",
     "output_type": "stream",
     "text": [
      "Epoch 6\n",
      "train\n",
      "Using real-time data augmentation.\n",
      "train loss score is :0.03999700001798227\n",
      "train acc score is :0.9864929667519181\n",
      "It has been 5.065603256225586 seconds since the loop started\n",
      "test\n",
      "validation\n",
      "val loss score is :0.063141239415029\n",
      "val acc score is :0.9724090189873418\n",
      "test\n",
      "test loss score is :0.05076753782017062\n",
      "test acc score is :0.9722112341772152\n"
     ]
    },
    {
     "name": "stderr",
     "output_type": "stream",
     "text": [
      "\r",
      "  7%|█████▋                                                                            | 7/100 [00:54<11:23,  7.35s/it]"
     ]
    },
    {
     "name": "stdout",
     "output_type": "stream",
     "text": [
      "Epoch 7\n",
      "train\n",
      "Using real-time data augmentation.\n",
      "train loss score is :0.034042978981424055\n",
      "train acc score is :0.9883112212276215\n",
      "It has been 5.085635423660278 seconds since the loop started\n",
      "test\n",
      "validation\n",
      "val loss score is :0.055766525984847846\n",
      "val acc score is :0.9732990506329114\n",
      "test\n",
      "test loss score is :0.04193460783932971\n",
      "test acc score is :0.9757713607594937\n"
     ]
    },
    {
     "name": "stderr",
     "output_type": "stream",
     "text": [
      "\r",
      "  8%|██████▌                                                                           | 8/100 [01:00<10:47,  7.03s/it]"
     ]
    },
    {
     "name": "stdout",
     "output_type": "stream",
     "text": [
      "Epoch 8\n",
      "train\n",
      "Using real-time data augmentation.\n",
      "train loss score is :0.03179647394037946\n",
      "train acc score is :0.9890505115089514\n",
      "It has been 5.3147499561309814 seconds since the loop started\n",
      "test\n",
      "validation\n",
      "val loss score is :0.06011902626907406\n",
      "val acc score is :0.9709256329113924\n",
      "test\n",
      "test loss score is :0.04999785452692097\n",
      "test acc score is :0.9731012658227848\n"
     ]
    },
    {
     "name": "stderr",
     "output_type": "stream",
     "text": [
      "\r",
      "  9%|███████▍                                                                          | 9/100 [01:06<10:18,  6.79s/it]"
     ]
    },
    {
     "name": "stdout",
     "output_type": "stream",
     "text": [
      "Epoch 9\n",
      "train\n",
      "Using real-time data augmentation.\n",
      "train loss score is :0.027189928136737374\n",
      "train acc score is :0.9900295716112532\n",
      "It has been 5.726762771606445 seconds since the loop started\n",
      "test\n",
      "validation\n",
      "val loss score is :0.0492923494199618\n",
      "val acc score is :0.9754746835443038\n",
      "test\n",
      "test loss score is :0.04098162334707059\n",
      "test acc score is :0.9749802215189873\n"
     ]
    },
    {
     "name": "stderr",
     "output_type": "stream",
     "text": [
      "\r",
      " 10%|████████                                                                         | 10/100 [01:13<10:13,  6.82s/it]"
     ]
    },
    {
     "name": "stdout",
     "output_type": "stream",
     "text": [
      "Epoch 10\n",
      "train\n",
      "Using real-time data augmentation.\n",
      "train loss score is :0.02355923742005873\n",
      "train acc score is :0.9914482097186701\n",
      "It has been 5.407111167907715 seconds since the loop started\n",
      "test\n",
      "validation\n",
      "val loss score is :0.04922419642684009\n",
      "val acc score is :0.9744857594936709\n",
      "test\n",
      "test loss score is :0.03516441248492684\n",
      "test acc score is :0.9765625\n"
     ]
    },
    {
     "name": "stderr",
     "output_type": "stream",
     "text": [
      "\r",
      " 11%|████████▉                                                                        | 11/100 [01:20<09:55,  6.70s/it]"
     ]
    },
    {
     "name": "stdout",
     "output_type": "stream",
     "text": [
      "Epoch 11\n",
      "train\n",
      "Using real-time data augmentation.\n",
      "train loss score is :0.023153571554285754\n",
      "train acc score is :0.9911085358056266\n",
      "It has been 4.78673529624939 seconds since the loop started\n",
      "test\n",
      "validation\n",
      "val loss score is :0.048901547957801175\n",
      "val acc score is :0.9747824367088608\n",
      "test\n",
      "test loss score is :0.03996461734447932\n",
      "test acc score is :0.9770569620253164\n"
     ]
    },
    {
     "name": "stderr",
     "output_type": "stream",
     "text": [
      "\r",
      " 12%|█████████▋                                                                       | 12/100 [01:26<09:31,  6.49s/it]"
     ]
    },
    {
     "name": "stdout",
     "output_type": "stream",
     "text": [
      "Epoch 12\n",
      "train\n",
      "Using real-time data augmentation.\n",
      "train loss score is :0.018064641743115936\n",
      "train acc score is :0.9934462915601023\n",
      "It has been 5.348942518234253 seconds since the loop started\n",
      "test\n",
      "validation\n",
      "val loss score is :0.050752100277499775\n",
      "val acc score is :0.9753757911392406\n",
      "test\n",
      "test loss score is :0.03866180520970927\n",
      "test acc score is :0.9778481012658228\n"
     ]
    },
    {
     "name": "stderr",
     "output_type": "stream",
     "text": [
      "\r",
      " 13%|██████████▌                                                                      | 13/100 [01:32<09:23,  6.48s/it]"
     ]
    },
    {
     "name": "stdout",
     "output_type": "stream",
     "text": [
      "Epoch 13\n",
      "train\n",
      "Using real-time data augmentation.\n",
      "train loss score is :0.0173941385674575\n",
      "train acc score is :0.9932864450127877\n",
      "It has been 4.9653496742248535 seconds since the loop started\n",
      "test\n",
      "validation\n",
      "val loss score is :0.04620604441590584\n",
      "val acc score is :0.9762658227848101\n",
      "test\n",
      "test loss score is :0.03722226171668831\n",
      "test acc score is :0.9766613924050633\n"
     ]
    },
    {
     "name": "stderr",
     "output_type": "stream",
     "text": [
      "\r",
      " 14%|███████████▎                                                                     | 14/100 [01:38<09:03,  6.32s/it]"
     ]
    },
    {
     "name": "stdout",
     "output_type": "stream",
     "text": [
      "Epoch 14\n",
      "train\n",
      "Using real-time data augmentation.\n",
      "train loss score is :0.0136354093445013\n",
      "train acc score is :0.9945652173913043\n",
      "It has been 4.9440717697143555 seconds since the loop started\n",
      "test\n",
      "validation\n",
      "val loss score is :0.048238918193338934\n",
      "val acc score is :0.9768591772151899\n",
      "test\n",
      "test loss score is :0.03601376802470429\n",
      "test acc score is :0.9785403481012658\n"
     ]
    },
    {
     "name": "stderr",
     "output_type": "stream",
     "text": [
      "\r",
      " 15%|████████████▏                                                                    | 15/100 [01:44<08:48,  6.22s/it]"
     ]
    },
    {
     "name": "stdout",
     "output_type": "stream",
     "text": [
      "Epoch 15\n",
      "train\n",
      "Using real-time data augmentation.\n",
      "train loss score is :0.015301968666392586\n",
      "train acc score is :0.994045716112532\n",
      "It has been 4.869387149810791 seconds since the loop started\n",
      "test\n",
      "validation\n",
      "val loss score is :0.046360900878598725\n",
      "val acc score is :0.9761669303797469\n",
      "test\n",
      "test loss score is :0.036763492118345446\n",
      "test acc score is :0.9784414556962026\n"
     ]
    },
    {
     "name": "stderr",
     "output_type": "stream",
     "text": [
      "\r",
      " 16%|████████████▉                                                                    | 16/100 [01:50<08:33,  6.11s/it]"
     ]
    },
    {
     "name": "stdout",
     "output_type": "stream",
     "text": [
      "Epoch 16\n",
      "train\n",
      "Using real-time data augmentation.\n",
      "train loss score is :0.011959569318421886\n",
      "train acc score is :0.9949848145780051\n",
      "It has been 4.869387865066528 seconds since the loop started\n",
      "test\n",
      "validation\n",
      "val loss score is :0.05389382865758284\n",
      "val acc score is :0.9755735759493671\n",
      "test\n",
      "test loss score is :0.04337514034189473\n",
      "test acc score is :0.9768591772151899\n"
     ]
    },
    {
     "name": "stderr",
     "output_type": "stream",
     "text": [
      "\r",
      " 17%|█████████████▊                                                                   | 17/100 [01:56<08:25,  6.09s/it]"
     ]
    },
    {
     "name": "stdout",
     "output_type": "stream",
     "text": [
      "Epoch 17\n",
      "train\n",
      "Using real-time data augmentation.\n",
      "train loss score is :0.011654375497746887\n",
      "train acc score is :0.995224584398977\n",
      "It has been 5.779533863067627 seconds since the loop started\n",
      "test\n",
      "validation\n",
      "val loss score is :0.05362021411869298\n",
      "val acc score is :0.9765625\n",
      "test\n",
      "test loss score is :0.03596508743255613\n",
      "test acc score is :0.9770569620253164\n"
     ]
    },
    {
     "name": "stderr",
     "output_type": "stream",
     "text": [
      "\r",
      " 18%|██████████████▌                                                                  | 18/100 [02:03<08:41,  6.36s/it]"
     ]
    },
    {
     "name": "stdout",
     "output_type": "stream",
     "text": [
      "Epoch 18\n",
      "train\n",
      "Using real-time data augmentation.\n",
      "train loss score is :0.010378479410488101\n",
      "train acc score is :0.9953045076726342\n",
      "It has been 5.3855462074279785 seconds since the loop started\n",
      "test\n",
      "validation\n",
      "val loss score is :0.05349624599235724\n",
      "val acc score is :0.9756724683544303\n",
      "test\n",
      "test loss score is :0.043263873437204385\n",
      "test acc score is :0.9771558544303798\n"
     ]
    },
    {
     "name": "stderr",
     "output_type": "stream",
     "text": [
      "\r",
      " 19%|███████████████▍                                                                 | 19/100 [02:10<08:39,  6.41s/it]"
     ]
    },
    {
     "name": "stdout",
     "output_type": "stream",
     "text": [
      "Epoch 19\n",
      "train\n",
      "Using real-time data augmentation.\n",
      "train loss score is :0.00998996603182074\n",
      "train acc score is :0.9956042199488491\n",
      "It has been 5.223886251449585 seconds since the loop started\n",
      "test\n",
      "validation\n",
      "val loss score is :0.04965514243439763\n",
      "val acc score is :0.9754746835443038\n",
      "test\n",
      "test loss score is :0.042995902450767766\n",
      "test acc score is :0.9767602848101266\n"
     ]
    },
    {
     "name": "stderr",
     "output_type": "stream",
     "text": [
      "\r",
      " 20%|████████████████▏                                                                | 20/100 [02:16<08:29,  6.37s/it]"
     ]
    },
    {
     "name": "stdout",
     "output_type": "stream",
     "text": [
      "Epoch 20\n",
      "train\n",
      "Using real-time data augmentation.\n",
      "train loss score is :0.008860058349478618\n",
      "train acc score is :0.9959438938618926\n",
      "It has been 4.963984966278076 seconds since the loop started\n",
      "test\n",
      "validation\n",
      "val loss score is :0.04589968816194817\n",
      "val acc score is :0.9777492088607594\n",
      "test\n",
      "test loss score is :0.03764721696677282\n",
      "test acc score is :0.9780458860759493\n"
     ]
    },
    {
     "name": "stderr",
     "output_type": "stream",
     "text": [
      "\r",
      " 21%|█████████████████                                                                | 21/100 [02:22<08:15,  6.28s/it]"
     ]
    },
    {
     "name": "stdout",
     "output_type": "stream",
     "text": [
      "Epoch 21\n",
      "train\n",
      "Using real-time data augmentation.\n",
      "train loss score is :0.007298335399864393\n",
      "train acc score is :0.9965632992327366\n",
      "It has been 4.996845960617065 seconds since the loop started\n",
      "test\n",
      "validation\n",
      "val loss score is :0.05461477256423384\n",
      "val acc score is :0.9765625\n",
      "test\n",
      "test loss score is :0.041859241901282165\n",
      "test acc score is :0.9770569620253164\n"
     ]
    },
    {
     "name": "stderr",
     "output_type": "stream",
     "text": [
      "\r",
      " 22%|█████████████████▊                                                               | 22/100 [02:28<08:06,  6.24s/it]"
     ]
    },
    {
     "name": "stdout",
     "output_type": "stream",
     "text": [
      "Epoch 22\n",
      "train\n",
      "Using real-time data augmentation.\n",
      "train loss score is :0.00741119053157995\n",
      "train acc score is :0.9966232416879796\n",
      "It has been 5.183059215545654 seconds since the loop started\n",
      "test\n",
      "validation\n",
      "val loss score is :0.049261810097775624\n",
      "val acc score is :0.9764636075949367\n",
      "test\n",
      "test loss score is :0.04341718098591823\n",
      "test acc score is :0.9775514240506329\n"
     ]
    },
    {
     "name": "stderr",
     "output_type": "stream",
     "text": [
      "\r",
      " 23%|██████████████████▋                                                              | 23/100 [02:34<08:00,  6.24s/it]"
     ]
    },
    {
     "name": "stdout",
     "output_type": "stream",
     "text": [
      "Epoch 23\n",
      "train\n",
      "Using real-time data augmentation.\n",
      "train loss score is :0.007375395753296733\n",
      "train acc score is :0.9965832800511509\n",
      "It has been 5.289606094360352 seconds since the loop started\n",
      "test\n",
      "validation\n",
      "val loss score is :0.049971509795705346\n",
      "val acc score is :0.9770569620253164\n",
      "test\n",
      "test loss score is :0.036785559041854404\n",
      "test acc score is :0.9786392405063291\n"
     ]
    },
    {
     "name": "stderr",
     "output_type": "stream",
     "text": [
      "\r",
      " 24%|███████████████████▍                                                             | 24/100 [02:41<07:56,  6.27s/it]"
     ]
    },
    {
     "name": "stdout",
     "output_type": "stream",
     "text": [
      "Epoch 24\n",
      "train\n",
      "Using real-time data augmentation.\n",
      "train loss score is :0.005986085423194167\n",
      "train acc score is :0.9969429347826086\n",
      "It has been 5.503698110580444 seconds since the loop started\n",
      "test\n",
      "validation\n",
      "val loss score is :0.05236769006904392\n",
      "val acc score is :0.9769580696202531\n",
      "test\n",
      "test loss score is :0.04001493130064911\n",
      "test acc score is :0.9798259493670886\n"
     ]
    },
    {
     "name": "stderr",
     "output_type": "stream",
     "text": [
      "\r",
      " 25%|████████████████████▎                                                            | 25/100 [02:47<07:59,  6.40s/it]"
     ]
    },
    {
     "name": "stdout",
     "output_type": "stream",
     "text": [
      "Epoch 25\n",
      "train\n",
      "Using real-time data augmentation.\n",
      "train loss score is :0.00677078977918185\n",
      "train acc score is :0.9967031649616368\n",
      "It has been 5.475818395614624 seconds since the loop started\n",
      "test\n",
      "validation\n",
      "val loss score is :0.054547041349659264\n",
      "val acc score is :0.9774525316455697\n",
      "test\n",
      "test loss score is :0.04440576773687916\n",
      "test acc score is :0.9784414556962026\n"
     ]
    },
    {
     "name": "stderr",
     "output_type": "stream",
     "text": [
      "\r",
      " 26%|█████████████████████                                                            | 26/100 [02:54<07:56,  6.44s/it]"
     ]
    },
    {
     "name": "stdout",
     "output_type": "stream",
     "text": [
      "Epoch 26\n",
      "train\n",
      "Using real-time data augmentation.\n",
      "train loss score is :0.006276791594857636\n",
      "train acc score is :0.997082800511509\n",
      "It has been 5.6062657833099365 seconds since the loop started\n",
      "test\n",
      "validation\n",
      "val loss score is :0.0626218772310575\n",
      "val acc score is :0.9759691455696202\n",
      "test\n",
      "test loss score is :0.04560953760858554\n",
      "test acc score is :0.9774525316455697\n"
     ]
    },
    {
     "name": "stderr",
     "output_type": "stream",
     "text": [
      "\r",
      " 27%|█████████████████████▊                                                           | 27/100 [03:01<07:57,  6.54s/it]"
     ]
    },
    {
     "name": "stdout",
     "output_type": "stream",
     "text": [
      "Epoch 27\n",
      "train\n",
      "Using real-time data augmentation.\n",
      "train loss score is :0.004003849007567902\n",
      "train acc score is :0.9975423593350383\n",
      "It has been 5.477810621261597 seconds since the loop started\n",
      "test\n",
      "validation\n",
      "val loss score is :0.0594547206000692\n",
      "val acc score is :0.9764636075949367\n",
      "test\n",
      "test loss score is :0.05303799037790645\n",
      "test acc score is :0.9768591772151899\n"
     ]
    },
    {
     "name": "stderr",
     "output_type": "stream",
     "text": [
      "\r",
      " 28%|██████████████████████▋                                                          | 28/100 [03:07<07:52,  6.56s/it]"
     ]
    },
    {
     "name": "stdout",
     "output_type": "stream",
     "text": [
      "Epoch 28\n",
      "train\n",
      "Using real-time data augmentation.\n",
      "train loss score is :0.004672390837139436\n",
      "train acc score is :0.997582320971867\n",
      "It has been 5.169116973876953 seconds since the loop started\n",
      "test\n",
      "validation\n",
      "val loss score is :0.05897662404059087\n",
      "val acc score is :0.977254746835443\n",
      "test\n",
      "test loss score is :0.05007521971865687\n",
      "test acc score is :0.9769580696202531\n"
     ]
    },
    {
     "name": "stderr",
     "output_type": "stream",
     "text": [
      "\r",
      " 29%|███████████████████████▍                                                         | 29/100 [03:14<07:39,  6.48s/it]"
     ]
    },
    {
     "name": "stdout",
     "output_type": "stream",
     "text": [
      "Epoch 29\n",
      "train\n",
      "Using real-time data augmentation.\n",
      "train loss score is :0.0061472698828758734\n",
      "train acc score is :0.997082800511509\n",
      "It has been 5.279651880264282 seconds since the loop started\n",
      "test\n",
      "validation\n",
      "val loss score is :0.06157235782193081\n",
      "val acc score is :0.9760680379746836\n",
      "test\n",
      "test loss score is :0.04428298639277849\n",
      "test acc score is :0.9779469936708861\n"
     ]
    },
    {
     "name": "stderr",
     "output_type": "stream",
     "text": [
      "\r",
      " 30%|████████████████████████▎                                                        | 30/100 [03:20<07:30,  6.43s/it]"
     ]
    },
    {
     "name": "stdout",
     "output_type": "stream",
     "text": [
      "Epoch 30\n",
      "train\n",
      "Using real-time data augmentation.\n",
      "train loss score is :0.004297886436502628\n",
      "train acc score is :0.9977022058823529\n",
      "It has been 5.29259467124939 seconds since the loop started\n",
      "test\n",
      "validation\n",
      "val loss score is :0.05493701375361168\n",
      "val acc score is :0.9777492088607594\n",
      "test\n",
      "test loss score is :0.045322666008757284\n",
      "test acc score is :0.9791337025316456\n"
     ]
    },
    {
     "name": "stderr",
     "output_type": "stream",
     "text": [
      "\r",
      " 31%|█████████████████████████                                                        | 31/100 [03:26<07:24,  6.44s/it]"
     ]
    },
    {
     "name": "stdout",
     "output_type": "stream",
     "text": [
      "Epoch 31\n",
      "train\n",
      "Using real-time data augmentation.\n",
      "train loss score is :0.003534248580803939\n",
      "train acc score is :0.9980218989769821\n",
      "It has been 5.414079427719116 seconds since the loop started\n",
      "test\n",
      "validation\n",
      "val loss score is :0.06657719236700589\n",
      "val acc score is :0.9761669303797469\n",
      "test\n",
      "test loss score is :0.05721604874942605\n",
      "test acc score is :0.975870253164557\n"
     ]
    },
    {
     "name": "stderr",
     "output_type": "stream",
     "text": [
      "\r",
      " 32%|█████████████████████████▉                                                       | 32/100 [03:33<07:16,  6.42s/it]"
     ]
    },
    {
     "name": "stdout",
     "output_type": "stream",
     "text": [
      "Epoch 32\n",
      "train\n",
      "Using real-time data augmentation.\n",
      "train loss score is :0.004962954602506727\n",
      "train acc score is :0.9974824168797954\n",
      "It has been 4.856439828872681 seconds since the loop started\n",
      "test\n",
      "validation\n",
      "val loss score is :0.058348198408681655\n",
      "val acc score is :0.9779469936708861\n",
      "test\n",
      "test loss score is :0.048329619977209186\n",
      "test acc score is :0.978935917721519\n"
     ]
    },
    {
     "name": "stderr",
     "output_type": "stream",
     "text": [
      "\r",
      " 33%|██████████████████████████▋                                                      | 33/100 [03:39<06:59,  6.27s/it]"
     ]
    },
    {
     "name": "stdout",
     "output_type": "stream",
     "text": [
      "Epoch 33\n",
      "train\n",
      "Using real-time data augmentation.\n",
      "train loss score is :0.0027921344122762578\n",
      "train acc score is :0.9980218989769821\n",
      "It has been 5.455902338027954 seconds since the loop started\n",
      "test\n",
      "validation\n",
      "val loss score is :0.06714493679119993\n",
      "val acc score is :0.9766613924050633\n",
      "test\n",
      "test loss score is :0.057234714831171415\n",
      "test acc score is :0.9766613924050633\n"
     ]
    },
    {
     "name": "stderr",
     "output_type": "stream",
     "text": [
      "\r",
      " 34%|███████████████████████████▌                                                     | 34/100 [03:45<07:01,  6.39s/it]"
     ]
    },
    {
     "name": "stdout",
     "output_type": "stream",
     "text": [
      "Epoch 34\n",
      "train\n",
      "Using real-time data augmentation.\n",
      "train loss score is :0.006246443955143101\n",
      "train acc score is :0.9968230498721228\n",
      "It has been 5.633157014846802 seconds since the loop started\n",
      "test\n",
      "validation\n",
      "val loss score is :0.055595220589693094\n",
      "val acc score is :0.9776503164556962\n",
      "test\n",
      "test loss score is :0.043008924222070886\n",
      "test acc score is :0.9792325949367089\n"
     ]
    },
    {
     "name": "stderr",
     "output_type": "stream",
     "text": [
      "\r",
      " 35%|████████████████████████████▎                                                    | 35/100 [03:52<07:05,  6.54s/it]"
     ]
    },
    {
     "name": "stdout",
     "output_type": "stream",
     "text": [
      "Epoch 35\n",
      "train\n",
      "Using real-time data augmentation.\n",
      "train loss score is :0.005174904375846493\n",
      "train acc score is :0.9975423593350383\n",
      "It has been 5.751649379730225 seconds since the loop started\n",
      "test\n",
      "validation\n",
      "val loss score is :0.062041619506377675\n",
      "val acc score is :0.9759691455696202\n",
      "test\n",
      "test loss score is :0.054775682709837785\n",
      "test acc score is :0.977254746835443\n"
     ]
    },
    {
     "name": "stderr",
     "output_type": "stream",
     "text": [
      "\r",
      " 36%|█████████████████████████████▏                                                   | 36/100 [03:59<07:07,  6.67s/it]"
     ]
    },
    {
     "name": "stdout",
     "output_type": "stream",
     "text": [
      "Epoch 36\n",
      "train\n",
      "Using real-time data augmentation.\n",
      "train loss score is :0.002815157437179995\n",
      "train acc score is :0.9981817455242967\n",
      "It has been 5.647091627120972 seconds since the loop started\n",
      "test\n",
      "validation\n",
      "val loss score is :0.06389111027056923\n",
      "val acc score is :0.9757713607594937\n",
      "test\n",
      "test loss score is :0.049040233082947395\n",
      "test acc score is :0.9777492088607594\n"
     ]
    },
    {
     "name": "stderr",
     "output_type": "stream",
     "text": [
      "\r",
      " 37%|█████████████████████████████▉                                                   | 37/100 [04:06<07:04,  6.73s/it]"
     ]
    },
    {
     "name": "stdout",
     "output_type": "stream",
     "text": [
      "Epoch 37\n",
      "train\n",
      "Using real-time data augmentation.\n",
      "train loss score is :0.0012478498631585434\n",
      "train acc score is :0.998701246803069\n",
      "It has been 5.388188362121582 seconds since the loop started\n",
      "test\n",
      "validation\n",
      "val loss score is :0.05602558402896753\n",
      "val acc score is :0.9793314873417721\n",
      "test\n",
      "test loss score is :0.0429523922825348\n",
      "test acc score is :0.9788370253164557\n"
     ]
    },
    {
     "name": "stderr",
     "output_type": "stream",
     "text": [
      "\r",
      " 38%|██████████████████████████████▊                                                  | 38/100 [04:12<06:51,  6.63s/it]"
     ]
    },
    {
     "name": "stdout",
     "output_type": "stream",
     "text": [
      "Epoch 38\n",
      "train\n",
      "Using real-time data augmentation.\n",
      "train loss score is :0.0026182248733178028\n",
      "train acc score is :0.9981617647058824\n",
      "It has been 4.7402191162109375 seconds since the loop started\n",
      "test\n",
      "validation\n",
      "val loss score is :0.06919106414660965\n",
      "val acc score is :0.9766613924050633\n",
      "test\n",
      "test loss score is :0.060206926379903596\n",
      "test acc score is :0.9762658227848101\n"
     ]
    },
    {
     "name": "stderr",
     "output_type": "stream",
     "text": [
      "\r",
      " 39%|███████████████████████████████▌                                                 | 39/100 [04:18<06:31,  6.43s/it]"
     ]
    },
    {
     "name": "stdout",
     "output_type": "stream",
     "text": [
      "Epoch 39\n",
      "train\n",
      "Using real-time data augmentation.\n",
      "train loss score is :0.007185216987576045\n",
      "train acc score is :0.996343510230179\n",
      "It has been 5.803388595581055 seconds since the loop started\n",
      "test\n",
      "validation\n",
      "val loss score is :0.0697553602247719\n",
      "val acc score is :0.9753757911392406\n",
      "test\n",
      "test loss score is :0.04859407955684472\n",
      "test acc score is :0.9780458860759493\n"
     ]
    },
    {
     "name": "stderr",
     "output_type": "stream",
     "text": [
      "\r",
      " 40%|████████████████████████████████▍                                                | 40/100 [04:26<06:38,  6.64s/it]"
     ]
    },
    {
     "name": "stdout",
     "output_type": "stream",
     "text": [
      "Epoch 40\n",
      "train\n",
      "Using real-time data augmentation.\n",
      "train loss score is :0.003172101325378982\n",
      "train acc score is :0.9979419757033248\n",
      "It has been 6.541306495666504 seconds since the loop started\n",
      "test\n",
      "validation\n",
      "val loss score is :0.060629484856293214\n",
      "val acc score is :0.977254746835443\n",
      "test\n",
      "test loss score is :0.0455241330144337\n",
      "test acc score is :0.979628164556962\n"
     ]
    },
    {
     "name": "stderr",
     "output_type": "stream",
     "text": [
      "\r",
      " 41%|█████████████████████████████████▏                                               | 41/100 [04:33<06:52,  6.99s/it]"
     ]
    },
    {
     "name": "stdout",
     "output_type": "stream",
     "text": [
      "Epoch 41\n",
      "train\n",
      "Using real-time data augmentation.\n",
      "train loss score is :0.0020698890259894416\n",
      "train acc score is :0.9985014386189258\n",
      "It has been 6.4109132289886475 seconds since the loop started\n",
      "test\n",
      "validation\n",
      "val loss score is :0.059526975879077924\n",
      "val acc score is :0.9783425632911392\n",
      "test\n",
      "test loss score is :0.04453778756206541\n",
      "test acc score is :0.9800237341772152\n"
     ]
    },
    {
     "name": "stderr",
     "output_type": "stream",
     "text": [
      "\r",
      " 42%|██████████████████████████████████                                               | 42/100 [04:41<06:56,  7.18s/it]"
     ]
    },
    {
     "name": "stdout",
     "output_type": "stream",
     "text": [
      "Epoch 42\n",
      "train\n",
      "Using real-time data augmentation.\n",
      "train loss score is :0.0036972459818177534\n",
      "train acc score is :0.9976822250639387\n",
      "It has been 6.083246231079102 seconds since the loop started\n",
      "test\n",
      "validation\n",
      "val loss score is :0.0875867953945999\n",
      "val acc score is :0.9732001582278481\n",
      "test\n",
      "test loss score is :0.0582298322439288\n",
      "test acc score is :0.9771558544303798\n"
     ]
    },
    {
     "name": "stderr",
     "output_type": "stream",
     "text": [
      "\r",
      " 43%|██████████████████████████████████▊                                              | 43/100 [04:48<06:50,  7.20s/it]"
     ]
    },
    {
     "name": "stdout",
     "output_type": "stream",
     "text": [
      "Epoch 43\n",
      "train\n",
      "Using real-time data augmentation.\n",
      "train loss score is :0.0035822838499452257\n",
      "train acc score is :0.9978220907928389\n",
      "It has been 6.178840637207031 seconds since the loop started\n",
      "test\n",
      "validation\n",
      "val loss score is :0.06310882866209035\n",
      "val acc score is :0.9761669303797469\n",
      "test\n",
      "test loss score is :0.05752672009913124\n",
      "test acc score is :0.9767602848101266\n"
     ]
    },
    {
     "name": "stderr",
     "output_type": "stream",
     "text": [
      "\r",
      " 44%|███████████████████████████████████▋                                             | 44/100 [04:56<06:46,  7.27s/it]"
     ]
    },
    {
     "name": "stdout",
     "output_type": "stream",
     "text": [
      "Epoch 44\n",
      "train\n",
      "Using real-time data augmentation.\n",
      "train loss score is :0.003049934688180849\n",
      "train acc score is :0.9980218989769821\n",
      "It has been 6.522660493850708 seconds since the loop started\n",
      "test\n",
      "validation\n",
      "val loss score is :0.06748501458631327\n",
      "val acc score is :0.9769580696202531\n",
      "test\n",
      "test loss score is :0.04763456607621334\n",
      "test acc score is :0.978243670886076\n"
     ]
    },
    {
     "name": "stderr",
     "output_type": "stream",
     "text": [
      "\r",
      " 45%|████████████████████████████████████▍                                            | 45/100 [05:03<06:49,  7.44s/it]"
     ]
    },
    {
     "name": "stdout",
     "output_type": "stream",
     "text": [
      "Epoch 45\n",
      "train\n",
      "Using real-time data augmentation.\n",
      "train loss score is :0.0028849234015175507\n",
      "train acc score is :0.9980818414322251\n",
      "It has been 6.474589109420776 seconds since the loop started\n",
      "test\n",
      "validation\n",
      "val loss score is :0.06603751057277996\n",
      "val acc score is :0.9760680379746836\n",
      "test\n",
      "test loss score is :0.04846699390631814\n",
      "test acc score is :0.9787381329113924\n"
     ]
    },
    {
     "name": "stderr",
     "output_type": "stream",
     "text": [
      "\r",
      " 46%|█████████████████████████████████████▎                                           | 46/100 [05:11<06:47,  7.54s/it]"
     ]
    },
    {
     "name": "stdout",
     "output_type": "stream",
     "text": [
      "Epoch 46\n",
      "train\n",
      "Using real-time data augmentation.\n",
      "train loss score is :0.0014807491341877683\n",
      "train acc score is :0.9986213235294118\n",
      "It has been 6.520395517349243 seconds since the loop started\n",
      "test\n",
      "validation\n",
      "val loss score is :0.06701690274337485\n",
      "val acc score is :0.977254746835443\n",
      "test\n",
      "test loss score is :0.05213965321468383\n",
      "test acc score is :0.9794303797468354\n"
     ]
    },
    {
     "name": "stderr",
     "output_type": "stream",
     "text": [
      "\r",
      " 47%|██████████████████████████████████████                                           | 47/100 [05:19<06:43,  7.61s/it]"
     ]
    },
    {
     "name": "stdout",
     "output_type": "stream",
     "text": [
      "Epoch 47\n",
      "train\n",
      "Using real-time data augmentation.\n",
      "train loss score is :0.0007047642942692848\n",
      "train acc score is :0.9988810741687979\n",
      "It has been 6.413846254348755 seconds since the loop started\n",
      "test\n",
      "validation\n",
      "val loss score is :0.06418631525892705\n",
      "val acc score is :0.9785403481012658\n",
      "test\n",
      "test loss score is :0.04799976271889551\n",
      "test acc score is :0.9802215189873418\n"
     ]
    },
    {
     "name": "stderr",
     "output_type": "stream",
     "text": [
      "\r",
      " 48%|██████████████████████████████████████▉                                          | 48/100 [05:27<06:36,  7.63s/it]"
     ]
    },
    {
     "name": "stdout",
     "output_type": "stream",
     "text": [
      "Epoch 48\n",
      "train\n",
      "Using real-time data augmentation.\n",
      "train loss score is :9.932056424544996e-05\n",
      "train acc score is :0.9990409207161125\n",
      "It has been 6.583130359649658 seconds since the loop started\n",
      "test\n",
      "validation\n",
      "val loss score is :0.06170845283295884\n",
      "val acc score is :0.9788370253164557\n",
      "test\n",
      "test loss score is :0.04900048439478423\n",
      "test acc score is :0.9798259493670886\n"
     ]
    },
    {
     "name": "stderr",
     "output_type": "stream",
     "text": [
      "\r",
      " 49%|███████████████████████████████████████▋                                         | 49/100 [05:35<06:33,  7.72s/it]"
     ]
    },
    {
     "name": "stdout",
     "output_type": "stream",
     "text": [
      "Epoch 49\n",
      "train\n",
      "Using real-time data augmentation.\n",
      "train loss score is :4.8517779471135244e-05\n",
      "train acc score is :0.9990409207161125\n",
      "It has been 6.712581396102905 seconds since the loop started\n",
      "test\n",
      "validation\n",
      "val loss score is :0.06289642165823967\n",
      "val acc score is :0.9787381329113924\n",
      "test\n",
      "test loss score is :0.04991768058164164\n",
      "test acc score is :0.9800237341772152\n"
     ]
    },
    {
     "name": "stderr",
     "output_type": "stream",
     "text": [
      "\r",
      " 50%|████████████████████████████████████████▌                                        | 50/100 [05:43<06:31,  7.82s/it]"
     ]
    },
    {
     "name": "stdout",
     "output_type": "stream",
     "text": [
      "Epoch 50\n",
      "train\n",
      "Using real-time data augmentation.\n",
      "train loss score is :3.458546237871277e-05\n",
      "train acc score is :0.9990409207161125\n",
      "It has been 6.450690507888794 seconds since the loop started\n",
      "test\n",
      "validation\n",
      "val loss score is :0.06317538236930383\n",
      "val acc score is :0.9788370253164557\n",
      "test\n",
      "test loss score is :0.050595911502678295\n",
      "test acc score is :0.9797270569620253\n"
     ]
    },
    {
     "name": "stderr",
     "output_type": "stream",
     "text": [
      "\r",
      " 51%|█████████████████████████████████████████▎                                       | 51/100 [05:50<06:22,  7.80s/it]"
     ]
    },
    {
     "name": "stdout",
     "output_type": "stream",
     "text": [
      "Epoch 51\n",
      "train\n",
      "Using real-time data augmentation.\n",
      "train loss score is :3.823078924180845e-05\n",
      "train acc score is :0.9990409207161125\n",
      "It has been 6.530352592468262 seconds since the loop started\n",
      "test\n",
      "validation\n",
      "val loss score is :0.06489277232668444\n",
      "val acc score is :0.9790348101265823\n",
      "test\n",
      "test loss score is :0.051581661350101664\n",
      "test acc score is :0.9804193037974683\n"
     ]
    },
    {
     "name": "stderr",
     "output_type": "stream",
     "text": [
      "\r",
      " 52%|██████████████████████████████████████████                                       | 52/100 [05:58<06:15,  7.83s/it]"
     ]
    },
    {
     "name": "stdout",
     "output_type": "stream",
     "text": [
      "Epoch 52\n",
      "train\n",
      "Using real-time data augmentation.\n",
      "train loss score is :0.010874998517807034\n",
      "train acc score is :0.9955242966751918\n",
      "It has been 6.609019756317139 seconds since the loop started\n",
      "test\n",
      "validation\n",
      "val loss score is :0.06915500943101\n",
      "val acc score is :0.9768591772151899\n",
      "test\n",
      "test loss score is :0.05697496237019239\n",
      "test acc score is :0.9760680379746836\n"
     ]
    },
    {
     "name": "stderr",
     "output_type": "stream",
     "text": [
      "\r",
      " 53%|██████████████████████████████████████████▉                                      | 53/100 [06:06<06:09,  7.85s/it]"
     ]
    },
    {
     "name": "stdout",
     "output_type": "stream",
     "text": [
      "Epoch 53\n",
      "train\n",
      "Using real-time data augmentation.\n",
      "train loss score is :0.0031179756247166385\n",
      "train acc score is :0.9977022058823529\n",
      "It has been 6.660799980163574 seconds since the loop started\n",
      "test\n",
      "validation\n",
      "val loss score is :0.06136636198301217\n",
      "val acc score is :0.9784414556962026\n",
      "test\n",
      "test loss score is :0.04814700558917933\n",
      "test acc score is :0.9794303797468354\n"
     ]
    },
    {
     "name": "stderr",
     "output_type": "stream",
     "text": [
      "\r",
      " 54%|███████████████████████████████████████████▋                                     | 54/100 [06:14<06:03,  7.90s/it]"
     ]
    },
    {
     "name": "stdout",
     "output_type": "stream",
     "text": [
      "Epoch 54\n",
      "train\n",
      "Using real-time data augmentation.\n",
      "train loss score is :0.002503108330176958\n",
      "train acc score is :0.9982416879795396\n",
      "It has been 6.637897729873657 seconds since the loop started\n",
      "test\n",
      "validation\n",
      "val loss score is :0.07390829616302191\n",
      "val acc score is :0.9756724683544303\n",
      "test\n",
      "test loss score is :0.054933453403544816\n",
      "test acc score is :0.978243670886076\n"
     ]
    },
    {
     "name": "stderr",
     "output_type": "stream",
     "text": [
      "\r",
      " 55%|████████████████████████████████████████████▌                                    | 55/100 [06:22<05:55,  7.90s/it]"
     ]
    },
    {
     "name": "stdout",
     "output_type": "stream",
     "text": [
      "Epoch 55\n",
      "train\n",
      "Using real-time data augmentation.\n",
      "train loss score is :0.0009348038368558808\n",
      "train acc score is :0.998821131713555\n",
      "It has been 6.519399404525757 seconds since the loop started\n",
      "test\n",
      "validation\n",
      "val loss score is :0.06611450376918077\n",
      "val acc score is :0.9779469936708861\n",
      "test\n",
      "test loss score is :0.05617560980151296\n",
      "test acc score is :0.9785403481012658\n"
     ]
    },
    {
     "name": "stderr",
     "output_type": "stream",
     "text": [
      "\r",
      " 56%|█████████████████████████████████████████████▎                                   | 56/100 [06:30<05:45,  7.85s/it]"
     ]
    },
    {
     "name": "stdout",
     "output_type": "stream",
     "text": [
      "Epoch 56\n",
      "train\n",
      "Using real-time data augmentation.\n",
      "train loss score is :0.00020307333644046662\n",
      "train acc score is :0.9990009590792839\n",
      "It has been 6.075279712677002 seconds since the loop started\n",
      "test\n",
      "validation\n",
      "val loss score is :0.06319782467190478\n",
      "val acc score is :0.979628164556962\n",
      "test\n",
      "test loss score is :0.05086823391890559\n",
      "test acc score is :0.979628164556962\n"
     ]
    },
    {
     "name": "stderr",
     "output_type": "stream",
     "text": [
      "\r",
      " 57%|██████████████████████████████████████████████▏                                  | 57/100 [06:37<05:31,  7.70s/it]"
     ]
    },
    {
     "name": "stdout",
     "output_type": "stream",
     "text": [
      "Epoch 57\n",
      "train\n",
      "Using real-time data augmentation.\n",
      "train loss score is :8.987133237592115e-05\n",
      "train acc score is :0.9990209398976982\n",
      "It has been 6.627939939498901 seconds since the loop started\n",
      "test\n",
      "validation\n",
      "val loss score is :0.0667710316960358\n",
      "val acc score is :0.9792325949367089\n",
      "test\n",
      "test loss score is :0.052333416513153215\n",
      "test acc score is :0.9799248417721519\n"
     ]
    },
    {
     "name": "stderr",
     "output_type": "stream",
     "text": [
      "\r",
      " 58%|██████████████████████████████████████████████▉                                  | 58/100 [06:45<05:25,  7.75s/it]"
     ]
    },
    {
     "name": "stdout",
     "output_type": "stream",
     "text": [
      "Epoch 58\n",
      "train\n",
      "Using real-time data augmentation.\n",
      "train loss score is :0.0038501801094315146\n",
      "train acc score is :0.9979419757033248\n",
      "It has been 6.627926588058472 seconds since the loop started\n",
      "test\n",
      "validation\n",
      "val loss score is :0.0887522504667168\n",
      "val acc score is :0.9721123417721519\n",
      "test\n",
      "test loss score is :0.07287037051397029\n",
      "test acc score is :0.974189082278481\n"
     ]
    },
    {
     "name": "stderr",
     "output_type": "stream",
     "text": [
      "\r",
      " 59%|███████████████████████████████████████████████▊                                 | 59/100 [06:53<05:20,  7.82s/it]"
     ]
    },
    {
     "name": "stdout",
     "output_type": "stream",
     "text": [
      "Epoch 59\n",
      "train\n",
      "Using real-time data augmentation.\n",
      "train loss score is :0.005860436010475659\n",
      "train acc score is :0.9972226662404092\n",
      "It has been 6.608024597167969 seconds since the loop started\n",
      "test\n",
      "validation\n",
      "val loss score is :0.062267868337396726\n",
      "val acc score is :0.978243670886076\n",
      "test\n",
      "test loss score is :0.050535192559149025\n",
      "test acc score is :0.9791337025316456\n"
     ]
    },
    {
     "name": "stderr",
     "output_type": "stream",
     "text": [
      "\r",
      " 60%|████████████████████████████████████████████████▌                                | 60/100 [07:01<05:14,  7.86s/it]"
     ]
    },
    {
     "name": "stdout",
     "output_type": "stream",
     "text": [
      "Epoch 60\n",
      "train\n",
      "Using real-time data augmentation.\n",
      "train loss score is :0.0024944117939388693\n",
      "train acc score is :0.998201726342711\n",
      "It has been 6.589104890823364 seconds since the loop started\n",
      "test\n",
      "validation\n",
      "val loss score is :0.05963750854515693\n",
      "val acc score is :0.9784414556962026\n",
      "test\n",
      "test loss score is :0.049840047688953344\n",
      "test acc score is :0.9792325949367089\n"
     ]
    },
    {
     "name": "stderr",
     "output_type": "stream",
     "text": [
      "\r",
      " 61%|█████████████████████████████████████████████████▍                               | 61/100 [07:09<05:05,  7.84s/it]"
     ]
    },
    {
     "name": "stdout",
     "output_type": "stream",
     "text": [
      "Epoch 61\n",
      "train\n",
      "Using real-time data augmentation.\n",
      "train loss score is :0.0008051150558772777\n",
      "train acc score is :0.9987811700767263\n",
      "It has been 6.545289516448975 seconds since the loop started\n",
      "test\n",
      "validation\n",
      "val loss score is :0.06995982336107612\n",
      "val acc score is :0.9783425632911392\n",
      "test\n",
      "test loss score is :0.05413646255143433\n",
      "test acc score is :0.9792325949367089\n"
     ]
    },
    {
     "name": "stderr",
     "output_type": "stream",
     "text": [
      "\r",
      " 62%|██████████████████████████████████████████████████▏                              | 62/100 [07:17<04:58,  7.85s/it]"
     ]
    },
    {
     "name": "stdout",
     "output_type": "stream",
     "text": [
      "Epoch 62\n",
      "train\n",
      "Using real-time data augmentation.\n",
      "train loss score is :0.0024286817224321005\n",
      "train acc score is :0.9983415920716112\n",
      "It has been 6.322229385375977 seconds since the loop started\n",
      "test\n",
      "validation\n",
      "val loss score is :0.0644443924659026\n",
      "val acc score is :0.9775514240506329\n",
      "test\n",
      "test loss score is :0.048701401311990626\n",
      "test acc score is :0.9790348101265823\n"
     ]
    },
    {
     "name": "stderr",
     "output_type": "stream",
     "text": [
      "\r",
      " 63%|███████████████████████████████████████████████████                              | 63/100 [07:24<04:48,  7.79s/it]"
     ]
    },
    {
     "name": "stdout",
     "output_type": "stream",
     "text": [
      "Epoch 63\n",
      "train\n",
      "Using real-time data augmentation.\n",
      "train loss score is :0.002946706371507217\n",
      "train acc score is :0.9980618606138107\n",
      "It has been 6.584122657775879 seconds since the loop started\n",
      "test\n",
      "validation\n",
      "val loss score is :0.07376067388524254\n",
      "val acc score is :0.9760680379746836\n",
      "test\n",
      "test loss score is :0.05504527187946523\n",
      "test acc score is :0.9783425632911392\n"
     ]
    },
    {
     "name": "stderr",
     "output_type": "stream",
     "text": [
      "\r",
      " 64%|███████████████████████████████████████████████████▊                             | 64/100 [07:32<04:41,  7.81s/it]"
     ]
    },
    {
     "name": "stdout",
     "output_type": "stream",
     "text": [
      "Epoch 64\n",
      "train\n",
      "Using real-time data augmentation.\n",
      "train loss score is :0.0036625369838082203\n",
      "train acc score is :0.9977022058823529\n",
      "It has been 6.633911371231079 seconds since the loop started\n",
      "test\n",
      "validation\n",
      "val loss score is :0.06298569298271588\n",
      "val acc score is :0.9784414556962026\n",
      "test\n",
      "test loss score is :0.05739087692632271\n",
      "test acc score is :0.9781447784810127\n"
     ]
    },
    {
     "name": "stderr",
     "output_type": "stream",
     "text": [
      "\r",
      " 65%|████████████████████████████████████████████████████▋                            | 65/100 [07:40<04:35,  7.86s/it]"
     ]
    },
    {
     "name": "stdout",
     "output_type": "stream",
     "text": [
      "Epoch 65\n",
      "train\n",
      "Using real-time data augmentation.\n",
      "train loss score is :0.0018398944535461012\n",
      "train acc score is :0.9985014386189258\n",
      "It has been 6.514376163482666 seconds since the loop started\n",
      "test\n",
      "validation\n",
      "val loss score is :0.07839284441986454\n",
      "val acc score is :0.9752768987341772\n",
      "test\n",
      "test loss score is :0.07426326195674754\n",
      "test acc score is :0.9757713607594937\n"
     ]
    },
    {
     "name": "stderr",
     "output_type": "stream",
     "text": [
      "\r",
      " 66%|█████████████████████████████████████████████████████▍                           | 66/100 [07:48<04:26,  7.85s/it]"
     ]
    },
    {
     "name": "stdout",
     "output_type": "stream",
     "text": [
      "Epoch 66\n",
      "train\n",
      "Using real-time data augmentation.\n",
      "train loss score is :0.002690945923132356\n",
      "train acc score is :0.9980818414322251\n",
      "It has been 6.5721728801727295 seconds since the loop started\n",
      "test\n",
      "validation\n",
      "val loss score is :0.06897233962330045\n",
      "val acc score is :0.9774525316455697\n",
      "test\n",
      "test loss score is :0.06303635521186451\n",
      "test acc score is :0.9775514240506329\n"
     ]
    },
    {
     "name": "stderr",
     "output_type": "stream",
     "text": [
      "\r",
      " 67%|██████████████████████████████████████████████████████▎                          | 67/100 [07:56<04:18,  7.84s/it]"
     ]
    },
    {
     "name": "stdout",
     "output_type": "stream",
     "text": [
      "Epoch 67\n",
      "train\n",
      "Using real-time data augmentation.\n",
      "train loss score is :0.0016628733713988575\n",
      "train acc score is :0.9984414961636828\n",
      "It has been 6.779295444488525 seconds since the loop started\n",
      "test\n",
      "validation\n",
      "val loss score is :0.07012637221516023\n",
      "val acc score is :0.9780458860759493\n",
      "test\n",
      "test loss score is :0.05116105870563013\n",
      "test acc score is :0.9793314873417721\n"
     ]
    },
    {
     "name": "stderr",
     "output_type": "stream",
     "text": [
      "\r",
      " 68%|███████████████████████████████████████████████████████                          | 68/100 [08:04<04:14,  7.94s/it]"
     ]
    },
    {
     "name": "stdout",
     "output_type": "stream",
     "text": [
      "Epoch 68\n",
      "train\n",
      "Using real-time data augmentation.\n",
      "train loss score is :0.00010585527338361423\n",
      "train acc score is :0.9990409207161125\n",
      "It has been 6.687683582305908 seconds since the loop started\n",
      "test\n",
      "validation\n",
      "val loss score is :0.06819265735456714\n",
      "val acc score is :0.9785403481012658\n",
      "test\n",
      "test loss score is :0.05137310764443496\n",
      "test acc score is :0.9793314873417721\n"
     ]
    },
    {
     "name": "stderr",
     "output_type": "stream",
     "text": [
      "\r",
      " 69%|███████████████████████████████████████████████████████▉                         | 69/100 [08:12<04:06,  7.95s/it]"
     ]
    },
    {
     "name": "stdout",
     "output_type": "stream",
     "text": [
      "Epoch 69\n",
      "train\n",
      "Using real-time data augmentation.\n",
      "train loss score is :3.6112424271506866e-05\n",
      "train acc score is :0.9990409207161125\n",
      "It has been 6.4487080574035645 seconds since the loop started\n",
      "test\n",
      "validation\n",
      "val loss score is :0.06839496646792852\n",
      "val acc score is :0.9784414556962026\n",
      "test\n",
      "test loss score is :0.05185828992268363\n",
      "test acc score is :0.9794303797468354\n"
     ]
    },
    {
     "name": "stderr",
     "output_type": "stream",
     "text": [
      "\r",
      " 70%|████████████████████████████████████████████████████████▋                        | 70/100 [08:20<03:57,  7.91s/it]"
     ]
    },
    {
     "name": "stdout",
     "output_type": "stream",
     "text": [
      "Epoch 70\n",
      "train\n",
      "Using real-time data augmentation.\n",
      "train loss score is :2.49302917651835e-05\n",
      "train acc score is :0.9990409207161125\n",
      "It has been 6.30131983757019 seconds since the loop started\n",
      "test\n",
      "validation\n",
      "val loss score is :0.06942340823440044\n",
      "val acc score is :0.9784414556962026\n",
      "test\n",
      "test loss score is :0.05247642617904793\n",
      "test acc score is :0.9793314873417721\n"
     ]
    },
    {
     "name": "stderr",
     "output_type": "stream",
     "text": [
      "\r",
      " 71%|█████████████████████████████████████████████████████████▌                       | 71/100 [08:27<03:45,  7.78s/it]"
     ]
    },
    {
     "name": "stdout",
     "output_type": "stream",
     "text": [
      "Epoch 71\n",
      "train\n",
      "Using real-time data augmentation.\n",
      "train loss score is :1.890680506671347e-05\n",
      "train acc score is :0.9990409207161125\n",
      "It has been 5.865166187286377 seconds since the loop started\n",
      "test\n",
      "validation\n",
      "val loss score is :0.07019502307535909\n",
      "val acc score is :0.9786392405063291\n",
      "test\n",
      "test loss score is :0.053020493107297124\n",
      "test acc score is :0.9793314873417721\n"
     ]
    },
    {
     "name": "stderr",
     "output_type": "stream",
     "text": [
      "\r",
      " 72%|██████████████████████████████████████████████████████████▎                      | 72/100 [08:34<03:30,  7.51s/it]"
     ]
    },
    {
     "name": "stdout",
     "output_type": "stream",
     "text": [
      "Epoch 72\n",
      "train\n",
      "Using real-time data augmentation.\n",
      "train loss score is :1.6214744669402345e-05\n",
      "train acc score is :0.9990409207161125\n",
      "It has been 5.532582759857178 seconds since the loop started\n",
      "test\n",
      "validation\n",
      "val loss score is :0.07072000510579758\n",
      "val acc score is :0.9786392405063291\n",
      "test\n",
      "test loss score is :0.05360980894301053\n",
      "test acc score is :0.9794303797468354\n"
     ]
    },
    {
     "name": "stderr",
     "output_type": "stream",
     "text": [
      "\r",
      " 73%|███████████████████████████████████████████████████████████▏                     | 73/100 [08:41<03:16,  7.28s/it]"
     ]
    },
    {
     "name": "stdout",
     "output_type": "stream",
     "text": [
      "Epoch 73\n",
      "train\n",
      "Using real-time data augmentation.\n",
      "train loss score is :1.2762477872868081e-05\n",
      "train acc score is :0.9990409207161125\n",
      "It has been 6.272441387176514 seconds since the loop started\n",
      "test\n",
      "validation\n",
      "val loss score is :0.07138896359814748\n",
      "val acc score is :0.9784414556962026\n",
      "test\n",
      "test loss score is :0.05403482853010916\n",
      "test acc score is :0.9794303797468354\n"
     ]
    },
    {
     "name": "stderr",
     "output_type": "stream",
     "text": [
      "\r",
      " 74%|███████████████████████████████████████████████████████████▉                     | 74/100 [08:48<03:11,  7.38s/it]"
     ]
    },
    {
     "name": "stdout",
     "output_type": "stream",
     "text": [
      "Epoch 74\n",
      "train\n",
      "Using real-time data augmentation.\n",
      "train loss score is :1.0239837999425587e-05\n",
      "train acc score is :0.9990409207161125\n",
      "It has been 6.297451496124268 seconds since the loop started\n",
      "test\n",
      "validation\n",
      "val loss score is :0.07198328594035037\n",
      "val acc score is :0.9784414556962026\n",
      "test\n",
      "test loss score is :0.05460710502646293\n",
      "test acc score is :0.9795292721518988\n"
     ]
    },
    {
     "name": "stderr",
     "output_type": "stream",
     "text": [
      "\r",
      " 75%|████████████████████████████████████████████████████████████▊                    | 75/100 [08:56<03:05,  7.42s/it]"
     ]
    },
    {
     "name": "stdout",
     "output_type": "stream",
     "text": [
      "Epoch 75\n",
      "train\n",
      "Using real-time data augmentation.\n",
      "train loss score is :9.308707663119494e-06\n",
      "train acc score is :0.9990409207161125\n",
      "It has been 6.120687961578369 seconds since the loop started\n",
      "test\n",
      "validation\n",
      "val loss score is :0.07237868900491794\n",
      "val acc score is :0.9784414556962026\n",
      "test\n",
      "test loss score is :0.05496047190470281\n",
      "test acc score is :0.9797270569620253\n"
     ]
    },
    {
     "name": "stderr",
     "output_type": "stream",
     "text": [
      "\r",
      " 76%|█████████████████████████████████████████████████████████████▌                   | 76/100 [09:03<02:57,  7.39s/it]"
     ]
    },
    {
     "name": "stdout",
     "output_type": "stream",
     "text": [
      "Epoch 76\n",
      "train\n",
      "Using real-time data augmentation.\n",
      "train loss score is :7.112346008315005e-06\n",
      "train acc score is :0.9990409207161125\n",
      "It has been 5.877511262893677 seconds since the loop started\n",
      "test\n",
      "validation\n",
      "val loss score is :0.0727298257072218\n",
      "val acc score is :0.9787381329113924\n",
      "test\n",
      "test loss score is :0.05548774976979308\n",
      "test acc score is :0.9797270569620253\n"
     ]
    },
    {
     "name": "stderr",
     "output_type": "stream",
     "text": [
      "\r",
      " 77%|██████████████████████████████████████████████████████████████▎                  | 77/100 [09:10<02:46,  7.25s/it]"
     ]
    },
    {
     "name": "stdout",
     "output_type": "stream",
     "text": [
      "Epoch 77\n",
      "train\n",
      "Using real-time data augmentation.\n",
      "train loss score is :5.911672497945755e-06\n",
      "train acc score is :0.9990409207161125\n",
      "It has been 6.3969151973724365 seconds since the loop started\n",
      "test\n",
      "validation\n",
      "val loss score is :0.07378672610389579\n",
      "val acc score is :0.9790348101265823\n",
      "test\n",
      "test loss score is :0.05615029336250915\n",
      "test acc score is :0.9799248417721519\n"
     ]
    },
    {
     "name": "stderr",
     "output_type": "stream",
     "text": [
      "\r",
      " 78%|███████████████████████████████████████████████████████████████▏                 | 78/100 [09:18<02:41,  7.36s/it]"
     ]
    },
    {
     "name": "stdout",
     "output_type": "stream",
     "text": [
      "Epoch 78\n",
      "train\n",
      "Using real-time data augmentation.\n",
      "train loss score is :5.051429633754708e-06\n",
      "train acc score is :0.9990409207161125\n",
      "It has been 6.415836334228516 seconds since the loop started\n",
      "test\n",
      "validation\n",
      "val loss score is :0.07426890964715992\n",
      "val acc score is :0.9790348101265823\n",
      "test\n",
      "test loss score is :0.056623910143392485\n",
      "test acc score is :0.9798259493670886\n"
     ]
    },
    {
     "name": "stderr",
     "output_type": "stream",
     "text": [
      "\r",
      " 79%|███████████████████████████████████████████████████████████████▉                 | 79/100 [09:26<02:36,  7.45s/it]"
     ]
    },
    {
     "name": "stdout",
     "output_type": "stream",
     "text": [
      "Epoch 79\n",
      "train\n",
      "Using real-time data augmentation.\n",
      "train loss score is :4.47872858971499e-06\n",
      "train acc score is :0.9990409207161125\n",
      "It has been 6.3979105949401855 seconds since the loop started\n",
      "test\n",
      "validation\n",
      "val loss score is :0.07476598230013384\n",
      "val acc score is :0.9787381329113924\n",
      "test\n",
      "test loss score is :0.05724962657597671\n",
      "test acc score is :0.9799248417721519\n"
     ]
    },
    {
     "name": "stderr",
     "output_type": "stream",
     "text": [
      "\r",
      " 80%|████████████████████████████████████████████████████████████████▊                | 80/100 [09:33<02:30,  7.53s/it]"
     ]
    },
    {
     "name": "stdout",
     "output_type": "stream",
     "text": [
      "Epoch 80\n",
      "train\n",
      "Using real-time data augmentation.\n",
      "train loss score is :0.009900639238183498\n",
      "train acc score is :0.9962436061381074\n",
      "It has been 6.313268661499023 seconds since the loop started\n",
      "test\n",
      "validation\n",
      "val loss score is :0.07336782599074318\n",
      "val acc score is :0.9746835443037974\n",
      "test\n",
      "test loss score is :0.062468473370081136\n",
      "test acc score is :0.9759691455696202\n"
     ]
    },
    {
     "name": "stderr",
     "output_type": "stream",
     "text": [
      "\r",
      " 81%|█████████████████████████████████████████████████████████████████▌               | 81/100 [09:41<02:23,  7.54s/it]"
     ]
    },
    {
     "name": "stdout",
     "output_type": "stream",
     "text": [
      "Epoch 81\n",
      "train\n",
      "Using real-time data augmentation.\n",
      "train loss score is :0.004795392740580119\n",
      "train acc score is :0.9974024936061381\n",
      "It has been 5.7890636920928955 seconds since the loop started\n",
      "test\n",
      "validation\n",
      "val loss score is :0.05954337022341884\n",
      "val acc score is :0.978243670886076\n",
      "test\n",
      "test loss score is :0.0547894197547749\n",
      "test acc score is :0.9788370253164557\n"
     ]
    },
    {
     "name": "stderr",
     "output_type": "stream",
     "text": [
      "\r",
      " 82%|██████████████████████████████████████████████████████████████████▍              | 82/100 [09:48<02:12,  7.34s/it]"
     ]
    },
    {
     "name": "stdout",
     "output_type": "stream",
     "text": [
      "Epoch 82\n",
      "train\n",
      "Using real-time data augmentation.\n",
      "train loss score is :0.001521768873747956\n",
      "train acc score is :0.9985613810741688\n",
      "It has been 4.9049232006073 seconds since the loop started\n",
      "test\n",
      "validation\n",
      "val loss score is :0.06515561491457297\n",
      "val acc score is :0.9775514240506329\n",
      "test\n",
      "test loss score is :0.057852674983811775\n",
      "test acc score is :0.9786392405063291\n"
     ]
    },
    {
     "name": "stderr",
     "output_type": "stream",
     "text": [
      "\r",
      " 83%|███████████████████████████████████████████████████████████████████▏             | 83/100 [09:54<01:57,  6.89s/it]"
     ]
    },
    {
     "name": "stdout",
     "output_type": "stream",
     "text": [
      "Epoch 83\n",
      "train\n",
      "Using real-time data augmentation.\n",
      "train loss score is :0.0005066159746809175\n",
      "train acc score is :0.9989410166240409\n",
      "It has been 5.437629222869873 seconds since the loop started\n",
      "test\n",
      "validation\n",
      "val loss score is :0.06100949756208002\n",
      "val acc score is :0.9790348101265823\n",
      "test\n",
      "test loss score is :0.052757738784534235\n",
      "test acc score is :0.9787381329113924\n"
     ]
    },
    {
     "name": "stderr",
     "output_type": "stream",
     "text": [
      "\r",
      " 84%|████████████████████████████████████████████████████████████████████             | 84/100 [10:00<01:48,  6.77s/it]"
     ]
    },
    {
     "name": "stdout",
     "output_type": "stream",
     "text": [
      "Epoch 84\n",
      "train\n",
      "Using real-time data augmentation.\n",
      "train loss score is :0.00013493376385071305\n",
      "train acc score is :0.9990009590792839\n",
      "It has been 5.244793653488159 seconds since the loop started\n",
      "test\n",
      "validation\n",
      "val loss score is :0.06470227779306087\n",
      "val acc score is :0.9784414556962026\n",
      "test\n",
      "test loss score is :0.05557827458771084\n",
      "test acc score is :0.9795292721518988\n"
     ]
    },
    {
     "name": "stderr",
     "output_type": "stream",
     "text": [
      "\r",
      " 85%|████████████████████████████████████████████████████████████████████▊            | 85/100 [10:06<01:40,  6.68s/it]"
     ]
    },
    {
     "name": "stdout",
     "output_type": "stream",
     "text": [
      "Epoch 85\n",
      "train\n",
      "Using real-time data augmentation.\n",
      "train loss score is :7.999514370945035e-05\n",
      "train acc score is :0.9990409207161125\n",
      "It has been 5.753653049468994 seconds since the loop started\n",
      "test\n",
      "validation\n",
      "val loss score is :0.064031507747802\n",
      "val acc score is :0.9792325949367089\n",
      "test\n",
      "test loss score is :0.05515707312973731\n",
      "test acc score is :0.9798259493670886\n"
     ]
    },
    {
     "name": "stderr",
     "output_type": "stream",
     "text": [
      "\r",
      " 86%|█████████████████████████████████████████████████████████████████████▋           | 86/100 [10:13<01:34,  6.73s/it]"
     ]
    },
    {
     "name": "stdout",
     "output_type": "stream",
     "text": [
      "Epoch 86\n",
      "train\n",
      "Using real-time data augmentation.\n",
      "train loss score is :0.000861718484763267\n",
      "train acc score is :0.998821131713555\n",
      "It has been 6.244550943374634 seconds since the loop started\n",
      "test\n",
      "validation\n",
      "val loss score is :0.07512922805352314\n",
      "val acc score is :0.9756724683544303\n",
      "test\n",
      "test loss score is :0.06228587046905288\n",
      "test acc score is :0.9770569620253164\n"
     ]
    },
    {
     "name": "stderr",
     "output_type": "stream",
     "text": [
      "\r",
      " 87%|██████████████████████████████████████████████████████████████████████▍          | 87/100 [10:21<01:30,  6.97s/it]"
     ]
    },
    {
     "name": "stdout",
     "output_type": "stream",
     "text": [
      "Epoch 87\n",
      "train\n",
      "Using real-time data augmentation.\n",
      "train loss score is :0.006944116693778682\n",
      "train acc score is :0.9967231457800512\n",
      "It has been 6.105158567428589 seconds since the loop started\n",
      "test\n",
      "validation\n",
      "val loss score is :0.07498837101602016\n",
      "val acc score is :0.9769580696202531\n",
      "test\n",
      "test loss score is :0.05727239569827927\n",
      "test acc score is :0.9785403481012658\n"
     ]
    },
    {
     "name": "stderr",
     "output_type": "stream",
     "text": [
      "\r",
      " 88%|███████████████████████████████████████████████████████████████████████▎         | 88/100 [10:28<01:24,  7.07s/it]"
     ]
    },
    {
     "name": "stdout",
     "output_type": "stream",
     "text": [
      "Epoch 88\n",
      "train\n",
      "Using real-time data augmentation.\n",
      "train loss score is :0.0010161482952836007\n",
      "train acc score is :0.998701246803069\n",
      "It has been 5.542571783065796 seconds since the loop started\n",
      "test\n",
      "validation\n",
      "val loss score is :0.06895763895817011\n",
      "val acc score is :0.9795292721518988\n",
      "test\n",
      "test loss score is :0.053379296460506445\n",
      "test acc score is :0.9792325949367089\n"
     ]
    },
    {
     "name": "stderr",
     "output_type": "stream",
     "text": [
      "\r",
      " 89%|████████████████████████████████████████████████████████████████████████         | 89/100 [10:35<01:16,  6.98s/it]"
     ]
    },
    {
     "name": "stdout",
     "output_type": "stream",
     "text": [
      "Epoch 89\n",
      "train\n",
      "Using real-time data augmentation.\n",
      "train loss score is :0.0020108382502292484\n",
      "train acc score is :0.9984614769820972\n",
      "It has been 6.163902282714844 seconds since the loop started\n",
      "test\n",
      "validation\n",
      "val loss score is :0.06619967350412434\n",
      "val acc score is :0.9786392405063291\n",
      "test\n",
      "test loss score is :0.05280589647651611\n",
      "test acc score is :0.9793314873417721\n"
     ]
    },
    {
     "name": "stderr",
     "output_type": "stream",
     "text": [
      "\r",
      " 90%|████████████████████████████████████████████████████████████████████████▉        | 90/100 [10:42<01:11,  7.13s/it]"
     ]
    },
    {
     "name": "stdout",
     "output_type": "stream",
     "text": [
      "Epoch 90\n",
      "train\n",
      "Using real-time data augmentation.\n",
      "train loss score is :0.000540972913468428\n",
      "train acc score is :0.9989210358056266\n",
      "It has been 6.213690280914307 seconds since the loop started\n",
      "test\n",
      "validation\n",
      "val loss score is :0.06597883795475239\n",
      "val acc score is :0.9786392405063291\n",
      "test\n",
      "test loss score is :0.05614534620611684\n",
      "test acc score is :0.9787381329113924\n"
     ]
    },
    {
     "name": "stderr",
     "output_type": "stream",
     "text": [
      "\r",
      " 91%|█████████████████████████████████████████████████████████████████████████▋       | 91/100 [10:50<01:05,  7.25s/it]"
     ]
    },
    {
     "name": "stdout",
     "output_type": "stream",
     "text": [
      "Epoch 91\n",
      "train\n",
      "Using real-time data augmentation.\n",
      "train loss score is :0.00035179635934477077\n",
      "train acc score is :0.9990009590792839\n",
      "It has been 5.726751089096069 seconds since the loop started\n",
      "test\n",
      "validation\n",
      "val loss score is :0.06463866780779166\n",
      "val acc score is :0.9790348101265823\n",
      "test\n",
      "test loss score is :0.05224157850978925\n",
      "test acc score is :0.9793314873417721\n"
     ]
    },
    {
     "name": "stderr",
     "output_type": "stream",
     "text": [
      "\r",
      " 92%|██████████████████████████████████████████████████████████████████████████▌      | 92/100 [10:57<00:57,  7.20s/it]"
     ]
    },
    {
     "name": "stdout",
     "output_type": "stream",
     "text": [
      "Epoch 92\n",
      "train\n",
      "Using real-time data augmentation.\n",
      "train loss score is :3.1174665479175994e-05\n",
      "train acc score is :0.9990409207161125\n",
      "It has been 6.399902105331421 seconds since the loop started\n",
      "test\n",
      "validation\n",
      "val loss score is :0.06481882450561337\n",
      "val acc score is :0.978935917721519\n",
      "test\n",
      "test loss score is :0.05147270271348104\n",
      "test acc score is :0.9790348101265823\n"
     ]
    },
    {
     "name": "stderr",
     "output_type": "stream",
     "text": [
      "\r",
      " 93%|███████████████████████████████████████████████████████████████████████████▎     | 93/100 [11:05<00:51,  7.34s/it]"
     ]
    },
    {
     "name": "stdout",
     "output_type": "stream",
     "text": [
      "Epoch 93\n",
      "train\n",
      "Using real-time data augmentation.\n",
      "train loss score is :1.9684302483795393e-05\n",
      "train acc score is :0.9990409207161125\n",
      "It has been 6.271806001663208 seconds since the loop started\n",
      "test\n",
      "validation\n",
      "val loss score is :0.06501351192547655\n",
      "val acc score is :0.9793314873417721\n",
      "test\n",
      "test loss score is :0.05173044276498734\n",
      "test acc score is :0.9791337025316456\n"
     ]
    },
    {
     "name": "stderr",
     "output_type": "stream",
     "text": [
      "\r",
      " 94%|████████████████████████████████████████████████████████████████████████████▏    | 94/100 [11:12<00:44,  7.43s/it]"
     ]
    },
    {
     "name": "stdout",
     "output_type": "stream",
     "text": [
      "Epoch 94\n",
      "train\n",
      "Using real-time data augmentation.\n",
      "train loss score is :1.5085816832596664e-05\n",
      "train acc score is :0.9990409207161125\n",
      "It has been 6.236593723297119 seconds since the loop started\n",
      "test\n",
      "validation\n",
      "val loss score is :0.06632331010635578\n",
      "val acc score is :0.9793314873417721\n",
      "test\n",
      "test loss score is :0.052490021389179624\n",
      "test acc score is :0.9792325949367089\n"
     ]
    },
    {
     "name": "stderr",
     "output_type": "stream",
     "text": [
      "\r",
      " 95%|████████████████████████████████████████████████████████████████████████████▉    | 95/100 [11:20<00:37,  7.45s/it]"
     ]
    },
    {
     "name": "stdout",
     "output_type": "stream",
     "text": [
      "Epoch 95\n",
      "train\n",
      "Using real-time data augmentation.\n",
      "train loss score is :1.1668537028312045e-05\n",
      "train acc score is :0.9990409207161125\n",
      "It has been 5.97968864440918 seconds since the loop started\n",
      "test\n",
      "validation\n",
      "val loss score is :0.06734231231879836\n",
      "val acc score is :0.9793314873417721\n",
      "test\n",
      "test loss score is :0.05300123046770856\n",
      "test acc score is :0.9792325949367089\n"
     ]
    },
    {
     "name": "stderr",
     "output_type": "stream",
     "text": [
      "\r",
      " 96%|█████████████████████████████████████████████████████████████████████████████▊   | 96/100 [11:27<00:29,  7.39s/it]"
     ]
    },
    {
     "name": "stdout",
     "output_type": "stream",
     "text": [
      "Epoch 96\n",
      "train\n",
      "Using real-time data augmentation.\n",
      "train loss score is :9.803391386250961e-06\n",
      "train acc score is :0.9990409207161125\n",
      "It has been 5.949870586395264 seconds since the loop started\n",
      "test\n",
      "validation\n",
      "val loss score is :0.06794201211960176\n",
      "val acc score is :0.9793314873417721\n",
      "test\n",
      "test loss score is :0.05331498413434192\n",
      "test acc score is :0.9791337025316456\n"
     ]
    },
    {
     "name": "stderr",
     "output_type": "stream",
     "text": [
      "\r",
      " 97%|██████████████████████████████████████████████████████████████████████████████▌  | 97/100 [11:34<00:22,  7.34s/it]"
     ]
    },
    {
     "name": "stdout",
     "output_type": "stream",
     "text": [
      "Epoch 97\n",
      "train\n",
      "Using real-time data augmentation.\n",
      "train loss score is :7.938927677367606e-06\n",
      "train acc score is :0.9990409207161125\n",
      "It has been 5.655055522918701 seconds since the loop started\n",
      "test\n",
      "validation\n",
      "val loss score is :0.06878866893854053\n",
      "val acc score is :0.9793314873417721\n",
      "test\n",
      "test loss score is :0.054080136899275696\n",
      "test acc score is :0.9791337025316456\n"
     ]
    },
    {
     "name": "stderr",
     "output_type": "stream",
     "text": [
      "\r",
      " 98%|███████████████████████████████████████████████████████████████████████████████▍ | 98/100 [11:41<00:14,  7.19s/it]"
     ]
    },
    {
     "name": "stdout",
     "output_type": "stream",
     "text": [
      "Epoch 98\n",
      "train\n",
      "Using real-time data augmentation.\n",
      "train loss score is :6.581036722515584e-06\n",
      "train acc score is :0.9990409207161125\n",
      "It has been 6.207714080810547 seconds since the loop started\n",
      "test\n",
      "validation\n",
      "val loss score is :0.06931637542623358\n",
      "val acc score is :0.9792325949367089\n",
      "test\n",
      "test loss score is :0.054356192779105465\n",
      "test acc score is :0.9791337025316456\n"
     ]
    },
    {
     "name": "stderr",
     "output_type": "stream",
     "text": [
      "\r",
      " 99%|████████████████████████████████████████████████████████████████████████████████▏| 99/100 [11:49<00:07,  7.26s/it]"
     ]
    },
    {
     "name": "stdout",
     "output_type": "stream",
     "text": [
      "Epoch 99\n",
      "train\n",
      "Using real-time data augmentation.\n",
      "train loss score is :5.463667012232839e-06\n",
      "train acc score is :0.9990409207161125\n",
      "It has been 6.124069452285767 seconds since the loop started\n",
      "test\n",
      "validation\n",
      "val loss score is :0.06986345048503256\n",
      "val acc score is :0.9790348101265823\n",
      "test\n",
      "test loss score is :0.054859055508395954\n",
      "test acc score is :0.9791337025316456\n"
     ]
    },
    {
     "name": "stderr",
     "output_type": "stream",
     "text": [
      "100%|████████████████████████████████████████████████████████████████████████████████| 100/100 [11:56<00:00,  7.30s/it]\n"
     ]
    }
   ],
   "source": [
    "input_tensors = [all_model[0].inputs[0], # input data\n",
    "                 all_model[0].sample_weights[0], # how much to weight each sample by\n",
    "                 all_model[0].targets[0], # labels\n",
    "                 K.learning_phase(), # train or test mode\n",
    "                 all_model[1].inputs[0], # input data\n",
    "                 all_model[1].sample_weights[0], # how much to weight each sample by\n",
    "                 all_model[1].targets[0], # labels\n",
    "                 all_model[2].inputs[0], # input data\n",
    "                 all_model[2].sample_weights[0], # how much to weight each sample by\n",
    "                 all_model[2].targets[0], # labels\n",
    "                ]\n",
    "\n",
    "\n",
    "minlos = K.argmin(losses)\n",
    "\n",
    "grr=[]\n",
    "for x in gr:\n",
    "    for y in x:\n",
    "        grr.append(y)\n",
    "\n",
    "upd_test= K.function(inputs=input_tensors, outputs=[ losses[0], losses[1], losses[2], minlos, prediction[0], prediction[1], prediction[2] ])\n",
    "\n",
    "\n",
    "grad_best=[]\n",
    "grad_non0 = []\n",
    "grad_non1 = []\n",
    "\n",
    "\n",
    "weig_best=[]\n",
    "weig_non0 = []\n",
    "weig_non1 = []\n",
    "\n",
    "xweig_best=[]\n",
    "xweig_non0 = []\n",
    "xweig_non1 = []\n",
    "\n",
    "\n",
    "\n",
    "\n",
    "for i in range(len(gr[0])):\n",
    "    gr_ck=tf.concat([gr[0][i],gr[1][i], gr[2][i]],0)\n",
    "    newshape = (3, ) + (tuple(wr[0][i].shape))\n",
    "\n",
    "    \n",
    "    gr_ck2=tf.reshape(gr_ck, newshape)\n",
    "    \n",
    "    bb = gr_ck2[minlos]\n",
    "    grad_best.append(bb)\n",
    "    \n",
    "    nbb0 = gr_ck2[0:minlos]                       #[0,enk) U (enk,] aralıklarının birleşimi bize nonbesti verecek\n",
    "    nbb1 = gr_ck2[minlos+1:]                      #[0,enk) U (enk,] aralıklarının birleşimi bize nonbesti verecek\n",
    "    nbc = tf.concat([nbb0,nbb1], 0)    \n",
    "    nbc = tf.reshape(nbc, (-1,))\n",
    "    newshape2 = (2, ) + (tuple(wr[0][i].shape))\n",
    "    \n",
    "    nbc2 = tf.reshape(nbc, newshape2) \n",
    "    nb0 = nbc2[0]\n",
    "    nb1 = nbc2[1]\n",
    "    grad_non0.append(nb0)\n",
    "    grad_non1.append(nb1)\n",
    "    \n",
    "\n",
    "    wr_ck=tf.concat([wr[0][i],wr[1][i], wr[2][i]],0)\n",
    "    \n",
    "    newshape = (3, ) + (tuple(wr[0][i].shape))\n",
    "    wr_ck2=tf.reshape(wr_ck, newshape) \n",
    "    bb2 = wr_ck2[minlos]\n",
    "    weig_best.append(bb2)\n",
    "    \n",
    "    #wb = wr_ck[minlos]\n",
    "    wnbb0 = wr_ck2[0:minlos]                       #[0,enk) U (enk,] aralıklarının birleşimi bize nonbesti verecek\n",
    "    wnbb1 = wr_ck2[minlos+1:]                      #[0,enk) U (enk,] aralıklarının birleşimi bize nonbesti verecek\n",
    "    wnbc = tf.concat([wnbb0,wnbb1],0)    \n",
    "    wnbc = tf.reshape(wnbc, (-1,))\n",
    "    newshape2 = (2, ) + (tuple(wr[0][i].shape))\n",
    "    \n",
    "    wnbc2 =tf.reshape(wnbc, newshape2)\n",
    "    wnb0 = wnbc2[0]\n",
    "    wnb1 = wnbc2[1]\n",
    "    weig_non0.append(wnb0)\n",
    "    weig_non1.append(wnb1)\n",
    "    \n",
    "    if i<len(xwr[0]):\n",
    "        print (i)\n",
    "        xwr_ck=tf.concat([xwr[0][i],xwr[1][i], xwr[2][i]], 0)\n",
    "\n",
    "        newshape = (3, ) + (tuple(xwr[0][i].shape))\n",
    "        \n",
    "        xwr_ck2=tf.reshape(xwr_ck, newshape)  \n",
    "        xbb2 = xwr_ck2[minlos]\n",
    "        xweig_best.append(xbb2)\n",
    "\n",
    "        #wb = wr_ck[minlos]\n",
    "        xwnbb0 = xwr_ck2[0:minlos]                       #[0,enk) U (enk,] aralıklarının birleşimi bize nonbesti verecek\n",
    "        xwnbb1 = xwr_ck2[minlos+1:]                      #[0,enk) U (enk,] aralıklarının birleşimi bize nonbesti verecek\n",
    "        xwnbc = tf.concat([xwnbb0,xwnbb1], 0)    \n",
    "        \n",
    "        xwnbc = tf.reshape(xwnbc, (-1,))\n",
    "        newshape2 = (2, ) + (tuple(xwr[0][i].shape))\n",
    "         \n",
    "        xwnbc2 = tf.reshape(xwnbc, newshape2) \n",
    "        xwnb0 = xwnbc2[0]\n",
    "        xwnb1 = xwnbc2[1]\n",
    "        xweig_non0.append(xwnb0)\n",
    "        xweig_non1.append(xwnb1)\n",
    "    else:\n",
    "        pass\n",
    "\n",
    "    \n",
    "los=tf.stack([losses[0], losses[1], losses[2]])\n",
    "\n",
    "newshape = (3, )\n",
    "los2=tf.reshape(los, newshape) \n",
    "losbest = los2[minlos]\n",
    "\n",
    "#wb = wr_ck[minlos]\n",
    "los_0 = los2[0:minlos]                       #[0,enk) U (enk,] aralıklarının birleşimi bize nonbesti verecek\n",
    "los_1 = los2[minlos+1:]                      #[0,enk) U (enk,] aralıklarının birleşimi bize nonbesti verecek\n",
    "loswnbc = tf.concat([los_0,los_1],0)    \n",
    "loswnbc = tf.reshape(loswnbc,(-1,))\n",
    "newshape2 = (2, )\n",
    "\n",
    "loswnbc2 = tf.reshape(loswnbc, newshape2)\n",
    "losss0 = loswnbc2[0]\n",
    "losss1 = loswnbc2[1]\n",
    "\n",
    "adamb_m = [tf.Variable(tf.zeros(t.shape, dtype=tf.float32, name='m_best')) for t in weig_best]\n",
    "adamb_v = [tf.Variable(tf.zeros(t.shape, dtype=tf.float32, name='v_best')) for t in weig_best]\n",
    "adam0_m = [tf.Variable(tf.zeros(t.shape, dtype=tf.float32, name='m_0')) for t in weig_non0]\n",
    "adam0_v = [tf.Variable(tf.zeros(t.shape, dtype=tf.float32, name='v_0')) for t in weig_non0]\n",
    "adam1_m = [tf.Variable(tf.zeros(t.shape, dtype=tf.float32, name='m_1')) for t in weig_non1]\n",
    "adam1_v = [tf.Variable(tf.zeros(t.shape, dtype=tf.float32, name='v_2')) for t in weig_non1]\n",
    "\n",
    "beta_1 = 0.9\n",
    "beta_2 = 0.999\n",
    "step_size = 0.001\n",
    "eps = 1e-8\n",
    "t = tf.Variable(1.0, name='iteration')\n",
    "\n",
    "upd2=[]\n",
    "\n",
    "for m, v, best, gbest,  param_i, in zip(adamb_m, adamb_v, weig_best, grad_best, wr[2]):\n",
    "    _m = beta_1 * m + (1 - beta_1) * gbest\n",
    "    _v = beta_2 * v + (1 - beta_2) * tf.pow(gbest, 2)\n",
    "    m_hat = _m / (1 - tf.pow(beta_1, t))\n",
    "    v_hat = _v / (1 - tf.pow(beta_2, t))\n",
    "    #m_hat = tf.cast(m_hat, tf.float32)\n",
    "    #v_hat = tf.cast(v_hat, tf.float32)\n",
    "    #upd2.extend([(m, _m)])\n",
    "    #upd2.extend([(v, _v)])\n",
    "    upd2.extend([tf.assign(m, _m)])\n",
    "    upd2.extend([tf.assign(v, _v)])\n",
    "    xbest = best - step_size * m_hat / (tf.sqrt(v_hat) + eps)\n",
    "    #upd2.extend([(param_i, xbest)])\n",
    "    upd2.extend([tf.assign(param_i, xbest)])\n",
    "\n",
    "\n",
    "upd2.extend([t.assign_add(1.0)])\n",
    "\n",
    "upd2.extend([tf.assign(param_i, v)\n",
    "        for param_i, v in zip(xwr[2], xweig_best)]\n",
    "    )    \n",
    "    \n",
    "    \n",
    "upd_bb2= K.function(inputs=input_tensors, outputs=[ losses[0], losses[1], losses[2], minlos, prediction[0], prediction[1], prediction[2] ], updates=upd2)\n",
    "\n",
    "\n",
    "\n",
    "\n",
    "\n",
    "\n",
    "lossepoch=[]\n",
    "lossepoch_test=[]\n",
    "lossx=[]\n",
    "acctra=[]\n",
    "loss_test=[]\n",
    "acc_test=[]\n",
    "skip=[]\n",
    "\n",
    "\n",
    "loss_val=[]\n",
    "acc_val=[]\n",
    "lossepoch_val=[]\n",
    "\n",
    "   \n",
    "for f in tqdm(range(epochs)):\n",
    "    program_starts = time.time()\n",
    "    tr1=[]\n",
    "    tr2=[]\n",
    "    res1=[]\n",
    "    res2=[]\n",
    "    res3=[]\n",
    "    res4=[]\n",
    "    print('Epoch', f)\n",
    "    print ('train')\n",
    "    \n",
    "    print('Using real-time data augmentation.')\n",
    "    # This will do preprocessing and realtime data augmentation:\n",
    "\n",
    "    batches = 0\n",
    "    for x_batch, y_batch in ImageDataGenerator().flow(x_train, y_train, batch_size=batch_size):\n",
    "        K.set_learning_phase(1)\n",
    "        inputs = [x_batch, # X\n",
    "                  np.ones(y_batch.shape[0]), # sample weights\n",
    "                  y_batch, # y\n",
    "                  1, # learning phase in Train mode\n",
    "                  x_batch, # X\n",
    "                  np.ones(y_batch.shape[0]), # sample weights\n",
    "                  y_batch, # y\n",
    "                  x_batch, # X\n",
    "                  np.ones(y_batch.shape[0]), # sample weights\n",
    "                  y_batch, # y\n",
    "                 ]\n",
    "        ll = upd_bb2(inputs)\n",
    "        yhat=ll[6]\n",
    "        #print (accuracy_score(np.argmax(y_batch,axis=1), np.argmax(yhat,axis=1)))\n",
    "        #print (ll[:4])\n",
    "        lossepoch.append(ll[2])\n",
    "        tr1.append(ll[2])\n",
    "        tr2.append(accuracy_score(np.argmax(y_batch,axis=1), np.argmax(yhat,axis=1)))\n",
    "        skip.append(ll[3])\n",
    "        batches += 1\n",
    "        if batches > len(x_train) / batch_size:\n",
    "            # we need to break the loop by hand because\n",
    "            # the generator loops indefinitely\n",
    "            break\n",
    "    m=(len(x_train) / batch_size)-int((len(x_train) / batch_size))\n",
    "    tr1[-1]*=m\n",
    "    tr2[-1]*=m\n",
    "    lossx.append(np.mean(tr1))\n",
    "    acctra.append(np.mean(tr2))\n",
    "    print ('train loss score is :'+str(np.mean(tr1)))\n",
    "    print ('train acc score is :'+str(np.mean(tr2)))\n",
    "    now = time.time()\n",
    "    print(\"It has been {0} seconds since the loop started\".format(now - program_starts))\n",
    "    print ('test')\n",
    "    batchesx = 0\n",
    "    \n",
    "    \n",
    "    \n",
    "    \n",
    "    print ('validation')\n",
    "    batchesx = 0\n",
    "    for x_batch, y_batch in ImageDataGenerator().flow(x_val, y_val, batch_size=batch_size):\n",
    "        K.set_learning_phase(0)\n",
    "        inputs = [x_batch, # X\n",
    "                  np.ones(y_batch.shape[0]), # sample weights\n",
    "                  y_batch, # y\n",
    "                  1, # learning phase in VAl mode\n",
    "                  x_batch, # X\n",
    "                  np.ones(y_batch.shape[0]), # sample weights\n",
    "                  y_batch, # y\n",
    "                  x_batch, # X\n",
    "                  np.ones(y_batch.shape[0]), # sample weights\n",
    "                  y_batch, # y\n",
    "                 ]\n",
    "        ll = upd_test(inputs)\n",
    "        yhat=ll[6]\n",
    "        #print (accuracy_score(np.argmax(y_batch,axis=1), np.argmax(yhat,axis=1)))\n",
    "        #print (ll[:3])\n",
    "        lossepoch_val.append(ll[2])\n",
    "        res3.append(ll[2])\n",
    "        res4.append(accuracy_score(np.argmax(y_batch,axis=1), np.argmax(yhat,axis=1)))\n",
    "        batchesx += 1\n",
    "        if batchesx >= len(x_val) / batch_size:\n",
    "            break\n",
    "    m=(len(x_val) / batch_size)-int((len(x_val) / batch_size))\n",
    "    res3[-1]*=m\n",
    "    res4[-1]*=m\n",
    "    loss_val.append(np.mean(res3))\n",
    "    acc_val.append(np.mean(res4))\n",
    "    print ('val loss score is :'+str(np.mean(res3)))\n",
    "    print ('val acc score is :'+str(np.mean(res4)))\n",
    "    print ('test')\n",
    "    batchesx = 0\n",
    "    for x_batch, y_batch in ImageDataGenerator().flow(x_test, y_test, batch_size=batch_size):\n",
    "        K.set_learning_phase(0)\n",
    "        inputs = [x_batch, # X\n",
    "                  np.ones(y_batch.shape[0]), # sample weights\n",
    "                  y_batch, # y\n",
    "                  1, # learning phase in TEST mode\n",
    "                  x_batch, # X\n",
    "                  np.ones(y_batch.shape[0]), # sample weights\n",
    "                  y_batch, # y\n",
    "                  x_batch, # X\n",
    "                  np.ones(y_batch.shape[0]), # sample weights\n",
    "                  y_batch, # y\n",
    "                 ]\n",
    "        ll = upd_test(inputs)\n",
    "        yhat=ll[6]\n",
    "        #print (accuracy_score(np.argmax(y_batch,axis=1), np.argmax(yhat,axis=1)))\n",
    "        #print (ll[:3])\n",
    "        lossepoch_test.append(ll[2])\n",
    "        res1.append(ll[2])\n",
    "        res2.append(accuracy_score(np.argmax(y_batch,axis=1), np.argmax(yhat,axis=1)))\n",
    "        batchesx += 1\n",
    "        if batchesx >= len(x_test) / batch_size:\n",
    "            break\n",
    "    m=(len(x_test) / batch_size)-int((len(x_test) / batch_size))\n",
    "    res1[-1]*=m\n",
    "    res2[-1]*=m\n",
    "    loss_test.append(np.mean(res1))\n",
    "    acc_test.append(np.mean(res2))\n",
    "    print ('test loss score is :'+str(np.mean(res1)))\n",
    "    print ('test acc score is :'+str(np.mean(res2)))\n",
    "\n"
   ]
  },
  {
   "cell_type": "code",
   "execution_count": 12,
   "metadata": {},
   "outputs": [],
   "source": [
    "#\\K.clear_session()"
   ]
  },
  {
   "cell_type": "code",
   "execution_count": 13,
   "metadata": {},
   "outputs": [
    {
     "name": "stdout",
     "output_type": "stream",
     "text": [
      "0.9804193037974683 51\n",
      "0.979628164556962 56\n",
      "0.03516441248492684 10\n",
      "0.04589968816194817 20\n"
     ]
    }
   ],
   "source": [
    "print (np.max(acc_test), np.argmax(acc_test))\n",
    "print (np.max(acc_val), np.argmax(acc_val))\n",
    "print (np.min(loss_test), np.argmin(loss_test))\n",
    "print (np.min(loss_val), np.argmin(loss_val))\n"
   ]
  },
  {
   "cell_type": "code",
   "execution_count": 14,
   "metadata": {},
   "outputs": [],
   "source": [
    "np.savetxt(\"Adam_Mnist_lossepoch.csv\", lossepoch, delimiter=\",\", fmt='%s')\n",
    "np.savetxt(\"Adam_Mnist_lossepoch_test.csv\", lossepoch_test, delimiter=\",\", fmt='%s')\n",
    "np.savetxt(\"Adam_Mnist_loss_tra.csv\", lossx, delimiter=\",\", fmt='%s')\n",
    "np.savetxt(\"Adam_Mnist_skip.csv\", skip, delimiter=\",\", fmt='%s')\n",
    "np.savetxt(\"Adam_Mnist_acc_tra.csv\", acctra, delimiter=\",\", fmt='%s')\n",
    "np.savetxt(\"Adam_Mnist_loss_test.csv\", loss_test, delimiter=\",\", fmt='%s')\n",
    "np.savetxt(\"Adam_Mnist_acc_test.csv\", acc_test, delimiter=\",\", fmt='%s')"
   ]
  },
  {
   "cell_type": "code",
   "execution_count": null,
   "metadata": {},
   "outputs": [],
   "source": []
  }
 ],
 "metadata": {
  "kernelspec": {
   "display_name": "Python 2",
   "language": "python",
   "name": "python2"
  },
  "language_info": {
   "codemirror_mode": {
    "name": "ipython",
    "version": 2
   },
   "file_extension": ".py",
   "mimetype": "text/x-python",
   "name": "python",
   "nbconvert_exporter": "python",
   "pygments_lexer": "ipython2",
   "version": "2.7.16"
  }
 },
 "nbformat": 4,
 "nbformat_minor": 2
}
