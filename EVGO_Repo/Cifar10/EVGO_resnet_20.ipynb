{
 "cells": [
  {
   "cell_type": "code",
   "execution_count": 1,
   "metadata": {},
   "outputs": [
    {
     "name": "stderr",
     "output_type": "stream",
     "text": [
      "C:\\Users\\ikarabayir\\.conda\\envs\\tf_gpu\\lib\\site-packages\\tensorflow\\python\\framework\\dtypes.py:516: FutureWarning: Passing (type, 1) or '1type' as a synonym of type is deprecated; in a future version of numpy, it will be understood as (type, (1,)) / '(1,)type'.\n",
      "  _np_qint8 = np.dtype([(\"qint8\", np.int8, 1)])\n",
      "C:\\Users\\ikarabayir\\.conda\\envs\\tf_gpu\\lib\\site-packages\\tensorflow\\python\\framework\\dtypes.py:517: FutureWarning: Passing (type, 1) or '1type' as a synonym of type is deprecated; in a future version of numpy, it will be understood as (type, (1,)) / '(1,)type'.\n",
      "  _np_quint8 = np.dtype([(\"quint8\", np.uint8, 1)])\n",
      "C:\\Users\\ikarabayir\\.conda\\envs\\tf_gpu\\lib\\site-packages\\tensorflow\\python\\framework\\dtypes.py:518: FutureWarning: Passing (type, 1) or '1type' as a synonym of type is deprecated; in a future version of numpy, it will be understood as (type, (1,)) / '(1,)type'.\n",
      "  _np_qint16 = np.dtype([(\"qint16\", np.int16, 1)])\n",
      "C:\\Users\\ikarabayir\\.conda\\envs\\tf_gpu\\lib\\site-packages\\tensorflow\\python\\framework\\dtypes.py:519: FutureWarning: Passing (type, 1) or '1type' as a synonym of type is deprecated; in a future version of numpy, it will be understood as (type, (1,)) / '(1,)type'.\n",
      "  _np_quint16 = np.dtype([(\"quint16\", np.uint16, 1)])\n",
      "C:\\Users\\ikarabayir\\.conda\\envs\\tf_gpu\\lib\\site-packages\\tensorflow\\python\\framework\\dtypes.py:520: FutureWarning: Passing (type, 1) or '1type' as a synonym of type is deprecated; in a future version of numpy, it will be understood as (type, (1,)) / '(1,)type'.\n",
      "  _np_qint32 = np.dtype([(\"qint32\", np.int32, 1)])\n",
      "C:\\Users\\ikarabayir\\.conda\\envs\\tf_gpu\\lib\\site-packages\\tensorflow\\python\\framework\\dtypes.py:525: FutureWarning: Passing (type, 1) or '1type' as a synonym of type is deprecated; in a future version of numpy, it will be understood as (type, (1,)) / '(1,)type'.\n",
      "  np_resource = np.dtype([(\"resource\", np.ubyte, 1)])\n",
      "C:\\Users\\ikarabayir\\.conda\\envs\\tf_gpu\\lib\\site-packages\\tensorboard\\compat\\tensorflow_stub\\dtypes.py:541: FutureWarning: Passing (type, 1) or '1type' as a synonym of type is deprecated; in a future version of numpy, it will be understood as (type, (1,)) / '(1,)type'.\n",
      "  _np_qint8 = np.dtype([(\"qint8\", np.int8, 1)])\n",
      "C:\\Users\\ikarabayir\\.conda\\envs\\tf_gpu\\lib\\site-packages\\tensorboard\\compat\\tensorflow_stub\\dtypes.py:542: FutureWarning: Passing (type, 1) or '1type' as a synonym of type is deprecated; in a future version of numpy, it will be understood as (type, (1,)) / '(1,)type'.\n",
      "  _np_quint8 = np.dtype([(\"quint8\", np.uint8, 1)])\n",
      "C:\\Users\\ikarabayir\\.conda\\envs\\tf_gpu\\lib\\site-packages\\tensorboard\\compat\\tensorflow_stub\\dtypes.py:543: FutureWarning: Passing (type, 1) or '1type' as a synonym of type is deprecated; in a future version of numpy, it will be understood as (type, (1,)) / '(1,)type'.\n",
      "  _np_qint16 = np.dtype([(\"qint16\", np.int16, 1)])\n",
      "C:\\Users\\ikarabayir\\.conda\\envs\\tf_gpu\\lib\\site-packages\\tensorboard\\compat\\tensorflow_stub\\dtypes.py:544: FutureWarning: Passing (type, 1) or '1type' as a synonym of type is deprecated; in a future version of numpy, it will be understood as (type, (1,)) / '(1,)type'.\n",
      "  _np_quint16 = np.dtype([(\"quint16\", np.uint16, 1)])\n",
      "C:\\Users\\ikarabayir\\.conda\\envs\\tf_gpu\\lib\\site-packages\\tensorboard\\compat\\tensorflow_stub\\dtypes.py:545: FutureWarning: Passing (type, 1) or '1type' as a synonym of type is deprecated; in a future version of numpy, it will be understood as (type, (1,)) / '(1,)type'.\n",
      "  _np_qint32 = np.dtype([(\"qint32\", np.int32, 1)])\n",
      "C:\\Users\\ikarabayir\\.conda\\envs\\tf_gpu\\lib\\site-packages\\tensorboard\\compat\\tensorflow_stub\\dtypes.py:550: FutureWarning: Passing (type, 1) or '1type' as a synonym of type is deprecated; in a future version of numpy, it will be understood as (type, (1,)) / '(1,)type'.\n",
      "  np_resource = np.dtype([(\"resource\", np.ubyte, 1)])\n",
      "Using TensorFlow backend.\n"
     ]
    },
    {
     "name": "stdout",
     "output_type": "stream",
     "text": [
      "x_train shape: (50000, 32, 32, 3)\n",
      "50000 train samples\n",
      "10000 test samples\n",
      "y_train shape: (50000, 1)\n",
      "WARNING:tensorflow:From C:\\Users\\ikarabayir\\.conda\\envs\\tf_gpu\\lib\\site-packages\\keras\\backend\\tensorflow_backend.py:74: The name tf.get_default_graph is deprecated. Please use tf.compat.v1.get_default_graph instead.\n",
      "\n",
      "WARNING:tensorflow:From C:\\Users\\ikarabayir\\.conda\\envs\\tf_gpu\\lib\\site-packages\\keras\\backend\\tensorflow_backend.py:517: The name tf.placeholder is deprecated. Please use tf.compat.v1.placeholder instead.\n",
      "\n",
      "WARNING:tensorflow:From C:\\Users\\ikarabayir\\.conda\\envs\\tf_gpu\\lib\\site-packages\\keras\\backend\\tensorflow_backend.py:4185: The name tf.truncated_normal is deprecated. Please use tf.random.truncated_normal instead.\n",
      "\n",
      "WARNING:tensorflow:From C:\\Users\\ikarabayir\\.conda\\envs\\tf_gpu\\lib\\site-packages\\keras\\backend\\tensorflow_backend.py:3980: The name tf.nn.avg_pool is deprecated. Please use tf.nn.avg_pool2d instead.\n",
      "\n",
      "WARNING:tensorflow:From C:\\Users\\ikarabayir\\.conda\\envs\\tf_gpu\\lib\\site-packages\\keras\\optimizers.py:790: The name tf.train.Optimizer is deprecated. Please use tf.compat.v1.train.Optimizer instead.\n",
      "\n",
      "WARNING:tensorflow:From C:\\Users\\ikarabayir\\.conda\\envs\\tf_gpu\\lib\\site-packages\\keras\\backend\\tensorflow_backend.py:3295: The name tf.log is deprecated. Please use tf.math.log instead.\n",
      "\n",
      "WARNING:tensorflow:From C:\\Users\\ikarabayir\\.conda\\envs\\tf_gpu\\lib\\site-packages\\tensorflow\\python\\ops\\math_grad.py:1250: add_dispatch_support.<locals>.wrapper (from tensorflow.python.ops.array_ops) is deprecated and will be removed in a future version.\n",
      "Instructions for updating:\n",
      "Use tf.where in 2.0, which has the same broadcast rule as np.where\n",
      "__________________________________________________________________________________________________\n",
      "Layer (type)                    Output Shape         Param #     Connected to                     \n",
      "==================================================================================================\n",
      "input_3 (InputLayer)            (None, 32, 32, 3)    0                                            \n",
      "__________________________________________________________________________________________________\n",
      "conv2d_43 (Conv2D)              (None, 32, 32, 16)   448         input_3[0][0]                    \n",
      "__________________________________________________________________________________________________\n",
      "activation_39 (Activation)      (None, 32, 32, 16)   0           conv2d_43[0][0]                  \n",
      "__________________________________________________________________________________________________\n",
      "conv2d_44 (Conv2D)              (None, 32, 32, 16)   2320        activation_39[0][0]              \n",
      "__________________________________________________________________________________________________\n",
      "activation_40 (Activation)      (None, 32, 32, 16)   0           conv2d_44[0][0]                  \n",
      "__________________________________________________________________________________________________\n",
      "conv2d_45 (Conv2D)              (None, 32, 32, 16)   2320        activation_40[0][0]              \n",
      "__________________________________________________________________________________________________\n",
      "add_19 (Add)                    (None, 32, 32, 16)   0           activation_39[0][0]              \n",
      "                                                                 conv2d_45[0][0]                  \n",
      "__________________________________________________________________________________________________\n",
      "activation_41 (Activation)      (None, 32, 32, 16)   0           add_19[0][0]                     \n",
      "__________________________________________________________________________________________________\n",
      "conv2d_46 (Conv2D)              (None, 32, 32, 16)   2320        activation_41[0][0]              \n",
      "__________________________________________________________________________________________________\n",
      "activation_42 (Activation)      (None, 32, 32, 16)   0           conv2d_46[0][0]                  \n",
      "__________________________________________________________________________________________________\n",
      "conv2d_47 (Conv2D)              (None, 32, 32, 16)   2320        activation_42[0][0]              \n",
      "__________________________________________________________________________________________________\n",
      "add_20 (Add)                    (None, 32, 32, 16)   0           activation_41[0][0]              \n",
      "                                                                 conv2d_47[0][0]                  \n",
      "__________________________________________________________________________________________________\n",
      "activation_43 (Activation)      (None, 32, 32, 16)   0           add_20[0][0]                     \n",
      "__________________________________________________________________________________________________\n",
      "conv2d_48 (Conv2D)              (None, 32, 32, 16)   2320        activation_43[0][0]              \n",
      "__________________________________________________________________________________________________\n",
      "activation_44 (Activation)      (None, 32, 32, 16)   0           conv2d_48[0][0]                  \n",
      "__________________________________________________________________________________________________\n",
      "conv2d_49 (Conv2D)              (None, 32, 32, 16)   2320        activation_44[0][0]              \n",
      "__________________________________________________________________________________________________\n",
      "add_21 (Add)                    (None, 32, 32, 16)   0           activation_43[0][0]              \n",
      "                                                                 conv2d_49[0][0]                  \n",
      "__________________________________________________________________________________________________\n",
      "activation_45 (Activation)      (None, 32, 32, 16)   0           add_21[0][0]                     \n",
      "__________________________________________________________________________________________________\n",
      "conv2d_50 (Conv2D)              (None, 16, 16, 32)   4640        activation_45[0][0]              \n",
      "__________________________________________________________________________________________________\n",
      "activation_46 (Activation)      (None, 16, 16, 32)   0           conv2d_50[0][0]                  \n",
      "__________________________________________________________________________________________________\n",
      "conv2d_52 (Conv2D)              (None, 16, 16, 32)   544         activation_45[0][0]              \n",
      "__________________________________________________________________________________________________\n",
      "conv2d_51 (Conv2D)              (None, 16, 16, 32)   9248        activation_46[0][0]              \n",
      "__________________________________________________________________________________________________\n",
      "add_22 (Add)                    (None, 16, 16, 32)   0           conv2d_52[0][0]                  \n",
      "                                                                 conv2d_51[0][0]                  \n",
      "__________________________________________________________________________________________________\n",
      "activation_47 (Activation)      (None, 16, 16, 32)   0           add_22[0][0]                     \n",
      "__________________________________________________________________________________________________\n",
      "conv2d_53 (Conv2D)              (None, 16, 16, 32)   9248        activation_47[0][0]              \n",
      "__________________________________________________________________________________________________\n",
      "activation_48 (Activation)      (None, 16, 16, 32)   0           conv2d_53[0][0]                  \n",
      "__________________________________________________________________________________________________\n",
      "conv2d_54 (Conv2D)              (None, 16, 16, 32)   9248        activation_48[0][0]              \n",
      "__________________________________________________________________________________________________\n",
      "add_23 (Add)                    (None, 16, 16, 32)   0           activation_47[0][0]              \n",
      "                                                                 conv2d_54[0][0]                  \n",
      "__________________________________________________________________________________________________\n",
      "activation_49 (Activation)      (None, 16, 16, 32)   0           add_23[0][0]                     \n",
      "__________________________________________________________________________________________________\n",
      "conv2d_55 (Conv2D)              (None, 16, 16, 32)   9248        activation_49[0][0]              \n",
      "__________________________________________________________________________________________________\n",
      "activation_50 (Activation)      (None, 16, 16, 32)   0           conv2d_55[0][0]                  \n",
      "__________________________________________________________________________________________________\n",
      "conv2d_56 (Conv2D)              (None, 16, 16, 32)   9248        activation_50[0][0]              \n",
      "__________________________________________________________________________________________________\n",
      "add_24 (Add)                    (None, 16, 16, 32)   0           activation_49[0][0]              \n",
      "                                                                 conv2d_56[0][0]                  \n",
      "__________________________________________________________________________________________________\n",
      "activation_51 (Activation)      (None, 16, 16, 32)   0           add_24[0][0]                     \n",
      "__________________________________________________________________________________________________\n",
      "conv2d_57 (Conv2D)              (None, 8, 8, 64)     18496       activation_51[0][0]              \n",
      "__________________________________________________________________________________________________\n",
      "activation_52 (Activation)      (None, 8, 8, 64)     0           conv2d_57[0][0]                  \n",
      "__________________________________________________________________________________________________\n",
      "conv2d_59 (Conv2D)              (None, 8, 8, 64)     2112        activation_51[0][0]              \n",
      "__________________________________________________________________________________________________\n",
      "conv2d_58 (Conv2D)              (None, 8, 8, 64)     36928       activation_52[0][0]              \n",
      "__________________________________________________________________________________________________\n",
      "add_25 (Add)                    (None, 8, 8, 64)     0           conv2d_59[0][0]                  \n",
      "                                                                 conv2d_58[0][0]                  \n",
      "__________________________________________________________________________________________________\n",
      "activation_53 (Activation)      (None, 8, 8, 64)     0           add_25[0][0]                     \n",
      "__________________________________________________________________________________________________\n",
      "conv2d_60 (Conv2D)              (None, 8, 8, 64)     36928       activation_53[0][0]              \n",
      "__________________________________________________________________________________________________\n",
      "activation_54 (Activation)      (None, 8, 8, 64)     0           conv2d_60[0][0]                  \n",
      "__________________________________________________________________________________________________\n",
      "conv2d_61 (Conv2D)              (None, 8, 8, 64)     36928       activation_54[0][0]              \n",
      "__________________________________________________________________________________________________\n",
      "add_26 (Add)                    (None, 8, 8, 64)     0           activation_53[0][0]              \n",
      "                                                                 conv2d_61[0][0]                  \n",
      "__________________________________________________________________________________________________\n",
      "activation_55 (Activation)      (None, 8, 8, 64)     0           add_26[0][0]                     \n",
      "__________________________________________________________________________________________________\n",
      "conv2d_62 (Conv2D)              (None, 8, 8, 64)     36928       activation_55[0][0]              \n",
      "__________________________________________________________________________________________________\n",
      "activation_56 (Activation)      (None, 8, 8, 64)     0           conv2d_62[0][0]                  \n",
      "__________________________________________________________________________________________________\n",
      "conv2d_63 (Conv2D)              (None, 8, 8, 64)     36928       activation_56[0][0]              \n",
      "__________________________________________________________________________________________________\n",
      "add_27 (Add)                    (None, 8, 8, 64)     0           activation_55[0][0]              \n",
      "                                                                 conv2d_63[0][0]                  \n",
      "__________________________________________________________________________________________________\n",
      "activation_57 (Activation)      (None, 8, 8, 64)     0           add_27[0][0]                     \n",
      "__________________________________________________________________________________________________\n",
      "average_pooling2d_3 (AveragePoo (None, 1, 1, 64)     0           activation_57[0][0]              \n",
      "__________________________________________________________________________________________________\n",
      "flatten_3 (Flatten)             (None, 64)           0           average_pooling2d_3[0][0]        \n",
      "__________________________________________________________________________________________________\n",
      "dense_3 (Dense)                 (None, 10)           650         flatten_3[0][0]                  \n",
      "==================================================================================================\n",
      "Total params: 271,690\n",
      "Trainable params: 271,690\n",
      "Non-trainable params: 0\n",
      "__________________________________________________________________________________________________\n",
      "WARNING:tensorflow:From C:\\Users\\ikarabayir\\.conda\\envs\\tf_gpu\\lib\\site-packages\\keras\\backend\\tensorflow_backend.py:133: The name tf.placeholder_with_default is deprecated. Please use tf.compat.v1.placeholder_with_default instead.\n",
      "\n"
     ]
    },
    {
     "name": "stderr",
     "output_type": "stream",
     "text": [
      "\r",
      "  0%|                                                                                                                                                                         | 0/200 [00:00<?, ?it/s]"
     ]
    },
    {
     "name": "stdout",
     "output_type": "stream",
     "text": [
      "Epoch 0\n",
      "train\n",
      "Using real-time data augmentation.\n",
      "train loss score is :2.230647769480734\n",
      "train acc score is :0.19847648752399233\n",
      "It has been 123.8521294593811 seconds since the loop started\n",
      "test\n"
     ]
    },
    {
     "name": "stderr",
     "output_type": "stream",
     "text": [
      "\r",
      "  0%|▊                                                                                                                                                             | 1/200 [02:10<7:12:11, 130.31s/it]"
     ]
    },
    {
     "name": "stdout",
     "output_type": "stream",
     "text": [
      "test loss score is :1.985353431953028\n",
      "test acc score is :0.27246405750798725\n",
      "Epoch 1\n",
      "train\n",
      "Using real-time data augmentation.\n",
      "train loss score is :1.876379381290858\n",
      "train acc score is :0.3263755598208573\n",
      "It has been 115.0887291431427 seconds since the loop started\n",
      "test\n"
     ]
    },
    {
     "name": "stderr",
     "output_type": "stream",
     "text": [
      "\r",
      "  1%|█▌                                                                                                                                                            | 2/200 [04:11<7:00:49, 127.52s/it]"
     ]
    },
    {
     "name": "stdout",
     "output_type": "stream",
     "text": [
      "test loss score is :1.7670105966135337\n",
      "test acc score is :0.38049121405750796\n",
      "Epoch 2\n",
      "train\n",
      "Using real-time data augmentation.\n",
      "train loss score is :1.6962913348746467\n",
      "train acc score is :0.4002519193857965\n",
      "It has been 115.38792037963867 seconds since the loop started\n",
      "test\n"
     ]
    },
    {
     "name": "stderr",
     "output_type": "stream",
     "text": [
      "\r",
      "  2%|██▎                                                                                                                                                           | 3/200 [06:12<6:52:38, 125.68s/it]"
     ]
    },
    {
     "name": "stdout",
     "output_type": "stream",
     "text": [
      "test loss score is :1.5177840630467327\n",
      "test acc score is :0.4719448881789137\n",
      "Epoch 3\n",
      "train\n",
      "Using real-time data augmentation.\n",
      "train loss score is :1.5320735052466317\n",
      "train acc score is :0.4666506717850288\n",
      "It has been 115.01318550109863 seconds since the loop started\n",
      "test\n"
     ]
    },
    {
     "name": "stderr",
     "output_type": "stream",
     "text": [
      "\r",
      "  2%|███▏                                                                                                                                                          | 4/200 [08:13<6:45:51, 124.24s/it]"
     ]
    },
    {
     "name": "stdout",
     "output_type": "stream",
     "text": [
      "test loss score is :1.389744714997447\n",
      "test acc score is :0.5143769968051118\n",
      "Epoch 4\n",
      "train\n",
      "Using real-time data augmentation.\n",
      "train loss score is :1.3854804343698273\n",
      "train acc score is :0.5242922264875239\n",
      "It has been 115.71626043319702 seconds since the loop started\n",
      "test\n"
     ]
    },
    {
     "name": "stderr",
     "output_type": "stream",
     "text": [
      "\r",
      "  2%|███▉                                                                                                                                                          | 5/200 [10:15<6:41:25, 123.52s/it]"
     ]
    },
    {
     "name": "stdout",
     "output_type": "stream",
     "text": [
      "test loss score is :1.2261167473305528\n",
      "test acc score is :0.5764776357827476\n",
      "Epoch 5\n",
      "train\n",
      "Using real-time data augmentation.\n",
      "train loss score is :1.2757016738789706\n",
      "train acc score is :0.5685380678182982\n",
      "It has been 115.61925268173218 seconds since the loop started\n",
      "test\n"
     ]
    },
    {
     "name": "stderr",
     "output_type": "stream",
     "text": [
      "\r",
      "  3%|████▋                                                                                                                                                         | 6/200 [12:16<6:37:26, 122.92s/it]"
     ]
    },
    {
     "name": "stdout",
     "output_type": "stream",
     "text": [
      "test loss score is :1.2092295117652454\n",
      "test acc score is :0.5888578274760383\n",
      "Epoch 6\n",
      "train\n",
      "Using real-time data augmentation.\n",
      "train loss score is :1.1762002599178334\n",
      "train acc score is :0.6086052463211772\n",
      "It has been 114.94776654243469 seconds since the loop started\n",
      "test\n"
     ]
    },
    {
     "name": "stderr",
     "output_type": "stream",
     "text": [
      "\r",
      "  4%|█████▌                                                                                                                                                        | 7/200 [14:17<6:33:32, 122.34s/it]"
     ]
    },
    {
     "name": "stdout",
     "output_type": "stream",
     "text": [
      "test loss score is :1.1140182315351101\n",
      "test acc score is :0.6345846645367412\n",
      "Epoch 7\n",
      "train\n",
      "Using real-time data augmentation.\n",
      "train loss score is :1.1012811037644468\n",
      "train acc score is :0.6402951055662188\n",
      "It has been 115.3365638256073 seconds since the loop started\n",
      "test\n"
     ]
    },
    {
     "name": "stderr",
     "output_type": "stream",
     "text": [
      "\r",
      "  4%|██████▎                                                                                                                                                       | 8/200 [16:19<6:30:35, 122.06s/it]"
     ]
    },
    {
     "name": "stdout",
     "output_type": "stream",
     "text": [
      "test loss score is :1.3386902999573242\n",
      "test acc score is :0.59185303514377\n",
      "Epoch 8\n",
      "train\n",
      "Using real-time data augmentation.\n",
      "train loss score is :1.0294957855193185\n",
      "train acc score is :0.6651471529110684\n",
      "It has been 115.05361914634705 seconds since the loop started\n",
      "test\n"
     ]
    },
    {
     "name": "stderr",
     "output_type": "stream",
     "text": [
      "\r",
      "  4%|███████                                                                                                                                                       | 9/200 [18:20<6:27:40, 121.78s/it]"
     ]
    },
    {
     "name": "stdout",
     "output_type": "stream",
     "text": [
      "test loss score is :1.1068163447486707\n",
      "test acc score is :0.6521565495207667\n",
      "Epoch 9\n",
      "train\n",
      "Using real-time data augmentation.\n",
      "train loss score is :0.9774376944670369\n",
      "train acc score is :0.689359404990403\n",
      "It has been 115.03357601165771 seconds since the loop started\n",
      "test\n"
     ]
    },
    {
     "name": "stderr",
     "output_type": "stream",
     "text": [
      "\r",
      "  5%|███████▊                                                                                                                                                     | 10/200 [20:21<6:24:50, 121.53s/it]"
     ]
    },
    {
     "name": "stdout",
     "output_type": "stream",
     "text": [
      "test loss score is :1.068295210314254\n",
      "test acc score is :0.6666333865814696\n",
      "Epoch 10\n",
      "train\n",
      "Using real-time data augmentation.\n",
      "train loss score is :0.9347466200456662\n",
      "train acc score is :0.7054342610364683\n",
      "It has been 114.98787522315979 seconds since the loop started\n",
      "test\n"
     ]
    },
    {
     "name": "stderr",
     "output_type": "stream",
     "text": [
      "\r",
      "  6%|████████▋                                                                                                                                                    | 11/200 [22:22<6:22:16, 121.36s/it]"
     ]
    },
    {
     "name": "stdout",
     "output_type": "stream",
     "text": [
      "test loss score is :1.096179508363096\n",
      "test acc score is :0.6774161341853036\n",
      "Epoch 11\n",
      "train\n",
      "Using real-time data augmentation.\n",
      "train loss score is :0.8936224066898446\n",
      "train acc score is :0.7239883237364043\n",
      "It has been 114.14401388168335 seconds since the loop started\n",
      "test\n"
     ]
    },
    {
     "name": "stderr",
     "output_type": "stream",
     "text": [
      "\r",
      "  6%|█████████▍                                                                                                                                                   | 12/200 [24:22<6:19:09, 121.01s/it]"
     ]
    },
    {
     "name": "stdout",
     "output_type": "stream",
     "text": [
      "test loss score is :1.5502184873190932\n",
      "test acc score is :0.5428314696485623\n",
      "Epoch 12\n",
      "train\n",
      "Using real-time data augmentation.\n",
      "train loss score is :0.8651355689180561\n",
      "train acc score is :0.7343250159948816\n",
      "It has been 114.49422860145569 seconds since the loop started\n",
      "test\n"
     ]
    },
    {
     "name": "stderr",
     "output_type": "stream",
     "text": [
      "\r",
      "  6%|██████████▏                                                                                                                                                  | 13/200 [26:23<6:16:36, 120.84s/it]"
     ]
    },
    {
     "name": "stdout",
     "output_type": "stream",
     "text": [
      "test loss score is :0.9097708647433942\n",
      "test acc score is :0.7217452076677316\n",
      "Epoch 13\n",
      "train\n",
      "Using real-time data augmentation.\n",
      "train loss score is :0.8319395051807909\n",
      "train acc score is :0.7471209213051824\n",
      "It has been 114.27790451049805 seconds since the loop started\n",
      "test\n"
     ]
    },
    {
     "name": "stderr",
     "output_type": "stream",
     "text": [
      "\r",
      "  7%|██████████▉                                                                                                                                                  | 14/200 [28:23<6:14:04, 120.67s/it]"
     ]
    },
    {
     "name": "stdout",
     "output_type": "stream",
     "text": [
      "test loss score is :1.0269198276745244\n",
      "test acc score is :0.6880990415335463\n",
      "Epoch 14\n",
      "train\n",
      "Using real-time data augmentation.\n",
      "train loss score is :0.8076487222277653\n",
      "train acc score is :0.7574976007677543\n",
      "It has been 114.42662906646729 seconds since the loop started\n",
      "test\n"
     ]
    },
    {
     "name": "stderr",
     "output_type": "stream",
     "text": [
      "\r",
      "  8%|███████████▊                                                                                                                                                 | 15/200 [30:23<6:11:50, 120.60s/it]"
     ]
    },
    {
     "name": "stdout",
     "output_type": "stream",
     "text": [
      "test loss score is :0.8273430578053569\n",
      "test acc score is :0.7508985623003195\n",
      "Epoch 15\n",
      "train\n",
      "Using real-time data augmentation.\n",
      "train loss score is :0.789536472569653\n",
      "train acc score is :0.7660348688419706\n",
      "It has been 114.60248589515686 seconds since the loop started\n",
      "test\n"
     ]
    },
    {
     "name": "stderr",
     "output_type": "stream",
     "text": [
      "\r",
      "  8%|████████████▌                                                                                                                                                | 16/200 [32:24<6:09:53, 120.62s/it]"
     ]
    },
    {
     "name": "stdout",
     "output_type": "stream",
     "text": [
      "test loss score is :0.8170090411989072\n",
      "test acc score is :0.7619808306709265\n",
      "Epoch 16\n",
      "train\n",
      "Using real-time data augmentation.\n",
      "train loss score is :0.7684753599719062\n",
      "train acc score is :0.7765515035188739\n",
      "It has been 114.6943588256836 seconds since the loop started\n",
      "test\n"
     ]
    },
    {
     "name": "stderr",
     "output_type": "stream",
     "text": [
      "\r",
      "  8%|█████████████▎                                                                                                                                               | 17/200 [34:25<6:07:57, 120.64s/it]"
     ]
    },
    {
     "name": "stdout",
     "output_type": "stream",
     "text": [
      "test loss score is :0.8585894809553798\n",
      "test acc score is :0.7584864217252396\n",
      "Epoch 17\n",
      "train\n",
      "Using real-time data augmentation.\n",
      "train loss score is :0.751223448122913\n",
      "train acc score is :0.7815499040307101\n",
      "It has been 113.74880027770996 seconds since the loop started\n",
      "test\n"
     ]
    },
    {
     "name": "stderr",
     "output_type": "stream",
     "text": [
      "\r",
      "  9%|██████████████▏                                                                                                                                              | 18/200 [36:24<6:05:08, 120.38s/it]"
     ]
    },
    {
     "name": "stdout",
     "output_type": "stream",
     "text": [
      "test loss score is :0.8250938261183687\n",
      "test acc score is :0.7669728434504792\n",
      "Epoch 18\n",
      "train\n",
      "Using real-time data augmentation.\n",
      "train loss score is :0.733862105559174\n",
      "train acc score is :0.7897672744721689\n",
      "It has been 114.60404872894287 seconds since the loop started\n",
      "test\n"
     ]
    },
    {
     "name": "stderr",
     "output_type": "stream",
     "text": [
      "\r",
      " 10%|██████████████▉                                                                                                                                              | 19/200 [38:25<6:03:26, 120.48s/it]"
     ]
    },
    {
     "name": "stdout",
     "output_type": "stream",
     "text": [
      "test loss score is :0.8835834295224076\n",
      "test acc score is :0.7568889776357828\n",
      "Epoch 19\n",
      "train\n",
      "Using real-time data augmentation.\n",
      "train loss score is :0.7275665088753935\n",
      "train acc score is :0.7928063019833653\n",
      "It has been 115.18453001976013 seconds since the loop started\n",
      "test\n"
     ]
    },
    {
     "name": "stderr",
     "output_type": "stream",
     "text": [
      "\r",
      " 10%|███████████████▋                                                                                                                                             | 20/200 [40:26<6:01:57, 120.65s/it]"
     ]
    },
    {
     "name": "stdout",
     "output_type": "stream",
     "text": [
      "test loss score is :0.9297473728656769\n",
      "test acc score is :0.7384185303514377\n",
      "Epoch 20\n",
      "train\n",
      "Using real-time data augmentation.\n",
      "train loss score is :0.7138457160993639\n",
      "train acc score is :0.7997240882917467\n",
      "It has been 114.48676013946533 seconds since the loop started\n",
      "test\n"
     ]
    },
    {
     "name": "stderr",
     "output_type": "stream",
     "text": [
      "\r",
      " 10%|████████████████▍                                                                                                                                            | 21/200 [42:27<5:59:52, 120.63s/it]"
     ]
    },
    {
     "name": "stdout",
     "output_type": "stream",
     "text": [
      "test loss score is :0.8322071526378108\n",
      "test acc score is :0.7601837060702875\n",
      "Epoch 21\n",
      "train\n",
      "Using real-time data augmentation.\n",
      "train loss score is :0.7011982918605542\n",
      "train acc score is :0.8034828854766475\n",
      "It has been 115.30633640289307 seconds since the loop started\n",
      "test\n"
     ]
    },
    {
     "name": "stderr",
     "output_type": "stream",
     "text": [
      "\r",
      " 11%|█████████████████▎                                                                                                                                           | 22/200 [44:28<5:58:35, 120.87s/it]"
     ]
    },
    {
     "name": "stdout",
     "output_type": "stream",
     "text": [
      "test loss score is :0.7570761323641664\n",
      "test acc score is :0.7909345047923323\n",
      "Epoch 22\n",
      "train\n",
      "Using real-time data augmentation.\n",
      "train loss score is :0.6897738516445123\n",
      "train acc score is :0.8091610684580934\n",
      "It has been 114.57876014709473 seconds since the loop started\n",
      "test\n"
     ]
    },
    {
     "name": "stderr",
     "output_type": "stream",
     "text": [
      "\r",
      " 12%|██████████████████                                                                                                                                           | 23/200 [46:29<5:56:21, 120.80s/it]"
     ]
    },
    {
     "name": "stdout",
     "output_type": "stream",
     "text": [
      "test loss score is :0.9517094930901695\n",
      "test acc score is :0.7588857827476039\n",
      "Epoch 23\n",
      "train\n",
      "Using real-time data augmentation.\n",
      "train loss score is :0.680433697030854\n",
      "train acc score is :0.8137995841330774\n",
      "It has been 114.93876123428345 seconds since the loop started\n",
      "test\n"
     ]
    },
    {
     "name": "stderr",
     "output_type": "stream",
     "text": [
      "\r",
      " 12%|██████████████████▊                                                                                                                                          | 24/200 [48:30<5:54:33, 120.87s/it]"
     ]
    },
    {
     "name": "stdout",
     "output_type": "stream",
     "text": [
      "test loss score is :0.8259430428663381\n",
      "test acc score is :0.7741613418530351\n",
      "Epoch 24\n",
      "train\n",
      "Using real-time data augmentation.\n",
      "train loss score is :0.6682084864213996\n",
      "train acc score is :0.8173384516954575\n",
      "It has been 114.34674954414368 seconds since the loop started\n",
      "test\n"
     ]
    },
    {
     "name": "stderr",
     "output_type": "stream",
     "text": [
      "\r",
      " 12%|███████████████████▋                                                                                                                                         | 25/200 [50:30<5:52:04, 120.71s/it]"
     ]
    },
    {
     "name": "stdout",
     "output_type": "stream",
     "text": [
      "test loss score is :0.8630170464134825\n",
      "test acc score is :0.7763578274760383\n",
      "Epoch 25\n",
      "train\n",
      "Using real-time data augmentation.\n",
      "train loss score is :0.6640829835766336\n",
      "train acc score is :0.8180382277671145\n",
      "It has been 114.37108707427979 seconds since the loop started\n",
      "test\n"
     ]
    },
    {
     "name": "stderr",
     "output_type": "stream",
     "text": [
      "\r",
      " 13%|████████████████████▍                                                                                                                                        | 26/200 [52:31<5:49:53, 120.65s/it]"
     ]
    },
    {
     "name": "stdout",
     "output_type": "stream",
     "text": [
      "test loss score is :0.7511318345039416\n",
      "test acc score is :0.7994209265175719\n",
      "Epoch 26\n",
      "train\n",
      "Using real-time data augmentation.\n",
      "train loss score is :0.6520889601643393\n",
      "train acc score is :0.8227767114523352\n",
      "It has been 115.0200548171997 seconds since the loop started\n",
      "test\n"
     ]
    },
    {
     "name": "stderr",
     "output_type": "stream",
     "text": [
      "\r",
      " 14%|█████████████████████▏                                                                                                                                       | 27/200 [54:32<5:48:11, 120.76s/it]"
     ]
    },
    {
     "name": "stdout",
     "output_type": "stream",
     "text": [
      "test loss score is :0.8815355598926544\n",
      "test acc score is :0.7671725239616614\n",
      "Epoch 27\n",
      "train\n",
      "Using real-time data augmentation.\n",
      "train loss score is :0.6479452730407337\n",
      "train acc score is :0.8263155790147153\n",
      "It has been 114.79898691177368 seconds since the loop started\n",
      "test\n"
     ]
    },
    {
     "name": "stderr",
     "output_type": "stream",
     "text": [
      "\r",
      " 14%|█████████████████████▉                                                                                                                                       | 28/200 [56:33<5:46:20, 120.81s/it]"
     ]
    },
    {
     "name": "stdout",
     "output_type": "stream",
     "text": [
      "test loss score is :0.7390395371487346\n",
      "test acc score is :0.8048123003194888\n",
      "Epoch 28\n",
      "train\n",
      "Using real-time data augmentation.\n",
      "train loss score is :0.6364259517734354\n",
      "train acc score is :0.8312140115163148\n",
      "It has been 114.95580625534058 seconds since the loop started\n",
      "test\n"
     ]
    },
    {
     "name": "stderr",
     "output_type": "stream",
     "text": [
      "\r",
      " 14%|██████████████████████▊                                                                                                                                      | 29/200 [58:34<5:44:28, 120.87s/it]"
     ]
    },
    {
     "name": "stdout",
     "output_type": "stream",
     "text": [
      "test loss score is :0.7682408617136959\n",
      "test acc score is :0.7926317891373802\n",
      "Epoch 29\n",
      "train\n",
      "Using real-time data augmentation.\n",
      "train loss score is :0.636566905422769\n",
      "train acc score is :0.8313339731285988\n",
      "It has been 114.53468203544617 seconds since the loop started\n",
      "test\n"
     ]
    },
    {
     "name": "stderr",
     "output_type": "stream",
     "text": [
      "\r",
      " 15%|███████████████████████▎                                                                                                                                   | 30/200 [1:00:34<5:42:18, 120.81s/it]"
     ]
    },
    {
     "name": "stdout",
     "output_type": "stream",
     "text": [
      "test loss score is :0.7646479952259185\n",
      "test acc score is :0.7912340255591054\n",
      "Epoch 30\n",
      "train\n",
      "Using real-time data augmentation.\n",
      "train loss score is :0.6310380968674588\n",
      "train acc score is :0.8321337172104927\n",
      "It has been 115.23550367355347 seconds since the loop started\n",
      "test\n"
     ]
    },
    {
     "name": "stderr",
     "output_type": "stream",
     "text": [
      "\r",
      " 16%|████████████████████████                                                                                                                                   | 31/200 [1:02:35<5:40:36, 120.92s/it]"
     ]
    },
    {
     "name": "stdout",
     "output_type": "stream",
     "text": [
      "test loss score is :0.98769908191297\n",
      "test acc score is :0.7292332268370607\n",
      "Epoch 31\n",
      "train\n",
      "Using real-time data augmentation.\n",
      "train loss score is :0.6253959524349303\n",
      "train acc score is :0.8363523672424824\n",
      "It has been 114.69903135299683 seconds since the loop started\n",
      "test\n"
     ]
    },
    {
     "name": "stderr",
     "output_type": "stream",
     "text": [
      "\r",
      " 16%|████████████████████████▊                                                                                                                                  | 32/200 [1:04:36<5:38:21, 120.84s/it]"
     ]
    },
    {
     "name": "stdout",
     "output_type": "stream",
     "text": [
      "test loss score is :0.7043918090316054\n",
      "test acc score is :0.8164936102236422\n",
      "Epoch 32\n",
      "train\n",
      "Using real-time data augmentation.\n",
      "train loss score is :0.6218655293501117\n",
      "train acc score is :0.8392514395393474\n",
      "It has been 114.05638217926025 seconds since the loop started\n",
      "test\n"
     ]
    },
    {
     "name": "stderr",
     "output_type": "stream",
     "text": [
      "\r",
      " 16%|█████████████████████████▌                                                                                                                                 | 33/200 [1:06:36<5:35:46, 120.63s/it]"
     ]
    },
    {
     "name": "stdout",
     "output_type": "stream",
     "text": [
      "test loss score is :0.7285365448020898\n",
      "test acc score is :0.8036142172523961\n",
      "Epoch 33\n",
      "train\n",
      "Using real-time data augmentation.\n",
      "train loss score is :0.620116121995472\n",
      "train acc score is :0.8388115802943058\n",
      "It has been 115.31569719314575 seconds since the loop started\n",
      "test\n"
     ]
    },
    {
     "name": "stderr",
     "output_type": "stream",
     "text": [
      "\r",
      " 17%|██████████████████████████▎                                                                                                                                | 34/200 [1:08:38<5:34:25, 120.88s/it]"
     ]
    },
    {
     "name": "stdout",
     "output_type": "stream",
     "text": [
      "test loss score is :0.677944610484492\n",
      "test acc score is :0.8259784345047924\n",
      "Epoch 34\n",
      "train\n",
      "Using real-time data augmentation.\n",
      "train loss score is :0.6078489052318871\n",
      "train acc score is :0.8423704414587332\n",
      "It has been 114.83733749389648 seconds since the loop started\n",
      "test\n"
     ]
    },
    {
     "name": "stderr",
     "output_type": "stream",
     "text": [
      "\r",
      " 18%|███████████████████████████▏                                                                                                                               | 35/200 [1:10:39<5:32:27, 120.89s/it]"
     ]
    },
    {
     "name": "stdout",
     "output_type": "stream",
     "text": [
      "test loss score is :0.7304619160323097\n",
      "test acc score is :0.8113019169329073\n",
      "Epoch 35\n",
      "train\n",
      "Using real-time data augmentation.\n",
      "train loss score is :0.6027827643272744\n",
      "train acc score is :0.8464891234804862\n",
      "It has been 114.74151158332825 seconds since the loop started\n",
      "test\n"
     ]
    },
    {
     "name": "stderr",
     "output_type": "stream",
     "text": [
      "\r",
      " 18%|███████████████████████████▉                                                                                                                               | 36/200 [1:12:39<5:30:18, 120.85s/it]"
     ]
    },
    {
     "name": "stdout",
     "output_type": "stream",
     "text": [
      "test loss score is :0.6608767655139534\n",
      "test acc score is :0.8302715654952076\n",
      "Epoch 36\n",
      "train\n",
      "Using real-time data augmentation.\n",
      "train loss score is :0.5978039864805823\n",
      "train acc score is :0.8477087332053743\n",
      "It has been 114.30945706367493 seconds since the loop started\n",
      "test\n"
     ]
    },
    {
     "name": "stderr",
     "output_type": "stream",
     "text": [
      "\r",
      " 18%|████████████████████████████▋                                                                                                                              | 37/200 [1:14:40<5:27:51, 120.68s/it]"
     ]
    },
    {
     "name": "stdout",
     "output_type": "stream",
     "text": [
      "test loss score is :0.66371743757123\n",
      "test acc score is :0.8301717252396166\n",
      "Epoch 37\n",
      "train\n",
      "Using real-time data augmentation.\n",
      "train loss score is :0.5940926057344359\n",
      "train acc score is :0.8500279910428663\n",
      "It has been 114.57497239112854 seconds since the loop started\n",
      "test\n"
     ]
    },
    {
     "name": "stderr",
     "output_type": "stream",
     "text": [
      "\r",
      " 19%|█████████████████████████████▍                                                                                                                             | 38/200 [1:16:40<5:25:48, 120.67s/it]"
     ]
    },
    {
     "name": "stdout",
     "output_type": "stream",
     "text": [
      "test loss score is :0.6737931913461167\n",
      "test acc score is :0.8239816293929713\n",
      "Epoch 38\n",
      "train\n",
      "Using real-time data augmentation.\n",
      "train loss score is :0.5920273982612887\n",
      "train acc score is :0.8493282149712092\n",
      "It has been 114.53244662284851 seconds since the loop started\n",
      "test\n"
     ]
    },
    {
     "name": "stderr",
     "output_type": "stream",
     "text": [
      "\r",
      " 20%|██████████████████████████████▏                                                                                                                            | 39/200 [1:18:41<5:23:48, 120.67s/it]"
     ]
    },
    {
     "name": "stdout",
     "output_type": "stream",
     "text": [
      "test loss score is :0.6782371743608968\n",
      "test acc score is :0.8315694888178914\n",
      "Epoch 39\n",
      "train\n",
      "Using real-time data augmentation.\n",
      "train loss score is :0.5916978467639562\n",
      "train acc score is :0.8504078694817658\n",
      "It has been 114.21898627281189 seconds since the loop started\n",
      "test\n"
     ]
    },
    {
     "name": "stderr",
     "output_type": "stream",
     "text": [
      "\r",
      " 20%|███████████████████████████████                                                                                                                            | 40/200 [1:20:41<5:21:28, 120.55s/it]"
     ]
    },
    {
     "name": "stdout",
     "output_type": "stream",
     "text": [
      "test loss score is :0.7753028158372203\n",
      "test acc score is :0.7991214057507987\n",
      "Epoch 40\n",
      "train\n",
      "Using real-time data augmentation.\n",
      "train loss score is :0.5864384535578528\n",
      "train acc score is :0.8551063659628919\n",
      "It has been 114.23889708518982 seconds since the loop started\n",
      "test\n"
     ]
    },
    {
     "name": "stderr",
     "output_type": "stream",
     "text": [
      "\r",
      " 20%|███████████████████████████████▊                                                                                                                           | 41/200 [1:22:42<5:19:17, 120.49s/it]"
     ]
    },
    {
     "name": "stdout",
     "output_type": "stream",
     "text": [
      "test loss score is :0.7801309710683914\n",
      "test acc score is :0.8087060702875399\n",
      "Epoch 41\n",
      "train\n",
      "Using real-time data augmentation.\n",
      "train loss score is :0.5803688220198309\n",
      "train acc score is :0.8548864363403711\n",
      "It has been 114.99450850486755 seconds since the loop started\n",
      "test\n"
     ]
    },
    {
     "name": "stderr",
     "output_type": "stream",
     "text": [
      "\r",
      " 21%|████████████████████████████████▌                                                                                                                          | 42/200 [1:24:43<5:17:44, 120.66s/it]"
     ]
    },
    {
     "name": "stdout",
     "output_type": "stream",
     "text": [
      "test loss score is :0.6805801245922478\n",
      "test acc score is :0.8371605431309904\n",
      "Epoch 42\n",
      "train\n",
      "Using real-time data augmentation.\n",
      "train loss score is :0.5806098812029138\n",
      "train acc score is :0.855406269993602\n",
      "It has been 114.44319152832031 seconds since the loop started\n",
      "test\n"
     ]
    },
    {
     "name": "stderr",
     "output_type": "stream",
     "text": [
      "\r",
      " 22%|█████████████████████████████████▎                                                                                                                         | 43/200 [1:26:43<5:15:43, 120.66s/it]"
     ]
    },
    {
     "name": "stdout",
     "output_type": "stream",
     "text": [
      "test loss score is :0.7413835477905152\n",
      "test acc score is :0.8220846645367412\n",
      "Epoch 43\n",
      "train\n",
      "Using real-time data augmentation.\n",
      "train loss score is :0.5759983222242814\n",
      "train acc score is :0.8589451375559821\n",
      "It has been 114.73314213752747 seconds since the loop started\n",
      "test\n"
     ]
    },
    {
     "name": "stderr",
     "output_type": "stream",
     "text": [
      "\r",
      " 22%|██████████████████████████████████                                                                                                                         | 44/200 [1:28:44<5:13:38, 120.63s/it]"
     ]
    },
    {
     "name": "stdout",
     "output_type": "stream",
     "text": [
      "test loss score is :0.7272936038125437\n",
      "test acc score is :0.8203873801916933\n",
      "Epoch 44\n",
      "train\n",
      "Using real-time data augmentation.\n",
      "train loss score is :0.572638463054951\n",
      "train acc score is :0.8596049264235445\n",
      "It has been 114.14441466331482 seconds since the loop started\n",
      "test\n"
     ]
    },
    {
     "name": "stderr",
     "output_type": "stream",
     "text": [
      "\r",
      " 22%|██████████████████████████████████▉                                                                                                                        | 45/200 [1:30:44<5:11:17, 120.50s/it]"
     ]
    },
    {
     "name": "stdout",
     "output_type": "stream",
     "text": [
      "test loss score is :0.6756558003136144\n",
      "test acc score is :0.8306709265175719\n",
      "Epoch 45\n",
      "train\n",
      "Using real-time data augmentation.\n",
      "train loss score is :0.5714675852372261\n",
      "train acc score is :0.8603846769033909\n",
      "It has been 114.92603397369385 seconds since the loop started\n",
      "test\n"
     ]
    },
    {
     "name": "stderr",
     "output_type": "stream",
     "text": [
      "\r",
      " 23%|███████████████████████████████████▋                                                                                                                       | 46/200 [1:32:45<5:09:37, 120.63s/it]"
     ]
    },
    {
     "name": "stdout",
     "output_type": "stream",
     "text": [
      "test loss score is :0.6765665477647568\n",
      "test acc score is :0.8341653354632588\n",
      "Epoch 46\n",
      "train\n",
      "Using real-time data augmentation.\n",
      "train loss score is :0.5748936311316201\n",
      "train acc score is :0.8611644273832374\n",
      "It has been 114.26713752746582 seconds since the loop started\n",
      "test\n"
     ]
    },
    {
     "name": "stderr",
     "output_type": "stream",
     "text": [
      "\r",
      " 24%|████████████████████████████████████▍                                                                                                                      | 47/200 [1:34:45<5:07:15, 120.49s/it]"
     ]
    },
    {
     "name": "stdout",
     "output_type": "stream",
     "text": [
      "test loss score is :0.7079600863182507\n",
      "test acc score is :0.8185902555910544\n",
      "Epoch 47\n",
      "train\n",
      "Using real-time data augmentation.\n",
      "train loss score is :0.5657600701732355\n",
      "train acc score is :0.8626839411388356\n",
      "It has been 114.61067175865173 seconds since the loop started\n",
      "test\n"
     ]
    },
    {
     "name": "stderr",
     "output_type": "stream",
     "text": [
      "\r",
      " 24%|█████████████████████████████████████▏                                                                                                                     | 48/200 [1:36:46<5:05:23, 120.55s/it]"
     ]
    },
    {
     "name": "stdout",
     "output_type": "stream",
     "text": [
      "test loss score is :0.6467019403323578\n",
      "test acc score is :0.8406549520766773\n",
      "Epoch 48\n",
      "train\n",
      "Using real-time data augmentation.\n",
      "train loss score is :0.5630228151343835\n",
      "train acc score is :0.8655830134357005\n",
      "It has been 114.56675219535828 seconds since the loop started\n",
      "test\n"
     ]
    },
    {
     "name": "stderr",
     "output_type": "stream",
     "text": [
      "\r",
      " 24%|█████████████████████████████████████▉                                                                                                                     | 49/200 [1:38:47<5:03:28, 120.59s/it]"
     ]
    },
    {
     "name": "stdout",
     "output_type": "stream",
     "text": [
      "test loss score is :0.7220857781343186\n",
      "test acc score is :0.8196884984025559\n",
      "Epoch 49\n",
      "train\n",
      "Using real-time data augmentation.\n",
      "train loss score is :0.562345285838564\n",
      "train acc score is :0.8641434740882917\n",
      "It has been 114.43711233139038 seconds since the loop started\n",
      "test\n"
     ]
    },
    {
     "name": "stderr",
     "output_type": "stream",
     "text": [
      "\r",
      " 25%|██████████████████████████████████████▊                                                                                                                    | 50/200 [1:40:47<5:01:25, 120.57s/it]"
     ]
    },
    {
     "name": "stdout",
     "output_type": "stream",
     "text": [
      "test loss score is :0.7967145330132768\n",
      "test acc score is :0.8058107028753994\n",
      "Epoch 50\n",
      "train\n",
      "Using real-time data augmentation.\n",
      "train loss score is :0.5591653044968938\n",
      "train acc score is :0.8671825015994882\n",
      "It has been 114.45214033126831 seconds since the loop started\n",
      "test\n"
     ]
    },
    {
     "name": "stderr",
     "output_type": "stream",
     "text": [
      "\r",
      " 26%|███████████████████████████████████████▌                                                                                                                   | 51/200 [1:42:48<4:59:23, 120.56s/it]"
     ]
    },
    {
     "name": "stdout",
     "output_type": "stream",
     "text": [
      "test loss score is :0.6344864902595362\n",
      "test acc score is :0.8454472843450479\n",
      "Epoch 51\n",
      "train\n",
      "Using real-time data augmentation.\n",
      "train loss score is :0.5574613942389907\n",
      "train acc score is :0.8679222648752399\n",
      "It has been 114.25768160820007 seconds since the loop started\n",
      "test\n"
     ]
    },
    {
     "name": "stderr",
     "output_type": "stream",
     "text": [
      "\r",
      " 26%|████████████████████████████████████████▎                                                                                                                  | 52/200 [1:44:48<4:57:04, 120.43s/it]"
     ]
    },
    {
     "name": "stdout",
     "output_type": "stream",
     "text": [
      "test loss score is :0.7425930391961393\n",
      "test acc score is :0.8282747603833865\n",
      "Epoch 52\n",
      "train\n",
      "Using real-time data augmentation.\n",
      "train loss score is :0.5529904771388835\n",
      "train acc score is :0.8692218490083173\n",
      "It has been 114.75389170646667 seconds since the loop started\n",
      "test\n"
     ]
    },
    {
     "name": "stderr",
     "output_type": "stream",
     "text": [
      "\r",
      " 26%|█████████████████████████████████████████                                                                                                                  | 53/200 [1:46:48<4:55:15, 120.52s/it]"
     ]
    },
    {
     "name": "stdout",
     "output_type": "stream",
     "text": [
      "test loss score is :0.8576239273190117\n",
      "test acc score is :0.7943290734824281\n",
      "Epoch 53\n",
      "train\n",
      "Using real-time data augmentation.\n",
      "train loss score is :0.5536864760664892\n",
      "train acc score is :0.8694017914267435\n",
      "It has been 114.39079165458679 seconds since the loop started\n",
      "test\n"
     ]
    },
    {
     "name": "stderr",
     "output_type": "stream",
     "text": [
      "\r",
      " 27%|█████████████████████████████████████████▊                                                                                                                 | 54/200 [1:48:49<4:53:13, 120.50s/it]"
     ]
    },
    {
     "name": "stdout",
     "output_type": "stream",
     "text": [
      "test loss score is :0.7348156584718357\n",
      "test acc score is :0.8265774760383386\n",
      "Epoch 54\n",
      "train\n",
      "Using real-time data augmentation.\n",
      "train loss score is :0.5521738700716449\n",
      "train acc score is :0.8704414587332053\n",
      "It has been 114.63696670532227 seconds since the loop started\n",
      "test\n"
     ]
    },
    {
     "name": "stderr",
     "output_type": "stream",
     "text": [
      "\r",
      " 28%|██████████████████████████████████████████▋                                                                                                                | 55/200 [1:50:50<4:51:19, 120.55s/it]"
     ]
    },
    {
     "name": "stdout",
     "output_type": "stream",
     "text": [
      "test loss score is :0.6515002214013578\n",
      "test acc score is :0.8422523961661342\n",
      "Epoch 55\n",
      "train\n",
      "Using real-time data augmentation.\n",
      "train loss score is :0.5528176277971237\n",
      "train acc score is :0.8701815419065899\n",
      "It has been 114.1505913734436 seconds since the loop started\n",
      "test\n"
     ]
    },
    {
     "name": "stderr",
     "output_type": "stream",
     "text": [
      "\r",
      " 28%|███████████████████████████████████████████▍                                                                                                               | 56/200 [1:52:50<4:49:03, 120.44s/it]"
     ]
    },
    {
     "name": "stdout",
     "output_type": "stream",
     "text": [
      "test loss score is :0.6652345767798135\n",
      "test acc score is :0.8443490415335463\n",
      "Epoch 56\n",
      "train\n",
      "Using real-time data augmentation.\n",
      "train loss score is :0.5517178254961128\n",
      "train acc score is :0.8729406589891234\n",
      "It has been 114.23744893074036 seconds since the loop started\n",
      "test\n"
     ]
    },
    {
     "name": "stderr",
     "output_type": "stream",
     "text": [
      "\r",
      " 28%|████████████████████████████████████████████▏                                                                                                              | 57/200 [1:54:50<4:46:53, 120.37s/it]"
     ]
    },
    {
     "name": "stdout",
     "output_type": "stream",
     "text": [
      "test loss score is :0.687097862315254\n",
      "test acc score is :0.8390575079872205\n",
      "Epoch 57\n",
      "train\n",
      "Using real-time data augmentation.\n",
      "train loss score is :0.5415062023444734\n",
      "train acc score is :0.8742602367242482\n",
      "It has been 114.38338828086853 seconds since the loop started\n",
      "test\n"
     ]
    },
    {
     "name": "stderr",
     "output_type": "stream",
     "text": [
      "\r",
      " 29%|████████████████████████████████████████████▉                                                                                                              | 58/200 [1:56:50<4:44:54, 120.38s/it]"
     ]
    },
    {
     "name": "stdout",
     "output_type": "stream",
     "text": [
      "test loss score is :0.7289614333226658\n",
      "test acc score is :0.8311701277955271\n",
      "Epoch 58\n",
      "train\n",
      "Using real-time data augmentation.\n",
      "train loss score is :0.5429439142069905\n",
      "train acc score is :0.8735204734484965\n",
      "It has been 114.60779309272766 seconds since the loop started\n",
      "test\n"
     ]
    },
    {
     "name": "stderr",
     "output_type": "stream",
     "text": [
      "\r",
      " 30%|█████████████████████████████████████████████▋                                                                                                             | 59/200 [1:58:51<4:43:06, 120.47s/it]"
     ]
    },
    {
     "name": "stdout",
     "output_type": "stream",
     "text": [
      "test loss score is :0.693417699573139\n",
      "test acc score is :0.834564696485623\n",
      "Epoch 59\n",
      "train\n",
      "Using real-time data augmentation.\n",
      "train loss score is :0.542513232847398\n",
      "train acc score is :0.8753598848368522\n",
      "It has been 115.09613871574402 seconds since the loop started\n",
      "test\n"
     ]
    },
    {
     "name": "stderr",
     "output_type": "stream",
     "text": [
      "\r",
      " 30%|██████████████████████████████████████████████▌                                                                                                            | 60/200 [2:00:52<4:41:35, 120.68s/it]"
     ]
    },
    {
     "name": "stdout",
     "output_type": "stream",
     "text": [
      "test loss score is :0.6816424459885484\n",
      "test acc score is :0.8334664536741214\n",
      "Epoch 60\n",
      "train\n",
      "Using real-time data augmentation.\n",
      "train loss score is :0.5407489593202154\n",
      "train acc score is :0.8758597248880359\n",
      "It has been 113.63304448127747 seconds since the loop started\n",
      "test\n"
     ]
    },
    {
     "name": "stderr",
     "output_type": "stream",
     "text": [
      "\r",
      " 30%|███████████████████████████████████████████████▎                                                                                                           | 61/200 [2:02:52<4:38:40, 120.29s/it]"
     ]
    },
    {
     "name": "stdout",
     "output_type": "stream",
     "text": [
      "test loss score is :0.6489542522750342\n",
      "test acc score is :0.8450479233226837\n",
      "Epoch 61\n",
      "train\n",
      "Using real-time data augmentation.\n",
      "train loss score is :0.5404773804329941\n",
      "train acc score is :0.877319257837492\n",
      "It has been 113.77217411994934 seconds since the loop started\n",
      "test\n"
     ]
    },
    {
     "name": "stderr",
     "output_type": "stream",
     "text": [
      "\r",
      " 31%|████████████████████████████████████████████████                                                                                                           | 62/200 [2:04:51<4:36:21, 120.15s/it]"
     ]
    },
    {
     "name": "stdout",
     "output_type": "stream",
     "text": [
      "test loss score is :0.6687325840940872\n",
      "test acc score is :0.8321685303514377\n",
      "Epoch 62\n",
      "train\n",
      "Using real-time data augmentation.\n",
      "train loss score is :0.5329266427250452\n",
      "train acc score is :0.8782189699296226\n",
      "It has been 115.21849465370178 seconds since the loop started\n",
      "test\n"
     ]
    },
    {
     "name": "stderr",
     "output_type": "stream",
     "text": [
      "\r",
      " 32%|████████████████████████████████████████████████▊                                                                                                          | 63/200 [2:06:53<4:35:12, 120.53s/it]"
     ]
    },
    {
     "name": "stdout",
     "output_type": "stream",
     "text": [
      "test loss score is :0.6477111361849422\n",
      "test acc score is :0.8466453674121406\n",
      "Epoch 63\n",
      "train\n",
      "Using real-time data augmentation.\n",
      "train loss score is :0.5354439633363954\n",
      "train acc score is :0.8795385476647473\n",
      "It has been 114.37501335144043 seconds since the loop started\n",
      "test\n"
     ]
    },
    {
     "name": "stderr",
     "output_type": "stream",
     "text": [
      "\r",
      " 32%|█████████████████████████████████████████████████▌                                                                                                         | 64/200 [2:08:53<4:33:08, 120.50s/it]"
     ]
    },
    {
     "name": "stdout",
     "output_type": "stream",
     "text": [
      "test loss score is :0.900865770947819\n",
      "test acc score is :0.7838458466453674\n",
      "Epoch 64\n",
      "train\n",
      "Using real-time data augmentation.\n",
      "train loss score is :0.5344881334140067\n",
      "train acc score is :0.8781589891234804\n",
      "It has been 114.56244587898254 seconds since the loop started\n",
      "test\n"
     ]
    },
    {
     "name": "stderr",
     "output_type": "stream",
     "text": [
      "\r",
      " 32%|██████████████████████████████████████████████████▍                                                                                                        | 65/200 [2:10:54<4:30:59, 120.44s/it]"
     ]
    },
    {
     "name": "stdout",
     "output_type": "stream",
     "text": [
      "test loss score is :0.7792277105700094\n",
      "test acc score is :0.8101038338658147\n",
      "Epoch 65\n",
      "train\n",
      "Using real-time data augmentation.\n",
      "train loss score is :0.5344617485580578\n",
      "train acc score is :0.879058701215611\n",
      "It has been 114.21508693695068 seconds since the loop started\n",
      "test\n"
     ]
    },
    {
     "name": "stderr",
     "output_type": "stream",
     "text": [
      "\r",
      " 33%|███████████████████████████████████████████████████▏                                                                                                       | 66/200 [2:12:54<4:28:57, 120.43s/it]"
     ]
    },
    {
     "name": "stdout",
     "output_type": "stream",
     "text": [
      "test loss score is :0.7484076210675529\n",
      "test acc score is :0.8244808306709265\n",
      "Epoch 66\n",
      "train\n",
      "Using real-time data augmentation.\n",
      "train loss score is :0.5372868641133653\n",
      "train acc score is :0.8772992642354447\n",
      "It has been 114.4702696800232 seconds since the loop started\n",
      "test\n"
     ]
    },
    {
     "name": "stderr",
     "output_type": "stream",
     "text": [
      "\r",
      " 34%|███████████████████████████████████████████████████▉                                                                                                       | 67/200 [2:14:55<4:27:00, 120.46s/it]"
     ]
    },
    {
     "name": "stdout",
     "output_type": "stream",
     "text": [
      "test loss score is :0.6449061457912761\n",
      "test acc score is :0.8506389776357828\n",
      "Epoch 67\n",
      "train\n",
      "Using real-time data augmentation.\n",
      "train loss score is :0.5336469507472911\n",
      "train acc score is :0.879638515674984\n",
      "It has been 114.308758020401 seconds since the loop started\n",
      "test\n"
     ]
    },
    {
     "name": "stderr",
     "output_type": "stream",
     "text": [
      "\r",
      " 34%|████████████████████████████████████████████████████▋                                                                                                      | 68/200 [2:16:55<4:24:54, 120.42s/it]"
     ]
    },
    {
     "name": "stdout",
     "output_type": "stream",
     "text": [
      "test loss score is :0.6689827449786396\n",
      "test acc score is :0.8466453674121406\n",
      "Epoch 68\n",
      "train\n",
      "Using real-time data augmentation.\n",
      "train loss score is :0.5283536769912095\n",
      "train acc score is :0.8811780230326296\n",
      "It has been 115.14958333969116 seconds since the loop started\n",
      "test\n"
     ]
    },
    {
     "name": "stderr",
     "output_type": "stream",
     "text": [
      "\r",
      " 34%|█████████████████████████████████████████████████████▍                                                                                                     | 69/200 [2:18:56<4:23:22, 120.63s/it]"
     ]
    },
    {
     "name": "stdout",
     "output_type": "stream",
     "text": [
      "test loss score is :0.6533585081751735\n",
      "test acc score is :0.8488418530351438\n",
      "Epoch 69\n",
      "train\n",
      "Using real-time data augmentation.\n",
      "train loss score is :0.5255778664705163\n",
      "train acc score is :0.8831973768394114\n",
      "It has been 115.23934817314148 seconds since the loop started\n",
      "test\n"
     ]
    },
    {
     "name": "stderr",
     "output_type": "stream",
     "text": [
      "\r",
      " 35%|██████████████████████████████████████████████████████▎                                                                                                    | 70/200 [2:20:57<4:21:49, 120.85s/it]"
     ]
    },
    {
     "name": "stdout",
     "output_type": "stream",
     "text": [
      "test loss score is :0.6730916244915118\n",
      "test acc score is :0.8473442492012779\n",
      "Epoch 70\n",
      "train\n",
      "Using real-time data augmentation.\n",
      "train loss score is :0.5288187406876114\n",
      "train acc score is :0.8823376519513756\n",
      "It has been 114.34205484390259 seconds since the loop started\n",
      "test\n"
     ]
    },
    {
     "name": "stderr",
     "output_type": "stream",
     "text": [
      "\r",
      " 36%|███████████████████████████████████████████████████████                                                                                                    | 71/200 [2:22:58<4:19:36, 120.75s/it]"
     ]
    },
    {
     "name": "stdout",
     "output_type": "stream",
     "text": [
      "test loss score is :0.6190513001082424\n",
      "test acc score is :0.853035143769968\n",
      "Epoch 71\n",
      "train\n",
      "Using real-time data augmentation.\n",
      "train loss score is :0.5260683481253192\n",
      "train acc score is :0.8833773192578375\n",
      "It has been 114.96761298179626 seconds since the loop started\n",
      "test\n"
     ]
    },
    {
     "name": "stderr",
     "output_type": "stream",
     "text": [
      "\r",
      " 36%|███████████████████████████████████████████████████████▊                                                                                                   | 72/200 [2:24:59<4:17:43, 120.81s/it]"
     ]
    },
    {
     "name": "stdout",
     "output_type": "stream",
     "text": [
      "test loss score is :0.7221108794021911\n",
      "test acc score is :0.827076677316294\n",
      "Epoch 72\n",
      "train\n",
      "Using real-time data augmentation.\n",
      "train loss score is :0.5276017943712968\n",
      "train acc score is :0.882597568777991\n",
      "It has been 113.97805047035217 seconds since the loop started\n",
      "test\n"
     ]
    },
    {
     "name": "stderr",
     "output_type": "stream",
     "text": [
      "\r",
      " 36%|████████████████████████████████████████████████████████▌                                                                                                  | 73/200 [2:26:59<4:15:11, 120.57s/it]"
     ]
    },
    {
     "name": "stdout",
     "output_type": "stream",
     "text": [
      "test loss score is :0.695203545899056\n",
      "test acc score is :0.8341653354632588\n",
      "Epoch 73\n",
      "train\n",
      "Using real-time data augmentation.\n",
      "train loss score is :0.5269340479690451\n",
      "train acc score is :0.8827775111964171\n",
      "It has been 114.8384964466095 seconds since the loop started\n",
      "test\n"
     ]
    },
    {
     "name": "stderr",
     "output_type": "stream",
     "text": [
      "\r",
      " 37%|█████████████████████████████████████████████████████████▎                                                                                                 | 74/200 [2:29:00<4:13:23, 120.66s/it]"
     ]
    },
    {
     "name": "stdout",
     "output_type": "stream",
     "text": [
      "test loss score is :0.7280755720961208\n",
      "test acc score is :0.8322683706070287\n",
      "Epoch 74\n",
      "train\n",
      "Using real-time data augmentation.\n",
      "train loss score is :0.5248709231691336\n",
      "train acc score is :0.8845369481765835\n",
      "It has been 114.7929277420044 seconds since the loop started\n",
      "test\n"
     ]
    },
    {
     "name": "stderr",
     "output_type": "stream",
     "text": [
      "\r",
      " 38%|██████████████████████████████████████████████████████████▏                                                                                                | 75/200 [2:31:00<4:11:25, 120.69s/it]"
     ]
    },
    {
     "name": "stdout",
     "output_type": "stream",
     "text": [
      "test loss score is :0.7666304651350259\n",
      "test acc score is :0.8144968051118211\n",
      "Epoch 75\n",
      "train\n",
      "Using real-time data augmentation.\n",
      "train loss score is :0.5190141873239937\n",
      "train acc score is :0.8861164427383237\n",
      "It has been 114.49805545806885 seconds since the loop started\n",
      "test\n"
     ]
    },
    {
     "name": "stderr",
     "output_type": "stream",
     "text": [
      "\r",
      " 38%|██████████████████████████████████████████████████████████▉                                                                                                | 76/200 [2:33:01<4:09:25, 120.69s/it]"
     ]
    },
    {
     "name": "stdout",
     "output_type": "stream",
     "text": [
      "test loss score is :0.6573190508178248\n",
      "test acc score is :0.8538338658146964\n",
      "Epoch 76\n",
      "train\n",
      "Using real-time data augmentation.\n",
      "train loss score is :0.5224021040070004\n",
      "train acc score is :0.8844369801663468\n",
      "It has been 114.42076277732849 seconds since the loop started\n",
      "test\n"
     ]
    },
    {
     "name": "stderr",
     "output_type": "stream",
     "text": [
      "\r",
      " 38%|███████████████████████████████████████████████████████████▋                                                                                               | 77/200 [2:35:01<4:07:13, 120.60s/it]"
     ]
    },
    {
     "name": "stdout",
     "output_type": "stream",
     "text": [
      "test loss score is :0.7657377232853978\n",
      "test acc score is :0.8286741214057508\n",
      "Epoch 77\n",
      "train\n",
      "Using real-time data augmentation.\n",
      "train loss score is :0.5223328283656048\n",
      "train acc score is :0.8847568777991043\n",
      "It has been 114.45429253578186 seconds since the loop started\n",
      "test\n"
     ]
    },
    {
     "name": "stderr",
     "output_type": "stream",
     "text": [
      "\r",
      " 39%|████████████████████████████████████████████████████████████▍                                                                                              | 78/200 [2:37:02<4:05:07, 120.55s/it]"
     ]
    },
    {
     "name": "stdout",
     "output_type": "stream",
     "text": [
      "test loss score is :0.749526004155223\n",
      "test acc score is :0.8209864217252396\n",
      "Epoch 78\n",
      "train\n",
      "Using real-time data augmentation.\n",
      "train loss score is :0.519266619391725\n",
      "train acc score is :0.8853766794625719\n",
      "It has been 114.12780737876892 seconds since the loop started\n",
      "test\n"
     ]
    },
    {
     "name": "stderr",
     "output_type": "stream",
     "text": [
      "\r",
      " 40%|█████████████████████████████████████████████████████████████▏                                                                                             | 79/200 [2:39:02<4:02:51, 120.43s/it]"
     ]
    },
    {
     "name": "stdout",
     "output_type": "stream",
     "text": [
      "test loss score is :0.6626076866357852\n",
      "test acc score is :0.8489416932907349\n",
      "Epoch 79\n",
      "train\n",
      "Using real-time data augmentation.\n",
      "train loss score is :0.5209519863223999\n",
      "train acc score is :0.885896513115803\n",
      "It has been 114.10453128814697 seconds since the loop started\n",
      "test\n"
     ]
    },
    {
     "name": "stderr",
     "output_type": "stream",
     "text": [
      "\r",
      " 40%|██████████████████████████████████████████████████████████████                                                                                             | 80/200 [2:41:02<4:00:45, 120.38s/it]"
     ]
    },
    {
     "name": "stdout",
     "output_type": "stream",
     "text": [
      "test loss score is :0.6272553428769493\n",
      "test acc score is :0.8615215654952076\n",
      "Epoch 80\n",
      "train\n",
      "Using real-time data augmentation.\n",
      "train loss score is :0.520429228819187\n",
      "train acc score is :0.8868362124120281\n",
      "It has been 114.6095712184906 seconds since the loop started\n",
      "test\n"
     ]
    },
    {
     "name": "stderr",
     "output_type": "stream",
     "text": [
      "\r",
      " 40%|██████████████████████████████████████████████████████████████▊                                                                                            | 81/200 [2:43:03<3:58:56, 120.48s/it]"
     ]
    },
    {
     "name": "stdout",
     "output_type": "stream",
     "text": [
      "test loss score is :0.7838674401894165\n",
      "test acc score is :0.799520766773163\n",
      "Epoch 81\n",
      "train\n",
      "Using real-time data augmentation.\n",
      "train loss score is :0.5204918709555575\n",
      "train acc score is :0.8870161548304543\n",
      "It has been 114.59081029891968 seconds since the loop started\n",
      "test\n"
     ]
    },
    {
     "name": "stderr",
     "output_type": "stream",
     "text": [
      "\r",
      " 41%|███████████████████████████████████████████████████████████████▌                                                                                           | 82/200 [2:45:04<3:56:59, 120.50s/it]"
     ]
    },
    {
     "name": "stdout",
     "output_type": "stream",
     "text": [
      "test loss score is :0.6569168267729945\n",
      "test acc score is :0.8441493610223643\n",
      "Epoch 82\n",
      "train\n",
      "Using real-time data augmentation.\n",
      "train loss score is :0.5142382034699428\n",
      "train acc score is :0.8893554062699937\n",
      "It has been 115.2756814956665 seconds since the loop started\n",
      "test\n"
     ]
    },
    {
     "name": "stderr",
     "output_type": "stream",
     "text": [
      "\r",
      " 42%|████████████████████████████████████████████████████████████████▎                                                                                          | 83/200 [2:47:05<3:55:24, 120.73s/it]"
     ]
    },
    {
     "name": "stdout",
     "output_type": "stream",
     "text": [
      "test loss score is :0.6992314448371862\n",
      "test acc score is :0.8405551118210862\n",
      "Epoch 83\n",
      "train\n",
      "Using real-time data augmentation.\n",
      "train loss score is :0.5140795212427317\n",
      "train acc score is :0.8883557261676264\n",
      "It has been 114.59457635879517 seconds since the loop started\n",
      "test\n"
     ]
    },
    {
     "name": "stderr",
     "output_type": "stream",
     "text": [
      "\r",
      " 42%|█████████████████████████████████████████████████████████████████                                                                                          | 84/200 [2:49:05<3:53:18, 120.68s/it]"
     ]
    },
    {
     "name": "stdout",
     "output_type": "stream",
     "text": [
      "test loss score is :0.7423854475965896\n",
      "test acc score is :0.8311701277955271\n",
      "Epoch 84\n",
      "train\n",
      "Using real-time data augmentation.\n",
      "train loss score is :0.5129242505227536\n",
      "train acc score is :0.8902151311580294\n",
      "It has been 114.84478092193604 seconds since the loop started\n",
      "test\n"
     ]
    },
    {
     "name": "stderr",
     "output_type": "stream",
     "text": [
      "\r",
      " 42%|█████████████████████████████████████████████████████████████████▉                                                                                         | 85/200 [2:51:06<3:51:24, 120.74s/it]"
     ]
    },
    {
     "name": "stdout",
     "output_type": "stream",
     "text": [
      "test loss score is :0.6676275637774421\n",
      "test acc score is :0.8521365814696485\n",
      "Epoch 85\n",
      "train\n",
      "Using real-time data augmentation.\n",
      "train loss score is :0.512334393543535\n",
      "train acc score is :0.8895153550863724\n",
      "It has been 114.66943860054016 seconds since the loop started\n",
      "test\n"
     ]
    },
    {
     "name": "stderr",
     "output_type": "stream",
     "text": [
      "\r",
      " 43%|██████████████████████████████████████████████████████████████████▋                                                                                        | 86/200 [2:53:07<3:49:23, 120.73s/it]"
     ]
    },
    {
     "name": "stdout",
     "output_type": "stream",
     "text": [
      "test loss score is :0.6464111586919608\n",
      "test acc score is :0.8562300319488818\n",
      "Epoch 86\n",
      "train\n",
      "Using real-time data augmentation.\n",
      "train loss score is :0.5179843614575044\n",
      "train acc score is :0.8873360524632118\n",
      "It has been 114.38621497154236 seconds since the loop started\n",
      "test\n"
     ]
    },
    {
     "name": "stderr",
     "output_type": "stream",
     "text": [
      "\r",
      " 44%|███████████████████████████████████████████████████████████████████▍                                                                                       | 87/200 [2:55:08<3:47:18, 120.69s/it]"
     ]
    },
    {
     "name": "stdout",
     "output_type": "stream",
     "text": [
      "test loss score is :0.7166928731785795\n",
      "test acc score is :0.830870607028754\n",
      "Epoch 87\n",
      "train\n",
      "Using real-time data augmentation.\n",
      "train loss score is :0.5139058686873886\n",
      "train acc score is :0.8892354446577095\n",
      "It has been 114.15244102478027 seconds since the loop started\n",
      "test\n"
     ]
    },
    {
     "name": "stderr",
     "output_type": "stream",
     "text": [
      "\r",
      " 44%|████████████████████████████████████████████████████████████████████▏                                                                                      | 88/200 [2:57:08<3:44:53, 120.48s/it]"
     ]
    },
    {
     "name": "stdout",
     "output_type": "stream",
     "text": [
      "test loss score is :0.6972731387082\n",
      "test acc score is :0.840055910543131\n",
      "Epoch 88\n",
      "train\n",
      "Using real-time data augmentation.\n",
      "train loss score is :0.5112599471079868\n",
      "train acc score is :0.8905150351887396\n",
      "It has been 114.70681476593018 seconds since the loop started\n",
      "test\n"
     ]
    },
    {
     "name": "stderr",
     "output_type": "stream",
     "text": [
      "\r",
      " 44%|████████████████████████████████████████████████████████████████████▉                                                                                      | 89/200 [2:59:08<3:43:01, 120.55s/it]"
     ]
    },
    {
     "name": "stdout",
     "output_type": "stream",
     "text": [
      "test loss score is :0.8354257480881084\n",
      "test acc score is :0.799620607028754\n",
      "Epoch 89\n",
      "train\n",
      "Using real-time data augmentation.\n",
      "train loss score is :0.5123341508919965\n",
      "train acc score is :0.8912148112603967\n",
      "It has been 114.46212601661682 seconds since the loop started\n",
      "test\n"
     ]
    },
    {
     "name": "stderr",
     "output_type": "stream",
     "text": [
      "\r",
      " 45%|█████████████████████████████████████████████████████████████████████▊                                                                                     | 90/200 [3:01:09<3:41:04, 120.58s/it]"
     ]
    },
    {
     "name": "stdout",
     "output_type": "stream",
     "text": [
      "test loss score is :0.7807781322124286\n",
      "test acc score is :0.8218849840255591\n",
      "Epoch 90\n",
      "train\n",
      "Using real-time data augmentation.\n",
      "train loss score is :0.5107305496645065\n",
      "train acc score is :0.8915547024952015\n",
      "It has been 114.78872275352478 seconds since the loop started\n",
      "test\n"
     ]
    },
    {
     "name": "stderr",
     "output_type": "stream",
     "text": [
      "\r",
      " 46%|██████████████████████████████████████████████████████████████████████▌                                                                                    | 91/200 [3:03:10<3:39:10, 120.65s/it]"
     ]
    },
    {
     "name": "stdout",
     "output_type": "stream",
     "text": [
      "test loss score is :0.636408559382914\n",
      "test acc score is :0.8571285942492013\n",
      "Epoch 91\n",
      "train\n",
      "Using real-time data augmentation.\n",
      "train loss score is :0.5074976290065512\n",
      "train acc score is :0.8924144273832374\n",
      "It has been 115.23329854011536 seconds since the loop started\n",
      "test\n"
     ]
    },
    {
     "name": "stderr",
     "output_type": "stream",
     "text": [
      "\r",
      " 46%|███████████████████████████████████████████████████████████████████████▎                                                                                   | 92/200 [3:05:11<3:37:34, 120.87s/it]"
     ]
    },
    {
     "name": "stdout",
     "output_type": "stream",
     "text": [
      "test loss score is :0.6699344932842559\n",
      "test acc score is :0.8502396166134185\n",
      "Epoch 92\n",
      "train\n",
      "Using real-time data augmentation.\n",
      "train loss score is :0.5105015216579974\n",
      "train acc score is :0.8917346449136276\n",
      "It has been 115.12910866737366 seconds since the loop started\n",
      "test\n"
     ]
    },
    {
     "name": "stderr",
     "output_type": "stream",
     "text": [
      "\r",
      " 46%|████████████████████████████████████████████████████████████████████████                                                                                   | 93/200 [3:07:12<3:35:42, 120.95s/it]"
     ]
    },
    {
     "name": "stdout",
     "output_type": "stream",
     "text": [
      "test loss score is :0.7059473263950774\n",
      "test acc score is :0.8424520766773163\n",
      "Epoch 93\n",
      "train\n",
      "Using real-time data augmentation.\n",
      "train loss score is :0.5077244574662896\n",
      "train acc score is :0.8932541586692259\n",
      "It has been 114.97482585906982 seconds since the loop started\n",
      "test\n"
     ]
    },
    {
     "name": "stderr",
     "output_type": "stream",
     "text": [
      "\r",
      " 47%|████████████████████████████████████████████████████████████████████████▊                                                                                  | 94/200 [3:09:13<3:33:38, 120.93s/it]"
     ]
    },
    {
     "name": "stdout",
     "output_type": "stream",
     "text": [
      "test loss score is :1.0299212786907586\n",
      "test acc score is :0.7802515974440895\n",
      "Epoch 94\n",
      "train\n",
      "Using real-time data augmentation.\n",
      "train loss score is :0.5064577693101769\n",
      "train acc score is :0.8914947216890595\n",
      "It has been 115.45317816734314 seconds since the loop started\n",
      "test\n"
     ]
    },
    {
     "name": "stderr",
     "output_type": "stream",
     "text": [
      "\r",
      " 48%|█████████████████████████████████████████████████████████████████████████▋                                                                                 | 95/200 [3:11:15<3:31:58, 121.13s/it]"
     ]
    },
    {
     "name": "stdout",
     "output_type": "stream",
     "text": [
      "test loss score is :0.6515970175829939\n",
      "test acc score is :0.8516373801916933\n",
      "Epoch 95\n",
      "train\n",
      "Using real-time data augmentation.\n",
      "train loss score is :0.5048360187924984\n",
      "train acc score is :0.8941138835572616\n",
      "It has been 114.69408655166626 seconds since the loop started\n",
      "test\n"
     ]
    },
    {
     "name": "stderr",
     "output_type": "stream",
     "text": [
      "\r",
      " 48%|██████████████████████████████████████████████████████████████████████████▍                                                                                | 96/200 [3:13:16<3:29:45, 121.02s/it]"
     ]
    },
    {
     "name": "stdout",
     "output_type": "stream",
     "text": [
      "test loss score is :0.6483256725933605\n",
      "test acc score is :0.8607228434504792\n",
      "Epoch 96\n",
      "train\n",
      "Using real-time data augmentation.\n",
      "train loss score is :0.5094302324381533\n",
      "train acc score is :0.8920145553422905\n",
      "It has been 114.67271828651428 seconds since the loop started\n",
      "test\n"
     ]
    },
    {
     "name": "stderr",
     "output_type": "stream",
     "text": [
      "\r",
      " 48%|███████████████████████████████████████████████████████████████████████████▏                                                                               | 97/200 [3:15:16<3:27:36, 120.94s/it]"
     ]
    },
    {
     "name": "stdout",
     "output_type": "stream",
     "text": [
      "test loss score is :0.6150504070729874\n",
      "test acc score is :0.8643170926517572\n",
      "Epoch 97\n",
      "train\n",
      "Using real-time data augmentation.\n",
      "train loss score is :0.5038246471418147\n",
      "train acc score is :0.8952735124760077\n",
      "It has been 114.75331330299377 seconds since the loop started\n",
      "test\n"
     ]
    },
    {
     "name": "stderr",
     "output_type": "stream",
     "text": [
      "\r",
      " 49%|███████████████████████████████████████████████████████████████████████████▉                                                                               | 98/200 [3:17:17<3:25:30, 120.89s/it]"
     ]
    },
    {
     "name": "stdout",
     "output_type": "stream",
     "text": [
      "test loss score is :0.6653502692048923\n",
      "test acc score is :0.8500399361022364\n",
      "Epoch 98\n",
      "train\n",
      "Using real-time data augmentation.\n",
      "train loss score is :0.5045815321949911\n",
      "train acc score is :0.8939939219449776\n",
      "It has been 114.4907488822937 seconds since the loop started\n",
      "test\n"
     ]
    },
    {
     "name": "stderr",
     "output_type": "stream",
     "text": [
      "\r",
      " 50%|████████████████████████████████████████████████████████████████████████████▋                                                                              | 99/200 [3:19:17<3:23:13, 120.73s/it]"
     ]
    },
    {
     "name": "stdout",
     "output_type": "stream",
     "text": [
      "test loss score is :0.6981292309852454\n",
      "test acc score is :0.84375\n",
      "Epoch 99\n",
      "train\n",
      "Using real-time data augmentation.\n",
      "train loss score is :0.5077462387309956\n",
      "train acc score is :0.8916946577095329\n",
      "It has been 114.4440484046936 seconds since the loop started\n",
      "test\n"
     ]
    },
    {
     "name": "stderr",
     "output_type": "stream",
     "text": [
      "\r",
      " 50%|█████████████████████████████████████████████████████████████████████████████                                                                             | 100/200 [3:21:18<3:21:04, 120.64s/it]"
     ]
    },
    {
     "name": "stdout",
     "output_type": "stream",
     "text": [
      "test loss score is :0.7704170411482406\n",
      "test acc score is :0.8293730031948882\n",
      "Epoch 100\n",
      "train\n",
      "Using real-time data augmentation.\n",
      "train loss score is :0.5072484720195629\n",
      "train acc score is :0.8929942418426103\n",
      "It has been 114.76349949836731 seconds since the loop started\n",
      "test\n"
     ]
    },
    {
     "name": "stderr",
     "output_type": "stream",
     "text": [
      "\r",
      " 50%|█████████████████████████████████████████████████████████████████████████████▊                                                                            | 101/200 [3:23:19<3:19:09, 120.70s/it]"
     ]
    },
    {
     "name": "stdout",
     "output_type": "stream",
     "text": [
      "test loss score is :0.7927277769429234\n",
      "test acc score is :0.8164936102236422\n",
      "Epoch 101\n",
      "train\n",
      "Using real-time data augmentation.\n",
      "train loss score is :0.5013386448815474\n",
      "train acc score is :0.894133877159309\n",
      "It has been 115.05504417419434 seconds since the loop started\n",
      "test\n"
     ]
    },
    {
     "name": "stderr",
     "output_type": "stream",
     "text": [
      "\r",
      " 51%|██████████████████████████████████████████████████████████████████████████████▌                                                                           | 102/200 [3:25:20<3:17:19, 120.81s/it]"
     ]
    },
    {
     "name": "stdout",
     "output_type": "stream",
     "text": [
      "test loss score is :0.7089045637141401\n",
      "test acc score is :0.8413538338658147\n",
      "Epoch 102\n",
      "train\n",
      "Using real-time data augmentation.\n",
      "train loss score is :0.5006626782913812\n",
      "train acc score is :0.8960932501599488\n",
      "It has been 115.01321721076965 seconds since the loop started\n",
      "test\n"
     ]
    },
    {
     "name": "stderr",
     "output_type": "stream",
     "text": [
      "\r",
      " 52%|███████████████████████████████████████████████████████████████████████████████▎                                                                          | 103/200 [3:27:21<3:15:29, 120.93s/it]"
     ]
    },
    {
     "name": "stdout",
     "output_type": "stream",
     "text": [
      "test loss score is :0.864216642924391\n",
      "test acc score is :0.8072084664536742\n",
      "Epoch 103\n",
      "train\n",
      "Using real-time data augmentation.\n",
      "train loss score is :0.502287292682583\n",
      "train acc score is :0.8939339411388356\n",
      "It has been 114.2613000869751 seconds since the loop started\n",
      "test\n"
     ]
    },
    {
     "name": "stderr",
     "output_type": "stream",
     "text": [
      "\r",
      " 52%|████████████████████████████████████████████████████████████████████████████████                                                                          | 104/200 [3:29:21<3:13:12, 120.75s/it]"
     ]
    },
    {
     "name": "stdout",
     "output_type": "stream",
     "text": [
      "test loss score is :0.7110186670534908\n",
      "test acc score is :0.8448482428115016\n",
      "Epoch 104\n",
      "train\n",
      "Using real-time data augmentation.\n",
      "train loss score is :0.5040330917634647\n",
      "train acc score is :0.8953734804862444\n",
      "It has been 114.61161088943481 seconds since the loop started\n",
      "test\n"
     ]
    },
    {
     "name": "stderr",
     "output_type": "stream",
     "text": [
      "\r",
      " 52%|████████████████████████████████████████████████████████████████████████████████▊                                                                         | 105/200 [3:31:22<3:11:05, 120.69s/it]"
     ]
    },
    {
     "name": "stdout",
     "output_type": "stream",
     "text": [
      "test loss score is :0.6226055937738845\n",
      "test acc score is :0.8568290734824281\n",
      "Epoch 105\n",
      "train\n",
      "Using real-time data augmentation.\n",
      "train loss score is :0.5012560313375654\n",
      "train acc score is :0.8940339091490723\n",
      "It has been 114.52936267852783 seconds since the loop started\n",
      "test\n"
     ]
    },
    {
     "name": "stderr",
     "output_type": "stream",
     "text": [
      "\r",
      " 53%|█████████████████████████████████████████████████████████████████████████████████▌                                                                        | 106/200 [3:33:22<3:08:57, 120.62s/it]"
     ]
    },
    {
     "name": "stdout",
     "output_type": "stream",
     "text": [
      "test loss score is :0.7440191071254377\n",
      "test acc score is :0.8451477635782748\n",
      "Epoch 106\n",
      "train\n",
      "Using real-time data augmentation.\n",
      "train loss score is :0.5015112036172961\n",
      "train acc score is :0.8958533269353807\n",
      "It has been 114.21839642524719 seconds since the loop started\n",
      "test\n"
     ]
    },
    {
     "name": "stderr",
     "output_type": "stream",
     "text": [
      "\r",
      " 54%|██████████████████████████████████████████████████████████████████████████████████▍                                                                       | 107/200 [3:35:22<3:06:44, 120.48s/it]"
     ]
    },
    {
     "name": "stdout",
     "output_type": "stream",
     "text": [
      "test loss score is :0.6971346638834895\n",
      "test acc score is :0.8439496805111821\n",
      "Epoch 107\n",
      "train\n",
      "Using real-time data augmentation.\n",
      "train loss score is :0.5021887561467239\n",
      "train acc score is :0.8949736084452975\n",
      "It has been 114.76925611495972 seconds since the loop started\n",
      "test\n"
     ]
    },
    {
     "name": "stderr",
     "output_type": "stream",
     "text": [
      "\r",
      " 54%|███████████████████████████████████████████████████████████████████████████████████▏                                                                      | 108/200 [3:37:23<3:04:55, 120.61s/it]"
     ]
    },
    {
     "name": "stdout",
     "output_type": "stream",
     "text": [
      "test loss score is :0.8281237457316524\n",
      "test acc score is :0.8031150159744409\n",
      "Epoch 108\n",
      "train\n",
      "Using real-time data augmentation.\n",
      "train loss score is :0.5019192757109991\n",
      "train acc score is :0.8960332693538068\n",
      "It has been 115.15059876441956 seconds since the loop started\n",
      "test\n"
     ]
    },
    {
     "name": "stderr",
     "output_type": "stream",
     "text": [
      "\r",
      " 55%|███████████████████████████████████████████████████████████████████████████████████▉                                                                      | 109/200 [3:39:24<3:03:09, 120.76s/it]"
     ]
    },
    {
     "name": "stdout",
     "output_type": "stream",
     "text": [
      "test loss score is :0.6928710827050498\n",
      "test acc score is :0.8399560702875399\n",
      "Epoch 109\n",
      "train\n",
      "Using real-time data augmentation.\n",
      "train loss score is :0.49618921680131634\n",
      "train acc score is :0.8971329174664108\n",
      "It has been 115.1142840385437 seconds since the loop started\n",
      "test\n"
     ]
    },
    {
     "name": "stderr",
     "output_type": "stream",
     "text": [
      "\r",
      " 55%|████████████████████████████████████████████████████████████████████████████████████▋                                                                     | 110/200 [3:41:26<3:01:17, 120.86s/it]"
     ]
    },
    {
     "name": "stdout",
     "output_type": "stream",
     "text": [
      "test loss score is :0.8496067337334727\n",
      "test acc score is :0.8114017571884984\n",
      "Epoch 110\n",
      "train\n",
      "Using real-time data augmentation.\n",
      "train loss score is :0.49104720636277494\n",
      "train acc score is :0.8997920665387076\n",
      "It has been 114.91021776199341 seconds since the loop started\n",
      "test\n"
     ]
    },
    {
     "name": "stderr",
     "output_type": "stream",
     "text": [
      "\r",
      " 56%|█████████████████████████████████████████████████████████████████████████████████████▍                                                                    | 111/200 [3:43:26<2:59:16, 120.86s/it]"
     ]
    },
    {
     "name": "stdout",
     "output_type": "stream",
     "text": [
      "test loss score is :0.6688255811461244\n",
      "test acc score is :0.8538338658146964\n",
      "Epoch 111\n",
      "train\n",
      "Using real-time data augmentation.\n",
      "train loss score is :0.4972269350111065\n",
      "train acc score is :0.8964931222008957\n",
      "It has been 114.8592038154602 seconds since the loop started\n",
      "test\n"
     ]
    },
    {
     "name": "stderr",
     "output_type": "stream",
     "text": [
      "\r",
      " 56%|██████████████████████████████████████████████████████████████████████████████████████▏                                                                   | 112/200 [3:45:27<2:57:15, 120.86s/it]"
     ]
    },
    {
     "name": "stdout",
     "output_type": "stream",
     "text": [
      "test loss score is :0.6788471685811734\n",
      "test acc score is :0.8510383386581469\n",
      "Epoch 112\n",
      "train\n",
      "Using real-time data augmentation.\n",
      "train loss score is :0.49342855512714506\n",
      "train acc score is :0.8971529110684581\n",
      "It has been 115.38721919059753 seconds since the loop started\n",
      "test\n"
     ]
    },
    {
     "name": "stderr",
     "output_type": "stream",
     "text": [
      "\r",
      " 56%|███████████████████████████████████████████████████████████████████████████████████████                                                                   | 113/200 [3:47:29<2:55:31, 121.05s/it]"
     ]
    },
    {
     "name": "stdout",
     "output_type": "stream",
     "text": [
      "test loss score is :0.626802891445236\n",
      "test acc score is :0.8628194888178914\n",
      "Epoch 113\n",
      "train\n",
      "Using real-time data augmentation.\n",
      "train loss score is :0.49654815783122375\n",
      "train acc score is :0.8968130198336532\n",
      "It has been 114.66698217391968 seconds since the loop started\n",
      "test\n"
     ]
    },
    {
     "name": "stderr",
     "output_type": "stream",
     "text": [
      "\r",
      " 57%|███████████████████████████████████████████████████████████████████████████████████████▊                                                                  | 114/200 [3:49:29<2:53:21, 120.95s/it]"
     ]
    },
    {
     "name": "stdout",
     "output_type": "stream",
     "text": [
      "test loss score is :0.6251587669213359\n",
      "test acc score is :0.8669129392971247\n",
      "Epoch 114\n",
      "train\n",
      "Using real-time data augmentation.\n",
      "train loss score is :0.4919217721495351\n",
      "train acc score is :0.899352207293666\n",
      "It has been 114.42053294181824 seconds since the loop started\n",
      "test\n"
     ]
    },
    {
     "name": "stderr",
     "output_type": "stream",
     "text": [
      "\r",
      " 57%|████████████████████████████████████████████████████████████████████████████████████████▌                                                                 | 115/200 [3:51:30<2:51:09, 120.82s/it]"
     ]
    },
    {
     "name": "stdout",
     "output_type": "stream",
     "text": [
      "test loss score is :0.6909240141463356\n",
      "test acc score is :0.8453474440894568\n",
      "Epoch 115\n",
      "train\n",
      "Using real-time data augmentation.\n",
      "train loss score is :0.4972736157443534\n",
      "train acc score is :0.8976327575175944\n",
      "It has been 115.25662565231323 seconds since the loop started\n",
      "test\n"
     ]
    },
    {
     "name": "stderr",
     "output_type": "stream",
     "text": [
      "\r",
      " 58%|█████████████████████████████████████████████████████████████████████████████████████████▎                                                                | 116/200 [3:53:31<2:49:21, 120.98s/it]"
     ]
    },
    {
     "name": "stdout",
     "output_type": "stream",
     "text": [
      "test loss score is :0.8510301264996727\n",
      "test acc score is :0.8093051118210862\n",
      "Epoch 116\n",
      "train\n",
      "Using real-time data augmentation.\n",
      "train loss score is :0.49186815120284555\n",
      "train acc score is :0.9002319257837492\n",
      "It has been 114.74284553527832 seconds since the loop started\n",
      "test\n"
     ]
    },
    {
     "name": "stderr",
     "output_type": "stream",
     "text": [
      "\r",
      " 58%|██████████████████████████████████████████████████████████████████████████████████████████                                                                | 117/200 [3:55:32<2:47:15, 120.91s/it]"
     ]
    },
    {
     "name": "stdout",
     "output_type": "stream",
     "text": [
      "test loss score is :0.6703110043994915\n",
      "test acc score is :0.8521365814696485\n",
      "Epoch 117\n",
      "train\n",
      "Using real-time data augmentation.\n",
      "train loss score is :0.49465348704533935\n",
      "train acc score is :0.8977327255278311\n",
      "It has been 114.52443480491638 seconds since the loop started\n",
      "test\n"
     ]
    },
    {
     "name": "stderr",
     "output_type": "stream",
     "text": [
      "\r",
      " 59%|██████████████████████████████████████████████████████████████████████████████████████████▊                                                               | 118/200 [3:57:33<2:45:04, 120.79s/it]"
     ]
    },
    {
     "name": "stdout",
     "output_type": "stream",
     "text": [
      "test loss score is :0.8221860054773263\n",
      "test acc score is :0.821685303514377\n",
      "Epoch 118\n",
      "train\n",
      "Using real-time data augmentation.\n",
      "train loss score is :0.4926626013206963\n",
      "train acc score is :0.8990722968650032\n",
      "It has been 115.41244959831238 seconds since the loop started\n",
      "test\n"
     ]
    },
    {
     "name": "stderr",
     "output_type": "stream",
     "text": [
      "\r",
      " 60%|███████████████████████████████████████████████████████████████████████████████████████████▋                                                              | 119/200 [3:59:34<2:43:20, 121.00s/it]"
     ]
    },
    {
     "name": "stdout",
     "output_type": "stream",
     "text": [
      "test loss score is :0.6489910722350161\n",
      "test acc score is :0.8561301916932907\n",
      "Epoch 119\n",
      "train\n",
      "Using real-time data augmentation.\n",
      "train loss score is :0.4888867221996713\n",
      "train acc score is :0.9014315419065899\n",
      "It has been 115.13268780708313 seconds since the loop started\n",
      "test\n"
     ]
    },
    {
     "name": "stderr",
     "output_type": "stream",
     "text": [
      "\r",
      " 60%|████████████████████████████████████████████████████████████████████████████████████████████▍                                                             | 120/200 [4:01:35<2:41:27, 121.09s/it]"
     ]
    },
    {
     "name": "stdout",
     "output_type": "stream",
     "text": [
      "test loss score is :0.7272554732168826\n",
      "test acc score is :0.836361821086262\n",
      "Epoch 120\n",
      "train\n",
      "Using real-time data augmentation.\n",
      "train loss score is :0.48984100984710954\n",
      "train acc score is :0.8991722648752399\n",
      "It has been 114.71860718727112 seconds since the loop started\n",
      "test\n"
     ]
    },
    {
     "name": "stderr",
     "output_type": "stream",
     "text": [
      "\r",
      " 60%|█████████████████████████████████████████████████████████████████████████████████████████████▏                                                            | 121/200 [4:03:36<2:39:17, 120.98s/it]"
     ]
    },
    {
     "name": "stdout",
     "output_type": "stream",
     "text": [
      "test loss score is :0.6923511890938487\n",
      "test acc score is :0.8464456869009584\n",
      "Epoch 121\n",
      "train\n",
      "Using real-time data augmentation.\n",
      "train loss score is :0.49503787776177616\n",
      "train acc score is :0.8982325655790148\n",
      "It has been 114.70518469810486 seconds since the loop started\n",
      "test\n"
     ]
    },
    {
     "name": "stderr",
     "output_type": "stream",
     "text": [
      "\r",
      " 61%|█████████████████████████████████████████████████████████████████████████████████████████████▉                                                            | 122/200 [4:05:37<2:37:11, 120.91s/it]"
     ]
    },
    {
     "name": "stdout",
     "output_type": "stream",
     "text": [
      "test loss score is :0.7661241420541709\n",
      "test acc score is :0.8245806709265175\n",
      "Epoch 122\n",
      "train\n",
      "Using real-time data augmentation.\n",
      "train loss score is :0.49051494530318107\n",
      "train acc score is :0.9010716570697377\n",
      "It has been 114.87382006645203 seconds since the loop started\n",
      "test\n"
     ]
    },
    {
     "name": "stderr",
     "output_type": "stream",
     "text": [
      "\r",
      " 62%|██████████████████████████████████████████████████████████████████████████████████████████████▋                                                           | 123/200 [4:07:38<2:35:12, 120.94s/it]"
     ]
    },
    {
     "name": "stdout",
     "output_type": "stream",
     "text": [
      "test loss score is :0.8936912512626892\n",
      "test acc score is :0.8035143769968051\n",
      "Epoch 123\n",
      "train\n",
      "Using real-time data augmentation.\n",
      "train loss score is :0.48710899633699245\n",
      "train acc score is :0.9017314459373\n",
      "It has been 114.6109390258789 seconds since the loop started\n",
      "test\n"
     ]
    },
    {
     "name": "stderr",
     "output_type": "stream",
     "text": [
      "\r",
      " 62%|███████████████████████████████████████████████████████████████████████████████████████████████▍                                                          | 124/200 [4:09:38<2:33:03, 120.84s/it]"
     ]
    },
    {
     "name": "stdout",
     "output_type": "stream",
     "text": [
      "test loss score is :0.6665803959575324\n",
      "test acc score is :0.8574281150159745\n",
      "Epoch 124\n",
      "train\n",
      "Using real-time data augmentation.\n",
      "train loss score is :0.4877678516844641\n",
      "train acc score is :0.8999920025591811\n",
      "It has been 114.28271269798279 seconds since the loop started\n",
      "test\n"
     ]
    },
    {
     "name": "stderr",
     "output_type": "stream",
     "text": [
      "\r",
      " 62%|████████████████████████████████████████████████████████████████████████████████████████████████▎                                                         | 125/200 [4:11:39<2:30:53, 120.71s/it]"
     ]
    },
    {
     "name": "stdout",
     "output_type": "stream",
     "text": [
      "test loss score is :0.7698660029199558\n",
      "test acc score is :0.8401557507987221\n",
      "Epoch 125\n",
      "train\n",
      "Using real-time data augmentation.\n",
      "train loss score is :0.48866928505615326\n",
      "train acc score is :0.9008117402431222\n",
      "It has been 114.6418526172638 seconds since the loop started\n",
      "test\n"
     ]
    },
    {
     "name": "stderr",
     "output_type": "stream",
     "text": [
      "\r",
      " 63%|█████████████████████████████████████████████████████████████████████████████████████████████████                                                         | 126/200 [4:13:40<2:28:51, 120.70s/it]"
     ]
    },
    {
     "name": "stdout",
     "output_type": "stream",
     "text": [
      "test loss score is :0.7607237864226198\n",
      "test acc score is :0.8376597444089456\n",
      "Epoch 126\n",
      "train\n",
      "Using real-time data augmentation.\n",
      "train loss score is :0.4927334312971631\n",
      "train acc score is :0.9009516954574536\n",
      "It has been 114.88316416740417 seconds since the loop started\n",
      "test\n"
     ]
    },
    {
     "name": "stderr",
     "output_type": "stream",
     "text": [
      "\r",
      " 64%|█████████████████████████████████████████████████████████████████████████████████████████████████▊                                                        | 127/200 [4:15:40<2:26:55, 120.75s/it]"
     ]
    },
    {
     "name": "stdout",
     "output_type": "stream",
     "text": [
      "test loss score is :0.638330305013032\n",
      "test acc score is :0.8576277955271565\n",
      "Epoch 127\n",
      "train\n",
      "Using real-time data augmentation.\n",
      "train loss score is :0.4892884218208468\n",
      "train acc score is :0.9006917786308382\n",
      "It has been 114.27225685119629 seconds since the loop started\n",
      "test\n"
     ]
    },
    {
     "name": "stderr",
     "output_type": "stream",
     "text": [
      "\r",
      " 64%|██████████████████████████████████████████████████████████████████████████████████████████████████▌                                                       | 128/200 [4:17:41<2:24:43, 120.60s/it]"
     ]
    },
    {
     "name": "stdout",
     "output_type": "stream",
     "text": [
      "test loss score is :0.662515679296975\n",
      "test acc score is :0.8526357827476039\n",
      "Epoch 128\n",
      "train\n",
      "Using real-time data augmentation.\n",
      "train loss score is :0.4841547364694372\n",
      "train acc score is :0.9017914267434421\n",
      "It has been 115.13577079772949 seconds since the loop started\n",
      "test\n"
     ]
    },
    {
     "name": "stderr",
     "output_type": "stream",
     "text": [
      "\r",
      " 64%|███████████████████████████████████████████████████████████████████████████████████████████████████▎                                                      | 129/200 [4:19:42<2:22:59, 120.83s/it]"
     ]
    },
    {
     "name": "stdout",
     "output_type": "stream",
     "text": [
      "test loss score is :0.6877665384746969\n",
      "test acc score is :0.8484424920127795\n",
      "Epoch 129\n",
      "train\n",
      "Using real-time data augmentation.\n",
      "train loss score is :0.4863420187645209\n",
      "train acc score is :0.900511836212412\n",
      "It has been 114.97918701171875 seconds since the loop started\n",
      "test\n"
     ]
    },
    {
     "name": "stderr",
     "output_type": "stream",
     "text": [
      "\r",
      " 65%|████████████████████████████████████████████████████████████████████████████████████████████████████                                                      | 130/200 [4:21:43<2:21:03, 120.91s/it]"
     ]
    },
    {
     "name": "stdout",
     "output_type": "stream",
     "text": [
      "test loss score is :0.8473361148811377\n",
      "test acc score is :0.8153953674121406\n",
      "Epoch 130\n",
      "train\n",
      "Using real-time data augmentation.\n",
      "train loss score is :0.482197782223757\n",
      "train acc score is :0.9037907869481766\n",
      "It has been 115.20310759544373 seconds since the loop started\n",
      "test\n"
     ]
    },
    {
     "name": "stderr",
     "output_type": "stream",
     "text": [
      "\r",
      " 66%|████████████████████████████████████████████████████████████████████████████████████████████████████▊                                                     | 131/200 [4:23:44<2:19:04, 120.94s/it]"
     ]
    },
    {
     "name": "stdout",
     "output_type": "stream",
     "text": [
      "test loss score is :0.8229225046528034\n",
      "test acc score is :0.8196884984025559\n",
      "Epoch 131\n",
      "train\n",
      "Using real-time data augmentation.\n",
      "train loss score is :0.4859910711350536\n",
      "train acc score is :0.9007317658349329\n",
      "It has been 115.18634724617004 seconds since the loop started\n",
      "test\n"
     ]
    },
    {
     "name": "stderr",
     "output_type": "stream",
     "text": [
      "\r",
      " 66%|█████████████████████████████████████████████████████████████████████████████████████████████████████▋                                                    | 132/200 [4:25:45<2:17:09, 121.02s/it]"
     ]
    },
    {
     "name": "stdout",
     "output_type": "stream",
     "text": [
      "test loss score is :0.6613710941598058\n",
      "test acc score is :0.8541333865814696\n",
      "Epoch 132\n",
      "train\n",
      "Using real-time data augmentation.\n",
      "train loss score is :0.48744658557596837\n",
      "train acc score is :0.9013315738963532\n",
      "It has been 114.46179246902466 seconds since the loop started\n",
      "test\n"
     ]
    },
    {
     "name": "stderr",
     "output_type": "stream",
     "text": [
      "\r",
      " 66%|██████████████████████████████████████████████████████████████████████████████████████████████████████▍                                                   | 133/200 [4:27:46<2:14:53, 120.79s/it]"
     ]
    },
    {
     "name": "stdout",
     "output_type": "stream",
     "text": [
      "test loss score is :0.7168634441999582\n",
      "test acc score is :0.8453474440894568\n",
      "Epoch 133\n",
      "train\n",
      "Using real-time data augmentation.\n",
      "train loss score is :0.48727806322443434\n",
      "train acc score is :0.9027511196417146\n",
      "It has been 114.44777274131775 seconds since the loop started\n",
      "test\n"
     ]
    },
    {
     "name": "stderr",
     "output_type": "stream",
     "text": [
      "\r",
      " 67%|███████████████████████████████████████████████████████████████████████████████████████████████████████▏                                                  | 134/200 [4:29:46<2:12:45, 120.68s/it]"
     ]
    },
    {
     "name": "stdout",
     "output_type": "stream",
     "text": [
      "test loss score is :0.6822613900461898\n",
      "test acc score is :0.8462460063897763\n",
      "Epoch 134\n",
      "train\n",
      "Using real-time data augmentation.\n",
      "train loss score is :0.4870316833257675\n",
      "train acc score is :0.9011716250799744\n",
      "It has been 114.42541575431824 seconds since the loop started\n",
      "test\n"
     ]
    },
    {
     "name": "stderr",
     "output_type": "stream",
     "text": [
      "\r",
      " 68%|███████████████████████████████████████████████████████████████████████████████████████████████████████▉                                                  | 135/200 [4:31:46<2:10:37, 120.57s/it]"
     ]
    },
    {
     "name": "stdout",
     "output_type": "stream",
     "text": [
      "test loss score is :0.7601128971805207\n",
      "test acc score is :0.8282747603833865\n",
      "Epoch 135\n",
      "train\n",
      "Using real-time data augmentation.\n",
      "train loss score is :0.4884170268067014\n",
      "train acc score is :0.9007917466410749\n",
      "It has been 114.14412713050842 seconds since the loop started\n",
      "test\n"
     ]
    },
    {
     "name": "stderr",
     "output_type": "stream",
     "text": [
      "\r",
      " 68%|████████████████████████████████████████████████████████████████████████████████████████████████████████▋                                                 | 136/200 [4:33:46<2:08:25, 120.40s/it]"
     ]
    },
    {
     "name": "stdout",
     "output_type": "stream",
     "text": [
      "test loss score is :0.7675741908077995\n",
      "test acc score is :0.8239816293929713\n",
      "Epoch 136\n",
      "train\n",
      "Using real-time data augmentation.\n",
      "train loss score is :0.4897138165001372\n",
      "train acc score is :0.9009516954574536\n",
      "It has been 114.85671186447144 seconds since the loop started\n",
      "test\n"
     ]
    },
    {
     "name": "stderr",
     "output_type": "stream",
     "text": [
      "\r",
      " 68%|█████████████████████████████████████████████████████████████████████████████████████████████████████████▍                                                | 137/200 [4:35:47<2:06:34, 120.55s/it]"
     ]
    },
    {
     "name": "stdout",
     "output_type": "stream",
     "text": [
      "test loss score is :0.6403416937913377\n",
      "test acc score is :0.8638178913738019\n",
      "Epoch 137\n",
      "train\n",
      "Using real-time data augmentation.\n",
      "train loss score is :0.4798027796197685\n",
      "train acc score is :0.9041906589891234\n",
      "It has been 114.80654168128967 seconds since the loop started\n",
      "test\n"
     ]
    },
    {
     "name": "stderr",
     "output_type": "stream",
     "text": [
      "\r",
      " 69%|██████████████████████████████████████████████████████████████████████████████████████████████████████████▎                                               | 138/200 [4:37:48<2:04:39, 120.64s/it]"
     ]
    },
    {
     "name": "stdout",
     "output_type": "stream",
     "text": [
      "test loss score is :0.7521415419471912\n",
      "test acc score is :0.8369608626198083\n",
      "Epoch 138\n",
      "train\n",
      "Using real-time data augmentation.\n",
      "train loss score is :0.48010098086628333\n",
      "train acc score is :0.9055102367242482\n",
      "It has been 114.4844605922699 seconds since the loop started\n",
      "test\n"
     ]
    },
    {
     "name": "stderr",
     "output_type": "stream",
     "text": [
      "\r",
      " 70%|███████████████████████████████████████████████████████████████████████████████████████████████████████████                                               | 139/200 [4:39:49<2:02:35, 120.59s/it]"
     ]
    },
    {
     "name": "stdout",
     "output_type": "stream",
     "text": [
      "test loss score is :0.6689261621750963\n",
      "test acc score is :0.8564297124600639\n",
      "Epoch 139\n",
      "train\n",
      "Using real-time data augmentation.\n",
      "train loss score is :0.4857920389467527\n",
      "train acc score is :0.9020513435700576\n",
      "It has been 114.0092978477478 seconds since the loop started\n",
      "test\n"
     ]
    },
    {
     "name": "stderr",
     "output_type": "stream",
     "text": [
      "\r",
      " 70%|███████████████████████████████████████████████████████████████████████████████████████████████████████████▊                                              | 140/200 [4:41:49<2:00:23, 120.40s/it]"
     ]
    },
    {
     "name": "stdout",
     "output_type": "stream",
     "text": [
      "test loss score is :0.7200369684460064\n",
      "test acc score is :0.8449480830670927\n",
      "Epoch 140\n",
      "train\n",
      "Using real-time data augmentation.\n",
      "train loss score is :0.479365945196045\n",
      "train acc score is :0.9055102367242482\n",
      "It has been 115.78597092628479 seconds since the loop started\n",
      "test\n"
     ]
    },
    {
     "name": "stderr",
     "output_type": "stream",
     "text": [
      "\r",
      " 70%|████████████████████████████████████████████████████████████████████████████████████████████████████████████▌                                             | 141/200 [4:43:50<1:58:47, 120.81s/it]"
     ]
    },
    {
     "name": "stdout",
     "output_type": "stream",
     "text": [
      "test loss score is :0.7186408315222865\n",
      "test acc score is :0.8380591054313099\n",
      "Epoch 141\n",
      "train\n",
      "Using real-time data augmentation.\n",
      "train loss score is :0.48088982384782986\n",
      "train acc score is :0.9054102687140115\n",
      "It has been 115.11861944198608 seconds since the loop started\n",
      "test\n"
     ]
    },
    {
     "name": "stderr",
     "output_type": "stream",
     "text": [
      "\r",
      " 71%|█████████████████████████████████████████████████████████████████████████████████████████████████████████████▎                                            | 142/200 [4:45:51<1:56:48, 120.84s/it]"
     ]
    },
    {
     "name": "stdout",
     "output_type": "stream",
     "text": [
      "test loss score is :0.6438834967133337\n",
      "test acc score is :0.8520367412140575\n",
      "Epoch 142\n",
      "train\n",
      "Using real-time data augmentation.\n",
      "train loss score is :0.48065371946768354\n",
      "train acc score is :0.9038907549584133\n",
      "It has been 114.77106666564941 seconds since the loop started\n",
      "test\n"
     ]
    },
    {
     "name": "stderr",
     "output_type": "stream",
     "text": [
      "\r",
      " 72%|██████████████████████████████████████████████████████████████████████████████████████████████████████████████                                            | 143/200 [4:47:52<1:54:48, 120.85s/it]"
     ]
    },
    {
     "name": "stdout",
     "output_type": "stream",
     "text": [
      "test loss score is :0.6638935698678319\n",
      "test acc score is :0.8570287539936102\n",
      "Epoch 143\n",
      "train\n",
      "Using real-time data augmentation.\n",
      "train loss score is :0.4845846830196893\n",
      "train acc score is :0.902891074856046\n",
      "It has been 114.63165831565857 seconds since the loop started\n",
      "test\n"
     ]
    },
    {
     "name": "stderr",
     "output_type": "stream",
     "text": [
      "\r",
      " 72%|██████████████████████████████████████████████████████████████████████████████████████████████████████████████▉                                           | 144/200 [4:49:53<1:52:44, 120.79s/it]"
     ]
    },
    {
     "name": "stdout",
     "output_type": "stream",
     "text": [
      "test loss score is :0.6905439506514004\n",
      "test acc score is :0.8534345047923323\n",
      "Epoch 144\n",
      "train\n",
      "Using real-time data augmentation.\n",
      "train loss score is :0.47944139846989686\n",
      "train acc score is :0.9054702495201535\n",
      "It has been 114.8947525024414 seconds since the loop started\n",
      "test\n"
     ]
    },
    {
     "name": "stderr",
     "output_type": "stream",
     "text": [
      "\r",
      " 72%|███████████████████████████████████████████████████████████████████████████████████████████████████████████████▋                                          | 145/200 [4:51:54<1:50:45, 120.82s/it]"
     ]
    },
    {
     "name": "stdout",
     "output_type": "stream",
     "text": [
      "test loss score is :0.6907244772195055\n",
      "test acc score is :0.8545327476038339\n",
      "Epoch 145\n",
      "train\n",
      "Using real-time data augmentation.\n",
      "train loss score is :0.47994338173326284\n",
      "train acc score is :0.9057701535508638\n",
      "It has been 114.41314196586609 seconds since the loop started\n",
      "test\n"
     ]
    },
    {
     "name": "stderr",
     "output_type": "stream",
     "text": [
      "\r",
      " 73%|████████████████████████████████████████████████████████████████████████████████████████████████████████████████▍                                         | 146/200 [4:53:54<1:48:38, 120.71s/it]"
     ]
    },
    {
     "name": "stdout",
     "output_type": "stream",
     "text": [
      "test loss score is :0.8293728548021743\n",
      "test acc score is :0.8086062300319489\n",
      "Epoch 146\n",
      "train\n",
      "Using real-time data augmentation.\n",
      "train loss score is :0.481235227597042\n",
      "train acc score is :0.9045305502239284\n",
      "It has been 114.7855224609375 seconds since the loop started\n",
      "test\n"
     ]
    },
    {
     "name": "stderr",
     "output_type": "stream",
     "text": [
      "\r",
      " 74%|█████████████████████████████████████████████████████████████████████████████████████████████████████████████████▏                                        | 147/200 [4:55:55<1:46:38, 120.73s/it]"
     ]
    },
    {
     "name": "stdout",
     "output_type": "stream",
     "text": [
      "test loss score is :0.6541898527655738\n",
      "test acc score is :0.8577276357827476\n",
      "Epoch 147\n",
      "train\n",
      "Using real-time data augmentation.\n",
      "train loss score is :0.4789849250593478\n",
      "train acc score is :0.9048904350607806\n",
      "It has been 114.03270506858826 seconds since the loop started\n",
      "test\n"
     ]
    },
    {
     "name": "stderr",
     "output_type": "stream",
     "text": [
      "\r",
      " 74%|█████████████████████████████████████████████████████████████████████████████████████████████████████████████████▉                                        | 148/200 [4:57:55<1:44:28, 120.55s/it]"
     ]
    },
    {
     "name": "stdout",
     "output_type": "stream",
     "text": [
      "test loss score is :0.6583918937193319\n",
      "test acc score is :0.8609225239616614\n",
      "Epoch 148\n",
      "train\n",
      "Using real-time data augmentation.\n",
      "train loss score is :0.4785829934929703\n",
      "train acc score is :0.9059301023672425\n",
      "It has been 115.61787390708923 seconds since the loop started\n",
      "test\n"
     ]
    },
    {
     "name": "stderr",
     "output_type": "stream",
     "text": [
      "\r",
      " 74%|██████████████████████████████████████████████████████████████████████████████████████████████████████████████████▋                                       | 149/200 [4:59:56<1:42:42, 120.83s/it]"
     ]
    },
    {
     "name": "stdout",
     "output_type": "stream",
     "text": [
      "test loss score is :0.6879065787068571\n",
      "test acc score is :0.849241214057508\n",
      "Epoch 149\n",
      "train\n",
      "Using real-time data augmentation.\n",
      "train loss score is :0.476086295602494\n",
      "train acc score is :0.906889795265515\n",
      "It has been 114.67630648612976 seconds since the loop started\n",
      "test\n"
     ]
    },
    {
     "name": "stderr",
     "output_type": "stream",
     "text": [
      "\r",
      " 75%|███████████████████████████████████████████████████████████████████████████████████████████████████████████████████▌                                      | 150/200 [5:01:57<1:40:39, 120.79s/it]"
     ]
    },
    {
     "name": "stdout",
     "output_type": "stream",
     "text": [
      "test loss score is :0.7172040300913893\n",
      "test acc score is :0.8486421725239617\n",
      "Epoch 150\n",
      "train\n",
      "Using real-time data augmentation.\n",
      "train loss score is :0.48068722675453757\n",
      "train acc score is :0.9053103007037748\n",
      "It has been 114.59251928329468 seconds since the loop started\n",
      "test\n"
     ]
    },
    {
     "name": "stderr",
     "output_type": "stream",
     "text": [
      "\r",
      " 76%|████████████████████████████████████████████████████████████████████████████████████████████████████████████████████▎                                     | 151/200 [5:03:58<1:38:36, 120.74s/it]"
     ]
    },
    {
     "name": "stdout",
     "output_type": "stream",
     "text": [
      "test loss score is :0.6276437564018055\n",
      "test acc score is :0.8631190095846646\n",
      "Epoch 151\n",
      "train\n",
      "Using real-time data augmentation.\n",
      "train loss score is :0.4813821601013457\n",
      "train acc score is :0.9043706014075495\n",
      "It has been 114.27163982391357 seconds since the loop started\n",
      "test\n"
     ]
    },
    {
     "name": "stderr",
     "output_type": "stream",
     "text": [
      "\r",
      " 76%|█████████████████████████████████████████████████████████████████████████████████████████████████████████████████████                                     | 152/200 [5:05:58<1:36:28, 120.59s/it]"
     ]
    },
    {
     "name": "stdout",
     "output_type": "stream",
     "text": [
      "test loss score is :0.7876106541568098\n",
      "test acc score is :0.8313698083067093\n",
      "Epoch 152\n",
      "train\n",
      "Using real-time data augmentation.\n",
      "train loss score is :0.4774231006339507\n",
      "train acc score is :0.9064899232245681\n",
      "It has been 114.39502954483032 seconds since the loop started\n",
      "test\n"
     ]
    },
    {
     "name": "stderr",
     "output_type": "stream",
     "text": [
      "\r",
      " 76%|█████████████████████████████████████████████████████████████████████████████████████████████████████████████████████▊                                    | 153/200 [5:07:58<1:34:24, 120.52s/it]"
     ]
    },
    {
     "name": "stdout",
     "output_type": "stream",
     "text": [
      "test loss score is :0.7052753263483413\n",
      "test acc score is :0.8392571884984026\n",
      "Epoch 153\n",
      "train\n",
      "Using real-time data augmentation.\n",
      "train loss score is :0.4758577545579244\n",
      "train acc score is :0.9070497440818938\n",
      "It has been 114.86020421981812 seconds since the loop started\n",
      "test\n"
     ]
    },
    {
     "name": "stderr",
     "output_type": "stream",
     "text": [
      "\r",
      " 77%|██████████████████████████████████████████████████████████████████████████████████████████████████████████████████████▌                                   | 154/200 [5:09:59<1:32:29, 120.65s/it]"
     ]
    },
    {
     "name": "stdout",
     "output_type": "stream",
     "text": [
      "test loss score is :0.8273079788532501\n",
      "test acc score is :0.8221845047923323\n",
      "Epoch 154\n",
      "train\n",
      "Using real-time data augmentation.\n",
      "train loss score is :0.47729042883645395\n",
      "train acc score is :0.9053502879078695\n",
      "It has been 114.91671800613403 seconds since the loop started\n",
      "test\n"
     ]
    },
    {
     "name": "stderr",
     "output_type": "stream",
     "text": [
      "\r",
      " 78%|███████████████████████████████████████████████████████████████████████████████████████████████████████████████████████▎                                  | 155/200 [5:12:00<1:30:32, 120.72s/it]"
     ]
    },
    {
     "name": "stdout",
     "output_type": "stream",
     "text": [
      "test loss score is :0.7256777750227017\n",
      "test acc score is :0.8313698083067093\n",
      "Epoch 155\n",
      "train\n",
      "Using real-time data augmentation.\n",
      "train loss score is :0.4782561687365298\n",
      "train acc score is :0.9046904990403071\n",
      "It has been 115.08136081695557 seconds since the loop started\n",
      "test\n"
     ]
    },
    {
     "name": "stderr",
     "output_type": "stream",
     "text": [
      "\r",
      " 78%|████████████████████████████████████████████████████████████████████████████████████████████████████████████████████████                                  | 156/200 [5:14:01<1:28:36, 120.83s/it]"
     ]
    },
    {
     "name": "stdout",
     "output_type": "stream",
     "text": [
      "test loss score is :0.6625173883839918\n",
      "test acc score is :0.8616214057507987\n",
      "Epoch 156\n",
      "train\n",
      "Using real-time data augmentation.\n",
      "train loss score is :0.4757507348758474\n",
      "train acc score is :0.9060900511836213\n",
      "It has been 114.00062108039856 seconds since the loop started\n",
      "test\n"
     ]
    },
    {
     "name": "stderr",
     "output_type": "stream",
     "text": [
      "\r",
      " 78%|████████████████████████████████████████████████████████████████████████████████████████████████████████████████████████▉                                 | 157/200 [5:16:01<1:26:25, 120.59s/it]"
     ]
    },
    {
     "name": "stdout",
     "output_type": "stream",
     "text": [
      "test loss score is :0.9561983082241143\n",
      "test acc score is :0.7966253993610224\n",
      "Epoch 157\n",
      "train\n",
      "Using real-time data augmentation.\n",
      "train loss score is :0.47154514266562936\n",
      "train acc score is :0.9088691618682022\n",
      "It has been 113.86248278617859 seconds since the loop started\n",
      "test\n"
     ]
    },
    {
     "name": "stderr",
     "output_type": "stream",
     "text": [
      "\r",
      " 79%|█████████████████████████████████████████████████████████████████████████████████████████████████████████████████████████▋                                | 158/200 [5:18:01<1:24:16, 120.40s/it]"
     ]
    },
    {
     "name": "stdout",
     "output_type": "stream",
     "text": [
      "test loss score is :0.8049883812951585\n",
      "test acc score is :0.830870607028754\n",
      "Epoch 158\n",
      "train\n",
      "Using real-time data augmentation.\n",
      "train loss score is :0.47444474379641083\n",
      "train acc score is :0.9066098848368522\n",
      "It has been 114.90170073509216 seconds since the loop started\n",
      "test\n"
     ]
    },
    {
     "name": "stderr",
     "output_type": "stream",
     "text": [
      "\r",
      " 80%|██████████████████████████████████████████████████████████████████████████████████████████████████████████████████████████▍                               | 159/200 [5:20:02<1:22:23, 120.57s/it]"
     ]
    },
    {
     "name": "stdout",
     "output_type": "stream",
     "text": [
      "test loss score is :0.7631500348115501\n",
      "test acc score is :0.8391573482428115\n",
      "Epoch 159\n",
      "train\n",
      "Using real-time data augmentation.\n",
      "train loss score is :0.47156933937710366\n",
      "train acc score is :0.9086692258477287\n",
      "It has been 114.92420840263367 seconds since the loop started\n",
      "test\n"
     ]
    },
    {
     "name": "stderr",
     "output_type": "stream",
     "text": [
      "\r",
      " 80%|███████████████████████████████████████████████████████████████████████████████████████████████████████████████████████████▏                              | 160/200 [5:22:03<1:20:27, 120.70s/it]"
     ]
    },
    {
     "name": "stdout",
     "output_type": "stream",
     "text": [
      "test loss score is :0.7766364606234212\n",
      "test acc score is :0.8350638977635783\n",
      "Epoch 160\n",
      "train\n",
      "Using real-time data augmentation.\n",
      "train loss score is :0.4753379373789139\n",
      "train acc score is :0.907349648112604\n",
      "It has been 115.32907891273499 seconds since the loop started\n",
      "test\n"
     ]
    },
    {
     "name": "stderr",
     "output_type": "stream",
     "text": [
      "\r",
      " 80%|███████████████████████████████████████████████████████████████████████████████████████████████████████████████████████████▉                              | 161/200 [5:24:05<1:18:34, 120.89s/it]"
     ]
    },
    {
     "name": "stdout",
     "output_type": "stream",
     "text": [
      "test loss score is :0.6498269523961094\n",
      "test acc score is :0.8678115015974441\n",
      "Epoch 161\n",
      "train\n",
      "Using real-time data augmentation.\n",
      "train loss score is :0.4701220581757283\n",
      "train acc score is :0.908629238643634\n",
      "It has been 114.72496318817139 seconds since the loop started\n",
      "test\n"
     ]
    },
    {
     "name": "stderr",
     "output_type": "stream",
     "text": [
      "\r",
      " 81%|████████████████████████████████████████████████████████████████████████████████████████████████████████████████████████████▋                             | 162/200 [5:26:05<1:16:32, 120.85s/it]"
     ]
    },
    {
     "name": "stdout",
     "output_type": "stream",
     "text": [
      "test loss score is :0.8404694643740456\n",
      "test acc score is :0.8264776357827476\n",
      "Epoch 162\n",
      "train\n",
      "Using real-time data augmentation.\n",
      "train loss score is :0.4732179850034811\n",
      "train acc score is :0.9080294305822136\n",
      "It has been 115.05671954154968 seconds since the loop started\n",
      "test\n"
     ]
    },
    {
     "name": "stderr",
     "output_type": "stream",
     "text": [
      "\r",
      " 82%|█████████████████████████████████████████████████████████████████████████████████████████████████████████████████████████████▌                            | 163/200 [5:28:07<1:14:36, 120.98s/it]"
     ]
    },
    {
     "name": "stdout",
     "output_type": "stream",
     "text": [
      "test loss score is :0.729084419461485\n",
      "test acc score is :0.8452476038338658\n",
      "Epoch 163\n",
      "train\n",
      "Using real-time data augmentation.\n",
      "train loss score is :0.47341105144563883\n",
      "train acc score is :0.9059500959692899\n",
      "It has been 114.91498565673828 seconds since the loop started\n",
      "test\n"
     ]
    },
    {
     "name": "stderr",
     "output_type": "stream",
     "text": [
      "\r",
      " 82%|██████████████████████████████████████████████████████████████████████████████████████████████████████████████████████████████▎                           | 164/200 [5:30:08<1:12:34, 120.95s/it]"
     ]
    },
    {
     "name": "stdout",
     "output_type": "stream",
     "text": [
      "test loss score is :0.683626363976314\n",
      "test acc score is :0.8539337060702875\n",
      "Epoch 164\n",
      "train\n",
      "Using real-time data augmentation.\n",
      "train loss score is :0.47611129014101533\n",
      "train acc score is :0.9067498400511836\n",
      "It has been 114.95977520942688 seconds since the loop started\n",
      "test\n"
     ]
    },
    {
     "name": "stderr",
     "output_type": "stream",
     "text": [
      "\r",
      " 82%|███████████████████████████████████████████████████████████████████████████████████████████████████████████████████████████████                           | 165/200 [5:32:09<1:10:34, 120.99s/it]"
     ]
    },
    {
     "name": "stdout",
     "output_type": "stream",
     "text": [
      "test loss score is :0.6028060472716158\n",
      "test acc score is :0.8714057507987221\n",
      "Epoch 165\n",
      "train\n",
      "Using real-time data augmentation.\n",
      "train loss score is :0.4742291311728062\n",
      "train acc score is :0.9072096928982726\n",
      "It has been 114.54368209838867 seconds since the loop started\n",
      "test\n"
     ]
    },
    {
     "name": "stderr",
     "output_type": "stream",
     "text": [
      "\r",
      " 83%|███████████████████████████████████████████████████████████████████████████████████████████████████████████████████████████████▊                          | 166/200 [5:34:09<1:08:29, 120.86s/it]"
     ]
    },
    {
     "name": "stdout",
     "output_type": "stream",
     "text": [
      "test loss score is :0.6189510924176286\n",
      "test acc score is :0.8700079872204473\n",
      "Epoch 166\n",
      "train\n",
      "Using real-time data augmentation.\n",
      "train loss score is :0.47911581591543906\n",
      "train acc score is :0.9055102367242482\n",
      "It has been 115.10566663742065 seconds since the loop started\n",
      "test\n"
     ]
    },
    {
     "name": "stderr",
     "output_type": "stream",
     "text": [
      "\r",
      " 84%|████████████████████████████████████████████████████████████████████████████████████████████████████████████████████████████████▌                         | 167/200 [5:36:10<1:06:32, 120.97s/it]"
     ]
    },
    {
     "name": "stdout",
     "output_type": "stream",
     "text": [
      "test loss score is :0.6278082149002118\n",
      "test acc score is :0.8614217252396166\n",
      "Epoch 167\n",
      "train\n",
      "Using real-time data augmentation.\n",
      "train loss score is :0.4720218867368601\n",
      "train acc score is :0.9072696737044146\n",
      "It has been 114.84945702552795 seconds since the loop started\n",
      "test\n"
     ]
    },
    {
     "name": "stderr",
     "output_type": "stream",
     "text": [
      "\r",
      " 84%|█████████████████████████████████████████████████████████████████████████████████████████████████████████████████████████████████▎                        | 168/200 [5:38:11<1:04:31, 120.98s/it]"
     ]
    },
    {
     "name": "stdout",
     "output_type": "stream",
     "text": [
      "test loss score is :1.0360120864341054\n",
      "test acc score is :0.7945287539936102\n",
      "Epoch 168\n",
      "train\n",
      "Using real-time data augmentation.\n",
      "train loss score is :0.4688082439008616\n",
      "train acc score is :0.9093490083173384\n",
      "It has been 114.54900884628296 seconds since the loop started\n",
      "test\n"
     ]
    },
    {
     "name": "stderr",
     "output_type": "stream",
     "text": [
      "\r",
      " 84%|██████████████████████████████████████████████████████████████████████████████████████████████████████████████████████████████████▏                       | 169/200 [5:40:12<1:02:26, 120.85s/it]"
     ]
    },
    {
     "name": "stdout",
     "output_type": "stream",
     "text": [
      "test loss score is :0.6641545165746737\n",
      "test acc score is :0.8533346645367412\n",
      "Epoch 169\n",
      "train\n",
      "Using real-time data augmentation.\n",
      "train loss score is :0.4705493670488426\n",
      "train acc score is :0.9077695137555982\n",
      "It has been 114.6758873462677 seconds since the loop started\n",
      "test\n"
     ]
    },
    {
     "name": "stderr",
     "output_type": "stream",
     "text": [
      "\r",
      " 85%|██████████████████████████████████████████████████████████████████████████████████████████████████████████████████████████████████▉                       | 170/200 [5:42:13<1:00:24, 120.81s/it]"
     ]
    },
    {
     "name": "stdout",
     "output_type": "stream",
     "text": [
      "test loss score is :0.6672496491918167\n",
      "test acc score is :0.8609225239616614\n",
      "Epoch 170\n",
      "train\n",
      "Using real-time data augmentation.\n",
      "train loss score is :0.4730237815541025\n",
      "train acc score is :0.9079094689699296\n",
      "It has been 114.65504002571106 seconds since the loop started\n",
      "test\n"
     ]
    },
    {
     "name": "stderr",
     "output_type": "stream",
     "text": [
      "\r",
      " 86%|█████████████████████████████████████████████████████████████████████████████████████████████████████████████████████████████████████▍                      | 171/200 [5:44:13<58:22, 120.77s/it]"
     ]
    },
    {
     "name": "stdout",
     "output_type": "stream",
     "text": [
      "test loss score is :0.6651224407334678\n",
      "test acc score is :0.856629392971246\n",
      "Epoch 171\n",
      "train\n",
      "Using real-time data augmentation.\n",
      "train loss score is :0.47132916298533434\n",
      "train acc score is :0.909149072296865\n",
      "It has been 114.68271803855896 seconds since the loop started\n",
      "test\n"
     ]
    },
    {
     "name": "stderr",
     "output_type": "stream",
     "text": [
      "\r",
      " 86%|██████████████████████████████████████████████████████████████████████████████████████████████████████████████████████████████████████▏                     | 172/200 [5:46:14<56:21, 120.75s/it]"
     ]
    },
    {
     "name": "stdout",
     "output_type": "stream",
     "text": [
      "test loss score is :0.7315163818030311\n",
      "test acc score is :0.8433506389776357\n",
      "Epoch 172\n",
      "train\n",
      "Using real-time data augmentation.\n",
      "train loss score is :0.46848626240315683\n",
      "train acc score is :0.909209053103007\n",
      "It has been 114.83343601226807 seconds since the loop started\n",
      "test\n"
     ]
    },
    {
     "name": "stderr",
     "output_type": "stream",
     "text": [
      "\r",
      " 86%|██████████████████████████████████████████████████████████████████████████████████████████████████████████████████████████████████████▉                     | 173/200 [5:48:15<54:21, 120.78s/it]"
     ]
    },
    {
     "name": "stdout",
     "output_type": "stream",
     "text": [
      "test loss score is :0.6420909470072189\n",
      "test acc score is :0.862220447284345\n",
      "Epoch 173\n",
      "train\n",
      "Using real-time data augmentation.\n",
      "train loss score is :0.474404344927479\n",
      "train acc score is :0.9065299104286628\n",
      "It has been 114.40060901641846 seconds since the loop started\n",
      "test\n"
     ]
    },
    {
     "name": "stderr",
     "output_type": "stream",
     "text": [
      "\r",
      " 87%|███████████████████████████████████████████████████████████████████████████████████████████████████████████████████████████████████████▋                    | 174/200 [5:50:15<52:16, 120.62s/it]"
     ]
    },
    {
     "name": "stdout",
     "output_type": "stream",
     "text": [
      "test loss score is :0.6330416539606576\n",
      "test acc score is :0.8675119808306709\n",
      "Epoch 174\n",
      "train\n",
      "Using real-time data augmentation.\n",
      "train loss score is :0.4719859622490383\n",
      "train acc score is :0.9077295265515035\n",
      "It has been 115.22855877876282 seconds since the loop started\n",
      "test\n"
     ]
    },
    {
     "name": "stderr",
     "output_type": "stream",
     "text": [
      "\r",
      " 88%|████████████████████████████████████████████████████████████████████████████████████████████████████████████████████████████████████████▌                   | 175/200 [5:52:16<50:20, 120.81s/it]"
     ]
    },
    {
     "name": "stdout",
     "output_type": "stream",
     "text": [
      "test loss score is :0.7300941361405979\n",
      "test acc score is :0.8449480830670927\n",
      "Epoch 175\n",
      "train\n",
      "Using real-time data augmentation.\n",
      "train loss score is :0.4733391034435326\n",
      "train acc score is :0.9087492002559181\n",
      "It has been 114.69515085220337 seconds since the loop started\n",
      "test\n"
     ]
    },
    {
     "name": "stderr",
     "output_type": "stream",
     "text": [
      "\r",
      " 88%|█████████████████████████████████████████████████████████████████████████████████████████████████████████████████████████████████████████▎                  | 176/200 [5:54:17<48:18, 120.78s/it]"
     ]
    },
    {
     "name": "stdout",
     "output_type": "stream",
     "text": [
      "test loss score is :0.7368924550164622\n",
      "test acc score is :0.8426517571884984\n",
      "Epoch 176\n",
      "train\n",
      "Using real-time data augmentation.\n",
      "train loss score is :0.4689196701794958\n",
      "train acc score is :0.909728886756238\n",
      "It has been 113.98499155044556 seconds since the loop started\n",
      "test\n"
     ]
    },
    {
     "name": "stderr",
     "output_type": "stream",
     "text": [
      "\r",
      " 88%|██████████████████████████████████████████████████████████████████████████████████████████████████████████████████████████████████████████                  | 177/200 [5:56:17<46:12, 120.55s/it]"
     ]
    },
    {
     "name": "stdout",
     "output_type": "stream",
     "text": [
      "test loss score is :0.778720180352275\n",
      "test acc score is :0.8355630990415336\n",
      "Epoch 177\n",
      "train\n",
      "Using real-time data augmentation.\n",
      "train loss score is :0.4656286115876696\n",
      "train acc score is :0.9089891234804862\n",
      "It has been 114.29279208183289 seconds since the loop started\n",
      "test\n"
     ]
    },
    {
     "name": "stderr",
     "output_type": "stream",
     "text": [
      "\r",
      " 89%|██████████████████████████████████████████████████████████████████████████████████████████████████████████████████████████████████████████▊                 | 178/200 [5:58:17<44:10, 120.47s/it]"
     ]
    },
    {
     "name": "stdout",
     "output_type": "stream",
     "text": [
      "test loss score is :0.6420889673903346\n",
      "test acc score is :0.8680111821086262\n",
      "Epoch 178\n",
      "train\n",
      "Using real-time data augmentation.\n",
      "train loss score is :0.47010272918644425\n",
      "train acc score is :0.9091890595009597\n",
      "It has been 114.32070183753967 seconds since the loop started\n",
      "test\n"
     ]
    },
    {
     "name": "stderr",
     "output_type": "stream",
     "text": [
      "\r",
      " 90%|███████████████████████████████████████████████████████████████████████████████████████████████████████████████████████████████████████████▌                | 179/200 [6:00:18<42:09, 120.45s/it]"
     ]
    },
    {
     "name": "stdout",
     "output_type": "stream",
     "text": [
      "test loss score is :0.6170885427691304\n",
      "test acc score is :0.8751996805111821\n",
      "Epoch 179\n",
      "train\n",
      "Using real-time data augmentation.\n",
      "train loss score is :0.47068337338213273\n",
      "train acc score is :0.9101487523992322\n",
      "It has been 114.25473141670227 seconds since the loop started\n",
      "test\n"
     ]
    },
    {
     "name": "stderr",
     "output_type": "stream",
     "text": [
      "\r",
      " 90%|████████████████████████████████████████████████████████████████████████████████████████████████████████████████████████████████████████████▍               | 180/200 [6:02:18<40:07, 120.38s/it]"
     ]
    },
    {
     "name": "stdout",
     "output_type": "stream",
     "text": [
      "test loss score is :0.698234822279729\n",
      "test acc score is :0.8528354632587859\n",
      "Epoch 180\n",
      "train\n",
      "Using real-time data augmentation.\n",
      "train loss score is :0.46568541621559334\n",
      "train acc score is :0.9106485924504159\n",
      "It has been 114.29513120651245 seconds since the loop started\n",
      "test\n"
     ]
    },
    {
     "name": "stderr",
     "output_type": "stream",
     "text": [
      "\r",
      " 90%|█████████████████████████████████████████████████████████████████████████████████████████████████████████████████████████████████████████████▏              | 181/200 [6:04:18<38:06, 120.37s/it]"
     ]
    },
    {
     "name": "stdout",
     "output_type": "stream",
     "text": [
      "test loss score is :0.6746563084018878\n",
      "test acc score is :0.8571285942492013\n",
      "Epoch 181\n",
      "train\n",
      "Using real-time data augmentation.\n",
      "train loss score is :0.46684181551024156\n",
      "train acc score is :0.9097688739603327\n",
      "It has been 114.8433678150177 seconds since the loop started\n",
      "test\n"
     ]
    },
    {
     "name": "stderr",
     "output_type": "stream",
     "text": [
      "\r",
      " 91%|█████████████████████████████████████████████████████████████████████████████████████████████████████████████████████████████████████████████▉              | 182/200 [6:06:19<36:09, 120.55s/it]"
     ]
    },
    {
     "name": "stdout",
     "output_type": "stream",
     "text": [
      "test loss score is :0.6269071825777\n",
      "test acc score is :0.8720047923322684\n",
      "Epoch 182\n",
      "train\n",
      "Using real-time data augmentation.\n",
      "train loss score is :0.4691375846845251\n",
      "train acc score is :0.9098288547664747\n",
      "It has been 114.25968432426453 seconds since the loop started\n",
      "test\n"
     ]
    },
    {
     "name": "stderr",
     "output_type": "stream",
     "text": [
      "\r",
      " 92%|██████████████████████████████████████████████████████████████████████████████████████████████████████████████████████████████████████████████▋             | 183/200 [6:08:19<34:07, 120.42s/it]"
     ]
    },
    {
     "name": "stdout",
     "output_type": "stream",
     "text": [
      "test loss score is :0.6249585696302664\n",
      "test acc score is :0.8702076677316294\n",
      "Epoch 183\n",
      "train\n",
      "Using real-time data augmentation.\n",
      "train loss score is :0.4680154706069619\n",
      "train acc score is :0.9098888355726168\n",
      "It has been 114.36373353004456 seconds since the loop started\n",
      "test\n"
     ]
    },
    {
     "name": "stderr",
     "output_type": "stream",
     "text": [
      "\r",
      " 92%|███████████████████████████████████████████████████████████████████████████████████████████████████████████████████████████████████████████████▌            | 184/200 [6:10:20<32:07, 120.44s/it]"
     ]
    },
    {
     "name": "stdout",
     "output_type": "stream",
     "text": [
      "test loss score is :0.6112730052714912\n",
      "test acc score is :0.8745007987220448\n",
      "Epoch 184\n",
      "train\n",
      "Using real-time data augmentation.\n",
      "train loss score is :0.4704192995891614\n",
      "train acc score is :0.9081493921944978\n",
      "It has been 115.11843299865723 seconds since the loop started\n",
      "test\n"
     ]
    },
    {
     "name": "stderr",
     "output_type": "stream",
     "text": [
      "\r",
      " 92%|████████████████████████████████████████████████████████████████████████████████████████████████████████████████████████████████████████████████▎           | 185/200 [6:12:21<30:10, 120.67s/it]"
     ]
    },
    {
     "name": "stdout",
     "output_type": "stream",
     "text": [
      "test loss score is :1.12702732145215\n",
      "test acc score is :0.7495007987220448\n",
      "Epoch 185\n",
      "train\n",
      "Using real-time data augmentation.\n",
      "train loss score is :0.46776720699368574\n",
      "train acc score is :0.9097088931541907\n",
      "It has been 114.70002698898315 seconds since the loop started\n",
      "test\n"
     ]
    },
    {
     "name": "stderr",
     "output_type": "stream",
     "text": [
      "\r",
      " 93%|█████████████████████████████████████████████████████████████████████████████████████████████████████████████████████████████████████████████████           | 186/200 [6:14:22<28:09, 120.67s/it]"
     ]
    },
    {
     "name": "stdout",
     "output_type": "stream",
     "text": [
      "test loss score is :0.6313780742331435\n",
      "test acc score is :0.8697084664536742\n",
      "Epoch 186\n",
      "train\n",
      "Using real-time data augmentation.\n",
      "train loss score is :0.467388022254845\n",
      "train acc score is :0.9109884836852208\n",
      "It has been 114.75745415687561 seconds since the loop started\n",
      "test\n"
     ]
    },
    {
     "name": "stderr",
     "output_type": "stream",
     "text": [
      "\r",
      " 94%|█████████████████████████████████████████████████████████████████████████████████████████████████████████████████████████████████████████████████▊          | 187/200 [6:16:23<26:09, 120.70s/it]"
     ]
    },
    {
     "name": "stdout",
     "output_type": "stream",
     "text": [
      "test loss score is :0.7211440555965558\n",
      "test acc score is :0.8513378594249201\n",
      "Epoch 187\n",
      "train\n",
      "Using real-time data augmentation.\n",
      "train loss score is :0.46837805466093624\n",
      "train acc score is :0.910428662827895\n",
      "It has been 114.80715155601501 seconds since the loop started\n",
      "test\n"
     ]
    },
    {
     "name": "stderr",
     "output_type": "stream",
     "text": [
      "\r",
      " 94%|██████████████████████████████████████████████████████████████████████████████████████████████████████████████████████████████████████████████████▋         | 188/200 [6:18:23<24:09, 120.76s/it]"
     ]
    },
    {
     "name": "stdout",
     "output_type": "stream",
     "text": [
      "test loss score is :0.6581147345491111\n",
      "test acc score is :0.8624201277955271\n",
      "Epoch 188\n",
      "train\n",
      "Using real-time data augmentation.\n",
      "train loss score is :0.46584227982424653\n",
      "train acc score is :0.9106086052463211\n",
      "It has been 113.98948931694031 seconds since the loop started\n",
      "test\n"
     ]
    },
    {
     "name": "stderr",
     "output_type": "stream",
     "text": [
      "\r",
      " 94%|███████████████████████████████████████████████████████████████████████████████████████████████████████████████████████████████████████████████████▍        | 189/200 [6:20:24<22:06, 120.56s/it]"
     ]
    },
    {
     "name": "stdout",
     "output_type": "stream",
     "text": [
      "test loss score is :0.6405124139671509\n",
      "test acc score is :0.8648162939297125\n",
      "Epoch 189\n",
      "train\n",
      "Using real-time data augmentation.\n",
      "train loss score is :0.46747211405503314\n",
      "train acc score is :0.9094889635316699\n",
      "It has been 114.18805813789368 seconds since the loop started\n",
      "test\n"
     ]
    },
    {
     "name": "stderr",
     "output_type": "stream",
     "text": [
      "\r",
      " 95%|████████████████████████████████████████████████████████████████████████████████████████████████████████████████████████████████████████████████████▏       | 190/200 [6:22:24<20:04, 120.44s/it]"
     ]
    },
    {
     "name": "stdout",
     "output_type": "stream",
     "text": [
      "test loss score is :0.7168716168917787\n",
      "test acc score is :0.8500399361022364\n",
      "Epoch 190\n",
      "train\n",
      "Using real-time data augmentation.\n",
      "train loss score is :0.4634561460901359\n",
      "train acc score is :0.9119681701855407\n",
      "It has been 114.89282703399658 seconds since the loop started\n",
      "test\n"
     ]
    },
    {
     "name": "stderr",
     "output_type": "stream",
     "text": [
      "\r",
      " 96%|████████████████████████████████████████████████████████████████████████████████████████████████████████████████████████████████████████████████████▉       | 191/200 [6:24:24<18:04, 120.53s/it]"
     ]
    },
    {
     "name": "stdout",
     "output_type": "stream",
     "text": [
      "test loss score is :0.7432293129233888\n",
      "test acc score is :0.8389576677316294\n",
      "Epoch 191\n",
      "train\n",
      "Using real-time data augmentation.\n",
      "train loss score is :0.46220000701231295\n",
      "train acc score is :0.911988163787588\n",
      "It has been 114.3301842212677 seconds since the loop started\n",
      "test\n"
     ]
    },
    {
     "name": "stderr",
     "output_type": "stream",
     "text": [
      "\r",
      " 96%|█████████████████████████████████████████████████████████████████████████████████████████████████████████████████████████████████████████████████████▊      | 192/200 [6:26:25<16:03, 120.49s/it]"
     ]
    },
    {
     "name": "stdout",
     "output_type": "stream",
     "text": [
      "test loss score is :0.7928090266907177\n",
      "test acc score is :0.8324680511182109\n",
      "Epoch 192\n",
      "train\n",
      "Using real-time data augmentation.\n",
      "train loss score is :0.46165370928768307\n",
      "train acc score is :0.9128278950735764\n",
      "It has been 114.76956629753113 seconds since the loop started\n",
      "test\n"
     ]
    },
    {
     "name": "stderr",
     "output_type": "stream",
     "text": [
      "\r",
      " 96%|██████████████████████████████████████████████████████████████████████████████████████████████████████████████████████████████████████████████████████▌     | 193/200 [6:28:26<14:03, 120.55s/it]"
     ]
    },
    {
     "name": "stdout",
     "output_type": "stream",
     "text": [
      "test loss score is :0.6830347548372829\n",
      "test acc score is :0.8610223642172524\n",
      "Epoch 193\n",
      "train\n",
      "Using real-time data augmentation.\n",
      "train loss score is :0.4668812684843499\n",
      "train acc score is :0.9098288547664747\n",
      "It has been 114.43620419502258 seconds since the loop started\n",
      "test\n"
     ]
    },
    {
     "name": "stderr",
     "output_type": "stream",
     "text": [
      "\r",
      " 97%|███████████████████████████████████████████████████████████████████████████████████████████████████████████████████████████████████████████████████████▎    | 194/200 [6:30:26<12:03, 120.54s/it]"
     ]
    },
    {
     "name": "stdout",
     "output_type": "stream",
     "text": [
      "test loss score is :0.7297397117835646\n",
      "test acc score is :0.8442492012779552\n",
      "Epoch 194\n",
      "train\n",
      "Using real-time data augmentation.\n",
      "train loss score is :0.4654158413486456\n",
      "train acc score is :0.9123480486244402\n",
      "It has been 114.72863864898682 seconds since the loop started\n",
      "test\n"
     ]
    },
    {
     "name": "stderr",
     "output_type": "stream",
     "text": [
      "\r",
      " 98%|████████████████████████████████████████████████████████████████████████████████████████████████████████████████████████████████████████████████████████    | 195/200 [6:32:27<10:02, 120.56s/it]"
     ]
    },
    {
     "name": "stdout",
     "output_type": "stream",
     "text": [
      "test loss score is :0.9574868248674435\n",
      "test acc score is :0.7912340255591054\n",
      "Epoch 195\n",
      "train\n",
      "Using real-time data augmentation.\n",
      "train loss score is :0.4683962815458471\n",
      "train acc score is :0.9100287907869482\n",
      "It has been 114.43729519844055 seconds since the loop started\n",
      "test\n"
     ]
    },
    {
     "name": "stderr",
     "output_type": "stream",
     "text": [
      "\r",
      " 98%|████████████████████████████████████████████████████████████████████████████████████████████████████████████████████████████████████████████████████████▉   | 196/200 [6:34:27<08:02, 120.56s/it]"
     ]
    },
    {
     "name": "stdout",
     "output_type": "stream",
     "text": [
      "test loss score is :0.6531811733596241\n",
      "test acc score is :0.8580271565495208\n",
      "Epoch 196\n",
      "train\n",
      "Using real-time data augmentation.\n",
      "train loss score is :0.46245610672010495\n",
      "train acc score is :0.9117682341650671\n",
      "It has been 114.52314305305481 seconds since the loop started\n",
      "test\n"
     ]
    },
    {
     "name": "stderr",
     "output_type": "stream",
     "text": [
      "\r",
      " 98%|█████████████████████████████████████████████████████████████████████████████████████████████████████████████████████████████████████████████████████████▋  | 197/200 [6:36:28<06:01, 120.59s/it]"
     ]
    },
    {
     "name": "stdout",
     "output_type": "stream",
     "text": [
      "test loss score is :0.8150906125767924\n",
      "test acc score is :0.8232827476038339\n",
      "Epoch 197\n",
      "train\n",
      "Using real-time data augmentation.\n",
      "train loss score is :0.4665122645658632\n",
      "train acc score is :0.909149072296865\n",
      "It has been 114.38271808624268 seconds since the loop started\n",
      "test\n"
     ]
    },
    {
     "name": "stderr",
     "output_type": "stream",
     "text": [
      "\r",
      " 99%|██████████████████████████████████████████████████████████████████████████████████████████████████████████████████████████████████████████████████████████▍ | 198/200 [6:38:28<04:00, 120.47s/it]"
     ]
    },
    {
     "name": "stdout",
     "output_type": "stream",
     "text": [
      "test loss score is :0.6853187578364303\n",
      "test acc score is :0.8532348242811502\n",
      "Epoch 198\n",
      "train\n",
      "Using real-time data augmentation.\n",
      "train loss score is :0.4627930970715927\n",
      "train acc score is :0.9112284069097889\n",
      "It has been 114.82984972000122 seconds since the loop started\n",
      "test\n"
     ]
    },
    {
     "name": "stderr",
     "output_type": "stream",
     "text": [
      "\r",
      "100%|███████████████████████████████████████████████████████████████████████████████████████████████████████████████████████████████████████████████████████████▏| 199/200 [6:40:29<02:00, 120.58s/it]"
     ]
    },
    {
     "name": "stdout",
     "output_type": "stream",
     "text": [
      "test loss score is :0.6591766554707537\n",
      "test acc score is :0.863917731629393\n",
      "Epoch 199\n",
      "train\n",
      "Using real-time data augmentation.\n",
      "train loss score is :0.4666926006590489\n",
      "train acc score is :0.9106685860524633\n",
      "It has been 114.7607569694519 seconds since the loop started\n",
      "test\n"
     ]
    },
    {
     "name": "stderr",
     "output_type": "stream",
     "text": [
      "100%|████████████████████████████████████████████████████████████████████████████████████████████████████████████████████████████████████████████████████████████| 200/200 [6:42:30<00:00, 120.75s/it]"
     ]
    },
    {
     "name": "stdout",
     "output_type": "stream",
     "text": [
      "test loss score is :0.6192671912261092\n",
      "test acc score is :0.8725039936102237\n",
      "0.8751996805111821 178\n",
      "0.6028060472716158 164\n",
      "0.46165370928768307 192\n"
     ]
    },
    {
     "name": "stderr",
     "output_type": "stream",
     "text": [
      "\n"
     ]
    }
   ],
   "source": [
    "from __future__ import division\n",
    "\n",
    "from numpy.random import seed\n",
    "seed(1)\n",
    "from tensorflow import set_random_seed\n",
    "set_random_seed(2)\n",
    "from keras import backend as K\n",
    "import os\n",
    "import keras\n",
    "import pickle\n",
    "import os.path\n",
    "import numpy as np\n",
    "from keras.datasets import cifar10\n",
    "from keras.models import Sequential\n",
    "from keras.layers import Dense, Dropout, Flatten\n",
    "from keras.layers import Conv2D, MaxPooling2D, BatchNormalization\n",
    "from keras.optimizers import Adam\n",
    "from keras.callbacks import ModelCheckpoint\n",
    "from keras.callbacks import LambdaCallback\n",
    "from keras.callbacks import TensorBoard\n",
    "from sklearn.preprocessing import LabelBinarizer\n",
    "from keras import initializers\n",
    "import time\n",
    "from tqdm import tqdm\n",
    "from keras.layers import Dense, Conv2D, BatchNormalization, Activation\n",
    "from keras.layers import AveragePooling2D, Input, Flatten\n",
    "from keras.optimizers import Adam\n",
    "from keras.callbacks import ModelCheckpoint, LearningRateScheduler\n",
    "from keras.callbacks import ReduceLROnPlateau\n",
    "from keras.preprocessing.image import ImageDataGenerator\n",
    "from keras.regularizers import l2\n",
    "from keras.models import Model\n",
    "from keras.datasets import cifar10\n",
    "from keras.optimizers import SGD\n",
    "\n",
    "# Training parameters\n",
    "batch_size = 32  # orig paper trained all networks with batch_size=128\n",
    "epochs = 200\n",
    "data_augmentation = True\n",
    "num_classes = 10\n",
    "\n",
    "# Subtracting pixel mean improves accuracy\n",
    "subtract_pixel_mean = True\n",
    "\n",
    "\n",
    "# In[3]:\n",
    "\n",
    "\n",
    "n = 3\n",
    "\n",
    "# Model version\n",
    "# Orig paper: version = 1 (ResNet v1), Improved ResNet: version = 2 (ResNet v2)\n",
    "version = 1\n",
    "\n",
    "# Computed depth from supplied model parameter n\n",
    "if version == 1:\n",
    "    depth = n * 6 + 2\n",
    "elif version == 2:\n",
    "    depth = n * 9 + 2\n",
    "\n",
    "# Model name, depth and version\n",
    "model_type = 'ResNet%dv%d' % (depth, version)\n",
    "\n",
    "# Load the CIFAR10 data.\n",
    "(x_train, y_train), (x_test, y_test) = cifar10.load_data()\n",
    "\n",
    "# Input image dimensions.\n",
    "input_shape = x_train.shape[1:]\n",
    "\n",
    "# Normalize data.\n",
    "x_train = x_train.astype('float32') / 255\n",
    "x_test = x_test.astype('float32') / 255\n",
    "\n",
    "# If subtract pixel mean is enabled\n",
    "if subtract_pixel_mean:\n",
    "    x_train_mean = np.mean(x_train, axis=0)\n",
    "    x_train -= x_train_mean\n",
    "    x_test -= x_train_mean\n",
    "\n",
    "print('x_train shape:', x_train.shape)\n",
    "print(x_train.shape[0], 'train samples')\n",
    "print(x_test.shape[0], 'test samples')\n",
    "print('y_train shape:', y_train.shape)\n",
    "\n",
    "# Convert class vectors to binary class matrices.\n",
    "y_train = keras.utils.to_categorical(y_train, num_classes)\n",
    "y_test = keras.utils.to_categorical(y_test, num_classes)\n",
    "\n",
    "\n",
    "# In[4]:\n",
    "\n",
    "\n",
    "def lr_schedule(epoch):\n",
    "    \"\"\"Learning Rate Schedule\n",
    "\n",
    "    Learning rate is scheduled to be reduced after 80, 120, 160, 180 epochs.\n",
    "    Called automatically every epoch as part of callbacks during training.\n",
    "\n",
    "    # Arguments\n",
    "        epoch (int): The number of epochs\n",
    "\n",
    "    # Returns\n",
    "        lr (float32): learning rate\n",
    "    \"\"\"\n",
    "    lr = 1e-1\n",
    "    return lr\n",
    "\n",
    "\n",
    "def resnet_layer(inputs,\n",
    "                 num_filters=16,\n",
    "                 kernel_size=3,\n",
    "                 strides=1,\n",
    "                 activation='relu',\n",
    "                 batch_normalization=False,\n",
    "                 conv_first=True):\n",
    "    \"\"\"2D Convolution-Batch Normalization-Activation stack builder\n",
    "\n",
    "    # Arguments\n",
    "        inputs (tensor): input tensor from input image or previous layer\n",
    "        num_filters (int): Conv2D number of filters\n",
    "        kernel_size (int): Conv2D square kernel dimensions\n",
    "        strides (int): Conv2D square stride dimensions\n",
    "        activation (string): activation name\n",
    "        batch_normalization (bool): whether to include batch normalization\n",
    "        conv_first (bool): conv-bn-activation (True) or\n",
    "            bn-activation-conv (False)\n",
    "\n",
    "    # Returns\n",
    "        x (tensor): tensor as input to the next layer\n",
    "    \"\"\"\n",
    "    conv = Conv2D(num_filters,\n",
    "                  kernel_size=kernel_size,\n",
    "                  strides=strides,\n",
    "                  padding='same',\n",
    "                  kernel_initializer='he_normal',\n",
    "                  kernel_regularizer=l2(1e-4))\n",
    "\n",
    "    x = inputs\n",
    "    if conv_first:\n",
    "        x = conv(x)\n",
    "        if batch_normalization:\n",
    "            x = BatchNormalization()(x)\n",
    "        if activation is not None:\n",
    "            x = Activation(activation)(x)\n",
    "    else:\n",
    "        if batch_normalization:\n",
    "            x = BatchNormalization()(x)\n",
    "        if activation is not None:\n",
    "            x = Activation(activation)(x)\n",
    "        x = conv(x)\n",
    "    return x\n",
    "\n",
    "\n",
    "def resnet_v1(input_shape, depth, num_classes=10):\n",
    "    \"\"\"ResNet Version 1 Model builder [a]\n",
    "\n",
    "    Stacks of 2 x (3 x 3) Conv2D-BN-ReLU\n",
    "    Last ReLU is after the shortcut connection.\n",
    "    At the beginning of each stage, the feature map size is halved (downsampled)\n",
    "    by a convolutional layer with strides=2, while the number of filters is\n",
    "    doubled. Within each stage, the layers have the same number filters and the\n",
    "    same number of filters.\n",
    "    Features maps sizes:\n",
    "    stage 0: 32x32, 16\n",
    "    stage 1: 16x16, 32\n",
    "    stage 2:  8x8,  64\n",
    "    The Number of parameters is approx the same as Table 6 of [a]:\n",
    "    ResNet20 0.27M\n",
    "    ResNet32 0.46M\n",
    "    ResNet44 0.66M\n",
    "    ResNet56 0.85M\n",
    "    ResNet110 1.7M\n",
    "\n",
    "    # Arguments\n",
    "        input_shape (tensor): shape of input image tensor\n",
    "        depth (int): number of core convolutional layers\n",
    "        num_classes (int): number of classes (CIFAR10 has 10)\n",
    "\n",
    "    # Returns\n",
    "        model (Model): Keras model instance\n",
    "    \"\"\"\n",
    "    if (depth - 2) % 6 != 0:\n",
    "        raise ValueError('depth should be 6n+2 (eg 20, 32, 44 in [a])')\n",
    "    # Start model definition.\n",
    "    num_filters = 16\n",
    "    num_res_blocks = int((depth - 2) / 6)\n",
    "\n",
    "    inputs = Input(shape=input_shape)\n",
    "    x = resnet_layer(inputs=inputs)\n",
    "    # Instantiate the stack of residual units\n",
    "    for stack in range(3):\n",
    "        for res_block in range(num_res_blocks):\n",
    "            strides = 1\n",
    "            if stack > 0 and res_block == 0:  # first layer but not first stack\n",
    "                strides = 2  # downsample\n",
    "            y = resnet_layer(inputs=x,\n",
    "                             num_filters=num_filters,\n",
    "                             strides=strides)\n",
    "            y = resnet_layer(inputs=y,\n",
    "                             num_filters=num_filters,\n",
    "                             activation=None)\n",
    "            if stack > 0 and res_block == 0:  # first layer but not first stack\n",
    "                # linear projection residual shortcut connection to match\n",
    "                # changed dims\n",
    "                x = resnet_layer(inputs=x,\n",
    "                                 num_filters=num_filters,\n",
    "                                 kernel_size=1,\n",
    "                                 strides=strides,\n",
    "                                 activation=None,\n",
    "                                 batch_normalization=False)\n",
    "            x = keras.layers.add([x, y])\n",
    "            x = Activation('relu')(x)\n",
    "        num_filters *= 2\n",
    "\n",
    "    # Add classifier on top.\n",
    "    # v1 does not use BN after last shortcut connection-ReLU\n",
    "    x = AveragePooling2D(pool_size=8)(x)\n",
    "    y = Flatten()(x)\n",
    "    outputs = Dense(num_classes,\n",
    "                    activation='softmax',\n",
    "                    kernel_initializer='he_normal')(y)\n",
    "\n",
    "    # Instantiate model.\n",
    "    model = Model(inputs=inputs, outputs=outputs)\n",
    "    model.compile(optimizer=SGD(lr=0.1), loss='categorical_crossentropy', metrics = ['accuracy'])\n",
    "    return model\n",
    "\n",
    "\n",
    "# In[5]:\n",
    "\n",
    "\n",
    "depth\n",
    "\n",
    "\n",
    "# In[6]:\n",
    "\n",
    "\n",
    "from keras.layers import Input\n",
    "import keras.backend as K\n",
    "from keras.models import Model\n",
    "\n",
    "all_model = [None,None,None]\n",
    "losses = [None,None,None]\n",
    "\n",
    "prediction=[]\n",
    "\n",
    "all_score =[0,0,0]\n",
    "gr=[]\n",
    "wr=[]\n",
    "xwr=[]\n",
    "\n",
    "for i in range(3):\n",
    "    np.random.seed(25+i)\n",
    "    set_random_seed(25+i)\n",
    "    model = resnet_v1(input_shape=input_shape, depth=depth)\n",
    "    all_model[i]=model\n",
    "    \n",
    "for i in range(3):    \n",
    "    weights = all_model[i].trainable_weights # weight tensors\n",
    "    weights = [weight for weight in weights] # filter down weights tensors to only ones which are trainable\n",
    "    gradients = all_model[i].optimizer.get_gradients(all_model[i].total_loss, weights) # gradient tensors\n",
    "    gr.append(gradients)\n",
    "    wr.append(weights)\n",
    "    xweights = all_model[i].non_trainable_weights # weight tensors\n",
    "    xweights = [weight for weight in xweights] # filter down weights tensors to only ones which are trainable\n",
    "    xwr.append(xweights)\n",
    "\n",
    "    losses[i]=all_model[i].total_loss\n",
    "    prediction.append(all_model[i].output)\n",
    "\n",
    "\n",
    "# In[7]:\n",
    "\n",
    "\n",
    "model.summary()\n",
    "\n",
    "\n",
    "# In[8]:\n",
    "\n",
    "\n",
    "input_tensors = [all_model[0].inputs[0], # input data\n",
    "                 all_model[0].sample_weights[0], # how much to weight each sample by\n",
    "                 all_model[0].targets[0], # labels\n",
    "                 K.learning_phase(), # train or test mode\n",
    "                 all_model[1].inputs[0], # input data\n",
    "                 all_model[1].sample_weights[0], # how much to weight each sample by\n",
    "                 all_model[1].targets[0], # labels\n",
    "                 all_model[2].inputs[0], # input data\n",
    "                 all_model[2].sample_weights[0], # how much to weight each sample by\n",
    "                 all_model[2].targets[0], # labels\n",
    "                ]\n",
    "\n",
    "\n",
    "# In[9]:\n",
    "\n",
    "\n",
    "minlos = K.argmin(losses)\n",
    "\n",
    "grr=[]\n",
    "for x in gr:\n",
    "    for y in x:\n",
    "        grr.append(y)\n",
    "\n",
    "\n",
    "# In[10]:\n",
    "\n",
    "\n",
    "upd_test= K.function(inputs=input_tensors, outputs=[ losses[0], losses[1], losses[2], minlos, prediction[0], prediction[1], prediction[2] ])\n",
    "\n",
    "\n",
    "# In[11]:\n",
    "\n",
    "\n",
    "len(xwr[0])\n",
    "\n",
    "\n",
    "# In[ ]:\n",
    "\n",
    "\n",
    "\n",
    "\n",
    "\n",
    "# In[ ]:\n",
    "\n",
    "\n",
    "\n",
    "\n",
    "\n",
    "# In[12]:\n",
    "\n",
    "\n",
    "import tensorflow as tf\n",
    "\n",
    "\n",
    "grad_best=[]\n",
    "grad_non0 = []\n",
    "grad_non1 = []\n",
    "\n",
    "\n",
    "weig_best=[]\n",
    "weig_non0 = []\n",
    "weig_non1 = []\n",
    "\n",
    "xweig_best=[]\n",
    "xweig_non0 = []\n",
    "xweig_non1 = []\n",
    "\n",
    "\n",
    "\n",
    "\n",
    "for i in range(len(gr[0])):\n",
    "    gr_ck=tf.concat([gr[0][i],gr[1][i], gr[2][i]],0)\n",
    "    newshape = (3, ) + (tuple(wr[0][i].shape))\n",
    "\n",
    "    \n",
    "    gr_ck2=tf.reshape(gr_ck, newshape)\n",
    "    \n",
    "    bb = gr_ck2[minlos]\n",
    "    grad_best.append(bb)\n",
    "    \n",
    "    nbb0 = gr_ck2[0:minlos]                       #[0,enk) U (enk,] aralıklarının birleşimi bize nonbesti verecek\n",
    "    nbb1 = gr_ck2[minlos+1:]                      #[0,enk) U (enk,] aralıklarının birleşimi bize nonbesti verecek\n",
    "    nbc = tf.concat([nbb0,nbb1], 0)    \n",
    "    nbc = tf.reshape(nbc, (-1,))\n",
    "    newshape2 = (2, ) + (tuple(wr[0][i].shape))\n",
    "    \n",
    "    nbc2 = tf.reshape(nbc, newshape2) \n",
    "    nb0 = nbc2[0]\n",
    "    nb1 = nbc2[1]\n",
    "    grad_non0.append(nb0)\n",
    "    grad_non1.append(nb1)\n",
    "    \n",
    "\n",
    "    wr_ck=tf.concat([wr[0][i],wr[1][i], wr[2][i]],0)\n",
    "    \n",
    "    newshape = (3, ) + (tuple(wr[0][i].shape))\n",
    "    wr_ck2=tf.reshape(wr_ck, newshape) \n",
    "    bb2 = wr_ck2[minlos]\n",
    "    weig_best.append(bb2)\n",
    "    \n",
    "    #wb = wr_ck[minlos]\n",
    "    wnbb0 = wr_ck2[0:minlos]                       #[0,enk) U (enk,] aralıklarının birleşimi bize nonbesti verecek\n",
    "    wnbb1 = wr_ck2[minlos+1:]                      #[0,enk) U (enk,] aralıklarının birleşimi bize nonbesti verecek\n",
    "    wnbc = tf.concat([wnbb0,wnbb1],0)    \n",
    "    wnbc = tf.reshape(wnbc, (-1,))\n",
    "    newshape2 = (2, ) + (tuple(wr[0][i].shape))\n",
    "    \n",
    "    wnbc2 =tf.reshape(wnbc, newshape2)\n",
    "    wnb0 = wnbc2[0]\n",
    "    wnb1 = wnbc2[1]\n",
    "    weig_non0.append(wnb0)\n",
    "    weig_non1.append(wnb1)\n",
    "    \n",
    "    if i<len(xwr[0]):\n",
    "        print (i)\n",
    "        xwr_ck=tf.concat([xwr[0][i],xwr[1][i], xwr[2][i]], 0)\n",
    "\n",
    "        newshape = (3, ) + (tuple(xwr[0][i].shape))\n",
    "        \n",
    "        xwr_ck2=tf.reshape(xwr_ck, newshape)  \n",
    "        xbb2 = xwr_ck2[minlos]\n",
    "        xweig_best.append(xbb2)\n",
    "\n",
    "        #wb = wr_ck[minlos]\n",
    "        xwnbb0 = xwr_ck2[0:minlos]                       #[0,enk) U (enk,] aralıklarının birleşimi bize nonbesti verecek\n",
    "        xwnbb1 = xwr_ck2[minlos+1:]                      #[0,enk) U (enk,] aralıklarının birleşimi bize nonbesti verecek\n",
    "        xwnbc = tf.concat([xwnbb0,xwnbb1], 0)    \n",
    "        \n",
    "        xwnbc = tf.reshape(xwnbc, (-1,))\n",
    "        newshape2 = (2, ) + (tuple(xwr[0][i].shape))\n",
    "         \n",
    "        xwnbc2 = tf.reshape(xwnbc, newshape2) \n",
    "        xwnb0 = xwnbc2[0]\n",
    "        xwnb1 = xwnbc2[1]\n",
    "        xweig_non0.append(xwnb0)\n",
    "        xweig_non1.append(xwnb1)\n",
    "    else:\n",
    "        pass\n",
    "\n",
    "\n",
    "# In[13]:\n",
    "\n",
    "\n",
    "los=tf.stack([losses[0], losses[1], losses[2]])\n",
    "\n",
    "newshape = (3, )\n",
    "los2=tf.reshape(los, newshape) \n",
    "losbest = los2[minlos]\n",
    "\n",
    "#wb = wr_ck[minlos]\n",
    "los_0 = los2[0:minlos]                       #[0,enk) U (enk,] aralıklarının birleşimi bize nonbesti verecek\n",
    "los_1 = los2[minlos+1:]                      #[0,enk) U (enk,] aralıklarının birleşimi bize nonbesti verecek\n",
    "loswnbc = tf.concat([los_0,los_1],0)    \n",
    "loswnbc = tf.reshape(loswnbc,(-1,))\n",
    "newshape2 = (2, )\n",
    "\n",
    "loswnbc2 = tf.reshape(loswnbc, newshape2)\n",
    "losss0 = loswnbc2[0]\n",
    "losss1 = loswnbc2[1]\n",
    "\n",
    "\n",
    "eps = 1.5\n",
    "\n",
    "\n",
    "mn0 = [tf.keras.backend.l2_normalize((best-nonbest)*(losbest-losss0)/tf.reduce_sum( tf.pow((best-nonbest),2)+eps))   for best, nonbest in zip(weig_best, weig_non0)]\n",
    "\n",
    "mn1 = [tf.keras.backend.l2_normalize((best-nonbest)*(losbest-losss1)/tf.reduce_sum( tf.pow((best-nonbest),2)+eps))   for best, nonbest in zip(weig_best, weig_non1)]\n",
    "\n",
    "\n",
    "nCom0 = [non- model.optimizer.lr* grad - (model.optimizer.lr/10) * mn for mn, grad, non in zip(mn0,grad_non0, weig_non0 )]\n",
    "\n",
    "nCom1 = [non- model.optimizer.lr* grad - (model.optimizer.lr/10) * mn for mn, grad, non in zip(mn1,grad_non1, weig_non1 )]\n",
    "\n",
    "xbest = [ -model.optimizer.lr* nc + non for nc, non in zip(grad_best, weig_best)]\n",
    "\n",
    "upd2 = [\n",
    "    tf.assign(param_i, v)\n",
    "    for param_i, v in zip(wr[2], xbest)\n",
    "]\n",
    "\n",
    "upd2.extend(\n",
    "        [tf.assign(param_i, v)\n",
    "        for param_i, v in zip(xwr[2], xweig_best)]\n",
    "    )\n",
    "\n",
    "upd2.extend(\n",
    "        [tf.assign(param_i, v)\n",
    "        for param_i, v in zip(wr[1], nCom0)]\n",
    "    )\n",
    "upd2.extend(\n",
    "        [tf.assign(param_i, v)\n",
    "        for param_i, v in zip(xwr[1], xweig_non0)]\n",
    "    )\n",
    "upd2.extend(\n",
    "        [tf.assign(param_i, v)\n",
    "        for param_i, v in zip(wr[0], nCom1)]\n",
    "    )\n",
    "upd2.extend(\n",
    "        [tf.assign(param_i, v)\n",
    "        for param_i, v in zip(xwr[0], xweig_non1)]\n",
    "    )\n",
    "\n",
    "\n",
    "upd_bb2= K.function(inputs=input_tensors, outputs=[ losses[0], losses[1], losses[2], minlos, prediction[0], prediction[1], prediction[2] ], updates=upd2)\n",
    "\n",
    "\n",
    "from sklearn.metrics import accuracy_score\n",
    "\n",
    "lossepoch=[]\n",
    "lossepoch_test=[]\n",
    "lossx=[]\n",
    "acctra=[]\n",
    "loss_test=[]\n",
    "acc_test=[]\n",
    "skip=[]\n",
    "\n",
    "datagen = ImageDataGenerator(\n",
    "    # set input mean to 0 over the dataset\n",
    "    featurewise_center=False,\n",
    "    # set each sample mean to 0\n",
    "    samplewise_center=False,\n",
    "    # divide inputs by std of dataset\n",
    "    featurewise_std_normalization=False,\n",
    "    # divide each input by its std\n",
    "    samplewise_std_normalization=False,\n",
    "    # apply ZCA whitening\n",
    "    zca_whitening=False,\n",
    "    # epsilon for ZCA whitening\n",
    "    zca_epsilon=1e-06,\n",
    "    # randomly rotate images in the range (deg 0 to 180)\n",
    "    rotation_range=0,\n",
    "    # randomly shift images horizontally\n",
    "    width_shift_range=0.1,\n",
    "    # randomly shift images vertically\n",
    "    height_shift_range=0.1,\n",
    "    # set range for random shear\n",
    "    shear_range=0.,\n",
    "    # set range for random zoom\n",
    "    zoom_range=0.,\n",
    "    # set range for random channel shifts\n",
    "    channel_shift_range=0.,\n",
    "    # set mode for filling points outside the input boundaries\n",
    "    fill_mode='nearest',\n",
    "    # value used for fill_mode = \"constant\"\n",
    "    cval=0.,\n",
    "    # randomly flip images\n",
    "    horizontal_flip=True,\n",
    "    # randomly flip images\n",
    "    vertical_flip=False,\n",
    "    # set rescaling factor (applied before any other transformation)\n",
    "    rescale=None,\n",
    "    # set function that will be applied on each input\n",
    "    preprocessing_function=None,\n",
    "    # image data format, either \"channels_first\" or \"channels_last\"\n",
    "    data_format=None,\n",
    "    # fraction of images reserved for validation (strictly between 0 and 1)\n",
    "    validation_split=0.0)\n",
    "\n",
    "datagentest = ImageDataGenerator()\n",
    "\n",
    "for f in tqdm(range(200)):\n",
    "    program_starts = time.time()\n",
    "    K.set_value(all_model[0].optimizer.lr, lr_schedule(f))\n",
    "    K.set_value(all_model[1].optimizer.lr, lr_schedule(f))\n",
    "    K.set_value(all_model[2].optimizer.lr, lr_schedule(f))\n",
    "    tr1=[]\n",
    "    tr2=[]\n",
    "    res1=[]\n",
    "    res2=[]\n",
    "    print('Epoch', f)\n",
    "    print ('train')\n",
    "    \n",
    "    print('Using real-time data augmentation.')\n",
    "    # This will do preprocessing and realtime data augmentation:\n",
    "\n",
    "    datagen.fit(x_train)\n",
    "    batches = 0\n",
    "    for x_batch, y_batch in datagen.flow(x_train, y_train, batch_size=batch_size):\n",
    "        K.set_learning_phase(1)\n",
    "        \n",
    "        inputs = [x_batch, # X\n",
    "                  np.ones(y_batch.shape[0]), # sample weights\n",
    "                  y_batch, # y\n",
    "                  1, # learning phase in TEST mode\n",
    "                  x_batch, # X\n",
    "                  np.ones(y_batch.shape[0]), # sample weights\n",
    "                  y_batch, # y\n",
    "                  x_batch, # X\n",
    "                  np.ones(y_batch.shape[0]), # sample weights\n",
    "                  y_batch, # y\n",
    "                 ]\n",
    "        ll = upd_bb2(inputs)\n",
    "        yhat=ll[6]\n",
    "        lossepoch.append(ll[2])\n",
    "        tr1.append(ll[2])\n",
    "        tr2.append(accuracy_score(np.argmax(y_batch,axis=1), np.argmax(yhat,axis=1)))\n",
    "        skip.append(ll[3])\n",
    "        batches += 1\n",
    "        if batches > len(x_train) / batch_size:\n",
    "            # we need to break the loop by hand because\n",
    "            # the generator loops indefinitely\n",
    "            break\n",
    "    m=(len(x_train) / batch_size)-int((len(x_train) / batch_size))\n",
    "    tr1[-1]*=m\n",
    "    tr2[-1]*=m\n",
    "    lossx.append(np.mean(tr1))\n",
    "    acctra.append(np.mean(tr2))\n",
    "    print ('train loss score is :'+str(np.mean(tr1)))\n",
    "    print ('train acc score is :'+str(np.mean(tr2)))\n",
    "    now = time.time()\n",
    "    print(\"It has been {0} seconds since the loop started\".format(now - program_starts))\n",
    "    print ('test')\n",
    "    batchesx = 0\n",
    "    \n",
    "    datagentest.fit(x_test)\n",
    "    for x_batch, y_batch in datagentest.flow(x_test, y_test, batch_size=batch_size):\n",
    "        K.set_learning_phase(0)\n",
    "        inputs = [x_batch, # X\n",
    "                  np.ones(y_batch.shape[0]), # sample weights\n",
    "                  y_batch, # y\n",
    "                  0, # learning phase in TEST mode\n",
    "                  x_batch, # X\n",
    "                  np.ones(y_batch.shape[0]), # sample weights\n",
    "                  y_batch, # y\n",
    "                  x_batch, # X\n",
    "                  np.ones(y_batch.shape[0]), # sample weights\n",
    "                  y_batch, # y\n",
    "                 ]\n",
    "        ll = upd_test(inputs)\n",
    "        yhat=ll[6]\n",
    "        lossepoch_test.append(ll[2])\n",
    "        res1.append(ll[2])\n",
    "        res2.append(accuracy_score(np.argmax(y_batch,axis=1), np.argmax(yhat,axis=1)))\n",
    "        batchesx += 1\n",
    "        if batchesx >= len(x_test) / batch_size:\n",
    "            break\n",
    "    m=(len(x_test) / batch_size)-int((len(x_test) / batch_size))\n",
    "    res1[-1]*=m\n",
    "    res2[-1]*=m\n",
    "    loss_test.append(np.mean(res1))\n",
    "    acc_test.append(np.mean(res2))\n",
    "    print ('test loss score is :'+str(np.mean(res1)))\n",
    "    print ('test acc score is :'+str(np.mean(res2)))\n",
    "\n",
    "print (np.max(acc_test), np.argmax(acc_test))\n",
    "print (np.min(loss_test), np.argmin(loss_test))\n",
    "print (np.min(lossx), np.argmin(lossx))\n",
    "\n"
   ]
  },
  {
   "cell_type": "code",
   "execution_count": 2,
   "metadata": {},
   "outputs": [],
   "source": [
    "np.savetxt(\"no_bn_alg4_lossepoch_r20.csv\", lossepoch, delimiter=\",\", fmt='%s')\n",
    "np.savetxt(\"no_bn_alg4_lossepoch_test_r20.csv\", lossepoch_test, delimiter=\",\", fmt='%s')       \n",
    "np.savetxt(\"no_bn_alg4_loss_tra_r20.csv\", lossx, delimiter=\",\", fmt='%s')\n",
    "np.savetxt(\"no_bn_alg4_skip_r20.csv\", skip, delimiter=\",\", fmt='%s')\n",
    "np.savetxt(\"no_bn_alg4_acc_tra_r20.csv\", acctra, delimiter=\",\", fmt='%s')\n",
    "np.savetxt(\"no_bn_alg4_loss_test_r20.csv\", loss_test, delimiter=\",\", fmt='%s')\n",
    "np.savetxt(\"no_bn_alg4_acc_test_r20.csv\", acc_test, delimiter=\",\", fmt='%s')"
   ]
  },
  {
   "cell_type": "code",
   "execution_count": null,
   "metadata": {},
   "outputs": [],
   "source": []
  }
 ],
 "metadata": {
  "kernelspec": {
   "display_name": "Python 3",
   "language": "python",
   "name": "python3"
  },
  "language_info": {
   "codemirror_mode": {
    "name": "ipython",
    "version": 3
   },
   "file_extension": ".py",
   "mimetype": "text/x-python",
   "name": "python",
   "nbconvert_exporter": "python",
   "pygments_lexer": "ipython3",
   "version": "3.7.0"
  }
 },
 "nbformat": 4,
 "nbformat_minor": 2
}
