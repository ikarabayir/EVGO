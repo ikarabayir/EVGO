{
 "cells": [
  {
   "cell_type": "code",
   "execution_count": 1,
   "metadata": {},
   "outputs": [
    {
     "name": "stderr",
     "output_type": "stream",
     "text": [
      "C:\\Users\\ikarabayir\\.conda\\envs\\tf_gpu\\lib\\site-packages\\tensorflow\\python\\framework\\dtypes.py:516: FutureWarning: Passing (type, 1) or '1type' as a synonym of type is deprecated; in a future version of numpy, it will be understood as (type, (1,)) / '(1,)type'.\n",
      "  _np_qint8 = np.dtype([(\"qint8\", np.int8, 1)])\n",
      "C:\\Users\\ikarabayir\\.conda\\envs\\tf_gpu\\lib\\site-packages\\tensorflow\\python\\framework\\dtypes.py:517: FutureWarning: Passing (type, 1) or '1type' as a synonym of type is deprecated; in a future version of numpy, it will be understood as (type, (1,)) / '(1,)type'.\n",
      "  _np_quint8 = np.dtype([(\"quint8\", np.uint8, 1)])\n",
      "C:\\Users\\ikarabayir\\.conda\\envs\\tf_gpu\\lib\\site-packages\\tensorflow\\python\\framework\\dtypes.py:518: FutureWarning: Passing (type, 1) or '1type' as a synonym of type is deprecated; in a future version of numpy, it will be understood as (type, (1,)) / '(1,)type'.\n",
      "  _np_qint16 = np.dtype([(\"qint16\", np.int16, 1)])\n",
      "C:\\Users\\ikarabayir\\.conda\\envs\\tf_gpu\\lib\\site-packages\\tensorflow\\python\\framework\\dtypes.py:519: FutureWarning: Passing (type, 1) or '1type' as a synonym of type is deprecated; in a future version of numpy, it will be understood as (type, (1,)) / '(1,)type'.\n",
      "  _np_quint16 = np.dtype([(\"quint16\", np.uint16, 1)])\n",
      "C:\\Users\\ikarabayir\\.conda\\envs\\tf_gpu\\lib\\site-packages\\tensorflow\\python\\framework\\dtypes.py:520: FutureWarning: Passing (type, 1) or '1type' as a synonym of type is deprecated; in a future version of numpy, it will be understood as (type, (1,)) / '(1,)type'.\n",
      "  _np_qint32 = np.dtype([(\"qint32\", np.int32, 1)])\n",
      "C:\\Users\\ikarabayir\\.conda\\envs\\tf_gpu\\lib\\site-packages\\tensorflow\\python\\framework\\dtypes.py:525: FutureWarning: Passing (type, 1) or '1type' as a synonym of type is deprecated; in a future version of numpy, it will be understood as (type, (1,)) / '(1,)type'.\n",
      "  np_resource = np.dtype([(\"resource\", np.ubyte, 1)])\n",
      "C:\\Users\\ikarabayir\\.conda\\envs\\tf_gpu\\lib\\site-packages\\tensorboard\\compat\\tensorflow_stub\\dtypes.py:541: FutureWarning: Passing (type, 1) or '1type' as a synonym of type is deprecated; in a future version of numpy, it will be understood as (type, (1,)) / '(1,)type'.\n",
      "  _np_qint8 = np.dtype([(\"qint8\", np.int8, 1)])\n",
      "C:\\Users\\ikarabayir\\.conda\\envs\\tf_gpu\\lib\\site-packages\\tensorboard\\compat\\tensorflow_stub\\dtypes.py:542: FutureWarning: Passing (type, 1) or '1type' as a synonym of type is deprecated; in a future version of numpy, it will be understood as (type, (1,)) / '(1,)type'.\n",
      "  _np_quint8 = np.dtype([(\"quint8\", np.uint8, 1)])\n",
      "C:\\Users\\ikarabayir\\.conda\\envs\\tf_gpu\\lib\\site-packages\\tensorboard\\compat\\tensorflow_stub\\dtypes.py:543: FutureWarning: Passing (type, 1) or '1type' as a synonym of type is deprecated; in a future version of numpy, it will be understood as (type, (1,)) / '(1,)type'.\n",
      "  _np_qint16 = np.dtype([(\"qint16\", np.int16, 1)])\n",
      "C:\\Users\\ikarabayir\\.conda\\envs\\tf_gpu\\lib\\site-packages\\tensorboard\\compat\\tensorflow_stub\\dtypes.py:544: FutureWarning: Passing (type, 1) or '1type' as a synonym of type is deprecated; in a future version of numpy, it will be understood as (type, (1,)) / '(1,)type'.\n",
      "  _np_quint16 = np.dtype([(\"quint16\", np.uint16, 1)])\n",
      "C:\\Users\\ikarabayir\\.conda\\envs\\tf_gpu\\lib\\site-packages\\tensorboard\\compat\\tensorflow_stub\\dtypes.py:545: FutureWarning: Passing (type, 1) or '1type' as a synonym of type is deprecated; in a future version of numpy, it will be understood as (type, (1,)) / '(1,)type'.\n",
      "  _np_qint32 = np.dtype([(\"qint32\", np.int32, 1)])\n",
      "C:\\Users\\ikarabayir\\.conda\\envs\\tf_gpu\\lib\\site-packages\\tensorboard\\compat\\tensorflow_stub\\dtypes.py:550: FutureWarning: Passing (type, 1) or '1type' as a synonym of type is deprecated; in a future version of numpy, it will be understood as (type, (1,)) / '(1,)type'.\n",
      "  np_resource = np.dtype([(\"resource\", np.ubyte, 1)])\n",
      "Using TensorFlow backend.\n"
     ]
    },
    {
     "name": "stdout",
     "output_type": "stream",
     "text": [
      "x_train shape: (50000, 32, 32, 3)\n",
      "50000 train samples\n",
      "10000 test samples\n",
      "y_train shape: (50000, 1)\n",
      "WARNING:tensorflow:From C:\\Users\\ikarabayir\\.conda\\envs\\tf_gpu\\lib\\site-packages\\keras\\backend\\tensorflow_backend.py:74: The name tf.get_default_graph is deprecated. Please use tf.compat.v1.get_default_graph instead.\n",
      "\n",
      "WARNING:tensorflow:From C:\\Users\\ikarabayir\\.conda\\envs\\tf_gpu\\lib\\site-packages\\keras\\backend\\tensorflow_backend.py:517: The name tf.placeholder is deprecated. Please use tf.compat.v1.placeholder instead.\n",
      "\n",
      "WARNING:tensorflow:From C:\\Users\\ikarabayir\\.conda\\envs\\tf_gpu\\lib\\site-packages\\keras\\backend\\tensorflow_backend.py:4185: The name tf.truncated_normal is deprecated. Please use tf.random.truncated_normal instead.\n",
      "\n",
      "WARNING:tensorflow:From C:\\Users\\ikarabayir\\.conda\\envs\\tf_gpu\\lib\\site-packages\\keras\\backend\\tensorflow_backend.py:3980: The name tf.nn.avg_pool is deprecated. Please use tf.nn.avg_pool2d instead.\n",
      "\n",
      "WARNING:tensorflow:From C:\\Users\\ikarabayir\\.conda\\envs\\tf_gpu\\lib\\site-packages\\keras\\optimizers.py:790: The name tf.train.Optimizer is deprecated. Please use tf.compat.v1.train.Optimizer instead.\n",
      "\n",
      "WARNING:tensorflow:From C:\\Users\\ikarabayir\\.conda\\envs\\tf_gpu\\lib\\site-packages\\keras\\backend\\tensorflow_backend.py:3295: The name tf.log is deprecated. Please use tf.math.log instead.\n",
      "\n",
      "WARNING:tensorflow:From C:\\Users\\ikarabayir\\.conda\\envs\\tf_gpu\\lib\\site-packages\\tensorflow\\python\\ops\\math_grad.py:1250: add_dispatch_support.<locals>.wrapper (from tensorflow.python.ops.array_ops) is deprecated and will be removed in a future version.\n",
      "Instructions for updating:\n",
      "Use tf.where in 2.0, which has the same broadcast rule as np.where\n",
      "__________________________________________________________________________________________________\n",
      "Layer (type)                    Output Shape         Param #     Connected to                     \n",
      "==================================================================================================\n",
      "input_3 (InputLayer)            (None, 32, 32, 3)    0                                            \n",
      "__________________________________________________________________________________________________\n",
      "conv2d_43 (Conv2D)              (None, 32, 32, 16)   448         input_3[0][0]                    \n",
      "__________________________________________________________________________________________________\n",
      "activation_39 (Activation)      (None, 32, 32, 16)   0           conv2d_43[0][0]                  \n",
      "__________________________________________________________________________________________________\n",
      "conv2d_44 (Conv2D)              (None, 32, 32, 16)   2320        activation_39[0][0]              \n",
      "__________________________________________________________________________________________________\n",
      "activation_40 (Activation)      (None, 32, 32, 16)   0           conv2d_44[0][0]                  \n",
      "__________________________________________________________________________________________________\n",
      "conv2d_45 (Conv2D)              (None, 32, 32, 16)   2320        activation_40[0][0]              \n",
      "__________________________________________________________________________________________________\n",
      "add_19 (Add)                    (None, 32, 32, 16)   0           activation_39[0][0]              \n",
      "                                                                 conv2d_45[0][0]                  \n",
      "__________________________________________________________________________________________________\n",
      "activation_41 (Activation)      (None, 32, 32, 16)   0           add_19[0][0]                     \n",
      "__________________________________________________________________________________________________\n",
      "conv2d_46 (Conv2D)              (None, 32, 32, 16)   2320        activation_41[0][0]              \n",
      "__________________________________________________________________________________________________\n",
      "activation_42 (Activation)      (None, 32, 32, 16)   0           conv2d_46[0][0]                  \n",
      "__________________________________________________________________________________________________\n",
      "conv2d_47 (Conv2D)              (None, 32, 32, 16)   2320        activation_42[0][0]              \n",
      "__________________________________________________________________________________________________\n",
      "add_20 (Add)                    (None, 32, 32, 16)   0           activation_41[0][0]              \n",
      "                                                                 conv2d_47[0][0]                  \n",
      "__________________________________________________________________________________________________\n",
      "activation_43 (Activation)      (None, 32, 32, 16)   0           add_20[0][0]                     \n",
      "__________________________________________________________________________________________________\n",
      "conv2d_48 (Conv2D)              (None, 32, 32, 16)   2320        activation_43[0][0]              \n",
      "__________________________________________________________________________________________________\n",
      "activation_44 (Activation)      (None, 32, 32, 16)   0           conv2d_48[0][0]                  \n",
      "__________________________________________________________________________________________________\n",
      "conv2d_49 (Conv2D)              (None, 32, 32, 16)   2320        activation_44[0][0]              \n",
      "__________________________________________________________________________________________________\n",
      "add_21 (Add)                    (None, 32, 32, 16)   0           activation_43[0][0]              \n",
      "                                                                 conv2d_49[0][0]                  \n",
      "__________________________________________________________________________________________________\n",
      "activation_45 (Activation)      (None, 32, 32, 16)   0           add_21[0][0]                     \n",
      "__________________________________________________________________________________________________\n",
      "conv2d_50 (Conv2D)              (None, 16, 16, 32)   4640        activation_45[0][0]              \n",
      "__________________________________________________________________________________________________\n",
      "activation_46 (Activation)      (None, 16, 16, 32)   0           conv2d_50[0][0]                  \n",
      "__________________________________________________________________________________________________\n",
      "conv2d_52 (Conv2D)              (None, 16, 16, 32)   544         activation_45[0][0]              \n",
      "__________________________________________________________________________________________________\n",
      "conv2d_51 (Conv2D)              (None, 16, 16, 32)   9248        activation_46[0][0]              \n",
      "__________________________________________________________________________________________________\n",
      "add_22 (Add)                    (None, 16, 16, 32)   0           conv2d_52[0][0]                  \n",
      "                                                                 conv2d_51[0][0]                  \n",
      "__________________________________________________________________________________________________\n",
      "activation_47 (Activation)      (None, 16, 16, 32)   0           add_22[0][0]                     \n",
      "__________________________________________________________________________________________________\n",
      "conv2d_53 (Conv2D)              (None, 16, 16, 32)   9248        activation_47[0][0]              \n",
      "__________________________________________________________________________________________________\n",
      "activation_48 (Activation)      (None, 16, 16, 32)   0           conv2d_53[0][0]                  \n",
      "__________________________________________________________________________________________________\n",
      "conv2d_54 (Conv2D)              (None, 16, 16, 32)   9248        activation_48[0][0]              \n",
      "__________________________________________________________________________________________________\n",
      "add_23 (Add)                    (None, 16, 16, 32)   0           activation_47[0][0]              \n",
      "                                                                 conv2d_54[0][0]                  \n",
      "__________________________________________________________________________________________________\n",
      "activation_49 (Activation)      (None, 16, 16, 32)   0           add_23[0][0]                     \n",
      "__________________________________________________________________________________________________\n",
      "conv2d_55 (Conv2D)              (None, 16, 16, 32)   9248        activation_49[0][0]              \n",
      "__________________________________________________________________________________________________\n",
      "activation_50 (Activation)      (None, 16, 16, 32)   0           conv2d_55[0][0]                  \n",
      "__________________________________________________________________________________________________\n",
      "conv2d_56 (Conv2D)              (None, 16, 16, 32)   9248        activation_50[0][0]              \n",
      "__________________________________________________________________________________________________\n",
      "add_24 (Add)                    (None, 16, 16, 32)   0           activation_49[0][0]              \n",
      "                                                                 conv2d_56[0][0]                  \n",
      "__________________________________________________________________________________________________\n",
      "activation_51 (Activation)      (None, 16, 16, 32)   0           add_24[0][0]                     \n",
      "__________________________________________________________________________________________________\n",
      "conv2d_57 (Conv2D)              (None, 8, 8, 64)     18496       activation_51[0][0]              \n",
      "__________________________________________________________________________________________________\n",
      "activation_52 (Activation)      (None, 8, 8, 64)     0           conv2d_57[0][0]                  \n",
      "__________________________________________________________________________________________________\n",
      "conv2d_59 (Conv2D)              (None, 8, 8, 64)     2112        activation_51[0][0]              \n",
      "__________________________________________________________________________________________________\n",
      "conv2d_58 (Conv2D)              (None, 8, 8, 64)     36928       activation_52[0][0]              \n",
      "__________________________________________________________________________________________________\n",
      "add_25 (Add)                    (None, 8, 8, 64)     0           conv2d_59[0][0]                  \n",
      "                                                                 conv2d_58[0][0]                  \n",
      "__________________________________________________________________________________________________\n",
      "activation_53 (Activation)      (None, 8, 8, 64)     0           add_25[0][0]                     \n",
      "__________________________________________________________________________________________________\n",
      "conv2d_60 (Conv2D)              (None, 8, 8, 64)     36928       activation_53[0][0]              \n",
      "__________________________________________________________________________________________________\n",
      "activation_54 (Activation)      (None, 8, 8, 64)     0           conv2d_60[0][0]                  \n",
      "__________________________________________________________________________________________________\n",
      "conv2d_61 (Conv2D)              (None, 8, 8, 64)     36928       activation_54[0][0]              \n",
      "__________________________________________________________________________________________________\n",
      "add_26 (Add)                    (None, 8, 8, 64)     0           activation_53[0][0]              \n",
      "                                                                 conv2d_61[0][0]                  \n",
      "__________________________________________________________________________________________________\n",
      "activation_55 (Activation)      (None, 8, 8, 64)     0           add_26[0][0]                     \n",
      "__________________________________________________________________________________________________\n",
      "conv2d_62 (Conv2D)              (None, 8, 8, 64)     36928       activation_55[0][0]              \n",
      "__________________________________________________________________________________________________\n",
      "activation_56 (Activation)      (None, 8, 8, 64)     0           conv2d_62[0][0]                  \n",
      "__________________________________________________________________________________________________\n",
      "conv2d_63 (Conv2D)              (None, 8, 8, 64)     36928       activation_56[0][0]              \n",
      "__________________________________________________________________________________________________\n",
      "add_27 (Add)                    (None, 8, 8, 64)     0           activation_55[0][0]              \n",
      "                                                                 conv2d_63[0][0]                  \n",
      "__________________________________________________________________________________________________\n",
      "activation_57 (Activation)      (None, 8, 8, 64)     0           add_27[0][0]                     \n",
      "__________________________________________________________________________________________________\n",
      "average_pooling2d_3 (AveragePoo (None, 1, 1, 64)     0           activation_57[0][0]              \n",
      "__________________________________________________________________________________________________\n",
      "flatten_3 (Flatten)             (None, 64)           0           average_pooling2d_3[0][0]        \n",
      "__________________________________________________________________________________________________\n",
      "dense_3 (Dense)                 (None, 10)           650         flatten_3[0][0]                  \n",
      "==================================================================================================\n",
      "Total params: 271,690\n",
      "Trainable params: 271,690\n",
      "Non-trainable params: 0\n",
      "__________________________________________________________________________________________________\n",
      "WARNING:tensorflow:From C:\\Users\\ikarabayir\\.conda\\envs\\tf_gpu\\lib\\site-packages\\keras\\backend\\tensorflow_backend.py:133: The name tf.placeholder_with_default is deprecated. Please use tf.compat.v1.placeholder_with_default instead.\n",
      "\n"
     ]
    },
    {
     "name": "stderr",
     "output_type": "stream",
     "text": [
      "\r",
      "  0%|                                                                                                                                                                         | 0/200 [00:00<?, ?it/s]"
     ]
    },
    {
     "name": "stdout",
     "output_type": "stream",
     "text": [
      "Epoch 0\n",
      "train\n",
      "Using real-time data augmentation.\n",
      "train loss score is :2.5094804853029307\n",
      "train acc score is :0.10408669225847729\n",
      "It has been 115.40041446685791 seconds since the loop started\n",
      "test\n"
     ]
    },
    {
     "name": "stderr",
     "output_type": "stream",
     "text": [
      "\r",
      "  0%|▊                                                                                                                                                             | 1/200 [02:01<6:42:55, 121.48s/it]"
     ]
    },
    {
     "name": "stdout",
     "output_type": "stream",
     "text": [
      "test loss score is :2.4483047236268893\n",
      "test acc score is :0.09984025559105432\n",
      "Epoch 1\n",
      "train\n",
      "Using real-time data augmentation.\n",
      "train loss score is :2.3864673061852875\n",
      "train acc score is :0.14853246960972488\n",
      "It has been 110.26412224769592 seconds since the loop started\n",
      "test\n"
     ]
    },
    {
     "name": "stderr",
     "output_type": "stream",
     "text": [
      "\r",
      "  1%|█▌                                                                                                                                                            | 2/200 [03:57<6:35:28, 119.84s/it]"
     ]
    },
    {
     "name": "stdout",
     "output_type": "stream",
     "text": [
      "test loss score is :2.189787686442415\n",
      "test acc score is :0.24730431309904152\n",
      "Epoch 2\n",
      "train\n",
      "Using real-time data augmentation.\n",
      "train loss score is :1.9257564480992668\n",
      "train acc score is :0.3359924824056302\n",
      "It has been 108.4948136806488 seconds since the loop started\n",
      "test\n"
     ]
    },
    {
     "name": "stderr",
     "output_type": "stream",
     "text": [
      "\r",
      "  2%|██▎                                                                                                                                                           | 3/200 [05:51<6:28:13, 118.24s/it]"
     ]
    },
    {
     "name": "stdout",
     "output_type": "stream",
     "text": [
      "test loss score is :1.688450155928493\n",
      "test acc score is :0.42312300319488816\n",
      "Epoch 3\n",
      "train\n",
      "Using real-time data augmentation.\n",
      "train loss score is :1.7146066935185964\n",
      "train acc score is :0.42388435700575816\n",
      "It has been 105.20624923706055 seconds since the loop started\n",
      "test\n"
     ]
    },
    {
     "name": "stderr",
     "output_type": "stream",
     "text": [
      "\r",
      "  2%|███▏                                                                                                                                                          | 4/200 [07:43<6:19:18, 116.11s/it]"
     ]
    },
    {
     "name": "stdout",
     "output_type": "stream",
     "text": [
      "test loss score is :1.6046625231020748\n",
      "test acc score is :0.45517172523961663\n",
      "Epoch 4\n",
      "train\n",
      "Using real-time data augmentation.\n",
      "train loss score is :1.5622746489861037\n",
      "train acc score is :0.48648432501599487\n",
      "It has been 109.4289231300354 seconds since the loop started\n",
      "test\n"
     ]
    },
    {
     "name": "stderr",
     "output_type": "stream",
     "text": [
      "\r",
      "  2%|███▉                                                                                                                                                          | 5/200 [09:38<6:16:23, 115.81s/it]"
     ]
    },
    {
     "name": "stdout",
     "output_type": "stream",
     "text": [
      "test loss score is :1.4049045788213468\n",
      "test acc score is :0.5323482428115016\n",
      "Epoch 5\n",
      "train\n",
      "Using real-time data augmentation.\n",
      "train loss score is :1.42855087969445\n",
      "train acc score is :0.5355486244401791\n",
      "It has been 109.93940830230713 seconds since the loop started\n",
      "test\n"
     ]
    },
    {
     "name": "stderr",
     "output_type": "stream",
     "text": [
      "\r",
      "  3%|████▋                                                                                                                                                         | 6/200 [11:34<6:14:35, 115.85s/it]"
     ]
    },
    {
     "name": "stdout",
     "output_type": "stream",
     "text": [
      "test loss score is :1.5254226749697433\n",
      "test acc score is :0.5098841853035144\n",
      "Epoch 6\n",
      "train\n",
      "Using real-time data augmentation.\n",
      "train loss score is :1.3196677059526254\n",
      "train acc score is :0.5783349328214972\n",
      "It has been 109.55587315559387 seconds since the loop started\n",
      "test\n"
     ]
    },
    {
     "name": "stderr",
     "output_type": "stream",
     "text": [
      "\r",
      "  4%|█████▌                                                                                                                                                        | 7/200 [13:29<6:12:19, 115.75s/it]"
     ]
    },
    {
     "name": "stdout",
     "output_type": "stream",
     "text": [
      "test loss score is :1.2384512135015129\n",
      "test acc score is :0.6174121405750799\n",
      "Epoch 7\n",
      "train\n",
      "Using real-time data augmentation.\n",
      "train loss score is :1.2270537834860007\n",
      "train acc score is :0.6139235444657709\n",
      "It has been 108.42097592353821 seconds since the loop started\n",
      "test\n"
     ]
    },
    {
     "name": "stderr",
     "output_type": "stream",
     "text": [
      "\r",
      "  4%|██████▎                                                                                                                                                       | 8/200 [15:23<6:08:54, 115.28s/it]"
     ]
    },
    {
     "name": "stdout",
     "output_type": "stream",
     "text": [
      "test loss score is :1.2216965949383025\n",
      "test acc score is :0.6229033546325878\n",
      "Epoch 8\n",
      "train\n",
      "Using real-time data augmentation.\n",
      "train loss score is :1.1416397974114347\n",
      "train acc score is :0.6462132117722329\n",
      "It has been 104.69719743728638 seconds since the loop started\n",
      "test\n"
     ]
    },
    {
     "name": "stderr",
     "output_type": "stream",
     "text": [
      "\r",
      "  4%|███████                                                                                                                                                       | 9/200 [17:14<6:02:08, 113.76s/it]"
     ]
    },
    {
     "name": "stdout",
     "output_type": "stream",
     "text": [
      "test loss score is :1.1888224835784291\n",
      "test acc score is :0.6449680511182109\n",
      "Epoch 9\n",
      "train\n",
      "Using real-time data augmentation.\n",
      "train loss score is :1.0724512059110445\n",
      "train acc score is :0.6778430902111324\n",
      "It has been 107.13173747062683 seconds since the loop started\n",
      "test\n"
     ]
    },
    {
     "name": "stderr",
     "output_type": "stream",
     "text": [
      "\r",
      "  5%|███████▊                                                                                                                                                     | 10/200 [19:07<5:59:36, 113.56s/it]"
     ]
    },
    {
     "name": "stdout",
     "output_type": "stream",
     "text": [
      "test loss score is :1.144787547496942\n",
      "test acc score is :0.6652356230031949\n",
      "Epoch 10\n",
      "train\n",
      "Using real-time data augmentation.\n",
      "train loss score is :1.0112605003195547\n",
      "train acc score is :0.6967570377479206\n",
      "It has been 106.41570019721985 seconds since the loop started\n",
      "test\n"
     ]
    },
    {
     "name": "stderr",
     "output_type": "stream",
     "text": [
      "\r",
      "  6%|████████▋                                                                                                                                                    | 11/200 [20:59<5:56:36, 113.21s/it]"
     ]
    },
    {
     "name": "stdout",
     "output_type": "stream",
     "text": [
      "test loss score is :1.0599514305020292\n",
      "test acc score is :0.6951876996805112\n",
      "Epoch 11\n",
      "train\n",
      "Using real-time data augmentation.\n",
      "train loss score is :0.9606629314135834\n",
      "train acc score is :0.7191898592450416\n",
      "It has been 107.68009281158447 seconds since the loop started\n",
      "test\n"
     ]
    },
    {
     "name": "stderr",
     "output_type": "stream",
     "text": [
      "\r",
      "  6%|█████████▍                                                                                                                                                   | 12/200 [22:53<5:55:06, 113.33s/it]"
     ]
    },
    {
     "name": "stdout",
     "output_type": "stream",
     "text": [
      "test loss score is :1.2614417967324059\n",
      "test acc score is :0.6206070287539937\n",
      "Epoch 12\n",
      "train\n",
      "Using real-time data augmentation.\n",
      "train loss score is :0.9262183638467136\n",
      "train acc score is :0.7328055022392834\n",
      "It has been 109.08267831802368 seconds since the loop started\n",
      "test\n"
     ]
    },
    {
     "name": "stderr",
     "output_type": "stream",
     "text": [
      "\r",
      "  6%|██████████▏                                                                                                                                                  | 13/200 [24:48<5:54:53, 113.87s/it]"
     ]
    },
    {
     "name": "stdout",
     "output_type": "stream",
     "text": [
      "test loss score is :1.1510704957639066\n",
      "test acc score is :0.669129392971246\n",
      "Epoch 13\n",
      "train\n",
      "Using real-time data augmentation.\n",
      "train loss score is :0.8908079555037688\n",
      "train acc score is :0.7426423544465771\n",
      "It has been 107.24670743942261 seconds since the loop started\n",
      "test\n"
     ]
    },
    {
     "name": "stderr",
     "output_type": "stream",
     "text": [
      "\r",
      "  7%|██████████▉                                                                                                                                                  | 14/200 [26:41<5:52:06, 113.58s/it]"
     ]
    },
    {
     "name": "stdout",
     "output_type": "stream",
     "text": [
      "test loss score is :0.9875944729049366\n",
      "test acc score is :0.7175519169329073\n",
      "Epoch 14\n",
      "train\n",
      "Using real-time data augmentation.\n",
      "train loss score is :0.8565142906139237\n",
      "train acc score is :0.7567178502879078\n",
      "It has been 106.29344606399536 seconds since the loop started\n",
      "test\n"
     ]
    },
    {
     "name": "stderr",
     "output_type": "stream",
     "text": [
      "\r",
      "  8%|███████████▊                                                                                                                                                 | 15/200 [28:33<5:49:02, 113.20s/it]"
     ]
    },
    {
     "name": "stdout",
     "output_type": "stream",
     "text": [
      "test loss score is :0.8677017212199708\n",
      "test acc score is :0.7528953674121406\n",
      "Epoch 15\n",
      "train\n",
      "Using real-time data augmentation.\n",
      "train loss score is :0.838169809990942\n",
      "train acc score is :0.7651951375559821\n",
      "It has been 105.4372444152832 seconds since the loop started\n",
      "test\n"
     ]
    },
    {
     "name": "stderr",
     "output_type": "stream",
     "text": [
      "\r",
      "  8%|████████████▌                                                                                                                                                | 16/200 [30:24<5:45:23, 112.63s/it]"
     ]
    },
    {
     "name": "stdout",
     "output_type": "stream",
     "text": [
      "test loss score is :0.8539618538400997\n",
      "test acc score is :0.7624800319488818\n",
      "Epoch 16\n",
      "train\n",
      "Using real-time data augmentation.\n",
      "train loss score is :0.813313367613904\n",
      "train acc score is :0.773652431222009\n",
      "It has been 106.50425219535828 seconds since the loop started\n",
      "test\n"
     ]
    },
    {
     "name": "stderr",
     "output_type": "stream",
     "text": [
      "\r",
      "  8%|█████████████▎                                                                                                                                               | 17/200 [32:17<5:43:16, 112.55s/it]"
     ]
    },
    {
     "name": "stdout",
     "output_type": "stream",
     "text": [
      "test loss score is :0.8346875167121521\n",
      "test acc score is :0.7668730031948882\n",
      "Epoch 17\n",
      "train\n",
      "Using real-time data augmentation.\n",
      "train loss score is :0.800387572094331\n",
      "train acc score is :0.775631797824696\n",
      "It has been 105.17480516433716 seconds since the loop started\n",
      "test\n"
     ]
    },
    {
     "name": "stderr",
     "output_type": "stream",
     "text": [
      "\r",
      "  9%|██████████████▏                                                                                                                                              | 18/200 [34:08<5:39:56, 112.07s/it]"
     ]
    },
    {
     "name": "stdout",
     "output_type": "stream",
     "text": [
      "test loss score is :0.9083871897607566\n",
      "test acc score is :0.7538937699680511\n",
      "Epoch 18\n",
      "train\n",
      "Using real-time data augmentation.\n",
      "train loss score is :0.777258228622639\n",
      "train acc score is :0.7873480486244402\n",
      "It has been 105.32652282714844 seconds since the loop started\n",
      "test\n"
     ]
    },
    {
     "name": "stderr",
     "output_type": "stream",
     "text": [
      "\r",
      " 10%|██████████████▉                                                                                                                                              | 19/200 [35:59<5:37:18, 111.81s/it]"
     ]
    },
    {
     "name": "stdout",
     "output_type": "stream",
     "text": [
      "test loss score is :0.8820924502782548\n",
      "test acc score is :0.7527955271565495\n",
      "Epoch 19\n",
      "train\n",
      "Using real-time data augmentation.\n",
      "train loss score is :0.7635761758149319\n",
      "train acc score is :0.7914067498400512\n",
      "It has been 107.78040075302124 seconds since the loop started\n",
      "test\n"
     ]
    },
    {
     "name": "stderr",
     "output_type": "stream",
     "text": [
      "\r",
      " 10%|███████████████▋                                                                                                                                             | 20/200 [37:52<5:36:46, 112.26s/it]"
     ]
    },
    {
     "name": "stdout",
     "output_type": "stream",
     "text": [
      "test loss score is :0.8207317205092397\n",
      "test acc score is :0.783047124600639\n",
      "Epoch 20\n",
      "train\n",
      "Using real-time data augmentation.\n",
      "train loss score is :0.7505520920645177\n",
      "train acc score is :0.7971449136276392\n",
      "It has been 105.24942278862 seconds since the loop started\n",
      "test\n"
     ]
    },
    {
     "name": "stderr",
     "output_type": "stream",
     "text": [
      "\r",
      " 10%|████████████████▍                                                                                                                                            | 21/200 [39:43<5:33:56, 111.94s/it]"
     ]
    },
    {
     "name": "stdout",
     "output_type": "stream",
     "text": [
      "test loss score is :0.9728616875010176\n",
      "test acc score is :0.7318290734824281\n",
      "Epoch 21\n",
      "train\n",
      "Using real-time data augmentation.\n",
      "train loss score is :0.7376725114047794\n",
      "train acc score is :0.8023432501599488\n",
      "It has been 105.4795777797699 seconds since the loop started\n",
      "test\n"
     ]
    },
    {
     "name": "stderr",
     "output_type": "stream",
     "text": [
      "\r",
      " 11%|█████████████████▎                                                                                                                                           | 22/200 [41:35<5:31:34, 111.77s/it]"
     ]
    },
    {
     "name": "stdout",
     "output_type": "stream",
     "text": [
      "test loss score is :0.8607684518582523\n",
      "test acc score is :0.7691693290734825\n",
      "Epoch 22\n",
      "train\n",
      "Using real-time data augmentation.\n",
      "train loss score is :0.7223342259915608\n",
      "train acc score is :0.8080214331413947\n",
      "It has been 108.26455760002136 seconds since the loop started\n",
      "test\n"
     ]
    },
    {
     "name": "stderr",
     "output_type": "stream",
     "text": [
      "\r",
      " 12%|██████████████████                                                                                                                                           | 23/200 [43:29<5:31:47, 112.47s/it]"
     ]
    },
    {
     "name": "stdout",
     "output_type": "stream",
     "text": [
      "test loss score is :0.9075432861574922\n",
      "test acc score is :0.7596845047923323\n",
      "Epoch 23\n",
      "train\n",
      "Using real-time data augmentation.\n",
      "train loss score is :0.7150580022705723\n",
      "train acc score is :0.811340371081254\n",
      "It has been 105.57236456871033 seconds since the loop started\n",
      "test\n"
     ]
    },
    {
     "name": "stderr",
     "output_type": "stream",
     "text": [
      "\r",
      " 12%|██████████████████▊                                                                                                                                          | 24/200 [45:20<5:29:04, 112.19s/it]"
     ]
    },
    {
     "name": "stdout",
     "output_type": "stream",
     "text": [
      "test loss score is :0.8261442228723258\n",
      "test acc score is :0.7761581469648562\n",
      "Epoch 24\n",
      "train\n",
      "Using real-time data augmentation.\n",
      "train loss score is :0.7040265101655813\n",
      "train acc score is :0.8147992642354447\n",
      "It has been 105.52686333656311 seconds since the loop started\n",
      "test\n"
     ]
    },
    {
     "name": "stderr",
     "output_type": "stream",
     "text": [
      "\r",
      " 12%|███████████████████▋                                                                                                                                         | 25/200 [47:12<5:26:32, 111.96s/it]"
     ]
    },
    {
     "name": "stdout",
     "output_type": "stream",
     "text": [
      "test loss score is :0.8494089496211884\n",
      "test acc score is :0.7846445686900958\n",
      "Epoch 25\n",
      "train\n",
      "Using real-time data augmentation.\n",
      "train loss score is :0.6981015235509769\n",
      "train acc score is :0.8156389955214332\n",
      "It has been 106.76387763023376 seconds since the loop started\n",
      "test\n"
     ]
    },
    {
     "name": "stderr",
     "output_type": "stream",
     "text": [
      "\r",
      " 13%|████████████████████▍                                                                                                                                        | 26/200 [49:04<5:25:09, 112.12s/it]"
     ]
    },
    {
     "name": "stdout",
     "output_type": "stream",
     "text": [
      "test loss score is :0.7835334859336146\n",
      "test acc score is :0.7933306709265175\n",
      "Epoch 26\n",
      "train\n",
      "Using real-time data augmentation.\n",
      "train loss score is :0.6841684393942242\n",
      "train acc score is :0.8220769353806782\n",
      "It has been 107.19271731376648 seconds since the loop started\n",
      "test\n"
     ]
    },
    {
     "name": "stderr",
     "output_type": "stream",
     "text": [
      "\r",
      " 14%|█████████████████████▏                                                                                                                                       | 27/200 [50:57<5:24:11, 112.44s/it]"
     ]
    },
    {
     "name": "stdout",
     "output_type": "stream",
     "text": [
      "test loss score is :0.8014151159757242\n",
      "test acc score is :0.7954273162939297\n",
      "Epoch 27\n",
      "train\n",
      "Using real-time data augmentation.\n",
      "train loss score is :0.674527191974685\n",
      "train acc score is :0.8252159309021113\n",
      "It has been 106.6640875339508 seconds since the loop started\n",
      "test\n"
     ]
    },
    {
     "name": "stderr",
     "output_type": "stream",
     "text": [
      "\r",
      " 14%|█████████████████████▉                                                                                                                                       | 28/200 [52:50<5:22:16, 112.42s/it]"
     ]
    },
    {
     "name": "stdout",
     "output_type": "stream",
     "text": [
      "test loss score is :0.7444083955341254\n",
      "test acc score is :0.8046126198083067\n",
      "Epoch 28\n",
      "train\n",
      "Using real-time data augmentation.\n",
      "train loss score is :0.6706057099562307\n",
      "train acc score is :0.8277751119641714\n",
      "It has been 107.33397841453552 seconds since the loop started\n",
      "test\n"
     ]
    },
    {
     "name": "stderr",
     "output_type": "stream",
     "text": [
      "\r",
      " 14%|██████████████████████▊                                                                                                                                      | 29/200 [54:43<5:21:04, 112.66s/it]"
     ]
    },
    {
     "name": "stdout",
     "output_type": "stream",
     "text": [
      "test loss score is :0.7545021612423296\n",
      "test acc score is :0.8035143769968051\n",
      "Epoch 29\n",
      "train\n",
      "Using real-time data augmentation.\n",
      "train loss score is :0.6664958185708759\n",
      "train acc score is :0.830414267434421\n",
      "It has been 108.28867936134338 seconds since the loop started\n",
      "test\n"
     ]
    },
    {
     "name": "stderr",
     "output_type": "stream",
     "text": [
      "\r",
      " 15%|███████████████████████▌                                                                                                                                     | 30/200 [56:37<5:20:31, 113.13s/it]"
     ]
    },
    {
     "name": "stdout",
     "output_type": "stream",
     "text": [
      "test loss score is :0.7465696573828737\n",
      "test acc score is :0.8086062300319489\n",
      "Epoch 30\n",
      "train\n",
      "Using real-time data augmentation.\n",
      "train loss score is :0.6629410662943938\n",
      "train acc score is :0.8292146513115803\n",
      "It has been 106.1999888420105 seconds since the loop started\n",
      "test\n"
     ]
    },
    {
     "name": "stderr",
     "output_type": "stream",
     "text": [
      "\r",
      " 16%|████████████████████████▎                                                                                                                                    | 31/200 [58:29<5:17:49, 112.84s/it]"
     ]
    },
    {
     "name": "stdout",
     "output_type": "stream",
     "text": [
      "test loss score is :0.8389291738549741\n",
      "test acc score is :0.7834464856230032\n",
      "Epoch 31\n",
      "train\n",
      "Using real-time data augmentation.\n",
      "train loss score is :0.6559960681775863\n",
      "train acc score is :0.8318338131797824\n",
      "It has been 104.74901795387268 seconds since the loop started\n",
      "test\n"
     ]
    },
    {
     "name": "stderr",
     "output_type": "stream",
     "text": [
      "\r",
      " 16%|████████████████████████▊                                                                                                                                  | 32/200 [1:00:20<5:14:03, 112.16s/it]"
     ]
    },
    {
     "name": "stdout",
     "output_type": "stream",
     "text": [
      "test loss score is :0.7472999146380744\n",
      "test acc score is :0.8096046325878594\n",
      "Epoch 32\n",
      "train\n",
      "Using real-time data augmentation.\n",
      "train loss score is :0.6503540655777993\n",
      "train acc score is :0.8357325655790148\n",
      "It has been 106.60747599601746 seconds since the loop started\n",
      "test\n"
     ]
    },
    {
     "name": "stderr",
     "output_type": "stream",
     "text": [
      "\r",
      " 16%|█████████████████████████▌                                                                                                                                 | 33/200 [1:02:13<5:12:26, 112.26s/it]"
     ]
    },
    {
     "name": "stdout",
     "output_type": "stream",
     "text": [
      "test loss score is :0.7870371228399368\n",
      "test acc score is :0.7968250798722045\n",
      "Epoch 33\n",
      "train\n",
      "Using real-time data augmentation.\n",
      "train loss score is :0.6433465106702354\n",
      "train acc score is :0.8381917786308382\n",
      "It has been 105.66075110435486 seconds since the loop started\n",
      "test\n"
     ]
    },
    {
     "name": "stderr",
     "output_type": "stream",
     "text": [
      "\r",
      " 17%|██████████████████████████▎                                                                                                                                | 34/200 [1:04:04<5:09:59, 112.05s/it]"
     ]
    },
    {
     "name": "stdout",
     "output_type": "stream",
     "text": [
      "test loss score is :0.7127588638863244\n",
      "test acc score is :0.8221845047923323\n",
      "Epoch 34\n",
      "train\n",
      "Using real-time data augmentation.\n",
      "train loss score is :0.6320588934024938\n",
      "train acc score is :0.8401511516314779\n",
      "It has been 109.14597797393799 seconds since the loop started\n",
      "test\n"
     ]
    },
    {
     "name": "stderr",
     "output_type": "stream",
     "text": [
      "\r",
      " 18%|███████████████████████████▏                                                                                                                               | 35/200 [1:05:59<5:10:40, 112.98s/it]"
     ]
    },
    {
     "name": "stdout",
     "output_type": "stream",
     "text": [
      "test loss score is :0.8545491833465929\n",
      "test acc score is :0.7857428115015974\n",
      "Epoch 35\n",
      "train\n",
      "Using real-time data augmentation.\n",
      "train loss score is :0.6290503832978159\n",
      "train acc score is :0.8452895073576455\n",
      "It has been 109.32911038398743 seconds since the loop started\n",
      "test\n"
     ]
    },
    {
     "name": "stderr",
     "output_type": "stream",
     "text": [
      "\r",
      " 18%|███████████████████████████▉                                                                                                                               | 36/200 [1:07:54<5:10:33, 113.62s/it]"
     ]
    },
    {
     "name": "stdout",
     "output_type": "stream",
     "text": [
      "test loss score is :0.7165149507431177\n",
      "test acc score is :0.8205870607028753\n",
      "Epoch 36\n",
      "train\n",
      "Using real-time data augmentation.\n",
      "train loss score is :0.6258250866478555\n",
      "train acc score is :0.8447496801023673\n",
      "It has been 109.70063662528992 seconds since the loop started\n",
      "test\n"
     ]
    },
    {
     "name": "stderr",
     "output_type": "stream",
     "text": [
      "\r",
      " 18%|████████████████████████████▋                                                                                                                              | 37/200 [1:09:50<5:10:05, 114.15s/it]"
     ]
    },
    {
     "name": "stdout",
     "output_type": "stream",
     "text": [
      "test loss score is :0.7235252230692977\n",
      "test acc score is :0.8202875399361023\n",
      "Epoch 37\n",
      "train\n",
      "Using real-time data augmentation.\n",
      "train loss score is :0.6231756425216575\n",
      "train acc score is :0.846769033909149\n",
      "It has been 109.12211751937866 seconds since the loop started\n",
      "test\n"
     ]
    },
    {
     "name": "stderr",
     "output_type": "stream",
     "text": [
      "\r",
      " 19%|█████████████████████████████▍                                                                                                                             | 38/200 [1:11:45<5:08:47, 114.37s/it]"
     ]
    },
    {
     "name": "stdout",
     "output_type": "stream",
     "text": [
      "test loss score is :0.7868704216929671\n",
      "test acc score is :0.8006190095846646\n",
      "Epoch 38\n",
      "train\n",
      "Using real-time data augmentation.\n",
      "train loss score is :0.6172698757927615\n",
      "train acc score is :0.848328534868842\n",
      "It has been 105.61012029647827 seconds since the loop started\n",
      "test\n"
     ]
    },
    {
     "name": "stderr",
     "output_type": "stream",
     "text": [
      "\r",
      " 20%|██████████████████████████████▏                                                                                                                            | 39/200 [1:13:36<5:04:33, 113.50s/it]"
     ]
    },
    {
     "name": "stdout",
     "output_type": "stream",
     "text": [
      "test loss score is :0.7792046920369609\n",
      "test acc score is :0.81060303514377\n",
      "Epoch 39\n",
      "train\n",
      "Using real-time data augmentation.\n",
      "train loss score is :0.6113115128461016\n",
      "train acc score is :0.8514475367882278\n",
      "It has been 109.99500489234924 seconds since the loop started\n",
      "test\n"
     ]
    },
    {
     "name": "stderr",
     "output_type": "stream",
     "text": [
      "\r",
      " 20%|███████████████████████████████                                                                                                                            | 40/200 [1:15:32<5:04:33, 114.21s/it]"
     ]
    },
    {
     "name": "stdout",
     "output_type": "stream",
     "text": [
      "test loss score is :0.7069218334869836\n",
      "test acc score is :0.8191892971246006\n",
      "Epoch 40\n",
      "train\n",
      "Using real-time data augmentation.\n",
      "train loss score is :0.6067388946344208\n",
      "train acc score is :0.8515475047984645\n",
      "It has been 112.57430124282837 seconds since the loop started\n",
      "test\n"
     ]
    },
    {
     "name": "stderr",
     "output_type": "stream",
     "text": [
      "\r",
      " 20%|███████████████████████████████▊                                                                                                                           | 41/200 [1:17:31<5:06:09, 115.53s/it]"
     ]
    },
    {
     "name": "stdout",
     "output_type": "stream",
     "text": [
      "test loss score is :0.8398149917110468\n",
      "test acc score is :0.7875399361022364\n",
      "Epoch 41\n",
      "train\n",
      "Using real-time data augmentation.\n",
      "train loss score is :0.6112335612776946\n",
      "train acc score is :0.8514875239923224\n",
      "It has been 110.73315334320068 seconds since the loop started\n",
      "test\n"
     ]
    },
    {
     "name": "stderr",
     "output_type": "stream",
     "text": [
      "\r",
      " 21%|████████████████████████████████▌                                                                                                                          | 42/200 [1:19:27<5:05:06, 115.86s/it]"
     ]
    },
    {
     "name": "stdout",
     "output_type": "stream",
     "text": [
      "test loss score is :0.6937237123902232\n",
      "test acc score is :0.8287739616613419\n",
      "Epoch 42\n",
      "train\n",
      "Using real-time data augmentation.\n",
      "train loss score is :0.6075761537195701\n",
      "train acc score is :0.8544865642994242\n",
      "It has been 111.80486106872559 seconds since the loop started\n",
      "test\n"
     ]
    },
    {
     "name": "stderr",
     "output_type": "stream",
     "text": [
      "\r",
      " 22%|█████████████████████████████████▎                                                                                                                         | 43/200 [1:21:25<5:04:37, 116.42s/it]"
     ]
    },
    {
     "name": "stdout",
     "output_type": "stream",
     "text": [
      "test loss score is :0.6995975408976832\n",
      "test acc score is :0.8368610223642172\n",
      "Epoch 43\n",
      "train\n",
      "Using real-time data augmentation.\n",
      "train loss score is :0.600689303032191\n",
      "train acc score is :0.8551663467690339\n",
      "It has been 110.68699359893799 seconds since the loop started\n",
      "test\n"
     ]
    },
    {
     "name": "stderr",
     "output_type": "stream",
     "text": [
      "\r",
      " 22%|██████████████████████████████████                                                                                                                         | 44/200 [1:23:22<5:02:49, 116.47s/it]"
     ]
    },
    {
     "name": "stdout",
     "output_type": "stream",
     "text": [
      "test loss score is :0.6988291182933143\n",
      "test acc score is :0.827276357827476\n",
      "Epoch 44\n",
      "train\n",
      "Using real-time data augmentation.\n",
      "train loss score is :0.603425617372082\n",
      "train acc score is :0.8558861164427384\n",
      "It has been 107.20147657394409 seconds since the loop started\n",
      "test\n"
     ]
    },
    {
     "name": "stderr",
     "output_type": "stream",
     "text": [
      "\r",
      " 22%|██████████████████████████████████▉                                                                                                                        | 45/200 [1:25:15<4:58:16, 115.46s/it]"
     ]
    },
    {
     "name": "stdout",
     "output_type": "stream",
     "text": [
      "test loss score is :0.6991159779766497\n",
      "test acc score is :0.825379392971246\n",
      "Epoch 45\n",
      "train\n",
      "Using real-time data augmentation.\n",
      "train loss score is :0.6010956766699952\n",
      "train acc score is :0.8563459692898272\n",
      "It has been 106.59838247299194 seconds since the loop started\n",
      "test\n"
     ]
    },
    {
     "name": "stderr",
     "output_type": "stream",
     "text": [
      "\r",
      " 23%|███████████████████████████████████▋                                                                                                                       | 46/200 [1:27:07<4:54:05, 114.58s/it]"
     ]
    },
    {
     "name": "stdout",
     "output_type": "stream",
     "text": [
      "test loss score is :0.6881071363394253\n",
      "test acc score is :0.8351637380191693\n",
      "Epoch 46\n",
      "train\n",
      "Using real-time data augmentation.\n",
      "train loss score is :0.5905955665895593\n",
      "train acc score is :0.8595049584133078\n",
      "It has been 105.74822640419006 seconds since the loop started\n",
      "test\n"
     ]
    },
    {
     "name": "stderr",
     "output_type": "stream",
     "text": [
      "\r",
      " 24%|████████████████████████████████████▍                                                                                                                      | 47/200 [1:28:59<4:49:51, 113.67s/it]"
     ]
    },
    {
     "name": "stdout",
     "output_type": "stream",
     "text": [
      "test loss score is :0.7619682852262125\n",
      "test acc score is :0.8164936102236422\n",
      "Epoch 47\n",
      "train\n",
      "Using real-time data augmentation.\n",
      "train loss score is :0.5882941396359976\n",
      "train acc score is :0.8608445297504799\n",
      "It has been 106.6395890712738 seconds since the loop started\n",
      "test\n"
     ]
    },
    {
     "name": "stderr",
     "output_type": "stream",
     "text": [
      "\r",
      " 24%|█████████████████████████████████████▏                                                                                                                     | 48/200 [1:30:51<4:47:03, 113.31s/it]"
     ]
    },
    {
     "name": "stdout",
     "output_type": "stream",
     "text": [
      "test loss score is :0.6987413371713779\n",
      "test acc score is :0.8313698083067093\n",
      "Epoch 48\n",
      "train\n",
      "Using real-time data augmentation.\n",
      "train loss score is :0.5880741819462865\n",
      "train acc score is :0.8613443698016635\n",
      "It has been 107.7340042591095 seconds since the loop started\n",
      "test\n"
     ]
    },
    {
     "name": "stderr",
     "output_type": "stream",
     "text": [
      "\r",
      " 24%|█████████████████████████████████████▉                                                                                                                     | 49/200 [1:32:45<4:45:27, 113.43s/it]"
     ]
    },
    {
     "name": "stdout",
     "output_type": "stream",
     "text": [
      "test loss score is :0.8394482125299045\n",
      "test acc score is :0.7913338658146964\n",
      "Epoch 49\n",
      "train\n",
      "Using real-time data augmentation.\n",
      "train loss score is :0.5898759840050342\n",
      "train acc score is :0.861024472168906\n",
      "It has been 107.46037006378174 seconds since the loop started\n",
      "test\n"
     ]
    },
    {
     "name": "stderr",
     "output_type": "stream",
     "text": [
      "\r",
      " 25%|██████████████████████████████████████▊                                                                                                                    | 50/200 [1:34:38<4:43:27, 113.39s/it]"
     ]
    },
    {
     "name": "stdout",
     "output_type": "stream",
     "text": [
      "test loss score is :0.754659682131423\n",
      "test acc score is :0.8199880191693291\n",
      "Epoch 50\n",
      "train\n",
      "Using real-time data augmentation.\n",
      "train loss score is :0.5860435659219574\n",
      "train acc score is :0.8626439539347409\n",
      "It has been 109.20534300804138 seconds since the loop started\n",
      "test\n"
     ]
    },
    {
     "name": "stderr",
     "output_type": "stream",
     "text": [
      "\r",
      " 26%|███████████████████████████████████████▌                                                                                                                   | 51/200 [1:36:33<4:42:44, 113.85s/it]"
     ]
    },
    {
     "name": "stdout",
     "output_type": "stream",
     "text": [
      "test loss score is :0.7699764396150273\n",
      "test acc score is :0.8108027156549521\n",
      "Epoch 51\n",
      "train\n",
      "Using real-time data augmentation.\n",
      "train loss score is :0.5859375554098202\n",
      "train acc score is :0.8639635316698656\n",
      "It has been 110.41316175460815 seconds since the loop started\n",
      "test\n"
     ]
    },
    {
     "name": "stderr",
     "output_type": "stream",
     "text": [
      "\r",
      " 26%|████████████████████████████████████████▎                                                                                                                  | 52/200 [1:38:29<4:42:28, 114.52s/it]"
     ]
    },
    {
     "name": "stdout",
     "output_type": "stream",
     "text": [
      "test loss score is :0.7804776436795061\n",
      "test acc score is :0.8112020766773163\n",
      "Epoch 52\n",
      "train\n",
      "Using real-time data augmentation.\n",
      "train loss score is :0.5823265970973578\n",
      "train acc score is :0.865143154190659\n",
      "It has been 110.36980247497559 seconds since the loop started\n",
      "test\n"
     ]
    },
    {
     "name": "stderr",
     "output_type": "stream",
     "text": [
      "\r",
      " 26%|█████████████████████████████████████████                                                                                                                  | 53/200 [1:40:25<4:41:51, 115.04s/it]"
     ]
    },
    {
     "name": "stdout",
     "output_type": "stream",
     "text": [
      "test loss score is :0.6742619417917234\n",
      "test acc score is :0.8395567092651757\n",
      "Epoch 53\n",
      "train\n",
      "Using real-time data augmentation.\n",
      "train loss score is :0.576778537423963\n",
      "train acc score is :0.8661228406909789\n",
      "It has been 108.9442548751831 seconds since the loop started\n",
      "test\n"
     ]
    },
    {
     "name": "stderr",
     "output_type": "stream",
     "text": [
      "\r",
      " 27%|█████████████████████████████████████████▊                                                                                                                 | 54/200 [1:42:20<4:39:44, 114.96s/it]"
     ]
    },
    {
     "name": "stdout",
     "output_type": "stream",
     "text": [
      "test loss score is :0.7091257941132536\n",
      "test acc score is :0.8334664536741214\n",
      "Epoch 54\n",
      "train\n",
      "Using real-time data augmentation.\n",
      "train loss score is :0.5753377909204247\n",
      "train acc score is :0.867462412028151\n",
      "It has been 108.19088935852051 seconds since the loop started\n",
      "test\n"
     ]
    },
    {
     "name": "stderr",
     "output_type": "stream",
     "text": [
      "\r",
      " 28%|██████████████████████████████████████████▋                                                                                                                | 55/200 [1:44:14<4:37:04, 114.65s/it]"
     ]
    },
    {
     "name": "stdout",
     "output_type": "stream",
     "text": [
      "test loss score is :0.6713535600481704\n",
      "test acc score is :0.8399560702875399\n",
      "Epoch 55\n",
      "train\n",
      "Using real-time data augmentation.\n",
      "train loss score is :0.5719878760882089\n",
      "train acc score is :0.8685020793346129\n",
      "It has been 109.70481872558594 seconds since the loop started\n",
      "test\n"
     ]
    },
    {
     "name": "stderr",
     "output_type": "stream",
     "text": [
      "\r",
      " 28%|███████████████████████████████████████████▍                                                                                                               | 56/200 [1:46:10<4:35:50, 114.94s/it]"
     ]
    },
    {
     "name": "stdout",
     "output_type": "stream",
     "text": [
      "test loss score is :0.8082437255321601\n",
      "test acc score is :0.8140974440894568\n",
      "Epoch 56\n",
      "train\n",
      "Using real-time data augmentation.\n",
      "train loss score is :0.5741809431990217\n",
      "train acc score is :0.8689419385796545\n",
      "It has been 107.80457258224487 seconds since the loop started\n",
      "test\n"
     ]
    },
    {
     "name": "stderr",
     "output_type": "stream",
     "text": [
      "\r",
      " 28%|████████████████████████████████████████████▏                                                                                                              | 57/200 [1:48:03<4:33:06, 114.59s/it]"
     ]
    },
    {
     "name": "stdout",
     "output_type": "stream",
     "text": [
      "test loss score is :0.8998294445082021\n",
      "test acc score is :0.7910343450479234\n",
      "Epoch 57\n",
      "train\n",
      "Using real-time data augmentation.\n",
      "train loss score is :0.5726895813406543\n",
      "train acc score is :0.8679422584772872\n",
      "It has been 107.00290083885193 seconds since the loop started\n",
      "test\n"
     ]
    },
    {
     "name": "stderr",
     "output_type": "stream",
     "text": [
      "\r",
      " 29%|████████████████████████████████████████████▉                                                                                                              | 58/200 [1:49:56<4:29:46, 113.99s/it]"
     ]
    },
    {
     "name": "stdout",
     "output_type": "stream",
     "text": [
      "test loss score is :0.7632742919289647\n",
      "test acc score is :0.8258785942492013\n",
      "Epoch 58\n",
      "train\n",
      "Using real-time data augmentation.\n",
      "train loss score is :0.5685388991086054\n",
      "train acc score is :0.8706214011516314\n",
      "It has been 107.2869713306427 seconds since the loop started\n",
      "test\n"
     ]
    },
    {
     "name": "stderr",
     "output_type": "stream",
     "text": [
      "\r",
      " 30%|█████████████████████████████████████████████▋                                                                                                             | 59/200 [1:51:49<4:27:12, 113.71s/it]"
     ]
    },
    {
     "name": "stdout",
     "output_type": "stream",
     "text": [
      "test loss score is :0.8191347015551484\n",
      "test acc score is :0.8065095846645367\n",
      "Epoch 59\n",
      "train\n",
      "Using real-time data augmentation.\n",
      "train loss score is :0.5656701478432633\n",
      "train acc score is :0.870881317978247\n",
      "It has been 106.81632852554321 seconds since the loop started\n",
      "test\n"
     ]
    },
    {
     "name": "stderr",
     "output_type": "stream",
     "text": [
      "\r",
      " 30%|██████████████████████████████████████████████▌                                                                                                            | 60/200 [1:53:42<4:24:36, 113.40s/it]"
     ]
    },
    {
     "name": "stdout",
     "output_type": "stream",
     "text": [
      "test loss score is :0.7381958151206421\n",
      "test acc score is :0.8231829073482428\n",
      "Epoch 60\n",
      "train\n",
      "Using real-time data augmentation.\n",
      "train loss score is :0.570894760290019\n",
      "train acc score is :0.8694417786308382\n",
      "It has been 111.01982116699219 seconds since the loop started\n",
      "test\n"
     ]
    },
    {
     "name": "stderr",
     "output_type": "stream",
     "text": [
      "\r",
      " 30%|███████████████████████████████████████████████▎                                                                                                           | 61/200 [1:55:39<4:25:10, 114.47s/it]"
     ]
    },
    {
     "name": "stdout",
     "output_type": "stream",
     "text": [
      "test loss score is :0.6860735239312291\n",
      "test acc score is :0.8343650159744409\n",
      "Epoch 61\n",
      "train\n",
      "Using real-time data augmentation.\n",
      "train loss score is :0.5674573231300176\n",
      "train acc score is :0.8713811580294306\n",
      "It has been 109.810546875 seconds since the loop started\n",
      "test\n"
     ]
    },
    {
     "name": "stderr",
     "output_type": "stream",
     "text": [
      "\r",
      " 31%|████████████████████████████████████████████████                                                                                                           | 62/200 [1:57:35<4:24:11, 114.86s/it]"
     ]
    },
    {
     "name": "stdout",
     "output_type": "stream",
     "text": [
      "test loss score is :0.6932577912609417\n",
      "test acc score is :0.8347643769968051\n",
      "Epoch 62\n",
      "train\n",
      "Using real-time data augmentation.\n",
      "train loss score is :0.566817148385411\n",
      "train acc score is :0.8712611964171465\n",
      "It has been 108.71392607688904 seconds since the loop started\n",
      "test\n"
     ]
    },
    {
     "name": "stderr",
     "output_type": "stream",
     "text": [
      "\r",
      " 32%|████████████████████████████████████████████████▊                                                                                                          | 63/200 [1:59:29<4:22:04, 114.78s/it]"
     ]
    },
    {
     "name": "stdout",
     "output_type": "stream",
     "text": [
      "test loss score is :0.700854726111927\n",
      "test acc score is :0.840055910543131\n",
      "Epoch 63\n",
      "train\n",
      "Using real-time data augmentation.\n",
      "train loss score is :0.5601448907504384\n",
      "train acc score is :0.8730806142034548\n",
      "It has been 108.65374398231506 seconds since the loop started\n",
      "test\n"
     ]
    },
    {
     "name": "stderr",
     "output_type": "stream",
     "text": [
      "\r",
      " 32%|█████████████████████████████████████████████████▌                                                                                                         | 64/200 [2:01:24<4:20:00, 114.71s/it]"
     ]
    },
    {
     "name": "stdout",
     "output_type": "stream",
     "text": [
      "test loss score is :1.1571180142533666\n",
      "test acc score is :0.7506988817891374\n",
      "Epoch 64\n",
      "train\n",
      "Using real-time data augmentation.\n",
      "train loss score is :0.5601606794030561\n",
      "train acc score is :0.8746801023672425\n",
      "It has been 104.06365370750427 seconds since the loop started\n",
      "test\n"
     ]
    },
    {
     "name": "stderr",
     "output_type": "stream",
     "text": [
      "\r",
      " 32%|██████████████████████████████████████████████████▍                                                                                                        | 65/200 [2:03:14<4:14:49, 113.26s/it]"
     ]
    },
    {
     "name": "stdout",
     "output_type": "stream",
     "text": [
      "test loss score is :0.818087252184225\n",
      "test acc score is :0.8125998402555911\n",
      "Epoch 65\n",
      "train\n",
      "Using real-time data augmentation.\n",
      "train loss score is :0.5577159710824299\n",
      "train acc score is :0.874360204734485\n",
      "It has been 107.11299657821655 seconds since the loop started\n",
      "test\n"
     ]
    },
    {
     "name": "stderr",
     "output_type": "stream",
     "text": [
      "\r",
      " 33%|███████████████████████████████████████████████████▏                                                                                                       | 66/200 [2:05:06<4:12:39, 113.13s/it]"
     ]
    },
    {
     "name": "stdout",
     "output_type": "stream",
     "text": [
      "test loss score is :0.7601288003852954\n",
      "test acc score is :0.8187899361022364\n",
      "Epoch 66\n",
      "train\n",
      "Using real-time data augmentation.\n",
      "train loss score is :0.5587236849318234\n",
      "train acc score is :0.8750199936020473\n",
      "It has been 107.9260904788971 seconds since the loop started\n",
      "test\n"
     ]
    },
    {
     "name": "stderr",
     "output_type": "stream",
     "text": [
      "\r",
      " 34%|███████████████████████████████████████████████████▉                                                                                                       | 67/200 [2:07:00<4:11:14, 113.34s/it]"
     ]
    },
    {
     "name": "stdout",
     "output_type": "stream",
     "text": [
      "test loss score is :0.6541155419601038\n",
      "test acc score is :0.8475439297124601\n",
      "Epoch 67\n",
      "train\n",
      "Using real-time data augmentation.\n",
      "train loss score is :0.5534413739209441\n",
      "train acc score is :0.8757197696737045\n",
      "It has been 108.70580434799194 seconds since the loop started\n",
      "test\n"
     ]
    },
    {
     "name": "stderr",
     "output_type": "stream",
     "text": [
      "\r",
      " 34%|████████████████████████████████████████████████████▋                                                                                                      | 68/200 [2:08:55<4:10:14, 113.74s/it]"
     ]
    },
    {
     "name": "stdout",
     "output_type": "stream",
     "text": [
      "test loss score is :0.7051685437226829\n",
      "test acc score is :0.8376597444089456\n",
      "Epoch 68\n",
      "train\n",
      "Using real-time data augmentation.\n",
      "train loss score is :0.5515389426236571\n",
      "train acc score is :0.8797584772872681\n",
      "It has been 109.32938551902771 seconds since the loop started\n",
      "test\n"
     ]
    },
    {
     "name": "stderr",
     "output_type": "stream",
     "text": [
      "\r",
      " 34%|█████████████████████████████████████████████████████▍                                                                                                     | 69/200 [2:10:50<4:09:21, 114.21s/it]"
     ]
    },
    {
     "name": "stdout",
     "output_type": "stream",
     "text": [
      "test loss score is :0.6730430079534793\n",
      "test acc score is :0.8481429712460063\n",
      "Epoch 69\n",
      "train\n",
      "Using real-time data augmentation.\n",
      "train loss score is :0.5531823921588774\n",
      "train acc score is :0.877319257837492\n",
      "It has been 109.69007658958435 seconds since the loop started\n",
      "test\n"
     ]
    },
    {
     "name": "stderr",
     "output_type": "stream",
     "text": [
      "\r",
      " 35%|██████████████████████████████████████████████████████▎                                                                                                    | 70/200 [2:12:46<4:08:21, 114.62s/it]"
     ]
    },
    {
     "name": "stdout",
     "output_type": "stream",
     "text": [
      "test loss score is :0.6712322392212317\n",
      "test acc score is :0.8407547923322684\n",
      "Epoch 70\n",
      "train\n",
      "Using real-time data augmentation.\n",
      "train loss score is :0.5505658113948825\n",
      "train acc score is :0.8795385476647473\n",
      "It has been 108.45242190361023 seconds since the loop started\n",
      "test\n"
     ]
    },
    {
     "name": "stderr",
     "output_type": "stream",
     "text": [
      "\r",
      " 36%|███████████████████████████████████████████████████████                                                                                                    | 71/200 [2:14:40<4:06:17, 114.56s/it]"
     ]
    },
    {
     "name": "stdout",
     "output_type": "stream",
     "text": [
      "test loss score is :0.6916744991803703\n",
      "test acc score is :0.8414536741214057\n",
      "Epoch 71\n",
      "train\n",
      "Using real-time data augmentation.\n",
      "train loss score is :0.5515692469235498\n",
      "train acc score is :0.8786588291746641\n",
      "It has been 107.74825477600098 seconds since the loop started\n",
      "test\n"
     ]
    },
    {
     "name": "stderr",
     "output_type": "stream",
     "text": [
      "\r",
      " 36%|███████████████████████████████████████████████████████▊                                                                                                   | 72/200 [2:16:34<4:03:44, 114.25s/it]"
     ]
    },
    {
     "name": "stdout",
     "output_type": "stream",
     "text": [
      "test loss score is :0.7418083727550202\n",
      "test acc score is :0.8212859424920128\n",
      "Epoch 72\n",
      "train\n",
      "Using real-time data augmentation.\n",
      "train loss score is :0.5544655476521012\n",
      "train acc score is :0.8767194497760716\n",
      "It has been 110.26078343391418 seconds since the loop started\n",
      "test\n"
     ]
    },
    {
     "name": "stderr",
     "output_type": "stream",
     "text": [
      "\r",
      " 36%|████████████████████████████████████████████████████████▌                                                                                                  | 73/200 [2:18:30<4:02:59, 114.80s/it]"
     ]
    },
    {
     "name": "stdout",
     "output_type": "stream",
     "text": [
      "test loss score is :0.6868632046368938\n",
      "test acc score is :0.8422523961661342\n",
      "Epoch 73\n",
      "train\n",
      "Using real-time data augmentation.\n",
      "train loss score is :0.5540988698306178\n",
      "train acc score is :0.8783789187460013\n",
      "It has been 107.29150795936584 seconds since the loop started\n",
      "test\n"
     ]
    },
    {
     "name": "stderr",
     "output_type": "stream",
     "text": [
      "\r",
      " 37%|█████████████████████████████████████████████████████████▎                                                                                                 | 74/200 [2:20:23<4:00:04, 114.32s/it]"
     ]
    },
    {
     "name": "stdout",
     "output_type": "stream",
     "text": [
      "test loss score is :0.6989829926825941\n",
      "test acc score is :0.8388578274760383\n",
      "Epoch 74\n",
      "train\n",
      "Using real-time data augmentation.\n",
      "train loss score is :0.5540519319927547\n",
      "train acc score is :0.8786388355726168\n",
      "It has been 108.86372637748718 seconds since the loop started\n",
      "test\n"
     ]
    },
    {
     "name": "stderr",
     "output_type": "stream",
     "text": [
      "\r",
      " 38%|██████████████████████████████████████████████████████████▏                                                                                                | 75/200 [2:22:18<3:58:27, 114.46s/it]"
     ]
    },
    {
     "name": "stdout",
     "output_type": "stream",
     "text": [
      "test loss score is :0.7755451568018514\n",
      "test acc score is :0.8119009584664537\n",
      "Epoch 75\n",
      "train\n",
      "Using real-time data augmentation.\n",
      "train loss score is :0.5473765593382005\n",
      "train acc score is :0.880278310940499\n",
      "It has been 105.5855484008789 seconds since the loop started\n",
      "test\n"
     ]
    },
    {
     "name": "stderr",
     "output_type": "stream",
     "text": [
      "\r",
      " 38%|██████████████████████████████████████████████████████████▉                                                                                                | 76/200 [2:24:09<3:54:42, 113.57s/it]"
     ]
    },
    {
     "name": "stdout",
     "output_type": "stream",
     "text": [
      "test loss score is :0.6755388818038538\n",
      "test acc score is :0.8512380191693291\n",
      "Epoch 76\n",
      "train\n",
      "Using real-time data augmentation.\n",
      "train loss score is :0.5516559566756661\n",
      "train acc score is :0.8791586692258477\n",
      "It has been 107.31855177879333 seconds since the loop started\n",
      "test\n"
     ]
    },
    {
     "name": "stderr",
     "output_type": "stream",
     "text": [
      "\r",
      " 38%|███████████████████████████████████████████████████████████▋                                                                                               | 77/200 [2:26:02<3:52:29, 113.41s/it]"
     ]
    },
    {
     "name": "stdout",
     "output_type": "stream",
     "text": [
      "test loss score is :0.8390426736194104\n",
      "test acc score is :0.8029153354632588\n",
      "Epoch 77\n",
      "train\n",
      "Using real-time data augmentation.\n",
      "train loss score is :0.5508228373008894\n",
      "train acc score is :0.8794185860524633\n",
      "It has been 106.90487337112427 seconds since the loop started\n",
      "test\n"
     ]
    },
    {
     "name": "stderr",
     "output_type": "stream",
     "text": [
      "\r",
      " 39%|████████████████████████████████████████████████████████████▍                                                                                              | 78/200 [2:27:55<3:50:07, 113.17s/it]"
     ]
    },
    {
     "name": "stdout",
     "output_type": "stream",
     "text": [
      "test loss score is :0.6865371285726468\n",
      "test acc score is :0.8427515974440895\n",
      "Epoch 78\n",
      "train\n",
      "Using real-time data augmentation.\n",
      "train loss score is :0.5426854388269948\n",
      "train acc score is :0.8827175303902751\n",
      "It has been 107.62696862220764 seconds since the loop started\n",
      "test\n"
     ]
    },
    {
     "name": "stderr",
     "output_type": "stream",
     "text": [
      "\r",
      " 40%|█████████████████████████████████████████████████████████████▏                                                                                             | 79/200 [2:29:48<3:48:18, 113.21s/it]"
     ]
    },
    {
     "name": "stdout",
     "output_type": "stream",
     "text": [
      "test loss score is :0.6639505284377181\n",
      "test acc score is :0.8525359424920128\n",
      "Epoch 79\n",
      "train\n",
      "Using real-time data augmentation.\n",
      "train loss score is :0.5442927141107204\n",
      "train acc score is :0.8814179462571977\n",
      "It has been 107.98255658149719 seconds since the loop started\n",
      "test\n"
     ]
    },
    {
     "name": "stderr",
     "output_type": "stream",
     "text": [
      "\r",
      " 40%|██████████████████████████████████████████████████████████████                                                                                             | 80/200 [2:31:42<3:46:48, 113.40s/it]"
     ]
    },
    {
     "name": "stdout",
     "output_type": "stream",
     "text": [
      "test loss score is :0.6681300250295633\n",
      "test acc score is :0.8535343450479234\n",
      "Epoch 80\n",
      "train\n",
      "Using real-time data augmentation.\n",
      "train loss score is :0.5464788748526985\n",
      "train acc score is :0.8820377479206654\n",
      "It has been 107.2746410369873 seconds since the loop started\n",
      "test\n"
     ]
    },
    {
     "name": "stderr",
     "output_type": "stream",
     "text": [
      "\r",
      " 40%|██████████████████████████████████████████████████████████████▊                                                                                            | 81/200 [2:33:35<3:44:45, 113.33s/it]"
     ]
    },
    {
     "name": "stdout",
     "output_type": "stream",
     "text": [
      "test loss score is :0.7234739259885142\n",
      "test acc score is :0.8293730031948882\n",
      "Epoch 81\n",
      "train\n",
      "Using real-time data augmentation.\n",
      "train loss score is :0.5424842121733814\n",
      "train acc score is :0.8834173064619322\n",
      "It has been 108.29962038993835 seconds since the loop started\n",
      "test\n"
     ]
    },
    {
     "name": "stderr",
     "output_type": "stream",
     "text": [
      "\r",
      " 41%|███████████████████████████████████████████████████████████████▌                                                                                           | 82/200 [2:35:30<3:43:25, 113.60s/it]"
     ]
    },
    {
     "name": "stdout",
     "output_type": "stream",
     "text": [
      "test loss score is :0.6826765830524433\n",
      "test acc score is :0.8448482428115016\n",
      "Epoch 82\n",
      "train\n",
      "Using real-time data augmentation.\n",
      "train loss score is :0.5389230169322501\n",
      "train acc score is :0.8844369801663468\n",
      "It has been 110.86951231956482 seconds since the loop started\n",
      "test\n"
     ]
    },
    {
     "name": "stderr",
     "output_type": "stream",
     "text": [
      "\r",
      " 42%|████████████████████████████████████████████████████████████████▎                                                                                          | 83/200 [2:37:26<3:43:26, 114.58s/it]"
     ]
    },
    {
     "name": "stdout",
     "output_type": "stream",
     "text": [
      "test loss score is :0.7482733986438653\n",
      "test acc score is :0.8277755591054313\n",
      "Epoch 83\n",
      "train\n",
      "Using real-time data augmentation.\n",
      "train loss score is :0.539066437319617\n",
      "train acc score is :0.8846968969929623\n",
      "It has been 109.54986071586609 seconds since the loop started\n",
      "test\n"
     ]
    },
    {
     "name": "stderr",
     "output_type": "stream",
     "text": [
      "\r",
      " 42%|█████████████████████████████████████████████████████████████████                                                                                          | 84/200 [2:39:22<3:41:59, 114.83s/it]"
     ]
    },
    {
     "name": "stdout",
     "output_type": "stream",
     "text": [
      "test loss score is :0.6792141392398566\n",
      "test acc score is :0.8441493610223643\n",
      "Epoch 84\n",
      "train\n",
      "Using real-time data augmentation.\n",
      "train loss score is :0.5403055005438115\n",
      "train acc score is :0.8825175943698017\n",
      "It has been 109.54752349853516 seconds since the loop started\n",
      "test\n"
     ]
    },
    {
     "name": "stderr",
     "output_type": "stream",
     "text": [
      "\r",
      " 42%|█████████████████████████████████████████████████████████████████▉                                                                                         | 85/200 [2:41:17<3:40:26, 115.01s/it]"
     ]
    },
    {
     "name": "stdout",
     "output_type": "stream",
     "text": [
      "test loss score is :0.7673158679907315\n",
      "test acc score is :0.8255790734824281\n",
      "Epoch 85\n",
      "train\n",
      "Using real-time data augmentation.\n",
      "train loss score is :0.5364153601863182\n",
      "train acc score is :0.883757197696737\n",
      "It has been 108.54895663261414 seconds since the loop started\n",
      "test\n"
     ]
    },
    {
     "name": "stderr",
     "output_type": "stream",
     "text": [
      "\r",
      " 43%|██████████████████████████████████████████████████████████████████▋                                                                                        | 86/200 [2:43:12<3:38:11, 114.84s/it]"
     ]
    },
    {
     "name": "stdout",
     "output_type": "stream",
     "text": [
      "test loss score is :0.7672679197197905\n",
      "test acc score is :0.8263777955271565\n",
      "Epoch 86\n",
      "train\n",
      "Using real-time data augmentation.\n",
      "train loss score is :0.5427438312055816\n",
      "train acc score is :0.8837372040946897\n",
      "It has been 108.48973250389099 seconds since the loop started\n",
      "test\n"
     ]
    },
    {
     "name": "stderr",
     "output_type": "stream",
     "text": [
      "\r",
      " 44%|███████████████████████████████████████████████████████████████████▍                                                                                       | 87/200 [2:45:06<3:36:07, 114.75s/it]"
     ]
    },
    {
     "name": "stdout",
     "output_type": "stream",
     "text": [
      "test loss score is :0.6872000651428113\n",
      "test acc score is :0.8444488817891374\n",
      "Epoch 87\n",
      "train\n",
      "Using real-time data augmentation.\n",
      "train loss score is :0.5399218320045728\n",
      "train acc score is :0.8842570377479206\n",
      "It has been 109.17317819595337 seconds since the loop started\n",
      "test\n"
     ]
    },
    {
     "name": "stderr",
     "output_type": "stream",
     "text": [
      "\r",
      " 44%|████████████████████████████████████████████████████████████████████▏                                                                                      | 88/200 [2:47:01<3:34:28, 114.90s/it]"
     ]
    },
    {
     "name": "stdout",
     "output_type": "stream",
     "text": [
      "test loss score is :0.6887761437283537\n",
      "test acc score is :0.8459464856230032\n",
      "Epoch 88\n",
      "train\n",
      "Using real-time data augmentation.\n",
      "train loss score is :0.5387738827551624\n",
      "train acc score is :0.8850367882277671\n",
      "It has been 110.72401833534241 seconds since the loop started\n",
      "test\n"
     ]
    },
    {
     "name": "stderr",
     "output_type": "stream",
     "text": [
      "\r",
      " 44%|████████████████████████████████████████████████████████████████████▉                                                                                      | 89/200 [2:48:58<3:33:31, 115.42s/it]"
     ]
    },
    {
     "name": "stdout",
     "output_type": "stream",
     "text": [
      "test loss score is :0.7863343196174207\n",
      "test acc score is :0.8251797124600639\n",
      "Epoch 89\n",
      "train\n",
      "Using real-time data augmentation.\n",
      "train loss score is :0.5335435759578846\n",
      "train acc score is :0.8870161548304543\n",
      "It has been 112.28115367889404 seconds since the loop started\n",
      "test\n"
     ]
    },
    {
     "name": "stderr",
     "output_type": "stream",
     "text": [
      "\r",
      " 45%|█████████████████████████████████████████████████████████████████████▊                                                                                     | 90/200 [2:50:56<3:33:06, 116.24s/it]"
     ]
    },
    {
     "name": "stdout",
     "output_type": "stream",
     "text": [
      "test loss score is :0.8002467327795851\n",
      "test acc score is :0.8195886581469649\n",
      "Epoch 90\n",
      "train\n",
      "Using real-time data augmentation.\n",
      "train loss score is :0.5398578575346917\n",
      "train acc score is :0.8859165067178503\n",
      "It has been 111.24420356750488 seconds since the loop started\n",
      "test\n"
     ]
    },
    {
     "name": "stderr",
     "output_type": "stream",
     "text": [
      "\r",
      " 46%|██████████████████████████████████████████████████████████████████████▌                                                                                    | 91/200 [2:52:53<3:31:38, 116.50s/it]"
     ]
    },
    {
     "name": "stdout",
     "output_type": "stream",
     "text": [
      "test loss score is :0.6949277827248406\n",
      "test acc score is :0.8488418530351438\n",
      "Epoch 91\n",
      "train\n",
      "Using real-time data augmentation.\n",
      "train loss score is :0.5355698713223597\n",
      "train acc score is :0.8872360844529751\n",
      "It has been 110.77399563789368 seconds since the loop started\n",
      "test\n"
     ]
    },
    {
     "name": "stderr",
     "output_type": "stream",
     "text": [
      "\r",
      " 46%|███████████████████████████████████████████████████████████████████████▎                                                                                   | 92/200 [2:54:50<3:29:48, 116.56s/it]"
     ]
    },
    {
     "name": "stdout",
     "output_type": "stream",
     "text": [
      "test loss score is :0.7054058128652482\n",
      "test acc score is :0.849341054313099\n",
      "Epoch 92\n",
      "train\n",
      "Using real-time data augmentation.\n",
      "train loss score is :0.5351406385596563\n",
      "train acc score is :0.8873760396673065\n",
      "It has been 107.22956109046936 seconds since the loop started\n",
      "test\n"
     ]
    },
    {
     "name": "stderr",
     "output_type": "stream",
     "text": [
      "\r",
      " 46%|████████████████████████████████████████████████████████████████████████                                                                                   | 93/200 [2:56:43<3:25:55, 115.47s/it]"
     ]
    },
    {
     "name": "stdout",
     "output_type": "stream",
     "text": [
      "test loss score is :0.6189965538133066\n",
      "test acc score is :0.8629193290734825\n",
      "Epoch 93\n",
      "train\n",
      "Using real-time data augmentation.\n",
      "train loss score is :0.5308638769830563\n",
      "train acc score is :0.8879758477287268\n",
      "It has been 109.93643641471863 seconds since the loop started\n",
      "test\n"
     ]
    },
    {
     "name": "stderr",
     "output_type": "stream",
     "text": [
      "\r",
      " 47%|████████████████████████████████████████████████████████████████████████▊                                                                                  | 94/200 [2:58:39<3:24:09, 115.56s/it]"
     ]
    },
    {
     "name": "stdout",
     "output_type": "stream",
     "text": [
      "test loss score is :0.6863800436734392\n",
      "test acc score is :0.8473442492012779\n",
      "Epoch 94\n",
      "train\n",
      "Using real-time data augmentation.\n",
      "train loss score is :0.5331036983700189\n",
      "train acc score is :0.8872760716570698\n",
      "It has been 110.36706829071045 seconds since the loop started\n",
      "test\n"
     ]
    },
    {
     "name": "stderr",
     "output_type": "stream",
     "text": [
      "\r",
      " 48%|█████████████████████████████████████████████████████████████████████████▋                                                                                 | 95/200 [3:00:35<3:22:35, 115.77s/it]"
     ]
    },
    {
     "name": "stdout",
     "output_type": "stream",
     "text": [
      "test loss score is :0.6376076679641065\n",
      "test acc score is :0.8581269968051118\n",
      "Epoch 95\n",
      "train\n",
      "Using real-time data augmentation.\n",
      "train loss score is :0.5355892429558498\n",
      "train acc score is :0.8867962252079334\n",
      "It has been 110.43222165107727 seconds since the loop started\n",
      "test\n"
     ]
    },
    {
     "name": "stderr",
     "output_type": "stream",
     "text": [
      "\r",
      " 48%|██████████████████████████████████████████████████████████████████████████▍                                                                                | 96/200 [3:02:31<3:21:00, 115.96s/it]"
     ]
    },
    {
     "name": "stdout",
     "output_type": "stream",
     "text": [
      "test loss score is :0.6987249069987014\n",
      "test acc score is :0.8458466453674122\n",
      "Epoch 96\n",
      "train\n",
      "Using real-time data augmentation.\n",
      "train loss score is :0.5338991117054122\n",
      "train acc score is :0.8875559820857326\n",
      "It has been 109.28423428535461 seconds since the loop started\n",
      "test\n"
     ]
    },
    {
     "name": "stderr",
     "output_type": "stream",
     "text": [
      "\r",
      " 48%|███████████████████████████████████████████████████████████████████████████▏                                                                               | 97/200 [3:04:26<3:18:35, 115.68s/it]"
     ]
    },
    {
     "name": "stdout",
     "output_type": "stream",
     "text": [
      "test loss score is :0.6649191472857905\n",
      "test acc score is :0.8559305111821086\n",
      "Epoch 97\n",
      "train\n",
      "Using real-time data augmentation.\n",
      "train loss score is :0.5299840716696366\n",
      "train acc score is :0.8890555022392834\n",
      "It has been 108.86892342567444 seconds since the loop started\n",
      "test\n"
     ]
    },
    {
     "name": "stderr",
     "output_type": "stream",
     "text": [
      "\r",
      " 49%|███████████████████████████████████████████████████████████████████████████▉                                                                               | 98/200 [3:06:21<3:16:15, 115.45s/it]"
     ]
    },
    {
     "name": "stdout",
     "output_type": "stream",
     "text": [
      "test loss score is :0.6861496215430312\n",
      "test acc score is :0.8523362619808307\n",
      "Epoch 98\n",
      "train\n",
      "Using real-time data augmentation.\n",
      "train loss score is :0.5362638625115519\n",
      "train acc score is :0.8868961932181701\n",
      "It has been 106.62469005584717 seconds since the loop started\n",
      "test\n"
     ]
    },
    {
     "name": "stderr",
     "output_type": "stream",
     "text": [
      "\r",
      " 50%|████████████████████████████████████████████████████████████████████████████▋                                                                              | 99/200 [3:08:14<3:12:50, 114.55s/it]"
     ]
    },
    {
     "name": "stdout",
     "output_type": "stream",
     "text": [
      "test loss score is :0.6933604662601178\n",
      "test acc score is :0.8496405750798722\n",
      "Epoch 99\n",
      "train\n",
      "Using real-time data augmentation.\n",
      "train loss score is :0.53199668434554\n",
      "train acc score is :0.8894553742802304\n",
      "It has been 107.51615715026855 seconds since the loop started\n",
      "test\n"
     ]
    },
    {
     "name": "stderr",
     "output_type": "stream",
     "text": [
      "\r",
      " 50%|█████████████████████████████████████████████████████████████████████████████                                                                             | 100/200 [3:10:07<3:10:19, 114.20s/it]"
     ]
    },
    {
     "name": "stdout",
     "output_type": "stream",
     "text": [
      "test loss score is :0.6456918888769972\n",
      "test acc score is :0.8591253993610224\n",
      "Epoch 100\n",
      "train\n",
      "Using real-time data augmentation.\n",
      "train loss score is :0.5322685324260995\n",
      "train acc score is :0.8890954894433781\n",
      "It has been 111.30451011657715 seconds since the loop started\n",
      "test\n"
     ]
    },
    {
     "name": "stderr",
     "output_type": "stream",
     "text": [
      "\r",
      " 50%|█████████████████████████████████████████████████████████████████████████████▊                                                                            | 101/200 [3:12:04<3:09:51, 115.07s/it]"
     ]
    },
    {
     "name": "stdout",
     "output_type": "stream",
     "text": [
      "test loss score is :0.7798623827318795\n",
      "test acc score is :0.816194089456869\n",
      "Epoch 101\n",
      "train\n",
      "Using real-time data augmentation.\n",
      "train loss score is :0.5204955795142259\n",
      "train acc score is :0.8918546065259118\n",
      "It has been 111.79289698600769 seconds since the loop started\n",
      "test\n"
     ]
    },
    {
     "name": "stderr",
     "output_type": "stream",
     "text": [
      "\r",
      " 51%|██████████████████████████████████████████████████████████████████████████████▌                                                                           | 102/200 [3:14:02<3:09:13, 115.85s/it]"
     ]
    },
    {
     "name": "stdout",
     "output_type": "stream",
     "text": [
      "test loss score is :0.7156222972054832\n",
      "test acc score is :0.8375599041533547\n",
      "Epoch 102\n",
      "train\n",
      "Using real-time data augmentation.\n",
      "train loss score is :0.5288389646618014\n",
      "train acc score is :0.889435380678183\n",
      "It has been 111.46999454498291 seconds since the loop started\n",
      "test\n"
     ]
    },
    {
     "name": "stderr",
     "output_type": "stream",
     "text": [
      "\r",
      " 52%|███████████████████████████████████████████████████████████████████████████████▎                                                                          | 103/200 [3:15:59<3:07:58, 116.28s/it]"
     ]
    },
    {
     "name": "stdout",
     "output_type": "stream",
     "text": [
      "test loss score is :0.8355960485558159\n",
      "test acc score is :0.8092052715654952\n",
      "Epoch 103\n",
      "train\n",
      "Using real-time data augmentation.\n",
      "train loss score is :0.5280429247626112\n",
      "train acc score is :0.8904950415866922\n",
      "It has been 111.18978786468506 seconds since the loop started\n",
      "test\n"
     ]
    },
    {
     "name": "stderr",
     "output_type": "stream",
     "text": [
      "\r",
      " 52%|████████████████████████████████████████████████████████████████████████████████                                                                          | 104/200 [3:17:56<3:06:27, 116.54s/it]"
     ]
    },
    {
     "name": "stdout",
     "output_type": "stream",
     "text": [
      "test loss score is :0.6986880255773806\n",
      "test acc score is :0.8449480830670927\n",
      "Epoch 104\n",
      "train\n",
      "Using real-time data augmentation.\n",
      "train loss score is :0.5274096512005105\n",
      "train acc score is :0.8914547344849648\n",
      "It has been 112.2845606803894 seconds since the loop started\n",
      "test\n"
     ]
    },
    {
     "name": "stderr",
     "output_type": "stream",
     "text": [
      "\r",
      " 52%|████████████████████████████████████████████████████████████████████████████████▊                                                                         | 105/200 [3:19:55<3:05:19, 117.04s/it]"
     ]
    },
    {
     "name": "stdout",
     "output_type": "stream",
     "text": [
      "test loss score is :0.731260253788945\n",
      "test acc score is :0.8375599041533547\n",
      "Epoch 105\n",
      "train\n",
      "Using real-time data augmentation.\n",
      "train loss score is :0.5244836850438603\n",
      "train acc score is :0.8913947536788228\n",
      "It has been 111.5455756187439 seconds since the loop started\n",
      "test\n"
     ]
    },
    {
     "name": "stderr",
     "output_type": "stream",
     "text": [
      "\r",
      " 53%|█████████████████████████████████████████████████████████████████████████████████▌                                                                        | 106/200 [3:21:52<3:03:33, 117.16s/it]"
     ]
    },
    {
     "name": "stdout",
     "output_type": "stream",
     "text": [
      "test loss score is :0.7012334900637405\n",
      "test acc score is :0.8501397763578274\n",
      "Epoch 106\n",
      "train\n",
      "Using real-time data augmentation.\n",
      "train loss score is :0.5258491750298901\n",
      "train acc score is :0.8910148752399232\n",
      "It has been 108.3475706577301 seconds since the loop started\n",
      "test\n"
     ]
    },
    {
     "name": "stderr",
     "output_type": "stream",
     "text": [
      "\r",
      " 54%|██████████████████████████████████████████████████████████████████████████████████▍                                                                       | 107/200 [3:23:46<3:00:13, 116.27s/it]"
     ]
    },
    {
     "name": "stdout",
     "output_type": "stream",
     "text": [
      "test loss score is :0.7963194866149951\n",
      "test acc score is :0.8167931309904153\n",
      "Epoch 107\n",
      "train\n",
      "Using real-time data augmentation.\n",
      "train loss score is :0.5263036176018889\n",
      "train acc score is :0.8915547024952015\n",
      "It has been 109.7230076789856 seconds since the loop started\n",
      "test\n"
     ]
    },
    {
     "name": "stderr",
     "output_type": "stream",
     "text": [
      "\r",
      " 54%|███████████████████████████████████████████████████████████████████████████████████▏                                                                      | 108/200 [3:25:42<2:57:53, 116.02s/it]"
     ]
    },
    {
     "name": "stdout",
     "output_type": "stream",
     "text": [
      "test loss score is :0.7848201555946764\n",
      "test acc score is :0.8140974440894568\n",
      "Epoch 108\n",
      "train\n",
      "Using real-time data augmentation.\n",
      "train loss score is :0.5245454194106434\n",
      "train acc score is :0.8920745361484325\n",
      "It has been 109.08956170082092 seconds since the loop started\n",
      "test\n"
     ]
    },
    {
     "name": "stderr",
     "output_type": "stream",
     "text": [
      "\r",
      " 55%|███████████████████████████████████████████████████████████████████████████████████▉                                                                      | 109/200 [3:27:37<2:55:32, 115.74s/it]"
     ]
    },
    {
     "name": "stdout",
     "output_type": "stream",
     "text": [
      "test loss score is :0.655205379278896\n",
      "test acc score is :0.8545327476038339\n",
      "Epoch 109\n",
      "train\n",
      "Using real-time data augmentation.\n",
      "train loss score is :0.5202328994612776\n",
      "train acc score is :0.8931941778630839\n",
      "It has been 112.19974756240845 seconds since the loop started\n",
      "test\n"
     ]
    },
    {
     "name": "stderr",
     "output_type": "stream",
     "text": [
      "\r",
      " 55%|████████████████████████████████████████████████████████████████████████████████████▋                                                                     | 110/200 [3:29:35<2:54:34, 116.38s/it]"
     ]
    },
    {
     "name": "stdout",
     "output_type": "stream",
     "text": [
      "test loss score is :1.2323691648797106\n",
      "test acc score is :0.7439097444089456\n",
      "Epoch 110\n",
      "train\n",
      "Using real-time data augmentation.\n",
      "train loss score is :0.5223266277664835\n",
      "train acc score is :0.8921145233525272\n",
      "It has been 108.48068881034851 seconds since the loop started\n",
      "test\n"
     ]
    },
    {
     "name": "stderr",
     "output_type": "stream",
     "text": [
      "\r",
      " 56%|█████████████████████████████████████████████████████████████████████████████████████▍                                                                    | 111/200 [3:31:29<2:51:42, 115.76s/it]"
     ]
    },
    {
     "name": "stdout",
     "output_type": "stream",
     "text": [
      "test loss score is :0.66998448806068\n",
      "test acc score is :0.8495407348242812\n",
      "Epoch 111\n",
      "train\n",
      "Using real-time data augmentation.\n",
      "train loss score is :0.5202191661201985\n",
      "train acc score is :0.8936740243122201\n",
      "It has been 110.45801329612732 seconds since the loop started\n",
      "test\n"
     ]
    },
    {
     "name": "stderr",
     "output_type": "stream",
     "text": [
      "\r",
      " 56%|██████████████████████████████████████████████████████████████████████████████████████▏                                                                   | 112/200 [3:33:25<2:50:05, 115.97s/it]"
     ]
    },
    {
     "name": "stdout",
     "output_type": "stream",
     "text": [
      "test loss score is :0.6943336509096737\n",
      "test acc score is :0.8515375399361023\n",
      "Epoch 112\n",
      "train\n",
      "Using real-time data augmentation.\n",
      "train loss score is :0.5221232315781631\n",
      "train acc score is :0.8938339731285988\n",
      "It has been 111.6333634853363 seconds since the loop started\n",
      "test\n"
     ]
    },
    {
     "name": "stderr",
     "output_type": "stream",
     "text": [
      "\r",
      " 56%|███████████████████████████████████████████████████████████████████████████████████████                                                                   | 113/200 [3:35:23<2:48:51, 116.45s/it]"
     ]
    },
    {
     "name": "stdout",
     "output_type": "stream",
     "text": [
      "test loss score is :0.7216310142137753\n",
      "test acc score is :0.8398562300319489\n",
      "Epoch 113\n",
      "train\n",
      "Using real-time data augmentation.\n",
      "train loss score is :0.5190432189998914\n",
      "train acc score is :0.8936340371081254\n",
      "It has been 110.27466034889221 seconds since the loop started\n",
      "test\n"
     ]
    },
    {
     "name": "stderr",
     "output_type": "stream",
     "text": [
      "\r",
      " 57%|███████████████████████████████████████████████████████████████████████████████████████▊                                                                  | 114/200 [3:37:19<2:46:50, 116.40s/it]"
     ]
    },
    {
     "name": "stdout",
     "output_type": "stream",
     "text": [
      "test loss score is :0.7638793888564308\n",
      "test acc score is :0.8369608626198083\n",
      "Epoch 114\n",
      "train\n",
      "Using real-time data augmentation.\n",
      "train loss score is :0.5221981686216398\n",
      "train acc score is :0.8931941778630839\n",
      "It has been 110.21234893798828 seconds since the loop started\n",
      "test\n"
     ]
    },
    {
     "name": "stderr",
     "output_type": "stream",
     "text": [
      "\r",
      " 57%|████████████████████████████████████████████████████████████████████████████████████████▌                                                                 | 115/200 [3:39:15<2:44:47, 116.33s/it]"
     ]
    },
    {
     "name": "stdout",
     "output_type": "stream",
     "text": [
      "test loss score is :0.7083556792987421\n",
      "test acc score is :0.8406549520766773\n",
      "Epoch 115\n",
      "train\n",
      "Using real-time data augmentation.\n",
      "train loss score is :0.5217112951357245\n",
      "train acc score is :0.8919145873320538\n",
      "It has been 109.3617000579834 seconds since the loop started\n",
      "test\n"
     ]
    },
    {
     "name": "stderr",
     "output_type": "stream",
     "text": [
      "\r",
      " 58%|█████████████████████████████████████████████████████████████████████████████████████████▎                                                                | 116/200 [3:41:11<2:42:24, 116.01s/it]"
     ]
    },
    {
     "name": "stdout",
     "output_type": "stream",
     "text": [
      "test loss score is :0.7191779745367769\n",
      "test acc score is :0.8380591054313099\n",
      "Epoch 116\n",
      "train\n",
      "Using real-time data augmentation.\n",
      "train loss score is :0.5217000909783638\n",
      "train acc score is :0.8930542226487524\n",
      "It has been 108.30041027069092 seconds since the loop started\n",
      "test\n"
     ]
    },
    {
     "name": "stderr",
     "output_type": "stream",
     "text": [
      "\r",
      " 58%|██████████████████████████████████████████████████████████████████████████████████████████                                                                | 117/200 [3:43:05<2:39:41, 115.44s/it]"
     ]
    },
    {
     "name": "stdout",
     "output_type": "stream",
     "text": [
      "test loss score is :0.7124892828373102\n",
      "test acc score is :0.845547124600639\n",
      "Epoch 117\n",
      "train\n",
      "Using real-time data augmentation.\n",
      "train loss score is :0.5228415011444385\n",
      "train acc score is :0.8927343250159949\n",
      "It has been 108.64422059059143 seconds since the loop started\n",
      "test\n"
     ]
    },
    {
     "name": "stderr",
     "output_type": "stream",
     "text": [
      "\r",
      " 59%|██████████████████████████████████████████████████████████████████████████████████████████▊                                                               | 118/200 [3:44:59<2:37:25, 115.19s/it]"
     ]
    },
    {
     "name": "stdout",
     "output_type": "stream",
     "text": [
      "test loss score is :0.9789627872336025\n",
      "test acc score is :0.7862420127795527\n",
      "Epoch 118\n",
      "train\n",
      "Using real-time data augmentation.\n",
      "train loss score is :0.5201709657545206\n",
      "train acc score is :0.8937739923224568\n",
      "It has been 110.95762372016907 seconds since the loop started\n",
      "test\n"
     ]
    },
    {
     "name": "stderr",
     "output_type": "stream",
     "text": [
      "\r",
      " 60%|███████████████████████████████████████████████████████████████████████████████████████████▋                                                              | 119/200 [3:46:56<2:36:07, 115.64s/it]"
     ]
    },
    {
     "name": "stdout",
     "output_type": "stream",
     "text": [
      "test loss score is :0.7407684334741232\n",
      "test acc score is :0.8341653354632588\n",
      "Epoch 119\n",
      "train\n",
      "Using real-time data augmentation.\n",
      "train loss score is :0.5218603929131747\n",
      "train acc score is :0.8917746321177223\n",
      "It has been 111.45006656646729 seconds since the loop started\n",
      "test\n"
     ]
    },
    {
     "name": "stderr",
     "output_type": "stream",
     "text": [
      "\r",
      " 60%|████████████████████████████████████████████████████████████████████████████████████████████▍                                                             | 120/200 [3:48:54<2:34:53, 116.17s/it]"
     ]
    },
    {
     "name": "stdout",
     "output_type": "stream",
     "text": [
      "test loss score is :0.9446816716236047\n",
      "test acc score is :0.7920327476038339\n",
      "Epoch 120\n",
      "train\n",
      "Using real-time data augmentation.\n",
      "train loss score is :0.5234403038589297\n",
      "train acc score is :0.8919145873320538\n",
      "It has been 108.5075089931488 seconds since the loop started\n",
      "test\n"
     ]
    },
    {
     "name": "stderr",
     "output_type": "stream",
     "text": [
      "\r",
      " 60%|█████████████████████████████████████████████████████████████████████████████████████████████▏                                                            | 121/200 [3:50:48<2:32:15, 115.64s/it]"
     ]
    },
    {
     "name": "stdout",
     "output_type": "stream",
     "text": [
      "test loss score is :0.712387488101618\n",
      "test acc score is :0.8445487220447284\n",
      "Epoch 121\n",
      "train\n",
      "Using real-time data augmentation.\n",
      "train loss score is :0.5197813934762738\n",
      "train acc score is :0.8942938259756877\n",
      "It has been 110.19662952423096 seconds since the loop started\n",
      "test\n"
     ]
    },
    {
     "name": "stderr",
     "output_type": "stream",
     "text": [
      "\r",
      " 61%|█████████████████████████████████████████████████████████████████████████████████████████████▉                                                            | 122/200 [3:52:44<2:30:33, 115.82s/it]"
     ]
    },
    {
     "name": "stdout",
     "output_type": "stream",
     "text": [
      "test loss score is :0.7181120981423619\n",
      "test acc score is :0.845547124600639\n",
      "Epoch 122\n",
      "train\n",
      "Using real-time data augmentation.\n",
      "train loss score is :0.5193272079040206\n",
      "train acc score is :0.8931142034548945\n",
      "It has been 106.13926410675049 seconds since the loop started\n",
      "test\n"
     ]
    },
    {
     "name": "stderr",
     "output_type": "stream",
     "text": [
      "\r",
      " 62%|██████████████████████████████████████████████████████████████████████████████████████████████▋                                                           | 123/200 [3:54:36<2:27:10, 114.68s/it]"
     ]
    },
    {
     "name": "stdout",
     "output_type": "stream",
     "text": [
      "test loss score is :0.8599291975124956\n",
      "test acc score is :0.8082068690095847\n",
      "Epoch 123\n",
      "train\n",
      "Using real-time data augmentation.\n",
      "train loss score is :0.5193493912236018\n",
      "train acc score is :0.8938739603326935\n",
      "It has been 105.87143349647522 seconds since the loop started\n",
      "test\n"
     ]
    },
    {
     "name": "stderr",
     "output_type": "stream",
     "text": [
      "\r",
      " 62%|███████████████████████████████████████████████████████████████████████████████████████████████▍                                                          | 124/200 [3:56:28<2:24:06, 113.77s/it]"
     ]
    },
    {
     "name": "stdout",
     "output_type": "stream",
     "text": [
      "test loss score is :0.7937891250982071\n",
      "test acc score is :0.8336661341853036\n",
      "Epoch 124\n",
      "train\n",
      "Using real-time data augmentation.\n",
      "train loss score is :0.5164623771503959\n",
      "train acc score is :0.894193857965451\n",
      "It has been 107.24252986907959 seconds since the loop started\n",
      "test\n"
     ]
    },
    {
     "name": "stderr",
     "output_type": "stream",
     "text": [
      "\r",
      " 62%|████████████████████████████████████████████████████████████████████████████████████████████████▎                                                         | 125/200 [3:58:21<2:22:00, 113.61s/it]"
     ]
    },
    {
     "name": "stdout",
     "output_type": "stream",
     "text": [
      "test loss score is :0.8496032785683775\n",
      "test acc score is :0.8236821086261981\n",
      "Epoch 125\n",
      "train\n",
      "Using real-time data augmentation.\n",
      "train loss score is :0.5167847908580449\n",
      "train acc score is :0.8939939219449776\n",
      "It has been 108.4838662147522 seconds since the loop started\n",
      "test\n"
     ]
    },
    {
     "name": "stderr",
     "output_type": "stream",
     "text": [
      "\r",
      " 63%|█████████████████████████████████████████████████████████████████████████████████████████████████                                                         | 126/200 [4:00:15<2:20:25, 113.85s/it]"
     ]
    },
    {
     "name": "stdout",
     "output_type": "stream",
     "text": [
      "test loss score is :0.6416487836609253\n",
      "test acc score is :0.8688099041533547\n",
      "Epoch 126\n",
      "train\n",
      "Using real-time data augmentation.\n",
      "train loss score is :0.5202956818096621\n",
      "train acc score is :0.8943738003838771\n",
      "It has been 110.18027329444885 seconds since the loop started\n",
      "test\n"
     ]
    },
    {
     "name": "stderr",
     "output_type": "stream",
     "text": [
      "\r",
      " 64%|█████████████████████████████████████████████████████████████████████████████████████████████████▊                                                        | 127/200 [4:02:12<2:19:18, 114.51s/it]"
     ]
    },
    {
     "name": "stdout",
     "output_type": "stream",
     "text": [
      "test loss score is :0.7789594800517963\n",
      "test acc score is :0.8313698083067093\n",
      "Epoch 127\n",
      "train\n",
      "Using real-time data augmentation.\n",
      "train loss score is :0.5178865171153806\n",
      "train acc score is :0.8970929302623161\n",
      "It has been 106.31763219833374 seconds since the loop started\n",
      "test\n"
     ]
    },
    {
     "name": "stderr",
     "output_type": "stream",
     "text": [
      "\r",
      " 64%|██████████████████████████████████████████████████████████████████████████████████████████████████▌                                                       | 128/200 [4:04:04<2:16:35, 113.82s/it]"
     ]
    },
    {
     "name": "stdout",
     "output_type": "stream",
     "text": [
      "test loss score is :0.8042108917388672\n",
      "test acc score is :0.827176517571885\n",
      "Epoch 128\n",
      "train\n",
      "Using real-time data augmentation.\n",
      "train loss score is :0.5201711874700706\n",
      "train acc score is :0.8942938259756877\n",
      "It has been 106.76765966415405 seconds since the loop started\n",
      "test\n"
     ]
    },
    {
     "name": "stderr",
     "output_type": "stream",
     "text": [
      "\r",
      " 64%|███████████████████████████████████████████████████████████████████████████████████████████████████▎                                                      | 129/200 [4:05:56<2:14:12, 113.41s/it]"
     ]
    },
    {
     "name": "stdout",
     "output_type": "stream",
     "text": [
      "test loss score is :0.6891755417417794\n",
      "test acc score is :0.8481429712460063\n",
      "Epoch 129\n",
      "train\n",
      "Using real-time data augmentation.\n",
      "train loss score is :0.5129811732874264\n",
      "train acc score is :0.897672744721689\n",
      "It has been 106.88343381881714 seconds since the loop started\n",
      "test\n"
     ]
    },
    {
     "name": "stderr",
     "output_type": "stream",
     "text": [
      "\r",
      " 65%|████████████████████████████████████████████████████████████████████████████████████████████████████                                                      | 130/200 [4:07:49<2:12:02, 113.19s/it]"
     ]
    },
    {
     "name": "stdout",
     "output_type": "stream",
     "text": [
      "test loss score is :0.657846717407909\n",
      "test acc score is :0.8569289137380192\n",
      "Epoch 130\n",
      "train\n",
      "Using real-time data augmentation.\n",
      "train loss score is :0.5127863737916001\n",
      "train acc score is :0.8967330454254638\n",
      "It has been 104.96955966949463 seconds since the loop started\n",
      "test\n"
     ]
    },
    {
     "name": "stderr",
     "output_type": "stream",
     "text": [
      "\r",
      " 66%|████████████████████████████████████████████████████████████████████████████████████████████████████▊                                                     | 131/200 [4:09:40<2:09:22, 112.50s/it]"
     ]
    },
    {
     "name": "stdout",
     "output_type": "stream",
     "text": [
      "test loss score is :0.8719477033653198\n",
      "test acc score is :0.8174920127795527\n",
      "Epoch 131\n",
      "train\n",
      "Using real-time data augmentation.\n",
      "train loss score is :0.5155130631254029\n",
      "train acc score is :0.8955734165067178\n",
      "It has been 105.6902506351471 seconds since the loop started\n",
      "test\n"
     ]
    },
    {
     "name": "stderr",
     "output_type": "stream",
     "text": [
      "\r",
      " 66%|█████████████████████████████████████████████████████████████████████████████████████████████████████▋                                                    | 132/200 [4:11:31<2:07:11, 112.23s/it]"
     ]
    },
    {
     "name": "stdout",
     "output_type": "stream",
     "text": [
      "test loss score is :0.666803555176281\n",
      "test acc score is :0.8545327476038339\n",
      "Epoch 132\n",
      "train\n",
      "Using real-time data augmentation.\n",
      "train loss score is :0.5143412392507817\n",
      "train acc score is :0.8973528470889316\n",
      "It has been 105.06517267227173 seconds since the loop started\n",
      "test\n"
     ]
    },
    {
     "name": "stderr",
     "output_type": "stream",
     "text": [
      "\r",
      " 66%|██████████████████████████████████████████████████████████████████████████████████████████████████████▍                                                   | 133/200 [4:13:22<2:04:52, 111.83s/it]"
     ]
    },
    {
     "name": "stdout",
     "output_type": "stream",
     "text": [
      "test loss score is :0.7604887688312286\n",
      "test acc score is :0.8286741214057508\n",
      "Epoch 133\n",
      "train\n",
      "Using real-time data augmentation.\n",
      "train loss score is :0.5156400792791687\n",
      "train acc score is :0.8968130198336532\n",
      "It has been 106.83804607391357 seconds since the loop started\n",
      "test\n"
     ]
    },
    {
     "name": "stderr",
     "output_type": "stream",
     "text": [
      "\r",
      " 67%|███████████████████████████████████████████████████████████████████████████████████████████████████████▏                                                  | 134/200 [4:15:15<2:03:15, 112.05s/it]"
     ]
    },
    {
     "name": "stdout",
     "output_type": "stream",
     "text": [
      "test loss score is :0.6989559110361167\n",
      "test acc score is :0.8496405750798722\n",
      "Epoch 134\n",
      "train\n",
      "Using real-time data augmentation.\n",
      "train loss score is :0.5165447530003595\n",
      "train acc score is :0.8948136596289188\n",
      "It has been 108.474130153656 seconds since the loop started\n",
      "test\n"
     ]
    },
    {
     "name": "stderr",
     "output_type": "stream",
     "text": [
      "\r",
      " 68%|███████████████████████████████████████████████████████████████████████████████████████████████████████▉                                                  | 135/200 [4:17:09<2:02:08, 112.74s/it]"
     ]
    },
    {
     "name": "stdout",
     "output_type": "stream",
     "text": [
      "test loss score is :0.763547249685842\n",
      "test acc score is :0.8315694888178914\n",
      "Epoch 135\n",
      "train\n",
      "Using real-time data augmentation.\n",
      "train loss score is :0.5090344956744122\n",
      "train acc score is :0.8980126359564939\n",
      "It has been 107.66895079612732 seconds since the loop started\n",
      "test\n"
     ]
    },
    {
     "name": "stderr",
     "output_type": "stream",
     "text": [
      "\r",
      " 68%|████████████████████████████████████████████████████████████████████████████████████████████████████████▋                                                 | 136/200 [4:19:03<2:00:28, 112.95s/it]"
     ]
    },
    {
     "name": "stdout",
     "output_type": "stream",
     "text": [
      "test loss score is :0.7092589869285925\n",
      "test acc score is :0.8537340255591054\n",
      "Epoch 136\n",
      "train\n",
      "Using real-time data augmentation.\n",
      "train loss score is :0.5141143019925457\n",
      "train acc score is :0.8967730326295585\n",
      "It has been 106.1097674369812 seconds since the loop started\n",
      "test\n"
     ]
    },
    {
     "name": "stderr",
     "output_type": "stream",
     "text": [
      "\r",
      " 68%|█████████████████████████████████████████████████████████████████████████████████████████████████████████▍                                                | 137/200 [4:20:55<1:58:21, 112.71s/it]"
     ]
    },
    {
     "name": "stdout",
     "output_type": "stream",
     "text": [
      "test loss score is :0.6465157480856862\n",
      "test acc score is :0.8623202875399361\n",
      "Epoch 137\n",
      "train\n",
      "Using real-time data augmentation.\n",
      "train loss score is :0.5180857830984197\n",
      "train acc score is :0.8949936020473449\n",
      "It has been 105.99264287948608 seconds since the loop started\n",
      "test\n"
     ]
    },
    {
     "name": "stderr",
     "output_type": "stream",
     "text": [
      "\r",
      " 69%|██████████████████████████████████████████████████████████████████████████████████████████████████████████▎                                               | 138/200 [4:22:47<1:56:13, 112.48s/it]"
     ]
    },
    {
     "name": "stdout",
     "output_type": "stream",
     "text": [
      "test loss score is :0.7203516056552862\n",
      "test acc score is :0.8464456869009584\n",
      "Epoch 138\n",
      "train\n",
      "Using real-time data augmentation.\n",
      "train loss score is :0.510998998011295\n",
      "train acc score is :0.8970729366602687\n",
      "It has been 104.71514058113098 seconds since the loop started\n",
      "test\n"
     ]
    },
    {
     "name": "stderr",
     "output_type": "stream",
     "text": [
      "\r",
      " 70%|███████████████████████████████████████████████████████████████████████████████████████████████████████████                                               | 139/200 [4:24:37<1:53:40, 111.81s/it]"
     ]
    },
    {
     "name": "stdout",
     "output_type": "stream",
     "text": [
      "test loss score is :0.6207518270507026\n",
      "test acc score is :0.8672124600638977\n",
      "Epoch 139\n",
      "train\n",
      "Using real-time data augmentation.\n",
      "train loss score is :0.5135563964540197\n",
      "train acc score is :0.8969929622520794\n",
      "It has been 103.46087598800659 seconds since the loop started\n",
      "test\n"
     ]
    },
    {
     "name": "stderr",
     "output_type": "stream",
     "text": [
      "\r",
      " 70%|███████████████████████████████████████████████████████████████████████████████████████████████████████████▊                                              | 140/200 [4:26:26<1:51:06, 111.11s/it]"
     ]
    },
    {
     "name": "stdout",
     "output_type": "stream",
     "text": [
      "test loss score is :0.646033656006804\n",
      "test acc score is :0.8626198083067093\n",
      "Epoch 140\n",
      "train\n",
      "Using real-time data augmentation.\n",
      "train loss score is :0.5158749110829883\n",
      "train acc score is :0.8957733525271913\n",
      "It has been 103.73421382904053 seconds since the loop started\n",
      "test\n"
     ]
    },
    {
     "name": "stderr",
     "output_type": "stream",
     "text": [
      "\r",
      " 70%|████████████████████████████████████████████████████████████████████████████████████████████████████████████▌                                             | 141/200 [4:28:16<1:48:48, 110.65s/it]"
     ]
    },
    {
     "name": "stdout",
     "output_type": "stream",
     "text": [
      "test loss score is :0.6918136982110362\n",
      "test acc score is :0.8479432907348243\n",
      "Epoch 141\n",
      "train\n",
      "Using real-time data augmentation.\n",
      "train loss score is :0.5127564636717526\n",
      "train acc score is :0.898132597568778\n",
      "It has been 105.14130711555481 seconds since the loop started\n",
      "test\n"
     ]
    },
    {
     "name": "stderr",
     "output_type": "stream",
     "text": [
      "\r",
      " 71%|█████████████████████████████████████████████████████████████████████████████████████████████████████████████▎                                            | 142/200 [4:30:07<1:47:05, 110.78s/it]"
     ]
    },
    {
     "name": "stdout",
     "output_type": "stream",
     "text": [
      "test loss score is :0.7427592574121853\n",
      "test acc score is :0.8349640575079872\n",
      "Epoch 142\n",
      "train\n",
      "Using real-time data augmentation.\n",
      "train loss score is :0.5149743153701131\n",
      "train acc score is :0.896513115802943\n",
      "It has been 105.14610147476196 seconds since the loop started\n",
      "test\n"
     ]
    },
    {
     "name": "stderr",
     "output_type": "stream",
     "text": [
      "\r",
      " 72%|██████████████████████████████████████████████████████████████████████████████████████████████████████████████                                            | 143/200 [4:31:58<1:45:10, 110.72s/it]"
     ]
    },
    {
     "name": "stdout",
     "output_type": "stream",
     "text": [
      "test loss score is :0.6770511690420083\n",
      "test acc score is :0.8538338658146964\n",
      "Epoch 143\n",
      "train\n",
      "Using real-time data augmentation.\n",
      "train loss score is :0.5112825493856797\n",
      "train acc score is :0.8970729366602687\n",
      "It has been 109.47792601585388 seconds since the loop started\n",
      "test\n"
     ]
    },
    {
     "name": "stderr",
     "output_type": "stream",
     "text": [
      "\r",
      " 72%|██████████████████████████████████████████████████████████████████████████████████████████████████████████████▉                                           | 144/200 [4:33:53<1:44:38, 112.12s/it]"
     ]
    },
    {
     "name": "stdout",
     "output_type": "stream",
     "text": [
      "test loss score is :0.6971993887672028\n",
      "test acc score is :0.8489416932907349\n",
      "Epoch 144\n",
      "train\n",
      "Using real-time data augmentation.\n",
      "train loss score is :0.5146584437393791\n",
      "train acc score is :0.8972128918746002\n",
      "It has been 110.66726684570312 seconds since the loop started\n",
      "test\n"
     ]
    },
    {
     "name": "stderr",
     "output_type": "stream",
     "text": [
      "\r",
      " 72%|███████████████████████████████████████████████████████████████████████████████████████████████████████████████▋                                          | 145/200 [4:35:50<1:43:59, 113.45s/it]"
     ]
    },
    {
     "name": "stdout",
     "output_type": "stream",
     "text": [
      "test loss score is :0.7655327739997413\n",
      "test acc score is :0.8276757188498403\n",
      "Epoch 145\n",
      "train\n",
      "Using real-time data augmentation.\n",
      "train loss score is :0.5066517888546295\n",
      "train acc score is :0.8977127319257837\n",
      "It has been 107.91235160827637 seconds since the loop started\n",
      "test\n"
     ]
    },
    {
     "name": "stderr",
     "output_type": "stream",
     "text": [
      "\r",
      " 73%|████████████████████████████████████████████████████████████████████████████████████████████████████████████████▍                                         | 146/200 [4:37:44<1:42:14, 113.60s/it]"
     ]
    },
    {
     "name": "stdout",
     "output_type": "stream",
     "text": [
      "test loss score is :0.74066279623836\n",
      "test acc score is :0.8429512779552716\n",
      "Epoch 146\n",
      "train\n",
      "Using real-time data augmentation.\n",
      "train loss score is :0.5126123275233627\n",
      "train acc score is :0.8964731285988484\n",
      "It has been 111.76301956176758 seconds since the loop started\n",
      "test\n"
     ]
    },
    {
     "name": "stderr",
     "output_type": "stream",
     "text": [
      "\r",
      " 74%|█████████████████████████████████████████████████████████████████████████████████████████████████████████████████▏                                        | 147/200 [4:39:41<1:41:24, 114.81s/it]"
     ]
    },
    {
     "name": "stdout",
     "output_type": "stream",
     "text": [
      "test loss score is :0.682304083348844\n",
      "test acc score is :0.8535343450479234\n",
      "Epoch 147\n",
      "train\n",
      "Using real-time data augmentation.\n",
      "train loss score is :0.5074435169602997\n",
      "train acc score is :0.9000919705694178\n",
      "It has been 112.05341696739197 seconds since the loop started\n",
      "test\n"
     ]
    },
    {
     "name": "stderr",
     "output_type": "stream",
     "text": [
      "\r",
      " 74%|█████████████████████████████████████████████████████████████████████████████████████████████████████████████████▉                                        | 148/200 [4:41:39<1:40:20, 115.77s/it]"
     ]
    },
    {
     "name": "stdout",
     "output_type": "stream",
     "text": [
      "test loss score is :0.6721835230676511\n",
      "test acc score is :0.8550319488817891\n",
      "Epoch 148\n",
      "train\n",
      "Using real-time data augmentation.\n",
      "train loss score is :0.5097038641104847\n",
      "train acc score is :0.8996521113243762\n",
      "It has been 107.73287105560303 seconds since the loop started\n",
      "test\n"
     ]
    },
    {
     "name": "stderr",
     "output_type": "stream",
     "text": [
      "\r",
      " 74%|██████████████████████████████████████████████████████████████████████████████████████████████████████████████████▋                                       | 149/200 [4:43:33<1:37:50, 115.11s/it]"
     ]
    },
    {
     "name": "stdout",
     "output_type": "stream",
     "text": [
      "test loss score is :0.6468850401834177\n",
      "test acc score is :0.8619209265175719\n",
      "Epoch 149\n",
      "train\n",
      "Using real-time data augmentation.\n",
      "train loss score is :0.5050552198121125\n",
      "train acc score is :0.8996521113243762\n",
      "It has been 106.21229910850525 seconds since the loop started\n",
      "test\n"
     ]
    },
    {
     "name": "stderr",
     "output_type": "stream",
     "text": [
      "\r",
      " 75%|███████████████████████████████████████████████████████████████████████████████████████████████████████████████████▌                                      | 150/200 [4:45:25<1:35:09, 114.19s/it]"
     ]
    },
    {
     "name": "stdout",
     "output_type": "stream",
     "text": [
      "test loss score is :0.6588963794346434\n",
      "test acc score is :0.8614217252396166\n",
      "Epoch 150\n",
      "train\n",
      "Using real-time data augmentation.\n",
      "train loss score is :0.5080711199298397\n",
      "train acc score is :0.8990323096609085\n",
      "It has been 110.04848146438599 seconds since the loop started\n",
      "test\n"
     ]
    },
    {
     "name": "stderr",
     "output_type": "stream",
     "text": [
      "\r",
      " 76%|████████████████████████████████████████████████████████████████████████████████████████████████████████████████████▎                                     | 151/200 [4:47:21<1:33:41, 114.73s/it]"
     ]
    },
    {
     "name": "stdout",
     "output_type": "stream",
     "text": [
      "test loss score is :0.7000849515485307\n",
      "test acc score is :0.8470447284345048\n",
      "Epoch 151\n",
      "train\n",
      "Using real-time data augmentation.\n",
      "train loss score is :0.511518212193796\n",
      "train acc score is :0.8985924504158669\n",
      "It has been 108.54556179046631 seconds since the loop started\n",
      "test\n"
     ]
    },
    {
     "name": "stderr",
     "output_type": "stream",
     "text": [
      "\r",
      " 76%|█████████████████████████████████████████████████████████████████████████████████████████████████████████████████████                                     | 152/200 [4:49:15<1:31:40, 114.59s/it]"
     ]
    },
    {
     "name": "stdout",
     "output_type": "stream",
     "text": [
      "test loss score is :0.7460899840528592\n",
      "test acc score is :0.8347643769968051\n",
      "Epoch 152\n",
      "train\n",
      "Using real-time data augmentation.\n",
      "train loss score is :0.5126132852113636\n",
      "train acc score is :0.8983525271912988\n",
      "It has been 109.07656621932983 seconds since the loop started\n",
      "test\n"
     ]
    },
    {
     "name": "stderr",
     "output_type": "stream",
     "text": [
      "\r",
      " 76%|█████████████████████████████████████████████████████████████████████████████████████████████████████████████████████▊                                    | 153/200 [4:51:10<1:29:52, 114.72s/it]"
     ]
    },
    {
     "name": "stdout",
     "output_type": "stream",
     "text": [
      "test loss score is :0.6744075700783501\n",
      "test acc score is :0.8505391373801917\n",
      "Epoch 153\n",
      "train\n",
      "Using real-time data augmentation.\n",
      "train loss score is :0.5081770926694876\n",
      "train acc score is :0.8989323416506718\n",
      "It has been 109.81110739707947 seconds since the loop started\n",
      "test\n"
     ]
    },
    {
     "name": "stderr",
     "output_type": "stream",
     "text": [
      "\r",
      " 77%|██████████████████████████████████████████████████████████████████████████████████████████████████████████████████████▌                                   | 154/200 [4:53:06<1:28:12, 115.05s/it]"
     ]
    },
    {
     "name": "stdout",
     "output_type": "stream",
     "text": [
      "test loss score is :0.6751108670387024\n",
      "test acc score is :0.8510383386581469\n",
      "Epoch 154\n",
      "train\n",
      "Using real-time data augmentation.\n",
      "train loss score is :0.5089163738740841\n",
      "train acc score is :0.8996121241202815\n",
      "It has been 108.01857662200928 seconds since the loop started\n",
      "test\n"
     ]
    },
    {
     "name": "stderr",
     "output_type": "stream",
     "text": [
      "\r",
      " 78%|███████████████████████████████████████████████████████████████████████████████████████████████████████████████████████▎                                  | 155/200 [4:55:00<1:26:02, 114.72s/it]"
     ]
    },
    {
     "name": "stdout",
     "output_type": "stream",
     "text": [
      "test loss score is :0.6954310670637855\n",
      "test acc score is :0.8505391373801917\n",
      "Epoch 155\n",
      "train\n",
      "Using real-time data augmentation.\n",
      "train loss score is :0.5073587904545411\n",
      "train acc score is :0.898652431222009\n",
      "It has been 107.07953906059265 seconds since the loop started\n",
      "test\n"
     ]
    },
    {
     "name": "stderr",
     "output_type": "stream",
     "text": [
      "\r",
      " 78%|████████████████████████████████████████████████████████████████████████████████████████████████████████████████████████                                  | 156/200 [4:56:53<1:23:44, 114.20s/it]"
     ]
    },
    {
     "name": "stdout",
     "output_type": "stream",
     "text": [
      "test loss score is :0.6525372651438363\n",
      "test acc score is :0.8689097444089456\n",
      "Epoch 156\n",
      "train\n",
      "Using real-time data augmentation.\n",
      "train loss score is :0.5029510309775518\n",
      "train acc score is :0.9012116122840691\n",
      "It has been 106.65779638290405 seconds since the loop started\n",
      "test\n"
     ]
    },
    {
     "name": "stderr",
     "output_type": "stream",
     "text": [
      "\r",
      " 78%|████████████████████████████████████████████████████████████████████████████████████████████████████████████████████████▉                                 | 157/200 [4:58:45<1:21:28, 113.69s/it]"
     ]
    },
    {
     "name": "stdout",
     "output_type": "stream",
     "text": [
      "test loss score is :0.7146173291884291\n",
      "test acc score is :0.8533346645367412\n",
      "Epoch 157\n",
      "train\n",
      "Using real-time data augmentation.\n",
      "train loss score is :0.5055213156546527\n",
      "train acc score is :0.9000919705694178\n",
      "It has been 107.42067432403564 seconds since the loop started\n",
      "test\n"
     ]
    },
    {
     "name": "stderr",
     "output_type": "stream",
     "text": [
      "\r",
      " 79%|█████████████████████████████████████████████████████████████████████████████████████████████████████████████████████████▋                                | 158/200 [5:00:38<1:19:28, 113.54s/it]"
     ]
    },
    {
     "name": "stdout",
     "output_type": "stream",
     "text": [
      "test loss score is :0.7585893796084408\n",
      "test acc score is :0.8403554313099042\n",
      "Epoch 158\n",
      "train\n",
      "Using real-time data augmentation.\n",
      "train loss score is :0.5052405314154146\n",
      "train acc score is :0.8994921625079975\n",
      "It has been 108.8119969367981 seconds since the loop started\n",
      "test\n"
     ]
    },
    {
     "name": "stderr",
     "output_type": "stream",
     "text": [
      "\r",
      " 80%|██████████████████████████████████████████████████████████████████████████████████████████████████████████████████████████▍                               | 159/200 [5:02:33<1:17:48, 113.87s/it]"
     ]
    },
    {
     "name": "stdout",
     "output_type": "stream",
     "text": [
      "test loss score is :0.7605487327225292\n",
      "test acc score is :0.8374600638977636\n",
      "Epoch 159\n",
      "train\n",
      "Using real-time data augmentation.\n",
      "train loss score is :0.5065109240783764\n",
      "train acc score is :0.9008517274472169\n",
      "It has been 106.49572467803955 seconds since the loop started\n",
      "test\n"
     ]
    },
    {
     "name": "stderr",
     "output_type": "stream",
     "text": [
      "\r",
      " 80%|███████████████████████████████████████████████████████████████████████████████████████████████████████████████████████████▏                              | 160/200 [5:04:25<1:15:35, 113.38s/it]"
     ]
    },
    {
     "name": "stdout",
     "output_type": "stream",
     "text": [
      "test loss score is :0.9088441589579415\n",
      "test acc score is :0.8128993610223643\n",
      "Epoch 160\n",
      "train\n",
      "Using real-time data augmentation.\n",
      "train loss score is :0.5054939085771393\n",
      "train acc score is :0.9008117402431222\n",
      "It has been 106.69427037239075 seconds since the loop started\n",
      "test\n"
     ]
    },
    {
     "name": "stderr",
     "output_type": "stream",
     "text": [
      "\r",
      " 80%|███████████████████████████████████████████████████████████████████████████████████████████████████████████████████████████▉                              | 161/200 [5:06:18<1:13:27, 113.01s/it]"
     ]
    },
    {
     "name": "stdout",
     "output_type": "stream",
     "text": [
      "test loss score is :0.6612781974644707\n",
      "test acc score is :0.8606230031948882\n",
      "Epoch 161\n",
      "train\n",
      "Using real-time data augmentation.\n",
      "train loss score is :0.5034909444460103\n",
      "train acc score is :0.9022912667946257\n",
      "It has been 106.16940498352051 seconds since the loop started\n",
      "test\n"
     ]
    },
    {
     "name": "stderr",
     "output_type": "stream",
     "text": [
      "\r",
      " 81%|████████████████████████████████████████████████████████████████████████████████████████████████████████████████████████████▋                             | 162/200 [5:08:09<1:11:21, 112.67s/it]"
     ]
    },
    {
     "name": "stdout",
     "output_type": "stream",
     "text": [
      "test loss score is :0.7306774154353065\n",
      "test acc score is :0.8409544728434505\n",
      "Epoch 162\n",
      "train\n",
      "Using real-time data augmentation.\n",
      "train loss score is :0.5038418337197466\n",
      "train acc score is :0.9017314459373\n",
      "It has been 105.43748950958252 seconds since the loop started\n",
      "test\n"
     ]
    },
    {
     "name": "stderr",
     "output_type": "stream",
     "text": [
      "\r",
      " 82%|█████████████████████████████████████████████████████████████████████████████████████████████████████████████████████████████▌                            | 163/200 [5:10:00<1:09:10, 112.17s/it]"
     ]
    },
    {
     "name": "stdout",
     "output_type": "stream",
     "text": [
      "test loss score is :0.7607011796948248\n",
      "test acc score is :0.8356629392971247\n",
      "Epoch 163\n",
      "train\n",
      "Using real-time data augmentation.\n",
      "train loss score is :0.5070680846446459\n",
      "train acc score is :0.898772392834293\n",
      "It has been 103.8160719871521 seconds since the loop started\n",
      "test\n"
     ]
    },
    {
     "name": "stderr",
     "output_type": "stream",
     "text": [
      "\r",
      " 82%|██████████████████████████████████████████████████████████████████████████████████████████████████████████████████████████████▎                           | 164/200 [5:11:50<1:06:49, 111.37s/it]"
     ]
    },
    {
     "name": "stdout",
     "output_type": "stream",
     "text": [
      "test loss score is :0.6625935000162155\n",
      "test acc score is :0.8596246006389776\n",
      "Epoch 164\n",
      "train\n",
      "Using real-time data augmentation.\n",
      "train loss score is :0.5071586738945351\n",
      "train acc score is :0.8988323736404351\n",
      "It has been 104.26539039611816 seconds since the loop started\n",
      "test\n"
     ]
    },
    {
     "name": "stderr",
     "output_type": "stream",
     "text": [
      "\r",
      " 82%|███████████████████████████████████████████████████████████████████████████████████████████████████████████████████████████████                           | 165/200 [5:13:40<1:04:45, 111.01s/it]"
     ]
    },
    {
     "name": "stdout",
     "output_type": "stream",
     "text": [
      "test loss score is :0.6305131735131383\n",
      "test acc score is :0.8648162939297125\n",
      "Epoch 165\n",
      "train\n",
      "Using real-time data augmentation.\n",
      "train loss score is :0.504247592091179\n",
      "train acc score is :0.9008317338451696\n",
      "It has been 111.91298294067383 seconds since the loop started\n",
      "test\n"
     ]
    },
    {
     "name": "stderr",
     "output_type": "stream",
     "text": [
      "\r",
      " 83%|███████████████████████████████████████████████████████████████████████████████████████████████████████████████████████████████▊                          | 166/200 [5:15:38<1:04:01, 113.00s/it]"
     ]
    },
    {
     "name": "stdout",
     "output_type": "stream",
     "text": [
      "test loss score is :0.6654668509864959\n",
      "test acc score is :0.858326677316294\n",
      "Epoch 166\n",
      "train\n",
      "Using real-time data augmentation.\n",
      "train loss score is :0.5064105394934509\n",
      "train acc score is :0.8988723608445297\n",
      "It has been 110.33650350570679 seconds since the loop started\n",
      "test\n"
     ]
    },
    {
     "name": "stderr",
     "output_type": "stream",
     "text": [
      "\r",
      " 84%|████████████████████████████████████████████████████████████████████████████████████████████████████████████████████████████████▌                         | 167/200 [5:17:33<1:02:36, 113.84s/it]"
     ]
    },
    {
     "name": "stdout",
     "output_type": "stream",
     "text": [
      "test loss score is :0.704582936085832\n",
      "test acc score is :0.8432507987220448\n",
      "Epoch 167\n",
      "train\n",
      "Using real-time data augmentation.\n",
      "train loss score is :0.5015346287098438\n",
      "train acc score is :0.9011916186820218\n",
      "It has been 112.22244191169739 seconds since the loop started\n",
      "test\n"
     ]
    },
    {
     "name": "stderr",
     "output_type": "stream",
     "text": [
      "\r",
      " 84%|█████████████████████████████████████████████████████████████████████████████████████████████████████████████████████████████████▎                        | 168/200 [5:19:32<1:01:24, 115.13s/it]"
     ]
    },
    {
     "name": "stdout",
     "output_type": "stream",
     "text": [
      "test loss score is :0.8912209984593498\n",
      "test acc score is :0.7954273162939297\n",
      "Epoch 168\n",
      "train\n",
      "Using real-time data augmentation.\n",
      "train loss score is :0.5052247918994474\n",
      "train acc score is :0.9003318937939859\n",
      "It has been 109.37574529647827 seconds since the loop started\n",
      "test\n"
     ]
    },
    {
     "name": "stderr",
     "output_type": "stream",
     "text": [
      "\r",
      " 84%|███████████████████████████████████████████████████████████████████████████████████████████████████████████████████████████████████▊                        | 169/200 [5:21:27<59:30, 115.18s/it]"
     ]
    },
    {
     "name": "stdout",
     "output_type": "stream",
     "text": [
      "test loss score is :0.6900619244613586\n",
      "test acc score is :0.8502396166134185\n",
      "Epoch 169\n",
      "train\n",
      "Using real-time data augmentation.\n",
      "train loss score is :0.50689010730136\n",
      "train acc score is :0.89947216890595\n",
      "It has been 105.58619427680969 seconds since the loop started\n",
      "test\n"
     ]
    },
    {
     "name": "stderr",
     "output_type": "stream",
     "text": [
      "\r",
      " 85%|████████████████████████████████████████████████████████████████████████████████████████████████████████████████████████████████████▌                       | 170/200 [5:23:19<57:03, 114.13s/it]"
     ]
    },
    {
     "name": "stdout",
     "output_type": "stream",
     "text": [
      "test loss score is :0.658121549759429\n",
      "test acc score is :0.8558306709265175\n",
      "Epoch 170\n",
      "train\n",
      "Using real-time data augmentation.\n",
      "train loss score is :0.49871400956800943\n",
      "train acc score is :0.9026511516314779\n",
      "It has been 112.93364405632019 seconds since the loop started\n",
      "test\n"
     ]
    },
    {
     "name": "stderr",
     "output_type": "stream",
     "text": [
      "\r",
      " 86%|█████████████████████████████████████████████████████████████████████████████████████████████████████████████████████████████████████▍                      | 171/200 [5:25:18<55:51, 115.55s/it]"
     ]
    },
    {
     "name": "stdout",
     "output_type": "stream",
     "text": [
      "test loss score is :0.7427606457909837\n",
      "test acc score is :0.8364616613418531\n",
      "Epoch 171\n",
      "train\n",
      "Using real-time data augmentation.\n",
      "train loss score is :0.5023266167897714\n",
      "train acc score is :0.9015714971209213\n",
      "It has been 109.98619484901428 seconds since the loop started\n",
      "test\n"
     ]
    },
    {
     "name": "stderr",
     "output_type": "stream",
     "text": [
      "\r",
      " 86%|██████████████████████████████████████████████████████████████████████████████████████████████████████████████████████████████████████▏                     | 172/200 [5:27:13<53:56, 115.61s/it]"
     ]
    },
    {
     "name": "stdout",
     "output_type": "stream",
     "text": [
      "test loss score is :0.6598758988867933\n",
      "test acc score is :0.8527356230031949\n",
      "Epoch 172\n",
      "train\n",
      "Using real-time data augmentation.\n",
      "train loss score is :0.5066306807067404\n",
      "train acc score is :0.9000719769673704\n",
      "It has been 106.16767811775208 seconds since the loop started\n",
      "test\n"
     ]
    },
    {
     "name": "stderr",
     "output_type": "stream",
     "text": [
      "\r",
      " 86%|██████████████████████████████████████████████████████████████████████████████████████████████████████████████████████████████████████▉                     | 173/200 [5:29:05<51:32, 114.53s/it]"
     ]
    },
    {
     "name": "stdout",
     "output_type": "stream",
     "text": [
      "test loss score is :0.6954093406946895\n",
      "test acc score is :0.8523362619808307\n",
      "Epoch 173\n",
      "train\n",
      "Using real-time data augmentation.\n",
      "train loss score is :0.5024003547044877\n",
      "train acc score is :0.9012316058861164\n",
      "It has been 108.94267678260803 seconds since the loop started\n",
      "test\n"
     ]
    },
    {
     "name": "stderr",
     "output_type": "stream",
     "text": [
      "\r",
      " 87%|███████████████████████████████████████████████████████████████████████████████████████████████████████████████████████████████████████▋                    | 174/200 [5:31:00<49:41, 114.67s/it]"
     ]
    },
    {
     "name": "stdout",
     "output_type": "stream",
     "text": [
      "test loss score is :0.6918886665719005\n",
      "test acc score is :0.8559305111821086\n",
      "Epoch 174\n",
      "train\n",
      "Using real-time data augmentation.\n",
      "train loss score is :0.4994856515566813\n",
      "train acc score is :0.9022312859884837\n",
      "It has been 109.12408232688904 seconds since the loop started\n",
      "test\n"
     ]
    },
    {
     "name": "stderr",
     "output_type": "stream",
     "text": [
      "\r",
      " 88%|████████████████████████████████████████████████████████████████████████████████████████████████████████████████████████████████████████▌                   | 175/200 [5:32:55<47:49, 114.79s/it]"
     ]
    },
    {
     "name": "stdout",
     "output_type": "stream",
     "text": [
      "test loss score is :0.6929464195483028\n",
      "test acc score is :0.8541333865814696\n",
      "Epoch 175\n",
      "train\n",
      "Using real-time data augmentation.\n",
      "train loss score is :0.5046028581782175\n",
      "train acc score is :0.899412188099808\n",
      "It has been 111.52422523498535 seconds since the loop started\n",
      "test\n"
     ]
    },
    {
     "name": "stderr",
     "output_type": "stream",
     "text": [
      "\r",
      " 88%|█████████████████████████████████████████████████████████████████████████████████████████████████████████████████████████████████████████▎                  | 176/200 [5:34:53<46:12, 115.53s/it]"
     ]
    },
    {
     "name": "stdout",
     "output_type": "stream",
     "text": [
      "test loss score is :0.8852665348174854\n",
      "test acc score is :0.8097044728434505\n",
      "Epoch 176\n",
      "train\n",
      "Using real-time data augmentation.\n",
      "train loss score is :0.5005411000508798\n",
      "train acc score is :0.9027111324376199\n",
      "It has been 109.3491575717926 seconds since the loop started\n",
      "test\n"
     ]
    },
    {
     "name": "stderr",
     "output_type": "stream",
     "text": [
      "\r",
      " 88%|██████████████████████████████████████████████████████████████████████████████████████████████████████████████████████████████████████████                  | 177/200 [5:36:48<44:14, 115.43s/it]"
     ]
    },
    {
     "name": "stdout",
     "output_type": "stream",
     "text": [
      "test loss score is :0.7635053598080961\n",
      "test acc score is :0.8343650159744409\n",
      "Epoch 177\n",
      "train\n",
      "Using real-time data augmentation.\n",
      "train loss score is :0.4986617461237782\n",
      "train acc score is :0.9029310620601407\n",
      "It has been 108.97661972045898 seconds since the loop started\n",
      "test\n"
     ]
    },
    {
     "name": "stderr",
     "output_type": "stream",
     "text": [
      "\r",
      " 89%|██████████████████████████████████████████████████████████████████████████████████████████████████████████████████████████████████████████▊                 | 178/200 [5:38:43<42:15, 115.24s/it]"
     ]
    },
    {
     "name": "stdout",
     "output_type": "stream",
     "text": [
      "test loss score is :0.7090840332043438\n",
      "test acc score is :0.8466453674121406\n",
      "Epoch 178\n",
      "train\n",
      "Using real-time data augmentation.\n",
      "train loss score is :0.5030184829093979\n",
      "train acc score is :0.9018714011516314\n",
      "It has been 108.06505990028381 seconds since the loop started\n",
      "test\n"
     ]
    },
    {
     "name": "stderr",
     "output_type": "stream",
     "text": [
      "\r",
      " 90%|███████████████████████████████████████████████████████████████████████████████████████████████████████████████████████████████████████████▌                | 179/200 [5:40:36<40:10, 114.79s/it]"
     ]
    },
    {
     "name": "stdout",
     "output_type": "stream",
     "text": [
      "test loss score is :0.6643023362365393\n",
      "test acc score is :0.8577276357827476\n",
      "Epoch 179\n",
      "train\n",
      "Using real-time data augmentation.\n",
      "train loss score is :0.5047228503459856\n",
      "train acc score is :0.9017114523352527\n",
      "It has been 108.38982939720154 seconds since the loop started\n",
      "test\n"
     ]
    },
    {
     "name": "stderr",
     "output_type": "stream",
     "text": [
      "\r",
      " 90%|████████████████████████████████████████████████████████████████████████████████████████████████████████████████████████████████████████████▍               | 180/200 [5:42:31<38:12, 114.62s/it]"
     ]
    },
    {
     "name": "stdout",
     "output_type": "stream",
     "text": [
      "test loss score is :0.7580673221391611\n",
      "test acc score is :0.8327675718849841\n",
      "Epoch 180\n",
      "train\n",
      "Using real-time data augmentation.\n",
      "train loss score is :0.49964084633061767\n",
      "train acc score is :0.9037507997440819\n",
      "It has been 107.28796172142029 seconds since the loop started\n",
      "test\n"
     ]
    },
    {
     "name": "stderr",
     "output_type": "stream",
     "text": [
      "\r",
      " 90%|█████████████████████████████████████████████████████████████████████████████████████████████████████████████████████████████████████████████▏              | 181/200 [5:44:23<36:08, 114.12s/it]"
     ]
    },
    {
     "name": "stdout",
     "output_type": "stream",
     "text": [
      "test loss score is :0.7397735435932208\n",
      "test acc score is :0.847444089456869\n",
      "Epoch 181\n",
      "train\n",
      "Using real-time data augmentation.\n",
      "train loss score is :0.5018073968584539\n",
      "train acc score is :0.900971689059501\n",
      "It has been 108.01443529129028 seconds since the loop started\n",
      "test\n"
     ]
    },
    {
     "name": "stderr",
     "output_type": "stream",
     "text": [
      "\r",
      " 91%|█████████████████████████████████████████████████████████████████████████████████████████████████████████████████████████████████████████████▉              | 182/200 [5:46:17<34:12, 114.03s/it]"
     ]
    },
    {
     "name": "stdout",
     "output_type": "stream",
     "text": [
      "test loss score is :0.7443530172966539\n",
      "test acc score is :0.84375\n",
      "Epoch 182\n",
      "train\n",
      "Using real-time data augmentation.\n",
      "train loss score is :0.5017975194097252\n",
      "train acc score is :0.9015914907229686\n",
      "It has been 108.2267382144928 seconds since the loop started\n",
      "test\n"
     ]
    },
    {
     "name": "stderr",
     "output_type": "stream",
     "text": [
      "\r",
      " 92%|██████████████████████████████████████████████████████████████████████████████████████████████████████████████████████████████████████████████▋             | 183/200 [5:48:11<32:18, 114.03s/it]"
     ]
    },
    {
     "name": "stdout",
     "output_type": "stream",
     "text": [
      "test loss score is :0.7169157926457378\n",
      "test acc score is :0.8416533546325878\n",
      "Epoch 183\n",
      "train\n",
      "Using real-time data augmentation.\n",
      "train loss score is :0.502847228973856\n",
      "train acc score is :0.9019513755598209\n",
      "It has been 108.71134209632874 seconds since the loop started\n",
      "test\n"
     ]
    },
    {
     "name": "stderr",
     "output_type": "stream",
     "text": [
      "\r",
      " 92%|███████████████████████████████████████████████████████████████████████████████████████████████████████████████████████████████████████████████▌            | 184/200 [5:50:06<30:26, 114.14s/it]"
     ]
    },
    {
     "name": "stdout",
     "output_type": "stream",
     "text": [
      "test loss score is :0.6810913856227558\n",
      "test acc score is :0.8573282747603834\n",
      "Epoch 184\n",
      "train\n",
      "Using real-time data augmentation.\n",
      "train loss score is :0.5003118158835901\n",
      "train acc score is :0.902191298784389\n",
      "It has been 108.71498942375183 seconds since the loop started\n",
      "test\n"
     ]
    },
    {
     "name": "stderr",
     "output_type": "stream",
     "text": [
      "\r",
      " 92%|████████████████████████████████████████████████████████████████████████████████████████████████████████████████████████████████████████████████▎           | 185/200 [5:52:00<28:33, 114.26s/it]"
     ]
    },
    {
     "name": "stdout",
     "output_type": "stream",
     "text": [
      "test loss score is :0.941864913549667\n",
      "test acc score is :0.8017172523961661\n",
      "Epoch 185\n",
      "train\n",
      "Using real-time data augmentation.\n",
      "train loss score is :0.49807083337869845\n",
      "train acc score is :0.9037907869481766\n",
      "It has been 110.21110701560974 seconds since the loop started\n",
      "test\n"
     ]
    },
    {
     "name": "stderr",
     "output_type": "stream",
     "text": [
      "\r",
      " 93%|█████████████████████████████████████████████████████████████████████████████████████████████████████████████████████████████████████████████████           | 186/200 [5:53:56<26:47, 114.79s/it]"
     ]
    },
    {
     "name": "stdout",
     "output_type": "stream",
     "text": [
      "test loss score is :0.7390673649482453\n",
      "test acc score is :0.8451477635782748\n",
      "Epoch 186\n",
      "train\n",
      "Using real-time data augmentation.\n",
      "train loss score is :0.49628082884479163\n",
      "train acc score is :0.9025511836212412\n",
      "It has been 111.30475068092346 seconds since the loop started\n",
      "test\n"
     ]
    },
    {
     "name": "stderr",
     "output_type": "stream",
     "text": [
      "\r",
      " 94%|█████████████████████████████████████████████████████████████████████████████████████████████████████████████████████████████████████████████████▊          | 187/200 [5:55:53<25:00, 115.45s/it]"
     ]
    },
    {
     "name": "stdout",
     "output_type": "stream",
     "text": [
      "test loss score is :0.669671131399112\n",
      "test acc score is :0.8561301916932907\n",
      "Epoch 187\n",
      "train\n",
      "Using real-time data augmentation.\n",
      "train loss score is :0.49596329764608993\n",
      "train acc score is :0.9047704734484965\n",
      "It has been 111.42178773880005 seconds since the loop started\n",
      "test\n"
     ]
    },
    {
     "name": "stderr",
     "output_type": "stream",
     "text": [
      "\r",
      " 94%|██████████████████████████████████████████████████████████████████████████████████████████████████████████████████████████████████████████████████▋         | 188/200 [5:57:50<23:11, 115.93s/it]"
     ]
    },
    {
     "name": "stdout",
     "output_type": "stream",
     "text": [
      "test loss score is :0.9256907411086293\n",
      "test acc score is :0.7928314696485623\n",
      "Epoch 188\n",
      "train\n",
      "Using real-time data augmentation.\n",
      "train loss score is :0.49730434163365694\n",
      "train acc score is :0.9027311260396673\n",
      "It has been 111.57223463058472 seconds since the loop started\n",
      "test\n"
     ]
    },
    {
     "name": "stderr",
     "output_type": "stream",
     "text": [
      "\r",
      " 94%|███████████████████████████████████████████████████████████████████████████████████████████████████████████████████████████████████████████████████▍        | 189/200 [5:59:48<21:20, 116.38s/it]"
     ]
    },
    {
     "name": "stdout",
     "output_type": "stream",
     "text": [
      "test loss score is :0.691889006584978\n",
      "test acc score is :0.8541333865814696\n",
      "Epoch 189\n",
      "train\n",
      "Using real-time data augmentation.\n",
      "train loss score is :0.49718592098067377\n",
      "train acc score is :0.9038907549584133\n",
      "It has been 109.04703187942505 seconds since the loop started\n",
      "test\n"
     ]
    },
    {
     "name": "stderr",
     "output_type": "stream",
     "text": [
      "\r",
      " 95%|████████████████████████████████████████████████████████████████████████████████████████████████████████████████████████████████████████████████████▏       | 190/200 [6:01:43<19:19, 115.93s/it]"
     ]
    },
    {
     "name": "stdout",
     "output_type": "stream",
     "text": [
      "test loss score is :0.7161559218796678\n",
      "test acc score is :0.8478434504792333\n",
      "Epoch 190\n",
      "train\n",
      "Using real-time data augmentation.\n",
      "train loss score is :0.5021849591630587\n",
      "train acc score is :0.9017714331413947\n",
      "It has been 106.65647602081299 seconds since the loop started\n",
      "test\n"
     ]
    },
    {
     "name": "stderr",
     "output_type": "stream",
     "text": [
      "\r",
      " 96%|████████████████████████████████████████████████████████████████████████████████████████████████████████████████████████████████████████████████████▉       | 191/200 [6:03:35<17:14, 114.93s/it]"
     ]
    },
    {
     "name": "stdout",
     "output_type": "stream",
     "text": [
      "test loss score is :0.921302388175227\n",
      "test acc score is :0.8115015974440895\n",
      "Epoch 191\n",
      "train\n",
      "Using real-time data augmentation.\n",
      "train loss score is :0.49802376566334405\n",
      "train acc score is :0.904450575815739\n",
      "It has been 107.18938040733337 seconds since the loop started\n",
      "test\n"
     ]
    },
    {
     "name": "stderr",
     "output_type": "stream",
     "text": [
      "\r",
      " 96%|█████████████████████████████████████████████████████████████████████████████████████████████████████████████████████████████████████████████████████▊      | 192/200 [6:05:28<15:15, 114.38s/it]"
     ]
    },
    {
     "name": "stdout",
     "output_type": "stream",
     "text": [
      "test loss score is :0.7429333561525558\n",
      "test acc score is :0.8377595846645367\n",
      "Epoch 192\n",
      "train\n",
      "Using real-time data augmentation.\n",
      "train loss score is :0.4955182961657195\n",
      "train acc score is :0.9047104926423545\n",
      "It has been 104.74819135665894 seconds since the loop started\n",
      "test\n"
     ]
    },
    {
     "name": "stderr",
     "output_type": "stream",
     "text": [
      "\r",
      " 96%|██████████████████████████████████████████████████████████████████████████████████████████████████████████████████████████████████████████████████████▌     | 193/200 [6:07:19<13:12, 113.21s/it]"
     ]
    },
    {
     "name": "stdout",
     "output_type": "stream",
     "text": [
      "test loss score is :0.711935332884042\n",
      "test acc score is :0.8527356230031949\n",
      "Epoch 193\n",
      "train\n",
      "Using real-time data augmentation.\n",
      "train loss score is :0.5012583315601276\n",
      "train acc score is :0.9012715930902111\n",
      "It has been 106.55595684051514 seconds since the loop started\n",
      "test\n"
     ]
    },
    {
     "name": "stderr",
     "output_type": "stream",
     "text": [
      "\r",
      " 97%|███████████████████████████████████████████████████████████████████████████████████████████████████████████████████████████████████████████████████████▎    | 194/200 [6:09:11<11:17, 112.97s/it]"
     ]
    },
    {
     "name": "stdout",
     "output_type": "stream",
     "text": [
      "test loss score is :0.6733992002642574\n",
      "test acc score is :0.8605231629392971\n",
      "Epoch 194\n",
      "train\n",
      "Using real-time data augmentation.\n",
      "train loss score is :0.4968639395687722\n",
      "train acc score is :0.9034708893154191\n",
      "It has been 106.10299634933472 seconds since the loop started\n",
      "test\n"
     ]
    },
    {
     "name": "stderr",
     "output_type": "stream",
     "text": [
      "\r",
      " 98%|████████████████████████████████████████████████████████████████████████████████████████████████████████████████████████████████████████████████████████    | 195/200 [6:11:03<09:23, 112.66s/it]"
     ]
    },
    {
     "name": "stdout",
     "output_type": "stream",
     "text": [
      "test loss score is :0.6384721077478732\n",
      "test acc score is :0.8739017571884984\n",
      "Epoch 195\n",
      "train\n",
      "Using real-time data augmentation.\n",
      "train loss score is :0.49711598730476253\n",
      "train acc score is :0.9033909149072297\n",
      "It has been 107.62589430809021 seconds since the loop started\n",
      "test\n"
     ]
    },
    {
     "name": "stderr",
     "output_type": "stream",
     "text": [
      "\r",
      " 98%|████████████████████████████████████████████████████████████████████████████████████████████████████████████████████████████████████████████████████████▉   | 196/200 [6:12:57<07:31, 112.87s/it]"
     ]
    },
    {
     "name": "stdout",
     "output_type": "stream",
     "text": [
      "test loss score is :0.6263749699432629\n",
      "test acc score is :0.8675119808306709\n",
      "Epoch 196\n",
      "train\n",
      "Using real-time data augmentation.\n",
      "train loss score is :0.49657816986624276\n",
      "train acc score is :0.9026511516314779\n",
      "It has been 107.1839337348938 seconds since the loop started\n",
      "test\n"
     ]
    },
    {
     "name": "stderr",
     "output_type": "stream",
     "text": [
      "\r",
      " 98%|█████████████████████████████████████████████████████████████████████████████████████████████████████████████████████████████████████████████████████████▋  | 197/200 [6:14:50<05:38, 112.92s/it]"
     ]
    },
    {
     "name": "stdout",
     "output_type": "stream",
     "text": [
      "test loss score is :0.7842582471835347\n",
      "test acc score is :0.8335662939297125\n",
      "Epoch 197\n",
      "train\n",
      "Using real-time data augmentation.\n",
      "train loss score is :0.49811559172867964\n",
      "train acc score is :0.9031509916826616\n",
      "It has been 105.82295346260071 seconds since the loop started\n",
      "test\n"
     ]
    },
    {
     "name": "stderr",
     "output_type": "stream",
     "text": [
      "\r",
      " 99%|██████████████████████████████████████████████████████████████████████████████████████████████████████████████████████████████████████████████████████████▍ | 198/200 [6:16:41<03:45, 112.51s/it]"
     ]
    },
    {
     "name": "stdout",
     "output_type": "stream",
     "text": [
      "test loss score is :0.6965311961337781\n",
      "test acc score is :0.8537340255591054\n",
      "Epoch 198\n",
      "train\n",
      "Using real-time data augmentation.\n",
      "train loss score is :0.49342257138139073\n",
      "train acc score is :0.9051703454894434\n",
      "It has been 108.50365471839905 seconds since the loop started\n",
      "test\n"
     ]
    },
    {
     "name": "stderr",
     "output_type": "stream",
     "text": [
      "\r",
      "100%|███████████████████████████████████████████████████████████████████████████████████████████████████████████████████████████████████████████████████████████▏| 199/200 [6:18:35<01:53, 113.05s/it]"
     ]
    },
    {
     "name": "stdout",
     "output_type": "stream",
     "text": [
      "test loss score is :0.8248856809383003\n",
      "test acc score is :0.8257787539936102\n",
      "Epoch 199\n",
      "train\n",
      "Using real-time data augmentation.\n",
      "train loss score is :0.498032376522905\n",
      "train acc score is :0.9030910108765196\n",
      "It has been 107.88523197174072 seconds since the loop started\n",
      "test\n"
     ]
    },
    {
     "name": "stderr",
     "output_type": "stream",
     "text": [
      "100%|████████████████████████████████████████████████████████████████████████████████████████████████████████████████████████████████████████████████████████████| 200/200 [6:20:29<00:00, 114.15s/it]"
     ]
    },
    {
     "name": "stdout",
     "output_type": "stream",
     "text": [
      "test loss score is :0.6234106298167104\n",
      "test acc score is :0.8651158146964856\n",
      "0.8739017571884984 194\n",
      "0.6189965538133066 92\n",
      "0.49342257138139073 198\n"
     ]
    },
    {
     "name": "stderr",
     "output_type": "stream",
     "text": [
      "\n"
     ]
    }
   ],
   "source": [
    "from __future__ import division\n",
    "\n",
    "from numpy.random import seed\n",
    "seed(1)\n",
    "from tensorflow import set_random_seed\n",
    "set_random_seed(2)\n",
    "from keras import backend as K\n",
    "import os\n",
    "import keras\n",
    "import pickle\n",
    "import os.path\n",
    "import numpy as np\n",
    "from keras.datasets import cifar10\n",
    "from keras.models import Sequential\n",
    "from keras.layers import Dense, Dropout, Flatten\n",
    "from keras.layers import Conv2D, MaxPooling2D, BatchNormalization\n",
    "from keras.optimizers import Adam\n",
    "from keras.callbacks import ModelCheckpoint\n",
    "from keras.callbacks import LambdaCallback\n",
    "from keras.callbacks import TensorBoard\n",
    "from sklearn.preprocessing import LabelBinarizer\n",
    "from keras import initializers\n",
    "import time\n",
    "from tqdm import tqdm\n",
    "from keras.layers import Dense, Conv2D, BatchNormalization, Activation\n",
    "from keras.layers import AveragePooling2D, Input, Flatten\n",
    "from keras.optimizers import Adam\n",
    "from keras.callbacks import ModelCheckpoint, LearningRateScheduler\n",
    "from keras.callbacks import ReduceLROnPlateau\n",
    "from keras.preprocessing.image import ImageDataGenerator\n",
    "from keras.regularizers import l2\n",
    "from keras.models import Model\n",
    "from keras.datasets import cifar10\n",
    "from keras.optimizers import SGD\n",
    "\n",
    "# Training parameters\n",
    "batch_size = 32  # orig paper trained all networks with batch_size=128\n",
    "epochs = 200\n",
    "data_augmentation = True\n",
    "num_classes = 10\n",
    "\n",
    "# Subtracting pixel mean improves accuracy\n",
    "subtract_pixel_mean = True\n",
    "\n",
    "\n",
    "# In[3]:\n",
    "\n",
    "\n",
    "n = 3\n",
    "\n",
    "# Model version\n",
    "# Orig paper: version = 1 (ResNet v1), Improved ResNet: version = 2 (ResNet v2)\n",
    "version = 1\n",
    "\n",
    "# Computed depth from supplied model parameter n\n",
    "if version == 1:\n",
    "    depth = n * 6 + 2\n",
    "elif version == 2:\n",
    "    depth = n * 9 + 2\n",
    "\n",
    "# Model name, depth and version\n",
    "model_type = 'ResNet%dv%d' % (depth, version)\n",
    "\n",
    "# Load the CIFAR10 data.\n",
    "(x_train, y_train), (x_test, y_test) = cifar10.load_data()\n",
    "\n",
    "# Input image dimensions.\n",
    "input_shape = x_train.shape[1:]\n",
    "\n",
    "# Normalize data.\n",
    "x_train = x_train.astype('float32') / 255\n",
    "x_test = x_test.astype('float32') / 255\n",
    "\n",
    "# If subtract pixel mean is enabled\n",
    "if subtract_pixel_mean:\n",
    "    x_train_mean = np.mean(x_train, axis=0)\n",
    "    x_train -= x_train_mean\n",
    "    x_test -= x_train_mean\n",
    "\n",
    "print('x_train shape:', x_train.shape)\n",
    "print(x_train.shape[0], 'train samples')\n",
    "print(x_test.shape[0], 'test samples')\n",
    "print('y_train shape:', y_train.shape)\n",
    "\n",
    "# Convert class vectors to binary class matrices.\n",
    "y_train = keras.utils.to_categorical(y_train, num_classes)\n",
    "y_test = keras.utils.to_categorical(y_test, num_classes)\n",
    "\n",
    "\n",
    "# In[4]:\n",
    "\n",
    "\n",
    "def lr_schedule(epoch):\n",
    "    \"\"\"Learning Rate Schedule\n",
    "\n",
    "    Learning rate is scheduled to be reduced after 80, 120, 160, 180 epochs.\n",
    "    Called automatically every epoch as part of callbacks during training.\n",
    "\n",
    "    # Arguments\n",
    "        epoch (int): The number of epochs\n",
    "\n",
    "    # Returns\n",
    "        lr (float32): learning rate\n",
    "    \"\"\"\n",
    "    lr = 1e-1\n",
    "    return lr\n",
    "\n",
    "\n",
    "def resnet_layer(inputs,\n",
    "                 num_filters=16,\n",
    "                 kernel_size=3,\n",
    "                 strides=1,\n",
    "                 activation='relu',\n",
    "                 batch_normalization=False,\n",
    "                 conv_first=True):\n",
    "    \"\"\"2D Convolution-Batch Normalization-Activation stack builder\n",
    "\n",
    "    # Arguments\n",
    "        inputs (tensor): input tensor from input image or previous layer\n",
    "        num_filters (int): Conv2D number of filters\n",
    "        kernel_size (int): Conv2D square kernel dimensions\n",
    "        strides (int): Conv2D square stride dimensions\n",
    "        activation (string): activation name\n",
    "        batch_normalization (bool): whether to include batch normalization\n",
    "        conv_first (bool): conv-bn-activation (True) or\n",
    "            bn-activation-conv (False)\n",
    "\n",
    "    # Returns\n",
    "        x (tensor): tensor as input to the next layer\n",
    "    \"\"\"\n",
    "    conv = Conv2D(num_filters,\n",
    "                  kernel_size=kernel_size,\n",
    "                  strides=strides,\n",
    "                  padding='same',\n",
    "                  kernel_initializer='he_normal',\n",
    "                  kernel_regularizer=l2(1e-4))\n",
    "\n",
    "    x = inputs\n",
    "    if conv_first:\n",
    "        x = conv(x)\n",
    "        if batch_normalization:\n",
    "            x = BatchNormalization()(x)\n",
    "        if activation is not None:\n",
    "            x = Activation(activation)(x)\n",
    "    else:\n",
    "        if batch_normalization:\n",
    "            x = BatchNormalization()(x)\n",
    "        if activation is not None:\n",
    "            x = Activation(activation)(x)\n",
    "        x = conv(x)\n",
    "    return x\n",
    "\n",
    "\n",
    "def resnet_v1(input_shape, depth, num_classes=10):\n",
    "    \"\"\"ResNet Version 1 Model builder [a]\n",
    "\n",
    "    Stacks of 2 x (3 x 3) Conv2D-BN-ReLU\n",
    "    Last ReLU is after the shortcut connection.\n",
    "    At the beginning of each stage, the feature map size is halved (downsampled)\n",
    "    by a convolutional layer with strides=2, while the number of filters is\n",
    "    doubled. Within each stage, the layers have the same number filters and the\n",
    "    same number of filters.\n",
    "    Features maps sizes:\n",
    "    stage 0: 32x32, 16\n",
    "    stage 1: 16x16, 32\n",
    "    stage 2:  8x8,  64\n",
    "    The Number of parameters is approx the same as Table 6 of [a]:\n",
    "    ResNet20 0.27M\n",
    "    ResNet32 0.46M\n",
    "    ResNet44 0.66M\n",
    "    ResNet56 0.85M\n",
    "    ResNet110 1.7M\n",
    "\n",
    "    # Arguments\n",
    "        input_shape (tensor): shape of input image tensor\n",
    "        depth (int): number of core convolutional layers\n",
    "        num_classes (int): number of classes (CIFAR10 has 10)\n",
    "\n",
    "    # Returns\n",
    "        model (Model): Keras model instance\n",
    "    \"\"\"\n",
    "    if (depth - 2) % 6 != 0:\n",
    "        raise ValueError('depth should be 6n+2 (eg 20, 32, 44 in [a])')\n",
    "    # Start model definition.\n",
    "    num_filters = 16\n",
    "    num_res_blocks = int((depth - 2) / 6)\n",
    "\n",
    "    inputs = Input(shape=input_shape)\n",
    "    x = resnet_layer(inputs=inputs)\n",
    "    # Instantiate the stack of residual units\n",
    "    for stack in range(3):\n",
    "        for res_block in range(num_res_blocks):\n",
    "            strides = 1\n",
    "            if stack > 0 and res_block == 0:  # first layer but not first stack\n",
    "                strides = 2  # downsample\n",
    "            y = resnet_layer(inputs=x,\n",
    "                             num_filters=num_filters,\n",
    "                             strides=strides)\n",
    "            y = resnet_layer(inputs=y,\n",
    "                             num_filters=num_filters,\n",
    "                             activation=None)\n",
    "            if stack > 0 and res_block == 0:  # first layer but not first stack\n",
    "                # linear projection residual shortcut connection to match\n",
    "                # changed dims\n",
    "                x = resnet_layer(inputs=x,\n",
    "                                 num_filters=num_filters,\n",
    "                                 kernel_size=1,\n",
    "                                 strides=strides,\n",
    "                                 activation=None,\n",
    "                                 batch_normalization=False)\n",
    "            x = keras.layers.add([x, y])\n",
    "            x = Activation('relu')(x)\n",
    "        num_filters *= 2\n",
    "\n",
    "    # Add classifier on top.\n",
    "    # v1 does not use BN after last shortcut connection-ReLU\n",
    "    x = AveragePooling2D(pool_size=8)(x)\n",
    "    y = Flatten()(x)\n",
    "    outputs = Dense(num_classes,\n",
    "                    activation='softmax',\n",
    "                    kernel_initializer='he_normal')(y)\n",
    "\n",
    "    # Instantiate model.\n",
    "    model = Model(inputs=inputs, outputs=outputs)\n",
    "    model.compile(optimizer=SGD(lr=0.1), loss='categorical_crossentropy', metrics = ['accuracy'])\n",
    "    return model\n",
    "\n",
    "\n",
    "# In[5]:\n",
    "\n",
    "\n",
    "depth\n",
    "\n",
    "\n",
    "# In[6]:\n",
    "\n",
    "\n",
    "from keras.layers import Input\n",
    "import keras.backend as K\n",
    "from keras.models import Model\n",
    "\n",
    "all_model = [None,None,None]\n",
    "losses = [None,None,None]\n",
    "\n",
    "prediction=[]\n",
    "\n",
    "all_score =[0,0,0]\n",
    "gr=[]\n",
    "wr=[]\n",
    "xwr=[]\n",
    "\n",
    "for i in range(3):\n",
    "    np.random.seed(25+i)\n",
    "    set_random_seed(25+i)\n",
    "    model = resnet_v1(input_shape=input_shape, depth=depth)\n",
    "    all_model[i]=model\n",
    "    \n",
    "for i in range(3):    \n",
    "    weights = all_model[i].trainable_weights # weight tensors\n",
    "    weights = [weight for weight in weights] # filter down weights tensors to only ones which are trainable\n",
    "    gradients = all_model[i].optimizer.get_gradients(all_model[i].total_loss, weights) # gradient tensors\n",
    "    gr.append(gradients)\n",
    "    wr.append(weights)\n",
    "    xweights = all_model[i].non_trainable_weights # weight tensors\n",
    "    xweights = [weight for weight in xweights] # filter down weights tensors to only ones which are trainable\n",
    "    xwr.append(xweights)\n",
    "\n",
    "    losses[i]=all_model[i].total_loss\n",
    "    prediction.append(all_model[i].output)\n",
    "\n",
    "\n",
    "# In[7]:\n",
    "\n",
    "\n",
    "model.summary()\n",
    "\n",
    "\n",
    "# In[8]:\n",
    "\n",
    "\n",
    "input_tensors = [all_model[0].inputs[0], # input data\n",
    "                 all_model[0].sample_weights[0], # how much to weight each sample by\n",
    "                 all_model[0].targets[0], # labels\n",
    "                 K.learning_phase(), # train or test mode\n",
    "                 all_model[1].inputs[0], # input data\n",
    "                 all_model[1].sample_weights[0], # how much to weight each sample by\n",
    "                 all_model[1].targets[0], # labels\n",
    "                 all_model[2].inputs[0], # input data\n",
    "                 all_model[2].sample_weights[0], # how much to weight each sample by\n",
    "                 all_model[2].targets[0], # labels\n",
    "                ]\n",
    "\n",
    "\n",
    "# In[9]:\n",
    "\n",
    "\n",
    "minlos = K.argmin(losses)\n",
    "\n",
    "grr=[]\n",
    "for x in gr:\n",
    "    for y in x:\n",
    "        grr.append(y)\n",
    "\n",
    "\n",
    "# In[10]:\n",
    "\n",
    "\n",
    "upd_test= K.function(inputs=input_tensors, outputs=[ losses[0], losses[1], losses[2], minlos, prediction[0], prediction[1], prediction[2] ])\n",
    "\n",
    "\n",
    "# In[11]:\n",
    "\n",
    "\n",
    "len(xwr[0])\n",
    "\n",
    "\n",
    "# In[ ]:\n",
    "\n",
    "\n",
    "\n",
    "\n",
    "\n",
    "# In[ ]:\n",
    "\n",
    "\n",
    "\n",
    "\n",
    "\n",
    "# In[12]:\n",
    "\n",
    "\n",
    "import tensorflow as tf\n",
    "\n",
    "\n",
    "grad_best=[]\n",
    "grad_non0 = []\n",
    "grad_non1 = []\n",
    "\n",
    "\n",
    "weig_best=[]\n",
    "weig_non0 = []\n",
    "weig_non1 = []\n",
    "\n",
    "xweig_best=[]\n",
    "xweig_non0 = []\n",
    "xweig_non1 = []\n",
    "\n",
    "\n",
    "\n",
    "\n",
    "for i in range(len(gr[0])):\n",
    "    gr_ck=tf.concat([gr[0][i],gr[1][i], gr[2][i]],0)\n",
    "    newshape = (3, ) + (tuple(wr[0][i].shape))\n",
    "\n",
    "    \n",
    "    gr_ck2=tf.reshape(gr_ck, newshape)\n",
    "    \n",
    "    bb = gr_ck2[minlos]\n",
    "    grad_best.append(bb)\n",
    "    \n",
    "    nbb0 = gr_ck2[0:minlos]                       #[0,enk) U (enk,] aralıklarının birleşimi bize nonbesti verecek\n",
    "    nbb1 = gr_ck2[minlos+1:]                      #[0,enk) U (enk,] aralıklarının birleşimi bize nonbesti verecek\n",
    "    nbc = tf.concat([nbb0,nbb1], 0)    \n",
    "    nbc = tf.reshape(nbc, (-1,))\n",
    "    newshape2 = (2, ) + (tuple(wr[0][i].shape))\n",
    "    \n",
    "    nbc2 = tf.reshape(nbc, newshape2) \n",
    "    nb0 = nbc2[0]\n",
    "    nb1 = nbc2[1]\n",
    "    grad_non0.append(nb0)\n",
    "    grad_non1.append(nb1)\n",
    "    \n",
    "\n",
    "    wr_ck=tf.concat([wr[0][i],wr[1][i], wr[2][i]],0)\n",
    "    \n",
    "    newshape = (3, ) + (tuple(wr[0][i].shape))\n",
    "    wr_ck2=tf.reshape(wr_ck, newshape) \n",
    "    bb2 = wr_ck2[minlos]\n",
    "    weig_best.append(bb2)\n",
    "    \n",
    "    #wb = wr_ck[minlos]\n",
    "    wnbb0 = wr_ck2[0:minlos]                       #[0,enk) U (enk,] aralıklarının birleşimi bize nonbesti verecek\n",
    "    wnbb1 = wr_ck2[minlos+1:]                      #[0,enk) U (enk,] aralıklarının birleşimi bize nonbesti verecek\n",
    "    wnbc = tf.concat([wnbb0,wnbb1],0)    \n",
    "    wnbc = tf.reshape(wnbc, (-1,))\n",
    "    newshape2 = (2, ) + (tuple(wr[0][i].shape))\n",
    "    \n",
    "    wnbc2 =tf.reshape(wnbc, newshape2)\n",
    "    wnb0 = wnbc2[0]\n",
    "    wnb1 = wnbc2[1]\n",
    "    weig_non0.append(wnb0)\n",
    "    weig_non1.append(wnb1)\n",
    "    \n",
    "    if i<len(xwr[0]):\n",
    "        print (i)\n",
    "        xwr_ck=tf.concat([xwr[0][i],xwr[1][i], xwr[2][i]], 0)\n",
    "\n",
    "        newshape = (3, ) + (tuple(xwr[0][i].shape))\n",
    "        \n",
    "        xwr_ck2=tf.reshape(xwr_ck, newshape)  \n",
    "        xbb2 = xwr_ck2[minlos]\n",
    "        xweig_best.append(xbb2)\n",
    "\n",
    "        #wb = wr_ck[minlos]\n",
    "        xwnbb0 = xwr_ck2[0:minlos]                       #[0,enk) U (enk,] aralıklarının birleşimi bize nonbesti verecek\n",
    "        xwnbb1 = xwr_ck2[minlos+1:]                      #[0,enk) U (enk,] aralıklarının birleşimi bize nonbesti verecek\n",
    "        xwnbc = tf.concat([xwnbb0,xwnbb1], 0)    \n",
    "        \n",
    "        xwnbc = tf.reshape(xwnbc, (-1,))\n",
    "        newshape2 = (2, ) + (tuple(xwr[0][i].shape))\n",
    "         \n",
    "        xwnbc2 = tf.reshape(xwnbc, newshape2) \n",
    "        xwnb0 = xwnbc2[0]\n",
    "        xwnb1 = xwnbc2[1]\n",
    "        xweig_non0.append(xwnb0)\n",
    "        xweig_non1.append(xwnb1)\n",
    "    else:\n",
    "        pass\n",
    "\n",
    "\n",
    "# In[13]:\n",
    "\n",
    "\n",
    "los=tf.stack([losses[0], losses[1], losses[2]])\n",
    "\n",
    "newshape = (3, )\n",
    "los2=tf.reshape(los, newshape) \n",
    "losbest = los2[minlos]\n",
    "\n",
    "#wb = wr_ck[minlos]\n",
    "los_0 = los2[0:minlos]                       #[0,enk) U (enk,] aralıklarının birleşimi bize nonbesti verecek\n",
    "los_1 = los2[minlos+1:]                      #[0,enk) U (enk,] aralıklarının birleşimi bize nonbesti verecek\n",
    "loswnbc = tf.concat([los_0,los_1],0)    \n",
    "loswnbc = tf.reshape(loswnbc,(-1,))\n",
    "newshape2 = (2, )\n",
    "\n",
    "loswnbc2 = tf.reshape(loswnbc, newshape2)\n",
    "losss0 = loswnbc2[0]\n",
    "losss1 = loswnbc2[1]\n",
    "\n",
    "\n",
    "nCom0 = [non- model.optimizer.lr * grad for grad, non in zip(grad_non0, weig_non0)]\n",
    "\n",
    "nCom1 = [non- model.optimizer.lr * grad for grad, non in zip(grad_non1, weig_non1)]\n",
    "\n",
    "xbest = [non -model.optimizer.lr * grad for grad, non in zip(grad_best, weig_best)]\n",
    "\n",
    "\n",
    "# In[15]:\n",
    "\n",
    "\n",
    "upd2 = [\n",
    "    tf.assign(param_i, v)\n",
    "    for param_i, v in zip(wr[2], xbest)\n",
    "]\n",
    "\n",
    "upd2.extend(\n",
    "        [tf.assign(param_i, v)\n",
    "        for param_i, v in zip(xwr[2], xweig_best)]\n",
    "    )\n",
    "\n",
    "\n",
    "\n",
    "upd_bb2= K.function(inputs=input_tensors, outputs=[ losses[0], losses[1], losses[2], minlos, prediction[0], prediction[1], prediction[2] ], updates=upd2)\n",
    "\n",
    "from sklearn.metrics import accuracy_score\n",
    "\n",
    "lossepoch=[]\n",
    "lossepoch_test=[]\n",
    "lossx=[]\n",
    "acctra=[]\n",
    "loss_test=[]\n",
    "acc_test=[]\n",
    "skip=[]\n",
    "\n",
    "datagen = ImageDataGenerator(\n",
    "    # set input mean to 0 over the dataset\n",
    "    featurewise_center=False,\n",
    "    # set each sample mean to 0\n",
    "    samplewise_center=False,\n",
    "    # divide inputs by std of dataset\n",
    "    featurewise_std_normalization=False,\n",
    "    # divide each input by its std\n",
    "    samplewise_std_normalization=False,\n",
    "    # apply ZCA whitening\n",
    "    zca_whitening=False,\n",
    "    # epsilon for ZCA whitening\n",
    "    zca_epsilon=1e-06,\n",
    "    # randomly rotate images in the range (deg 0 to 180)\n",
    "    rotation_range=0,\n",
    "    # randomly shift images horizontally\n",
    "    width_shift_range=0.1,\n",
    "    # randomly shift images vertically\n",
    "    height_shift_range=0.1,\n",
    "    # set range for random shear\n",
    "    shear_range=0.,\n",
    "    # set range for random zoom\n",
    "    zoom_range=0.,\n",
    "    # set range for random channel shifts\n",
    "    channel_shift_range=0.,\n",
    "    # set mode for filling points outside the input boundaries\n",
    "    fill_mode='nearest',\n",
    "    # value used for fill_mode = \"constant\"\n",
    "    cval=0.,\n",
    "    # randomly flip images\n",
    "    horizontal_flip=True,\n",
    "    # randomly flip images\n",
    "    vertical_flip=False,\n",
    "    # set rescaling factor (applied before any other transformation)\n",
    "    rescale=None,\n",
    "    # set function that will be applied on each input\n",
    "    preprocessing_function=None,\n",
    "    # image data format, either \"channels_first\" or \"channels_last\"\n",
    "    data_format=None,\n",
    "    # fraction of images reserved for validation (strictly between 0 and 1)\n",
    "    validation_split=0.0)\n",
    "\n",
    "datagentest = ImageDataGenerator()\n",
    "\n",
    "for f in tqdm(range(200)):\n",
    "    program_starts = time.time()\n",
    "    K.set_value(all_model[0].optimizer.lr, lr_schedule(f))\n",
    "    K.set_value(all_model[1].optimizer.lr, lr_schedule(f))\n",
    "    K.set_value(all_model[2].optimizer.lr, lr_schedule(f))\n",
    "    tr1=[]\n",
    "    tr2=[]\n",
    "    res1=[]\n",
    "    res2=[]\n",
    "    print('Epoch', f)\n",
    "    print ('train')\n",
    "    \n",
    "    print('Using real-time data augmentation.')\n",
    "    # This will do preprocessing and realtime data augmentation:\n",
    "\n",
    "    datagen.fit(x_train)\n",
    "    batches = 0\n",
    "    for x_batch, y_batch in datagen.flow(x_train, y_train, batch_size=batch_size):\n",
    "        K.set_learning_phase(1)\n",
    "        \n",
    "        inputs = [x_batch, # X\n",
    "                  np.ones(y_batch.shape[0]), # sample weights\n",
    "                  y_batch, # y\n",
    "                  1, # learning phase in TEST mode\n",
    "                  x_batch, # X\n",
    "                  np.ones(y_batch.shape[0]), # sample weights\n",
    "                  y_batch, # y\n",
    "                  x_batch, # X\n",
    "                  np.ones(y_batch.shape[0]), # sample weights\n",
    "                  y_batch, # y\n",
    "                 ]\n",
    "        ll = upd_bb2(inputs)\n",
    "        yhat=ll[6]\n",
    "        lossepoch.append(ll[2])\n",
    "        tr1.append(ll[2])\n",
    "        tr2.append(accuracy_score(np.argmax(y_batch,axis=1), np.argmax(yhat,axis=1)))\n",
    "        skip.append(ll[3])\n",
    "        batches += 1\n",
    "        if batches > len(x_train) / batch_size:\n",
    "            # we need to break the loop by hand because\n",
    "            # the generator loops indefinitely\n",
    "            break\n",
    "    m=(len(x_train) / batch_size)-int((len(x_train) / batch_size))\n",
    "    tr1[-1]*=m\n",
    "    tr2[-1]*=m\n",
    "    lossx.append(np.mean(tr1))\n",
    "    acctra.append(np.mean(tr2))\n",
    "    print ('train loss score is :'+str(np.mean(tr1)))\n",
    "    print ('train acc score is :'+str(np.mean(tr2)))\n",
    "    now = time.time()\n",
    "    print(\"It has been {0} seconds since the loop started\".format(now - program_starts))\n",
    "    print ('test')\n",
    "    batchesx = 0\n",
    "    \n",
    "    datagentest.fit(x_test)\n",
    "    for x_batch, y_batch in datagentest.flow(x_test, y_test, batch_size=batch_size):\n",
    "        K.set_learning_phase(0)\n",
    "        inputs = [x_batch, # X\n",
    "                  np.ones(y_batch.shape[0]), # sample weights\n",
    "                  y_batch, # y\n",
    "                  0, # learning phase in TEST mode\n",
    "                  x_batch, # X\n",
    "                  np.ones(y_batch.shape[0]), # sample weights\n",
    "                  y_batch, # y\n",
    "                  x_batch, # X\n",
    "                  np.ones(y_batch.shape[0]), # sample weights\n",
    "                  y_batch, # y\n",
    "                 ]\n",
    "        ll = upd_test(inputs)\n",
    "        yhat=ll[6]\n",
    "        lossepoch_test.append(ll[2])\n",
    "        res1.append(ll[2])\n",
    "        res2.append(accuracy_score(np.argmax(y_batch,axis=1), np.argmax(yhat,axis=1)))\n",
    "        batchesx += 1\n",
    "        if batchesx >= len(x_test) / batch_size:\n",
    "            break\n",
    "    m=(len(x_test) / batch_size)-int((len(x_test) / batch_size))\n",
    "    res1[-1]*=m\n",
    "    res2[-1]*=m\n",
    "    loss_test.append(np.mean(res1))\n",
    "    acc_test.append(np.mean(res2))\n",
    "    print ('test loss score is :'+str(np.mean(res1)))\n",
    "    print ('test acc score is :'+str(np.mean(res2)))\n",
    "\n",
    "print (np.max(acc_test), np.argmax(acc_test))\n",
    "print (np.min(loss_test), np.argmin(loss_test))\n",
    "print (np.min(lossx), np.argmin(lossx))\n",
    "\n",
    "np.savetxt(\"no_bn_base_lossepoch_r20.csv\", lossepoch, delimiter=\",\", fmt='%s')\n",
    "np.savetxt(\"no_bn_base_lossepoch_test_r20.csv\", lossepoch_test, delimiter=\",\", fmt='%s')       \n",
    "np.savetxt(\"no_bn_base_loss_tra_r20.csv\", lossx, delimiter=\",\", fmt='%s')\n",
    "np.savetxt(\"no_bn_base_skip_r20.csv\", skip, delimiter=\",\", fmt='%s')\n",
    "np.savetxt(\"no_bn_base_acc_tra_r20.csv\", acctra, delimiter=\",\", fmt='%s')\n",
    "np.savetxt(\"no_bn_base_loss_test_r20.csv\", loss_test, delimiter=\",\", fmt='%s')\n",
    "np.savetxt(\"no_bn_base_acc_test_r20.csv\", acc_test, delimiter=\",\", fmt='%s')"
   ]
  },
  {
   "cell_type": "code",
   "execution_count": null,
   "metadata": {},
   "outputs": [],
   "source": []
  }
 ],
 "metadata": {
  "kernelspec": {
   "display_name": "Python 3",
   "language": "python",
   "name": "python3"
  },
  "language_info": {
   "codemirror_mode": {
    "name": "ipython",
    "version": 3
   },
   "file_extension": ".py",
   "mimetype": "text/x-python",
   "name": "python",
   "nbconvert_exporter": "python",
   "pygments_lexer": "ipython3",
   "version": "3.7.0"
  }
 },
 "nbformat": 4,
 "nbformat_minor": 2
}
