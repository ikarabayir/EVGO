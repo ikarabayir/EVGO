{
 "cells": [
  {
   "cell_type": "code",
   "execution_count": 1,
   "metadata": {},
   "outputs": [
    {
     "name": "stderr",
     "output_type": "stream",
     "text": [
      "Using TensorFlow backend.\n"
     ]
    }
   ],
   "source": [
    "\n",
    "from __future__ import division\n",
    "from __future__ import print_function\n",
    "\n",
    "seed_value= 0\n",
    "\n",
    "import os\n",
    "os.environ['PYTHONHASHSEED']=str(seed_value)\n",
    "import random\n",
    "random.seed(seed_value)\n",
    "import numpy as np\n",
    "np.random.seed(seed_value)\n",
    "import tensorflow as tf\n",
    "tf.set_random_seed(seed_value)\n",
    "from keras import backend as K\n",
    "import os\n",
    "import keras\n",
    "import pickle\n",
    "import os.path\n",
    "import matplotlib.pyplot as plt\n",
    "\n",
    "import keras\n",
    "from keras.datasets import mnist\n",
    "from keras.models import Sequential, Model\n",
    "from keras.layers import Dense, Dropout, Flatten, Input\n",
    "from keras.layers import Conv2D, MaxPooling2D, BatchNormalization, AveragePooling2D\n",
    "from keras.optimizers import Adam\n",
    "from keras.callbacks import ModelCheckpoint\n",
    "from keras.callbacks import LambdaCallback\n",
    "from keras.callbacks import TensorBoard\n",
    "from sklearn.preprocessing import LabelBinarizer\n",
    "from keras import initializers\n",
    "import keras.backend as K\n",
    "from keras.preprocessing.image import ImageDataGenerator\n",
    "from sklearn.metrics import accuracy_score\n",
    "import time\n",
    "from tqdm import tqdm\n",
    "\n",
    "import six.moves.cPickle as pickle\n",
    "import gzip\n",
    "import os\n",
    "import sys\n",
    "import timeit"
   ]
  },
  {
   "cell_type": "code",
   "execution_count": 2,
   "metadata": {},
   "outputs": [],
   "source": [
    "dataset='mnist.pkl.gz'\n",
    "batch_size = 128\n",
    "num_classes = 10\n",
    "epochs = 100\n",
    "lr=0.001"
   ]
  },
  {
   "cell_type": "code",
   "execution_count": 3,
   "metadata": {},
   "outputs": [
    {
     "name": "stdout",
     "output_type": "stream",
     "text": [
      "... loading data\n"
     ]
    }
   ],
   "source": [
    "print('... loading data')\n",
    "\n",
    "# Load the dataset\n",
    "with gzip.open(dataset, 'rb') as f:\n",
    "    try:\n",
    "        train_set, valid_set, test_set = pickle.load(f, encoding='latin1')\n",
    "    except:\n",
    "        train_set, valid_set, test_set = pickle.load(f)"
   ]
  },
  {
   "cell_type": "code",
   "execution_count": 4,
   "metadata": {},
   "outputs": [
    {
     "name": "stdout",
     "output_type": "stream",
     "text": [
      "x_train shape: (50000, 28, 28, 1)\n",
      "50000 train samples\n",
      "10000 validation samples\n",
      "10000 test samples\n"
     ]
    }
   ],
   "source": [
    "(x_train, y_train) = train_set\n",
    "(x_test, y_test) = test_set\n",
    "(x_val, y_val) = valid_set\n",
    "img_rows, img_cols = 28, 28\n",
    "\n",
    "if K.image_data_format() == 'channels_first':\n",
    "    x_train = x_train.reshape(x_train.shape[0], 1, img_rows, img_cols)\n",
    "    x_test = x_test.reshape(x_test.shape[0], 1, img_rows, img_cols)\n",
    "    x_val = x_val.reshape(x_val.shape[0], 1, img_rows, img_cols)\n",
    "    input_shape = (1, img_rows, img_cols)\n",
    "else:\n",
    "    x_train = x_train.reshape(x_train.shape[0], img_rows, img_cols, 1)\n",
    "    x_test = x_test.reshape(x_test.shape[0], img_rows, img_cols, 1)\n",
    "    x_val = x_val.reshape(x_val.shape[0], img_rows, img_cols, 1)\n",
    "    input_shape = (img_rows, img_cols, 1)\n",
    "\n",
    "x_train = x_train.astype('float32')\n",
    "x_val = x_val.astype('float32')\n",
    "x_test = x_test.astype('float32')\n",
    "\n",
    "print('x_train shape:', x_train.shape)\n",
    "print(x_train.shape[0], 'train samples')\n",
    "print(x_val.shape[0], 'validation samples')\n",
    "print(x_test.shape[0], 'test samples')\n",
    "\n",
    "# convert class vectors to binary class matrices\n",
    "y_train = keras.utils.to_categorical(y_train, num_classes)\n",
    "y_val = keras.utils.to_categorical(y_val, num_classes)\n",
    "y_test = keras.utils.to_categorical(y_test, num_classes)"
   ]
  },
  {
   "cell_type": "code",
   "execution_count": 5,
   "metadata": {},
   "outputs": [
    {
     "data": {
      "text/plain": [
       "((50000, 28, 28, 1),\n",
       " (50000, 10),\n",
       " (10000, 28, 28, 1),\n",
       " (10000, 10),\n",
       " (10000, 28, 28, 1),\n",
       " (10000, 10))"
      ]
     },
     "execution_count": 5,
     "metadata": {},
     "output_type": "execute_result"
    }
   ],
   "source": [
    "x_train.shape, y_train.shape, x_test.shape, y_test.shape, x_val.shape, y_val.shape"
   ]
  },
  {
   "cell_type": "code",
   "execution_count": 6,
   "metadata": {},
   "outputs": [
    {
     "data": {
      "text/plain": [
       "((50000, 32, 32, 1),\n",
       " (50000, 10),\n",
       " (10000, 32, 32, 1),\n",
       " (10000, 10),\n",
       " (10000, 32, 32, 1),\n",
       " (10000, 10))"
      ]
     },
     "execution_count": 6,
     "metadata": {},
     "output_type": "execute_result"
    }
   ],
   "source": [
    "x_train = np.pad(x_train, ((0,0),(2,2),(2,2),(0,0)), 'constant')\n",
    "x_test = np.pad(x_test, ((0,0),(2,2),(2,2),(0,0)), 'constant')\n",
    "x_val = np.pad(x_val, ((0,0),(2,2),(2,2),(0,0)), 'constant')\n",
    "x_train.shape, y_train.shape, x_test.shape, y_test.shape, x_val.shape, y_val.shape"
   ]
  },
  {
   "cell_type": "code",
   "execution_count": 7,
   "metadata": {},
   "outputs": [],
   "source": [
    "input_shape = (32, 32, 1)"
   ]
  },
  {
   "cell_type": "code",
   "execution_count": 8,
   "metadata": {},
   "outputs": [],
   "source": [
    "def build_model(setseed):\n",
    "    \"\"\"\n",
    "    Builds test Keras model for LeNet MNIST\n",
    "    :param loss (str): Type of loss - must be one of Keras accepted keras losses\n",
    "    :return: Keras dense model of predefined structure\n",
    "    \"\"\"\n",
    "    input = Input(shape=input_shape)\n",
    "    conv1 = Conv2D(6, (3,3), activation='relu', kernel_initializer=initializers.lecun_uniform(seed = setseed))(input)\n",
    "    avg1 = AveragePooling2D()(conv1)\n",
    "    conv2 = Conv2D(16, (3,3), activation='relu', kernel_initializer=initializers.lecun_uniform(seed = setseed))(avg1)\n",
    "    avg2 = AveragePooling2D()(conv2)\n",
    "    flat= Flatten()(avg2)\n",
    "    dens1=Dense(units=120, activation='relu')(flat)\n",
    "    dens2=Dense(units=84, activation='relu')(dens1)\n",
    "    probs=Dense(num_classes, activation='softmax')(dens2)\n",
    "    \n",
    "    model = Model(input=input, output=probs)\n",
    "    model.compile(optimizer='sgd', loss='categorical_crossentropy', metrics = ['accuracy'])\n",
    "\n",
    "    return model\n",
    "\n"
   ]
  },
  {
   "cell_type": "code",
   "execution_count": 9,
   "metadata": {},
   "outputs": [
    {
     "name": "stderr",
     "output_type": "stream",
     "text": [
      "C:\\Users\\ikarabayir\\AppData\\Local\\Continuum\\anaconda2\\envs\\tf\\lib\\site-packages\\ipykernel_launcher.py:17: UserWarning: Update your `Model` call to the Keras 2 API: `Model(inputs=Tensor(\"in..., outputs=Tensor(\"de...)`\n"
     ]
    }
   ],
   "source": [
    "all_model = [None,None,None]\n",
    "losses = [None,None,None]\n",
    "\n",
    "prediction=[]\n",
    "\n",
    "all_score =[0,0,0]\n",
    "gr=[]\n",
    "wr=[]\n",
    "xwr=[]\n",
    "\n",
    "for i in range(3):\n",
    "    np.random.seed(25+i)\n",
    "    model = build_model(i+2)\n",
    "    all_model[i]=model\n",
    "    \n",
    "for i in range(3):    \n",
    "    weights = all_model[i].trainable_weights # weight tensors\n",
    "    weights = [weight for weight in weights] # filter down weights tensors to only ones which are trainable\n",
    "    gradients = all_model[i].optimizer.get_gradients(all_model[i].total_loss, weights) # gradient tensors\n",
    "    gr.append(gradients)\n",
    "    wr.append(weights)\n",
    "    xweights = all_model[i].non_trainable_weights # weight tensors\n",
    "    xweights = [weight for weight in xweights] # filter down weights tensors to only ones which are trainable\n",
    "    xwr.append(xweights)\n",
    "\n",
    "    losses[i]=all_model[i].total_loss\n",
    "    prediction.append(all_model[i].output)"
   ]
  },
  {
   "cell_type": "code",
   "execution_count": 10,
   "metadata": {},
   "outputs": [
    {
     "name": "stdout",
     "output_type": "stream",
     "text": [
      "_________________________________________________________________\n",
      "Layer (type)                 Output Shape              Param #   \n",
      "=================================================================\n",
      "input_3 (InputLayer)         (None, 32, 32, 1)         0         \n",
      "_________________________________________________________________\n",
      "conv2d_5 (Conv2D)            (None, 30, 30, 6)         60        \n",
      "_________________________________________________________________\n",
      "average_pooling2d_5 (Average (None, 15, 15, 6)         0         \n",
      "_________________________________________________________________\n",
      "conv2d_6 (Conv2D)            (None, 13, 13, 16)        880       \n",
      "_________________________________________________________________\n",
      "average_pooling2d_6 (Average (None, 6, 6, 16)          0         \n",
      "_________________________________________________________________\n",
      "flatten_3 (Flatten)          (None, 576)               0         \n",
      "_________________________________________________________________\n",
      "dense_7 (Dense)              (None, 120)               69240     \n",
      "_________________________________________________________________\n",
      "dense_8 (Dense)              (None, 84)                10164     \n",
      "_________________________________________________________________\n",
      "dense_9 (Dense)              (None, 10)                850       \n",
      "=================================================================\n",
      "Total params: 81,194\n",
      "Trainable params: 81,194\n",
      "Non-trainable params: 0\n",
      "_________________________________________________________________\n"
     ]
    }
   ],
   "source": [
    "model.summary()"
   ]
  },
  {
   "cell_type": "code",
   "execution_count": 13,
   "metadata": {
    "scrolled": true
   },
   "outputs": [
    {
     "name": "stderr",
     "output_type": "stream",
     "text": [
      "\r",
      "  0%|                                                                                          | 0/100 [00:00<?, ?it/s]"
     ]
    },
    {
     "name": "stdout",
     "output_type": "stream",
     "text": [
      "Epoch 0\n",
      "train\n",
      "Using real-time data augmentation.\n",
      "train loss score is :0.2875669849670285\n",
      "train acc score is :0.909167199488491\n",
      "It has been 10.043678283691406 seconds since the loop started\n",
      "test\n",
      "validation\n",
      "val loss score is :0.07037768475755554\n",
      "val acc score is :0.9684533227848101\n",
      "test\n",
      "test loss score is :0.06810494247069464\n",
      "test acc score is :0.9690466772151899\n"
     ]
    },
    {
     "name": "stderr",
     "output_type": "stream",
     "text": [
      "\r",
      "  1%|▊                                                                                 | 1/100 [00:11<19:00, 11.52s/it]"
     ]
    },
    {
     "name": "stdout",
     "output_type": "stream",
     "text": [
      "Epoch 1\n",
      "train\n",
      "Using real-time data augmentation.\n",
      "train loss score is :0.06930860992350742\n",
      "train acc score is :0.9782608695652174\n",
      "It has been 6.684080600738525 seconds since the loop started\n",
      "test\n",
      "validation\n",
      "val loss score is :0.06997422173124136\n",
      "val acc score is :0.9700356012658228\n",
      "test\n",
      "test loss score is :0.057861194720409244\n",
      "test acc score is :0.971815664556962\n"
     ]
    },
    {
     "name": "stderr",
     "output_type": "stream",
     "text": [
      "\r",
      "  2%|█▋                                                                                | 2/100 [00:19<17:07, 10.48s/it]"
     ]
    },
    {
     "name": "stdout",
     "output_type": "stream",
     "text": [
      "Epoch 2\n",
      "train\n",
      "Using real-time data augmentation.\n",
      "train loss score is :0.050460688334227545\n",
      "train acc score is :0.9841152493606138\n",
      "It has been 6.635962009429932 seconds since the loop started\n",
      "test\n",
      "validation\n",
      "val loss score is :0.053977817640557826\n",
      "val acc score is :0.9744857594936709\n",
      "test\n",
      "test loss score is :0.03600437426644884\n",
      "test acc score is :0.9781447784810127\n"
     ]
    },
    {
     "name": "stderr",
     "output_type": "stream",
     "text": [
      "\r",
      "  3%|██▍                                                                               | 3/100 [00:27<15:43,  9.73s/it]"
     ]
    },
    {
     "name": "stdout",
     "output_type": "stream",
     "text": [
      "Epoch 3\n",
      "train\n",
      "Using real-time data augmentation.\n",
      "train loss score is :0.039114329624353\n",
      "train acc score is :0.987352141943734\n",
      "It has been 6.770141124725342 seconds since the loop started\n",
      "test\n",
      "validation\n",
      "val loss score is :0.05913848682200607\n",
      "val acc score is :0.9723101265822784\n",
      "test\n",
      "test loss score is :0.061886688682568976\n",
      "test acc score is :0.9712223101265823\n"
     ]
    },
    {
     "name": "stderr",
     "output_type": "stream",
     "text": [
      "\r",
      "  4%|███▎                                                                              | 4/100 [00:35<14:45,  9.22s/it]"
     ]
    },
    {
     "name": "stdout",
     "output_type": "stream",
     "text": [
      "Epoch 4\n",
      "train\n",
      "Using real-time data augmentation.\n",
      "train loss score is :0.03401806610984766\n",
      "train acc score is :0.9887108375959079\n",
      "It has been 6.68947696685791 seconds since the loop started\n",
      "test\n",
      "validation\n",
      "val loss score is :0.048479342840943865\n",
      "val acc score is :0.9771558544303798\n",
      "test\n",
      "test loss score is :0.04269883130321639\n",
      "test acc score is :0.9778481012658228\n"
     ]
    },
    {
     "name": "stderr",
     "output_type": "stream",
     "text": [
      "\r",
      "  5%|████                                                                              | 5/100 [00:43<14:01,  8.85s/it]"
     ]
    },
    {
     "name": "stdout",
     "output_type": "stream",
     "text": [
      "Epoch 5\n",
      "train\n",
      "Using real-time data augmentation.\n",
      "train loss score is :0.02975837089778932\n",
      "train acc score is :0.9898697250639387\n",
      "It has been 6.729382038116455 seconds since the loop started\n",
      "test\n",
      "validation\n",
      "val loss score is :0.06277854163074406\n",
      "val acc score is :0.9743868670886076\n",
      "test\n",
      "test loss score is :0.04442650591512506\n",
      "test acc score is :0.977254746835443\n"
     ]
    },
    {
     "name": "stderr",
     "output_type": "stream",
     "text": [
      "\r",
      "  6%|████▉                                                                             | 6/100 [00:51<13:30,  8.62s/it]"
     ]
    },
    {
     "name": "stdout",
     "output_type": "stream",
     "text": [
      "Epoch 6\n",
      "train\n",
      "Using real-time data augmentation.\n",
      "train loss score is :0.025142003532608197\n",
      "train acc score is :0.9917479219948849\n",
      "It has been 6.827171802520752 seconds since the loop started\n",
      "test\n",
      "validation\n",
      "val loss score is :0.04846716255341486\n",
      "val acc score is :0.9784414556962026\n",
      "test\n",
      "test loss score is :0.03710199796260676\n",
      "test acc score is :0.9785403481012658\n"
     ]
    },
    {
     "name": "stderr",
     "output_type": "stream",
     "text": [
      "\r",
      "  7%|█████▋                                                                            | 7/100 [00:59<13:09,  8.48s/it]"
     ]
    },
    {
     "name": "stdout",
     "output_type": "stream",
     "text": [
      "Epoch 7\n",
      "train\n",
      "Using real-time data augmentation.\n",
      "train loss score is :0.021910907033735383\n",
      "train acc score is :0.9926670396419437\n",
      "It has been 6.5359251499176025 seconds since the loop started\n",
      "test\n",
      "validation\n",
      "val loss score is :0.06348969156892906\n",
      "val acc score is :0.9769580696202531\n",
      "test\n",
      "test loss score is :0.04690901059701544\n",
      "test acc score is :0.9771558544303798\n"
     ]
    },
    {
     "name": "stderr",
     "output_type": "stream",
     "text": [
      "\r",
      "  8%|██████▌                                                                           | 8/100 [01:07<12:43,  8.30s/it]"
     ]
    },
    {
     "name": "stdout",
     "output_type": "stream",
     "text": [
      "Epoch 8\n",
      "train\n",
      "Using real-time data augmentation.\n",
      "train loss score is :0.01916426677582045\n",
      "train acc score is :0.9932464833759591\n",
      "It has been 6.751116752624512 seconds since the loop started\n",
      "test\n",
      "validation\n",
      "val loss score is :0.06560318621367388\n",
      "val acc score is :0.9765625\n",
      "test\n",
      "test loss score is :0.049630097478268596\n",
      "test acc score is :0.978243670886076\n"
     ]
    },
    {
     "name": "stderr",
     "output_type": "stream",
     "text": [
      "\r",
      "  9%|███████▍                                                                          | 9/100 [01:15<12:25,  8.20s/it]"
     ]
    },
    {
     "name": "stdout",
     "output_type": "stream",
     "text": [
      "Epoch 9\n",
      "train\n",
      "Using real-time data augmentation.\n",
      "train loss score is :0.017766888766652843\n",
      "train acc score is :0.9938459079283888\n",
      "It has been 6.718889474868774 seconds since the loop started\n",
      "test\n",
      "validation\n",
      "val loss score is :0.05345444529377599\n",
      "val acc score is :0.9786392405063291\n",
      "test\n",
      "test loss score is :0.046987125064103415\n",
      "test acc score is :0.9788370253164557\n"
     ]
    },
    {
     "name": "stderr",
     "output_type": "stream",
     "text": [
      "\r",
      " 10%|████████                                                                         | 10/100 [01:23<12:11,  8.13s/it]"
     ]
    },
    {
     "name": "stdout",
     "output_type": "stream",
     "text": [
      "Epoch 10\n",
      "train\n",
      "Using real-time data augmentation.\n",
      "train loss score is :0.015558620689045845\n",
      "train acc score is :0.9946251598465473\n",
      "It has been 6.733500003814697 seconds since the loop started\n",
      "test\n",
      "validation\n",
      "val loss score is :0.07610941837265596\n",
      "val acc score is :0.9754746835443038\n",
      "test\n",
      "test loss score is :0.05413130825991177\n",
      "test acc score is :0.9787381329113924\n"
     ]
    },
    {
     "name": "stderr",
     "output_type": "stream",
     "text": [
      "\r",
      " 11%|████████▉                                                                        | 11/100 [01:31<12:01,  8.11s/it]"
     ]
    },
    {
     "name": "stdout",
     "output_type": "stream",
     "text": [
      "Epoch 11\n",
      "train\n",
      "Using real-time data augmentation.\n",
      "train loss score is :0.014771058534181597\n",
      "train acc score is :0.9947450447570333\n",
      "It has been 6.765944719314575 seconds since the loop started\n",
      "test\n",
      "validation\n",
      "val loss score is :0.06671730588123458\n",
      "val acc score is :0.9768591772151899\n",
      "test\n",
      "test loss score is :0.052594690534701255\n",
      "test acc score is :0.9792325949367089\n"
     ]
    },
    {
     "name": "stderr",
     "output_type": "stream",
     "text": [
      "\r",
      " 12%|█████████▋                                                                       | 12/100 [01:39<11:54,  8.12s/it]"
     ]
    },
    {
     "name": "stdout",
     "output_type": "stream",
     "text": [
      "Epoch 12\n",
      "train\n",
      "Using real-time data augmentation.\n",
      "train loss score is :0.016114859422192377\n",
      "train acc score is :0.9945452365728901\n",
      "It has been 6.548144340515137 seconds since the loop started\n",
      "test\n",
      "validation\n",
      "val loss score is :0.061122893490771955\n",
      "val acc score is :0.9788370253164557\n",
      "test\n",
      "test loss score is :0.0468391577874271\n",
      "test acc score is :0.9798259493670886\n"
     ]
    },
    {
     "name": "stderr",
     "output_type": "stream",
     "text": [
      "\r",
      " 13%|██████████▌                                                                      | 13/100 [01:47<11:39,  8.04s/it]"
     ]
    },
    {
     "name": "stdout",
     "output_type": "stream",
     "text": [
      "Epoch 13\n",
      "train\n",
      "Using real-time data augmentation.\n",
      "train loss score is :0.014665077697440583\n",
      "train acc score is :0.995164641943734\n",
      "It has been 6.602651834487915 seconds since the loop started\n",
      "test\n",
      "validation\n",
      "val loss score is :0.07172320003855587\n",
      "val acc score is :0.9779469936708861\n",
      "test\n",
      "test loss score is :0.051872538654712745\n",
      "test acc score is :0.9798259493670886\n"
     ]
    },
    {
     "name": "stderr",
     "output_type": "stream",
     "text": [
      "\r",
      " 14%|███████████▎                                                                     | 14/100 [01:55<11:28,  8.01s/it]"
     ]
    },
    {
     "name": "stdout",
     "output_type": "stream",
     "text": [
      "Epoch 14\n",
      "train\n",
      "Using real-time data augmentation.\n",
      "train loss score is :0.01578035092177157\n",
      "train acc score is :0.9950847186700768\n",
      "It has been 6.664796590805054 seconds since the loop started\n",
      "test\n",
      "validation\n",
      "val loss score is :0.07827437850901592\n",
      "val acc score is :0.9737935126582279\n",
      "test\n",
      "test loss score is :0.056659408248563095\n",
      "test acc score is :0.9770569620253164\n"
     ]
    },
    {
     "name": "stderr",
     "output_type": "stream",
     "text": [
      "\r",
      " 15%|████████████▏                                                                    | 15/100 [02:03<11:20,  8.00s/it]"
     ]
    },
    {
     "name": "stdout",
     "output_type": "stream",
     "text": [
      "Epoch 15\n",
      "train\n",
      "Using real-time data augmentation.\n",
      "train loss score is :0.01264573531599711\n",
      "train acc score is :0.9960437979539642\n",
      "It has been 6.661506175994873 seconds since the loop started\n",
      "test\n",
      "validation\n",
      "val loss score is :0.06989336560113528\n",
      "val acc score is :0.9790348101265823\n",
      "test\n",
      "test loss score is :0.05574635815857239\n",
      "test acc score is :0.9799248417721519\n"
     ]
    },
    {
     "name": "stderr",
     "output_type": "stream",
     "text": [
      "\r",
      " 16%|████████████▉                                                                    | 16/100 [02:11<11:13,  8.02s/it]"
     ]
    },
    {
     "name": "stdout",
     "output_type": "stream",
     "text": [
      "Epoch 16\n",
      "train\n",
      "Using real-time data augmentation.\n",
      "train loss score is :0.013359654201881064\n",
      "train acc score is :0.9957041240409207\n",
      "It has been 6.606549024581909 seconds since the loop started\n",
      "test\n",
      "validation\n",
      "val loss score is :0.07344209521094062\n",
      "val acc score is :0.9770569620253164\n",
      "test\n",
      "test loss score is :0.054868931984234634\n",
      "test acc score is :0.9788370253164557\n"
     ]
    },
    {
     "name": "stderr",
     "output_type": "stream",
     "text": [
      "\r",
      " 17%|█████████████▊                                                                   | 17/100 [02:19<11:03,  7.99s/it]"
     ]
    },
    {
     "name": "stdout",
     "output_type": "stream",
     "text": [
      "Epoch 17\n",
      "train\n",
      "Using real-time data augmentation.\n",
      "train loss score is :0.013872161094867315\n",
      "train acc score is :0.9959039322250639\n",
      "It has been 6.5947346687316895 seconds since the loop started\n",
      "test\n",
      "validation\n",
      "val loss score is :0.08748774818644661\n",
      "val acc score is :0.9775514240506329\n",
      "test\n",
      "test loss score is :0.06298897379774128\n",
      "test acc score is :0.978243670886076\n"
     ]
    },
    {
     "name": "stderr",
     "output_type": "stream",
     "text": [
      "\r",
      " 18%|██████████████▌                                                                  | 18/100 [02:27<10:52,  7.96s/it]"
     ]
    },
    {
     "name": "stdout",
     "output_type": "stream",
     "text": [
      "Epoch 18\n",
      "train\n",
      "Using real-time data augmentation.\n",
      "train loss score is :0.012453444704886884\n",
      "train acc score is :0.995784047314578\n",
      "It has been 6.652258396148682 seconds since the loop started\n",
      "test\n",
      "validation\n",
      "val loss score is :0.0824659348023442\n",
      "val acc score is :0.9761669303797469\n",
      "test\n",
      "test loss score is :0.07005617621318172\n",
      "test acc score is :0.9771558544303798\n"
     ]
    },
    {
     "name": "stderr",
     "output_type": "stream",
     "text": [
      "\r",
      " 19%|███████████████▍                                                                 | 19/100 [02:35<10:44,  7.95s/it]"
     ]
    },
    {
     "name": "stdout",
     "output_type": "stream",
     "text": [
      "Epoch 19\n",
      "train\n",
      "Using real-time data augmentation.\n",
      "train loss score is :0.012110235015546218\n",
      "train acc score is :0.9958240089514067\n",
      "It has been 6.729471206665039 seconds since the loop started\n",
      "test\n",
      "validation\n",
      "val loss score is :0.0734048151602185\n",
      "val acc score is :0.9790348101265823\n",
      "test\n",
      "test loss score is :0.06889869488110004\n",
      "test acc score is :0.9784414556962026\n"
     ]
    },
    {
     "name": "stderr",
     "output_type": "stream",
     "text": [
      "\r",
      " 20%|████████████████▏                                                                | 20/100 [02:43<10:38,  7.98s/it]"
     ]
    },
    {
     "name": "stdout",
     "output_type": "stream",
     "text": [
      "Epoch 20\n",
      "train\n",
      "Using real-time data augmentation.\n",
      "train loss score is :0.010421372472777007\n",
      "train acc score is :0.9962436061381074\n",
      "It has been 6.8140623569488525 seconds since the loop started\n",
      "test\n",
      "validation\n",
      "val loss score is :0.08486961779686691\n",
      "val acc score is :0.9765625\n",
      "test\n",
      "test loss score is :0.07206365078822782\n",
      "test acc score is :0.9779469936708861\n"
     ]
    },
    {
     "name": "stderr",
     "output_type": "stream",
     "text": [
      "\r",
      " 21%|█████████████████                                                                | 21/100 [02:51<10:34,  8.03s/it]"
     ]
    },
    {
     "name": "stdout",
     "output_type": "stream",
     "text": [
      "Epoch 21\n",
      "train\n",
      "Using real-time data augmentation.\n",
      "train loss score is :0.010855782752781486\n",
      "train acc score is :0.9962036445012787\n",
      "It has been 6.844866037368774 seconds since the loop started\n",
      "test\n",
      "validation\n",
      "val loss score is :0.10771029944377998\n",
      "val acc score is :0.9759691455696202\n",
      "test\n",
      "test loss score is :0.09428596306267405\n",
      "test acc score is :0.9762658227848101\n"
     ]
    },
    {
     "name": "stderr",
     "output_type": "stream",
     "text": [
      "\r",
      " 22%|█████████████████▊                                                               | 22/100 [02:59<10:30,  8.08s/it]"
     ]
    },
    {
     "name": "stdout",
     "output_type": "stream",
     "text": [
      "Epoch 22\n",
      "train\n",
      "Using real-time data augmentation.\n",
      "train loss score is :0.013468391628476463\n",
      "train acc score is :0.9961636828644501\n",
      "It has been 6.81318736076355 seconds since the loop started\n",
      "test\n",
      "validation\n",
      "val loss score is :0.13641609383000958\n",
      "val acc score is :0.9736946202531646\n",
      "test\n",
      "test loss score is :0.13351264366998103\n",
      "test acc score is :0.9721123417721519\n"
     ]
    },
    {
     "name": "stderr",
     "output_type": "stream",
     "text": [
      "\r",
      " 23%|██████████████████▋                                                              | 23/100 [03:07<10:23,  8.10s/it]"
     ]
    },
    {
     "name": "stdout",
     "output_type": "stream",
     "text": [
      "Epoch 23\n",
      "train\n",
      "Using real-time data augmentation.\n",
      "train loss score is :0.011615928140393406\n",
      "train acc score is :0.9965033567774936\n",
      "It has been 6.66730523109436 seconds since the loop started\n",
      "test\n",
      "validation\n",
      "val loss score is :0.09687041601688696\n",
      "val acc score is :0.9775514240506329\n",
      "test\n",
      "test loss score is :0.06773104744513045\n",
      "test acc score is :0.9790348101265823\n"
     ]
    },
    {
     "name": "stderr",
     "output_type": "stream",
     "text": [
      "\r",
      " 24%|███████████████████▍                                                             | 24/100 [03:15<10:12,  8.06s/it]"
     ]
    },
    {
     "name": "stdout",
     "output_type": "stream",
     "text": [
      "Epoch 24\n",
      "train\n",
      "Using real-time data augmentation.\n",
      "train loss score is :0.01079473536354433\n",
      "train acc score is :0.996962915601023\n",
      "It has been 6.641308069229126 seconds since the loop started\n",
      "test\n",
      "validation\n",
      "val loss score is :0.10532683032321165\n",
      "val acc score is :0.9759691455696202\n",
      "test\n",
      "test loss score is :0.1025247095216907\n",
      "test acc score is :0.9743868670886076\n"
     ]
    },
    {
     "name": "stderr",
     "output_type": "stream",
     "text": [
      "\r",
      " 25%|████████████████████▎                                                            | 25/100 [03:23<10:03,  8.05s/it]"
     ]
    },
    {
     "name": "stdout",
     "output_type": "stream",
     "text": [
      "Epoch 25\n",
      "train\n",
      "Using real-time data augmentation.\n",
      "train loss score is :0.012049519907377154\n",
      "train acc score is :0.9964234335038363\n",
      "It has been 6.771222352981567 seconds since the loop started\n",
      "test\n",
      "validation\n",
      "val loss score is :0.07998965024073323\n",
      "val acc score is :0.9794303797468354\n",
      "test\n",
      "test loss score is :0.062308195783450177\n",
      "test acc score is :0.9798259493670886\n"
     ]
    },
    {
     "name": "stderr",
     "output_type": "stream",
     "text": [
      "\r",
      " 26%|█████████████████████                                                            | 26/100 [03:32<09:57,  8.07s/it]"
     ]
    },
    {
     "name": "stdout",
     "output_type": "stream",
     "text": [
      "Epoch 26\n",
      "train\n",
      "Using real-time data augmentation.\n",
      "train loss score is :0.010233700314304294\n",
      "train acc score is :0.9967830882352942\n",
      "It has been 6.898893117904663 seconds since the loop started\n",
      "test\n",
      "validation\n",
      "val loss score is :0.10218708044910037\n",
      "val acc score is :0.9756724683544303\n",
      "test\n",
      "test loss score is :0.09701469175623843\n",
      "test acc score is :0.9762658227848101\n"
     ]
    },
    {
     "name": "stderr",
     "output_type": "stream",
     "text": [
      "\r",
      " 27%|█████████████████████▊                                                           | 27/100 [03:40<09:54,  8.14s/it]"
     ]
    },
    {
     "name": "stdout",
     "output_type": "stream",
     "text": [
      "Epoch 27\n",
      "train\n",
      "Using real-time data augmentation.\n",
      "train loss score is :0.011987977892756805\n",
      "train acc score is :0.9963235294117647\n",
      "It has been 6.801047325134277 seconds since the loop started\n",
      "test\n",
      "validation\n",
      "val loss score is :0.1144850216798673\n",
      "val acc score is :0.977254746835443\n",
      "test\n",
      "test loss score is :0.09614332838648448\n",
      "test acc score is :0.9779469936708861\n"
     ]
    },
    {
     "name": "stderr",
     "output_type": "stream",
     "text": [
      "\r",
      " 28%|██████████████████████▋                                                          | 28/100 [03:48<09:46,  8.15s/it]"
     ]
    },
    {
     "name": "stdout",
     "output_type": "stream",
     "text": [
      "Epoch 28\n",
      "train\n",
      "Using real-time data augmentation.\n",
      "train loss score is :0.01507477600155993\n",
      "train acc score is :0.9963035485933504\n",
      "It has been 6.8152711391448975 seconds since the loop started\n",
      "test\n",
      "validation\n",
      "val loss score is :0.1123320602332339\n",
      "val acc score is :0.9775514240506329\n",
      "test\n",
      "test loss score is :0.09944721306293983\n",
      "test acc score is :0.9770569620253164\n"
     ]
    },
    {
     "name": "stderr",
     "output_type": "stream",
     "text": [
      "\r",
      " 29%|███████████████████████▍                                                         | 29/100 [03:56<09:38,  8.15s/it]"
     ]
    },
    {
     "name": "stdout",
     "output_type": "stream",
     "text": [
      "Epoch 29\n",
      "train\n",
      "Using real-time data augmentation.\n",
      "train loss score is :0.013547459930075102\n",
      "train acc score is :0.9966831841432225\n",
      "It has been 6.65837025642395 seconds since the loop started\n",
      "test\n",
      "validation\n",
      "val loss score is :0.11012998543058337\n",
      "val acc score is :0.9771558544303798\n",
      "test\n",
      "test loss score is :0.08705950231478296\n",
      "test acc score is :0.9775514240506329\n"
     ]
    },
    {
     "name": "stderr",
     "output_type": "stream",
     "text": [
      "\r",
      " 30%|████████████████████████▎                                                        | 30/100 [04:04<09:27,  8.11s/it]"
     ]
    },
    {
     "name": "stdout",
     "output_type": "stream",
     "text": [
      "Epoch 30\n",
      "train\n",
      "Using real-time data augmentation.\n",
      "train loss score is :0.01081847684313749\n",
      "train acc score is :0.9970628196930946\n",
      "It has been 6.688413858413696 seconds since the loop started\n",
      "test\n",
      "validation\n",
      "val loss score is :0.10114413960988834\n",
      "val acc score is :0.9778481012658228\n",
      "test\n",
      "test loss score is :0.08024114232081994\n",
      "test acc score is :0.9790348101265823\n"
     ]
    },
    {
     "name": "stderr",
     "output_type": "stream",
     "text": [
      "\r",
      " 31%|█████████████████████████                                                        | 31/100 [04:12<09:17,  8.08s/it]"
     ]
    },
    {
     "name": "stdout",
     "output_type": "stream",
     "text": [
      "Epoch 31\n",
      "train\n",
      "Using real-time data augmentation.\n",
      "train loss score is :0.007592704425908877\n",
      "train acc score is :0.9975423593350383\n",
      "It has been 6.707552909851074 seconds since the loop started\n",
      "test\n",
      "validation\n",
      "val loss score is :0.1224536289870677\n",
      "val acc score is :0.9739912974683544\n",
      "test\n",
      "test loss score is :0.0866888225263746\n",
      "test acc score is :0.9775514240506329\n"
     ]
    },
    {
     "name": "stderr",
     "output_type": "stream",
     "text": [
      "\r",
      " 32%|█████████████████████████▉                                                       | 32/100 [04:20<09:08,  8.07s/it]"
     ]
    },
    {
     "name": "stdout",
     "output_type": "stream",
     "text": [
      "Epoch 32\n",
      "train\n",
      "Using real-time data augmentation.\n",
      "train loss score is :0.00881287962762434\n",
      "train acc score is :0.9973425511508951\n",
      "It has been 6.413937330245972 seconds since the loop started\n",
      "test\n",
      "validation\n",
      "val loss score is :0.10903300315805839\n",
      "val acc score is :0.9777492088607594\n",
      "test\n",
      "test loss score is :0.0834606082728568\n",
      "test acc score is :0.9792325949367089\n"
     ]
    },
    {
     "name": "stderr",
     "output_type": "stream",
     "text": [
      "\r",
      " 33%|██████████████████████████▋                                                      | 33/100 [04:28<08:54,  7.97s/it]"
     ]
    },
    {
     "name": "stdout",
     "output_type": "stream",
     "text": [
      "Epoch 33\n",
      "train\n",
      "Using real-time data augmentation.\n",
      "train loss score is :0.009515015107835931\n",
      "train acc score is :0.9974624360613811\n",
      "It has been 6.72445821762085 seconds since the loop started\n",
      "test\n",
      "validation\n",
      "val loss score is :0.11603002338424208\n",
      "val acc score is :0.9776503164556962\n",
      "test\n",
      "test loss score is :0.0882799328896045\n",
      "test acc score is :0.9799248417721519\n"
     ]
    },
    {
     "name": "stderr",
     "output_type": "stream",
     "text": [
      "\r",
      " 34%|███████████████████████████▌                                                     | 34/100 [04:36<08:48,  8.01s/it]"
     ]
    },
    {
     "name": "stdout",
     "output_type": "stream",
     "text": [
      "Epoch 34\n",
      "train\n",
      "Using real-time data augmentation.\n",
      "train loss score is :0.009989064160607504\n",
      "train acc score is :0.9972226662404092\n",
      "It has been 6.80399489402771 seconds since the loop started\n",
      "test\n",
      "validation\n",
      "val loss score is :0.09492078827585247\n",
      "val acc score is :0.9780458860759493\n",
      "test\n",
      "test loss score is :0.07115159382271653\n",
      "test acc score is :0.9809137658227848\n"
     ]
    },
    {
     "name": "stderr",
     "output_type": "stream",
     "text": [
      "\r",
      " 35%|████████████████████████████▎                                                    | 35/100 [04:44<08:42,  8.04s/it]"
     ]
    },
    {
     "name": "stdout",
     "output_type": "stream",
     "text": [
      "Epoch 35\n",
      "train\n",
      "Using real-time data augmentation.\n",
      "train loss score is :0.010274440207986056\n",
      "train acc score is :0.9972626278772379\n",
      "It has been 6.803024053573608 seconds since the loop started\n",
      "test\n",
      "validation\n",
      "val loss score is :0.11434303629729531\n",
      "val acc score is :0.9768591772151899\n",
      "test\n",
      "test loss score is :0.1009789125847134\n",
      "test acc score is :0.9783425632911392\n"
     ]
    },
    {
     "name": "stderr",
     "output_type": "stream",
     "text": [
      "\r",
      " 36%|█████████████████████████████▏                                                   | 36/100 [04:52<08:36,  8.06s/it]"
     ]
    },
    {
     "name": "stdout",
     "output_type": "stream",
     "text": [
      "Epoch 36\n",
      "train\n",
      "Using real-time data augmentation.\n",
      "train loss score is :0.015959640612080765\n",
      "train acc score is :0.9963634910485933\n",
      "It has been 6.835019826889038 seconds since the loop started\n",
      "test\n",
      "validation\n",
      "val loss score is :0.14271112731726593\n",
      "val acc score is :0.9751780063291139\n",
      "test\n",
      "test loss score is :0.11067130350093997\n",
      "test acc score is :0.975870253164557\n"
     ]
    },
    {
     "name": "stderr",
     "output_type": "stream",
     "text": [
      "\r",
      " 37%|█████████████████████████████▉                                                   | 37/100 [05:01<08:30,  8.10s/it]"
     ]
    },
    {
     "name": "stdout",
     "output_type": "stream",
     "text": [
      "Epoch 37\n",
      "train\n",
      "Using real-time data augmentation.\n",
      "train loss score is :0.012775540445485806\n",
      "train acc score is :0.9969429347826086\n",
      "It has been 6.328631639480591 seconds since the loop started\n",
      "test\n",
      "validation\n",
      "val loss score is :0.11769180924358343\n",
      "val acc score is :0.977254746835443\n",
      "test\n",
      "test loss score is :0.09276589188346368\n",
      "test acc score is :0.9793314873417721\n"
     ]
    },
    {
     "name": "stderr",
     "output_type": "stream",
     "text": [
      "\r",
      " 38%|██████████████████████████████▊                                                  | 38/100 [05:08<08:14,  7.98s/it]"
     ]
    },
    {
     "name": "stdout",
     "output_type": "stream",
     "text": [
      "Epoch 38\n",
      "train\n",
      "Using real-time data augmentation.\n",
      "train loss score is :0.01214132181060279\n",
      "train acc score is :0.9973625319693095\n",
      "It has been 6.5411536693573 seconds since the loop started\n",
      "test\n",
      "validation\n",
      "val loss score is :0.14168275668149727\n",
      "val acc score is :0.9755735759493671\n",
      "test\n",
      "test loss score is :0.11054846283666704\n",
      "test acc score is :0.9771558544303798\n"
     ]
    },
    {
     "name": "stderr",
     "output_type": "stream",
     "text": [
      "\r",
      " 39%|███████████████████████████████▌                                                 | 39/100 [05:16<08:04,  7.95s/it]"
     ]
    },
    {
     "name": "stdout",
     "output_type": "stream",
     "text": [
      "Epoch 39\n",
      "train\n",
      "Using real-time data augmentation.\n",
      "train loss score is :0.013684795443997522\n",
      "train acc score is :0.9969429347826086\n",
      "It has been 6.694697141647339 seconds since the loop started\n",
      "test\n",
      "validation\n",
      "val loss score is :0.12143343968778877\n",
      "val acc score is :0.977254746835443\n",
      "test\n",
      "test loss score is :0.10603067783821465\n",
      "test acc score is :0.9776503164556962\n"
     ]
    },
    {
     "name": "stderr",
     "output_type": "stream",
     "text": [
      "\r",
      " 40%|████████████████████████████████▍                                                | 40/100 [05:24<07:59,  7.99s/it]"
     ]
    },
    {
     "name": "stdout",
     "output_type": "stream",
     "text": [
      "Epoch 40\n",
      "train\n",
      "Using real-time data augmentation.\n",
      "train loss score is :0.012661933813564303\n",
      "train acc score is :0.9969828964194374\n",
      "It has been 6.509548664093018 seconds since the loop started\n",
      "test\n",
      "validation\n",
      "val loss score is :0.11008229171438726\n",
      "val acc score is :0.9780458860759493\n",
      "test\n",
      "test loss score is :0.11517319100150683\n",
      "test acc score is :0.9777492088607594\n"
     ]
    },
    {
     "name": "stderr",
     "output_type": "stream",
     "text": [
      "\r",
      " 41%|█████████████████████████████████▏                                               | 41/100 [05:32<07:50,  7.98s/it]"
     ]
    },
    {
     "name": "stdout",
     "output_type": "stream",
     "text": [
      "Epoch 41\n",
      "train\n",
      "Using real-time data augmentation.\n",
      "train loss score is :0.010128522605460148\n",
      "train acc score is :0.9973025895140665\n",
      "It has been 6.836061716079712 seconds since the loop started\n",
      "test\n",
      "validation\n",
      "val loss score is :0.11990943450825352\n",
      "val acc score is :0.9779469936708861\n",
      "test\n",
      "test loss score is :0.09855841486503641\n",
      "test acc score is :0.9790348101265823\n"
     ]
    },
    {
     "name": "stderr",
     "output_type": "stream",
     "text": [
      "\r",
      " 42%|██████████████████████████████████                                               | 42/100 [05:40<07:46,  8.05s/it]"
     ]
    },
    {
     "name": "stdout",
     "output_type": "stream",
     "text": [
      "Epoch 42\n",
      "train\n",
      "Using real-time data augmentation.\n",
      "train loss score is :0.008947279726666296\n",
      "train acc score is :0.9974424552429667\n",
      "It has been 6.82574462890625 seconds since the loop started\n",
      "test\n",
      "validation\n",
      "val loss score is :0.12080749371437736\n",
      "val acc score is :0.9777492088607594\n",
      "test\n",
      "test loss score is :0.10686017777737701\n",
      "test acc score is :0.977254746835443\n"
     ]
    },
    {
     "name": "stderr",
     "output_type": "stream",
     "text": [
      "\r",
      " 43%|██████████████████████████████████▊                                              | 43/100 [05:48<07:40,  8.07s/it]"
     ]
    },
    {
     "name": "stdout",
     "output_type": "stream",
     "text": [
      "Epoch 43\n",
      "train\n",
      "Using real-time data augmentation.\n",
      "train loss score is :0.009389221854892953\n",
      "train acc score is :0.9973025895140665\n",
      "It has been 6.82672381401062 seconds since the loop started\n",
      "test\n",
      "validation\n",
      "val loss score is :0.11397843249663782\n",
      "val acc score is :0.9787381329113924\n",
      "test\n",
      "test loss score is :0.09323843642878767\n",
      "test acc score is :0.9798259493670886\n"
     ]
    },
    {
     "name": "stderr",
     "output_type": "stream",
     "text": [
      "\r",
      " 44%|███████████████████████████████████▋                                             | 44/100 [05:57<07:31,  8.07s/it]"
     ]
    },
    {
     "name": "stdout",
     "output_type": "stream",
     "text": [
      "Epoch 44\n",
      "train\n",
      "Using real-time data augmentation.\n",
      "train loss score is :0.011575519108419743\n",
      "train acc score is :0.9970028772378516\n",
      "It has been 6.750889778137207 seconds since the loop started\n",
      "test\n",
      "validation\n",
      "val loss score is :0.10832513281535859\n",
      "val acc score is :0.9784414556962026\n",
      "test\n",
      "test loss score is :0.08596600937615446\n",
      "test acc score is :0.9794303797468354\n"
     ]
    },
    {
     "name": "stderr",
     "output_type": "stream",
     "text": [
      "\r",
      " 45%|████████████████████████████████████▍                                            | 45/100 [06:05<07:23,  8.07s/it]"
     ]
    },
    {
     "name": "stdout",
     "output_type": "stream",
     "text": [
      "Epoch 45\n",
      "train\n",
      "Using real-time data augmentation.\n",
      "train loss score is :0.009822124645254076\n",
      "train acc score is :0.9975023976982097\n",
      "It has been 6.694573640823364 seconds since the loop started\n",
      "test\n",
      "validation\n",
      "val loss score is :0.09894583910156392\n",
      "val acc score is :0.9797270569620253\n",
      "test\n",
      "test loss score is :0.09987306136172235\n",
      "test acc score is :0.9788370253164557\n"
     ]
    },
    {
     "name": "stderr",
     "output_type": "stream",
     "text": [
      "\r",
      " 46%|█████████████████████████████████████▎                                           | 46/100 [06:13<07:14,  8.05s/it]"
     ]
    },
    {
     "name": "stdout",
     "output_type": "stream",
     "text": [
      "Epoch 46\n",
      "train\n",
      "Using real-time data augmentation.\n",
      "train loss score is :0.011740700301448938\n",
      "train acc score is :0.9974024936061381\n",
      "It has been 6.633058071136475 seconds since the loop started\n",
      "test\n",
      "validation\n",
      "val loss score is :0.13658454097735995\n",
      "val acc score is :0.9773536392405063\n",
      "test\n",
      "test loss score is :0.12278257181953055\n",
      "test acc score is :0.9773536392405063\n"
     ]
    },
    {
     "name": "stderr",
     "output_type": "stream",
     "text": [
      "\r",
      " 47%|██████████████████████████████████████                                           | 47/100 [06:21<07:06,  8.05s/it]"
     ]
    },
    {
     "name": "stdout",
     "output_type": "stream",
     "text": [
      "Epoch 47\n",
      "train\n",
      "Using real-time data augmentation.\n",
      "train loss score is :0.00812718955868582\n",
      "train acc score is :0.9978820332480819\n",
      "It has been 6.698744058609009 seconds since the loop started\n",
      "test\n",
      "validation\n",
      "val loss score is :0.11019298774015589\n",
      "val acc score is :0.9792325949367089\n",
      "test\n",
      "test loss score is :0.11148418383525191\n",
      "test acc score is :0.9794303797468354\n"
     ]
    },
    {
     "name": "stderr",
     "output_type": "stream",
     "text": [
      "\r",
      " 48%|██████████████████████████████████████▉                                          | 48/100 [06:29<06:58,  8.05s/it]"
     ]
    },
    {
     "name": "stdout",
     "output_type": "stream",
     "text": [
      "Epoch 48\n",
      "train\n",
      "Using real-time data augmentation.\n",
      "train loss score is :0.009662677064064498\n",
      "train acc score is :0.9977022058823529\n",
      "It has been 6.882120609283447 seconds since the loop started\n",
      "test\n",
      "validation\n",
      "val loss score is :0.11231939131394905\n",
      "val acc score is :0.9792325949367089\n",
      "test\n",
      "test loss score is :0.10818277689737993\n",
      "test acc score is :0.9788370253164557\n"
     ]
    },
    {
     "name": "stderr",
     "output_type": "stream",
     "text": [
      "\r",
      " 49%|███████████████████████████████████████▋                                         | 49/100 [06:37<06:52,  8.08s/it]"
     ]
    },
    {
     "name": "stdout",
     "output_type": "stream",
     "text": [
      "Epoch 49\n",
      "train\n",
      "Using real-time data augmentation.\n",
      "train loss score is :0.012589348753375812\n",
      "train acc score is :0.9974024936061381\n",
      "It has been 6.875321626663208 seconds since the loop started\n",
      "test\n",
      "validation\n",
      "val loss score is :0.1409570188383928\n",
      "val acc score is :0.9771558544303798\n",
      "test\n",
      "test loss score is :0.13159716035108612\n",
      "test acc score is :0.9780458860759493\n"
     ]
    },
    {
     "name": "stderr",
     "output_type": "stream",
     "text": [
      "\r",
      " 50%|████████████████████████████████████████▌                                        | 50/100 [06:45<06:45,  8.11s/it]"
     ]
    },
    {
     "name": "stdout",
     "output_type": "stream",
     "text": [
      "Epoch 50\n",
      "train\n",
      "Using real-time data augmentation.\n",
      "train loss score is :0.014315186520044274\n",
      "train acc score is :0.9974824168797954\n",
      "It has been 6.849292516708374 seconds since the loop started\n",
      "test\n",
      "validation\n",
      "val loss score is :0.11461708209830575\n",
      "val acc score is :0.978243670886076\n",
      "test\n",
      "test loss score is :0.11532954583048745\n",
      "test acc score is :0.9787381329113924\n"
     ]
    },
    {
     "name": "stderr",
     "output_type": "stream",
     "text": [
      "\r",
      " 51%|█████████████████████████████████████████▎                                       | 51/100 [06:53<06:39,  8.15s/it]"
     ]
    },
    {
     "name": "stdout",
     "output_type": "stream",
     "text": [
      "Epoch 51\n",
      "train\n",
      "Using real-time data augmentation.\n",
      "train loss score is :0.014228690193204845\n",
      "train acc score is :0.9971627237851662\n",
      "It has been 6.925046682357788 seconds since the loop started\n",
      "test\n",
      "validation\n",
      "val loss score is :0.11145454353150529\n",
      "val acc score is :0.9780458860759493\n",
      "test\n",
      "test loss score is :0.10996592877160982\n",
      "test acc score is :0.9793314873417721\n"
     ]
    },
    {
     "name": "stderr",
     "output_type": "stream",
     "text": [
      "\r",
      " 52%|██████████████████████████████████████████                                       | 52/100 [07:02<06:32,  8.18s/it]"
     ]
    },
    {
     "name": "stdout",
     "output_type": "stream",
     "text": [
      "Epoch 52\n",
      "train\n",
      "Using real-time data augmentation.\n",
      "train loss score is :0.012944126338340765\n",
      "train acc score is :0.9973625319693095\n",
      "It has been 6.689968109130859 seconds since the loop started\n",
      "test\n",
      "validation\n",
      "val loss score is :0.12417806056756188\n",
      "val acc score is :0.977254746835443\n",
      "test\n",
      "test loss score is :0.12937363432963842\n",
      "test acc score is :0.9763647151898734\n"
     ]
    },
    {
     "name": "stderr",
     "output_type": "stream",
     "text": [
      "\r",
      " 53%|██████████████████████████████████████████▉                                      | 53/100 [07:09<06:21,  8.11s/it]"
     ]
    },
    {
     "name": "stdout",
     "output_type": "stream",
     "text": [
      "Epoch 53\n",
      "train\n",
      "Using real-time data augmentation.\n",
      "train loss score is :0.008357539939498662\n",
      "train acc score is :0.9978420716112532\n",
      "It has been 6.698970794677734 seconds since the loop started\n",
      "test\n",
      "validation\n",
      "val loss score is :0.1191934404537604\n",
      "val acc score is :0.9784414556962026\n",
      "test\n",
      "test loss score is :0.10377784493337754\n",
      "test acc score is :0.9795292721518988\n"
     ]
    },
    {
     "name": "stderr",
     "output_type": "stream",
     "text": [
      "\r",
      " 54%|███████████████████████████████████████████▋                                     | 54/100 [07:18<06:11,  8.09s/it]"
     ]
    },
    {
     "name": "stdout",
     "output_type": "stream",
     "text": [
      "Epoch 54\n",
      "train\n",
      "Using real-time data augmentation.\n",
      "train loss score is :0.012220218910609846\n",
      "train acc score is :0.9975223785166241\n",
      "It has been 6.8049235343933105 seconds since the loop started\n",
      "test\n",
      "validation\n",
      "val loss score is :0.1254308286432631\n",
      "val acc score is :0.978243670886076\n",
      "test\n",
      "test loss score is :0.10683813180947861\n",
      "test acc score is :0.9793314873417721\n"
     ]
    },
    {
     "name": "stderr",
     "output_type": "stream",
     "text": [
      "\r",
      " 55%|████████████████████████████████████████████▌                                    | 55/100 [07:26<06:04,  8.10s/it]"
     ]
    },
    {
     "name": "stdout",
     "output_type": "stream",
     "text": [
      "Epoch 55\n",
      "train\n",
      "Using real-time data augmentation.\n",
      "train loss score is :0.013345978395811428\n",
      "train acc score is :0.9975423593350383\n",
      "It has been 6.812532186508179 seconds since the loop started\n",
      "test\n",
      "validation\n",
      "val loss score is :0.12290406237124983\n",
      "val acc score is :0.9785403481012658\n",
      "test\n",
      "test loss score is :0.11552872268834116\n",
      "test acc score is :0.9790348101265823\n"
     ]
    },
    {
     "name": "stderr",
     "output_type": "stream",
     "text": [
      "\r",
      " 56%|█████████████████████████████████████████████▎                                   | 56/100 [07:34<05:56,  8.11s/it]"
     ]
    },
    {
     "name": "stdout",
     "output_type": "stream",
     "text": [
      "Epoch 56\n",
      "train\n",
      "Using real-time data augmentation.\n",
      "train loss score is :0.01693159652062248\n",
      "train acc score is :0.9972026854219949\n",
      "It has been 6.741836786270142 seconds since the loop started\n",
      "test\n",
      "validation\n",
      "val loss score is :0.14405265794744065\n",
      "val acc score is :0.978243670886076\n",
      "test\n",
      "test loss score is :0.13250108399884278\n",
      "test acc score is :0.9791337025316456\n"
     ]
    },
    {
     "name": "stderr",
     "output_type": "stream",
     "text": [
      "\r",
      " 57%|██████████████████████████████████████████████▏                                  | 57/100 [07:42<05:49,  8.12s/it]"
     ]
    },
    {
     "name": "stdout",
     "output_type": "stream",
     "text": [
      "Epoch 57\n",
      "train\n",
      "Using real-time data augmentation.\n",
      "train loss score is :0.016982452428182058\n",
      "train acc score is :0.9972026854219949\n",
      "It has been 6.903728246688843 seconds since the loop started\n",
      "test\n",
      "validation\n",
      "val loss score is :0.1628069140765376\n",
      "val acc score is :0.9765625\n",
      "test\n",
      "test loss score is :0.12741276362733056\n",
      "test acc score is :0.9786392405063291\n"
     ]
    },
    {
     "name": "stderr",
     "output_type": "stream",
     "text": [
      "\r",
      " 58%|██████████████████████████████████████████████▉                                  | 58/100 [07:50<05:43,  8.19s/it]"
     ]
    },
    {
     "name": "stdout",
     "output_type": "stream",
     "text": [
      "Epoch 58\n",
      "train\n",
      "Using real-time data augmentation.\n",
      "train loss score is :0.02313581965418176\n",
      "train acc score is :0.9965033567774936\n",
      "It has been 6.916335344314575 seconds since the loop started\n",
      "test\n",
      "validation\n",
      "val loss score is :0.14842635513943153\n",
      "val acc score is :0.9773536392405063\n",
      "test\n",
      "test loss score is :0.13770361154919306\n",
      "test acc score is :0.9781447784810127\n"
     ]
    },
    {
     "name": "stderr",
     "output_type": "stream",
     "text": [
      "\r",
      " 59%|███████████████████████████████████████████████▊                                 | 59/100 [07:59<05:37,  8.23s/it]"
     ]
    },
    {
     "name": "stdout",
     "output_type": "stream",
     "text": [
      "Epoch 59\n",
      "train\n",
      "Using real-time data augmentation.\n",
      "train loss score is :0.021227565663138923\n",
      "train acc score is :0.9967631074168798\n",
      "It has been 6.879309892654419 seconds since the loop started\n",
      "test\n",
      "validation\n",
      "val loss score is :0.14633354605927873\n",
      "val acc score is :0.9777492088607594\n",
      "test\n",
      "test loss score is :0.1315995995395212\n",
      "test acc score is :0.9783425632911392\n"
     ]
    },
    {
     "name": "stderr",
     "output_type": "stream",
     "text": [
      "\r",
      " 60%|████████████████████████████████████████████████▌                                | 60/100 [08:07<05:29,  8.23s/it]"
     ]
    },
    {
     "name": "stdout",
     "output_type": "stream",
     "text": [
      "Epoch 60\n",
      "train\n",
      "Using real-time data augmentation.\n",
      "train loss score is :0.019741955333120998\n",
      "train acc score is :0.9969229539641944\n",
      "It has been 6.637276887893677 seconds since the loop started\n",
      "test\n",
      "validation\n",
      "val loss score is :0.14688207808314638\n",
      "val acc score is :0.9769580696202531\n",
      "test\n",
      "test loss score is :0.1385721389962694\n",
      "test acc score is :0.9774525316455697\n"
     ]
    },
    {
     "name": "stderr",
     "output_type": "stream",
     "text": [
      "\r",
      " 61%|█████████████████████████████████████████████████▍                               | 61/100 [08:15<05:17,  8.14s/it]"
     ]
    },
    {
     "name": "stdout",
     "output_type": "stream",
     "text": [
      "Epoch 61\n",
      "train\n",
      "Using real-time data augmentation.\n",
      "train loss score is :0.021578815867460462\n",
      "train acc score is :0.9969229539641944\n",
      "It has been 6.791239261627197 seconds since the loop started\n",
      "test\n",
      "validation\n",
      "val loss score is :0.16858978015870923\n",
      "val acc score is :0.9750791139240507\n",
      "test\n",
      "test loss score is :0.14194632764060391\n",
      "test acc score is :0.9767602848101266\n"
     ]
    },
    {
     "name": "stderr",
     "output_type": "stream",
     "text": [
      "\r",
      " 62%|██████████████████████████████████████████████████▏                              | 62/100 [08:23<05:09,  8.14s/it]"
     ]
    },
    {
     "name": "stdout",
     "output_type": "stream",
     "text": [
      "Epoch 62\n",
      "train\n",
      "Using real-time data augmentation.\n",
      "train loss score is :0.020692676152392973\n",
      "train acc score is :0.9969828964194374\n",
      "It has been 6.81292200088501 seconds since the loop started\n",
      "test\n",
      "validation\n",
      "val loss score is :0.1639981710938176\n",
      "val acc score is :0.9760680379746836\n",
      "test\n",
      "test loss score is :0.12086725478230072\n",
      "test acc score is :0.9784414556962026\n"
     ]
    },
    {
     "name": "stderr",
     "output_type": "stream",
     "text": [
      "\r",
      " 63%|███████████████████████████████████████████████████                              | 63/100 [08:31<05:02,  8.17s/it]"
     ]
    },
    {
     "name": "stdout",
     "output_type": "stream",
     "text": [
      "Epoch 63\n",
      "train\n",
      "Using real-time data augmentation.\n",
      "train loss score is :0.016358464502459032\n",
      "train acc score is :0.9974024936061381\n",
      "It has been 6.7934675216674805 seconds since the loop started\n",
      "test\n",
      "validation\n",
      "val loss score is :0.18419388702093303\n",
      "val acc score is :0.974189082278481\n",
      "test\n",
      "test loss score is :0.16735960155685656\n",
      "test acc score is :0.9750791139240507\n"
     ]
    },
    {
     "name": "stderr",
     "output_type": "stream",
     "text": [
      "\r",
      " 64%|███████████████████████████████████████████████████▊                             | 64/100 [08:39<04:53,  8.16s/it]"
     ]
    },
    {
     "name": "stdout",
     "output_type": "stream",
     "text": [
      "Epoch 64\n",
      "train\n",
      "Using real-time data augmentation.\n",
      "train loss score is :0.018832601215544482\n",
      "train acc score is :0.996962915601023\n",
      "It has been 6.884753704071045 seconds since the loop started\n",
      "test\n",
      "validation\n",
      "val loss score is :0.1570097070493339\n",
      "val acc score is :0.9770569620253164\n",
      "test\n",
      "test loss score is :0.13785340405733526\n",
      "test acc score is :0.9780458860759493\n"
     ]
    },
    {
     "name": "stderr",
     "output_type": "stream",
     "text": [
      "\r",
      " 65%|████████████████████████████████████████████████████▋                            | 65/100 [08:48<04:47,  8.21s/it]"
     ]
    },
    {
     "name": "stdout",
     "output_type": "stream",
     "text": [
      "Epoch 65\n",
      "train\n",
      "Using real-time data augmentation.\n",
      "train loss score is :0.018900595977362915\n",
      "train acc score is :0.9972226662404092\n",
      "It has been 6.83010458946228 seconds since the loop started\n",
      "test\n",
      "validation\n",
      "val loss score is :0.14635715138252287\n",
      "val acc score is :0.9774525316455697\n",
      "test\n",
      "test loss score is :0.1389579412664053\n",
      "test acc score is :0.9779469936708861\n"
     ]
    },
    {
     "name": "stderr",
     "output_type": "stream",
     "text": [
      "\r",
      " 66%|█████████████████████████████████████████████████████▍                           | 66/100 [08:56<04:38,  8.20s/it]"
     ]
    },
    {
     "name": "stdout",
     "output_type": "stream",
     "text": [
      "Epoch 66\n",
      "train\n",
      "Using real-time data augmentation.\n",
      "train loss score is :0.022522534677700195\n",
      "train acc score is :0.9967830882352942\n",
      "It has been 6.75877833366394 seconds since the loop started\n",
      "test\n",
      "validation\n",
      "val loss score is :0.16060066039441587\n",
      "val acc score is :0.9764636075949367\n",
      "test\n",
      "test loss score is :0.17817196863039497\n",
      "test acc score is :0.9750791139240507\n"
     ]
    },
    {
     "name": "stderr",
     "output_type": "stream",
     "text": [
      "\r",
      " 67%|██████████████████████████████████████████████████████▎                          | 67/100 [09:04<04:29,  8.17s/it]"
     ]
    },
    {
     "name": "stdout",
     "output_type": "stream",
     "text": [
      "Epoch 67\n",
      "train\n",
      "Using real-time data augmentation.\n",
      "train loss score is :0.026394284471571675\n",
      "train acc score is :0.9966432225063938\n",
      "It has been 6.926153182983398 seconds since the loop started\n",
      "test\n",
      "validation\n",
      "val loss score is :0.134141775162484\n",
      "val acc score is :0.9790348101265823\n",
      "test\n",
      "test loss score is :0.12951376198301787\n",
      "test acc score is :0.9788370253164557\n"
     ]
    },
    {
     "name": "stderr",
     "output_type": "stream",
     "text": [
      "\r",
      " 68%|███████████████████████████████████████████████████████                          | 68/100 [09:12<04:22,  8.20s/it]"
     ]
    },
    {
     "name": "stdout",
     "output_type": "stream",
     "text": [
      "Epoch 68\n",
      "train\n",
      "Using real-time data augmentation.\n",
      "train loss score is :0.02783125845012567\n",
      "train acc score is :0.9966632033248082\n",
      "It has been 6.60441780090332 seconds since the loop started\n",
      "test\n",
      "validation\n",
      "val loss score is :0.159044306526802\n",
      "val acc score is :0.9774525316455697\n",
      "test\n",
      "test loss score is :0.12591130530791483\n",
      "test acc score is :0.9793314873417721\n"
     ]
    },
    {
     "name": "stderr",
     "output_type": "stream",
     "text": [
      "\r",
      " 69%|███████████████████████████████████████████████████████▉                         | 69/100 [09:20<04:12,  8.14s/it]"
     ]
    },
    {
     "name": "stdout",
     "output_type": "stream",
     "text": [
      "Epoch 69\n",
      "train\n",
      "Using real-time data augmentation.\n",
      "train loss score is :0.021788722273072606\n",
      "train acc score is :0.9969828964194374\n",
      "It has been 6.777737617492676 seconds since the loop started\n",
      "test\n",
      "validation\n",
      "val loss score is :0.15029857085821274\n",
      "val acc score is :0.9779469936708861\n",
      "test\n",
      "test loss score is :0.1454723003893298\n",
      "test acc score is :0.9776503164556962\n"
     ]
    },
    {
     "name": "stderr",
     "output_type": "stream",
     "text": [
      "\r",
      " 70%|████████████████████████████████████████████████████████▋                        | 70/100 [09:28<04:04,  8.14s/it]"
     ]
    },
    {
     "name": "stdout",
     "output_type": "stream",
     "text": [
      "Epoch 70\n",
      "train\n",
      "Using real-time data augmentation.\n",
      "train loss score is :0.031034790452038084\n",
      "train acc score is :0.9964234335038363\n",
      "It has been 6.682074785232544 seconds since the loop started\n",
      "test\n",
      "validation\n",
      "val loss score is :0.19296642618760249\n",
      "val acc score is :0.9750791139240507\n",
      "test\n",
      "test loss score is :0.1677976188894292\n",
      "test acc score is :0.9762658227848101\n"
     ]
    },
    {
     "name": "stderr",
     "output_type": "stream",
     "text": [
      "\r",
      " 71%|█████████████████████████████████████████████████████████▌                       | 71/100 [09:36<03:54,  8.10s/it]"
     ]
    },
    {
     "name": "stdout",
     "output_type": "stream",
     "text": [
      "Epoch 71\n",
      "train\n",
      "Using real-time data augmentation.\n",
      "train loss score is :0.024236943237050307\n",
      "train acc score is :0.9968829923273658\n",
      "It has been 6.7438600063323975 seconds since the loop started\n",
      "test\n",
      "validation\n",
      "val loss score is :0.15896108020872324\n",
      "val acc score is :0.9775514240506329\n",
      "test\n",
      "test loss score is :0.14444612972830392\n",
      "test acc score is :0.9783425632911392\n"
     ]
    },
    {
     "name": "stderr",
     "output_type": "stream",
     "text": [
      "\r",
      " 72%|██████████████████████████████████████████████████████████▎                      | 72/100 [09:44<03:46,  8.11s/it]"
     ]
    },
    {
     "name": "stdout",
     "output_type": "stream",
     "text": [
      "Epoch 72\n",
      "train\n",
      "Using real-time data augmentation.\n",
      "train loss score is :0.022176286028319194\n",
      "train acc score is :0.9970628196930946\n",
      "It has been 6.598926782608032 seconds since the loop started\n",
      "test\n",
      "validation\n",
      "val loss score is :0.16454228091624645\n",
      "val acc score is :0.9771558544303798\n",
      "test\n",
      "test loss score is :0.14946675485533534\n",
      "test acc score is :0.9771558544303798\n"
     ]
    },
    {
     "name": "stderr",
     "output_type": "stream",
     "text": [
      "\r",
      " 73%|███████████████████████████████████████████████████████████▏                     | 73/100 [09:52<03:38,  8.08s/it]"
     ]
    },
    {
     "name": "stdout",
     "output_type": "stream",
     "text": [
      "Epoch 73\n",
      "train\n",
      "Using real-time data augmentation.\n",
      "train loss score is :0.02570942560995098\n",
      "train acc score is :0.9969828964194374\n",
      "It has been 6.8149518966674805 seconds since the loop started\n",
      "test\n",
      "validation\n",
      "val loss score is :0.17609971541067113\n",
      "val acc score is :0.9765625\n",
      "test\n",
      "test loss score is :0.150067825736961\n",
      "test acc score is :0.9778481012658228\n"
     ]
    },
    {
     "name": "stderr",
     "output_type": "stream",
     "text": [
      "\r",
      " 74%|███████████████████████████████████████████████████████████▉                     | 74/100 [10:01<03:30,  8.10s/it]"
     ]
    },
    {
     "name": "stdout",
     "output_type": "stream",
     "text": [
      "Epoch 74\n",
      "train\n",
      "Using real-time data augmentation.\n",
      "train loss score is :0.028246985063866362\n",
      "train acc score is :0.9966632033248082\n",
      "It has been 6.590958833694458 seconds since the loop started\n",
      "test\n",
      "validation\n",
      "val loss score is :0.17101302238283833\n",
      "val acc score is :0.9771558544303798\n",
      "test\n",
      "test loss score is :0.14860246015897033\n",
      "test acc score is :0.9780458860759493\n"
     ]
    },
    {
     "name": "stderr",
     "output_type": "stream",
     "text": [
      "\r",
      " 75%|████████████████████████████████████████████████████████████▊                    | 75/100 [10:09<03:21,  8.05s/it]"
     ]
    },
    {
     "name": "stdout",
     "output_type": "stream",
     "text": [
      "Epoch 75\n",
      "train\n",
      "Using real-time data augmentation.\n",
      "train loss score is :0.03247255907434324\n",
      "train acc score is :0.9964234335038363\n",
      "It has been 6.771073341369629 seconds since the loop started\n",
      "test\n",
      "validation\n",
      "val loss score is :0.14443358422213232\n",
      "val acc score is :0.9786392405063291\n",
      "test\n",
      "test loss score is :0.14087574096212985\n",
      "test acc score is :0.9788370253164557\n"
     ]
    },
    {
     "name": "stderr",
     "output_type": "stream",
     "text": [
      "\r",
      " 76%|█████████████████████████████████████████████████████████████▌                   | 76/100 [10:17<03:13,  8.08s/it]"
     ]
    },
    {
     "name": "stdout",
     "output_type": "stream",
     "text": [
      "Epoch 76\n",
      "train\n",
      "Using real-time data augmentation.\n",
      "train loss score is :0.028080682538469053\n",
      "train acc score is :0.9966432225063938\n",
      "It has been 6.6162683963775635 seconds since the loop started\n",
      "test\n",
      "validation\n",
      "val loss score is :0.1609439045122181\n",
      "val acc score is :0.9776503164556962\n",
      "test\n",
      "test loss score is :0.16373080906230197\n",
      "test acc score is :0.977254746835443\n"
     ]
    },
    {
     "name": "stderr",
     "output_type": "stream",
     "text": [
      "\r",
      " 77%|██████████████████████████████████████████████████████████████▎                  | 77/100 [10:25<03:05,  8.07s/it]"
     ]
    },
    {
     "name": "stdout",
     "output_type": "stream",
     "text": [
      "Epoch 77\n",
      "train\n",
      "Using real-time data augmentation.\n",
      "train loss score is :0.027250514205674165\n",
      "train acc score is :0.9966032608695652\n",
      "It has been 6.833150148391724 seconds since the loop started\n",
      "test\n",
      "validation\n",
      "val loss score is :0.15369246919045843\n",
      "val acc score is :0.9777492088607594\n",
      "test\n",
      "test loss score is :0.14271477222203852\n",
      "test acc score is :0.978243670886076\n"
     ]
    },
    {
     "name": "stderr",
     "output_type": "stream",
     "text": [
      "\r",
      " 78%|███████████████████████████████████████████████████████████████▏                 | 78/100 [10:33<02:58,  8.09s/it]"
     ]
    },
    {
     "name": "stdout",
     "output_type": "stream",
     "text": [
      "Epoch 78\n",
      "train\n",
      "Using real-time data augmentation.\n",
      "train loss score is :0.027844210357649977\n",
      "train acc score is :0.9968630115089514\n",
      "It has been 6.876429557800293 seconds since the loop started\n",
      "test\n",
      "validation\n",
      "val loss score is :0.13234265165017836\n",
      "val acc score is :0.9795292721518988\n",
      "test\n",
      "test loss score is :0.135337493902267\n",
      "test acc score is :0.9792325949367089\n"
     ]
    },
    {
     "name": "stderr",
     "output_type": "stream",
     "text": [
      "\r",
      " 79%|███████████████████████████████████████████████████████████████▉                 | 79/100 [10:41<02:50,  8.14s/it]"
     ]
    },
    {
     "name": "stdout",
     "output_type": "stream",
     "text": [
      "Epoch 79\n",
      "train\n",
      "Using real-time data augmentation.\n",
      "train loss score is :0.02533523381329408\n",
      "train acc score is :0.9967031649616368\n",
      "It has been 6.732294797897339 seconds since the loop started\n",
      "test\n",
      "validation\n",
      "val loss score is :0.16296606632993715\n",
      "val acc score is :0.9779469936708861\n",
      "test\n",
      "test loss score is :0.1481050667429886\n",
      "test acc score is :0.9787381329113924\n"
     ]
    },
    {
     "name": "stderr",
     "output_type": "stream",
     "text": [
      "\r",
      " 80%|████████████████████████████████████████████████████████████████▊                | 80/100 [10:49<02:42,  8.14s/it]"
     ]
    },
    {
     "name": "stdout",
     "output_type": "stream",
     "text": [
      "Epoch 80\n",
      "train\n",
      "Using real-time data augmentation.\n",
      "train loss score is :0.026815154000875228\n",
      "train acc score is :0.9969429347826086\n",
      "It has been 6.578765630722046 seconds since the loop started\n",
      "test\n",
      "validation\n",
      "val loss score is :0.17893063279894333\n",
      "val acc score is :0.9765625\n",
      "test\n",
      "test loss score is :0.1551034856048497\n",
      "test acc score is :0.9779469936708861\n"
     ]
    },
    {
     "name": "stderr",
     "output_type": "stream",
     "text": [
      "\r",
      " 81%|█████████████████████████████████████████████████████████████████▌               | 81/100 [10:57<02:33,  8.06s/it]"
     ]
    },
    {
     "name": "stdout",
     "output_type": "stream",
     "text": [
      "Epoch 81\n",
      "train\n",
      "Using real-time data augmentation.\n",
      "train loss score is :0.03878010228887315\n",
      "train acc score is :0.9959638746803069\n",
      "It has been 6.669012784957886 seconds since the loop started\n",
      "test\n",
      "validation\n",
      "val loss score is :0.17330913826935151\n",
      "val acc score is :0.9771558544303798\n",
      "test\n",
      "test loss score is :0.16056523145908555\n",
      "test acc score is :0.9776503164556962\n"
     ]
    },
    {
     "name": "stderr",
     "output_type": "stream",
     "text": [
      "\r",
      " 82%|██████████████████████████████████████████████████████████████████▍              | 82/100 [11:05<02:24,  8.02s/it]"
     ]
    },
    {
     "name": "stdout",
     "output_type": "stream",
     "text": [
      "Epoch 82\n",
      "train\n",
      "Using real-time data augmentation.\n",
      "train loss score is :0.0415465823479369\n",
      "train acc score is :0.9960038363171355\n",
      "It has been 6.688997745513916 seconds since the loop started\n",
      "test\n",
      "validation\n",
      "val loss score is :0.163946164194283\n",
      "val acc score is :0.9774525316455697\n",
      "test\n",
      "test loss score is :0.1763787602216654\n",
      "test acc score is :0.9764636075949367\n"
     ]
    },
    {
     "name": "stderr",
     "output_type": "stream",
     "text": [
      "\r",
      " 83%|███████████████████████████████████████████████████████████████████▏             | 83/100 [11:13<02:16,  8.04s/it]"
     ]
    },
    {
     "name": "stdout",
     "output_type": "stream",
     "text": [
      "Epoch 83\n",
      "train\n",
      "Using real-time data augmentation.\n",
      "train loss score is :0.02761558335612964\n",
      "train acc score is :0.9968030690537084\n",
      "It has been 6.575453996658325 seconds since the loop started\n",
      "test\n",
      "validation\n",
      "val loss score is :0.1794493854059004\n",
      "val acc score is :0.9767602848101266\n",
      "test\n",
      "test loss score is :0.17752984907740652\n",
      "test acc score is :0.9764636075949367\n"
     ]
    },
    {
     "name": "stderr",
     "output_type": "stream",
     "text": [
      "\r",
      " 84%|████████████████████████████████████████████████████████████████████             | 84/100 [11:21<02:08,  8.01s/it]"
     ]
    },
    {
     "name": "stdout",
     "output_type": "stream",
     "text": [
      "Epoch 84\n",
      "train\n",
      "Using real-time data augmentation.\n",
      "train loss score is :0.03692050870085578\n",
      "train acc score is :0.9960837595907929\n",
      "It has been 6.738596439361572 seconds since the loop started\n",
      "test\n",
      "validation\n",
      "val loss score is :0.1548884682036323\n",
      "val acc score is :0.9788370253164557\n",
      "test\n",
      "test loss score is :0.13426246263732927\n",
      "test acc score is :0.9795292721518988\n"
     ]
    },
    {
     "name": "stderr",
     "output_type": "stream",
     "text": [
      "\r",
      " 85%|████████████████████████████████████████████████████████████████████▊            | 85/100 [11:29<02:00,  8.01s/it]"
     ]
    },
    {
     "name": "stdout",
     "output_type": "stream",
     "text": [
      "Epoch 85\n",
      "train\n",
      "Using real-time data augmentation.\n",
      "train loss score is :0.031259682603252834\n",
      "train acc score is :0.9967231457800512\n",
      "It has been 6.76644229888916 seconds since the loop started\n",
      "test\n",
      "validation\n",
      "val loss score is :0.19068375849539154\n",
      "val acc score is :0.9757713607594937\n",
      "test\n",
      "test loss score is :0.17304294049451868\n",
      "test acc score is :0.9769580696202531\n"
     ]
    },
    {
     "name": "stderr",
     "output_type": "stream",
     "text": [
      "\r",
      " 86%|█████████████████████████████████████████████████████████████████████▋           | 86/100 [11:37<01:52,  8.02s/it]"
     ]
    },
    {
     "name": "stdout",
     "output_type": "stream",
     "text": [
      "Epoch 86\n",
      "train\n",
      "Using real-time data augmentation.\n",
      "train loss score is :0.045426312560784166\n",
      "train acc score is :0.9957041240409207\n",
      "It has been 6.030017375946045 seconds since the loop started\n",
      "test\n",
      "validation\n",
      "val loss score is :0.17540411187672364\n",
      "val acc score is :0.9767602848101266\n",
      "test\n",
      "test loss score is :0.15770036920076738\n",
      "test acc score is :0.978243670886076\n"
     ]
    },
    {
     "name": "stderr",
     "output_type": "stream",
     "text": [
      "\r",
      " 87%|██████████████████████████████████████████████████████████████████████▍          | 87/100 [11:44<01:40,  7.76s/it]"
     ]
    },
    {
     "name": "stdout",
     "output_type": "stream",
     "text": [
      "Epoch 87\n",
      "train\n",
      "Using real-time data augmentation.\n",
      "train loss score is :0.048799094920521896\n",
      "train acc score is :0.9954843350383632\n",
      "It has been 6.6928911209106445 seconds since the loop started\n",
      "test\n",
      "validation\n",
      "val loss score is :0.20159186374163512\n",
      "val acc score is :0.9757713607594937\n",
      "test\n",
      "test loss score is :0.1909735853270993\n",
      "test acc score is :0.975870253164557\n"
     ]
    },
    {
     "name": "stderr",
     "output_type": "stream",
     "text": [
      "\r",
      " 88%|███████████████████████████████████████████████████████████████████████▎         | 88/100 [11:52<01:34,  7.84s/it]"
     ]
    },
    {
     "name": "stdout",
     "output_type": "stream",
     "text": [
      "Epoch 88\n",
      "train\n",
      "Using real-time data augmentation.\n",
      "train loss score is :0.04027838662097632\n",
      "train acc score is :0.9960038363171355\n",
      "It has been 6.784323453903198 seconds since the loop started\n",
      "test\n",
      "validation\n",
      "val loss score is :0.18609915183609715\n",
      "val acc score is :0.9765625\n",
      "test\n",
      "test loss score is :0.1620167987031094\n",
      "test acc score is :0.9778481012658228\n"
     ]
    },
    {
     "name": "stderr",
     "output_type": "stream",
     "text": [
      "\r",
      " 89%|████████████████████████████████████████████████████████████████████████         | 89/100 [12:00<01:27,  7.93s/it]"
     ]
    },
    {
     "name": "stdout",
     "output_type": "stream",
     "text": [
      "Epoch 89\n",
      "train\n",
      "Using real-time data augmentation.\n",
      "train loss score is :0.03035291116020079\n",
      "train acc score is :0.9967631074168798\n",
      "It has been 6.582976579666138 seconds since the loop started\n",
      "test\n",
      "validation\n",
      "val loss score is :0.19830903314961293\n",
      "val acc score is :0.9749802215189873\n",
      "test\n",
      "test loss score is :0.1756964269006428\n",
      "test acc score is :0.9763647151898734\n"
     ]
    },
    {
     "name": "stderr",
     "output_type": "stream",
     "text": [
      "\r",
      " 90%|████████████████████████████████████████████████████████████████████████▉        | 90/100 [12:08<01:19,  7.93s/it]"
     ]
    },
    {
     "name": "stdout",
     "output_type": "stream",
     "text": [
      "Epoch 90\n",
      "train\n",
      "Using real-time data augmentation.\n",
      "train loss score is :0.037776863804452\n",
      "train acc score is :0.9961836636828645\n",
      "It has been 6.640012741088867 seconds since the loop started\n",
      "test\n",
      "validation\n",
      "val loss score is :0.15690597015925287\n",
      "val acc score is :0.9781447784810127\n",
      "test\n",
      "test loss score is :0.16942605446092193\n",
      "test acc score is :0.9775514240506329\n"
     ]
    },
    {
     "name": "stderr",
     "output_type": "stream",
     "text": [
      "\r",
      " 91%|█████████████████████████████████████████████████████████████████████████▋       | 91/100 [12:16<01:11,  7.94s/it]"
     ]
    },
    {
     "name": "stdout",
     "output_type": "stream",
     "text": [
      "Epoch 91\n",
      "train\n",
      "Using real-time data augmentation.\n",
      "train loss score is :0.028845588293394137\n",
      "train acc score is :0.9969429347826086\n",
      "It has been 6.6905622482299805 seconds since the loop started\n",
      "test\n",
      "validation\n",
      "val loss score is :0.15256872127685497\n",
      "val acc score is :0.9788370253164557\n",
      "test\n",
      "test loss score is :0.145147348188635\n",
      "test acc score is :0.9784414556962026\n"
     ]
    },
    {
     "name": "stderr",
     "output_type": "stream",
     "text": [
      "\r",
      " 92%|██████████████████████████████████████████████████████████████████████████▌      | 92/100 [12:24<01:03,  7.96s/it]"
     ]
    },
    {
     "name": "stdout",
     "output_type": "stream",
     "text": [
      "Epoch 92\n",
      "train\n",
      "Using real-time data augmentation.\n",
      "train loss score is :0.030091302106900863\n",
      "train acc score is :0.9967431265984654\n",
      "It has been 6.830200910568237 seconds since the loop started\n",
      "test\n",
      "validation\n",
      "val loss score is :0.17467779897322072\n",
      "val acc score is :0.9773536392405063\n",
      "test\n",
      "test loss score is :0.1564703878745316\n",
      "test acc score is :0.9787381329113924\n"
     ]
    },
    {
     "name": "stderr",
     "output_type": "stream",
     "text": [
      "\r",
      " 93%|███████████████████████████████████████████████████████████████████████████▎     | 93/100 [12:32<00:56,  8.02s/it]"
     ]
    },
    {
     "name": "stdout",
     "output_type": "stream",
     "text": [
      "Epoch 93\n",
      "train\n",
      "Using real-time data augmentation.\n",
      "train loss score is :0.0276546722945347\n",
      "train acc score is :0.9969828964194374\n",
      "It has been 6.598247289657593 seconds since the loop started\n",
      "test\n",
      "validation\n",
      "val loss score is :0.15495025021003764\n",
      "val acc score is :0.978243670886076\n",
      "test\n",
      "test loss score is :0.14339914073607876\n",
      "test acc score is :0.9790348101265823\n"
     ]
    },
    {
     "name": "stderr",
     "output_type": "stream",
     "text": [
      "\r",
      " 94%|████████████████████████████████████████████████████████████████████████████▏    | 94/100 [12:40<00:48,  8.00s/it]"
     ]
    },
    {
     "name": "stdout",
     "output_type": "stream",
     "text": [
      "Epoch 94\n",
      "train\n",
      "Using real-time data augmentation.\n",
      "train loss score is :0.02368388638211241\n",
      "train acc score is :0.9974024936061381\n",
      "It has been 6.7245934009552 seconds since the loop started\n",
      "test\n",
      "validation\n",
      "val loss score is :0.16551843477031586\n",
      "val acc score is :0.978243670886076\n",
      "test\n",
      "test loss score is :0.1546280922378219\n",
      "test acc score is :0.9788370253164557\n"
     ]
    },
    {
     "name": "stderr",
     "output_type": "stream",
     "text": [
      "\r",
      " 95%|████████████████████████████████████████████████████████████████████████████▉    | 95/100 [12:48<00:40,  8.01s/it]"
     ]
    },
    {
     "name": "stdout",
     "output_type": "stream",
     "text": [
      "Epoch 95\n",
      "train\n",
      "Using real-time data augmentation.\n",
      "train loss score is :0.03408210275488133\n",
      "train acc score is :0.9966232416879796\n",
      "It has been 6.892819404602051 seconds since the loop started\n",
      "test\n",
      "validation\n",
      "val loss score is :0.15310232973932633\n",
      "val acc score is :0.9790348101265823\n",
      "test\n",
      "test loss score is :0.16274863540402523\n",
      "test acc score is :0.978243670886076\n"
     ]
    },
    {
     "name": "stderr",
     "output_type": "stream",
     "text": [
      "\r",
      " 96%|█████████████████████████████████████████████████████████████████████████████▊   | 96/100 [12:57<00:32,  8.11s/it]"
     ]
    },
    {
     "name": "stdout",
     "output_type": "stream",
     "text": [
      "Epoch 96\n",
      "train\n",
      "Using real-time data augmentation.\n",
      "train loss score is :0.027032019010270428\n",
      "train acc score is :0.997082800511509\n",
      "It has been 6.8971569538116455 seconds since the loop started\n",
      "test\n",
      "validation\n",
      "val loss score is :0.1607280031986476\n",
      "val acc score is :0.9783425632911392\n",
      "test\n",
      "test loss score is :0.17776366744098557\n",
      "test acc score is :0.9770569620253164\n"
     ]
    },
    {
     "name": "stderr",
     "output_type": "stream",
     "text": [
      "\r",
      " 97%|██████████████████████████████████████████████████████████████████████████████▌  | 97/100 [13:05<00:24,  8.15s/it]"
     ]
    },
    {
     "name": "stdout",
     "output_type": "stream",
     "text": [
      "Epoch 97\n",
      "train\n",
      "Using real-time data augmentation.\n",
      "train loss score is :0.042000725270545075\n",
      "train acc score is :0.9960837595907929\n",
      "It has been 6.719792604446411 seconds since the loop started\n",
      "test\n",
      "validation\n",
      "val loss score is :0.2027259930914734\n",
      "val acc score is :0.9752768987341772\n",
      "test\n",
      "test loss score is :0.18896060356353053\n",
      "test acc score is :0.9759691455696202\n"
     ]
    },
    {
     "name": "stderr",
     "output_type": "stream",
     "text": [
      "\r",
      " 98%|███████████████████████████████████████████████████████████████████████████████▍ | 98/100 [13:13<00:16,  8.12s/it]"
     ]
    },
    {
     "name": "stdout",
     "output_type": "stream",
     "text": [
      "Epoch 98\n",
      "train\n",
      "Using real-time data augmentation.\n",
      "train loss score is :0.02470285537140927\n",
      "train acc score is :0.9972226662404092\n",
      "It has been 6.6352198123931885 seconds since the loop started\n",
      "test\n",
      "validation\n",
      "val loss score is :0.15851021926913703\n",
      "val acc score is :0.9785403481012658\n",
      "test\n",
      "test loss score is :0.16310499052653718\n",
      "test acc score is :0.9783425632911392\n"
     ]
    },
    {
     "name": "stderr",
     "output_type": "stream",
     "text": [
      "\r",
      " 99%|████████████████████████████████████████████████████████████████████████████████▏| 99/100 [13:21<00:08,  8.07s/it]"
     ]
    },
    {
     "name": "stdout",
     "output_type": "stream",
     "text": [
      "Epoch 99\n",
      "train\n",
      "Using real-time data augmentation.\n",
      "train loss score is :0.029162025385788493\n",
      "train acc score is :0.996843030690537\n",
      "It has been 6.7373363971710205 seconds since the loop started\n",
      "test\n",
      "validation\n",
      "val loss score is :0.22219488387481198\n",
      "val acc score is :0.974189082278481\n",
      "test\n",
      "test loss score is :0.1897587941631816\n",
      "test acc score is :0.9756724683544303\n"
     ]
    },
    {
     "name": "stderr",
     "output_type": "stream",
     "text": [
      "100%|████████████████████████████████████████████████████████████████████████████████| 100/100 [13:29<00:00,  8.07s/it]\n"
     ]
    }
   ],
   "source": [
    "input_tensors = [all_model[0].inputs[0], # input data\n",
    "                 all_model[0].sample_weights[0], # how much to weight each sample by\n",
    "                 all_model[0].targets[0], # labels\n",
    "                 K.learning_phase(), # train or test mode\n",
    "                 all_model[1].inputs[0], # input data\n",
    "                 all_model[1].sample_weights[0], # how much to weight each sample by\n",
    "                 all_model[1].targets[0], # labels\n",
    "                 all_model[2].inputs[0], # input data\n",
    "                 all_model[2].sample_weights[0], # how much to weight each sample by\n",
    "                 all_model[2].targets[0], # labels\n",
    "                ]\n",
    "\n",
    "\n",
    "minlos = K.argmin(losses)\n",
    "\n",
    "grr=[]\n",
    "for x in gr:\n",
    "    for y in x:\n",
    "        grr.append(y)\n",
    "\n",
    "upd_test= K.function(inputs=input_tensors, outputs=[ losses[0], losses[1], losses[2], minlos, prediction[0], prediction[1], prediction[2] ])\n",
    "\n",
    "\n",
    "grad_best=[]\n",
    "grad_non0 = []\n",
    "grad_non1 = []\n",
    "\n",
    "\n",
    "weig_best=[]\n",
    "weig_non0 = []\n",
    "weig_non1 = []\n",
    "\n",
    "xweig_best=[]\n",
    "xweig_non0 = []\n",
    "xweig_non1 = []\n",
    "\n",
    "\n",
    "\n",
    "\n",
    "for i in range(len(gr[0])):\n",
    "    gr_ck=tf.concat([gr[0][i],gr[1][i], gr[2][i]],0)\n",
    "    newshape = (3, ) + (tuple(wr[0][i].shape))\n",
    "\n",
    "    \n",
    "    gr_ck2=tf.reshape(gr_ck, newshape)\n",
    "    \n",
    "    bb = gr_ck2[minlos]\n",
    "    grad_best.append(bb)\n",
    "    \n",
    "    nbb0 = gr_ck2[0:minlos]                       #[0,enk) U (enk,] aralıklarının birleşimi bize nonbesti verecek\n",
    "    nbb1 = gr_ck2[minlos+1:]                      #[0,enk) U (enk,] aralıklarının birleşimi bize nonbesti verecek\n",
    "    nbc = tf.concat([nbb0,nbb1], 0)    \n",
    "    nbc = tf.reshape(nbc, (-1,))\n",
    "    newshape2 = (2, ) + (tuple(wr[0][i].shape))\n",
    "    \n",
    "    nbc2 = tf.reshape(nbc, newshape2) \n",
    "    nb0 = nbc2[0]\n",
    "    nb1 = nbc2[1]\n",
    "    grad_non0.append(nb0)\n",
    "    grad_non1.append(nb1)\n",
    "    \n",
    "\n",
    "    wr_ck=tf.concat([wr[0][i],wr[1][i], wr[2][i]],0)\n",
    "    \n",
    "    newshape = (3, ) + (tuple(wr[0][i].shape))\n",
    "    wr_ck2=tf.reshape(wr_ck, newshape) \n",
    "    bb2 = wr_ck2[minlos]\n",
    "    weig_best.append(bb2)\n",
    "    \n",
    "    #wb = wr_ck[minlos]\n",
    "    wnbb0 = wr_ck2[0:minlos]                       #[0,enk) U (enk,] aralıklarının birleşimi bize nonbesti verecek\n",
    "    wnbb1 = wr_ck2[minlos+1:]                      #[0,enk) U (enk,] aralıklarının birleşimi bize nonbesti verecek\n",
    "    wnbc = tf.concat([wnbb0,wnbb1],0)    \n",
    "    wnbc = tf.reshape(wnbc, (-1,))\n",
    "    newshape2 = (2, ) + (tuple(wr[0][i].shape))\n",
    "    \n",
    "    wnbc2 =tf.reshape(wnbc, newshape2)\n",
    "    wnb0 = wnbc2[0]\n",
    "    wnb1 = wnbc2[1]\n",
    "    weig_non0.append(wnb0)\n",
    "    weig_non1.append(wnb1)\n",
    "    \n",
    "    if i<len(xwr[0]):\n",
    "        print (i)\n",
    "        xwr_ck=tf.concat([xwr[0][i],xwr[1][i], xwr[2][i]], 0)\n",
    "\n",
    "        newshape = (3, ) + (tuple(xwr[0][i].shape))\n",
    "        \n",
    "        xwr_ck2=tf.reshape(xwr_ck, newshape)  \n",
    "        xbb2 = xwr_ck2[minlos]\n",
    "        xweig_best.append(xbb2)\n",
    "\n",
    "        #wb = wr_ck[minlos]\n",
    "        xwnbb0 = xwr_ck2[0:minlos]                       #[0,enk) U (enk,] aralıklarının birleşimi bize nonbesti verecek\n",
    "        xwnbb1 = xwr_ck2[minlos+1:]                      #[0,enk) U (enk,] aralıklarının birleşimi bize nonbesti verecek\n",
    "        xwnbc = tf.concat([xwnbb0,xwnbb1], 0)    \n",
    "        \n",
    "        xwnbc = tf.reshape(xwnbc, (-1,))\n",
    "        newshape2 = (2, ) + (tuple(xwr[0][i].shape))\n",
    "         \n",
    "        xwnbc2 = tf.reshape(xwnbc, newshape2) \n",
    "        xwnb0 = xwnbc2[0]\n",
    "        xwnb1 = xwnbc2[1]\n",
    "        xweig_non0.append(xwnb0)\n",
    "        xweig_non1.append(xwnb1)\n",
    "    else:\n",
    "        pass\n",
    "\n",
    "    \n",
    "los=tf.stack([losses[0], losses[1], losses[2]])\n",
    "\n",
    "newshape = (3, )\n",
    "los2=tf.reshape(los, newshape) \n",
    "losbest = los2[minlos]\n",
    "\n",
    "#wb = wr_ck[minlos]\n",
    "los_0 = los2[0:minlos]                       #[0,enk) U (enk,] aralıklarının birleşimi bize nonbesti verecek\n",
    "los_1 = los2[minlos+1:]                      #[0,enk) U (enk,] aralıklarının birleşimi bize nonbesti verecek\n",
    "loswnbc = tf.concat([los_0,los_1],0)    \n",
    "loswnbc = tf.reshape(loswnbc,(-1,))\n",
    "newshape2 = (2, )\n",
    "\n",
    "loswnbc2 = tf.reshape(loswnbc, newshape2)\n",
    "losss0 = loswnbc2[0]\n",
    "losss1 = loswnbc2[1]\n",
    "\n",
    "rmsb = [tf.Variable(tf.zeros(t.shape, dtype=tf.float32, name='m_best')) for t in weig_best]\n",
    "rmsn0 = [tf.Variable(tf.zeros(t.shape, dtype=tf.float32, name='m_0')) for t in weig_non0]\n",
    "rmsn1 = [tf.Variable(tf.zeros(t.shape, dtype=tf.float32, name='m_1')) for t in weig_non1]\n",
    "\n",
    "step_size = 0.01\n",
    "eps = 1e-6\n",
    "bet = 0.9\n",
    "\n",
    "upd2=[]\n",
    "\n",
    "for rms, best, gbest,  param_i, in zip(rmsb, weig_best, grad_best, wr[2]):\n",
    "    _rms = rms * bet\n",
    "    _rms += (1 - bet) * gbest * gbest\n",
    "    #_rms = tf.cast(_rms, tf.float32)\n",
    "    rms_up =  -step_size * gbest / tf.sqrt(_rms + eps)\n",
    "\n",
    "    upd2.extend([tf.assign(rms, _rms)])\n",
    "    upd2.extend([tf.assign(param_i, best + rms_up)])\n",
    "\n",
    "\n",
    "upd2.extend([tf.assign(param_i, v)\n",
    "        for param_i, v in zip(xwr[2], xweig_best)]\n",
    "    )    \n",
    "    \n",
    "    \n",
    "upd_bb2= K.function(inputs=input_tensors, outputs=[ losses[0], losses[1], losses[2], minlos, prediction[0], prediction[1], prediction[2] ], updates=upd2)\n",
    "\n",
    "\n",
    "\n",
    "\n",
    "lossepoch=[]\n",
    "lossepoch_test=[]\n",
    "lossx=[]\n",
    "acctra=[]\n",
    "loss_test=[]\n",
    "acc_test=[]\n",
    "skip=[]\n",
    "\n",
    "\n",
    "loss_val=[]\n",
    "acc_val=[]\n",
    "lossepoch_val=[]\n",
    "\n",
    "   \n",
    "for f in tqdm(range(epochs)):\n",
    "    program_starts = time.time()\n",
    "    tr1=[]\n",
    "    tr2=[]\n",
    "    res1=[]\n",
    "    res2=[]\n",
    "    res3=[]\n",
    "    res4=[]\n",
    "    print('Epoch', f)\n",
    "    print ('train')\n",
    "    \n",
    "    print('Using real-time data augmentation.')\n",
    "    # This will do preprocessing and realtime data augmentation:\n",
    "\n",
    "    batches = 0\n",
    "    for x_batch, y_batch in ImageDataGenerator().flow(x_train, y_train, batch_size=batch_size):\n",
    "        K.set_learning_phase(1)\n",
    "        inputs = [x_batch, # X\n",
    "                  np.ones(y_batch.shape[0]), # sample weights\n",
    "                  y_batch, # y\n",
    "                  1, # learning phase in Train mode\n",
    "                  x_batch, # X\n",
    "                  np.ones(y_batch.shape[0]), # sample weights\n",
    "                  y_batch, # y\n",
    "                  x_batch, # X\n",
    "                  np.ones(y_batch.shape[0]), # sample weights\n",
    "                  y_batch, # y\n",
    "                 ]\n",
    "        ll = upd_bb2(inputs)\n",
    "        yhat=ll[6]\n",
    "        #print (accuracy_score(np.argmax(y_batch,axis=1), np.argmax(yhat,axis=1)))\n",
    "        #print (ll[:4])\n",
    "        lossepoch.append(ll[2])\n",
    "        tr1.append(ll[2])\n",
    "        tr2.append(accuracy_score(np.argmax(y_batch,axis=1), np.argmax(yhat,axis=1)))\n",
    "        skip.append(ll[3])\n",
    "        batches += 1\n",
    "        if batches > len(x_train) / batch_size:\n",
    "            # we need to break the loop by hand because\n",
    "            # the generator loops indefinitely\n",
    "            break\n",
    "    m=(len(x_train) / batch_size)-int((len(x_train) / batch_size))\n",
    "    tr1[-1]*=m\n",
    "    tr2[-1]*=m\n",
    "    lossx.append(np.mean(tr1))\n",
    "    acctra.append(np.mean(tr2))\n",
    "    print ('train loss score is :'+str(np.mean(tr1)))\n",
    "    print ('train acc score is :'+str(np.mean(tr2)))\n",
    "    now = time.time()\n",
    "    print(\"It has been {0} seconds since the loop started\".format(now - program_starts))\n",
    "    print ('test')\n",
    "    batchesx = 0\n",
    "    \n",
    "    \n",
    "    \n",
    "    \n",
    "    print ('validation')\n",
    "    batchesx = 0\n",
    "    for x_batch, y_batch in ImageDataGenerator().flow(x_val, y_val, batch_size=batch_size):\n",
    "        K.set_learning_phase(0)\n",
    "        inputs = [x_batch, # X\n",
    "                  np.ones(y_batch.shape[0]), # sample weights\n",
    "                  y_batch, # y\n",
    "                  1, # learning phase in VAl mode\n",
    "                  x_batch, # X\n",
    "                  np.ones(y_batch.shape[0]), # sample weights\n",
    "                  y_batch, # y\n",
    "                  x_batch, # X\n",
    "                  np.ones(y_batch.shape[0]), # sample weights\n",
    "                  y_batch, # y\n",
    "                 ]\n",
    "        ll = upd_test(inputs)\n",
    "        yhat=ll[6]\n",
    "        #print (accuracy_score(np.argmax(y_batch,axis=1), np.argmax(yhat,axis=1)))\n",
    "        #print (ll[:3])\n",
    "        lossepoch_val.append(ll[2])\n",
    "        res3.append(ll[2])\n",
    "        res4.append(accuracy_score(np.argmax(y_batch,axis=1), np.argmax(yhat,axis=1)))\n",
    "        batchesx += 1\n",
    "        if batchesx >= len(x_val) / batch_size:\n",
    "            break\n",
    "    m=(len(x_val) / batch_size)-int((len(x_val) / batch_size))\n",
    "    res3[-1]*=m\n",
    "    res4[-1]*=m\n",
    "    loss_val.append(np.mean(res3))\n",
    "    acc_val.append(np.mean(res4))\n",
    "    print ('val loss score is :'+str(np.mean(res3)))\n",
    "    print ('val acc score is :'+str(np.mean(res4)))\n",
    "    print ('test')\n",
    "    batchesx = 0\n",
    "    for x_batch, y_batch in ImageDataGenerator().flow(x_test, y_test, batch_size=batch_size):\n",
    "        K.set_learning_phase(0)\n",
    "        inputs = [x_batch, # X\n",
    "                  np.ones(y_batch.shape[0]), # sample weights\n",
    "                  y_batch, # y\n",
    "                  1, # learning phase in TEST mode\n",
    "                  x_batch, # X\n",
    "                  np.ones(y_batch.shape[0]), # sample weights\n",
    "                  y_batch, # y\n",
    "                  x_batch, # X\n",
    "                  np.ones(y_batch.shape[0]), # sample weights\n",
    "                  y_batch, # y\n",
    "                 ]\n",
    "        ll = upd_test(inputs)\n",
    "        yhat=ll[6]\n",
    "        #print (accuracy_score(np.argmax(y_batch,axis=1), np.argmax(yhat,axis=1)))\n",
    "        #print (ll[:3])\n",
    "        lossepoch_test.append(ll[2])\n",
    "        res1.append(ll[2])\n",
    "        res2.append(accuracy_score(np.argmax(y_batch,axis=1), np.argmax(yhat,axis=1)))\n",
    "        batchesx += 1\n",
    "        if batchesx >= len(x_test) / batch_size:\n",
    "            break\n",
    "    m=(len(x_test) / batch_size)-int((len(x_test) / batch_size))\n",
    "    res1[-1]*=m\n",
    "    res2[-1]*=m\n",
    "    loss_test.append(np.mean(res1))\n",
    "    acc_test.append(np.mean(res2))\n",
    "    print ('test loss score is :'+str(np.mean(res1)))\n",
    "    print ('test acc score is :'+str(np.mean(res2)))\n",
    "\n"
   ]
  },
  {
   "cell_type": "code",
   "execution_count": 14,
   "metadata": {},
   "outputs": [],
   "source": [
    "#\\K.clear_session()"
   ]
  },
  {
   "cell_type": "code",
   "execution_count": 16,
   "metadata": {},
   "outputs": [
    {
     "name": "stdout",
     "output_type": "stream",
     "text": [
      "0.9809137658227848 34\n",
      "0.9797270569620253 45\n",
      "0.03600437426644884 2\n",
      "0.04846716255341486 6\n"
     ]
    }
   ],
   "source": [
    "print (np.max(acc_test), np.argmax(acc_test))\n",
    "print (np.max(acc_val), np.argmax(acc_val))\n",
    "print (np.min(loss_test), np.argmin(loss_test))\n",
    "print (np.min(loss_val), np.argmin(loss_val))\n"
   ]
  },
  {
   "cell_type": "code",
   "execution_count": 17,
   "metadata": {},
   "outputs": [],
   "source": [
    "np.savetxt(\"RmsProp_Mnist_lossepoch.csv\", lossepoch, delimiter=\",\", fmt='%s')\n",
    "np.savetxt(\"RmsProp_Mnist_lossepoch_test.csv\", lossepoch_test, delimiter=\",\", fmt='%s')\n",
    "np.savetxt(\"RmsProp_Mnist_loss_tra.csv\", lossx, delimiter=\",\", fmt='%s')\n",
    "np.savetxt(\"RmsProp_Mnist_skip.csv\", skip, delimiter=\",\", fmt='%s')\n",
    "np.savetxt(\"RmsProp_Mnist_acc_tra.csv\", acctra, delimiter=\",\", fmt='%s')\n",
    "np.savetxt(\"RmsProp_Mnist_loss_test.csv\", loss_test, delimiter=\",\", fmt='%s')\n",
    "np.savetxt(\"RmsProp_Mnist_acc_test.csv\", acc_test, delimiter=\",\", fmt='%s')"
   ]
  },
  {
   "cell_type": "code",
   "execution_count": null,
   "metadata": {},
   "outputs": [],
   "source": []
  }
 ],
 "metadata": {
  "kernelspec": {
   "display_name": "Python 2",
   "language": "python",
   "name": "python2"
  },
  "language_info": {
   "codemirror_mode": {
    "name": "ipython",
    "version": 2
   },
   "file_extension": ".py",
   "mimetype": "text/x-python",
   "name": "python",
   "nbconvert_exporter": "python",
   "pygments_lexer": "ipython2",
   "version": "2.7.16"
  }
 },
 "nbformat": 4,
 "nbformat_minor": 2
}
