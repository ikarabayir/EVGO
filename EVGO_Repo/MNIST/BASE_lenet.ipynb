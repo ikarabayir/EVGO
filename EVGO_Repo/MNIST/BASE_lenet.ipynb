{
 "cells": [
  {
   "cell_type": "code",
   "execution_count": 2,
   "metadata": {},
   "outputs": [
    {
     "name": "stderr",
     "output_type": "stream",
     "text": [
      "Using TensorFlow backend.\n"
     ]
    }
   ],
   "source": [
    "\n",
    "from __future__ import division\n",
    "from __future__ import print_function\n",
    "\n",
    "seed_value= 0\n",
    "\n",
    "import os\n",
    "os.environ['PYTHONHASHSEED']=str(seed_value)\n",
    "import random\n",
    "random.seed(seed_value)\n",
    "import numpy as np\n",
    "np.random.seed(seed_value)\n",
    "import tensorflow as tf\n",
    "tf.set_random_seed(seed_value)\n",
    "from keras import backend as K\n",
    "import os\n",
    "import keras\n",
    "import pickle\n",
    "import os.path\n",
    "import matplotlib.pyplot as plt\n",
    "\n",
    "import keras\n",
    "from keras.datasets import mnist\n",
    "from keras.models import Sequential, Model\n",
    "from keras.layers import Dense, Dropout, Flatten, Input\n",
    "from keras.layers import Conv2D, MaxPooling2D, BatchNormalization, AveragePooling2D\n",
    "from keras.optimizers import Adam\n",
    "from keras.callbacks import ModelCheckpoint\n",
    "from keras.callbacks import LambdaCallback\n",
    "from keras.callbacks import TensorBoard\n",
    "from sklearn.preprocessing import LabelBinarizer\n",
    "from keras import initializers\n",
    "import keras.backend as K\n",
    "from keras.preprocessing.image import ImageDataGenerator\n",
    "from sklearn.metrics import accuracy_score\n",
    "import time\n",
    "from tqdm import tqdm\n",
    "\n",
    "import six.moves.cPickle as pickle\n",
    "import gzip\n",
    "import os\n",
    "import sys\n",
    "import timeit"
   ]
  },
  {
   "cell_type": "code",
   "execution_count": 3,
   "metadata": {},
   "outputs": [],
   "source": [
    "dataset='mnist.pkl.gz'\n",
    "batch_size = 128\n",
    "num_classes = 10\n",
    "epochs = 100\n",
    "lr=0.1"
   ]
  },
  {
   "cell_type": "code",
   "execution_count": 4,
   "metadata": {},
   "outputs": [
    {
     "name": "stdout",
     "output_type": "stream",
     "text": [
      "... loading data\n"
     ]
    }
   ],
   "source": [
    "print('... loading data')\n",
    "\n",
    "# Load the dataset\n",
    "with gzip.open(dataset, 'rb') as f:\n",
    "    try:\n",
    "        train_set, valid_set, test_set = pickle.load(f, encoding='latin1')\n",
    "    except:\n",
    "        train_set, valid_set, test_set = pickle.load(f)"
   ]
  },
  {
   "cell_type": "code",
   "execution_count": 5,
   "metadata": {},
   "outputs": [
    {
     "name": "stdout",
     "output_type": "stream",
     "text": [
      "x_train shape: (50000, 28, 28, 1)\n",
      "50000 train samples\n",
      "10000 validation samples\n",
      "10000 test samples\n"
     ]
    }
   ],
   "source": [
    "(x_train, y_train) = train_set\n",
    "(x_test, y_test) = test_set\n",
    "(x_val, y_val) = valid_set\n",
    "img_rows, img_cols = 28, 28\n",
    "\n",
    "if K.image_data_format() == 'channels_first':\n",
    "    x_train = x_train.reshape(x_train.shape[0], 1, img_rows, img_cols)\n",
    "    x_test = x_test.reshape(x_test.shape[0], 1, img_rows, img_cols)\n",
    "    x_val = x_val.reshape(x_val.shape[0], 1, img_rows, img_cols)\n",
    "    input_shape = (1, img_rows, img_cols)\n",
    "else:\n",
    "    x_train = x_train.reshape(x_train.shape[0], img_rows, img_cols, 1)\n",
    "    x_test = x_test.reshape(x_test.shape[0], img_rows, img_cols, 1)\n",
    "    x_val = x_val.reshape(x_val.shape[0], img_rows, img_cols, 1)\n",
    "    input_shape = (img_rows, img_cols, 1)\n",
    "\n",
    "x_train = x_train.astype('float32')\n",
    "x_val = x_val.astype('float32')\n",
    "x_test = x_test.astype('float32')\n",
    "\n",
    "print('x_train shape:', x_train.shape)\n",
    "print(x_train.shape[0], 'train samples')\n",
    "print(x_val.shape[0], 'validation samples')\n",
    "print(x_test.shape[0], 'test samples')\n",
    "\n",
    "# convert class vectors to binary class matrices\n",
    "y_train = keras.utils.to_categorical(y_train, num_classes)\n",
    "y_val = keras.utils.to_categorical(y_val, num_classes)\n",
    "y_test = keras.utils.to_categorical(y_test, num_classes)"
   ]
  },
  {
   "cell_type": "code",
   "execution_count": 6,
   "metadata": {},
   "outputs": [
    {
     "data": {
      "text/plain": [
       "((50000, 28, 28, 1),\n",
       " (50000, 10),\n",
       " (10000, 28, 28, 1),\n",
       " (10000, 10),\n",
       " (10000, 28, 28, 1),\n",
       " (10000, 10))"
      ]
     },
     "execution_count": 6,
     "metadata": {},
     "output_type": "execute_result"
    }
   ],
   "source": [
    "x_train.shape, y_train.shape, x_test.shape, y_test.shape, x_val.shape, y_val.shape"
   ]
  },
  {
   "cell_type": "code",
   "execution_count": 7,
   "metadata": {},
   "outputs": [
    {
     "data": {
      "text/plain": [
       "((50000, 32, 32, 1),\n",
       " (50000, 10),\n",
       " (10000, 32, 32, 1),\n",
       " (10000, 10),\n",
       " (10000, 32, 32, 1),\n",
       " (10000, 10))"
      ]
     },
     "execution_count": 7,
     "metadata": {},
     "output_type": "execute_result"
    }
   ],
   "source": [
    "x_train = np.pad(x_train, ((0,0),(2,2),(2,2),(0,0)), 'constant')\n",
    "x_test = np.pad(x_test, ((0,0),(2,2),(2,2),(0,0)), 'constant')\n",
    "x_val = np.pad(x_val, ((0,0),(2,2),(2,2),(0,0)), 'constant')\n",
    "x_train.shape, y_train.shape, x_test.shape, y_test.shape, x_val.shape, y_val.shape"
   ]
  },
  {
   "cell_type": "code",
   "execution_count": 8,
   "metadata": {},
   "outputs": [],
   "source": [
    "input_shape = (32, 32, 1)"
   ]
  },
  {
   "cell_type": "code",
   "execution_count": 9,
   "metadata": {},
   "outputs": [],
   "source": [
    "def build_model(setseed):\n",
    "    \"\"\"\n",
    "    Builds test Keras model for LeNet MNIST\n",
    "    :param loss (str): Type of loss - must be one of Keras accepted keras losses\n",
    "    :return: Keras dense model of predefined structure\n",
    "    \"\"\"\n",
    "    input = Input(shape=input_shape)\n",
    "    conv1 = Conv2D(6, (3,3), activation='relu', kernel_initializer=initializers.lecun_uniform(seed = setseed))(input)\n",
    "    avg1 = AveragePooling2D()(conv1)\n",
    "    conv2 = Conv2D(16, (3,3), activation='relu', kernel_initializer=initializers.lecun_uniform(seed = setseed))(avg1)\n",
    "    avg2 = AveragePooling2D()(conv2)\n",
    "    flat= Flatten()(avg2)\n",
    "    dens1=Dense(units=120, activation='relu')(flat)\n",
    "    dens2=Dense(units=84, activation='relu')(dens1)\n",
    "    probs=Dense(num_classes, activation='softmax')(dens2)\n",
    "    \n",
    "    model = Model(input=input, output=probs)\n",
    "    model.compile(optimizer='sgd', loss='categorical_crossentropy', metrics = ['accuracy'])\n",
    "\n",
    "    return model\n",
    "\n"
   ]
  },
  {
   "cell_type": "code",
   "execution_count": 10,
   "metadata": {},
   "outputs": [
    {
     "name": "stderr",
     "output_type": "stream",
     "text": [
      "C:\\Users\\ikarabayir\\AppData\\Local\\Continuum\\anaconda2\\envs\\tf\\lib\\site-packages\\ipykernel_launcher.py:17: UserWarning: Update your `Model` call to the Keras 2 API: `Model(inputs=Tensor(\"in..., outputs=Tensor(\"de...)`\n"
     ]
    }
   ],
   "source": [
    "all_model = [None,None,None]\n",
    "losses = [None,None,None]\n",
    "\n",
    "prediction=[]\n",
    "\n",
    "all_score =[0,0,0]\n",
    "gr=[]\n",
    "wr=[]\n",
    "xwr=[]\n",
    "\n",
    "for i in range(3):\n",
    "    np.random.seed(25+i)\n",
    "    model = build_model(i+2)\n",
    "    all_model[i]=model\n",
    "    \n",
    "for i in range(3):    \n",
    "    weights = all_model[i].trainable_weights # weight tensors\n",
    "    weights = [weight for weight in weights] # filter down weights tensors to only ones which are trainable\n",
    "    gradients = all_model[i].optimizer.get_gradients(all_model[i].total_loss, weights) # gradient tensors\n",
    "    gr.append(gradients)\n",
    "    wr.append(weights)\n",
    "    xweights = all_model[i].non_trainable_weights # weight tensors\n",
    "    xweights = [weight for weight in xweights] # filter down weights tensors to only ones which are trainable\n",
    "    xwr.append(xweights)\n",
    "\n",
    "    losses[i]=all_model[i].total_loss\n",
    "    prediction.append(all_model[i].output)"
   ]
  },
  {
   "cell_type": "code",
   "execution_count": 11,
   "metadata": {},
   "outputs": [
    {
     "name": "stdout",
     "output_type": "stream",
     "text": [
      "_________________________________________________________________\n",
      "Layer (type)                 Output Shape              Param #   \n",
      "=================================================================\n",
      "input_3 (InputLayer)         (None, 32, 32, 1)         0         \n",
      "_________________________________________________________________\n",
      "conv2d_5 (Conv2D)            (None, 30, 30, 6)         60        \n",
      "_________________________________________________________________\n",
      "average_pooling2d_5 (Average (None, 15, 15, 6)         0         \n",
      "_________________________________________________________________\n",
      "conv2d_6 (Conv2D)            (None, 13, 13, 16)        880       \n",
      "_________________________________________________________________\n",
      "average_pooling2d_6 (Average (None, 6, 6, 16)          0         \n",
      "_________________________________________________________________\n",
      "flatten_3 (Flatten)          (None, 576)               0         \n",
      "_________________________________________________________________\n",
      "dense_7 (Dense)              (None, 120)               69240     \n",
      "_________________________________________________________________\n",
      "dense_8 (Dense)              (None, 84)                10164     \n",
      "_________________________________________________________________\n",
      "dense_9 (Dense)              (None, 10)                850       \n",
      "=================================================================\n",
      "Total params: 81,194\n",
      "Trainable params: 81,194\n",
      "Non-trainable params: 0\n",
      "_________________________________________________________________\n"
     ]
    }
   ],
   "source": [
    "model.summary()"
   ]
  },
  {
   "cell_type": "code",
   "execution_count": 12,
   "metadata": {
    "scrolled": true
   },
   "outputs": [
    {
     "name": "stderr",
     "output_type": "stream",
     "text": [
      "\r",
      "  0%|                                                                                          | 0/100 [00:00<?, ?it/s]"
     ]
    },
    {
     "name": "stdout",
     "output_type": "stream",
     "text": [
      "Epoch 0\n",
      "train\n",
      "Using real-time data augmentation.\n",
      "train loss score is :0.43942366861035603\n",
      "train acc score is :0.8605938299232737\n",
      "It has been 8.961337804794312 seconds since the loop started\n",
      "test\n",
      "validation\n",
      "val loss score is :0.14803831047626048\n",
      "val acc score is :0.9454113924050633\n",
      "test\n",
      "test loss score is :0.15021256161735783\n",
      "test acc score is :0.9438291139240507\n"
     ]
    },
    {
     "name": "stderr",
     "output_type": "stream",
     "text": [
      "\r",
      "  1%|▊                                                                                 | 1/100 [00:10<17:16, 10.47s/it]"
     ]
    },
    {
     "name": "stdout",
     "output_type": "stream",
     "text": [
      "Epoch 1\n",
      "train\n",
      "Using real-time data augmentation.\n",
      "train loss score is :0.13354447835108355\n",
      "train acc score is :0.9580003196930946\n",
      "It has been 5.43003249168396 seconds since the loop started\n",
      "test\n",
      "validation\n",
      "val loss score is :0.10067425352886697\n",
      "val acc score is :0.9595530063291139\n",
      "test\n",
      "test loss score is :0.09972266533966118\n",
      "test acc score is :0.9590585443037974\n"
     ]
    },
    {
     "name": "stderr",
     "output_type": "stream",
     "text": [
      "\r",
      "  2%|█▋                                                                                | 2/100 [00:16<15:05,  9.24s/it]"
     ]
    },
    {
     "name": "stdout",
     "output_type": "stream",
     "text": [
      "Epoch 2\n",
      "train\n",
      "Using real-time data augmentation.\n",
      "train loss score is :0.09661807975900905\n",
      "train acc score is :0.9689298273657289\n",
      "It has been 4.528836965560913 seconds since the loop started\n",
      "test\n",
      "validation\n",
      "val loss score is :0.11434440152083017\n",
      "val acc score is :0.9576740506329114\n",
      "test\n",
      "test loss score is :0.10506786005217818\n",
      "test acc score is :0.9555973101265823\n"
     ]
    },
    {
     "name": "stderr",
     "output_type": "stream",
     "text": [
      "\r",
      "  3%|██▍                                                                               | 3/100 [00:22<13:16,  8.22s/it]"
     ]
    },
    {
     "name": "stdout",
     "output_type": "stream",
     "text": [
      "Epoch 3\n",
      "train\n",
      "Using real-time data augmentation.\n",
      "train loss score is :0.07757445509709857\n",
      "train acc score is :0.9749040920716112\n",
      "It has been 5.165142297744751 seconds since the loop started\n",
      "test\n",
      "validation\n",
      "val loss score is :0.0772093987516776\n",
      "val acc score is :0.9679588607594937\n",
      "test\n",
      "test loss score is :0.06575646190137803\n",
      "test acc score is :0.9678599683544303\n"
     ]
    },
    {
     "name": "stderr",
     "output_type": "stream",
     "text": [
      "\r",
      "  4%|███▎                                                                              | 4/100 [00:29<12:17,  7.68s/it]"
     ]
    },
    {
     "name": "stdout",
     "output_type": "stream",
     "text": [
      "Epoch 4\n",
      "train\n",
      "Using real-time data augmentation.\n",
      "train loss score is :0.06793590392703024\n",
      "train acc score is :0.9772818094629157\n",
      "It has been 5.088467836380005 seconds since the loop started\n",
      "test\n",
      "validation\n",
      "val loss score is :0.0810890813620431\n",
      "val acc score is :0.9649920886075949\n",
      "test\n",
      "test loss score is :0.07177682490072573\n",
      "test acc score is :0.9644976265822784\n"
     ]
    },
    {
     "name": "stderr",
     "output_type": "stream",
     "text": [
      "\r",
      "  5%|████                                                                              | 5/100 [00:35<11:32,  7.29s/it]"
     ]
    },
    {
     "name": "stdout",
     "output_type": "stream",
     "text": [
      "Epoch 5\n",
      "train\n",
      "Using real-time data augmentation.\n",
      "train loss score is :0.05905760368665733\n",
      "train acc score is :0.9804987212276215\n",
      "It has been 5.04664421081543 seconds since the loop started\n",
      "test\n",
      "validation\n",
      "val loss score is :0.06729495102138836\n",
      "val acc score is :0.9698378164556962\n",
      "test\n",
      "test loss score is :0.05528509572054012\n",
      "test acc score is :0.9710245253164557\n"
     ]
    },
    {
     "name": "stderr",
     "output_type": "stream",
     "text": [
      "\r",
      "  6%|████▉                                                                             | 6/100 [00:41<10:57,  7.00s/it]"
     ]
    },
    {
     "name": "stdout",
     "output_type": "stream",
     "text": [
      "Epoch 6\n",
      "train\n",
      "Using real-time data augmentation.\n",
      "train loss score is :0.05053217316646596\n",
      "train acc score is :0.9829164002557544\n",
      "It has been 5.1163482666015625 seconds since the loop started\n",
      "test\n",
      "validation\n",
      "val loss score is :0.06206322420105527\n",
      "val acc score is :0.9713212025316456\n",
      "test\n",
      "test loss score is :0.04931625034925351\n",
      "test acc score is :0.9721123417721519\n"
     ]
    },
    {
     "name": "stderr",
     "output_type": "stream",
     "text": [
      "\r",
      "  7%|█████▋                                                                            | 7/100 [00:48<10:32,  6.80s/it]"
     ]
    },
    {
     "name": "stdout",
     "output_type": "stream",
     "text": [
      "Epoch 7\n",
      "train\n",
      "Using real-time data augmentation.\n",
      "train loss score is :0.04454135478062131\n",
      "train acc score is :0.9844149616368286\n",
      "It has been 4.389258623123169 seconds since the loop started\n",
      "test\n",
      "validation\n",
      "val loss score is :0.07881386405375751\n",
      "val acc score is :0.9685522151898734\n",
      "test\n",
      "test loss score is :0.061176636103021945\n",
      "test acc score is :0.9693433544303798\n"
     ]
    },
    {
     "name": "stderr",
     "output_type": "stream",
     "text": [
      "\r",
      "  8%|██████▌                                                                           | 8/100 [00:53<09:55,  6.48s/it]"
     ]
    },
    {
     "name": "stdout",
     "output_type": "stream",
     "text": [
      "Epoch 8\n",
      "train\n",
      "Using real-time data augmentation.\n",
      "train loss score is :0.04066199242718556\n",
      "train acc score is :0.9859534846547314\n",
      "It has been 5.381225824356079 seconds since the loop started\n",
      "test\n",
      "validation\n",
      "val loss score is :0.06512621457318633\n",
      "val acc score is :0.9689477848101266\n",
      "test\n",
      "test loss score is :0.05430668943762025\n",
      "test acc score is :0.9712223101265823\n"
     ]
    },
    {
     "name": "stderr",
     "output_type": "stream",
     "text": [
      "\r",
      "  9%|███████▍                                                                          | 9/100 [01:00<09:53,  6.52s/it]"
     ]
    },
    {
     "name": "stdout",
     "output_type": "stream",
     "text": [
      "Epoch 9\n",
      "train\n",
      "Using real-time data augmentation.\n",
      "train loss score is :0.036211194025109646\n",
      "train acc score is :0.9871922953964194\n",
      "It has been 5.427035808563232 seconds since the loop started\n",
      "test\n",
      "validation\n",
      "val loss score is :0.05904238832351174\n",
      "val acc score is :0.9722112341772152\n",
      "test\n",
      "test loss score is :0.04538288972593985\n",
      "test acc score is :0.9737935126582279\n"
     ]
    },
    {
     "name": "stderr",
     "output_type": "stream",
     "text": [
      "\r",
      " 10%|████████                                                                         | 10/100 [01:07<09:50,  6.56s/it]"
     ]
    },
    {
     "name": "stdout",
     "output_type": "stream",
     "text": [
      "Epoch 10\n",
      "train\n",
      "Using real-time data augmentation.\n",
      "train loss score is :0.03205940920842902\n",
      "train acc score is :0.9887108375959079\n",
      "It has been 5.59731125831604 seconds since the loop started\n",
      "test\n",
      "validation\n",
      "val loss score is :0.06796071631833911\n",
      "val acc score is :0.9709256329113924\n",
      "test\n",
      "test loss score is :0.054783151212776125\n",
      "test acc score is :0.971815664556962\n"
     ]
    },
    {
     "name": "stderr",
     "output_type": "stream",
     "text": [
      "\r",
      " 11%|████████▉                                                                        | 11/100 [01:13<09:50,  6.63s/it]"
     ]
    },
    {
     "name": "stdout",
     "output_type": "stream",
     "text": [
      "Epoch 11\n",
      "train\n",
      "Using real-time data augmentation.\n",
      "train loss score is :0.028577237641867585\n",
      "train acc score is :0.9905290920716112\n",
      "It has been 5.322476148605347 seconds since the loop started\n",
      "test\n",
      "validation\n",
      "val loss score is :0.061363761460620767\n",
      "val acc score is :0.9724090189873418\n",
      "test\n",
      "test loss score is :0.04414724005545383\n",
      "test acc score is :0.9759691455696202\n"
     ]
    },
    {
     "name": "stderr",
     "output_type": "stream",
     "text": [
      "\r",
      " 12%|█████████▋                                                                       | 12/100 [01:20<09:42,  6.62s/it]"
     ]
    },
    {
     "name": "stdout",
     "output_type": "stream",
     "text": [
      "Epoch 12\n",
      "train\n",
      "Using real-time data augmentation.\n",
      "train loss score is :0.026511997511477002\n",
      "train acc score is :0.9901494565217391\n",
      "It has been 5.562461853027344 seconds since the loop started\n",
      "test\n",
      "validation\n",
      "val loss score is :0.06205389020033181\n",
      "val acc score is :0.9729034810126582\n",
      "test\n",
      "test loss score is :0.04553718029232578\n",
      "test acc score is :0.9744857594936709\n"
     ]
    },
    {
     "name": "stderr",
     "output_type": "stream",
     "text": [
      "\r",
      " 13%|██████████▌                                                                      | 13/100 [01:27<09:43,  6.70s/it]"
     ]
    },
    {
     "name": "stdout",
     "output_type": "stream",
     "text": [
      "Epoch 13\n",
      "train\n",
      "Using real-time data augmentation.\n",
      "train loss score is :0.02438078388137638\n",
      "train acc score is :0.9907888427109974\n",
      "It has been 5.264720916748047 seconds since the loop started\n",
      "test\n",
      "validation\n",
      "val loss score is :0.05997403373605059\n",
      "val acc score is :0.9729034810126582\n",
      "test\n",
      "test loss score is :0.04914663744393347\n",
      "test acc score is :0.9724090189873418\n"
     ]
    },
    {
     "name": "stderr",
     "output_type": "stream",
     "text": [
      "\r",
      " 14%|███████████▎                                                                     | 14/100 [01:34<09:35,  6.69s/it]"
     ]
    },
    {
     "name": "stdout",
     "output_type": "stream",
     "text": [
      "Epoch 14\n",
      "train\n",
      "Using real-time data augmentation.\n",
      "train loss score is :0.022552558146935204\n",
      "train acc score is :0.9918877877237852\n",
      "It has been 5.101410150527954 seconds since the loop started\n",
      "test\n",
      "validation\n",
      "val loss score is :0.06400727339772673\n",
      "val acc score is :0.9710245253164557\n",
      "test\n",
      "test loss score is :0.0486958576697868\n",
      "test acc score is :0.974189082278481\n"
     ]
    },
    {
     "name": "stderr",
     "output_type": "stream",
     "text": [
      "\r",
      " 15%|████████████▏                                                                    | 15/100 [01:40<09:20,  6.60s/it]"
     ]
    },
    {
     "name": "stdout",
     "output_type": "stream",
     "text": [
      "Epoch 15\n",
      "train\n",
      "Using real-time data augmentation.\n",
      "train loss score is :0.020503137563027758\n",
      "train acc score is :0.9921475383631714\n",
      "It has been 5.0854785442352295 seconds since the loop started\n",
      "test\n",
      "validation\n",
      "val loss score is :0.05530414520359345\n",
      "val acc score is :0.9729034810126582\n",
      "test\n",
      "test loss score is :0.043060636007863605\n",
      "test acc score is :0.9767602848101266\n"
     ]
    },
    {
     "name": "stderr",
     "output_type": "stream",
     "text": [
      "\r",
      " 16%|████████████▉                                                                    | 16/100 [01:46<09:06,  6.50s/it]"
     ]
    },
    {
     "name": "stdout",
     "output_type": "stream",
     "text": [
      "Epoch 16\n",
      "train\n",
      "Using real-time data augmentation.\n",
      "train loss score is :0.018453317247759886\n",
      "train acc score is :0.9927869245524297\n",
      "It has been 5.378242254257202 seconds since the loop started\n",
      "test\n",
      "validation\n",
      "val loss score is :0.07142994105485245\n",
      "val acc score is :0.9701344936708861\n",
      "test\n",
      "test loss score is :0.058521040007943594\n",
      "test acc score is :0.9705300632911392\n"
     ]
    },
    {
     "name": "stderr",
     "output_type": "stream",
     "text": [
      "\r",
      " 17%|█████████████▊                                                                   | 17/100 [01:53<09:04,  6.56s/it]"
     ]
    },
    {
     "name": "stdout",
     "output_type": "stream",
     "text": [
      "Epoch 17\n",
      "train\n",
      "Using real-time data augmentation.\n",
      "train loss score is :0.016381691570531893\n",
      "train acc score is :0.9940856777493606\n",
      "It has been 5.170125246047974 seconds since the loop started\n",
      "test\n",
      "validation\n",
      "val loss score is :0.06111689992366901\n",
      "val acc score is :0.9726068037974683\n",
      "test\n",
      "test loss score is :0.04590457403454694\n",
      "test acc score is :0.9754746835443038\n"
     ]
    },
    {
     "name": "stderr",
     "output_type": "stream",
     "text": [
      "\r",
      " 18%|██████████████▌                                                                  | 18/100 [01:59<08:57,  6.55s/it]"
     ]
    },
    {
     "name": "stdout",
     "output_type": "stream",
     "text": [
      "Epoch 18\n",
      "train\n",
      "Using real-time data augmentation.\n",
      "train loss score is :0.014023727810238381\n",
      "train acc score is :0.9949248721227621\n",
      "It has been 5.326456785202026 seconds since the loop started\n",
      "test\n",
      "validation\n",
      "val loss score is :0.08631733529642888\n",
      "val acc score is :0.9676621835443038\n",
      "test\n",
      "test loss score is :0.07309314612515824\n",
      "test acc score is :0.96875\n"
     ]
    },
    {
     "name": "stderr",
     "output_type": "stream",
     "text": [
      "\r",
      " 19%|███████████████▍                                                                 | 19/100 [02:06<08:52,  6.57s/it]"
     ]
    },
    {
     "name": "stdout",
     "output_type": "stream",
     "text": [
      "Epoch 19\n",
      "train\n",
      "Using real-time data augmentation.\n",
      "train loss score is :0.013966349522521257\n",
      "train acc score is :0.9945851982097187\n",
      "It has been 5.2418177127838135 seconds since the loop started\n",
      "test\n",
      "validation\n",
      "val loss score is :0.06922689954790028\n",
      "val acc score is :0.971123417721519\n",
      "test\n",
      "test loss score is :0.054526531166261466\n",
      "test acc score is :0.9728045886075949\n"
     ]
    },
    {
     "name": "stderr",
     "output_type": "stream",
     "text": [
      "\r",
      " 20%|████████████████▏                                                                | 20/100 [02:12<08:41,  6.52s/it]"
     ]
    },
    {
     "name": "stdout",
     "output_type": "stream",
     "text": [
      "Epoch 20\n",
      "train\n",
      "Using real-time data augmentation.\n",
      "train loss score is :0.012838701430462238\n",
      "train acc score is :0.9951446611253197\n",
      "It has been 5.05461049079895 seconds since the loop started\n",
      "test\n",
      "validation\n",
      "val loss score is :0.0594605873636824\n",
      "val acc score is :0.9725079113924051\n",
      "test\n",
      "test loss score is :0.04845067500700449\n",
      "test acc score is :0.9742879746835443\n"
     ]
    },
    {
     "name": "stderr",
     "output_type": "stream",
     "text": [
      "\r",
      " 21%|█████████████████                                                                | 21/100 [02:19<08:31,  6.47s/it]"
     ]
    },
    {
     "name": "stdout",
     "output_type": "stream",
     "text": [
      "Epoch 21\n",
      "train\n",
      "Using real-time data augmentation.\n",
      "train loss score is :0.010641413512523583\n",
      "train acc score is :0.9958040281329923\n",
      "It has been 5.426036834716797 seconds since the loop started\n",
      "test\n",
      "validation\n",
      "val loss score is :0.06731890997492238\n",
      "val acc score is :0.9720134493670886\n",
      "test\n",
      "test loss score is :0.05621249288839253\n",
      "test acc score is :0.9726068037974683\n"
     ]
    },
    {
     "name": "stderr",
     "output_type": "stream",
     "text": [
      "\r",
      " 22%|█████████████████▊                                                               | 22/100 [02:26<08:31,  6.56s/it]"
     ]
    },
    {
     "name": "stdout",
     "output_type": "stream",
     "text": [
      "Epoch 22\n",
      "train\n",
      "Using real-time data augmentation.\n",
      "train loss score is :0.01137097942488193\n",
      "train acc score is :0.9954843350383632\n",
      "It has been 5.547523736953735 seconds since the loop started\n",
      "test\n",
      "validation\n",
      "val loss score is :0.06074903017982746\n",
      "val acc score is :0.9733979430379747\n",
      "test\n",
      "test loss score is :0.04703175734014426\n",
      "test acc score is :0.9753757911392406\n"
     ]
    },
    {
     "name": "stderr",
     "output_type": "stream",
     "text": [
      "\r",
      " 23%|██████████████████▋                                                              | 23/100 [02:32<08:30,  6.62s/it]"
     ]
    },
    {
     "name": "stdout",
     "output_type": "stream",
     "text": [
      "Epoch 23\n",
      "train\n",
      "Using real-time data augmentation.\n",
      "train loss score is :0.010958376595431276\n",
      "train acc score is :0.9953844309462916\n",
      "It has been 5.669013023376465 seconds since the loop started\n",
      "test\n",
      "validation\n",
      "val loss score is :0.06376470324360099\n",
      "val acc score is :0.9742879746835443\n",
      "test\n",
      "test loss score is :0.04661524544220972\n",
      "test acc score is :0.9765625\n"
     ]
    },
    {
     "name": "stderr",
     "output_type": "stream",
     "text": [
      "\r",
      " 24%|███████████████████▍                                                             | 24/100 [02:39<08:32,  6.75s/it]"
     ]
    },
    {
     "name": "stdout",
     "output_type": "stream",
     "text": [
      "Epoch 24\n",
      "train\n",
      "Using real-time data augmentation.\n",
      "train loss score is :0.008549197861651444\n",
      "train acc score is :0.9965233375959079\n",
      "It has been 5.550511837005615 seconds since the loop started\n",
      "test\n",
      "validation\n",
      "val loss score is :0.060703104591775164\n",
      "val acc score is :0.9731012658227848\n",
      "test\n",
      "test loss score is :0.04934654090276483\n",
      "test acc score is :0.9768591772151899\n"
     ]
    },
    {
     "name": "stderr",
     "output_type": "stream",
     "text": [
      "\r",
      " 25%|████████████████████▎                                                            | 25/100 [02:46<08:27,  6.76s/it]"
     ]
    },
    {
     "name": "stdout",
     "output_type": "stream",
     "text": [
      "Epoch 25\n",
      "train\n",
      "Using real-time data augmentation.\n",
      "train loss score is :0.006903123989267468\n",
      "train acc score is :0.997022858056266\n",
      "It has been 5.385210275650024 seconds since the loop started\n",
      "test\n",
      "validation\n",
      "val loss score is :0.061668333827151686\n",
      "val acc score is :0.974881329113924\n",
      "test\n",
      "test loss score is :0.04533819794541954\n",
      "test acc score is :0.9768591772151899\n"
     ]
    },
    {
     "name": "stderr",
     "output_type": "stream",
     "text": [
      "\r",
      " 26%|█████████████████████                                                            | 26/100 [02:53<08:15,  6.70s/it]"
     ]
    },
    {
     "name": "stdout",
     "output_type": "stream",
     "text": [
      "Epoch 26\n",
      "train\n",
      "Using real-time data augmentation.\n",
      "train loss score is :0.015700373836607516\n",
      "train acc score is :0.9953045076726342\n",
      "It has been 5.232851505279541 seconds since the loop started\n",
      "test\n",
      "validation\n",
      "val loss score is :0.06710351190435453\n",
      "val acc score is :0.9728045886075949\n",
      "test\n",
      "test loss score is :0.04772915280589103\n",
      "test acc score is :0.9753757911392406\n"
     ]
    },
    {
     "name": "stderr",
     "output_type": "stream",
     "text": [
      "\r",
      " 27%|█████████████████████▊                                                           | 27/100 [02:59<08:04,  6.63s/it]"
     ]
    },
    {
     "name": "stdout",
     "output_type": "stream",
     "text": [
      "Epoch 27\n",
      "train\n",
      "Using real-time data augmentation.\n",
      "train loss score is :0.006667940510974904\n",
      "train acc score is :0.9970628196930946\n",
      "It has been 5.52313756942749 seconds since the loop started\n",
      "test\n",
      "validation\n",
      "val loss score is :0.05931019661869569\n",
      "val acc score is :0.9749802215189873\n",
      "test\n",
      "test loss score is :0.04648324562666961\n",
      "test acc score is :0.9770569620253164\n"
     ]
    },
    {
     "name": "stderr",
     "output_type": "stream",
     "text": [
      "\r",
      " 28%|██████████████████████▋                                                          | 28/100 [03:06<08:04,  6.73s/it]"
     ]
    },
    {
     "name": "stdout",
     "output_type": "stream",
     "text": [
      "Epoch 28\n",
      "train\n",
      "Using real-time data augmentation.\n",
      "train loss score is :0.0049639797900007535\n",
      "train acc score is :0.9975623401534527\n",
      "It has been 5.66502571105957 seconds since the loop started\n",
      "test\n",
      "validation\n",
      "val loss score is :0.07218853271089462\n",
      "val acc score is :0.9726068037974683\n",
      "test\n",
      "test loss score is :0.05402190588072791\n",
      "test acc score is :0.9759691455696202\n"
     ]
    },
    {
     "name": "stderr",
     "output_type": "stream",
     "text": [
      "\r",
      " 29%|███████████████████████▍                                                         | 29/100 [03:13<08:04,  6.82s/it]"
     ]
    },
    {
     "name": "stdout",
     "output_type": "stream",
     "text": [
      "Epoch 29\n",
      "train\n",
      "Using real-time data augmentation.\n",
      "train loss score is :0.0064075544160609715\n",
      "train acc score is :0.997082800511509\n",
      "It has been 5.598308801651001 seconds since the loop started\n",
      "test\n",
      "validation\n",
      "val loss score is :0.0702462266366914\n",
      "val acc score is :0.9726068037974683\n",
      "test\n",
      "test loss score is :0.053521358982143746\n",
      "test acc score is :0.9761669303797469\n"
     ]
    },
    {
     "name": "stderr",
     "output_type": "stream",
     "text": [
      "\r",
      " 30%|████████████████████████▎                                                        | 30/100 [03:20<07:59,  6.86s/it]"
     ]
    },
    {
     "name": "stdout",
     "output_type": "stream",
     "text": [
      "Epoch 30\n",
      "train\n",
      "Using real-time data augmentation.\n",
      "train loss score is :0.007295235088291575\n",
      "train acc score is :0.9966432225063938\n",
      "It has been 5.67199182510376 seconds since the loop started\n",
      "test\n",
      "validation\n",
      "val loss score is :0.0651378201911041\n",
      "val acc score is :0.974189082278481\n",
      "test\n",
      "test loss score is :0.052397326716311025\n",
      "test acc score is :0.9765625\n"
     ]
    },
    {
     "name": "stderr",
     "output_type": "stream",
     "text": [
      "\r",
      " 31%|█████████████████████████                                                        | 31/100 [03:27<07:57,  6.92s/it]"
     ]
    },
    {
     "name": "stdout",
     "output_type": "stream",
     "text": [
      "Epoch 31\n",
      "train\n",
      "Using real-time data augmentation.\n",
      "train loss score is :0.004834877764944599\n",
      "train acc score is :0.9976822250639387\n",
      "It has been 5.6759796142578125 seconds since the loop started\n",
      "test\n",
      "validation\n",
      "val loss score is :0.06673010250537278\n",
      "val acc score is :0.973496835443038\n",
      "test\n",
      "test loss score is :0.052752786106908915\n",
      "test acc score is :0.9755735759493671\n"
     ]
    },
    {
     "name": "stderr",
     "output_type": "stream",
     "text": [
      "\r",
      " 32%|█████████████████████████▉                                                       | 32/100 [03:34<07:53,  6.97s/it]"
     ]
    },
    {
     "name": "stdout",
     "output_type": "stream",
     "text": [
      "Epoch 32\n",
      "train\n",
      "Using real-time data augmentation.\n",
      "train loss score is :0.004360463261339174\n",
      "train acc score is :0.9979419757033248\n",
      "It has been 6.023505687713623 seconds since the loop started\n",
      "test\n",
      "validation\n",
      "val loss score is :0.06783637562928768\n",
      "val acc score is :0.9743868670886076\n",
      "test\n",
      "test loss score is :0.05092601831972123\n",
      "test acc score is :0.9768591772151899\n"
     ]
    },
    {
     "name": "stderr",
     "output_type": "stream",
     "text": [
      "\r",
      " 33%|██████████████████████████▋                                                      | 33/100 [03:42<07:57,  7.13s/it]"
     ]
    },
    {
     "name": "stdout",
     "output_type": "stream",
     "text": [
      "Epoch 33\n",
      "train\n",
      "Using real-time data augmentation.\n",
      "train loss score is :0.003063657813428385\n",
      "train acc score is :0.9980418797953964\n",
      "It has been 6.0006043910980225 seconds since the loop started\n",
      "test\n",
      "validation\n",
      "val loss score is :0.06152477689847383\n",
      "val acc score is :0.9754746835443038\n",
      "test\n",
      "test loss score is :0.048332562294616986\n",
      "test acc score is :0.9775514240506329\n"
     ]
    },
    {
     "name": "stderr",
     "output_type": "stream",
     "text": [
      "\r",
      " 34%|███████████████████████████▌                                                     | 34/100 [03:49<07:56,  7.22s/it]"
     ]
    },
    {
     "name": "stdout",
     "output_type": "stream",
     "text": [
      "Epoch 34\n",
      "train\n",
      "Using real-time data augmentation.\n",
      "train loss score is :0.01570524734525603\n",
      "train acc score is :0.995784047314578\n",
      "It has been 5.896047592163086 seconds since the loop started\n",
      "test\n",
      "validation\n",
      "val loss score is :0.06769736063345394\n",
      "val acc score is :0.9743868670886076\n",
      "test\n",
      "test loss score is :0.054516317323587034\n",
      "test acc score is :0.9738924050632911\n"
     ]
    },
    {
     "name": "stderr",
     "output_type": "stream",
     "text": [
      "\r",
      " 35%|████████████████████████████▎                                                    | 35/100 [03:57<07:50,  7.24s/it]"
     ]
    },
    {
     "name": "stdout",
     "output_type": "stream",
     "text": [
      "Epoch 35\n",
      "train\n",
      "Using real-time data augmentation.\n",
      "train loss score is :0.005124448556080446\n",
      "train acc score is :0.9975223785166241\n",
      "It has been 5.894054174423218 seconds since the loop started\n",
      "test\n",
      "validation\n",
      "val loss score is :0.06710572264632844\n",
      "val acc score is :0.9746835443037974\n",
      "test\n",
      "test loss score is :0.052740602391458044\n",
      "test acc score is :0.9767602848101266\n"
     ]
    },
    {
     "name": "stderr",
     "output_type": "stream",
     "text": [
      "\r",
      " 36%|█████████████████████████████▏                                                   | 36/100 [04:04<07:43,  7.25s/it]"
     ]
    },
    {
     "name": "stdout",
     "output_type": "stream",
     "text": [
      "Epoch 36\n",
      "train\n",
      "Using real-time data augmentation.\n",
      "train loss score is :0.0026447440747509126\n",
      "train acc score is :0.9984814578005116\n",
      "It has been 5.979693651199341 seconds since the loop started\n",
      "test\n",
      "validation\n",
      "val loss score is :0.06382216018969705\n",
      "val acc score is :0.9745846518987342\n",
      "test\n",
      "test loss score is :0.04906079617052318\n",
      "test acc score is :0.9763647151898734\n"
     ]
    },
    {
     "name": "stderr",
     "output_type": "stream",
     "text": [
      "\r",
      " 37%|█████████████████████████████▉                                                   | 37/100 [04:11<07:39,  7.29s/it]"
     ]
    },
    {
     "name": "stdout",
     "output_type": "stream",
     "text": [
      "Epoch 37\n",
      "train\n",
      "Using real-time data augmentation.\n",
      "train loss score is :0.0017794115388973008\n",
      "train acc score is :0.9986213235294118\n",
      "It has been 5.817377805709839 seconds since the loop started\n",
      "test\n",
      "validation\n",
      "val loss score is :0.06338488511941372\n",
      "val acc score is :0.9750791139240507\n",
      "test\n",
      "test loss score is :0.04952010831667233\n",
      "test acc score is :0.9773536392405063\n"
     ]
    },
    {
     "name": "stderr",
     "output_type": "stream",
     "text": [
      "\r",
      " 38%|██████████████████████████████▊                                                  | 38/100 [04:18<07:30,  7.26s/it]"
     ]
    },
    {
     "name": "stdout",
     "output_type": "stream",
     "text": [
      "Epoch 38\n",
      "train\n",
      "Using real-time data augmentation.\n",
      "train loss score is :0.0015935279687655473\n",
      "train acc score is :0.998761189258312\n",
      "It has been 5.751628637313843 seconds since the loop started\n",
      "test\n",
      "validation\n",
      "val loss score is :0.0649471932906463\n",
      "val acc score is :0.9753757911392406\n",
      "test\n",
      "test loss score is :0.05026498269000806\n",
      "test acc score is :0.9778481012658228\n"
     ]
    },
    {
     "name": "stderr",
     "output_type": "stream",
     "text": [
      "\r",
      " 39%|███████████████████████████████▌                                                 | 39/100 [04:25<07:20,  7.22s/it]"
     ]
    },
    {
     "name": "stdout",
     "output_type": "stream",
     "text": [
      "Epoch 39\n",
      "train\n",
      "Using real-time data augmentation.\n",
      "train loss score is :0.0009556261551914737\n",
      "train acc score is :0.9989609974424553\n",
      "It has been 5.833312034606934 seconds since the loop started\n",
      "test\n",
      "validation\n",
      "val loss score is :0.06825585415778353\n",
      "val acc score is :0.9745846518987342\n",
      "test\n",
      "test loss score is :0.05259855190741268\n",
      "test acc score is :0.9773536392405063\n"
     ]
    },
    {
     "name": "stderr",
     "output_type": "stream",
     "text": [
      "\r",
      " 40%|████████████████████████████████▍                                                | 40/100 [04:33<07:12,  7.21s/it]"
     ]
    },
    {
     "name": "stdout",
     "output_type": "stream",
     "text": [
      "Epoch 40\n",
      "train\n",
      "Using real-time data augmentation.\n",
      "train loss score is :0.0011160320778878447\n",
      "train acc score is :0.9988411125319693\n",
      "It has been 5.7725670337677 seconds since the loop started\n",
      "test\n",
      "validation\n",
      "val loss score is :0.0697780900697776\n",
      "val acc score is :0.974881329113924\n",
      "test\n",
      "test loss score is :0.05062042820038728\n",
      "test acc score is :0.9776503164556962\n"
     ]
    },
    {
     "name": "stderr",
     "output_type": "stream",
     "text": [
      "\r",
      " 41%|█████████████████████████████████▏                                               | 41/100 [04:40<07:02,  7.16s/it]"
     ]
    },
    {
     "name": "stdout",
     "output_type": "stream",
     "text": [
      "Epoch 41\n",
      "train\n",
      "Using real-time data augmentation.\n",
      "train loss score is :0.0009695817181794985\n",
      "train acc score is :0.9989010549872123\n",
      "It has been 5.848247766494751 seconds since the loop started\n",
      "test\n",
      "validation\n",
      "val loss score is :0.068365849235686\n",
      "val acc score is :0.9749802215189873\n",
      "test\n",
      "test loss score is :0.05383897522678344\n",
      "test acc score is :0.9776503164556962\n"
     ]
    },
    {
     "name": "stderr",
     "output_type": "stream",
     "text": [
      "\r",
      " 42%|██████████████████████████████████                                               | 42/100 [04:47<06:55,  7.16s/it]"
     ]
    },
    {
     "name": "stdout",
     "output_type": "stream",
     "text": [
      "Epoch 42\n",
      "train\n",
      "Using real-time data augmentation.\n",
      "train loss score is :0.0007634845800589515\n",
      "train acc score is :0.9989609974424553\n",
      "It has been 5.376243829727173 seconds since the loop started\n",
      "test\n",
      "validation\n",
      "val loss score is :0.06988635606573057\n",
      "val acc score is :0.974881329113924\n",
      "test\n",
      "test loss score is :0.05225238700208874\n",
      "test acc score is :0.9781447784810127\n"
     ]
    },
    {
     "name": "stderr",
     "output_type": "stream",
     "text": [
      "\r",
      " 43%|██████████████████████████████████▊                                              | 43/100 [04:54<06:40,  7.02s/it]"
     ]
    },
    {
     "name": "stdout",
     "output_type": "stream",
     "text": [
      "Epoch 43\n",
      "train\n",
      "Using real-time data augmentation.\n",
      "train loss score is :0.0007797716420021101\n",
      "train acc score is :0.9989210358056266\n",
      "It has been 5.62220573425293 seconds since the loop started\n",
      "test\n",
      "validation\n",
      "val loss score is :0.07203593959164178\n",
      "val acc score is :0.9753757911392406\n",
      "test\n",
      "test loss score is :0.05411638433461236\n",
      "test acc score is :0.9776503164556962\n"
     ]
    },
    {
     "name": "stderr",
     "output_type": "stream",
     "text": [
      "\r",
      " 44%|███████████████████████████████████▋                                             | 44/100 [05:01<06:31,  6.99s/it]"
     ]
    },
    {
     "name": "stdout",
     "output_type": "stream",
     "text": [
      "Epoch 44\n",
      "train\n",
      "Using real-time data augmentation.\n",
      "train loss score is :0.0007090209916112242\n",
      "train acc score is :0.9989410166240409\n",
      "It has been 5.25323224067688 seconds since the loop started\n",
      "test\n",
      "validation\n",
      "val loss score is :0.069720487067407\n",
      "val acc score is :0.9756724683544303\n",
      "test\n",
      "test loss score is :0.05507006641931219\n",
      "test acc score is :0.9775514240506329\n"
     ]
    },
    {
     "name": "stderr",
     "output_type": "stream",
     "text": [
      "\r",
      " 45%|████████████████████████████████████▍                                            | 45/100 [05:07<06:16,  6.84s/it]"
     ]
    },
    {
     "name": "stdout",
     "output_type": "stream",
     "text": [
      "Epoch 45\n",
      "train\n",
      "Using real-time data augmentation.\n",
      "train loss score is :0.0005649746635684345\n",
      "train acc score is :0.9990209398976982\n",
      "It has been 5.388194799423218 seconds since the loop started\n",
      "test\n",
      "validation\n",
      "val loss score is :0.07160217892830208\n",
      "val acc score is :0.9742879746835443\n",
      "test\n",
      "test loss score is :0.05668019725582933\n",
      "test acc score is :0.9769580696202531\n"
     ]
    },
    {
     "name": "stderr",
     "output_type": "stream",
     "text": [
      "\r",
      " 46%|█████████████████████████████████████▎                                           | 46/100 [05:14<06:08,  6.82s/it]"
     ]
    },
    {
     "name": "stdout",
     "output_type": "stream",
     "text": [
      "Epoch 46\n",
      "train\n",
      "Using real-time data augmentation.\n",
      "train loss score is :0.0004840688352557414\n",
      "train acc score is :0.9990209398976982\n",
      "It has been 5.238826513290405 seconds since the loop started\n",
      "test\n",
      "validation\n",
      "val loss score is :0.0704797673983337\n",
      "val acc score is :0.9756724683544303\n",
      "test\n",
      "test loss score is :0.055469963114647504\n",
      "test acc score is :0.9775514240506329\n"
     ]
    },
    {
     "name": "stderr",
     "output_type": "stream",
     "text": [
      "\r",
      " 47%|██████████████████████████████████████                                           | 47/100 [05:20<05:56,  6.73s/it]"
     ]
    },
    {
     "name": "stdout",
     "output_type": "stream",
     "text": [
      "Epoch 47\n",
      "train\n",
      "Using real-time data augmentation.\n",
      "train loss score is :0.0003883338080229763\n",
      "train acc score is :0.9990209398976982\n",
      "It has been 5.1561806201934814 seconds since the loop started\n",
      "test\n",
      "validation\n",
      "val loss score is :0.07064152545984753\n",
      "val acc score is :0.9754746835443038\n",
      "test\n",
      "test loss score is :0.05637102727195258\n",
      "test acc score is :0.9776503164556962\n"
     ]
    },
    {
     "name": "stderr",
     "output_type": "stream",
     "text": [
      "\r",
      " 48%|██████████████████████████████████████▉                                          | 48/100 [05:27<05:43,  6.60s/it]"
     ]
    },
    {
     "name": "stdout",
     "output_type": "stream",
     "text": [
      "Epoch 48\n",
      "train\n",
      "Using real-time data augmentation.\n",
      "train loss score is :0.00033115984259384184\n",
      "train acc score is :0.9990409207161125\n",
      "It has been 5.100788116455078 seconds since the loop started\n",
      "test\n",
      "validation\n",
      "val loss score is :0.07184147337240487\n",
      "val acc score is :0.9746835443037974\n",
      "test\n",
      "test loss score is :0.05737085198794358\n",
      "test acc score is :0.9775514240506329\n"
     ]
    },
    {
     "name": "stderr",
     "output_type": "stream",
     "text": [
      "\r",
      " 49%|███████████████████████████████████████▋                                         | 49/100 [05:33<05:32,  6.53s/it]"
     ]
    },
    {
     "name": "stdout",
     "output_type": "stream",
     "text": [
      "Epoch 49\n",
      "train\n",
      "Using real-time data augmentation.\n",
      "train loss score is :0.0003044277208910175\n",
      "train acc score is :0.9990409207161125\n",
      "It has been 5.781527519226074 seconds since the loop started\n",
      "test\n",
      "validation\n",
      "val loss score is :0.072104531956134\n",
      "val acc score is :0.9750791139240507\n",
      "test\n",
      "test loss score is :0.05703702430326629\n",
      "test acc score is :0.9771558544303798\n"
     ]
    },
    {
     "name": "stderr",
     "output_type": "stream",
     "text": [
      "\r",
      " 50%|████████████████████████████████████████▌                                        | 50/100 [05:40<05:36,  6.73s/it]"
     ]
    },
    {
     "name": "stdout",
     "output_type": "stream",
     "text": [
      "Epoch 50\n",
      "train\n",
      "Using real-time data augmentation.\n",
      "train loss score is :0.00028705413531606794\n",
      "train acc score is :0.9990409207161125\n",
      "It has been 5.697885274887085 seconds since the loop started\n",
      "test\n",
      "validation\n",
      "val loss score is :0.07294538367092127\n",
      "val acc score is :0.974881329113924\n",
      "test\n",
      "test loss score is :0.0577304377321076\n",
      "test acc score is :0.9771558544303798\n"
     ]
    },
    {
     "name": "stderr",
     "output_type": "stream",
     "text": [
      "\r",
      " 51%|█████████████████████████████████████████▎                                       | 51/100 [05:47<05:32,  6.78s/it]"
     ]
    },
    {
     "name": "stdout",
     "output_type": "stream",
     "text": [
      "Epoch 51\n",
      "train\n",
      "Using real-time data augmentation.\n",
      "train loss score is :0.0002637388121935923\n",
      "train acc score is :0.9990409207161125\n",
      "It has been 5.687927484512329 seconds since the loop started\n",
      "test\n",
      "validation\n",
      "val loss score is :0.072274591695647\n",
      "val acc score is :0.9749802215189873\n",
      "test\n",
      "test loss score is :0.05722930452363091\n",
      "test acc score is :0.9778481012658228\n"
     ]
    },
    {
     "name": "stderr",
     "output_type": "stream",
     "text": [
      "\r",
      " 52%|██████████████████████████████████████████                                       | 52/100 [05:54<05:28,  6.84s/it]"
     ]
    },
    {
     "name": "stdout",
     "output_type": "stream",
     "text": [
      "Epoch 52\n",
      "train\n",
      "Using real-time data augmentation.\n",
      "train loss score is :0.00026706451151074225\n",
      "train acc score is :0.9990409207161125\n",
      "It has been 5.803440570831299 seconds since the loop started\n",
      "test\n",
      "validation\n",
      "val loss score is :0.07344959581604588\n",
      "val acc score is :0.9751780063291139\n",
      "test\n",
      "test loss score is :0.05835404269923338\n",
      "test acc score is :0.9776503164556962\n"
     ]
    },
    {
     "name": "stderr",
     "output_type": "stream",
     "text": [
      "\r",
      " 53%|██████████████████████████████████████████▉                                      | 53/100 [06:01<05:26,  6.96s/it]"
     ]
    },
    {
     "name": "stdout",
     "output_type": "stream",
     "text": [
      "Epoch 53\n",
      "train\n",
      "Using real-time data augmentation.\n",
      "train loss score is :0.00024780261294364043\n",
      "train acc score is :0.9990409207161125\n",
      "It has been 5.8741395473480225 seconds since the loop started\n",
      "test\n",
      "validation\n",
      "val loss score is :0.07309295986543261\n",
      "val acc score is :0.9750791139240507\n",
      "test\n",
      "test loss score is :0.058408855439492376\n",
      "test acc score is :0.9778481012658228\n"
     ]
    },
    {
     "name": "stderr",
     "output_type": "stream",
     "text": [
      "\r",
      " 54%|███████████████████████████████████████████▋                                     | 54/100 [06:09<05:23,  7.04s/it]"
     ]
    },
    {
     "name": "stdout",
     "output_type": "stream",
     "text": [
      "Epoch 54\n",
      "train\n",
      "Using real-time data augmentation.\n",
      "train loss score is :0.0002271096930437934\n",
      "train acc score is :0.9990409207161125\n",
      "It has been 5.802443742752075 seconds since the loop started\n",
      "test\n",
      "validation\n",
      "val loss score is :0.07351693622179689\n",
      "val acc score is :0.9746835443037974\n",
      "test\n",
      "test loss score is :0.05878615009070144\n",
      "test acc score is :0.977254746835443\n"
     ]
    },
    {
     "name": "stderr",
     "output_type": "stream",
     "text": [
      "\r",
      " 55%|████████████████████████████████████████████▌                                    | 55/100 [06:16<05:19,  7.09s/it]"
     ]
    },
    {
     "name": "stdout",
     "output_type": "stream",
     "text": [
      "Epoch 55\n",
      "train\n",
      "Using real-time data augmentation.\n",
      "train loss score is :0.0002150463355799897\n",
      "train acc score is :0.9990409207161125\n",
      "It has been 5.514659643173218 seconds since the loop started\n",
      "test\n",
      "validation\n",
      "val loss score is :0.07419539187743149\n",
      "val acc score is :0.9750791139240507\n",
      "test\n",
      "test loss score is :0.05932399218580169\n",
      "test acc score is :0.9770569620253164\n"
     ]
    },
    {
     "name": "stderr",
     "output_type": "stream",
     "text": [
      "\r",
      " 56%|█████████████████████████████████████████████▎                                   | 56/100 [06:23<05:09,  7.03s/it]"
     ]
    },
    {
     "name": "stdout",
     "output_type": "stream",
     "text": [
      "Epoch 56\n",
      "train\n",
      "Using real-time data augmentation.\n",
      "train loss score is :0.00021334610936349555\n",
      "train acc score is :0.9990409207161125\n",
      "It has been 5.964750051498413 seconds since the loop started\n",
      "test\n",
      "validation\n",
      "val loss score is :0.0742593401797361\n",
      "val acc score is :0.9751780063291139\n",
      "test\n",
      "test loss score is :0.06005093643236967\n",
      "test acc score is :0.9775514240506329\n"
     ]
    },
    {
     "name": "stderr",
     "output_type": "stream",
     "text": [
      "\r",
      " 57%|██████████████████████████████████████████████▏                                  | 57/100 [06:30<05:05,  7.12s/it]"
     ]
    },
    {
     "name": "stdout",
     "output_type": "stream",
     "text": [
      "Epoch 57\n",
      "train\n",
      "Using real-time data augmentation.\n",
      "train loss score is :0.0002952825330553691\n",
      "train acc score is :0.9989809782608695\n",
      "It has been 5.898036479949951 seconds since the loop started\n",
      "test\n",
      "validation\n",
      "val loss score is :0.07473781088688473\n",
      "val acc score is :0.9754746835443038\n",
      "test\n",
      "test loss score is :0.059898831068517545\n",
      "test acc score is :0.977254746835443\n"
     ]
    },
    {
     "name": "stderr",
     "output_type": "stream",
     "text": [
      "\r",
      " 58%|██████████████████████████████████████████████▉                                  | 58/100 [06:37<05:00,  7.16s/it]"
     ]
    },
    {
     "name": "stdout",
     "output_type": "stream",
     "text": [
      "Epoch 58\n",
      "train\n",
      "Using real-time data augmentation.\n",
      "train loss score is :0.00019670458828995903\n",
      "train acc score is :0.9990409207161125\n",
      "It has been 5.87115216255188 seconds since the loop started\n",
      "test\n",
      "validation\n",
      "val loss score is :0.0749337309848857\n",
      "val acc score is :0.9749802215189873\n",
      "test\n",
      "test loss score is :0.06022036276635845\n",
      "test acc score is :0.9775514240506329\n"
     ]
    },
    {
     "name": "stderr",
     "output_type": "stream",
     "text": [
      "\r",
      " 59%|███████████████████████████████████████████████▊                                 | 59/100 [06:44<04:54,  7.18s/it]"
     ]
    },
    {
     "name": "stdout",
     "output_type": "stream",
     "text": [
      "Epoch 59\n",
      "train\n",
      "Using real-time data augmentation.\n",
      "train loss score is :0.00017837895626872952\n",
      "train acc score is :0.9990409207161125\n",
      "It has been 5.880111455917358 seconds since the loop started\n",
      "test\n",
      "validation\n",
      "val loss score is :0.0753379889721272\n",
      "val acc score is :0.9752768987341772\n",
      "test\n",
      "test loss score is :0.06073467003213259\n",
      "test acc score is :0.9777492088607594\n"
     ]
    },
    {
     "name": "stderr",
     "output_type": "stream",
     "text": [
      "\r",
      " 60%|████████████████████████████████████████████████▌                                | 60/100 [06:52<04:47,  7.20s/it]"
     ]
    },
    {
     "name": "stdout",
     "output_type": "stream",
     "text": [
      "Epoch 60\n",
      "train\n",
      "Using real-time data augmentation.\n",
      "train loss score is :0.00016846232824427996\n",
      "train acc score is :0.9990409207161125\n",
      "It has been 5.598307371139526 seconds since the loop started\n",
      "test\n",
      "validation\n",
      "val loss score is :0.07595646524637477\n",
      "val acc score is :0.9746835443037974\n",
      "test\n",
      "test loss score is :0.06036554655276885\n",
      "test acc score is :0.9776503164556962\n"
     ]
    },
    {
     "name": "stderr",
     "output_type": "stream",
     "text": [
      "\r",
      " 61%|█████████████████████████████████████████████████▍                               | 61/100 [06:59<04:38,  7.14s/it]"
     ]
    },
    {
     "name": "stdout",
     "output_type": "stream",
     "text": [
      "Epoch 61\n",
      "train\n",
      "Using real-time data augmentation.\n",
      "train loss score is :0.0001670166282187637\n",
      "train acc score is :0.9990409207161125\n",
      "It has been 5.6729896068573 seconds since the loop started\n",
      "test\n",
      "validation\n",
      "val loss score is :0.07583507594869758\n",
      "val acc score is :0.9744857594936709\n",
      "test\n",
      "test loss score is :0.06070000690552269\n",
      "test acc score is :0.9775514240506329\n"
     ]
    },
    {
     "name": "stderr",
     "output_type": "stream",
     "text": [
      "\r",
      " 62%|██████████████████████████████████████████████████▏                              | 62/100 [07:06<04:29,  7.10s/it]"
     ]
    },
    {
     "name": "stdout",
     "output_type": "stream",
     "text": [
      "Epoch 62\n",
      "train\n",
      "Using real-time data augmentation.\n",
      "train loss score is :0.0001589994930655497\n",
      "train acc score is :0.9990409207161125\n",
      "It has been 5.425267457962036 seconds since the loop started\n",
      "test\n",
      "validation\n",
      "val loss score is :0.0767607398590531\n",
      "val acc score is :0.9749802215189873\n",
      "test\n",
      "test loss score is :0.06141493213837562\n",
      "test acc score is :0.9776503164556962\n"
     ]
    },
    {
     "name": "stderr",
     "output_type": "stream",
     "text": [
      "\r",
      " 63%|███████████████████████████████████████████████████                              | 63/100 [07:12<04:18,  7.00s/it]"
     ]
    },
    {
     "name": "stdout",
     "output_type": "stream",
     "text": [
      "Epoch 63\n",
      "train\n",
      "Using real-time data augmentation.\n",
      "train loss score is :0.0001543167045366152\n",
      "train acc score is :0.9990409207161125\n",
      "It has been 5.580388307571411 seconds since the loop started\n",
      "test\n",
      "validation\n",
      "val loss score is :0.07651932206453572\n",
      "val acc score is :0.9749802215189873\n",
      "test\n",
      "test loss score is :0.06129680414062621\n",
      "test acc score is :0.9779469936708861\n"
     ]
    },
    {
     "name": "stderr",
     "output_type": "stream",
     "text": [
      "\r",
      " 64%|███████████████████████████████████████████████████▊                             | 64/100 [07:19<04:11,  6.98s/it]"
     ]
    },
    {
     "name": "stdout",
     "output_type": "stream",
     "text": [
      "Epoch 64\n",
      "train\n",
      "Using real-time data augmentation.\n",
      "train loss score is :0.00014852055353673288\n",
      "train acc score is :0.9990409207161125\n",
      "It has been 5.654071807861328 seconds since the loop started\n",
      "test\n",
      "validation\n",
      "val loss score is :0.07663733213348102\n",
      "val acc score is :0.9749802215189873\n",
      "test\n",
      "test loss score is :0.06158777090327827\n",
      "test acc score is :0.9778481012658228\n"
     ]
    },
    {
     "name": "stderr",
     "output_type": "stream",
     "text": [
      "\r",
      " 65%|████████████████████████████████████████████████████▋                            | 65/100 [07:26<04:04,  6.99s/it]"
     ]
    },
    {
     "name": "stdout",
     "output_type": "stream",
     "text": [
      "Epoch 65\n",
      "train\n",
      "Using real-time data augmentation.\n",
      "train loss score is :0.00014194444266217303\n",
      "train acc score is :0.9990409207161125\n",
      "It has been 5.6729912757873535 seconds since the loop started\n",
      "test\n",
      "validation\n",
      "val loss score is :0.07685718982464504\n",
      "val acc score is :0.9744857594936709\n",
      "test\n",
      "test loss score is :0.06194313921340889\n",
      "test acc score is :0.9774525316455697\n"
     ]
    },
    {
     "name": "stderr",
     "output_type": "stream",
     "text": [
      "\r",
      " 66%|█████████████████████████████████████████████████████▍                           | 66/100 [07:33<03:57,  7.00s/it]"
     ]
    },
    {
     "name": "stdout",
     "output_type": "stream",
     "text": [
      "Epoch 66\n",
      "train\n",
      "Using real-time data augmentation.\n",
      "train loss score is :0.0001377937861304215\n",
      "train acc score is :0.9990409207161125\n",
      "It has been 6.000605344772339 seconds since the loop started\n",
      "test\n",
      "validation\n",
      "val loss score is :0.07740865634769772\n",
      "val acc score is :0.9749802215189873\n",
      "test\n",
      "test loss score is :0.062196943414717314\n",
      "test acc score is :0.9775514240506329\n"
     ]
    },
    {
     "name": "stderr",
     "output_type": "stream",
     "text": [
      "\r",
      " 67%|██████████████████████████████████████████████████████▎                          | 67/100 [07:41<03:55,  7.13s/it]"
     ]
    },
    {
     "name": "stdout",
     "output_type": "stream",
     "text": [
      "Epoch 67\n",
      "train\n",
      "Using real-time data augmentation.\n",
      "train loss score is :0.00013434450733364108\n",
      "train acc score is :0.9990409207161125\n",
      "It has been 6.064333915710449 seconds since the loop started\n",
      "test\n",
      "validation\n",
      "val loss score is :0.07755467801436189\n",
      "val acc score is :0.9749802215189873\n",
      "test\n",
      "test loss score is :0.06224540020951891\n",
      "test acc score is :0.9779469936708861\n"
     ]
    },
    {
     "name": "stderr",
     "output_type": "stream",
     "text": [
      "\r",
      " 68%|███████████████████████████████████████████████████████                          | 68/100 [07:48<03:50,  7.20s/it]"
     ]
    },
    {
     "name": "stdout",
     "output_type": "stream",
     "text": [
      "Epoch 68\n",
      "train\n",
      "Using real-time data augmentation.\n",
      "train loss score is :0.00012835151575911455\n",
      "train acc score is :0.9990409207161125\n",
      "It has been 5.928902864456177 seconds since the loop started\n",
      "test\n",
      "validation\n",
      "val loss score is :0.07843773090934508\n",
      "val acc score is :0.9750791139240507\n",
      "test\n",
      "test loss score is :0.06256556109002329\n",
      "test acc score is :0.9778481012658228\n"
     ]
    },
    {
     "name": "stderr",
     "output_type": "stream",
     "text": [
      "\r",
      " 69%|███████████████████████████████████████████████████████▉                         | 69/100 [07:55<03:43,  7.22s/it]"
     ]
    },
    {
     "name": "stdout",
     "output_type": "stream",
     "text": [
      "Epoch 69\n",
      "train\n",
      "Using real-time data augmentation.\n",
      "train loss score is :0.00012550819037944602\n",
      "train acc score is :0.9990409207161125\n",
      "It has been 5.290756702423096 seconds since the loop started\n",
      "test\n",
      "validation\n",
      "val loss score is :0.07781244863559274\n",
      "val acc score is :0.9752768987341772\n",
      "test\n",
      "test loss score is :0.06299356255531856\n",
      "test acc score is :0.9779469936708861\n"
     ]
    },
    {
     "name": "stderr",
     "output_type": "stream",
     "text": [
      "\r",
      " 70%|████████████████████████████████████████████████████████▋                        | 70/100 [08:02<03:30,  7.03s/it]"
     ]
    },
    {
     "name": "stdout",
     "output_type": "stream",
     "text": [
      "Epoch 70\n",
      "train\n",
      "Using real-time data augmentation.\n",
      "train loss score is :0.00012287434701287184\n",
      "train acc score is :0.9990409207161125\n",
      "It has been 5.296575307846069 seconds since the loop started\n",
      "test\n",
      "validation\n",
      "val loss score is :0.07802240287128379\n",
      "val acc score is :0.974881329113924\n",
      "test\n",
      "test loss score is :0.06290254943019423\n",
      "test acc score is :0.9778481012658228\n"
     ]
    },
    {
     "name": "stderr",
     "output_type": "stream",
     "text": [
      "\r",
      " 71%|█████████████████████████████████████████████████████████▌                       | 71/100 [08:09<03:20,  6.91s/it]"
     ]
    },
    {
     "name": "stdout",
     "output_type": "stream",
     "text": [
      "Epoch 71\n",
      "train\n",
      "Using real-time data augmentation.\n",
      "train loss score is :0.00011983349271005277\n",
      "train acc score is :0.9990409207161125\n",
      "It has been 5.169117450714111 seconds since the loop started\n",
      "test\n",
      "validation\n",
      "val loss score is :0.07810693094405909\n",
      "val acc score is :0.974881329113924\n",
      "test\n",
      "test loss score is :0.06301514796207731\n",
      "test acc score is :0.9779469936708861\n"
     ]
    },
    {
     "name": "stderr",
     "output_type": "stream",
     "text": [
      "\r",
      " 72%|██████████████████████████████████████████████████████████▎                      | 72/100 [08:15<03:09,  6.77s/it]"
     ]
    },
    {
     "name": "stdout",
     "output_type": "stream",
     "text": [
      "Epoch 72\n",
      "train\n",
      "Using real-time data augmentation.\n",
      "train loss score is :0.00011616975415746099\n",
      "train acc score is :0.9990409207161125\n",
      "It has been 5.496736764907837 seconds since the loop started\n",
      "test\n",
      "validation\n",
      "val loss score is :0.07879842149307052\n",
      "val acc score is :0.974881329113924\n",
      "test\n",
      "test loss score is :0.06338535715198465\n",
      "test acc score is :0.9778481012658228\n"
     ]
    },
    {
     "name": "stderr",
     "output_type": "stream",
     "text": [
      "\r",
      " 73%|███████████████████████████████████████████████████████████▏                     | 73/100 [08:22<03:03,  6.81s/it]"
     ]
    },
    {
     "name": "stdout",
     "output_type": "stream",
     "text": [
      "Epoch 73\n",
      "train\n",
      "Using real-time data augmentation.\n",
      "train loss score is :0.00011208033984622509\n",
      "train acc score is :0.9990409207161125\n",
      "It has been 5.666015625 seconds since the loop started\n",
      "test\n",
      "validation\n",
      "val loss score is :0.07861851976429511\n",
      "val acc score is :0.9749802215189873\n",
      "test\n",
      "test loss score is :0.06332248008913123\n",
      "test acc score is :0.9779469936708861\n"
     ]
    },
    {
     "name": "stderr",
     "output_type": "stream",
     "text": [
      "\r",
      " 74%|███████████████████████████████████████████████████████████▉                     | 74/100 [08:29<02:58,  6.87s/it]"
     ]
    },
    {
     "name": "stdout",
     "output_type": "stream",
     "text": [
      "Epoch 74\n",
      "train\n",
      "Using real-time data augmentation.\n",
      "train loss score is :0.00010912008551399351\n",
      "train acc score is :0.9990409207161125\n",
      "It has been 5.539551258087158 seconds since the loop started\n",
      "test\n",
      "validation\n",
      "val loss score is :0.07944624218309194\n",
      "val acc score is :0.974881329113924\n",
      "test\n",
      "test loss score is :0.06391708466696189\n",
      "test acc score is :0.9780458860759493\n"
     ]
    },
    {
     "name": "stderr",
     "output_type": "stream",
     "text": [
      "\r",
      " 75%|████████████████████████████████████████████████████████████▊                    | 75/100 [08:36<02:51,  6.87s/it]"
     ]
    },
    {
     "name": "stdout",
     "output_type": "stream",
     "text": [
      "Epoch 75\n",
      "train\n",
      "Using real-time data augmentation.\n",
      "train loss score is :0.0001067312776842784\n",
      "train acc score is :0.9990409207161125\n",
      "It has been 5.390183448791504 seconds since the loop started\n",
      "test\n",
      "validation\n",
      "val loss score is :0.07946177969666056\n",
      "val acc score is :0.9746835443037974\n",
      "test\n",
      "test loss score is :0.0640392141945776\n",
      "test acc score is :0.9780458860759493\n"
     ]
    },
    {
     "name": "stderr",
     "output_type": "stream",
     "text": [
      "\r",
      " 76%|█████████████████████████████████████████████████████████████▌                   | 76/100 [08:43<02:43,  6.81s/it]"
     ]
    },
    {
     "name": "stdout",
     "output_type": "stream",
     "text": [
      "Epoch 76\n",
      "train\n",
      "Using real-time data augmentation.\n",
      "train loss score is :0.0001041370922887108\n",
      "train acc score is :0.9990409207161125\n",
      "It has been 5.576396226882935 seconds since the loop started\n",
      "test\n",
      "validation\n",
      "val loss score is :0.07884462399046893\n",
      "val acc score is :0.9749802215189873\n",
      "test\n",
      "test loss score is :0.06365354191159354\n",
      "test acc score is :0.9779469936708861\n"
     ]
    },
    {
     "name": "stderr",
     "output_type": "stream",
     "text": [
      "\r",
      " 77%|██████████████████████████████████████████████████████████████▎                  | 77/100 [08:49<02:36,  6.82s/it]"
     ]
    },
    {
     "name": "stdout",
     "output_type": "stream",
     "text": [
      "Epoch 77\n",
      "train\n",
      "Using real-time data augmentation.\n",
      "train loss score is :0.0001016733089216922\n",
      "train acc score is :0.9990409207161125\n",
      "It has been 5.341390609741211 seconds since the loop started\n",
      "test\n",
      "validation\n",
      "val loss score is :0.0797140559726485\n",
      "val acc score is :0.974881329113924\n",
      "test\n",
      "test loss score is :0.06435217816115033\n",
      "test acc score is :0.978243670886076\n"
     ]
    },
    {
     "name": "stderr",
     "output_type": "stream",
     "text": [
      "\r",
      " 78%|███████████████████████████████████████████████████████████████▏                 | 78/100 [08:56<02:29,  6.79s/it]"
     ]
    },
    {
     "name": "stdout",
     "output_type": "stream",
     "text": [
      "Epoch 78\n",
      "train\n",
      "Using real-time data augmentation.\n",
      "train loss score is :9.892556691271178e-05\n",
      "train acc score is :0.9990409207161125\n",
      "It has been 5.157341480255127 seconds since the loop started\n",
      "test\n",
      "validation\n",
      "val loss score is :0.08001653685865213\n",
      "val acc score is :0.9746835443037974\n",
      "test\n",
      "test loss score is :0.06451651510610862\n",
      "test acc score is :0.9780458860759493\n"
     ]
    },
    {
     "name": "stderr",
     "output_type": "stream",
     "text": [
      "\r",
      " 79%|███████████████████████████████████████████████████████████████▉                 | 79/100 [09:02<02:19,  6.66s/it]"
     ]
    },
    {
     "name": "stdout",
     "output_type": "stream",
     "text": [
      "Epoch 79\n",
      "train\n",
      "Using real-time data augmentation.\n",
      "train loss score is :9.650889432974565e-05\n",
      "train acc score is :0.9990409207161125\n",
      "It has been 5.369275331497192 seconds since the loop started\n",
      "test\n",
      "validation\n",
      "val loss score is :0.07928247472335886\n",
      "val acc score is :0.9749802215189873\n",
      "test\n",
      "test loss score is :0.06412563792465376\n",
      "test acc score is :0.9781447784810127\n"
     ]
    },
    {
     "name": "stderr",
     "output_type": "stream",
     "text": [
      "\r",
      " 80%|████████████████████████████████████████████████████████████████▊                | 80/100 [09:09<02:13,  6.68s/it]"
     ]
    },
    {
     "name": "stdout",
     "output_type": "stream",
     "text": [
      "Epoch 80\n",
      "train\n",
      "Using real-time data augmentation.\n",
      "train loss score is :9.424033294878667e-05\n",
      "train acc score is :0.9990409207161125\n",
      "It has been 5.336411237716675 seconds since the loop started\n",
      "test\n",
      "validation\n",
      "val loss score is :0.08021145045138468\n",
      "val acc score is :0.9747824367088608\n",
      "test\n",
      "test loss score is :0.06479743614181684\n",
      "test acc score is :0.9777492088607594\n"
     ]
    },
    {
     "name": "stderr",
     "output_type": "stream",
     "text": [
      "\r",
      " 81%|█████████████████████████████████████████████████████████████████▌               | 81/100 [09:16<02:06,  6.68s/it]"
     ]
    },
    {
     "name": "stdout",
     "output_type": "stream",
     "text": [
      "Epoch 81\n",
      "train\n",
      "Using real-time data augmentation.\n",
      "train loss score is :9.240806853062554e-05\n",
      "train acc score is :0.9990409207161125\n",
      "It has been 5.564447641372681 seconds since the loop started\n",
      "test\n",
      "validation\n",
      "val loss score is :0.08028091367893317\n",
      "val acc score is :0.9747824367088608\n",
      "test\n",
      "test loss score is :0.06478568793735594\n",
      "test acc score is :0.9778481012658228\n"
     ]
    },
    {
     "name": "stderr",
     "output_type": "stream",
     "text": [
      "\r",
      " 82%|██████████████████████████████████████████████████████████████████▍              | 82/100 [09:23<02:01,  6.75s/it]"
     ]
    },
    {
     "name": "stdout",
     "output_type": "stream",
     "text": [
      "Epoch 82\n",
      "train\n",
      "Using real-time data augmentation.\n",
      "train loss score is :9.034478633540737e-05\n",
      "train acc score is :0.9990409207161125\n",
      "It has been 5.515652418136597 seconds since the loop started\n",
      "test\n",
      "validation\n",
      "val loss score is :0.08046093328816305\n",
      "val acc score is :0.9750791139240507\n",
      "test\n",
      "test loss score is :0.06492123224011326\n",
      "test acc score is :0.9781447784810127\n"
     ]
    },
    {
     "name": "stderr",
     "output_type": "stream",
     "text": [
      "\r",
      " 83%|███████████████████████████████████████████████████████████████████▏             | 83/100 [09:30<01:54,  6.76s/it]"
     ]
    },
    {
     "name": "stdout",
     "output_type": "stream",
     "text": [
      "Epoch 83\n",
      "train\n",
      "Using real-time data augmentation.\n",
      "train loss score is :8.832199532762656e-05\n",
      "train acc score is :0.9990409207161125\n",
      "It has been 5.457899332046509 seconds since the loop started\n",
      "test\n",
      "validation\n",
      "val loss score is :0.08017698597071024\n",
      "val acc score is :0.974881329113924\n",
      "test\n",
      "test loss score is :0.06501136437527978\n",
      "test acc score is :0.9777492088607594\n"
     ]
    },
    {
     "name": "stderr",
     "output_type": "stream",
     "text": [
      "\r",
      " 84%|████████████████████████████████████████████████████████████████████             | 84/100 [09:36<01:48,  6.77s/it]"
     ]
    },
    {
     "name": "stdout",
     "output_type": "stream",
     "text": [
      "Epoch 84\n",
      "train\n",
      "Using real-time data augmentation.\n",
      "train loss score is :8.669350618284018e-05\n",
      "train acc score is :0.9990409207161125\n",
      "It has been 5.429018259048462 seconds since the loop started\n",
      "test\n",
      "validation\n",
      "val loss score is :0.08082277047431696\n",
      "val acc score is :0.9746835443037974\n",
      "test\n",
      "test loss score is :0.0653117656086509\n",
      "test acc score is :0.9779469936708861\n"
     ]
    },
    {
     "name": "stderr",
     "output_type": "stream",
     "text": [
      "\r",
      " 85%|████████████████████████████████████████████████████████████████████▊            | 85/100 [09:43<01:41,  6.78s/it]"
     ]
    },
    {
     "name": "stdout",
     "output_type": "stream",
     "text": [
      "Epoch 85\n",
      "train\n",
      "Using real-time data augmentation.\n",
      "train loss score is :8.538950414045325e-05\n",
      "train acc score is :0.9990409207161125\n",
      "It has been 5.409103155136108 seconds since the loop started\n",
      "test\n",
      "validation\n",
      "val loss score is :0.08113046313337693\n",
      "val acc score is :0.9749802215189873\n",
      "test\n",
      "test loss score is :0.06553983524005345\n",
      "test acc score is :0.9779469936708861\n"
     ]
    },
    {
     "name": "stderr",
     "output_type": "stream",
     "text": [
      "\r",
      " 86%|█████████████████████████████████████████████████████████████████████▋           | 86/100 [09:50<01:34,  6.78s/it]"
     ]
    },
    {
     "name": "stdout",
     "output_type": "stream",
     "text": [
      "Epoch 86\n",
      "train\n",
      "Using real-time data augmentation.\n",
      "train loss score is :8.234417948625212e-05\n",
      "train acc score is :0.9990409207161125\n",
      "It has been 5.3075315952301025 seconds since the loop started\n",
      "test\n",
      "validation\n",
      "val loss score is :0.08087228841142423\n",
      "val acc score is :0.9747824367088608\n",
      "test\n",
      "test loss score is :0.06582912331512926\n",
      "test acc score is :0.9780458860759493\n"
     ]
    },
    {
     "name": "stderr",
     "output_type": "stream",
     "text": [
      "\r",
      " 87%|██████████████████████████████████████████████████████████████████████▍          | 87/100 [09:57<01:27,  6.74s/it]"
     ]
    },
    {
     "name": "stdout",
     "output_type": "stream",
     "text": [
      "Epoch 87\n",
      "train\n",
      "Using real-time data augmentation.\n",
      "train loss score is :8.17885007421855e-05\n",
      "train acc score is :0.9990409207161125\n",
      "It has been 5.419061899185181 seconds since the loop started\n",
      "test\n",
      "validation\n",
      "val loss score is :0.08128304044771252\n",
      "val acc score is :0.9749802215189873\n",
      "test\n",
      "test loss score is :0.0657820781385436\n",
      "test acc score is :0.9779469936708861\n"
     ]
    },
    {
     "name": "stderr",
     "output_type": "stream",
     "text": [
      "\r",
      " 88%|███████████████████████████████████████████████████████████████████████▎         | 88/100 [10:03<01:20,  6.73s/it]"
     ]
    },
    {
     "name": "stdout",
     "output_type": "stream",
     "text": [
      "Epoch 88\n",
      "train\n",
      "Using real-time data augmentation.\n",
      "train loss score is :7.968136077744553e-05\n",
      "train acc score is :0.9990409207161125\n",
      "It has been 5.592329263687134 seconds since the loop started\n",
      "test\n",
      "validation\n",
      "val loss score is :0.08132854159694494\n",
      "val acc score is :0.974881329113924\n",
      "test\n",
      "test loss score is :0.06583155322741847\n",
      "test acc score is :0.9781447784810127\n"
     ]
    },
    {
     "name": "stderr",
     "output_type": "stream",
     "text": [
      "\r",
      " 89%|████████████████████████████████████████████████████████████████████████         | 89/100 [10:10<01:14,  6.80s/it]"
     ]
    },
    {
     "name": "stdout",
     "output_type": "stream",
     "text": [
      "Epoch 89\n",
      "train\n",
      "Using real-time data augmentation.\n",
      "train loss score is :7.811653031132404e-05\n",
      "train acc score is :0.9990409207161125\n",
      "It has been 5.655062913894653 seconds since the loop started\n",
      "test\n",
      "validation\n",
      "val loss score is :0.08182979173814521\n",
      "val acc score is :0.9745846518987342\n",
      "test\n",
      "test loss score is :0.06584872930941453\n",
      "test acc score is :0.9779469936708861\n"
     ]
    },
    {
     "name": "stderr",
     "output_type": "stream",
     "text": [
      "\r",
      " 90%|████████████████████████████████████████████████████████████████████████▉        | 90/100 [10:17<01:08,  6.82s/it]"
     ]
    },
    {
     "name": "stdout",
     "output_type": "stream",
     "text": [
      "Epoch 90\n",
      "train\n",
      "Using real-time data augmentation.\n",
      "train loss score is :7.660040473955146e-05\n",
      "train acc score is :0.9990409207161125\n",
      "It has been 5.602291107177734 seconds since the loop started\n",
      "test\n",
      "validation\n",
      "val loss score is :0.08170068047042184\n",
      "val acc score is :0.9747824367088608\n",
      "test\n",
      "test loss score is :0.0662507634739673\n",
      "test acc score is :0.9779469936708861\n"
     ]
    },
    {
     "name": "stderr",
     "output_type": "stream",
     "text": [
      "\r",
      " 91%|█████████████████████████████████████████████████████████████████████████▋       | 91/100 [10:24<01:01,  6.84s/it]"
     ]
    },
    {
     "name": "stdout",
     "output_type": "stream",
     "text": [
      "Epoch 91\n",
      "train\n",
      "Using real-time data augmentation.\n",
      "train loss score is :7.515155734248965e-05\n",
      "train acc score is :0.9990409207161125\n",
      "It has been 5.380307912826538 seconds since the loop started\n",
      "test\n",
      "validation\n",
      "val loss score is :0.0819851209186354\n",
      "val acc score is :0.9750791139240507\n",
      "test\n",
      "test loss score is :0.06671467830688879\n",
      "test acc score is :0.9774525316455697\n"
     ]
    },
    {
     "name": "stderr",
     "output_type": "stream",
     "text": [
      "\r",
      " 92%|██████████████████████████████████████████████████████████████████████████▌      | 92/100 [10:31<00:54,  6.79s/it]"
     ]
    },
    {
     "name": "stdout",
     "output_type": "stream",
     "text": [
      "Epoch 92\n",
      "train\n",
      "Using real-time data augmentation.\n",
      "train loss score is :7.355265047928925e-05\n",
      "train acc score is :0.9990409207161125\n",
      "It has been 5.531586647033691 seconds since the loop started\n",
      "test\n",
      "validation\n",
      "val loss score is :0.08197126064250013\n",
      "val acc score is :0.974881329113924\n",
      "test\n",
      "test loss score is :0.06647943324244461\n",
      "test acc score is :0.9779469936708861\n"
     ]
    },
    {
     "name": "stderr",
     "output_type": "stream",
     "text": [
      "\r",
      " 93%|███████████████████████████████████████████████████████████████████████████▎     | 93/100 [10:38<00:47,  6.81s/it]"
     ]
    },
    {
     "name": "stdout",
     "output_type": "stream",
     "text": [
      "Epoch 93\n",
      "train\n",
      "Using real-time data augmentation.\n",
      "train loss score is :7.201616827915643e-05\n",
      "train acc score is :0.9990409207161125\n",
      "It has been 5.522587776184082 seconds since the loop started\n",
      "test\n",
      "validation\n",
      "val loss score is :0.08212828324275832\n",
      "val acc score is :0.974881329113924\n",
      "test\n",
      "test loss score is :0.06651944991338933\n",
      "test acc score is :0.9779469936708861\n"
     ]
    },
    {
     "name": "stderr",
     "output_type": "stream",
     "text": [
      "\r",
      " 94%|████████████████████████████████████████████████████████████████████████████▏    | 94/100 [10:44<00:40,  6.83s/it]"
     ]
    },
    {
     "name": "stdout",
     "output_type": "stream",
     "text": [
      "Epoch 94\n",
      "train\n",
      "Using real-time data augmentation.\n",
      "train loss score is :7.141003679007647e-05\n",
      "train acc score is :0.9990409207161125\n",
      "It has been 5.481796741485596 seconds since the loop started\n",
      "test\n",
      "validation\n",
      "val loss score is :0.08185730715031474\n",
      "val acc score is :0.9749802215189873\n",
      "test\n",
      "test loss score is :0.06674874419193029\n",
      "test acc score is :0.9780458860759493\n"
     ]
    },
    {
     "name": "stderr",
     "output_type": "stream",
     "text": [
      "\r",
      " 95%|████████████████████████████████████████████████████████████████████████████▉    | 95/100 [10:51<00:34,  6.82s/it]"
     ]
    },
    {
     "name": "stdout",
     "output_type": "stream",
     "text": [
      "Epoch 95\n",
      "train\n",
      "Using real-time data augmentation.\n",
      "train loss score is :6.851051923016912e-05\n",
      "train acc score is :0.9990409207161125\n",
      "It has been 5.570423364639282 seconds since the loop started\n",
      "test\n",
      "validation\n",
      "val loss score is :0.08287551614497876\n",
      "val acc score is :0.974881329113924\n",
      "test\n",
      "test loss score is :0.06706776942266078\n",
      "test acc score is :0.9778481012658228\n"
     ]
    },
    {
     "name": "stderr",
     "output_type": "stream",
     "text": [
      "\r",
      " 96%|█████████████████████████████████████████████████████████████████████████████▊   | 96/100 [10:58<00:27,  6.87s/it]"
     ]
    },
    {
     "name": "stdout",
     "output_type": "stream",
     "text": [
      "Epoch 96\n",
      "train\n",
      "Using real-time data augmentation.\n",
      "train loss score is :6.907761650343492e-05\n",
      "train acc score is :0.9990409207161125\n",
      "It has been 4.7469093799591064 seconds since the loop started\n",
      "test\n",
      "validation\n",
      "val loss score is :0.0825384414758548\n",
      "val acc score is :0.9749802215189873\n",
      "test\n",
      "test loss score is :0.06708803966238858\n",
      "test acc score is :0.9777492088607594\n"
     ]
    },
    {
     "name": "stderr",
     "output_type": "stream",
     "text": [
      "\r",
      " 97%|██████████████████████████████████████████████████████████████████████████████▌  | 97/100 [11:04<00:19,  6.57s/it]"
     ]
    },
    {
     "name": "stdout",
     "output_type": "stream",
     "text": [
      "Epoch 97\n",
      "train\n",
      "Using real-time data augmentation.\n",
      "train loss score is :6.724630642085565e-05\n",
      "train acc score is :0.9990409207161125\n",
      "It has been 4.466828346252441 seconds since the loop started\n",
      "test\n",
      "validation\n",
      "val loss score is :0.0826134388605854\n",
      "val acc score is :0.9747824367088608\n",
      "test\n",
      "test loss score is :0.06716221262112484\n",
      "test acc score is :0.9777492088607594\n"
     ]
    },
    {
     "name": "stderr",
     "output_type": "stream",
     "text": [
      "\r",
      " 98%|███████████████████████████████████████████████████████████████████████████████▍ | 98/100 [11:10<00:12,  6.27s/it]"
     ]
    },
    {
     "name": "stdout",
     "output_type": "stream",
     "text": [
      "Epoch 98\n",
      "train\n",
      "Using real-time data augmentation.\n",
      "train loss score is :6.590498879303947e-05\n",
      "train acc score is :0.9990409207161125\n",
      "It has been 4.527833938598633 seconds since the loop started\n",
      "test\n",
      "validation\n",
      "val loss score is :0.08264431388768212\n",
      "val acc score is :0.9749802215189873\n",
      "test\n",
      "test loss score is :0.06709670352091492\n",
      "test acc score is :0.9784414556962026\n"
     ]
    },
    {
     "name": "stderr",
     "output_type": "stream",
     "text": [
      "\r",
      " 99%|████████████████████████████████████████████████████████████████████████████████▏| 99/100 [11:15<00:06,  6.09s/it]"
     ]
    },
    {
     "name": "stdout",
     "output_type": "stream",
     "text": [
      "Epoch 99\n",
      "train\n",
      "Using real-time data augmentation.\n",
      "train loss score is :6.534520759662968e-05\n",
      "train acc score is :0.9990409207161125\n",
      "It has been 4.473067045211792 seconds since the loop started\n",
      "test\n",
      "validation\n",
      "val loss score is :0.08284781877467404\n",
      "val acc score is :0.9749802215189873\n",
      "test\n",
      "test loss score is :0.06746948254512862\n",
      "test acc score is :0.9780458860759493\n"
     ]
    },
    {
     "name": "stderr",
     "output_type": "stream",
     "text": [
      "100%|████████████████████████████████████████████████████████████████████████████████| 100/100 [11:21<00:00,  5.87s/it]\n"
     ]
    }
   ],
   "source": [
    "input_tensors = [all_model[0].inputs[0], # input data\n",
    "                 all_model[0].sample_weights[0], # how much to weight each sample by\n",
    "                 all_model[0].targets[0], # labels\n",
    "                 K.learning_phase(), # train or test mode\n",
    "                 all_model[1].inputs[0], # input data\n",
    "                 all_model[1].sample_weights[0], # how much to weight each sample by\n",
    "                 all_model[1].targets[0], # labels\n",
    "                 all_model[2].inputs[0], # input data\n",
    "                 all_model[2].sample_weights[0], # how much to weight each sample by\n",
    "                 all_model[2].targets[0], # labels\n",
    "                ]\n",
    "\n",
    "\n",
    "minlos = K.argmin(losses)\n",
    "\n",
    "grr=[]\n",
    "for x in gr:\n",
    "    for y in x:\n",
    "        grr.append(y)\n",
    "\n",
    "upd_test= K.function(inputs=input_tensors, outputs=[ losses[0], losses[1], losses[2], minlos, prediction[0], prediction[1], prediction[2] ])\n",
    "\n",
    "\n",
    "grad_best=[]\n",
    "grad_non0 = []\n",
    "grad_non1 = []\n",
    "\n",
    "\n",
    "weig_best=[]\n",
    "weig_non0 = []\n",
    "weig_non1 = []\n",
    "\n",
    "xweig_best=[]\n",
    "xweig_non0 = []\n",
    "xweig_non1 = []\n",
    "\n",
    "\n",
    "\n",
    "\n",
    "for i in range(len(gr[0])):\n",
    "    gr_ck=tf.concat([gr[0][i],gr[1][i], gr[2][i]],0)\n",
    "    newshape = (3, ) + (tuple(wr[0][i].shape))\n",
    "\n",
    "    \n",
    "    gr_ck2=tf.reshape(gr_ck, newshape)\n",
    "    \n",
    "    bb = gr_ck2[minlos]\n",
    "    grad_best.append(bb)\n",
    "    \n",
    "    nbb0 = gr_ck2[0:minlos]                       #[0,enk) U (enk,] aralıklarının birleşimi bize nonbesti verecek\n",
    "    nbb1 = gr_ck2[minlos+1:]                      #[0,enk) U (enk,] aralıklarının birleşimi bize nonbesti verecek\n",
    "    nbc = tf.concat([nbb0,nbb1], 0)    \n",
    "    nbc = tf.reshape(nbc, (-1,))\n",
    "    newshape2 = (2, ) + (tuple(wr[0][i].shape))\n",
    "    \n",
    "    nbc2 = tf.reshape(nbc, newshape2) \n",
    "    nb0 = nbc2[0]\n",
    "    nb1 = nbc2[1]\n",
    "    grad_non0.append(nb0)\n",
    "    grad_non1.append(nb1)\n",
    "    \n",
    "\n",
    "    wr_ck=tf.concat([wr[0][i],wr[1][i], wr[2][i]],0)\n",
    "    \n",
    "    newshape = (3, ) + (tuple(wr[0][i].shape))\n",
    "    wr_ck2=tf.reshape(wr_ck, newshape) \n",
    "    bb2 = wr_ck2[minlos]\n",
    "    weig_best.append(bb2)\n",
    "    \n",
    "    #wb = wr_ck[minlos]\n",
    "    wnbb0 = wr_ck2[0:minlos]                       #[0,enk) U (enk,] aralıklarının birleşimi bize nonbesti verecek\n",
    "    wnbb1 = wr_ck2[minlos+1:]                      #[0,enk) U (enk,] aralıklarının birleşimi bize nonbesti verecek\n",
    "    wnbc = tf.concat([wnbb0,wnbb1],0)    \n",
    "    wnbc = tf.reshape(wnbc, (-1,))\n",
    "    newshape2 = (2, ) + (tuple(wr[0][i].shape))\n",
    "    \n",
    "    wnbc2 =tf.reshape(wnbc, newshape2)\n",
    "    wnb0 = wnbc2[0]\n",
    "    wnb1 = wnbc2[1]\n",
    "    weig_non0.append(wnb0)\n",
    "    weig_non1.append(wnb1)\n",
    "    \n",
    "    if i<len(xwr[0]):\n",
    "        print (i)\n",
    "        xwr_ck=tf.concat([xwr[0][i],xwr[1][i], xwr[2][i]], 0)\n",
    "\n",
    "        newshape = (3, ) + (tuple(xwr[0][i].shape))\n",
    "        \n",
    "        xwr_ck2=tf.reshape(xwr_ck, newshape)  \n",
    "        xbb2 = xwr_ck2[minlos]\n",
    "        xweig_best.append(xbb2)\n",
    "\n",
    "        #wb = wr_ck[minlos]\n",
    "        xwnbb0 = xwr_ck2[0:minlos]                       #[0,enk) U (enk,] aralıklarının birleşimi bize nonbesti verecek\n",
    "        xwnbb1 = xwr_ck2[minlos+1:]                      #[0,enk) U (enk,] aralıklarının birleşimi bize nonbesti verecek\n",
    "        xwnbc = tf.concat([xwnbb0,xwnbb1], 0)    \n",
    "        \n",
    "        xwnbc = tf.reshape(xwnbc, (-1,))\n",
    "        newshape2 = (2, ) + (tuple(xwr[0][i].shape))\n",
    "         \n",
    "        xwnbc2 = tf.reshape(xwnbc, newshape2) \n",
    "        xwnb0 = xwnbc2[0]\n",
    "        xwnb1 = xwnbc2[1]\n",
    "        xweig_non0.append(xwnb0)\n",
    "        xweig_non1.append(xwnb1)\n",
    "    else:\n",
    "        pass\n",
    "\n",
    "    \n",
    "\n",
    "\n",
    "nCom0 = [non- lr * grad for grad, non in zip(grad_non0, weig_non0)]\n",
    "\n",
    "nCom1 = [non- lr * grad for grad, non in zip(grad_non1, weig_non1)]\n",
    "\n",
    "xbest = [non -lr * grad for grad, non in zip(grad_best, weig_best)]\n",
    "\n",
    "\n",
    "# In[15]:\n",
    "\n",
    "\n",
    "upd2 = [\n",
    "    tf.assign(param_i, v)\n",
    "    for param_i, v in zip(wr[2], xbest)\n",
    "]\n",
    "\n",
    "upd2.extend(\n",
    "        [tf.assign(param_i, v)\n",
    "        for param_i, v in zip(xwr[2], xweig_best)]\n",
    "    )\n",
    "\n",
    "\n",
    "\n",
    "upd_bb2= K.function(inputs=input_tensors, outputs=[ losses[0], losses[1], losses[2], minlos, prediction[0], prediction[1], prediction[2] ], updates=upd2)\n",
    "\n",
    "\n",
    "\n",
    "\n",
    "\n",
    "\n",
    "lossepoch=[]\n",
    "lossepoch_test=[]\n",
    "lossx=[]\n",
    "acctra=[]\n",
    "loss_test=[]\n",
    "acc_test=[]\n",
    "skip=[]\n",
    "\n",
    "\n",
    "loss_val=[]\n",
    "acc_val=[]\n",
    "lossepoch_val=[]\n",
    "\n",
    "   \n",
    "for f in tqdm(range(epochs)):\n",
    "    program_starts = time.time()\n",
    "    tr1=[]\n",
    "    tr2=[]\n",
    "    res1=[]\n",
    "    res2=[]\n",
    "    res3=[]\n",
    "    res4=[]\n",
    "    print('Epoch', f)\n",
    "    print ('train')\n",
    "    \n",
    "    print('Using real-time data augmentation.')\n",
    "    # This will do preprocessing and realtime data augmentation:\n",
    "\n",
    "    batches = 0\n",
    "    for x_batch, y_batch in ImageDataGenerator().flow(x_train, y_train, batch_size=batch_size):\n",
    "        K.set_learning_phase(1)\n",
    "        inputs = [x_batch, # X\n",
    "                  np.ones(y_batch.shape[0]), # sample weights\n",
    "                  y_batch, # y\n",
    "                  1, # learning phase in Train mode\n",
    "                  x_batch, # X\n",
    "                  np.ones(y_batch.shape[0]), # sample weights\n",
    "                  y_batch, # y\n",
    "                  x_batch, # X\n",
    "                  np.ones(y_batch.shape[0]), # sample weights\n",
    "                  y_batch, # y\n",
    "                 ]\n",
    "        ll = upd_bb2(inputs)\n",
    "        yhat=ll[6]\n",
    "        #print (accuracy_score(np.argmax(y_batch,axis=1), np.argmax(yhat,axis=1)))\n",
    "        #print (ll[:4])\n",
    "        lossepoch.append(ll[2])\n",
    "        tr1.append(ll[2])\n",
    "        tr2.append(accuracy_score(np.argmax(y_batch,axis=1), np.argmax(yhat,axis=1)))\n",
    "        skip.append(ll[3])\n",
    "        batches += 1\n",
    "        if batches > len(x_train) / batch_size:\n",
    "            # we need to break the loop by hand because\n",
    "            # the generator loops indefinitely\n",
    "            break\n",
    "    m=(len(x_train) / batch_size)-int((len(x_train) / batch_size))\n",
    "    tr1[-1]*=m\n",
    "    tr2[-1]*=m\n",
    "    lossx.append(np.mean(tr1))\n",
    "    acctra.append(np.mean(tr2))\n",
    "    print ('train loss score is :'+str(np.mean(tr1)))\n",
    "    print ('train acc score is :'+str(np.mean(tr2)))\n",
    "    now = time.time()\n",
    "    print(\"It has been {0} seconds since the loop started\".format(now - program_starts))\n",
    "    print ('test')\n",
    "    batchesx = 0\n",
    "    \n",
    "    \n",
    "    \n",
    "    \n",
    "    print ('validation')\n",
    "    batchesx = 0\n",
    "    for x_batch, y_batch in ImageDataGenerator().flow(x_val, y_val, batch_size=batch_size):\n",
    "        K.set_learning_phase(0)\n",
    "        inputs = [x_batch, # X\n",
    "                  np.ones(y_batch.shape[0]), # sample weights\n",
    "                  y_batch, # y\n",
    "                  1, # learning phase in VAl mode\n",
    "                  x_batch, # X\n",
    "                  np.ones(y_batch.shape[0]), # sample weights\n",
    "                  y_batch, # y\n",
    "                  x_batch, # X\n",
    "                  np.ones(y_batch.shape[0]), # sample weights\n",
    "                  y_batch, # y\n",
    "                 ]\n",
    "        ll = upd_test(inputs)\n",
    "        yhat=ll[6]\n",
    "        #print (accuracy_score(np.argmax(y_batch,axis=1), np.argmax(yhat,axis=1)))\n",
    "        #print (ll[:3])\n",
    "        lossepoch_val.append(ll[2])\n",
    "        res3.append(ll[2])\n",
    "        res4.append(accuracy_score(np.argmax(y_batch,axis=1), np.argmax(yhat,axis=1)))\n",
    "        batchesx += 1\n",
    "        if batchesx >= len(x_val) / batch_size:\n",
    "            break\n",
    "    m=(len(x_val) / batch_size)-int((len(x_val) / batch_size))\n",
    "    res3[-1]*=m\n",
    "    res4[-1]*=m\n",
    "    loss_val.append(np.mean(res3))\n",
    "    acc_val.append(np.mean(res4))\n",
    "    print ('val loss score is :'+str(np.mean(res3)))\n",
    "    print ('val acc score is :'+str(np.mean(res4)))\n",
    "    \n",
    "    \n",
    "    \n",
    "    \n",
    "    print ('test')\n",
    "    batchesx = 0\n",
    "    for x_batch, y_batch in ImageDataGenerator().flow(x_test, y_test, batch_size=batch_size):\n",
    "        K.set_learning_phase(0)\n",
    "        inputs = [x_batch, # X\n",
    "                  np.ones(y_batch.shape[0]), # sample weights\n",
    "                  y_batch, # y\n",
    "                  1, # learning phase in TEST mode\n",
    "                  x_batch, # X\n",
    "                  np.ones(y_batch.shape[0]), # sample weights\n",
    "                  y_batch, # y\n",
    "                  x_batch, # X\n",
    "                  np.ones(y_batch.shape[0]), # sample weights\n",
    "                  y_batch, # y\n",
    "                 ]\n",
    "        ll = upd_test(inputs)\n",
    "        yhat=ll[6]\n",
    "        #print (accuracy_score(np.argmax(y_batch,axis=1), np.argmax(yhat,axis=1)))\n",
    "        #print (ll[:3])\n",
    "        lossepoch_test.append(ll[2])\n",
    "        res1.append(ll[2])\n",
    "        res2.append(accuracy_score(np.argmax(y_batch,axis=1), np.argmax(yhat,axis=1)))\n",
    "        batchesx += 1\n",
    "        if batchesx >= len(x_test) / batch_size:\n",
    "            break\n",
    "    m=(len(x_test) / batch_size)-int((len(x_test) / batch_size))\n",
    "    res1[-1]*=m\n",
    "    res2[-1]*=m\n",
    "    loss_test.append(np.mean(res1))\n",
    "    acc_test.append(np.mean(res2))\n",
    "    print ('test loss score is :'+str(np.mean(res1)))\n",
    "    print ('test acc score is :'+str(np.mean(res2)))\n",
    "\n"
   ]
  },
  {
   "cell_type": "code",
   "execution_count": 13,
   "metadata": {},
   "outputs": [],
   "source": [
    "#K.clear_session()"
   ]
  },
  {
   "cell_type": "code",
   "execution_count": 14,
   "metadata": {},
   "outputs": [
    {
     "name": "stdout",
     "output_type": "stream",
     "text": [
      "0.9784414556962026 98\n",
      "0.9756724683544303 44\n",
      "0.043060636007863605 15\n",
      "0.05530414520359345 15\n"
     ]
    }
   ],
   "source": [
    "print (np.max(acc_test), np.argmax(acc_test))\n",
    "print (np.max(acc_val), np.argmax(acc_val))\n",
    "print (np.min(loss_test), np.argmin(loss_test))\n",
    "print (np.min(loss_val), np.argmin(loss_val))\n"
   ]
  },
  {
   "cell_type": "code",
   "execution_count": 15,
   "metadata": {},
   "outputs": [],
   "source": [
    "np.savetxt(\"BASE_Mnist_lossepoch.csv\", lossepoch, delimiter=\",\", fmt='%s')\n",
    "np.savetxt(\"BASE_Mnist_lossepoch_test.csv\", lossepoch_test, delimiter=\",\", fmt='%s')\n",
    "np.savetxt(\"BASE_Mnist_loss_tra.csv\", lossx, delimiter=\",\", fmt='%s')\n",
    "np.savetxt(\"BASE_Mnist_skip.csv\", skip, delimiter=\",\", fmt='%s')\n",
    "np.savetxt(\"BASE_Mnist_acc_tra.csv\", acctra, delimiter=\",\", fmt='%s')\n",
    "np.savetxt(\"BASE_Mnist_loss_test.csv\", loss_test, delimiter=\",\", fmt='%s')\n",
    "np.savetxt(\"BASE_Mnist_acc_test.csv\", acc_test, delimiter=\",\", fmt='%s')"
   ]
  },
  {
   "cell_type": "code",
   "execution_count": null,
   "metadata": {},
   "outputs": [],
   "source": []
  }
 ],
 "metadata": {
  "kernelspec": {
   "display_name": "Python 2",
   "language": "python",
   "name": "python2"
  },
  "language_info": {
   "codemirror_mode": {
    "name": "ipython",
    "version": 2
   },
   "file_extension": ".py",
   "mimetype": "text/x-python",
   "name": "python",
   "nbconvert_exporter": "python",
   "pygments_lexer": "ipython2",
   "version": "2.7.16"
  }
 },
 "nbformat": 4,
 "nbformat_minor": 2
}
